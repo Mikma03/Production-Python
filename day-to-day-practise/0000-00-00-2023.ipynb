{
 "cells": [
  {
   "cell_type": "markdown",
   "metadata": {},
   "source": [
    "### Task:02\n",
    "Link: https://leetcode.com/problems/remove-element/\n",
    "\n",
    "Link to solution: https://www.youtube.com/watch?v=Pcd1ii9P9ZI\n",
    "\n",
    "Link to course: https://neetcode.io/courses/dsa-for-beginners/2"
   ]
  },
  {
   "cell_type": "markdown",
   "metadata": {},
   "source": [
    "Given an integer array `nums` and an integer `val`, remove all occurrences of `val` in `nums` [**in-place**](https://en.wikipedia.org/wiki/In-place_algorithm). The order of the elements may be changed. Then return _the number of elements in_ `nums` _which are not equal to_ `val`.\n",
    "\n",
    "Consider the number of elements in `nums` which are not equal to `val` be `k`, to get accepted, you need to do the following things:\n",
    "\n",
    "- Change the array `nums` such that the first `k` elements of `nums` contain the elements which are not equal to `val`. The remaining elements of `nums` are not important as well as the size of `nums`.\n",
    "- Return `k`.\n",
    "\n",
    "___\n",
    "\n",
    "**Custom Judge:**\n",
    "\n",
    "The judge will test your solution with the following code:\n",
    "\n",
    "int[] nums = [...]; // Input array\n",
    "int val = ...; // Value to remove\n",
    "int[] expectedNums = [...]; // The expected answer with correct length.\n",
    "                            // It is sorted with no values equaling val.\n",
    "\n",
    "int k = removeElement(nums, val); // Calls your implementation\n",
    "\n",
    "assert k == expectedNums.length;\n",
    "sort(nums, 0, k); // Sort the first k elements of nums\n",
    "for (int i = 0; i < actualLength; i++) {\n",
    "    assert nums[i] == expectedNums[i];\n",
    "}\n",
    "\n",
    "If all assertions pass, then your solution will be **accepted**.\n",
    "\n",
    "___\n",
    "\n",
    "**Example 1:**\n",
    "\n",
    "**Input:** nums = [3,2,2,3], val = 3\n",
    "\n",
    "**Output:** 2, nums = [2,2,_,_]\n",
    "\n",
    "**Explanation:** Your function should return k = 2, with the first two elements of nums being 2.\n",
    "It does not matter what you leave beyond the returned k (hence they are underscores).\n",
    "\n",
    "___\n",
    "\n",
    "**Example 2:**\n",
    "\n",
    "**Input:** nums = [0,1,2,2,3,0,4,2], val = 2\n",
    "\n",
    "**Output:** 5, nums = [0,1,4,0,3,_,_,_]\n",
    "\n",
    "**Explanation:** Your function should return k = 5, with the first five elements of nums containing 0, 0, 1, 3, and 4.\n",
    "Note that the five elements can be returned in any order.\n",
    "It does not matter what you leave beyond the returned k (hence they are underscores).\n",
    "\n",
    "___\n",
    "\n",
    "**Constraints:**\n",
    "\n",
    "- `0 <= nums.length <= 100`\n",
    "- `0 <= nums[i] <= 50`\n",
    "- `0 <= val <= 100`"
   ]
  },
  {
   "cell_type": "code",
   "execution_count": null,
   "metadata": {},
   "outputs": [],
   "source": [
    "# solution here"
   ]
  },
  {
   "cell_type": "markdown",
   "metadata": {},
   "source": [
    "## Dynamic Arrays"
   ]
  },
  {
   "cell_type": "markdown",
   "metadata": {},
   "source": [
    "### Task:01\n",
    "Link: https://leetcode.com/problems/concatenation-of-array/"
   ]
  },
  {
   "cell_type": "markdown",
   "metadata": {},
   "source": [
    "Given an integer array `nums` of length `n`, you want to create an array `ans` of length `2n` where `ans[i] == nums[i]` and `ans[i + n] == nums[i]` for `0 <= i < n` (**0-indexed**).\n",
    "\n",
    "Specifically, `ans` is the **concatenation** of two `nums` arrays.\n",
    "\n",
    "Return _the array_ `ans`.\n",
    "\n",
    "___\n",
    "\n",
    "**Example 1:**\n",
    "\n",
    "**Input:** nums = [1,2,1]\n",
    "\n",
    "**Output:** [1,2,1,1,2,1]\n",
    "\n",
    "**Explanation:** The array ans is formed as follows:\n",
    "- ans = [nums[0],nums[1],nums[2],nums[0],nums[1],nums[2]]\n",
    "- ans = [1,2,1,1,2,1]\n",
    "\n",
    "___\n",
    "\n",
    "**Example 2:**\n",
    "\n",
    "**Input:** nums = [1,3,2,1]\n",
    "\n",
    "**Output:** [1,3,2,1,1,3,2,1]\n",
    "\n",
    "**Explanation:** The array ans is formed as follows:\n",
    "- ans = [nums[0],nums[1],nums[2],nums[3],nums[0],nums[1],nums[2],nums[3]]\n",
    "- ans = [1,3,2,1,1,3,2,1]\n",
    "\n",
    "___\n",
    "\n",
    "**Constraints:**\n",
    "\n",
    "- `n == nums.length`\n",
    "- `1 <= n <= 1000`\n",
    "- `1 <= nums[i] <= 1000`"
   ]
  },
  {
   "cell_type": "code",
   "execution_count": null,
   "metadata": {},
   "outputs": [],
   "source": [
    "# solution here"
   ]
  },
  {
   "cell_type": "markdown",
   "metadata": {},
   "source": [
    "## Stacks"
   ]
  },
  {
   "cell_type": "markdown",
   "metadata": {},
   "source": [
    "### Task:01\n",
    "Link: https://leetcode.com/problems/baseball-game/"
   ]
  },
  {
   "cell_type": "markdown",
   "metadata": {},
   "source": [
    "You are keeping the scores for a baseball game with strange rules. At the beginning of the game, you start with an empty record.\n",
    "\n",
    "You are given a list of strings `operations`, where `operations[i]` is the `ith` operation you must apply to the record and is one of the following:\n",
    "\n",
    "- An integer `x`.\n",
    "    - Record a new score of `x`.\n",
    "- `'+'`.\n",
    "    - Record a new score that is the sum of the previous two scores.\n",
    "- `'D'`.\n",
    "    - Record a new score that is the double of the previous score.\n",
    "- `'C'`.\n",
    "    - Invalidate the previous score, removing it from the record.\n",
    "\n",
    "Return _the sum of all the scores on the record after applying all the operations_.\n",
    "\n",
    "The test cases are generated such that the answer and all intermediate calculations fit in a **32-bit** integer and that all operations are valid.\n",
    "\n",
    "___\n",
    "\n",
    "**Example 1:**\n",
    "\n",
    "**Input:** ops = [\"5\",\"2\",\"C\",\"D\",\"+\"]\n",
    "\n",
    "**Output:** 30\n",
    "\n",
    "**Explanation:**\n",
    "\n",
    "\"5\" - Add 5 to the record, record is now [5].\n",
    "\"2\" - Add 2 to the record, record is now [5, 2].\n",
    "\"C\" - Invalidate and remove the previous score, record is now [5].\n",
    "\"D\" - Add 2 * 5 = 10 to the record, record is now [5, 10].\n",
    "\"+\" - Add 5 + 10 = 15 to the record, record is now [5, 10, 15].\n",
    "The total sum is 5 + 10 + 15 = 30.\n",
    "\n",
    "___\n",
    "\n",
    "**Example 2:**\n",
    "\n",
    "**Input:** ops = [\"5\",\"-2\",\"4\",\"C\",\"D\",\"9\",\"+\",\"+\"]\n",
    "\n",
    "**Output:** 27\n",
    "\n",
    "**Explanation:**\n",
    "\n",
    "\"5\" - Add 5 to the record, record is now [5].\n",
    "\"-2\" - Add -2 to the record, record is now [5, -2].\n",
    "\"4\" - Add 4 to the record, record is now [5, -2, 4].\n",
    "\"C\" - Invalidate and remove the previous score, record is now [5, -2].\n",
    "\"D\" - Add 2 * -2 = -4 to the record, record is now [5, -2, -4].\n",
    "\"9\" - Add 9 to the record, record is now [5, -2, -4, 9].\n",
    "\"+\" - Add -4 + 9 = 5 to the record, record is now [5, -2, -4, 9, 5].\n",
    "\"+\" - Add 9 + 5 = 14 to the record, record is now [5, -2, -4, 9, 5, 14].\n",
    "The total sum is 5 + -2 + -4 + 9 + 5 + 14 = 27.\n",
    "\n",
    "___\n",
    "\n",
    "**Example 3:**\n",
    "\n",
    "**Input:** ops = [\"1\",\"C\"]\n",
    "\n",
    "**Output:** 0\n",
    "\n",
    "**Explanation:**\n",
    "\n",
    "\"1\" - Add 1 to the record, record is now [1].\n",
    "\"C\" - Invalidate and remove the previous score, record is now [].\n",
    "Since the record is empty, the total sum is 0.\n",
    "\n",
    "___\n",
    "\n",
    "**Constraints:**\n",
    "\n",
    "- `1 <= operations.length <= 1000`\n",
    "- `operations[i]` is `\"C\"`, `\"D\"`, `\"+\"`, or a string representing an integer in the range `[-3 * 104, 3 * 104]`.\n",
    "- For operation `\"+\"`, there will always be at least two previous scores on the record.\n",
    "- For operations `\"C\"` and `\"D\"`, there will always be at least one previous score on the record."
   ]
  },
  {
   "cell_type": "code",
   "execution_count": null,
   "metadata": {},
   "outputs": [],
   "source": [
    "# solution here"
   ]
  },
  {
   "cell_type": "markdown",
   "metadata": {},
   "source": [
    "### Task:02\n",
    "Link: https://leetcode.com/problems/valid-parentheses/"
   ]
  },
  {
   "cell_type": "markdown",
   "metadata": {},
   "source": [
    "Given a string `s` containing just the characters `'('`, `')'`, `'{'`, `'}'`, `'['` and `']'`, determine if the input string is valid.\n",
    "\n",
    "An input string is valid if:\n",
    "\n",
    "1. Open brackets must be closed by the same type of brackets.\n",
    "2. Open brackets must be closed in the correct order.\n",
    "3. Every close bracket has a corresponding open bracket of the same type.\n",
    "\n",
    "___\n",
    "\n",
    "**Example 1:**\n",
    "\n",
    "**Input:** s = \"()\"\n",
    "\n",
    "**Output:** true\n",
    "\n",
    "___\n",
    "\n",
    "**Example 2:**\n",
    "\n",
    "**Input:** s = \"()[]{}\"\n",
    "**Output:** true\n",
    "\n",
    "___\n",
    "\n",
    "**Example 3:**\n",
    "\n",
    "**Input:** s = \"(]\"\n",
    "**Output:** false\n",
    "\n",
    "___\n",
    "\n",
    "**Constraints:**\n",
    "\n",
    "- `1 <= s.length <= 104`\n",
    "- `s` consists of parentheses only `'()[]{}'`."
   ]
  },
  {
   "cell_type": "code",
   "execution_count": null,
   "metadata": {},
   "outputs": [],
   "source": [
    "# solution here"
   ]
  },
  {
   "cell_type": "markdown",
   "metadata": {},
   "source": [
    "### Task:03\n",
    "Link: https://leetcode.com/problems/min-stack/"
   ]
  },
  {
   "cell_type": "markdown",
   "metadata": {},
   "source": [
    "Design a stack that supports push, pop, top, and retrieving the minimum element in constant time.\n",
    "\n",
    "Implement the `MinStack` class:\n",
    "\n",
    "- `MinStack()` initializes the stack object.\n",
    "- `void push(int val)` pushes the element `val` onto the stack.\n",
    "- `void pop()` removes the element on the top of the stack.\n",
    "- `int top()` gets the top element of the stack.\n",
    "- `int getMin()` retrieves the minimum element in the stack.\n",
    "\n",
    "You must implement a solution with `O(1)` time complexity for each function.\n",
    "\n",
    "___\n",
    "\n",
    "**Example 1:**\n",
    "\n",
    "**Input**\n",
    "[\"MinStack\",\"push\",\"push\",\"push\",\"getMin\",\"pop\",\"top\",\"getMin\"]\n",
    "[[],[-2],[0],[-3],[],[],[],[]]\n",
    "\n",
    "**Output**\n",
    "[null,null,null,null,-3,null,0,-2]\n",
    "\n",
    "___\n",
    "\n",
    "**Explanation**\n",
    "MinStack minStack = new MinStack();\n",
    "minStack.push(-2);\n",
    "minStack.push(0);\n",
    "minStack.push(-3);\n",
    "minStack.getMin(); // return -3\n",
    "minStack.pop();\n",
    "minStack.top();    // return 0\n",
    "minStack.getMin(); // return -2\n",
    "\n",
    "___\n",
    "\n",
    "**Constraints:**\n",
    "\n",
    "- `-231 <= val <= 231 - 1`\n",
    "- Methods `pop`, `top` and `getMin` operations will always be called on **non-empty** stacks.\n",
    "- At most `3 * 104` calls will be made to `push`, `pop`, `top`, and `getMin`."
   ]
  },
  {
   "cell_type": "code",
   "execution_count": null,
   "metadata": {},
   "outputs": [],
   "source": [
    "# solution here"
   ]
  },
  {
   "cell_type": "markdown",
   "metadata": {},
   "source": [
    "## Singly Linked Lists"
   ]
  },
  {
   "cell_type": "markdown",
   "metadata": {},
   "source": [
    "### Task:01\n",
    "Link: https://leetcode.com/problems/reverse-linked-list/"
   ]
  },
  {
   "cell_type": "markdown",
   "metadata": {},
   "source": [
    "Given the `head` of a singly linked list, reverse the list, and return _the reversed list_.\n",
    "\n",
    "___\n",
    "\n",
    "**Example 1:**\n",
    "\n",
    "![](https://assets.leetcode.com/uploads/2021/02/19/rev1ex1.jpg)\n",
    "\n",
    "**Input:** head = [1,2,3,4,5]\n",
    "**Output:** [5,4,3,2,1]\n",
    "\n",
    "___\n",
    "\n",
    "**Example 2:**\n",
    "\n",
    "![](https://assets.leetcode.com/uploads/2021/02/19/rev1ex2.jpg)\n",
    "\n",
    "**Input:** head = [1,2]\n",
    "**Output:** [2,1]\n",
    "\n",
    "___\n",
    "\n",
    "**Example 3:**\n",
    "\n",
    "**Input:** head = []\n",
    "**Output:** []\n",
    "\n",
    "___\n",
    "\n",
    "**Constraints:**\n",
    "\n",
    "- The number of nodes in the list is the range `[0, 5000]`.\n",
    "- `-5000 <= Node.val <= 5000`\n",
    "\n",
    "___\n",
    "\n",
    "**Follow up:** A linked list can be reversed either iteratively or recursively. Could you implement both?"
   ]
  },
  {
   "cell_type": "code",
   "execution_count": null,
   "metadata": {},
   "outputs": [],
   "source": [
    "# solution here"
   ]
  },
  {
   "cell_type": "markdown",
   "metadata": {},
   "source": [
    "### Task:02\n",
    "Link: https://leetcode.com/problems/merge-two-sorted-lists/"
   ]
  },
  {
   "cell_type": "markdown",
   "metadata": {},
   "source": [
    "You are given the heads of two sorted linked lists `list1` and `list2`.\n",
    "\n",
    "Merge the two lists into one **sorted** list. The list should be made by splicing together the nodes of the first two lists.\n",
    "\n",
    "Return _the head of the merged linked list_.\n",
    "\n",
    "___\n",
    "\n",
    "**Example 1:**\n",
    "\n",
    "![](https://assets.leetcode.com/uploads/2020/10/03/merge_ex1.jpg)\n",
    "\n",
    "**Input:** list1 = [1,2,4], list2 = [1,3,4]\n",
    "**Output:** [1,1,2,3,4,4]\n",
    "\n",
    "___\n",
    "\n",
    "**Example 2:**\n",
    "\n",
    "**Input:** list1 = [], list2 = []\n",
    "**Output:** []\n",
    "\n",
    "___\n",
    "\n",
    "**Example 3:**\n",
    "\n",
    "**Input:** list1 = [], list2 = [0]\n",
    "**Output:** [0]\n",
    "\n",
    "___\n",
    "\n",
    "**Constraints:**\n",
    "\n",
    "- The number of nodes in both lists is in the range `[0, 50]`.\n",
    "- `-100 <= Node.val <= 100`\n",
    "- Both `list1` and `list2` are sorted in **non-decreasing** order."
   ]
  },
  {
   "cell_type": "code",
   "execution_count": null,
   "metadata": {},
   "outputs": [],
   "source": [
    "# solution here"
   ]
  },
  {
   "cell_type": "markdown",
   "metadata": {},
   "source": [
    "## Doubly Linked Lists"
   ]
  },
  {
   "cell_type": "markdown",
   "metadata": {},
   "source": [
    "### Task:01\n",
    "Link: https://leetcode.com/problems/design-linked-list/"
   ]
  },
  {
   "cell_type": "markdown",
   "metadata": {},
   "source": [
    "Design your implementation of the linked list. You can choose to use a singly or doubly linked list.  \n",
    "A node in a singly linked list should have two attributes: `val` and `next`. `val` is the value of the current node, and `next` is a pointer/reference to the next node.  \n",
    "If you want to use the doubly linked list, you will need one more attribute `prev` to indicate the previous node in the linked list. Assume all nodes in the linked list are **0-indexed**.\n",
    "\n",
    "Implement the `MyLinkedList` class:\n",
    "\n",
    "- `MyLinkedList()` Initializes the `MyLinkedList` object.\n",
    "- `int get(int index)` Get the value of the `indexth` node in the linked list. If the index is invalid, return `-1`.\n",
    "- `void addAtHead(int val)` Add a node of value `val` before the first element of the linked list. After the insertion, the new node will be the first node of the linked list.\n",
    "- `void addAtTail(int val)` Append a node of value `val` as the last element of the linked list.\n",
    "- `void addAtIndex(int index, int val)` Add a node of value `val` before the `indexth` node in the linked list. If `index` equals the length of the linked list, the node will be appended to the end of the linked list. If `index` is greater than the length, the node **will not be inserted**.\n",
    "- `void deleteAtIndex(int index)` Delete the `indexth` node in the linked list, if the index is valid.\n",
    "\n",
    "___\n",
    "\n",
    "**Example 1:**\n",
    "\n",
    "**Input**\n",
    "[\"MyLinkedList\", \"addAtHead\", \"addAtTail\", \"addAtIndex\", \"get\", \"deleteAtIndex\", \"get\"]\n",
    "[[], [1], [3], [1, 2], [1], [1], [1]]\n",
    "**Output**\n",
    "[null, null, null, null, 2, null, 3]\n",
    "\n",
    "___\n",
    "\n",
    "**Explanation**\n",
    "MyLinkedList myLinkedList = new MyLinkedList();\n",
    "myLinkedList.addAtHead(1);\n",
    "myLinkedList.addAtTail(3);\n",
    "myLinkedList.addAtIndex(1, 2);    // linked list becomes 1->2->3\n",
    "myLinkedList.get(1);              // return 2\n",
    "myLinkedList.deleteAtIndex(1);    // now the linked list is 1->3\n",
    "myLinkedList.get(1);              // return 3\n",
    "\n",
    "___\n",
    "\n",
    "**Constraints:**\n",
    "\n",
    "- `0 <= index, val <= 1000`\n",
    "- Please do not use the built-in LinkedList library.\n",
    "- At most `2000` calls will be made to `get`, `addAtHead`, `addAtTail`, `addAtIndex` and `deleteAtIndex`."
   ]
  },
  {
   "cell_type": "code",
   "execution_count": null,
   "metadata": {},
   "outputs": [],
   "source": [
    "# solution here"
   ]
  },
  {
   "cell_type": "markdown",
   "metadata": {},
   "source": [
    "### Task:02\n",
    "Link: https://leetcode.com/problems/design-browser-history/"
   ]
  },
  {
   "cell_type": "markdown",
   "metadata": {},
   "source": [
    "You have a **browser** of one tab where you start on the `homepage` and you can visit another `url`, get back in the history number of `steps` or move forward in the history number of `steps`.\n",
    "\n",
    "Implement the `BrowserHistory` class:\n",
    "\n",
    "- `BrowserHistory(string homepage)` Initializes the object with the `homepage` of the browser.\n",
    "- `void visit(string url)` Visits `url` from the current page. It clears up all the forward history.\n",
    "- `string back(int steps)` Move `steps` back in history. If you can only return `x` steps in the history and `steps > x`, you will return only `x` steps. Return the current `url` after moving back in history **at most** `steps`.\n",
    "- `string forward(int steps)` Move `steps` forward in history. If you can only forward `x` steps in the history and `steps > x`, you will forward only `x` steps. Return the current `url` after forwarding in history **at most** `steps`.\n",
    "\n",
    "___\n",
    "\n",
    "**Example:**\n",
    "\n",
    "**Input:**\n",
    "[\"BrowserHistory\",\"visit\",\"visit\",\"visit\",\"back\",\"back\",\"forward\",\"visit\",\"forward\",\"back\",\"back\"]\n",
    "[[\"leetcode.com\"],[\"google.com\"],[\"facebook.com\"],[\"youtube.com\"],[1],[1],[1],[\"linkedin.com\"],[2],[2],[7]]\n",
    "**Output:**\n",
    "[null,null,null,null,\"facebook.com\",\"google.com\",\"facebook.com\",null,\"linkedin.com\",\"google.com\",\"leetcode.com\"]\n",
    "\n",
    "___\n",
    "\n",
    "**Explanation:**\n",
    "- BrowserHistory browserHistory = new BrowserHistory(\"leetcode.com\");\n",
    "- browserHistory.visit(\"google.com\");       // You are in \"leetcode.com\". Visit \"google.com\"\n",
    "- browserHistory.visit(\"facebook.com\");     // You are in \"google.com\". Visit \"facebook.com\"\n",
    "- browserHistory.visit(\"youtube.com\");      // You are in \"facebook.com\". Visit \"youtube.com\"\n",
    "- browserHistory.back(1);                   // You are in \"youtube.com\", move back to \"facebook.com\" return \"facebook.com\"\n",
    "- browserHistory.back(1);                   // You are in \"facebook.com\", move back to \"google.com\" return \"google.com\"\n",
    "- browserHistory.forward(1);                // You are in \"google.com\", move forward to \"facebook.com\" return \"facebook.com\"\n",
    "- browserHistory.visit(\"linkedin.com\");     // You are in \"facebook.com\". Visit \"linkedin.com\"\n",
    "- browserHistory.forward(2);                // You are in \"linkedin.com\", you cannot move forward any steps.\n",
    "- browserHistory.back(2);                   // You are in \"linkedin.com\", move back two steps to \"facebook.com\" then to \"google.com\". return \"google.com\"\n",
    "- browserHistory.back(7);                   // You are in \"google.com\", you can move back only one step to \"leetcode.com\". return \"leetcode.com\"\n",
    "\n",
    "___\n",
    "\n",
    "**Constraints:**\n",
    "\n",
    "- `1 <= homepage.length <= 20`\n",
    "- `1 <= url.length <= 20`\n",
    "- `1 <= steps <= 100`\n",
    "- `homepage` and `url` consist of  '.' or lower case English letters.\n",
    "- At most `5000` calls will be made to `visit`, `back`, and `forward`."
   ]
  },
  {
   "cell_type": "code",
   "execution_count": null,
   "metadata": {},
   "outputs": [],
   "source": [
    "# solution here"
   ]
  },
  {
   "cell_type": "markdown",
   "metadata": {},
   "source": [
    "## Queues"
   ]
  },
  {
   "cell_type": "markdown",
   "metadata": {},
   "source": [
    "### Task:01\n",
    "Link: https://leetcode.com/problems/number-of-students-unable-to-eat-lunch/"
   ]
  },
  {
   "cell_type": "markdown",
   "metadata": {},
   "source": [
    "The school cafeteria offers circular and square sandwiches at lunch break, referred to by numbers `0` and `1` respectively. All students stand in a queue. Each student either prefers square or circular sandwiches.\n",
    "\n",
    "The number of sandwiches in the cafeteria is equal to the number of students. The sandwiches are placed in a **stack**. At each step:\n",
    "\n",
    "- If the student at the front of the queue **prefers** the sandwich on the top of the stack, they will **take it** and leave the queue.\n",
    "- Otherwise, they will **leave it** and go to the queue's end.\n",
    "\n",
    "This continues until none of the queue students want to take the top sandwich and are thus unable to eat.\n",
    "\n",
    "You are given two integer arrays `students` and `sandwiches` where `sandwiches[i]` is the type of the `i​​​​​​th` sandwich in the stack (`i = 0` is the top of the stack) and `students[j]` is the preference of the `j​​​​​​th` student in the initial queue (`j = 0` is the front of the queue). Return _the number of students that are unable to eat._\n",
    "\n",
    "___\n",
    "\n",
    "**Example 1:**\n",
    "\n",
    "**Input:** students = [1,1,0,0], sandwiches = [0,1,0,1]\n",
    "**Output:** 0 \n",
    "**Explanation:**\n",
    "- Front student leaves the top sandwich and returns to the end of the line making students = [1,0,0,1].\n",
    "- Front student leaves the top sandwich and returns to the end of the line making students = [0,0,1,1].\n",
    "- Front student takes the top sandwich and leaves the line making students = [0,1,1] and sandwiches = [1,0,1].\n",
    "- Front student leaves the top sandwich and returns to the end of the line making students = [1,1,0].\n",
    "- Front student takes the top sandwich and leaves the line making students = [1,0] and sandwiches = [0,1].\n",
    "- Front student leaves the top sandwich and returns to the end of the line making students = [0,1].\n",
    "- Front student takes the top sandwich and leaves the line making students = [1] and sandwiches = [1].\n",
    "- Front student takes the top sandwich and leaves the line making students = [] and sandwiches = [].\n",
    "Hence all students are able to eat.\n",
    "\n",
    "___\n",
    "\n",
    "**Example 2:**\n",
    "\n",
    "**Input:** students = [1,1,1,0,0,1], sandwiches = [1,0,0,0,1,1]\n",
    "**Output:** 3\n",
    "\n",
    "___\n",
    "\n",
    "**Constraints:**\n",
    "\n",
    "- `1 <= students.length, sandwiches.length <= 100`\n",
    "- `students.length == sandwiches.length`\n",
    "- `sandwiches[i]` is `0` or `1`.\n",
    "- `students[i]` is `0` or `1`."
   ]
  },
  {
   "cell_type": "code",
   "execution_count": null,
   "metadata": {},
   "outputs": [],
   "source": [
    "# solution here"
   ]
  },
  {
   "cell_type": "markdown",
   "metadata": {},
   "source": [
    "### Task:02\n",
    "Link: https://leetcode.com/problems/implement-stack-using-queues/"
   ]
  },
  {
   "cell_type": "markdown",
   "metadata": {},
   "source": [
    "Implement a last-in-first-out (LIFO) stack using only two queues. The implemented stack should support all the functions of a normal stack (`push`, `top`, `pop`, and `empty`).\n",
    "\n",
    "Implement the `MyStack` class:\n",
    "\n",
    "- `void push(int x)` Pushes element x to the top of the stack.\n",
    "- `int pop()` Removes the element on the top of the stack and returns it.\n",
    "- `int top()` Returns the element on the top of the stack.\n",
    "- `boolean empty()` Returns `true` if the stack is empty, `false` otherwise.\n",
    "\n",
    "___\n",
    "\n",
    "**Notes:**\n",
    "\n",
    "- You must use **only** standard operations of a queue, which means that only `push to back`, `peek/pop from front`, `size` and `is empty` operations are valid.\n",
    "- Depending on your language, the queue may not be supported natively. You may simulate a queue using a list or deque (double-ended queue) as long as you use only a queue's standard operations.\n",
    "\n",
    "___\n",
    "\n",
    "**Example 1:**\n",
    "\n",
    "**Input**\n",
    "[\"MyStack\", \"push\", \"push\", \"top\", \"pop\", \"empty\"]\n",
    "[[], [1], [2], [], [], []]\n",
    "**Output**\n",
    "[null, null, null, 2, 2, false]\n",
    "\n",
    "___\n",
    "\n",
    "**Explanation**\n",
    "MyStack myStack = new MyStack();\n",
    "myStack.push(1);\n",
    "myStack.push(2);\n",
    "myStack.top(); // return 2\n",
    "myStack.pop(); // return 2\n",
    "myStack.empty(); // return False\n",
    "\n",
    "___\n",
    "\n",
    "**Constraints:**\n",
    "\n",
    "- `1 <= x <= 9`\n",
    "- At most `100` calls will be made to `push`, `pop`, `top`, and `empty`.\n",
    "- All the calls to `pop` and `top` are valid.\n",
    "\n",
    "**Follow-up:** Can you implement the stack using only one queue?"
   ]
  },
  {
   "cell_type": "code",
   "execution_count": null,
   "metadata": {},
   "outputs": [],
   "source": [
    "# solution here"
   ]
  },
  {
   "cell_type": "markdown",
   "metadata": {},
   "source": [
    "## Recursion"
   ]
  },
  {
   "cell_type": "markdown",
   "metadata": {},
   "source": [
    "### Task:01\n",
    "Link: https://leetcode.com/problems/reverse-linked-list/"
   ]
  },
  {
   "cell_type": "markdown",
   "metadata": {},
   "source": [
    "Given the `head` of a singly linked list, reverse the list, and return _the reversed list_.\n",
    "\n",
    "___\n",
    "\n",
    "**Example 1:**\n",
    "\n",
    "![](https://assets.leetcode.com/uploads/2021/02/19/rev1ex1.jpg)\n",
    "\n",
    "**Input:** head = [1,2,3,4,5]\n",
    "**Output:** [5,4,3,2,1]\n",
    "\n",
    "___\n",
    "\n",
    "**Example 2:**\n",
    "\n",
    "![](https://assets.leetcode.com/uploads/2021/02/19/rev1ex2.jpg)\n",
    "\n",
    "**Input:** head = [1,2]\n",
    "**Output:** [2,1]\n",
    "\n",
    "___\n",
    "\n",
    "**Example 3:**\n",
    "\n",
    "**Input:** head = []\n",
    "**Output:** []\n",
    "\n",
    "**Constraints:**\n",
    "\n",
    "- The number of nodes in the list is the range `[0, 5000]`.\n",
    "- `-5000 <= Node.val <= 5000`\n",
    "\n",
    "___\n",
    "\n",
    "**Follow up:** A linked list can be reversed either iteratively or recursively. Could you implement both?"
   ]
  },
  {
   "cell_type": "code",
   "execution_count": null,
   "metadata": {},
   "outputs": [],
   "source": [
    "# solution here"
   ]
  },
  {
   "cell_type": "markdown",
   "metadata": {},
   "source": [
    "### Task:02\n",
    "Link: https://leetcode.com/problems/fibonacci-number/"
   ]
  },
  {
   "cell_type": "markdown",
   "metadata": {},
   "source": [
    "The **Fibonacci numbers**, commonly denoted `F(n)` form a sequence, called the **Fibonacci sequence**, such that each number is the sum of the two preceding ones, starting from `0` and `1`. That is,\n",
    "\n",
    "F(0) = 0, F(1) = 1\n",
    "F(n) = F(n - 1) + F(n - 2), for n > 1.\n",
    "\n",
    "Given `n`, calculate `F(n)`.\n",
    "\n",
    "___\n",
    "\n",
    "**Example 1:**\n",
    "\n",
    "**Input:** n = 2\n",
    "**Output:** 1\n",
    "**Explanation:** F(2) = F(1) + F(0) = 1 + 0 = 1.\n",
    "\n",
    "___\n",
    "\n",
    "**Example 2:**\n",
    "\n",
    "**Input:** n = 3\n",
    "**Output:** 2\n",
    "**Explanation:** F(3) = F(2) + F(1) = 1 + 1 = 2.\n",
    "\n",
    "___\n",
    "\n",
    "**Example 3:**\n",
    "\n",
    "**Input:** n = 4\n",
    "**Output:** 3\n",
    "**Explanation:** F(4) = F(3) + F(2) = 2 + 1 = 3.\n",
    "\n",
    "___\n",
    "\n",
    "**Constraints:**\n",
    "\n",
    "- `0 <= n <= 30`"
   ]
  },
  {
   "cell_type": "code",
   "execution_count": null,
   "metadata": {},
   "outputs": [],
   "source": [
    "# solution here"
   ]
  },
  {
   "cell_type": "markdown",
   "metadata": {},
   "source": [
    "### Task:03\n",
    "Link: https://leetcode.com/problems/climbing-stairs/"
   ]
  },
  {
   "cell_type": "markdown",
   "metadata": {},
   "source": [
    "You are climbing a staircase. It takes `n` steps to reach the top.\n",
    "\n",
    "Each time you can either climb `1` or `2` steps. In how many distinct ways can you climb to the top?\n",
    "\n",
    "___\n",
    "\n",
    "**Example 1:**\n",
    "\n",
    "**Input:** n = 2\n",
    "**Output:** 2\n",
    "**Explanation:** There are two ways to climb to the top.\n",
    "1. 1 step + 1 step\n",
    "2. 2 steps\n",
    "\n",
    "___\n",
    "\n",
    "**Example 2:**\n",
    "\n",
    "**Input:** n = 3\n",
    "**Output:** 3\n",
    "**Explanation:** There are three ways to climb to the top.\n",
    "1. 1 step + 1 step + 1 step\n",
    "2. 1 step + 2 steps\n",
    "3. 2 steps + 1 step\n",
    "\n",
    "___\n",
    "\n",
    "**Constraints:**\n",
    "\n",
    "- `1 <= n <= 45`"
   ]
  },
  {
   "cell_type": "code",
   "execution_count": null,
   "metadata": {},
   "outputs": [],
   "source": [
    "# solution here"
   ]
  },
  {
   "cell_type": "markdown",
   "metadata": {},
   "source": [
    "## Arrays & Hashing\n",
    "\n",
    "From RoadMap: https://neetcode.io/roadmap"
   ]
  },
  {
   "cell_type": "markdown",
   "metadata": {},
   "source": [
    "### Task: 01\n",
    "Link: https://leetcode.com/problems/contains-duplicate/"
   ]
  },
  {
   "cell_type": "markdown",
   "metadata": {},
   "source": [
    "Given an integer array `nums`, return `true` if any value appears **at least twice** in the array, and return `false` if every element is distinct.\n",
    "\n",
    "**Example 1:**\n",
    "\n",
    "**Input:** nums = [1,2,3,1]\n",
    "**Output:** true\n",
    "\n",
    "**Example 2:**\n",
    "\n",
    "**Input:** nums = [1,2,3,4]\n",
    "**Output:** false\n",
    "\n",
    "**Example 3:**\n",
    "\n",
    "**Input:** nums = [1,1,1,3,3,4,3,2,4,2]\n",
    "**Output:** true"
   ]
  },
  {
   "cell_type": "code",
   "execution_count": null,
   "metadata": {},
   "outputs": [],
   "source": [
    "# solution here"
   ]
  },
  {
   "cell_type": "markdown",
   "metadata": {},
   "source": [
    "### Task: 02\n",
    "Link: https://leetcode.com/problems/valid-anagram/"
   ]
  },
  {
   "cell_type": "markdown",
   "metadata": {},
   "source": [
    "Given two strings `s` and `t`, return `true` _if_ `t` _is an anagram of_ `s`_, and_ `false` _otherwise_.\n",
    "\n",
    "An **Anagram** is a word or phrase formed by rearranging the letters of a different word or phrase, typically using all the original letters exactly once.\n",
    "\n",
    "**Example 1:**\n",
    "\n",
    "**Input:** s = \"anagram\", t = \"nagaram\"\n",
    "**Output:** true\n",
    "\n",
    "**Example 2:**\n",
    "\n",
    "**Input:** s = \"rat\", t = \"car\"\n",
    "**Output:** false"
   ]
  },
  {
   "cell_type": "code",
   "execution_count": null,
   "metadata": {},
   "outputs": [],
   "source": [
    "# solution here"
   ]
  },
  {
   "cell_type": "markdown",
   "metadata": {},
   "source": [
    "### Task: 03\n",
    "Link: https://leetcode.com/problems/two-sum/"
   ]
  },
  {
   "cell_type": "markdown",
   "metadata": {},
   "source": [
    "Given an array of integers nums and an integer target, return indices of the two numbers such that they add up to target.\n",
    "\n",
    "You may assume that each input would have exactly one solution, and you may not use the same element twice.\n",
    "\n",
    "You can return the answer in any order.\n",
    "\n",
    " \n",
    "\n",
    "Example 1:\n",
    "\n",
    "Input: nums = [2,7,11,15], target = 9\n",
    "Output: [0,1]\n",
    "Explanation: Because nums[0] + nums[1] == 9, we return [0, 1].\n",
    "Example 2:\n",
    "\n",
    "Input: nums = [3,2,4], target = 6\n",
    "Output: [1,2]\n",
    "Example 3:\n",
    "\n",
    "Input: nums = [3,3], target = 6\n",
    "Output: [0,1]\n",
    " "
   ]
  },
  {
   "cell_type": "code",
   "execution_count": null,
   "metadata": {},
   "outputs": [],
   "source": [
    "# solution here"
   ]
  },
  {
   "cell_type": "markdown",
   "metadata": {},
   "source": [
    "### Task: 04\n",
    "Link: https://leetcode.com/problems/group-anagrams/"
   ]
  },
  {
   "cell_type": "markdown",
   "metadata": {},
   "source": [
    "Given an array of strings `strs`, group **the anagrams** together. You can return the answer in **any order**.\n",
    "\n",
    "An **Anagram** is a word or phrase formed by rearranging the letters of a different word or phrase, typically using all the original letters exactly once.\n",
    "\n",
    "**Example 1:**\n",
    "\n",
    "**Input:** strs = [\"eat\",\"tea\",\"tan\",\"ate\",\"nat\",\"bat\"]\n",
    "**Output:** [[\"bat\"],[\"nat\",\"tan\"],[\"ate\",\"eat\",\"tea\"]]\n",
    "\n",
    "**Example 2:**\n",
    "\n",
    "**Input:** strs = [\"\"]\n",
    "**Output:** [[\"\"]]\n",
    "\n",
    "**Example 3:**\n",
    "\n",
    "**Input:** strs = [\"a\"]\n",
    "**Output:** [[\"a\"]]"
   ]
  },
  {
   "cell_type": "code",
   "execution_count": null,
   "metadata": {},
   "outputs": [],
   "source": [
    "# solution here"
   ]
  },
  {
   "cell_type": "markdown",
   "metadata": {},
   "source": [
    "### Task: 05\n",
    "Link: https://leetcode.com/problems/top-k-frequent-elements/"
   ]
  },
  {
   "cell_type": "markdown",
   "metadata": {},
   "source": [
    "Given an integer array `nums` and an integer `k`, return _the_ `k` _most frequent elements_. You may return the answer in **any order**.\n",
    "\n",
    "**Example 1:**\n",
    "\n",
    "**Input:** nums = [1,1,1,2,2,3], k = 2\n",
    "**Output:** [1,2]\n",
    "\n",
    "**Example 2:**\n",
    "\n",
    "**Input:** nums = [1], k = 1\n",
    "**Output:** [1]"
   ]
  },
  {
   "cell_type": "code",
   "execution_count": null,
   "metadata": {},
   "outputs": [],
   "source": [
    "# solution here"
   ]
  },
  {
   "cell_type": "markdown",
   "metadata": {},
   "source": [
    "### Task: 06\n",
    "Link: https://leetcode.com/problems/product-of-array-except-self/"
   ]
  },
  {
   "cell_type": "markdown",
   "metadata": {},
   "source": [
    "Given an integer array nums, return an array answer such that answer[i] is equal to the product of all the elements of nums except nums[i].\n",
    "\n",
    "The product of any prefix or suffix of nums is guaranteed to fit in a 32-bit integer.\n",
    "\n",
    "You must write an algorithm that runs in O(n) time and without using the division operation.\n",
    "\n",
    " \n",
    "\n",
    "Example 1:\n",
    "\n",
    "Input: nums = [1,2,3,4]\n",
    "Output: [24,12,8,6]\n",
    "Example 2:\n",
    "\n",
    "Input: nums = [-1,1,0,-3,3]\n",
    "Output: [0,0,9,0,0]"
   ]
  },
  {
   "cell_type": "code",
   "execution_count": null,
   "metadata": {},
   "outputs": [],
   "source": [
    "# solution here"
   ]
  },
  {
   "cell_type": "markdown",
   "metadata": {},
   "source": [
    "### Task: 07\n",
    "Link: https://leetcode.com/problems/valid-sudoku/"
   ]
  },
  {
   "cell_type": "markdown",
   "metadata": {},
   "source": [
    "Determine if a `9 x 9` Sudoku board is valid. Only the filled cells need to be validated **according to the following rules**:\n",
    "\n",
    "1. Each row must contain the digits `1-9` without repetition.\n",
    "2. Each column must contain the digits `1-9` without repetition.\n",
    "3. Each of the nine `3 x 3` sub-boxes of the grid must contain the digits `1-9` without repetition.\n",
    "\n",
    "**Note:**\n",
    "\n",
    "- A Sudoku board (partially filled) could be valid but is not necessarily solvable.\n",
    "- Only the filled cells need to be validated according to the mentioned rules.\n",
    "\n",
    "**Example 1:**\n",
    "\n",
    "![](https://upload.wikimedia.org/wikipedia/commons/thumb/f/ff/Sudoku-by-L2G-20050714.svg/250px-Sudoku-by-L2G-20050714.svg.png)\n",
    "\n",
    "**Input:** board = \n",
    "[[\"5\",\"3\",\".\",\".\",\"7\",\".\",\".\",\".\",\".\"]\n",
    ",[\"6\",\".\",\".\",\"1\",\"9\",\"5\",\".\",\".\",\".\"]\n",
    ",[\".\",\"9\",\"8\",\".\",\".\",\".\",\".\",\"6\",\".\"]\n",
    ",[\"8\",\".\",\".\",\".\",\"6\",\".\",\".\",\".\",\"3\"]\n",
    ",[\"4\",\".\",\".\",\"8\",\".\",\"3\",\".\",\".\",\"1\"]\n",
    ",[\"7\",\".\",\".\",\".\",\"2\",\".\",\".\",\".\",\"6\"]\n",
    ",[\".\",\"6\",\".\",\".\",\".\",\".\",\"2\",\"8\",\".\"]\n",
    ",[\".\",\".\",\".\",\"4\",\"1\",\"9\",\".\",\".\",\"5\"]\n",
    ",[\".\",\".\",\".\",\".\",\"8\",\".\",\".\",\"7\",\"9\"]]\n",
    "\n",
    "**Output:** true\n",
    "\n",
    "**Example 2:**\n",
    "\n",
    "**Input:** board = \n",
    "[[\"8\",\"3\",\".\",\".\",\"7\",\".\",\".\",\".\",\".\"]\n",
    ",[\"6\",\".\",\".\",\"1\",\"9\",\"5\",\".\",\".\",\".\"]\n",
    ",[\".\",\"9\",\"8\",\".\",\".\",\".\",\".\",\"6\",\".\"]\n",
    ",[\"8\",\".\",\".\",\".\",\"6\",\".\",\".\",\".\",\"3\"]\n",
    ",[\"4\",\".\",\".\",\"8\",\".\",\"3\",\".\",\".\",\"1\"]\n",
    ",[\"7\",\".\",\".\",\".\",\"2\",\".\",\".\",\".\",\"6\"]\n",
    ",[\".\",\"6\",\".\",\".\",\".\",\".\",\"2\",\"8\",\".\"]\n",
    ",[\".\",\".\",\".\",\"4\",\"1\",\"9\",\".\",\".\",\"5\"]\n",
    ",[\".\",\".\",\".\",\".\",\"8\",\".\",\".\",\"7\",\"9\"]]\n",
    "\n",
    "**Output:** false\n",
    "\n",
    "**Explanation:** Same as Example 1, except with the **5** in the top left corner being modified to **8**. Since there are two 8's in the top left 3x3 sub-box, it is invalid."
   ]
  },
  {
   "cell_type": "code",
   "execution_count": null,
   "metadata": {},
   "outputs": [],
   "source": [
    "# solution here"
   ]
  },
  {
   "cell_type": "markdown",
   "metadata": {},
   "source": [
    "### Task: 08\n",
    "Link: https://www.lintcode.com/problem/659/"
   ]
  },
  {
   "cell_type": "markdown",
   "metadata": {},
   "source": [
    "Design an algorithm to encode a list of strings to a string. The encoded string is then sent over the network and is decoded back to the original list of strings.\n",
    "\n",
    "Please implement `encode` and `decode`\n",
    "\n",
    "Only $39.9 for the \"Twitter Comment System Project Practice\" within a limited time of 7 days!\n",
    "\n",
    "WeChat Notes Twitter for more information（WeChat ID jiuzhang15）\n",
    "\n",
    "Example\n",
    "\n",
    "**Example1**\n",
    "\n",
    "```\n",
    "Input: [\"lint\",\"code\",\"love\",\"you\"]\n",
    "Output: [\"lint\",\"code\",\"love\",\"you\"]\n",
    "Explanation:\n",
    "One possible encode method is: \"lint:;code:;love:;you\"\n",
    "```\n",
    "\n",
    "**Example2**\n",
    "\n",
    "```\n",
    "Input: [\"we\", \"say\", \":\", \"yes\"]\n",
    "Output: [\"we\", \"say\", \":\", \"yes\"]\n",
    "Explanation:\n",
    "One possible encode method is: \"we:;say:;:::;yes\"\n",
    "```"
   ]
  },
  {
   "cell_type": "code",
   "execution_count": null,
   "metadata": {},
   "outputs": [],
   "source": [
    "# solution here"
   ]
  },
  {
   "cell_type": "markdown",
   "metadata": {},
   "source": [
    "### Task: 09\n",
    "Link: https://leetcode.com/problems/longest-consecutive-sequence/"
   ]
  },
  {
   "cell_type": "markdown",
   "metadata": {},
   "source": [
    "Given an unsorted array of integers `nums`, return _the length of the longest consecutive elements sequence._\n",
    "\n",
    "You must write an algorithm that runs in `O(n)` time.\n",
    "\n",
    "**Example 1:**\n",
    "\n",
    "**Input:** nums = [100,4,200,1,3,2]\n",
    "**Output:** 4\n",
    "**Explanation:** The longest consecutive elements sequence is `[1, 2, 3, 4]`. Therefore its length is 4.\n",
    "\n",
    "**Example 2:**\n",
    "\n",
    "**Input:** nums = [0,3,7,2,5,8,4,6,0,1]\n",
    "**Output:** 9"
   ]
  },
  {
   "cell_type": "code",
   "execution_count": null,
   "metadata": {},
   "outputs": [],
   "source": [
    "# solution here"
   ]
  }
 ],
 "metadata": {
  "kernelspec": {
   "display_name": "my-env-quant",
   "language": "python",
   "name": "python3"
  },
  "language_info": {
   "codemirror_mode": {
    "name": "ipython",
    "version": 3
   },
   "file_extension": ".py",
   "mimetype": "text/x-python",
   "name": "python",
   "nbconvert_exporter": "python",
   "pygments_lexer": "ipython3",
   "version": "3.11.0"
  },
  "orig_nbformat": 4
 },
 "nbformat": 4,
 "nbformat_minor": 2
}
