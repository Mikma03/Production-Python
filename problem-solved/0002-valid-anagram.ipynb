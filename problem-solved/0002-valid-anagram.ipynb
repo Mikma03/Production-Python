{
 "cells": [
  {
   "cell_type": "code",
   "execution_count": 3,
   "metadata": {},
   "outputs": [
    {
     "name": "stdout",
     "output_type": "stream",
     "text": [
      "True\n",
      "None\n"
     ]
    }
   ],
   "source": [
    "class Solution:\n",
    "    def isAnagram(self, s: str, t: str) -> bool:\n",
    "\n",
    "        hashset_A = set(s)\n",
    "        # print(hashset_A)\n",
    "\n",
    "        hashset_T = set(t)\n",
    "        # print(hashset_T)\n",
    "\n",
    "        if hashset_A == hashset_T:\n",
    "            return True\n",
    "        else:\n",
    "            False\n",
    "\n",
    "\n",
    "if __name__ == '__main__':\n",
    "    s = \"anagramm\"\n",
    "    t = \"nagaram\"\n",
    "    solution = Solution()\n",
    "    print(solution.isAnagram(s, t))\n",
    "\n",
    "    s = \"rat\"\n",
    "    t = \"car\"\n",
    "    print(solution.isAnagram(s, t))"
   ]
  },
  {
   "cell_type": "code",
   "execution_count": null,
   "metadata": {},
   "outputs": [],
   "source": []
  },
  {
   "cell_type": "code",
   "execution_count": null,
   "metadata": {},
   "outputs": [],
   "source": []
  },
  {
   "cell_type": "code",
   "execution_count": null,
   "metadata": {},
   "outputs": [],
   "source": []
  }
 ],
 "metadata": {
  "kernelspec": {
   "display_name": "my-env-quant",
   "language": "python",
   "name": "python3"
  },
  "language_info": {
   "codemirror_mode": {
    "name": "ipython",
    "version": 3
   },
   "file_extension": ".py",
   "mimetype": "text/x-python",
   "name": "python",
   "nbconvert_exporter": "python",
   "pygments_lexer": "ipython3",
   "version": "3.11.0"
  },
  "orig_nbformat": 4
 },
 "nbformat": 4,
 "nbformat_minor": 2
}
