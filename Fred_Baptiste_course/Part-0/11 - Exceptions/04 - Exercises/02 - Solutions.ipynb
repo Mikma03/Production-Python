{
 "cells": [
  {
   "cell_type": "markdown",
   "id": "laughing-stick",
   "metadata": {},
   "source": [
    "### Solutions"
   ]
  },
  {
   "cell_type": "markdown",
   "id": "agricultural-cookie",
   "metadata": {},
   "source": [
    "#### Question 1"
   ]
  },
  {
   "cell_type": "markdown",
   "id": "temporal-february",
   "metadata": {},
   "source": [
    "The following code is meant to calculate the smallest absolute value of a given sequence of numbers."
   ]
  },
  {
   "cell_type": "code",
   "execution_count": 1,
   "id": "mexican-maryland",
   "metadata": {},
   "outputs": [
    {
     "name": "stdout",
     "output_type": "stream",
     "text": [
      "Minimum is: 1\n"
     ]
    }
   ],
   "source": [
    "values = [1, 2, 3, 4]\n",
    "\n",
    "minimum = abs(values[0])\n",
    "for value in values[1:]:\n",
    "    if abs(value) < minimum:\n",
    "        minimum = abs(value)\n",
    "print(f'Minimum is: {minimum}')"
   ]
  },
  {
   "cell_type": "markdown",
   "id": "resistant-creativity",
   "metadata": {},
   "source": [
    "The problem is that if the sequence is empty, it will raise an exception.\n",
    "\n",
    "Write code such that if the `values` sequence is empty, the calculated minimum is printed as `0`."
   ]
  },
  {
   "cell_type": "markdown",
   "id": "greater-share",
   "metadata": {},
   "source": [
    "##### Solution"
   ]
  },
  {
   "cell_type": "markdown",
   "id": "enormous-antibody",
   "metadata": {},
   "source": [
    "Let's try running this code with an empty list and see what exception we get:"
   ]
  },
  {
   "cell_type": "code",
   "execution_count": 2,
   "id": "local-casino",
   "metadata": {},
   "outputs": [
    {
     "ename": "IndexError",
     "evalue": "list index out of range",
     "output_type": "error",
     "traceback": [
      "\u001b[0;31m---------------------------------------------------------------------------\u001b[0m",
      "\u001b[0;31mIndexError\u001b[0m                                Traceback (most recent call last)",
      "\u001b[0;32m<ipython-input-2-6750d95142f0>\u001b[0m in \u001b[0;36m<module>\u001b[0;34m\u001b[0m\n\u001b[1;32m      1\u001b[0m \u001b[0mvalues\u001b[0m \u001b[0;34m=\u001b[0m \u001b[0;34m[\u001b[0m\u001b[0;34m]\u001b[0m\u001b[0;34m\u001b[0m\u001b[0;34m\u001b[0m\u001b[0m\n\u001b[1;32m      2\u001b[0m \u001b[0;34m\u001b[0m\u001b[0m\n\u001b[0;32m----> 3\u001b[0;31m \u001b[0mminimum\u001b[0m \u001b[0;34m=\u001b[0m \u001b[0mabs\u001b[0m\u001b[0;34m(\u001b[0m\u001b[0mvalues\u001b[0m\u001b[0;34m[\u001b[0m\u001b[0;36m0\u001b[0m\u001b[0;34m]\u001b[0m\u001b[0;34m)\u001b[0m\u001b[0;34m\u001b[0m\u001b[0;34m\u001b[0m\u001b[0m\n\u001b[0m\u001b[1;32m      4\u001b[0m \u001b[0;32mfor\u001b[0m \u001b[0mvalue\u001b[0m \u001b[0;32min\u001b[0m \u001b[0mvalues\u001b[0m\u001b[0;34m[\u001b[0m\u001b[0;36m1\u001b[0m\u001b[0;34m:\u001b[0m\u001b[0;34m]\u001b[0m\u001b[0;34m:\u001b[0m\u001b[0;34m\u001b[0m\u001b[0;34m\u001b[0m\u001b[0m\n\u001b[1;32m      5\u001b[0m     \u001b[0;32mif\u001b[0m \u001b[0mabs\u001b[0m\u001b[0;34m(\u001b[0m\u001b[0mvalue\u001b[0m\u001b[0;34m)\u001b[0m \u001b[0;34m<\u001b[0m \u001b[0mminimum\u001b[0m\u001b[0;34m:\u001b[0m\u001b[0;34m\u001b[0m\u001b[0;34m\u001b[0m\u001b[0m\n",
      "\u001b[0;31mIndexError\u001b[0m: list index out of range"
     ]
    }
   ],
   "source": [
    "values = []\n",
    "\n",
    "minimum = abs(values[0])\n",
    "for value in values[1:]:\n",
    "    if abs(value) < minimum:\n",
    "        minimum = abs(value)\n",
    "print(f'Minimum is: {minimum}')"
   ]
  },
  {
   "cell_type": "markdown",
   "id": "happy-property",
   "metadata": {},
   "source": [
    "As you can see the problem lies in trying to retrieve the first element of an empty sequence."
   ]
  },
  {
   "cell_type": "markdown",
   "id": "weighted-introduction",
   "metadata": {},
   "source": [
    "We could take a LBYL approach, and test for the length of the sequence:"
   ]
  },
  {
   "cell_type": "code",
   "execution_count": 3,
   "id": "abandoned-bobby",
   "metadata": {},
   "outputs": [
    {
     "name": "stdout",
     "output_type": "stream",
     "text": [
      "Minimum is: 0\n"
     ]
    }
   ],
   "source": [
    "values = []\n",
    "\n",
    "if len(values) == 0:\n",
    "    print(f'Minimum is: 0')\n",
    "else:\n",
    "    minimum = abs(values[0])\n",
    "    for value in values[1:]:\n",
    "        if abs(value) < minimum:\n",
    "            minimum = abs(value)\n",
    "    print(f'Minimum is: {minimum}')"
   ]
  },
  {
   "cell_type": "code",
   "execution_count": 4,
   "id": "least-norman",
   "metadata": {},
   "outputs": [
    {
     "name": "stdout",
     "output_type": "stream",
     "text": [
      "Minimum is: 2\n"
     ]
    }
   ],
   "source": [
    "values = [3, -2, 5]\n",
    "\n",
    "if len(values) == 0:\n",
    "    print(f'Minimum is: 0')\n",
    "else:\n",
    "    minimum = abs(values[0])\n",
    "    for value in values[1:]:\n",
    "        if abs(value) < minimum:\n",
    "            minimum = abs(value)\n",
    "    print(f'Minimum is: {minimum}')"
   ]
  },
  {
   "cell_type": "markdown",
   "id": "scheduled-dutch",
   "metadata": {},
   "source": [
    "But we can also take a EAFP approach, using exception handling:"
   ]
  },
  {
   "cell_type": "code",
   "execution_count": 5,
   "id": "extended-fifty",
   "metadata": {},
   "outputs": [
    {
     "name": "stdout",
     "output_type": "stream",
     "text": [
      "Minimum is: 0\n"
     ]
    }
   ],
   "source": [
    "values = []\n",
    "\n",
    "try:\n",
    "    minimum = abs(values[0])\n",
    "    for value in values[1:]:\n",
    "        if abs(value) < minimum:\n",
    "            minimum = abs(value)\n",
    "    print(f'Minimum is: {minimum}')\n",
    "except IndexError:\n",
    "    print('Minimum is: 0')"
   ]
  },
  {
   "cell_type": "markdown",
   "id": "reported-replication",
   "metadata": {},
   "source": [
    "I don't like have two separate print statements - mainly because I need to be careful about keeping the format of the string the same in both cases. So, I would rewrite this code like this:"
   ]
  },
  {
   "cell_type": "code",
   "execution_count": 6,
   "id": "hundred-subject",
   "metadata": {},
   "outputs": [
    {
     "name": "stdout",
     "output_type": "stream",
     "text": [
      "Minimum is: 0\n"
     ]
    }
   ],
   "source": [
    "values = []\n",
    "\n",
    "try:\n",
    "    minimum = abs(values[0])\n",
    "    for value in values[1:]:\n",
    "        if abs(value) < minimum:\n",
    "            minimum = abs(value)\n",
    "except IndexError:\n",
    "    minimum = 0\n",
    "    \n",
    "print(f'Minimum is: {minimum}')"
   ]
  },
  {
   "cell_type": "code",
   "execution_count": 7,
   "id": "impressed-sunrise",
   "metadata": {},
   "outputs": [
    {
     "name": "stdout",
     "output_type": "stream",
     "text": [
      "Minimum is: 1\n"
     ]
    }
   ],
   "source": [
    "values = [2, -3, 4, -1]\n",
    "\n",
    "try:\n",
    "    minimum = abs(values[0])\n",
    "    for value in values[1:]:\n",
    "        if abs(value) < minimum:\n",
    "            minimum = abs(value)\n",
    "except IndexError:\n",
    "    minimum = 0\n",
    "    \n",
    "print(f'Minimum is: {minimum}')"
   ]
  },
  {
   "cell_type": "markdown",
   "id": "sound-daughter",
   "metadata": {},
   "source": [
    "#### Question 2"
   ]
  },
  {
   "cell_type": "markdown",
   "id": "unable-chase",
   "metadata": {},
   "source": [
    "Write code that raises the built-in Python exception `ValueError` with a custom message, and catches the exception and prints the custom message."
   ]
  },
  {
   "cell_type": "markdown",
   "id": "inclusive-dominant",
   "metadata": {},
   "source": [
    "##### Solution"
   ]
  },
  {
   "cell_type": "markdown",
   "id": "opponent-faculty",
   "metadata": {},
   "source": [
    "To raise an exception we'll use a `raise` statement, and then we'll catch the `ValueError` using a `try...except...`."
   ]
  },
  {
   "cell_type": "markdown",
   "id": "environmental-campbell",
   "metadata": {},
   "source": [
    "Let's write the code to raise the exception first:"
   ]
  },
  {
   "cell_type": "code",
   "execution_count": 8,
   "id": "square-pattern",
   "metadata": {},
   "outputs": [
    {
     "ename": "ValueError",
     "evalue": "Some custom message",
     "output_type": "error",
     "traceback": [
      "\u001b[0;31m---------------------------------------------------------------------------\u001b[0m",
      "\u001b[0;31mValueError\u001b[0m                                Traceback (most recent call last)",
      "\u001b[0;32m<ipython-input-8-ce8042d1b9d6>\u001b[0m in \u001b[0;36m<module>\u001b[0;34m\u001b[0m\n\u001b[0;32m----> 1\u001b[0;31m \u001b[0;32mraise\u001b[0m \u001b[0mValueError\u001b[0m\u001b[0;34m(\u001b[0m\u001b[0;34m'Some custom message'\u001b[0m\u001b[0;34m)\u001b[0m\u001b[0;34m\u001b[0m\u001b[0;34m\u001b[0m\u001b[0m\n\u001b[0m",
      "\u001b[0;31mValueError\u001b[0m: Some custom message"
     ]
    }
   ],
   "source": [
    "raise ValueError('Some custom message')"
   ]
  },
  {
   "cell_type": "markdown",
   "id": "irish-circulation",
   "metadata": {},
   "source": [
    "Finally, we'll put this in a try catch statement:"
   ]
  },
  {
   "cell_type": "code",
   "execution_count": 9,
   "id": "apparent-payday",
   "metadata": {},
   "outputs": [
    {
     "name": "stdout",
     "output_type": "stream",
     "text": [
      "Some custom message\n"
     ]
    }
   ],
   "source": [
    "try:\n",
    "    raise ValueError('Some custom message')\n",
    "except ValueError as ex:\n",
    "    print(ex)"
   ]
  }
 ],
 "metadata": {
  "kernelspec": {
   "display_name": "Python 3",
   "language": "python",
   "name": "python3"
  },
  "language_info": {
   "codemirror_mode": {
    "name": "ipython",
    "version": 3
   },
   "file_extension": ".py",
   "mimetype": "text/x-python",
   "name": "python",
   "nbconvert_exporter": "python",
   "pygments_lexer": "ipython3",
   "version": "3.9.1"
  }
 },
 "nbformat": 4,
 "nbformat_minor": 5
}
