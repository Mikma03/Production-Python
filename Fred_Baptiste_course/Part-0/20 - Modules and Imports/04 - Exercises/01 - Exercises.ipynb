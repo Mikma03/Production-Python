{
 "cells": [
  {
   "cell_type": "markdown",
   "id": "invalid-compatibility",
   "metadata": {},
   "source": [
    "### Exercises"
   ]
  },
  {
   "cell_type": "markdown",
   "id": "theoretical-livestock",
   "metadata": {},
   "source": [
    "#### Question 1"
   ]
  },
  {
   "cell_type": "markdown",
   "id": "liberal-gibraltar",
   "metadata": {},
   "source": [
    "Your code uses a few functions in the `math` module here and there, but you also tend to use the `sin`, `cos` and `tan` functions and the `pi` constant very frequently."
   ]
  },
  {
   "cell_type": "markdown",
   "id": "presidential-milwaukee",
   "metadata": {},
   "source": [
    "Write some import statements that you think would be helpful in this scenario."
   ]
  },
  {
   "cell_type": "markdown",
   "id": "binding-cream",
   "metadata": {},
   "source": [
    "#### Question 2"
   ]
  },
  {
   "cell_type": "markdown",
   "id": "fewer-actress",
   "metadata": {},
   "source": [
    "There is a library that we installed for our course called `matplotlib`."
   ]
  },
  {
   "cell_type": "markdown",
   "id": "instrumental-interaction",
   "metadata": {},
   "source": [
    "We can certainly import that library using its full name, but whenever we need to reach into that module we need to type out `matplotlib.som_func` - since we use this library quite often, typing out `matplotlib` every time gets tiring."
   ]
  },
  {
   "cell_type": "markdown",
   "id": "computational-robert",
   "metadata": {},
   "source": [
    "Write an import function that allows you to reference that module using the name `mpl` instead of the full name `matplotlib`."
   ]
  }
 ],
 "metadata": {
  "kernelspec": {
   "display_name": "Python 3",
   "language": "python",
   "name": "python3"
  },
  "language_info": {
   "codemirror_mode": {
    "name": "ipython",
    "version": 3
   },
   "file_extension": ".py",
   "mimetype": "text/x-python",
   "name": "python",
   "nbconvert_exporter": "python",
   "pygments_lexer": "ipython3",
   "version": "3.9.1"
  }
 },
 "nbformat": 4,
 "nbformat_minor": 5
}
