{
 "cells": [
  {
   "cell_type": "markdown",
   "id": "prerequisite-royal",
   "metadata": {},
   "source": [
    "### Solutions"
   ]
  },
  {
   "cell_type": "markdown",
   "id": "silver-repeat",
   "metadata": {},
   "source": [
    "#### Question 1"
   ]
  },
  {
   "cell_type": "markdown",
   "id": "significant-female",
   "metadata": {},
   "source": [
    "Your code uses a few functions in the `math` module here and there, but you also tend to use the `sin`, `cos` and `tan` functions and the `pi` constant very frequently."
   ]
  },
  {
   "cell_type": "markdown",
   "id": "designing-oregon",
   "metadata": {},
   "source": [
    "Write some import statements that you think would be helpful in this scenario."
   ]
  },
  {
   "cell_type": "markdown",
   "id": "rural-conservation",
   "metadata": {},
   "source": [
    "##### Solution"
   ]
  },
  {
   "cell_type": "markdown",
   "id": "demanding-jesus",
   "metadata": {},
   "source": [
    "First we'll import the `math` module itself, so we can use functions in there by prefixing the module name:"
   ]
  },
  {
   "cell_type": "code",
   "execution_count": 1,
   "id": "ahead-robertson",
   "metadata": {},
   "outputs": [],
   "source": [
    "import math"
   ]
  },
  {
   "cell_type": "markdown",
   "id": "white-nature",
   "metadata": {},
   "source": [
    "So now we can access functions such as `sin` or `gcd` this way:"
   ]
  },
  {
   "cell_type": "code",
   "execution_count": 2,
   "id": "portuguese-laser",
   "metadata": {},
   "outputs": [],
   "source": [
    "math.sin(math.pi)"
   ]
  },
  {
   "cell_type": "code",
   "execution_count": 3,
   "id": "joint-wright",
   "metadata": {},
   "outputs": [],
   "source": [
    "math.gcd(10, 5)"
   ]
  },
  {
   "cell_type": "markdown",
   "id": "blank-burlington",
   "metadata": {},
   "source": [
    "But since we use `pi`, `sin`, `cos`, and `tan` very frequently it might be nice not to have to always use the module name prefix - so, we'll import those symbols explicitly as well:"
   ]
  },
  {
   "cell_type": "code",
   "execution_count": 4,
   "id": "binding-viewer",
   "metadata": {},
   "outputs": [],
   "source": [
    "from math import pi, sin, cos, tan"
   ]
  },
  {
   "cell_type": "markdown",
   "id": "stopped-reward",
   "metadata": {},
   "source": [
    "And now we can use those symbols directly:"
   ]
  },
  {
   "cell_type": "code",
   "execution_count": 5,
   "id": "closed-rabbit",
   "metadata": {},
   "outputs": [],
   "source": [
    "sin(pi)"
   ]
  },
  {
   "cell_type": "markdown",
   "id": "worthy-retrieval",
   "metadata": {},
   "source": [
    "As well as retain the ability to reach into the `math` module for other functions:"
   ]
  },
  {
   "cell_type": "code",
   "execution_count": 6,
   "id": "renewable-humidity",
   "metadata": {},
   "outputs": [],
   "source": [
    "math.asin(1)"
   ]
  },
  {
   "cell_type": "markdown",
   "id": "scheduled-scholarship",
   "metadata": {},
   "source": [
    "#### Question 2"
   ]
  },
  {
   "cell_type": "markdown",
   "id": "conscious-moral",
   "metadata": {},
   "source": [
    "There is a library that we installed for our course called `matplotlib`."
   ]
  },
  {
   "cell_type": "markdown",
   "id": "significant-mobile",
   "metadata": {},
   "source": [
    "We can certainly import that library using its full name, but whenever we need to reach into that module we need to type out `matplotlib.som_func` - since we use this library quite often, typing out `matplotlib` every time gets tiring."
   ]
  },
  {
   "cell_type": "markdown",
   "id": "hollow-phoenix",
   "metadata": {},
   "source": [
    "Write an import function that allows you to reference that module using the name `mpl` instead of the full name `matplotlib`."
   ]
  },
  {
   "cell_type": "markdown",
   "id": "legendary-jesus",
   "metadata": {},
   "source": [
    "##### Solution"
   ]
  },
  {
   "cell_type": "markdown",
   "id": "random-progress",
   "metadata": {},
   "source": [
    "For this, we simply need to alias the module when we import it:"
   ]
  },
  {
   "cell_type": "code",
   "execution_count": 7,
   "id": "matched-efficiency",
   "metadata": {},
   "outputs": [],
   "source": [
    "import matplotlib as mpl"
   ]
  },
  {
   "cell_type": "markdown",
   "id": "great-knowing",
   "metadata": {},
   "source": [
    "And now we can use the name `mpl` instead of the full original `matplotlib` name."
   ]
  }
 ],
 "metadata": {
  "kernelspec": {
   "display_name": "Python 3",
   "language": "python",
   "name": "python3"
  },
  "language_info": {
   "codemirror_mode": {
    "name": "ipython",
    "version": 3
   },
   "file_extension": ".py",
   "mimetype": "text/x-python",
   "name": "python",
   "nbconvert_exporter": "python",
   "pygments_lexer": "ipython3",
   "version": "3.9.1"
  }
 },
 "nbformat": 4,
 "nbformat_minor": 5
}
