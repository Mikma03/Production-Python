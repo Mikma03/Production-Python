{
 "cells": [
  {
   "cell_type": "markdown",
   "id": "going-parallel",
   "metadata": {},
   "source": [
    "### Solutions"
   ]
  },
  {
   "cell_type": "markdown",
   "id": "wanted-fourth",
   "metadata": {},
   "source": [
    "#### Exercise 1"
   ]
  },
  {
   "cell_type": "markdown",
   "id": "ordered-mathematics",
   "metadata": {},
   "source": [
    "Given the following string:"
   ]
  },
  {
   "cell_type": "code",
   "execution_count": 1,
   "id": "tracked-zealand",
   "metadata": {},
   "outputs": [],
   "source": [
    "s = 'FfEeDdCcBbAa'"
   ]
  },
  {
   "cell_type": "markdown",
   "id": "advised-recommendation",
   "metadata": {},
   "source": [
    "Create two new variables that contain just the lower and upper case letters of `s` respectively, in the correct alphabetical order, i.e:\n",
    "\n",
    "- `'ABCDEF'`\n",
    "- `'abcdef'`"
   ]
  },
  {
   "cell_type": "markdown",
   "id": "fifth-burton",
   "metadata": {},
   "source": [
    "##### Solution"
   ]
  },
  {
   "cell_type": "markdown",
   "id": "sized-belize",
   "metadata": {},
   "source": [
    "The string `s` is in reverse order, so at some point we'll need to reverse the string. We could either do it before we extract the upper and lwoer case characters, or we could do it after. Let's do both ways."
   ]
  },
  {
   "cell_type": "markdown",
   "id": "recreational-university",
   "metadata": {},
   "source": [
    "We'll start by reversing the order first:"
   ]
  },
  {
   "cell_type": "code",
   "execution_count": 2,
   "id": "recognized-occupation",
   "metadata": {},
   "outputs": [
    {
     "data": {
      "text/plain": [
       "'aAbBcCdDeEfF'"
      ]
     },
     "execution_count": 2,
     "metadata": {},
     "output_type": "execute_result"
    }
   ],
   "source": [
    "reversed_s = s[::-1]\n",
    "reversed_s"
   ]
  },
  {
   "cell_type": "markdown",
   "id": "african-comparison",
   "metadata": {},
   "source": [
    "Now we can use extended slicing starting at `0` to pick out every second character:"
   ]
  },
  {
   "cell_type": "code",
   "execution_count": 3,
   "id": "outer-collectible",
   "metadata": {},
   "outputs": [
    {
     "data": {
      "text/plain": [
       "'abcdef'"
      ]
     },
     "execution_count": 3,
     "metadata": {},
     "output_type": "execute_result"
    }
   ],
   "source": [
    "reversed_s[::2]"
   ]
  },
  {
   "cell_type": "markdown",
   "id": "after-quilt",
   "metadata": {},
   "source": [
    "And starting at `1` to pick out the upper case characters:"
   ]
  },
  {
   "cell_type": "code",
   "execution_count": 4,
   "id": "secondary-wedding",
   "metadata": {},
   "outputs": [
    {
     "data": {
      "text/plain": [
       "'ABCDEF'"
      ]
     },
     "execution_count": 4,
     "metadata": {},
     "output_type": "execute_result"
    }
   ],
   "source": [
    "reversed_s[1::2]"
   ]
  },
  {
   "cell_type": "markdown",
   "id": "sitting-greeting",
   "metadata": {},
   "source": [
    "Alternatively, we could pick the upper/lower case characters first, and then reverse the each result:"
   ]
  },
  {
   "cell_type": "code",
   "execution_count": 5,
   "id": "formal-flower",
   "metadata": {},
   "outputs": [
    {
     "data": {
      "text/plain": [
       "'ABCDEF'"
      ]
     },
     "execution_count": 5,
     "metadata": {},
     "output_type": "execute_result"
    }
   ],
   "source": [
    "s[::2][::-1]"
   ]
  },
  {
   "cell_type": "code",
   "execution_count": 6,
   "id": "quantitative-policy",
   "metadata": {},
   "outputs": [
    {
     "data": {
      "text/plain": [
       "'abcdef'"
      ]
     },
     "execution_count": 6,
     "metadata": {},
     "output_type": "execute_result"
    }
   ],
   "source": [
    "s[1::2][::-1]"
   ]
  },
  {
   "cell_type": "markdown",
   "id": "frozen-farming",
   "metadata": {},
   "source": [
    "#### Exercise 2"
   ]
  },
  {
   "cell_type": "markdown",
   "id": "ancient-constitution",
   "metadata": {},
   "source": [
    "Concatenate the following tuples into a single one, but replacing the odd values with zeros (`0`)."
   ]
  },
  {
   "cell_type": "code",
   "execution_count": 7,
   "id": "sacred-theory",
   "metadata": {},
   "outputs": [],
   "source": [
    "t1 = 1, 2, 3, 4, 5, 6\n",
    "t2 = 7, 8, 9, 10\n",
    "t3 = 11, 12, 13, 14, 15, 16, 17"
   ]
  },
  {
   "cell_type": "markdown",
   "id": "intermediate-cleaning",
   "metadata": {},
   "source": [
    "You can assume that every tuple is a sequence of consecutive integers starting with an odd integer.\n",
    "\n",
    "Try to write your code to be as generic as possible."
   ]
  },
  {
   "cell_type": "markdown",
   "id": "anonymous-champion",
   "metadata": {},
   "source": [
    "##### Solution"
   ]
  },
  {
   "cell_type": "markdown",
   "id": "abstract-bhutan",
   "metadata": {},
   "source": [
    "We cannot mutate tuples, so we'll need to convert our tuples to lists first:"
   ]
  },
  {
   "cell_type": "code",
   "execution_count": 8,
   "id": "posted-texas",
   "metadata": {},
   "outputs": [],
   "source": [
    "l1 = list(t1)\n",
    "l2 = list(t2)\n",
    "l3 = list(t3)"
   ]
  },
  {
   "cell_type": "markdown",
   "id": "diagnostic-maria",
   "metadata": {},
   "source": [
    "Now that we have mutable sequences, we can use extended slicing to replace the odd integers with `0` in each list:"
   ]
  },
  {
   "cell_type": "code",
   "execution_count": 9,
   "id": "brilliant-joseph",
   "metadata": {},
   "outputs": [],
   "source": [
    "l1[::2] = [0, 0, 0]\n",
    "l2[::2] = [0, 0]\n",
    "l3[::2] = [0, 0, 0, 0]"
   ]
  },
  {
   "cell_type": "code",
   "execution_count": 10,
   "id": "auburn-application",
   "metadata": {},
   "outputs": [
    {
     "data": {
      "text/plain": [
       "[0, 2, 0, 4, 0, 6]"
      ]
     },
     "execution_count": 10,
     "metadata": {},
     "output_type": "execute_result"
    }
   ],
   "source": [
    "l1"
   ]
  },
  {
   "cell_type": "code",
   "execution_count": 11,
   "id": "entertaining-protein",
   "metadata": {},
   "outputs": [
    {
     "data": {
      "text/plain": [
       "[0, 8, 0, 10]"
      ]
     },
     "execution_count": 11,
     "metadata": {},
     "output_type": "execute_result"
    }
   ],
   "source": [
    "l2"
   ]
  },
  {
   "cell_type": "code",
   "execution_count": 12,
   "id": "dense-services",
   "metadata": {},
   "outputs": [
    {
     "data": {
      "text/plain": [
       "[0, 12, 0, 14, 0, 16, 0]"
      ]
     },
     "execution_count": 12,
     "metadata": {},
     "output_type": "execute_result"
    }
   ],
   "source": [
    "l3"
   ]
  },
  {
   "cell_type": "markdown",
   "id": "future-performance",
   "metadata": {},
   "source": [
    "So this works, but you'll notice that we had to calculate (in our heads) how many zeros to replace the extended slice with (since with extended slicing the number of elements on both sides of the assignment must match).\n",
    "\n",
    "This is not very generic code - instead we can determine how many elements are in each extended slice by using the `len` function:"
   ]
  },
  {
   "cell_type": "code",
   "execution_count": 13,
   "id": "round-seating",
   "metadata": {},
   "outputs": [
    {
     "data": {
      "text/plain": [
       "(3, 2, 4)"
      ]
     },
     "execution_count": 13,
     "metadata": {},
     "output_type": "execute_result"
    }
   ],
   "source": [
    "len(l1[::2]), len(l2[::2]), len(l3[::2])"
   ]
  },
  {
   "cell_type": "markdown",
   "id": "hourly-brighton",
   "metadata": {},
   "source": [
    "We also know that we can create a list of `n` repeated elements simply by multiplying a list by an integer:"
   ]
  },
  {
   "cell_type": "code",
   "execution_count": 14,
   "id": "manufactured-terrace",
   "metadata": {},
   "outputs": [
    {
     "data": {
      "text/plain": [
       "[0, 0, 0, 0, 0]"
      ]
     },
     "execution_count": 14,
     "metadata": {},
     "output_type": "execute_result"
    }
   ],
   "source": [
    "[0] * 5"
   ]
  },
  {
   "cell_type": "markdown",
   "id": "celtic-appraisal",
   "metadata": {},
   "source": [
    "So, we could replace each extended slice by a list `[0]` multiplied by the length of the extended slice:"
   ]
  },
  {
   "cell_type": "code",
   "execution_count": 15,
   "id": "single-active",
   "metadata": {},
   "outputs": [
    {
     "data": {
      "text/plain": [
       "([0, 2, 0, 4, 0, 6], [0, 8, 0, 10], [0, 12, 0, 14, 0, 16, 0])"
      ]
     },
     "execution_count": 15,
     "metadata": {},
     "output_type": "execute_result"
    }
   ],
   "source": [
    "l1 = list(t1)\n",
    "l2 = list(t2)\n",
    "l3 = list(t3)\n",
    "\n",
    "l1[::2] = [0] * len(l1[::2])\n",
    "l2[::2] = [0] * len(l2[::2])\n",
    "l3[::2] = [0] * len(l3[::2])\n",
    "\n",
    "l1, l2, l3"
   ]
  },
  {
   "cell_type": "markdown",
   "id": "verbal-workstation",
   "metadata": {},
   "source": [
    "Now we can concatenate those lists:"
   ]
  },
  {
   "cell_type": "code",
   "execution_count": 16,
   "id": "adjustable-tutorial",
   "metadata": {},
   "outputs": [
    {
     "data": {
      "text/plain": [
       "[0, 2, 0, 4, 0, 6, 0, 8, 0, 10, 0, 12, 0, 14, 0, 16, 0]"
      ]
     },
     "execution_count": 16,
     "metadata": {},
     "output_type": "execute_result"
    }
   ],
   "source": [
    "result = l1 + l2 + l3\n",
    "result"
   ]
  },
  {
   "cell_type": "markdown",
   "id": "therapeutic-ukraine",
   "metadata": {},
   "source": [
    "But we actually want a `tuple` for our result:"
   ]
  },
  {
   "cell_type": "code",
   "execution_count": 17,
   "id": "sitting-context",
   "metadata": {},
   "outputs": [
    {
     "data": {
      "text/plain": [
       "(0, 2, 0, 4, 0, 6, 0, 8, 0, 10, 0, 12, 0, 14, 0, 16, 0)"
      ]
     },
     "execution_count": 17,
     "metadata": {},
     "output_type": "execute_result"
    }
   ],
   "source": [
    "result = tuple(l1 + l2 + l3)\n",
    "result"
   ]
  },
  {
   "cell_type": "markdown",
   "id": "interested-exception",
   "metadata": {},
   "source": [
    "Putting everything together:"
   ]
  },
  {
   "cell_type": "code",
   "execution_count": 18,
   "id": "instrumental-assets",
   "metadata": {},
   "outputs": [
    {
     "data": {
      "text/plain": [
       "(0, 2, 0, 4, 0, 6, 0, 8, 0, 10, 0, 12, 0, 14, 0, 16, 0)"
      ]
     },
     "execution_count": 18,
     "metadata": {},
     "output_type": "execute_result"
    }
   ],
   "source": [
    "l1 = list(t1)\n",
    "l2 = list(t2)\n",
    "l3 = list(t3)\n",
    "\n",
    "l1[::2] = [0] * len(l1[::2])\n",
    "l2[::2] = [0] * len(l2[::2])\n",
    "l3[::2] = [0] * len(l3[::2])\n",
    "\n",
    "result = tuple(l1 + l2 + l3)\n",
    "result"
   ]
  },
  {
   "cell_type": "markdown",
   "id": "upset-champagne",
   "metadata": {},
   "source": [
    "#### Exercise 3"
   ]
  },
  {
   "cell_type": "markdown",
   "id": "atomic-boating",
   "metadata": {},
   "source": [
    "Given the following matrix:"
   ]
  },
  {
   "cell_type": "code",
   "execution_count": 19,
   "id": "clinical-mailing",
   "metadata": {},
   "outputs": [],
   "source": [
    "m = [\n",
    "    [0, 0, 0],\n",
    "    [0, 0, 0],\n",
    "    [0, 0, 0]\n",
    "]"
   ]
  },
  {
   "cell_type": "markdown",
   "id": "clear-encyclopedia",
   "metadata": {},
   "source": [
    "Make this matrix into an identity matrix (setting the diagonal elements to `1`).\n",
    "\n",
    "Your code should *mutate* `m`."
   ]
  },
  {
   "cell_type": "markdown",
   "id": "responsible-local",
   "metadata": {},
   "source": [
    "##### Solution"
   ]
  },
  {
   "cell_type": "markdown",
   "id": "marked-trance",
   "metadata": {},
   "source": [
    "Since we need to mutate `m`, we can simply assign the values directly into `m`:"
   ]
  },
  {
   "cell_type": "code",
   "execution_count": 20,
   "id": "touched-monte",
   "metadata": {},
   "outputs": [
    {
     "data": {
      "text/plain": [
       "[[1, 0, 0], [0, 1, 0], [0, 0, 1]]"
      ]
     },
     "execution_count": 20,
     "metadata": {},
     "output_type": "execute_result"
    }
   ],
   "source": [
    "m[0][0] = 1\n",
    "m[1][1] = 1\n",
    "m[2][2] = 1\n",
    "m"
   ]
  },
  {
   "cell_type": "markdown",
   "id": "significant-rogers",
   "metadata": {},
   "source": [
    "#### Exercise 4"
   ]
  },
  {
   "cell_type": "markdown",
   "id": "positive-partner",
   "metadata": {},
   "source": [
    "Do the same problem as Exercise 3, but do **not** mutate `m`."
   ]
  },
  {
   "cell_type": "markdown",
   "id": "logical-radical",
   "metadata": {},
   "source": [
    "##### Solution"
   ]
  },
  {
   "cell_type": "markdown",
   "id": "anonymous-syntax",
   "metadata": {},
   "source": [
    "We cannt perform the operations from above directly on `m`. \n",
    "\n",
    "The simplest is to make a *copy* of `m` - but a shallow copy would not be enough - let's see that first:"
   ]
  },
  {
   "cell_type": "code",
   "execution_count": 21,
   "id": "5eec3770",
   "metadata": {},
   "outputs": [],
   "source": [
    "m = [[0, 0, 0], [0, 0, 0], [0, 0, 0]]"
   ]
  },
  {
   "cell_type": "code",
   "execution_count": 22,
   "id": "dimensional-encyclopedia",
   "metadata": {},
   "outputs": [
    {
     "data": {
      "text/plain": [
       "[[0, 0, 0], [0, 0, 0], [0, 0, 0]]"
      ]
     },
     "execution_count": 22,
     "metadata": {},
     "output_type": "execute_result"
    }
   ],
   "source": [
    "result = m.copy()\n",
    "result"
   ]
  },
  {
   "cell_type": "code",
   "execution_count": 23,
   "id": "catholic-segment",
   "metadata": {},
   "outputs": [
    {
     "data": {
      "text/plain": [
       "[[1, 0, 0], [0, 1, 0], [0, 0, 1]]"
      ]
     },
     "execution_count": 23,
     "metadata": {},
     "output_type": "execute_result"
    }
   ],
   "source": [
    "result[0][0] = 1\n",
    "result[1][1] = 1\n",
    "result[2][2] = 1\n",
    "\n",
    "result"
   ]
  },
  {
   "cell_type": "markdown",
   "id": "wanted-reminder",
   "metadata": {},
   "source": [
    "So `result` looks good, but what about `m`?"
   ]
  },
  {
   "cell_type": "code",
   "execution_count": 24,
   "id": "final-lease",
   "metadata": {},
   "outputs": [
    {
     "data": {
      "text/plain": [
       "[[1, 0, 0], [0, 1, 0], [0, 0, 1]]"
      ]
     },
     "execution_count": 24,
     "metadata": {},
     "output_type": "execute_result"
    }
   ],
   "source": [
    "m"
   ]
  },
  {
   "cell_type": "markdown",
   "id": "infinite-metro",
   "metadata": {},
   "source": [
    "That was mutated too, since the shallow copy still had references to the sub-lists in `m`."
   ]
  },
  {
   "cell_type": "markdown",
   "id": "competitive-holiday",
   "metadata": {},
   "source": [
    "To get around this, we have to do a **deep* copy."
   ]
  },
  {
   "cell_type": "code",
   "execution_count": 25,
   "id": "viral-medicine",
   "metadata": {},
   "outputs": [],
   "source": [
    "from copy import deepcopy"
   ]
  },
  {
   "cell_type": "markdown",
   "id": "binary-secret",
   "metadata": {},
   "source": [
    "Let's get `m` back to its original state:"
   ]
  },
  {
   "cell_type": "code",
   "execution_count": 26,
   "id": "popular-chair",
   "metadata": {},
   "outputs": [],
   "source": [
    "m = [\n",
    "    [0, 0, 0],\n",
    "    [0, 0, 0],\n",
    "    [0, 0, 0]\n",
    "]"
   ]
  },
  {
   "cell_type": "markdown",
   "id": "controlled-haven",
   "metadata": {},
   "source": [
    "And let's make the deep copy:"
   ]
  },
  {
   "cell_type": "code",
   "execution_count": 27,
   "id": "crucial-investing",
   "metadata": {},
   "outputs": [
    {
     "data": {
      "text/plain": [
       "[[1, 0, 0], [0, 1, 0], [0, 0, 1]]"
      ]
     },
     "execution_count": 27,
     "metadata": {},
     "output_type": "execute_result"
    }
   ],
   "source": [
    "result = deepcopy(m)\n",
    "\n",
    "result[0][0] = 1\n",
    "result[1][1] = 1\n",
    "result[2][2] = 1\n",
    "\n",
    "result"
   ]
  },
  {
   "cell_type": "markdown",
   "id": "biblical-engineer",
   "metadata": {},
   "source": [
    "And `m` now remains completely untouched:"
   ]
  },
  {
   "cell_type": "code",
   "execution_count": 28,
   "id": "seasonal-repair",
   "metadata": {},
   "outputs": [
    {
     "data": {
      "text/plain": [
       "[[0, 0, 0], [0, 0, 0], [0, 0, 0]]"
      ]
     },
     "execution_count": 28,
     "metadata": {},
     "output_type": "execute_result"
    }
   ],
   "source": [
    "m"
   ]
  },
  {
   "cell_type": "markdown",
   "id": "immune-found",
   "metadata": {},
   "source": [
    "#### Exercise 5"
   ]
  },
  {
   "cell_type": "markdown",
   "id": "dependent-payroll",
   "metadata": {},
   "source": [
    "You are given a list of tuples that each contain 4 values:\n",
    "\n",
    "```\n",
    "(amount, currency, target_currency, exchange_rate)\n",
    "```"
   ]
  },
  {
   "cell_type": "code",
   "execution_count": 29,
   "id": "median-flower",
   "metadata": {},
   "outputs": [],
   "source": [
    "data = [\n",
    "    (100, 'USD', 'EUR', 0.83),\n",
    "    (100, 'USD', 'CAD', 1.27),\n",
    "    (100, 'CAD', 'EUR', 0.65)\n",
    "]"
   ]
  },
  {
   "cell_type": "markdown",
   "id": "hungry-flashing",
   "metadata": {},
   "source": [
    "Write code that converts the `amount` from its `currency` to its `target_currency` using the `exchange_rate` (which is the exchange rate for `1` `currency` in `target_currency`).\n",
    "\n",
    "Try to make your code as generic as possible (we'll see later how to use loops so we don't have to write three separate statements).\n",
    "\n",
    "In other words, you'll need three blocks of code here that are essentially almost identical.\n",
    "\n",
    "Use unpacking to assign the values in each tuple to variables.\n",
    "\n",
    "Your result for each row should print something like this out:\n",
    "\n",
    "```\n",
    "100 USD = 83 EUR\n",
    "```"
   ]
  },
  {
   "cell_type": "markdown",
   "id": "gorgeous-protein",
   "metadata": {},
   "source": [
    "##### Solution"
   ]
  },
  {
   "cell_type": "markdown",
   "id": "adopted-drain",
   "metadata": {},
   "source": [
    "We'll deal with row `0` first, and the repeat our code for the other two rows."
   ]
  },
  {
   "cell_type": "code",
   "execution_count": 30,
   "id": "tight-costume",
   "metadata": {},
   "outputs": [
    {
     "name": "stdout",
     "output_type": "stream",
     "text": [
      "100 USD = 83.0 EUR\n"
     ]
    }
   ],
   "source": [
    "row = 0\n",
    "\n",
    "amount, currency, target_currency, exchange_rate = data[row]\n",
    "converted = amount * exchange_rate\n",
    "print(amount, currency, '=', converted, target_currency, sep=' ')"
   ]
  },
  {
   "cell_type": "markdown",
   "id": "neutral-arizona",
   "metadata": {},
   "source": [
    "Now we can use this same code, just changing the value of `row` to get the rest of our results:"
   ]
  },
  {
   "cell_type": "code",
   "execution_count": 31,
   "id": "opposed-handy",
   "metadata": {},
   "outputs": [
    {
     "name": "stdout",
     "output_type": "stream",
     "text": [
      "100 USD = 127.0 CAD\n"
     ]
    }
   ],
   "source": [
    "row = 1\n",
    "\n",
    "amount, currency, target_currency, exchange_rate = data[row]\n",
    "converted = amount * exchange_rate\n",
    "print(amount, currency, '=', converted, target_currency, sep=' ')"
   ]
  },
  {
   "cell_type": "code",
   "execution_count": 32,
   "id": "painted-albert",
   "metadata": {},
   "outputs": [
    {
     "name": "stdout",
     "output_type": "stream",
     "text": [
      "100 CAD = 65.0 EUR\n"
     ]
    }
   ],
   "source": [
    "row = 2\n",
    "\n",
    "amount, currency, target_currency, exchange_rate = data[row]\n",
    "converted = amount * exchange_rate\n",
    "print(amount, currency, '=', converted, target_currency, sep=' ')"
   ]
  }
 ],
 "metadata": {
  "kernelspec": {
   "display_name": "Python 3 (ipykernel)",
   "language": "python",
   "name": "python3"
  },
  "language_info": {
   "codemirror_mode": {
    "name": "ipython",
    "version": 3
   },
   "file_extension": ".py",
   "mimetype": "text/x-python",
   "name": "python",
   "nbconvert_exporter": "python",
   "pygments_lexer": "ipython3",
   "version": "3.10.2"
  }
 },
 "nbformat": 4,
 "nbformat_minor": 5
}
