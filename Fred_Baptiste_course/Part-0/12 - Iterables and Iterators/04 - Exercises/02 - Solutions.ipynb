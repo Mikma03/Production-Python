{
 "cells": [
  {
   "cell_type": "markdown",
   "id": "c30bd940",
   "metadata": {},
   "source": [
    "### Solutions"
   ]
  },
  {
   "cell_type": "markdown",
   "id": "3a92c10f",
   "metadata": {},
   "source": [
    "#### Question 1"
   ]
  },
  {
   "cell_type": "markdown",
   "id": "e72bdf52",
   "metadata": {},
   "source": [
    "Given the following list:"
   ]
  },
  {
   "cell_type": "code",
   "execution_count": 1,
   "id": "916be0a8",
   "metadata": {},
   "outputs": [],
   "source": [
    "l = [10, 'abc', 3.14, True]"
   ]
  },
  {
   "cell_type": "markdown",
   "id": "d3454561",
   "metadata": {},
   "source": [
    "Write code that prints out the index number and value at that index for every element of `l`."
   ]
  },
  {
   "cell_type": "markdown",
   "id": "3503f499",
   "metadata": {},
   "source": [
    "##### Solution"
   ]
  },
  {
   "cell_type": "markdown",
   "id": "b692d10d",
   "metadata": {},
   "source": [
    "We could have do this by iterating the index numbers this way:"
   ]
  },
  {
   "cell_type": "code",
   "execution_count": 2,
   "id": "5220a66a",
   "metadata": {},
   "outputs": [
    {
     "name": "stdout",
     "output_type": "stream",
     "text": [
      "l[0] = 10\n",
      "l[1] = abc\n",
      "l[2] = 3.14\n",
      "l[3] = True\n"
     ]
    }
   ],
   "source": [
    "for i in range(len(l)):\n",
    "    print(f'l[{i}] = {l[i]}')"
   ]
  },
  {
   "cell_type": "markdown",
   "id": "0ece3cdc",
   "metadata": {},
   "source": [
    "But a cleaner (and more \"Pythonic\") solution is to use the `enumerate` function:"
   ]
  },
  {
   "cell_type": "code",
   "execution_count": 3,
   "id": "3233610e",
   "metadata": {},
   "outputs": [
    {
     "name": "stdout",
     "output_type": "stream",
     "text": [
      "l[0] = 10\n",
      "l[1] = abc\n",
      "l[2] = 3.14\n",
      "l[3] = True\n"
     ]
    }
   ],
   "source": [
    "for i, value in enumerate(l):\n",
    "    print(f'l[{i}] = {value}')"
   ]
  },
  {
   "cell_type": "markdown",
   "id": "7090a3f5",
   "metadata": {},
   "source": [
    "#### Question 2"
   ]
  },
  {
   "cell_type": "markdown",
   "id": "c7584d73",
   "metadata": {},
   "source": [
    "We saw in this section how generator expressions can be more efficient, not only in terms os memory, but also in terms of computation time when not all values in the generator are iterated."
   ]
  },
  {
   "cell_type": "markdown",
   "id": "3b2778d5",
   "metadata": {},
   "source": [
    "Create a generator expression that when iterated over will produce the integers from `1` to `10_000` raised to the power of `1`, `2`, `3`, etc."
   ]
  },
  {
   "cell_type": "markdown",
   "id": "e204c001",
   "metadata": {},
   "source": [
    "So this generator should produce these results:"
   ]
  },
  {
   "cell_type": "markdown",
   "id": "86d6ce2a",
   "metadata": {},
   "source": [
    "```\n",
    "1**1, 2**2, 3**3, 4**4, ...\n",
    "```"
   ]
  },
  {
   "cell_type": "markdown",
   "id": "d6a7b452",
   "metadata": {},
   "source": [
    "Once you have created a generator expression to do this, time your results to create the generator and iterate through the first 5 elements of the generator."
   ]
  },
  {
   "cell_type": "markdown",
   "id": "cc08fa5b",
   "metadata": {},
   "source": [
    "Then, do the same thing, but using a list comprehension instead of a generator expression."
   ]
  },
  {
   "cell_type": "markdown",
   "id": "959470af",
   "metadata": {},
   "source": [
    "Hint: you should use the `perf_counter` apprioach we have seen a few times in previous lectures:\n",
    "\n",
    "```\n",
    "from time import perf_counter\n",
    "\n",
    "start = perf_counter()\n",
    "# your code goes here\n",
    "end = perf_counter()\n",
    "print('elapsed:', end - start)\n",
    "```\n"
   ]
  },
  {
   "cell_type": "markdown",
   "id": "cba56507",
   "metadata": {},
   "source": [
    "To make timings more accurate, you should time a loop that repeats your code at least 10 times."
   ]
  },
  {
   "cell_type": "markdown",
   "id": "095e6e9d",
   "metadata": {},
   "source": [
    "##### Solution"
   ]
  },
  {
   "cell_type": "code",
   "execution_count": 4,
   "id": "89a5671b",
   "metadata": {},
   "outputs": [],
   "source": [
    "from time import perf_counter"
   ]
  },
  {
   "cell_type": "markdown",
   "id": "bce5dec8",
   "metadata": {},
   "source": [
    "Let's write the generator expression first:"
   ]
  },
  {
   "cell_type": "code",
   "execution_count": 5,
   "id": "03c4355b",
   "metadata": {},
   "outputs": [],
   "source": [
    "g = (i ** i for i in range(1, 10_001))"
   ]
  },
  {
   "cell_type": "markdown",
   "id": "fd7e95f5",
   "metadata": {},
   "source": [
    "Then we can iterate over the first five elements of the iterator:"
   ]
  },
  {
   "cell_type": "code",
   "execution_count": 6,
   "id": "c7d3f7dd",
   "metadata": {},
   "outputs": [
    {
     "name": "stdout",
     "output_type": "stream",
     "text": [
      "1\n",
      "4\n",
      "27\n",
      "256\n",
      "3125\n"
     ]
    }
   ],
   "source": [
    "for _ in range(5):\n",
    "    print(next(g))"
   ]
  },
  {
   "cell_type": "markdown",
   "id": "a3e56813",
   "metadata": {},
   "source": [
    "We could also iterate over it this way:"
   ]
  },
  {
   "cell_type": "code",
   "execution_count": 7,
   "id": "ca2ee89b",
   "metadata": {},
   "outputs": [
    {
     "name": "stdout",
     "output_type": "stream",
     "text": [
      "1\n",
      "4\n",
      "27\n",
      "256\n",
      "3125\n"
     ]
    }
   ],
   "source": [
    "g = (i ** i for i in range(1, 10_001))\n",
    "\n",
    "for idx, value in enumerate(g):\n",
    "    print(value)\n",
    "    if idx == 4:\n",
    "        break"
   ]
  },
  {
   "cell_type": "markdown",
   "id": "40be6312",
   "metadata": {},
   "source": [
    "Now let's time this code repeated 10 times:"
   ]
  },
  {
   "cell_type": "code",
   "execution_count": 8,
   "id": "3ddda3a5",
   "metadata": {},
   "outputs": [
    {
     "name": "stdout",
     "output_type": "stream",
     "text": [
      "1\n",
      "4\n",
      "27\n",
      "256\n",
      "3125\n",
      "1\n",
      "4\n",
      "27\n",
      "256\n",
      "3125\n",
      "1\n",
      "4\n",
      "27\n",
      "256\n",
      "3125\n",
      "1\n",
      "4\n",
      "27\n",
      "256\n",
      "3125\n",
      "1\n",
      "4\n",
      "27\n",
      "256\n",
      "3125\n",
      "1\n",
      "4\n",
      "27\n",
      "256\n",
      "3125\n",
      "1\n",
      "4\n",
      "27\n",
      "256\n",
      "3125\n",
      "1\n",
      "4\n",
      "27\n",
      "256\n",
      "3125\n",
      "1\n",
      "4\n",
      "27\n",
      "256\n",
      "3125\n",
      "1\n",
      "4\n",
      "27\n",
      "256\n",
      "3125\n",
      "elapsed: 0.00017687492072582245\n"
     ]
    }
   ],
   "source": [
    "start = perf_counter()\n",
    "for _ in range(10):\n",
    "    g = (i ** i for i in range(1, 10_001))\n",
    "    for _ in range(5):\n",
    "        print(next(g))\n",
    "end = perf_counter()\n",
    "print('elapsed:', end - start)"
   ]
  },
  {
   "cell_type": "markdown",
   "id": "350f1083",
   "metadata": {},
   "source": [
    "Now let's do the same, but using a list comprehension - with a few minor modifications:\n",
    "1. We can re-use the same list - unlike a generator which can only be used once - that will save some time\n",
    "2. We can index a list for our iteration, a bit easier than the generator."
   ]
  },
  {
   "cell_type": "code",
   "execution_count": 9,
   "id": "0a512d07",
   "metadata": {},
   "outputs": [
    {
     "name": "stdout",
     "output_type": "stream",
     "text": [
      "1\n",
      "4\n",
      "27\n",
      "256\n",
      "3125\n",
      "1\n",
      "4\n",
      "27\n",
      "256\n",
      "3125\n",
      "1\n",
      "4\n",
      "27\n",
      "256\n",
      "3125\n",
      "1\n",
      "4\n",
      "27\n",
      "256\n",
      "3125\n",
      "1\n",
      "4\n",
      "27\n",
      "256\n",
      "3125\n",
      "1\n",
      "4\n",
      "27\n",
      "256\n",
      "3125\n",
      "1\n",
      "4\n",
      "27\n",
      "256\n",
      "3125\n",
      "1\n",
      "4\n",
      "27\n",
      "256\n",
      "3125\n",
      "1\n",
      "4\n",
      "27\n",
      "256\n",
      "3125\n",
      "1\n",
      "4\n",
      "27\n",
      "256\n",
      "3125\n",
      "elapsed: 5.784124583937228\n"
     ]
    }
   ],
   "source": [
    "start = perf_counter()\n",
    "l = [i ** i for i in range(1, 10_001)]\n",
    "for _ in range(10):\n",
    "    for value in l[:5]:\n",
    "        print(value)\n",
    "end = perf_counter()\n",
    "print('elapsed:', end - start)"
   ]
  },
  {
   "cell_type": "code",
   "execution_count": null,
   "id": "5a868a83",
   "metadata": {},
   "outputs": [],
   "source": []
  }
 ],
 "metadata": {
  "kernelspec": {
   "display_name": "Python 3 (ipykernel)",
   "language": "python",
   "name": "python3"
  },
  "language_info": {
   "codemirror_mode": {
    "name": "ipython",
    "version": 3
   },
   "file_extension": ".py",
   "mimetype": "text/x-python",
   "name": "python",
   "nbconvert_exporter": "python",
   "pygments_lexer": "ipython3",
   "version": "3.10.2"
  }
 },
 "nbformat": 4,
 "nbformat_minor": 5
}
