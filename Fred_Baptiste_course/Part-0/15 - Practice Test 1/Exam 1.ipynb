{
 "cells": [
  {
   "cell_type": "markdown",
   "id": "5d3a9f13",
   "metadata": {},
   "source": [
    "### Exam 1"
   ]
  },
  {
   "cell_type": "markdown",
   "id": "7cb99cce",
   "metadata": {},
   "source": [
    "#### Q1"
   ]
  },
  {
   "cell_type": "markdown",
   "id": "be6b91c0",
   "metadata": {},
   "source": [
    "According to the Unicode standard, what is the upper case version of the character with code point `U+00E3`?\n",
    "\n",
    "- a: `U+00C3`\n",
    "- b: `U+0040`\n",
    "- c: `U+13F0`\n",
    "- d: `U+2102`\n"
   ]
  },
  {
   "cell_type": "markdown",
   "id": "7d48baf5",
   "metadata": {},
   "source": [
    "#### Q2"
   ]
  },
  {
   "cell_type": "markdown",
   "id": "72cff41f",
   "metadata": {},
   "source": [
    "To perform a case-insensitive comparison between two strings (`s1` and `s2`), which of the following would be the best approach?\n",
    "\n",
    "- a: `s1.upper() == s2.upper()`\n",
    "- b: `s1.title() == s2.title()`\n",
    "- c: `s1.lower() == s2.lower()`\n",
    "- d: `s1.casefold() == s2.casefold()`\n"
   ]
  },
  {
   "cell_type": "markdown",
   "id": "b872eae3",
   "metadata": {},
   "source": [
    "#### Q3"
   ]
  },
  {
   "cell_type": "markdown",
   "id": "02c2a6ea",
   "metadata": {},
   "source": [
    "Given the following string:\n",
    "\n",
    "```\n",
    "s = '3.14/4.15/6.7/8.9'\n",
    "```\n",
    "\n",
    "Which of the following will evaluate to the *number* `4.15`?\n",
    "\n",
    "- a: `s[s.index('/'): s.index('/')][1]`\n",
    "- b: `s.split('/')[1]`\n",
    "- c: `float(s.split('/')[-3])`\n",
    "- d: `float(s).split('/')[1]`\n"
   ]
  },
  {
   "cell_type": "markdown",
   "id": "31f2a096",
   "metadata": {},
   "source": [
    "#### Q4"
   ]
  },
  {
   "cell_type": "markdown",
   "id": "82cb2bbd",
   "metadata": {},
   "source": [
    "Given a string `data`, what code will correctly, and most efficiently, determine if some given substring `s` is present in `data`?\n",
    "\n",
    "- a: `True if data.index(s) > 0 else False`\n",
    "- b: `True if data.find(s) > 0 else False`\n",
    "- c: `s in data`\n",
    "- d: `[s[i] in data for i in range(len(s))]`\n"
   ]
  },
  {
   "cell_type": "markdown",
   "id": "0553e077",
   "metadata": {},
   "source": [
    "#### Q5"
   ]
  },
  {
   "cell_type": "markdown",
   "id": "d18d0903",
   "metadata": {},
   "source": [
    "The following function is intended to find the index of the first negative number in a given list `numbers`:\n",
    "\n",
    "```\n",
    "def find_first_negative(numbers):\n",
    "    i = 0\n",
    "    while numbers[i] >= 0:\n",
    "        i += 1\n",
    "    return i    \n",
    "```\n",
    "\n",
    "This function will return the correct result:\n",
    "\n",
    "- a: if `numbers` contains at least one negative number\n",
    "- b: if `numbers` contains only positive numbers\n",
    "- c: always\n",
    "- d: never\n"
   ]
  },
  {
   "cell_type": "markdown",
   "id": "e4302e52",
   "metadata": {},
   "source": [
    "#### Q6"
   ]
  },
  {
   "cell_type": "markdown",
   "id": "671502ab",
   "metadata": {},
   "source": [
    "The following functions are all meant to validate an input for the following conditions:\n",
    "1. the input is an integer\n",
    "2. the integer is positive\n",
    "3. the integer is less than `100`\n",
    "\n",
    "and needs to raise a `ValueError` if the input does not satisfy these conditions.\n",
    "\n",
    "I:\n",
    "```\n",
    "def validate(num):\n",
    "    return isinstance(num, int) and num > 0 and num < 100\n",
    "```\n",
    "\n",
    "II:\n",
    "```\n",
    "def validate(num):\n",
    "    if not(isinstance(num, int) and num > 0 and num < 100):\n",
    "        return ValueError('Invalid input')\n",
    "```\n",
    "\n",
    "III:\n",
    "```\n",
    "def validate(num):\n",
    "    if not(isinstance(num, int) and num > 0 and num < 100):\n",
    "        raise ValueError('Invalid input')\n",
    "```\n",
    "\n",
    "Which functions will work correctly?\n",
    "\n",
    "- a: all of them\n",
    "- b: none of them\n",
    "- c: `II` and `III` only\n",
    "- d: `III` only\n"
   ]
  },
  {
   "cell_type": "markdown",
   "id": "14b4cbe5",
   "metadata": {},
   "source": [
    "#### Q7"
   ]
  },
  {
   "cell_type": "markdown",
   "id": "d3db0f85",
   "metadata": {},
   "source": [
    "You want to create a function that takes two positional arguments, and one optional keyword-only argument (with a default of `True`).\n",
    "\n",
    "What should the function header look like?\n",
    "\n",
    "- a: `def func(a, b, kwarg=True)`\n",
    "- b: `def func(a, b, **kwargs, kwarg=True)`\n",
    "- c: `def func(a, b, *, kwarg=True)`\n",
    "- d: `def func(kwarg=True, *, a, b)`\n"
   ]
  },
  {
   "cell_type": "markdown",
   "id": "8509f705",
   "metadata": {},
   "source": [
    "#### Q8"
   ]
  },
  {
   "cell_type": "markdown",
   "id": "18201dfc",
   "metadata": {},
   "source": [
    "One of the solutions to a quadratic equation:\n",
    "$$\n",
    "ax^2+bx+c=0\n",
    "$$\n",
    "is given by this formula:\n",
    "$$\n",
    "\\frac{-b+\\sqrt{b^2-4ac}}{2a}\n",
    "$$\n",
    "\n",
    "Write a function that calculates this solution of a quadratic equations given specific values for `a`, `b`, and `c`. The result should be rounded to `2` digits after the decimal point.\n",
    "\n",
    "For example, given the equation:\n",
    "$$\n",
    "3x^2 + 4x - 5 = 0\n",
    "$$\n",
    "your function should return `0.79`.\n",
    "\n",
    "What is the result for this equation?\n",
    "\n",
    "$$\n",
    "x^2 - 5x - 8 = 0\n",
    "$$\n"
   ]
  },
  {
   "cell_type": "markdown",
   "id": "761a97b0",
   "metadata": {},
   "source": [
    "#### Q9"
   ]
  },
  {
   "cell_type": "markdown",
   "id": "e90113fc",
   "metadata": {},
   "source": [
    "The following function performs a (very) simplistic encryption of a given string:"
   ]
  },
  {
   "cell_type": "code",
   "execution_count": 1,
   "id": "b0a8dd7d",
   "metadata": {},
   "outputs": [],
   "source": [
    "def encrypt(s):\n",
    "    return ''.join(chr(ord(c) + 10) for c in s)"
   ]
  },
  {
   "cell_type": "markdown",
   "id": "25b1ed15",
   "metadata": {},
   "source": [
    "Write a function that reverses the encryption, and decrypt the following string:\n",
    "\n",
    "```\n",
    "'S}kkm*Xo\\x81~yx'\n",
    "```\n"
   ]
  },
  {
   "cell_type": "markdown",
   "id": "2e5f0cc7",
   "metadata": {},
   "source": [
    "#### Q10"
   ]
  },
  {
   "cell_type": "markdown",
   "id": "09b445f2",
   "metadata": {},
   "source": [
    "Given the following strings:"
   ]
  },
  {
   "cell_type": "code",
   "execution_count": 2,
   "id": "236e9098",
   "metadata": {},
   "outputs": [],
   "source": [
    "currencies = 'USD, CAD, USD, JPY,  AUD'\n",
    "values = [100, 200, 300, 400, 500]"
   ]
  },
  {
   "cell_type": "markdown",
   "id": "c503eb61",
   "metadata": {},
   "source": [
    "Which of these functions will produce the following result when called with `currencies` and `values` passed as the first and second positional arguments respectively:\n",
    "\n",
    "```func(currencies, values) --> \"100 USD, 200 CAD, 300 USD, 400 JPY, 500 AUD\"```"
   ]
  },
  {
   "cell_type": "markdown",
   "id": "3ee8ffd0",
   "metadata": {},
   "source": [
    "I.\n",
    "```\n",
    "def func(currencies, values):\n",
    "    currencies = currencies.split(',')\n",
    "    result = ''\n",
    "    for i in range(min(len(currencies), len(values))):\n",
    "        currency = currencies[i].strip()\n",
    "        value = str(values[i])\n",
    "        result = result + value + ' ' + currency + ', '\n",
    "    return result.strip(', ')\n",
    "```\n",
    "\n",
    "II.\n",
    "```\n",
    "def func(currencies, values):\n",
    "    currencies = [s.strip() for s in currencies.split(',')]\n",
    "    result = []\n",
    "    for currency, value in zip(currencies, values):\n",
    "        result.append(str(value) + ' ' + currency)\n",
    "    return ', '.join(result)\n",
    "```\n",
    "\n",
    "III.\n",
    "```\n",
    "def func(currencies, values):\n",
    "    return ', '.join(\n",
    "        [\n",
    "            str(v1) + ' ' + v2 \n",
    "            for v1, v2 in zip(\n",
    "                values, \n",
    "                [s.strip() for s in currencies.split(',')]\n",
    "            )\n",
    "        ]\n",
    "    )\n",
    "```\n",
    "\n",
    "IV.\n",
    "```\n",
    "def func(currencies, values):\n",
    "    currencies = [s.strip() for s in currencies.split(',')]\n",
    "    result = [\n",
    "        ' '.join([str(v1), v2]) \n",
    "        for v1, v2 in zip(values, currencies)\n",
    "    ]\n",
    "    return ', '.join(result)\n",
    "```\n",
    "\n",
    "\n",
    "- a. I and II only\n",
    "- b. I, III, IV only\n",
    "- c. none of them\n",
    "- d. all of them\n"
   ]
  }
 ],
 "metadata": {
  "kernelspec": {
   "display_name": "Python 3 (ipykernel)",
   "language": "python",
   "name": "python3"
  },
  "language_info": {
   "codemirror_mode": {
    "name": "ipython",
    "version": 3
   },
   "file_extension": ".py",
   "mimetype": "text/x-python",
   "name": "python",
   "nbconvert_exporter": "python",
   "pygments_lexer": "ipython3",
   "version": "3.10.2"
  }
 },
 "nbformat": 4,
 "nbformat_minor": 5
}
