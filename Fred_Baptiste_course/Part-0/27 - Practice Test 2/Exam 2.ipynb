{
 "cells": [
  {
   "cell_type": "markdown",
   "id": "settled-patrol",
   "metadata": {},
   "source": [
    "### Exam 2"
   ]
  },
  {
   "cell_type": "markdown",
   "id": "referenced-allergy",
   "metadata": {},
   "source": [
    "#### Q1"
   ]
  },
  {
   "cell_type": "markdown",
   "id": "pharmaceutical-catch",
   "metadata": {},
   "source": [
    "We are creating a list of `(x, y)` coordinate pairs (represented as tuples), based on calculating the `math.sin` function of a given sequence of `x` values. (You can assume that the `math` module has been imported)"
   ]
  },
  {
   "cell_type": "markdown",
   "id": "equipped-error",
   "metadata": {},
   "source": [
    "For example, given:"
   ]
  },
  {
   "cell_type": "code",
   "execution_count": 1,
   "id": "abstract-script",
   "metadata": {},
   "outputs": [],
   "source": [
    "x = [1, 2, 3, 4, 5, 6]"
   ]
  },
  {
   "cell_type": "markdown",
   "id": "restricted-removal",
   "metadata": {},
   "source": [
    "The return value of calling the function `gen_coords(math.sin, x)` should return:\n",
    "\n",
    "```\n",
    "[(1, 0.8414709848078965),\n",
    " (2, 0.9092974268256817),\n",
    " (3, 0.1411200080598672),\n",
    " (4, -0.7568024953079282),\n",
    " (5, -0.9589242746631385),\n",
    " (6, -0.27941549819892586)]\n",
    "```"
   ]
  },
  {
   "cell_type": "markdown",
   "id": "american-program",
   "metadata": {},
   "source": [
    "Which of the following functions will work correctly?\n",
    "\n",
    "I.\n",
    "```\n",
    "def gen_coords(fn, x):\n",
    "    return list(zip(x, map(fn, x)))\n",
    "```\n",
    "\n",
    "II.\n",
    "```\n",
    "def gen_coords(fn, x):\n",
    "    return [(v, fn(v)) for v in x]\n",
    "```\n",
    "\n",
    "III.\n",
    "```\n",
    "def gen_coords(fn, x):\n",
    "    return [(v, map(fn, v)) for v in x]\n",
    "```\n",
    "\n",
    "- a. I only\n",
    "- b. I and II only\n",
    "- c. I and III only\n",
    "- d. all of them\n"
   ]
  },
  {
   "cell_type": "markdown",
   "id": "active-terminal",
   "metadata": {},
   "source": [
    "#### Q2"
   ]
  },
  {
   "cell_type": "markdown",
   "id": "controlling-publication",
   "metadata": {},
   "source": [
    "The following collection of dictionaries has to be filtered to only include the elements with a `symbol` field equal to`ABC`, and ordered by the difference between high and low in descending order."
   ]
  },
  {
   "cell_type": "code",
   "execution_count": 2,
   "id": "intensive-madonna",
   "metadata": {},
   "outputs": [],
   "source": [
    "data = [\n",
    "    {\n",
    "        'symbol': 'ABC',\n",
    "        'date': '1900-01-01',\n",
    "        'high': 100,\n",
    "        'low': 50\n",
    "    },\n",
    "    {\n",
    "        'symbol': 'ABC',\n",
    "        'date': '1900-01-02',\n",
    "        'high': 90,\n",
    "        'low': 60\n",
    "    },\n",
    "    {\n",
    "        'symbol': 'DEF',\n",
    "        'date': '1900-01-01',\n",
    "        'high': 100,\n",
    "        'low': 50\n",
    "    },\n",
    "    {\n",
    "        'symbol': 'ABC',\n",
    "        'date': '1900-01-03',\n",
    "        'high': 120,\n",
    "        'low': 10\n",
    "    },\n",
    "    {\n",
    "        'date': '1900-01-04',\n",
    "        'high': 100,\n",
    "        'low': 90\n",
    "    }\n",
    "]"
   ]
  },
  {
   "cell_type": "markdown",
   "id": "amateur-bookmark",
   "metadata": {},
   "source": [
    "For this data set, the result should be:"
   ]
  },
  {
   "cell_type": "markdown",
   "id": "statutory-huntington",
   "metadata": {},
   "source": [
    "```\n",
    "[\n",
    "    {\n",
    "        'symbol': 'ABC',\n",
    "        'date': '1900-01-03',\n",
    "        'high': 120,\n",
    "        'low': 10\n",
    "    },\n",
    "    {\n",
    "        'symbol': 'ABC',\n",
    "        'date': '1900-01-01',\n",
    "        'high': 100,\n",
    "        'low': 50\n",
    "    },\n",
    "    {\n",
    "        'symbol': 'ABC',\n",
    "        'date': '1900-01-02',\n",
    "        'high': 90,\n",
    "        'low': 60\n",
    "    }    \n",
    "]\n",
    "```"
   ]
  },
  {
   "cell_type": "markdown",
   "id": "sensitive-pocket",
   "metadata": {},
   "source": [
    "Which of the following functions will return the desired result?"
   ]
  },
  {
   "cell_type": "markdown",
   "id": "focal-cricket",
   "metadata": {},
   "source": [
    "I.\n",
    "```\n",
    "def extract(data):\n",
    "    pred = lambda d: d.get('symbol') == 'ABC'\n",
    "    filtered = filter(pred, data)\n",
    "    return list(sorted(filtered, key=lambda d: d['high'] - d['low'], reverse=True))\n",
    "```\n",
    "\n",
    "II.\n",
    "```\n",
    "def extract(data):\n",
    "    filtered = filter(lambda d: d['symbol'] == 'AAPL', data)\n",
    "    return list(sorted(filtered, key=lambda d: d['high'] - d['low'], reverse=True))\n",
    "```\n",
    "\n",
    "III.\n",
    "```\n",
    "def extract(data):\n",
    "    filtered = []\n",
    "    for d in data:\n",
    "        if d.get('symbol') == 'ABC':\n",
    "            filtered.append(d)\n",
    "    sort_func = lambda d: d['high'] - d['low']\n",
    "    sorted_data = sorted(filtered, key=sort_func, reverse=True)\n",
    "    return list(sorted_data)\n",
    "```\n",
    "\n",
    "- a. I only\n",
    "- b. I and II only\n",
    "- c. I and III only\n",
    "- d. all of them\n"
   ]
  },
  {
   "cell_type": "markdown",
   "id": "previous-kruger",
   "metadata": {},
   "source": [
    "#### Q3"
   ]
  },
  {
   "cell_type": "markdown",
   "id": "talented-grounds",
   "metadata": {},
   "source": [
    "The following function is meant to be used as a decorator that will convert the result of a function to an ISO formatted date string if the function returns a `datetime` object, and leave the result unaffected otherwise."
   ]
  },
  {
   "cell_type": "markdown",
   "id": "solid-dividend",
   "metadata": {},
   "source": [
    "```\n",
    "1 from datetime import datetime\n",
    "2 \n",
    "3 def normalize_datetime(fn):\n",
    "4     def inner(*args, **kwargs):\n",
    "5         result = fn(args, kwargs)\n",
    "6         if isinstance(result, datetime):\n",
    "7             result = result.isoformat()\n",
    "8         return fn\n",
    "9     return result\n",
    "```"
   ]
  },
  {
   "cell_type": "markdown",
   "id": "satisfactory-enterprise",
   "metadata": {},
   "source": [
    "However, there are a few things wrong with this function. Which of the following changes should be made to this function for it to work properly:"
   ]
  },
  {
   "cell_type": "markdown",
   "id": "medieval-intake",
   "metadata": {},
   "source": [
    "I. Line 5 should be changed to: `result = fn(*args, **kwargs)`\n",
    "\n",
    "II. Line 8 should be changed to: `return result`\n",
    "\n",
    "III. Line 9 should be changed to: `return inner`\n",
    "\n",
    "\n",
    "- a. I and II only\n",
    "- b. II and III only\n",
    "- c. I and III only\n",
    "- d. all of them\n"
   ]
  },
  {
   "cell_type": "markdown",
   "id": "olive-stockholm",
   "metadata": {},
   "source": [
    "#### Q4"
   ]
  },
  {
   "cell_type": "markdown",
   "id": "sexual-actress",
   "metadata": {},
   "source": [
    "What format string should be used to parse the following string into a `datetime` object using the `datetime.strptime()` function:\n",
    "\n",
    "```\n",
    "t = '8:30pm on the 3rd of March, 2020'\n",
    "```"
   ]
  },
  {
   "cell_type": "markdown",
   "id": "portuguese-replication",
   "metadata": {},
   "source": [
    "- a. `'%H:%m%p on the %Drd of %M, %Y'`\n",
    "- b. `'%I:%M%p on the %drd of %B, %Y'`\n",
    "- c. `'%h:%h%p on the %drd of %b, %Y'`\n",
    "- d. `'%I:%M%P on the %drd of %B, %Y'`\n"
   ]
  },
  {
   "cell_type": "markdown",
   "id": "excessive-lighter",
   "metadata": {},
   "source": [
    "#### Q5"
   ]
  },
  {
   "cell_type": "markdown",
   "id": "failing-algeria",
   "metadata": {},
   "source": [
    "You are writing some code to append lines of text to an existing text file.\n",
    "\n",
    "Which variant of the `open` function should you use:\n",
    "\n",
    "- a. `open(f, 'r')`\n",
    "- b. `open(f, 'w')`\n",
    "- c. `open(f, 'a')`\n",
    "- d. `open(f, 'rw')`\n"
   ]
  },
  {
   "cell_type": "markdown",
   "id": "opened-hunger",
   "metadata": {},
   "source": [
    "#### Q6"
   ]
  },
  {
   "cell_type": "markdown",
   "id": "coastal-anthony",
   "metadata": {},
   "source": [
    "A CSV file has rows formatted as follows:\n",
    "\n",
    "```\n",
    "'/string-1/- string2- string3-100'\n",
    "```\n",
    "\n",
    "Parsing this row should result in the fields `['string-1', ' string2', ' string3', '100']`"
   ]
  },
  {
   "cell_type": "markdown",
   "id": "nervous-athens",
   "metadata": {},
   "source": [
    "What settings should be used when using Python's CSV reader to parse this file correctly?\n",
    "\n",
    "- a. `csv.reader(file, delimiter='-', quotechar='/', skipinitialspace=False)`\n",
    "- b. `csv.reader(file, delimiter='-', quotechar='/', skipinitialspace=True)`\n",
    "- c. `csv.reader(file, delimiter='/', quotechar='-', skipinitialspace=False)`\n",
    "- d. `csv.reader(file, delimiter='/', quotechar='-', skipinitialspace=True)`\n"
   ]
  },
  {
   "cell_type": "markdown",
   "id": "documented-african",
   "metadata": {},
   "source": [
    "#### Q7"
   ]
  },
  {
   "cell_type": "markdown",
   "id": "extended-carolina",
   "metadata": {},
   "source": [
    "Which of the following expressions can be used to generate a random `float` in the interval `[15, 25)` (i.e. the random number `x` should satisfy `15 <= x < 25`)\n",
    "\n",
    "- a. `15 + 25 * random.number()`\n",
    "- b. `10 + 15 * random.number()`\n",
    "- c. `40 * random.number() - 15`\n",
    "- d. `15 + 10 * random.random()`\n"
   ]
  },
  {
   "cell_type": "markdown",
   "id": "suited-australian",
   "metadata": {},
   "source": [
    "#### Q8"
   ]
  },
  {
   "cell_type": "markdown",
   "id": "hired-beverage",
   "metadata": {},
   "source": [
    "For this exercise you will need to first set your random seed to `-1` (`random.seed(-1)`)\n",
    "\n",
    "Once you have done this, use the `statistics` module to create a normal distribution centered at `3` with a standard deviation of `5`. Determine the median of a `50` element sample from the distribution (use the distribution object's `sample()` method to extract your sample of `50` elements).\n",
    "\n",
    "The median, rounded to 2 digits after the decimal point is:\n",
    "- a. `3.0`\n",
    "- b. `3.83`\n",
    "- c. `5.0`\n",
    "- d. `2.99`\n"
   ]
  },
  {
   "cell_type": "markdown",
   "id": "human-antigua",
   "metadata": {},
   "source": [
    "#### Q9"
   ]
  },
  {
   "cell_type": "markdown",
   "id": "abroad-decrease",
   "metadata": {},
   "source": [
    "You have this 2-dimensional `Vector` class defined as follows:"
   ]
  },
  {
   "cell_type": "code",
   "execution_count": 3,
   "id": "derived-viewer",
   "metadata": {},
   "outputs": [],
   "source": [
    "class Vector:\n",
    "    def __init__(self, x, y):\n",
    "        self._x = x\n",
    "        self._y = y\n",
    "        \n",
    "    @property\n",
    "    def x(self):\n",
    "        return self._x\n",
    "    \n",
    "    @property \n",
    "    def y(self):\n",
    "        return self._y"
   ]
  },
  {
   "cell_type": "markdown",
   "id": "worth-noise",
   "metadata": {},
   "source": [
    "When you print out an instance of this class, Python's default string representation is shown. You would rather have a more specific representation that should result in the **same output** for **both** `repr()` and `str()` of the instance."
   ]
  },
  {
   "cell_type": "markdown",
   "id": "black-objective",
   "metadata": {},
   "source": [
    "For example, if you have a vector:"
   ]
  },
  {
   "cell_type": "code",
   "execution_count": 4,
   "id": "intended-marsh",
   "metadata": {},
   "outputs": [],
   "source": [
    "v = Vector(1, 2)"
   ]
  },
  {
   "cell_type": "markdown",
   "id": "alert-vegetation",
   "metadata": {},
   "source": [
    "Then you want the following results:\n",
    "\n",
    "`str(v)` --> `'Vector(1, 2)'`\n",
    "\n",
    "`repr(v)` --> `'Vector(1, 2)'`"
   ]
  },
  {
   "cell_type": "markdown",
   "id": "northern-initial",
   "metadata": {},
   "source": [
    "What code can you add to your class to do this:"
   ]
  },
  {
   "cell_type": "markdown",
   "id": "amazing-mason",
   "metadata": {},
   "source": [
    "I. \n",
    "```\n",
    "def __str__(self):\n",
    "    return f'Vector({self.x}, {self.y})'\n",
    "```\n",
    "\n",
    "II.\n",
    "```\n",
    "def __repr__(self):\n",
    "    return f'Vector({self.x}, {self.y})'\n",
    "```\n",
    "\n",
    "III. \n",
    "```\n",
    "def __str__(self):\n",
    "    return f'Vector({self._x}, {self._y})'\n",
    "```\n",
    "\n",
    "IV.\n",
    "```\n",
    "def __repr__(self):\n",
    "    return f'Vector({self._x}, {self._y})'\n",
    "```\n",
    "\n",
    "\n",
    "- a. I or II only\n",
    "- b. III or IV only\n",
    "- c. II or IV only\n",
    "- d. any of them will work\n"
   ]
  },
  {
   "cell_type": "markdown",
   "id": "smoking-broadcast",
   "metadata": {},
   "source": [
    "#### Q10"
   ]
  },
  {
   "cell_type": "markdown",
   "id": "enormous-scott",
   "metadata": {},
   "source": [
    "Continuing with the `Vector` class defined in the previous question, we want to implement equality of two instances of `Vector` such that two instances are considered equal if:\n",
    "- they are both instances of `Vector`\n",
    "- the `x` components of each vector are equal, and the `y` components of each vector are equal"
   ]
  },
  {
   "cell_type": "markdown",
   "id": "motivated-linux",
   "metadata": {},
   "source": [
    "Once you have implemented this functionality, then:\n",
    "\n",
    "```\n",
    "Vector(1, 2) == Vector(1, 2)\n",
    "```\n",
    "\n",
    "should evaluate to `True`"
   ]
  },
  {
   "cell_type": "markdown",
   "id": "spiritual-insert",
   "metadata": {},
   "source": [
    "Which of the following additions to your class could implement this behavior:"
   ]
  },
  {
   "cell_type": "markdown",
   "id": "academic-introduction",
   "metadata": {},
   "source": [
    "I.\n",
    "```\n",
    "def __eq__(self, other):\n",
    "    return self == other\n",
    "```\n",
    "\n",
    "II.\n",
    "```\n",
    "def __eq__(self, other):\n",
    "    return isinstance(other, Vector)\n",
    "```\n",
    "\n",
    "III.\n",
    "```\n",
    "def __eq__(self, other):\n",
    "    if (\n",
    "        isinstance(other, Vector) \n",
    "        and self.x == other.x \n",
    "        and self.y == other.y\n",
    "    ):\n",
    "        return True\n",
    "    return False\n",
    "```\n",
    "\n",
    "- a. I only\n",
    "- b. II only\n",
    "- c. III only\n",
    "- d. none of them\n"
   ]
  }
 ],
 "metadata": {
  "kernelspec": {
   "display_name": "Python 3",
   "language": "python",
   "name": "python3"
  },
  "language_info": {
   "codemirror_mode": {
    "name": "ipython",
    "version": 3
   },
   "file_extension": ".py",
   "mimetype": "text/x-python",
   "name": "python",
   "nbconvert_exporter": "python",
   "pygments_lexer": "ipython3",
   "version": "3.9.1"
  }
 },
 "nbformat": 4,
 "nbformat_minor": 5
}
