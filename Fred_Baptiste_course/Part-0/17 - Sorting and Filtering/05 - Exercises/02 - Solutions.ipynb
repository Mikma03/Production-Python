{
 "cells": [
  {
   "cell_type": "markdown",
   "id": "primary-nutrition",
   "metadata": {},
   "source": [
    "### Solutions"
   ]
  },
  {
   "cell_type": "markdown",
   "id": "democratic-capture",
   "metadata": {},
   "source": [
    "#### Question 1"
   ]
  },
  {
   "cell_type": "markdown",
   "id": "environmental-gather",
   "metadata": {},
   "source": [
    "Given a list of tuples containing two numerical values, write a function that returns a list of the same tuples, sorted by the absolute value of the difference between the two numbers, in descending order."
   ]
  },
  {
   "cell_type": "markdown",
   "id": "civic-african",
   "metadata": {},
   "source": [
    "For example, if the input is:"
   ]
  },
  {
   "cell_type": "code",
   "execution_count": 1,
   "id": "allied-margin",
   "metadata": {},
   "outputs": [],
   "source": [
    "l = [\n",
    "    (1, 2),\n",
    "    (-4, -5.5),\n",
    "    (10, -10),\n",
    "    (-2, 2)\n",
    "]"
   ]
  },
  {
   "cell_type": "markdown",
   "id": "affecting-renewal",
   "metadata": {},
   "source": [
    "Then the return value of the function should be:\n",
    "\n",
    "```\n",
    "[\n",
    "  (10, -10)\n",
    "  (-2, 2),\n",
    "  (-4, -5.5),\n",
    "  (1, 2)\n",
    "]\n",
    "```"
   ]
  },
  {
   "cell_type": "markdown",
   "id": "blind-travel",
   "metadata": {},
   "source": [
    "##### Solution"
   ]
  },
  {
   "cell_type": "markdown",
   "id": "aware-spokesman",
   "metadata": {},
   "source": [
    "We'll use the `sorted` function with a custom `key` function that will calculate the absolute value of the difference between the two elements of each tuple."
   ]
  },
  {
   "cell_type": "markdown",
   "id": "elect-strike",
   "metadata": {},
   "source": [
    "Let's write that `key` function first as a regular function:"
   ]
  },
  {
   "cell_type": "code",
   "execution_count": 2,
   "id": "addressed-scotland",
   "metadata": {},
   "outputs": [],
   "source": [
    "def sort_key(t):\n",
    "    return abs(t[0] - t[1])"
   ]
  },
  {
   "cell_type": "markdown",
   "id": "embedded-difference",
   "metadata": {},
   "source": [
    "Let's test it out on a few inputs:"
   ]
  },
  {
   "cell_type": "code",
   "execution_count": 3,
   "id": "universal-stand",
   "metadata": {},
   "outputs": [],
   "source": [
    "data = [(-2, 2), (-1, 1), (10, 13)]"
   ]
  },
  {
   "cell_type": "code",
   "execution_count": 4,
   "id": "arbitrary-hudson",
   "metadata": {},
   "outputs": [
    {
     "name": "stdout",
     "output_type": "stream",
     "text": [
      "-2 2 4\n",
      "-1 1 2\n",
      "10 13 3\n"
     ]
    }
   ],
   "source": [
    "for t in data:\n",
    "    print(t[0], t[1], sort_key(t))"
   ]
  },
  {
   "cell_type": "markdown",
   "id": "instant-philip",
   "metadata": {},
   "source": [
    "Now let's define our sorting function."
   ]
  },
  {
   "cell_type": "markdown",
   "id": "stylish-computer",
   "metadata": {},
   "source": [
    "It needs to take a list of tuples (or more generally a sequence of sequences, each of which contains two elements (at least)), and return a sorted list using our key function, in descending order."
   ]
  },
  {
   "cell_type": "code",
   "execution_count": 5,
   "id": "beautiful-dealing",
   "metadata": {},
   "outputs": [],
   "source": [
    "def sort_by_abs_diff(l):\n",
    "    return sorted(l, key=sort_key)"
   ]
  },
  {
   "cell_type": "markdown",
   "id": "helpful-consolidation",
   "metadata": {},
   "source": [
    "Let's try it out and see how that works:"
   ]
  },
  {
   "cell_type": "code",
   "execution_count": 6,
   "id": "alternate-request",
   "metadata": {},
   "outputs": [
    {
     "data": {
      "text/plain": [
       "[(-1, 1), (10, 13), (-2, 2)]"
      ]
     },
     "execution_count": 6,
     "metadata": {},
     "output_type": "execute_result"
    }
   ],
   "source": [
    "sort_by_abs_diff(data)"
   ]
  },
  {
   "cell_type": "markdown",
   "id": "indie-speech",
   "metadata": {},
   "source": [
    "Looking good, but we want the list to be sorted in descending order - currently it is sorting in ascending order (from smallest absolute diff to largest) - let's reverse the sort direction, and while we're at it we'll use a lambda function since that key function is simple enough that we don't need to use a `def`:"
   ]
  },
  {
   "cell_type": "code",
   "execution_count": 7,
   "id": "finnish-bidder",
   "metadata": {},
   "outputs": [],
   "source": [
    "def sort_by_abs_diff(l):\n",
    "    return sorted(\n",
    "        l, \n",
    "        key=lambda t: abs(t[0] - t[1]),\n",
    "        reverse=True\n",
    "    )"
   ]
  },
  {
   "cell_type": "code",
   "execution_count": 8,
   "id": "ordinary-pantyhose",
   "metadata": {},
   "outputs": [
    {
     "data": {
      "text/plain": [
       "[(-2, 2), (10, 13), (-1, 1)]"
      ]
     },
     "execution_count": 8,
     "metadata": {},
     "output_type": "execute_result"
    }
   ],
   "source": [
    "sort_by_abs_diff(data)"
   ]
  },
  {
   "cell_type": "markdown",
   "id": "light-forestry",
   "metadata": {},
   "source": [
    "Let's try it out with the example given in the question:"
   ]
  },
  {
   "cell_type": "code",
   "execution_count": 9,
   "id": "qualified-alexander",
   "metadata": {},
   "outputs": [
    {
     "data": {
      "text/plain": [
       "[(10, -10), (-2, 2), (-4, -5.5), (1, 2)]"
      ]
     },
     "execution_count": 9,
     "metadata": {},
     "output_type": "execute_result"
    }
   ],
   "source": [
    "sort_by_abs_diff(l)"
   ]
  },
  {
   "cell_type": "markdown",
   "id": "declared-interstate",
   "metadata": {},
   "source": [
    "#### Question 2"
   ]
  },
  {
   "cell_type": "markdown",
   "id": "limiting-nicaragua",
   "metadata": {},
   "source": [
    "Given the following data:"
   ]
  },
  {
   "cell_type": "code",
   "execution_count": 10,
   "id": "assisted-fleet",
   "metadata": {},
   "outputs": [],
   "source": [
    "suits = 'shdc'  # Spades, Hearts, Diamonds, Clubs\n",
    "ranks = list('23456789') + ['10', 'J', 'Q', 'K', 'A']"
   ]
  },
  {
   "cell_type": "markdown",
   "id": "inner-diagnosis",
   "metadata": {},
   "source": [
    "Write a function that given those two inputs, returns a list with all 52 cards, i.e.\n",
    "\n",
    "```\n",
    "[\n",
    "  ['2s', '3s', ..., 'Ks', 'As'],\n",
    "  ['2h', '3h', ..., 'Kh', 'Ah'],\n",
    "  ...\n",
    "]\n",
    "```"
   ]
  },
  {
   "cell_type": "markdown",
   "id": "banned-eligibility",
   "metadata": {},
   "source": [
    "Then, enhance this function so that an optional argument can be used to specify whether the cards in each suit should be sorted in ascending or descending rank order (assume `A` has the highest rank in its suit)."
   ]
  },
  {
   "cell_type": "markdown",
   "id": "dressed-count",
   "metadata": {},
   "source": [
    "##### Solution"
   ]
  },
  {
   "cell_type": "markdown",
   "id": "intimate-appendix",
   "metadata": {},
   "source": [
    "We've already seen this exercise before - when we created the deck of cards (but as tuples).\n",
    "\n",
    "Here we want to create a card as a single string wirh rank and suit - but the approach for creating the deck is similar."
   ]
  },
  {
   "cell_type": "code",
   "execution_count": 11,
   "id": "committed-feelings",
   "metadata": {},
   "outputs": [],
   "source": [
    "def deck(suits, ranks):\n",
    "    deck = [\n",
    "        [r + s for r in ranks]\n",
    "        for s in suits\n",
    "    ]\n",
    "    return deck"
   ]
  },
  {
   "cell_type": "code",
   "execution_count": 12,
   "id": "loaded-humanitarian",
   "metadata": {},
   "outputs": [
    {
     "name": "stdout",
     "output_type": "stream",
     "text": [
      "[['2s', '3s', '4s', '5s', '6s', '7s', '8s', '9s', '10s', 'Js', 'Qs', 'Ks', 'As'], ['2h', '3h', '4h', '5h', '6h', '7h', '8h', '9h', '10h', 'Jh', 'Qh', 'Kh', 'Ah'], ['2d', '3d', '4d', '5d', '6d', '7d', '8d', '9d', '10d', 'Jd', 'Qd', 'Kd', 'Ad'], ['2c', '3c', '4c', '5c', '6c', '7c', '8c', '9c', '10c', 'Jc', 'Qc', 'Kc', 'Ac']]\n"
     ]
    }
   ],
   "source": [
    "print(deck(suits, ranks))"
   ]
  },
  {
   "cell_type": "markdown",
   "id": "complex-lender",
   "metadata": {},
   "source": [
    "Now we need to turn our attention to sorting the ranks."
   ]
  },
  {
   "cell_type": "code",
   "execution_count": 13,
   "id": "broke-resolution",
   "metadata": {},
   "outputs": [
    {
     "data": {
      "text/plain": [
       "['2', '3', '4', '5', '6', '7', '8', '9', '10', 'J', 'Q', 'K', 'A']"
      ]
     },
     "execution_count": 13,
     "metadata": {},
     "output_type": "execute_result"
    }
   ],
   "source": [
    "ranks"
   ]
  },
  {
   "cell_type": "markdown",
   "id": "disturbed-documentary",
   "metadata": {},
   "source": [
    "If we just try sorting by the natural sort order, what do we get?"
   ]
  },
  {
   "cell_type": "code",
   "execution_count": 14,
   "id": "right-plasma",
   "metadata": {},
   "outputs": [
    {
     "data": {
      "text/plain": [
       "['10', '2', '3', '4', '5', '6', '7', '8', '9', 'A', 'J', 'K', 'Q']"
      ]
     },
     "execution_count": 14,
     "metadata": {},
     "output_type": "execute_result"
    }
   ],
   "source": [
    "sorted(ranks)"
   ]
  },
  {
   "cell_type": "markdown",
   "id": "specified-agency",
   "metadata": {},
   "source": [
    "So, we'll definitely need to specify a key."
   ]
  },
  {
   "cell_type": "markdown",
   "id": "affected-arrest",
   "metadata": {},
   "source": [
    "The problem is that we are dealing with strings - some of which contain digits (`2-10`) and some of which contain face cards (`J, Q, K, A`)."
   ]
  },
  {
   "cell_type": "markdown",
   "id": "instrumental-idaho",
   "metadata": {},
   "source": [
    "So, we need to somehow define the sort order of each of the cards. An easy way to do this would be to create an associative array that can be used to map the rank symbol (`2, 3, ..., 10, J, Q, K, A`) to a rank number (`1, 2, 3, ..., 10, 11, 12, 13`)."
   ]
  },
  {
   "cell_type": "markdown",
   "id": "functioning-friend",
   "metadata": {},
   "source": [
    "There are different ways we could do this, maybe a dictionary with the rank symbols as keys, and the rank number as the corresponding value. That would work just fine - let's try it out:"
   ]
  },
  {
   "cell_type": "code",
   "execution_count": 15,
   "id": "earned-israel",
   "metadata": {},
   "outputs": [],
   "source": [
    "rank_order = {\n",
    "    '2': 1,\n",
    "    '3': 2,\n",
    "    '4': 3,\n",
    "    '5': 4,\n",
    "    '6': 5,\n",
    "    '7': 6,\n",
    "    '8': 7,\n",
    "    '9': 8,\n",
    "    '10': 9,\n",
    "    'J': 10,\n",
    "    'Q': 11,\n",
    "    'K': 12,\n",
    "    'A': 13\n",
    "}"
   ]
  },
  {
   "cell_type": "markdown",
   "id": "dramatic-rates",
   "metadata": {},
   "source": [
    "To sort the `ranks` using this mapping, we could do this:"
   ]
  },
  {
   "cell_type": "code",
   "execution_count": 16,
   "id": "coordinated-representation",
   "metadata": {},
   "outputs": [
    {
     "data": {
      "text/plain": [
       "['2', '3', '4', '5', '6', '7', '8', '9', '10', 'J', 'Q', 'K', 'A']"
      ]
     },
     "execution_count": 16,
     "metadata": {},
     "output_type": "execute_result"
    }
   ],
   "source": [
    "sorted(ranks, key=lambda rank: rank_order[rank])"
   ]
  },
  {
   "cell_type": "markdown",
   "id": "pressed-intranet",
   "metadata": {},
   "source": [
    "And for descending order:"
   ]
  },
  {
   "cell_type": "code",
   "execution_count": 17,
   "id": "working-lecture",
   "metadata": {},
   "outputs": [
    {
     "data": {
      "text/plain": [
       "['A', 'K', 'Q', 'J', '10', '9', '8', '7', '6', '5', '4', '3', '2']"
      ]
     },
     "execution_count": 17,
     "metadata": {},
     "output_type": "execute_result"
    }
   ],
   "source": [
    "sorted(ranks, key=lambda rank: rank_order[rank], reverse=True)"
   ]
  },
  {
   "cell_type": "markdown",
   "id": "blind-commander",
   "metadata": {},
   "source": [
    "We can then use this in our function:"
   ]
  },
  {
   "cell_type": "code",
   "execution_count": 18,
   "id": "alternate-matter",
   "metadata": {},
   "outputs": [],
   "source": [
    "def deck(suits, ranks, *, reverse=False):\n",
    "    deck = [\n",
    "        [\n",
    "            r + s \n",
    "            for r in sorted(ranks, key=lambda rank: rank_order[rank], reverse=reverse)\n",
    "        ]\n",
    "        for s in suits\n",
    "    ]\n",
    "    return deck"
   ]
  },
  {
   "cell_type": "code",
   "execution_count": 19,
   "id": "cooked-antigua",
   "metadata": {},
   "outputs": [
    {
     "name": "stdout",
     "output_type": "stream",
     "text": [
      "[['2s', '3s', '4s', '5s', '6s', '7s', '8s', '9s', '10s', 'Js', 'Qs', 'Ks', 'As'], ['2h', '3h', '4h', '5h', '6h', '7h', '8h', '9h', '10h', 'Jh', 'Qh', 'Kh', 'Ah'], ['2d', '3d', '4d', '5d', '6d', '7d', '8d', '9d', '10d', 'Jd', 'Qd', 'Kd', 'Ad'], ['2c', '3c', '4c', '5c', '6c', '7c', '8c', '9c', '10c', 'Jc', 'Qc', 'Kc', 'Ac']]\n"
     ]
    }
   ],
   "source": [
    "print(deck(suits, ranks))"
   ]
  },
  {
   "cell_type": "code",
   "execution_count": 20,
   "id": "ceramic-responsibility",
   "metadata": {},
   "outputs": [
    {
     "name": "stdout",
     "output_type": "stream",
     "text": [
      "[['As', 'Ks', 'Qs', 'Js', '10s', '9s', '8s', '7s', '6s', '5s', '4s', '3s', '2s'], ['Ah', 'Kh', 'Qh', 'Jh', '10h', '9h', '8h', '7h', '6h', '5h', '4h', '3h', '2h'], ['Ad', 'Kd', 'Qd', 'Jd', '10d', '9d', '8d', '7d', '6d', '5d', '4d', '3d', '2d'], ['Ac', 'Kc', 'Qc', 'Jc', '10c', '9c', '8c', '7c', '6c', '5c', '4c', '3c', '2c']]\n"
     ]
    }
   ],
   "source": [
    "print(deck(suits, ranks, reverse=True))"
   ]
  },
  {
   "cell_type": "markdown",
   "id": "comfortable-aruba",
   "metadata": {},
   "source": [
    "As you can see this approach works well."
   ]
  },
  {
   "cell_type": "markdown",
   "id": "close-completion",
   "metadata": {},
   "source": [
    "But I didn't particularly enjoy writing that dictionary by hand!!!"
   ]
  },
  {
   "cell_type": "markdown",
   "id": "center-tribe",
   "metadata": {},
   "source": [
    "So, another way to do this is to create another list with the rank numbers, and zip that up with the ranks themselves:"
   ]
  },
  {
   "cell_type": "code",
   "execution_count": 21,
   "id": "tested-burlington",
   "metadata": {},
   "outputs": [
    {
     "data": {
      "text/plain": [
       "['2', '3', '4', '5', '6', '7', '8', '9', '10', 'J', 'Q', 'K', 'A']"
      ]
     },
     "execution_count": 21,
     "metadata": {},
     "output_type": "execute_result"
    }
   ],
   "source": [
    "ranks"
   ]
  },
  {
   "cell_type": "code",
   "execution_count": 22,
   "id": "unnecessary-guest",
   "metadata": {},
   "outputs": [
    {
     "data": {
      "text/plain": [
       "[1, 2, 3, 4, 5, 6, 7, 8, 9, 10, 11, 12, 13]"
      ]
     },
     "execution_count": 22,
     "metadata": {},
     "output_type": "execute_result"
    }
   ],
   "source": [
    "rank_numbers = list(range(1, 14))\n",
    "rank_numbers"
   ]
  },
  {
   "cell_type": "code",
   "execution_count": 23,
   "id": "polar-valuable",
   "metadata": {},
   "outputs": [
    {
     "data": {
      "text/plain": [
       "[('2', 1),\n",
       " ('3', 2),\n",
       " ('4', 3),\n",
       " ('5', 4),\n",
       " ('6', 5),\n",
       " ('7', 6),\n",
       " ('8', 7),\n",
       " ('9', 8),\n",
       " ('10', 9),\n",
       " ('J', 10),\n",
       " ('Q', 11),\n",
       " ('K', 12),\n",
       " ('A', 13)]"
      ]
     },
     "execution_count": 23,
     "metadata": {},
     "output_type": "execute_result"
    }
   ],
   "source": [
    "rank_orders = list(zip(ranks, rank_numbers))\n",
    "rank_orders"
   ]
  },
  {
   "cell_type": "markdown",
   "id": "detailed-cherry",
   "metadata": {},
   "source": [
    "We can then sort these ranks this way:"
   ]
  },
  {
   "cell_type": "code",
   "execution_count": 24,
   "id": "square-professional",
   "metadata": {},
   "outputs": [
    {
     "data": {
      "text/plain": [
       "[('2', 1),\n",
       " ('3', 2),\n",
       " ('4', 3),\n",
       " ('5', 4),\n",
       " ('6', 5),\n",
       " ('7', 6),\n",
       " ('8', 7),\n",
       " ('9', 8),\n",
       " ('10', 9),\n",
       " ('J', 10),\n",
       " ('Q', 11),\n",
       " ('K', 12),\n",
       " ('A', 13)]"
      ]
     },
     "execution_count": 24,
     "metadata": {},
     "output_type": "execute_result"
    }
   ],
   "source": [
    "sorted(rank_orders, key=lambda t: t[1])"
   ]
  },
  {
   "cell_type": "code",
   "execution_count": 25,
   "id": "stupid-funds",
   "metadata": {},
   "outputs": [
    {
     "data": {
      "text/plain": [
       "[('A', 13),\n",
       " ('K', 12),\n",
       " ('Q', 11),\n",
       " ('J', 10),\n",
       " ('10', 9),\n",
       " ('9', 8),\n",
       " ('8', 7),\n",
       " ('7', 6),\n",
       " ('6', 5),\n",
       " ('5', 4),\n",
       " ('4', 3),\n",
       " ('3', 2),\n",
       " ('2', 1)]"
      ]
     },
     "execution_count": 25,
     "metadata": {},
     "output_type": "execute_result"
    }
   ],
   "source": [
    "sorted(rank_orders, key=lambda t: t[1], reverse=True)"
   ]
  },
  {
   "cell_type": "markdown",
   "id": "purple-culture",
   "metadata": {},
   "source": [
    "Of course, we're only interested in the sorted symbols, not the attached rank number:"
   ]
  },
  {
   "cell_type": "code",
   "execution_count": 26,
   "id": "standard-guess",
   "metadata": {},
   "outputs": [
    {
     "data": {
      "text/plain": [
       "['A', 'K', 'Q', 'J', '10', '9', '8', '7', '6', '5', '4', '3', '2']"
      ]
     },
     "execution_count": 26,
     "metadata": {},
     "output_type": "execute_result"
    }
   ],
   "source": [
    "[rank for rank, rank_number in sorted(rank_orders, key=lambda t: t[1], reverse=True)]"
   ]
  },
  {
   "cell_type": "markdown",
   "id": "senior-victoria",
   "metadata": {},
   "source": [
    "So now let's re-write our function to use this approach:"
   ]
  },
  {
   "cell_type": "code",
   "execution_count": 27,
   "id": "august-dancing",
   "metadata": {},
   "outputs": [],
   "source": [
    "def deck(suits, ranks, *, reverse=False):\n",
    "    ordered_ranks = [\n",
    "        rank \n",
    "        for rank, rank_number in sorted(\n",
    "            list(zip(ranks, range(1, 14))), \n",
    "            key=lambda t: t[1], \n",
    "            reverse=reverse\n",
    "        )]\n",
    "    return [\n",
    "        [\n",
    "            r + s \n",
    "            for r in ordered_ranks\n",
    "        ]\n",
    "        for s in suits\n",
    "    ]\n",
    "    "
   ]
  },
  {
   "cell_type": "code",
   "execution_count": 28,
   "id": "turkish-welding",
   "metadata": {},
   "outputs": [
    {
     "name": "stdout",
     "output_type": "stream",
     "text": [
      "[['As', 'Ks', 'Qs', 'Js', '10s', '9s', '8s', '7s', '6s', '5s', '4s', '3s', '2s'], ['Ah', 'Kh', 'Qh', 'Jh', '10h', '9h', '8h', '7h', '6h', '5h', '4h', '3h', '2h'], ['Ad', 'Kd', 'Qd', 'Jd', '10d', '9d', '8d', '7d', '6d', '5d', '4d', '3d', '2d'], ['Ac', 'Kc', 'Qc', 'Jc', '10c', '9c', '8c', '7c', '6c', '5c', '4c', '3c', '2c']]\n"
     ]
    }
   ],
   "source": [
    "print(deck(suits, ranks, reverse=True))"
   ]
  },
  {
   "cell_type": "markdown",
   "id": "purple-agenda",
   "metadata": {},
   "source": [
    "#### Question 3"
   ]
  },
  {
   "cell_type": "markdown",
   "id": "surgical-expense",
   "metadata": {},
   "source": [
    "Suppose we are given some data consisting of symbols (the keys in the dictionary) and values being a tuple containing Open/High/Low/Close values for that symbol.\n",
    "\n",
    "For example:"
   ]
  },
  {
   "cell_type": "code",
   "execution_count": 29,
   "id": "solid-reach",
   "metadata": {},
   "outputs": [],
   "source": [
    "data = {\n",
    "    'S1': (100, 200, 80, 180),\n",
    "    'S2': (10, 20, 8, 18),\n",
    "    'S3': (50, 150, 50, 150)\n",
    "}"
   ]
  },
  {
   "cell_type": "markdown",
   "id": "royal-coffee",
   "metadata": {},
   "source": [
    "Write a function that given this data as input, returns the symbol whose `high - low` is smallest."
   ]
  },
  {
   "cell_type": "markdown",
   "id": "graphic-algeria",
   "metadata": {},
   "source": [
    "Expand on your function so that it will either return the symbol with smallest or largest high/low difference, based on an extra argument passed to the function."
   ]
  },
  {
   "cell_type": "markdown",
   "id": "orange-chess",
   "metadata": {},
   "source": [
    "##### Solution"
   ]
  },
  {
   "cell_type": "markdown",
   "id": "tender-tunnel",
   "metadata": {},
   "source": [
    "We know that we can also specify a `key` argument for `min` and `max`, similar to the `sorted` function."
   ]
  },
  {
   "cell_type": "markdown",
   "id": "independent-daisy",
   "metadata": {},
   "source": [
    "We can use this key to compute `high - low` and base our minimum on that."
   ]
  },
  {
   "cell_type": "markdown",
   "id": "interstate-immune",
   "metadata": {},
   "source": [
    "But what are we \"sorting\"? The keys of the dictionary..."
   ]
  },
  {
   "cell_type": "markdown",
   "id": "fiscal-dover",
   "metadata": {},
   "source": [
    "So we want to find the \"smallest\" key in the dictionary with an order based `high - low` for each key, which is in fact `data[key][1] - data[key][2]`."
   ]
  },
  {
   "cell_type": "markdown",
   "id": "filled-thomas",
   "metadata": {},
   "source": [
    "Let's just see this with a single key first:"
   ]
  },
  {
   "cell_type": "code",
   "execution_count": 30,
   "id": "institutional-affairs",
   "metadata": {},
   "outputs": [],
   "source": [
    "k = 'S1'"
   ]
  },
  {
   "cell_type": "code",
   "execution_count": 31,
   "id": "automatic-oklahoma",
   "metadata": {},
   "outputs": [
    {
     "data": {
      "text/plain": [
       "(100, 200, 80, 180)"
      ]
     },
     "execution_count": 31,
     "metadata": {},
     "output_type": "execute_result"
    }
   ],
   "source": [
    "data[k]"
   ]
  },
  {
   "cell_type": "code",
   "execution_count": 32,
   "id": "forced-beverage",
   "metadata": {},
   "outputs": [],
   "source": [
    "high = data[k][1]\n",
    "low = data[k][2]"
   ]
  },
  {
   "cell_type": "code",
   "execution_count": 33,
   "id": "stuck-feedback",
   "metadata": {},
   "outputs": [
    {
     "data": {
      "text/plain": [
       "(200, 80)"
      ]
     },
     "execution_count": 33,
     "metadata": {},
     "output_type": "execute_result"
    }
   ],
   "source": [
    "high, low"
   ]
  },
  {
   "cell_type": "markdown",
   "id": "unlike-fortune",
   "metadata": {},
   "source": [
    "Let's apply `min` to the dictionary keys:"
   ]
  },
  {
   "cell_type": "code",
   "execution_count": 34,
   "id": "seventh-blake",
   "metadata": {},
   "outputs": [
    {
     "data": {
      "text/plain": [
       "'S1'"
      ]
     },
     "execution_count": 34,
     "metadata": {},
     "output_type": "execute_result"
    }
   ],
   "source": [
    "min(data.keys())"
   ]
  },
  {
   "cell_type": "markdown",
   "id": "polyphonic-third",
   "metadata": {},
   "source": [
    "or even just:"
   ]
  },
  {
   "cell_type": "code",
   "execution_count": 35,
   "id": "short-chick",
   "metadata": {},
   "outputs": [
    {
     "data": {
      "text/plain": [
       "'S1'"
      ]
     },
     "execution_count": 35,
     "metadata": {},
     "output_type": "execute_result"
    }
   ],
   "source": [
    "min(data)"
   ]
  },
  {
   "cell_type": "markdown",
   "id": "unlimited-joint",
   "metadata": {},
   "source": [
    "since by default, the keys are iterated when we iterate a dictionary."
   ]
  },
  {
   "cell_type": "markdown",
   "id": "headed-candle",
   "metadata": {},
   "source": [
    "But of course, the `min` function here based the sort order on the natural order of the keys - instead we want to sort based on the `high - low` difference."
   ]
  },
  {
   "cell_type": "markdown",
   "id": "laden-israeli",
   "metadata": {},
   "source": [
    "Question is, what value will the `key` function receive?"
   ]
  },
  {
   "cell_type": "markdown",
   "id": "stable-hypothesis",
   "metadata": {},
   "source": [
    "Since we are iterating over the **keys** of the dictionary, that's what the key function will receive - the keys of the dictionary."
   ]
  },
  {
   "cell_type": "markdown",
   "id": "healthy-florida",
   "metadata": {},
   "source": [
    "So, our key function needs to use that key, to then calculate `high-low` for that specific key."
   ]
  },
  {
   "cell_type": "code",
   "execution_count": 36,
   "id": "confidential-minute",
   "metadata": {},
   "outputs": [],
   "source": [
    "key_func = lambda key: data[key][1] - data[key][2]"
   ]
  },
  {
   "cell_type": "markdown",
   "id": "explicit-citation",
   "metadata": {},
   "source": [
    "Let's try it out:"
   ]
  },
  {
   "cell_type": "code",
   "execution_count": 37,
   "id": "herbal-herald",
   "metadata": {},
   "outputs": [
    {
     "name": "stdout",
     "output_type": "stream",
     "text": [
      "(100, 200, 80, 180)\n",
      "120\n"
     ]
    }
   ],
   "source": [
    "print(data['S1'])\n",
    "print(key_func('S1'))"
   ]
  },
  {
   "cell_type": "markdown",
   "id": "danish-revision",
   "metadata": {},
   "source": [
    "And now we can find the minimum based on that sort order:"
   ]
  },
  {
   "cell_type": "code",
   "execution_count": 38,
   "id": "amateur-fruit",
   "metadata": {},
   "outputs": [
    {
     "data": {
      "text/plain": [
       "'S2'"
      ]
     },
     "execution_count": 38,
     "metadata": {},
     "output_type": "execute_result"
    }
   ],
   "source": [
    "min(data, key=lambda key: data[key][1] - data[key][2])"
   ]
  },
  {
   "cell_type": "markdown",
   "id": "coastal-chick",
   "metadata": {},
   "source": [
    "We can now write our function to encapsulate this:"
   ]
  },
  {
   "cell_type": "code",
   "execution_count": 39,
   "id": "deluxe-lemon",
   "metadata": {},
   "outputs": [],
   "source": [
    "def find_min(d):\n",
    "    return min(d, key=lambda key: d[key][1] - d[key][2])"
   ]
  },
  {
   "cell_type": "code",
   "execution_count": 40,
   "id": "ambient-driving",
   "metadata": {},
   "outputs": [
    {
     "data": {
      "text/plain": [
       "'S2'"
      ]
     },
     "execution_count": 40,
     "metadata": {},
     "output_type": "execute_result"
    }
   ],
   "source": [
    "find_min(data)"
   ]
  },
  {
   "cell_type": "markdown",
   "id": "extensive-ocean",
   "metadata": {},
   "source": [
    "We also want to the ability to find the max."
   ]
  },
  {
   "cell_type": "markdown",
   "id": "appropriate-episode",
   "metadata": {},
   "source": [
    "One way to do this is to pass in an argument to indicate whether we are looking foir the min or the max:"
   ]
  },
  {
   "cell_type": "code",
   "execution_count": 41,
   "id": "valuable-italic",
   "metadata": {},
   "outputs": [],
   "source": [
    "def find_extreme(d, *, is_min=True):\n",
    "    if is_min:\n",
    "        return min(d, key=lambda key: d[key][1] - d[key][2])\n",
    "    else:\n",
    "        return max(d, key=lambda key: d[key][1] - d[key][2])"
   ]
  },
  {
   "cell_type": "code",
   "execution_count": 42,
   "id": "expired-terry",
   "metadata": {},
   "outputs": [
    {
     "data": {
      "text/plain": [
       "'S2'"
      ]
     },
     "execution_count": 42,
     "metadata": {},
     "output_type": "execute_result"
    }
   ],
   "source": [
    "find_extreme(data)"
   ]
  },
  {
   "cell_type": "code",
   "execution_count": 43,
   "id": "pharmaceutical-response",
   "metadata": {},
   "outputs": [
    {
     "data": {
      "text/plain": [
       "'S1'"
      ]
     },
     "execution_count": 43,
     "metadata": {},
     "output_type": "execute_result"
    }
   ],
   "source": [
    "find_extreme(data, is_min=False)"
   ]
  },
  {
   "cell_type": "markdown",
   "id": "social-going",
   "metadata": {},
   "source": [
    "But, if you think about it, we could just as easily find the max by using the `min` function, but \"reversing\" the sort order by multiplying the differences by `-1`."
   ]
  },
  {
   "cell_type": "markdown",
   "id": "external-settle",
   "metadata": {},
   "source": [
    "For example, if we find the minimum based on these ordering values `[1, 2, 3]`, we would get the first element (associated with `1`).\n",
    "\n",
    "And if we find the minimum based on these ordering values `[-1, -2, -3]`, then we would get the last element (associated with `-3`). Basically the same as if we had founnd the maximum of the elements associated with `[1, 2, 3]`."
   ]
  },
  {
   "cell_type": "markdown",
   "id": "dated-responsibility",
   "metadata": {},
   "source": [
    "So, we could also write our function this way:"
   ]
  },
  {
   "cell_type": "code",
   "execution_count": 44,
   "id": "consistent-graduation",
   "metadata": {},
   "outputs": [],
   "source": [
    "def find_extreme(d, *, is_min=True):\n",
    "    mult = 1 if is_min else -1\n",
    "    return min(d, key=lambda key: mult * (d[key][1] - d[key][2]))"
   ]
  },
  {
   "cell_type": "code",
   "execution_count": 45,
   "id": "sacred-lightweight",
   "metadata": {},
   "outputs": [
    {
     "data": {
      "text/plain": [
       "('S2', 'S1')"
      ]
     },
     "execution_count": 45,
     "metadata": {},
     "output_type": "execute_result"
    }
   ],
   "source": [
    "find_extreme(data), find_extreme(data, is_min=False)"
   ]
  },
  {
   "cell_type": "markdown",
   "id": "realistic-optimum",
   "metadata": {},
   "source": [
    "#### Question 4"
   ]
  },
  {
   "cell_type": "markdown",
   "id": "grand-nightlife",
   "metadata": {},
   "source": [
    "Given data that might look like this:"
   ]
  },
  {
   "cell_type": "code",
   "execution_count": 46,
   "id": "human-occasions",
   "metadata": {},
   "outputs": [],
   "source": [
    "quotes = [\n",
    "    ('AACC', 6.05, 6.07, 6.03, 6.05, 65800),\n",
    "    ('AAME', 1.7, 1.82, 1.7, 1.82, 4300),\n",
    "    ('AAON', 24.98, 25.07, 24.9, 24.94, 28200),\n",
    "    ('AAPL', 317.99, 319.57, 316.75, 317.13, 12901800),\n",
    "    ('AATI', 3.82, 3.82, 3.74, 3.79, 194600),\n",
    "    ('AAWW', 60.89, 61.44, 60.5, 61.19, 272800),\n",
    "    ('AAXJ', 65.4, 65.71, 65.28, 65.56, 390300),\n",
    "    ('ABAT', 4.01, 4.01, 3.95, 3.99, 656300),\n",
    "    ('ABAX', 25.26, 25.49, 25.04, 25.42, 73700),\n",
    "    ('ABBC', 11.75, 11.88, 11.48, 11.53, 29700),\n",
    "    ('ABCB', 9.3, 9.3, 9.06, 9.14, 42600),\n",
    "    ('ABCD', 3.25, 3.25, 3.11, 3.22, 122800),\n",
    "    ('ABCO', 48.75, 50.41, 46.9, 50.37, 66300),\n",
    "    ('ABCW', 0.52, 0.61, 0.52, 0.53, 83000),\n",
    "    ('ABFS', 25.98, 26.27, 25.41, 25.5, 384900),\n",
    "    ('ABIO', 3.96, 4, 3.88, 4, 38500),\n",
    "    ('ABMD', 11.94, 12, 11.69, 11.87, 122600),\n",
    "    ('ABTL', 0.82, 0.84, 0.82, 0.83, 28700),\n",
    "    ('ABVA', 3.09, 3.25, 3.09, 3.25, 6200),\n",
    "    ('ACAD', 0.76, 0.76, 0.7, 0.74, 341500),\n",
    "    ('ACAS', 7.52, 7.72, 7.52, 7.66, 5199800),\n",
    "    ('ACAT', 14.44, 14.44, 14.04, 14.2, 51700),\n",
    "    ('ACCL', 8.11, 8.21, 7.94, 8.1, 456100),\n",
    "    ('ACET', 8.01, 8.04, 7.13, 7.73, 575600),\n",
    "    ('ACFC', 1.69, 1.7, 1.5, 1.6, 12300),\n",
    "    ('ACFN', 3.82, 4, 3.82, 3.98, 53700),\n",
    "    ('ACGL', 89.76, 90.14, 89.39, 89.92, 240900),\n",
    "    ('ACGY', 22.41, 22.56, 22.25, 22.46, 86800),\n",
    "    ('ACHN', 3.12, 3.2, 3.07, 3.16, 113700),\n",
    "    ('ACIW', 26.96, 27.03, 26.63, 26.8, 157000),\n",
    "    ('ACLI', 33.65, 33.77, 33.45, 33.63, 28700),\n",
    "    ('ACLS', 2.47, 2.63, 2.46, 2.53, 1818800),\n",
    "    ('ACMR', 2.69, 2.84, 2.37, 2.71, 158600),\n",
    "    ('ACOM', 25.2, 26.6, 24.9, 26.56, 265300),\n",
    "    ('ACOR', 26.67, 27.07, 26.38, 27.04, 1415000),\n",
    "    ('ACPW', 1.84, 1.89, 1.77, 1.85, 565500),\n",
    "    ('ACTG', 27.2, 27.43, 26.86, 27.18, 228800),\n",
    "    ('ACTI', 3.25, 3.26, 3.25, 3.26, 148500),\n",
    "    ('ACTS', 2.08, 2.09, 2.07, 2.07, 130500),\n",
    "    ('ACUR', 2.6, 2.64, 2.51, 2.6, 16000),\n",
    "    ('ACWI', 46.53, 46.7, 46.32, 46.51, 286200),\n",
    "    ('ACWX', 44.49, 44.66, 44.36, 44.6, 55500),\n",
    "    ('ACXM', 18, 18.07, 17.81, 18.01, 289800),\n",
    "    ('ADAM', 7.34, 7.49, 7.33, 7.44, 81700),\n",
    "    ('ADAT', 0.6, 0.68, 0.59, 0.66, 86400),\n",
    "    ('ADBE', 29.43, 29.71, 29.07, 29.14, 7585300),\n",
    "    ('ADCT', 12.68, 12.69, 12.66, 12.68, 1660500),\n",
    "    ('ADEP', 6.14, 6.14, 4.95, 5.61, 71000),\n",
    "    ('ADES', 6.2, 6.22, 6, 6.19, 4800),\n",
    "    ('ADGF', 4.31, 4.55, 4.31, 4.54, 10200)\n",
    "]"
   ]
  },
  {
   "cell_type": "markdown",
   "id": "incoming-prayer",
   "metadata": {},
   "source": [
    "where each tuple consists of the following data: \n",
    "```\n",
    "(symbol, open, high, low, close, volume)\n",
    "```"
   ]
  },
  {
   "cell_type": "markdown",
   "id": "quarterly-policy",
   "metadata": {},
   "source": [
    "Use the `filter` function to generate a list of rows where the `close` value is more than `10%` away from the `high` value."
   ]
  },
  {
   "cell_type": "markdown",
   "id": "saving-interval",
   "metadata": {},
   "source": [
    "Once you have done this succesfully, modify your code so that we can use any value for the percentage instead of this fixed 10%."
   ]
  },
  {
   "cell_type": "markdown",
   "id": "exceptional-breast",
   "metadata": {},
   "source": [
    "##### Solution"
   ]
  },
  {
   "cell_type": "markdown",
   "id": "biblical-davis",
   "metadata": {},
   "source": [
    "First, let's look at a single record and see how we might calculate the percentage difference between `close` and `high` (as a percentage of `high`)."
   ]
  },
  {
   "cell_type": "code",
   "execution_count": 47,
   "id": "brazilian-living",
   "metadata": {},
   "outputs": [],
   "source": [
    "row = ('ADGF', 4.31, 4.55, 4.31, 4.54, 10200)"
   ]
  },
  {
   "cell_type": "markdown",
   "id": "apparent-outline",
   "metadata": {},
   "source": [
    "We can extract the `close` and `high` values:"
   ]
  },
  {
   "cell_type": "code",
   "execution_count": 48,
   "id": "conceptual-newsletter",
   "metadata": {},
   "outputs": [],
   "source": [
    "close = row[4]\n",
    "high = row[2]"
   ]
  },
  {
   "cell_type": "code",
   "execution_count": 49,
   "id": "governmental-diary",
   "metadata": {},
   "outputs": [
    {
     "data": {
      "text/plain": [
       "(4.54, 4.55)"
      ]
     },
     "execution_count": 49,
     "metadata": {},
     "output_type": "execute_result"
    }
   ],
   "source": [
    "close, high"
   ]
  },
  {
   "cell_type": "markdown",
   "id": "executed-threat",
   "metadata": {},
   "source": [
    "We can calculate the percentage this way:"
   ]
  },
  {
   "cell_type": "code",
   "execution_count": 50,
   "id": "collective-registration",
   "metadata": {},
   "outputs": [
    {
     "data": {
      "text/plain": [
       "0.002197802197802151"
      ]
     },
     "execution_count": 50,
     "metadata": {},
     "output_type": "execute_result"
    }
   ],
   "source": [
    "abs(close - high) / high"
   ]
  },
  {
   "cell_type": "markdown",
   "id": "structural-jenny",
   "metadata": {},
   "source": [
    "And then we'll want to find only those rows where that percentage is > 0.1 (10%)."
   ]
  },
  {
   "cell_type": "markdown",
   "id": "cosmetic-murray",
   "metadata": {},
   "source": [
    "We'll use the `filter` function which will be applied to `quotes` - a list of these tuples. So the predicate function in `filter` will receive the tuple as its argument, and our predicate function needs to return `True` if the difference is more than 10%, and `False` otherwise."
   ]
  },
  {
   "cell_type": "markdown",
   "id": "rolled-harrison",
   "metadata": {},
   "source": [
    "Let's write the predicate function first as a regular function:"
   ]
  },
  {
   "cell_type": "code",
   "execution_count": 51,
   "id": "changing-johnston",
   "metadata": {},
   "outputs": [],
   "source": [
    "def is_more_than_10(t):\n",
    "    close = t[4]\n",
    "    high = t[2]\n",
    "    diff = abs(close - high) / high\n",
    "    return diff > 0.1"
   ]
  },
  {
   "cell_type": "markdown",
   "id": "foster-rubber",
   "metadata": {},
   "source": [
    "We can test it on a few rows:"
   ]
  },
  {
   "cell_type": "code",
   "execution_count": 52,
   "id": "grateful-capital",
   "metadata": {},
   "outputs": [
    {
     "data": {
      "text/plain": [
       "False"
      ]
     },
     "execution_count": 52,
     "metadata": {},
     "output_type": "execute_result"
    }
   ],
   "source": [
    "is_more_than_10(('ADGF', 4.31, 4.55, 4.31, 4.54, 10200))"
   ]
  },
  {
   "cell_type": "code",
   "execution_count": 53,
   "id": "welsh-reputation",
   "metadata": {},
   "outputs": [
    {
     "data": {
      "text/plain": [
       "False"
      ]
     },
     "execution_count": 53,
     "metadata": {},
     "output_type": "execute_result"
    }
   ],
   "source": [
    "is_more_than_10(('ABCO', 48.75, 50.41, 46.9, 50.37, 66300))"
   ]
  },
  {
   "cell_type": "markdown",
   "id": "incredible-reliance",
   "metadata": {},
   "source": [
    "Let's fudge the numbers to make sure `True` is returned when appropriate:"
   ]
  },
  {
   "cell_type": "code",
   "execution_count": 54,
   "id": "fleet-premium",
   "metadata": {},
   "outputs": [
    {
     "data": {
      "text/plain": [
       "True"
      ]
     },
     "execution_count": 54,
     "metadata": {},
     "output_type": "execute_result"
    }
   ],
   "source": [
    "is_more_than_10(('ABCO', 48.75, 100, 46.9, 50.37, 66300))"
   ]
  },
  {
   "cell_type": "markdown",
   "id": "crazy-consequence",
   "metadata": {},
   "source": [
    "Now we can use this predicate with a filter:"
   ]
  },
  {
   "cell_type": "code",
   "execution_count": 55,
   "id": "occupational-capture",
   "metadata": {},
   "outputs": [
    {
     "data": {
      "text/plain": [
       "[('ABCW', 0.52, 0.61, 0.52, 0.53, 83000)]"
      ]
     },
     "execution_count": 55,
     "metadata": {},
     "output_type": "execute_result"
    }
   ],
   "source": [
    "list(filter(is_more_than_10, quotes))"
   ]
  },
  {
   "cell_type": "markdown",
   "id": "designing-palestinian",
   "metadata": {},
   "source": [
    "We can simplify our predicate function:"
   ]
  },
  {
   "cell_type": "code",
   "execution_count": 56,
   "id": "monthly-dispute",
   "metadata": {},
   "outputs": [],
   "source": [
    "def is_more_than_10(t):\n",
    "    return abs(t[4] - t[2]) / t[2] > 0.1"
   ]
  },
  {
   "cell_type": "markdown",
   "id": "rotary-manner",
   "metadata": {},
   "source": [
    "We could also use a lambda in this case:"
   ]
  },
  {
   "cell_type": "code",
   "execution_count": 57,
   "id": "decent-patent",
   "metadata": {},
   "outputs": [
    {
     "data": {
      "text/plain": [
       "[('ABCW', 0.52, 0.61, 0.52, 0.53, 83000)]"
      ]
     },
     "execution_count": 57,
     "metadata": {},
     "output_type": "execute_result"
    }
   ],
   "source": [
    "list(filter(lambda t: abs(t[4] - t[2]) / t[2] > 0.1, quotes))"
   ]
  },
  {
   "cell_type": "markdown",
   "id": "headed-blues",
   "metadata": {},
   "source": [
    "But I want to use the `def` version of the predicate, because now we want the ability to specify any value for the threshold (hardcoded to 10% at the moment)."
   ]
  },
  {
   "cell_type": "markdown",
   "id": "paperback-madison",
   "metadata": {},
   "source": [
    "The problem is that the predicate function in `filter` will only receive the tuple - we cannot additional pass in the threshold value."
   ]
  },
  {
   "cell_type": "markdown",
   "id": "hourly-jacob",
   "metadata": {},
   "source": [
    "We could certainly write different predicate functions:"
   ]
  },
  {
   "cell_type": "code",
   "execution_count": 58,
   "id": "outside-native",
   "metadata": {},
   "outputs": [],
   "source": [
    "def is_more_than_5(t):\n",
    "    return abs(t[4] - t[2]) / t[2] > 0.05\n",
    "\n",
    "def is_more_than_1(t):\n",
    "    return abs(t[4] - t[2]) / t[2] > 0.01"
   ]
  },
  {
   "cell_type": "markdown",
   "id": "minute-occasion",
   "metadata": {},
   "source": [
    "And then use them for filtering:"
   ]
  },
  {
   "cell_type": "code",
   "execution_count": 59,
   "id": "silent-norfolk",
   "metadata": {},
   "outputs": [
    {
     "data": {
      "text/plain": [
       "[('ABCW', 0.52, 0.61, 0.52, 0.53, 83000),\n",
       " ('ACFC', 1.69, 1.7, 1.5, 1.6, 12300),\n",
       " ('ADEP', 6.14, 6.14, 4.95, 5.61, 71000)]"
      ]
     },
     "execution_count": 59,
     "metadata": {},
     "output_type": "execute_result"
    }
   ],
   "source": [
    "list(filter(is_more_than_5, quotes))"
   ]
  },
  {
   "cell_type": "code",
   "execution_count": 60,
   "id": "authorized-february",
   "metadata": {},
   "outputs": [
    {
     "data": {
      "text/plain": [
       "[('ABBC', 11.75, 11.88, 11.48, 11.53, 29700),\n",
       " ('ABCB', 9.3, 9.3, 9.06, 9.14, 42600),\n",
       " ('ABCW', 0.52, 0.61, 0.52, 0.53, 83000),\n",
       " ('ABFS', 25.98, 26.27, 25.41, 25.5, 384900),\n",
       " ('ABMD', 11.94, 12, 11.69, 11.87, 122600),\n",
       " ('ABTL', 0.82, 0.84, 0.82, 0.83, 28700),\n",
       " ('ACAD', 0.76, 0.76, 0.7, 0.74, 341500),\n",
       " ('ACAT', 14.44, 14.44, 14.04, 14.2, 51700),\n",
       " ('ACCL', 8.11, 8.21, 7.94, 8.1, 456100),\n",
       " ('ACET', 8.01, 8.04, 7.13, 7.73, 575600),\n",
       " ('ACFC', 1.69, 1.7, 1.5, 1.6, 12300),\n",
       " ('ACHN', 3.12, 3.2, 3.07, 3.16, 113700),\n",
       " ('ACLS', 2.47, 2.63, 2.46, 2.53, 1818800),\n",
       " ('ACMR', 2.69, 2.84, 2.37, 2.71, 158600),\n",
       " ('ACPW', 1.84, 1.89, 1.77, 1.85, 565500),\n",
       " ('ACUR', 2.6, 2.64, 2.51, 2.6, 16000),\n",
       " ('ADAT', 0.6, 0.68, 0.59, 0.66, 86400),\n",
       " ('ADBE', 29.43, 29.71, 29.07, 29.14, 7585300),\n",
       " ('ADEP', 6.14, 6.14, 4.95, 5.61, 71000)]"
      ]
     },
     "execution_count": 60,
     "metadata": {},
     "output_type": "execute_result"
    }
   ],
   "source": [
    "list(filter(is_more_than_1, quotes))"
   ]
  },
  {
   "cell_type": "markdown",
   "id": "conceptual-rental",
   "metadata": {},
   "source": [
    "But this is very repetitive code, and we can do much better by using... a closure! Remember the partial example we did just now? We can use a similar approach here, to generate predicate functions with the desired threshold values."
   ]
  },
  {
   "cell_type": "code",
   "execution_count": 61,
   "id": "structural-hours",
   "metadata": {},
   "outputs": [],
   "source": [
    "def more_than(threshold):\n",
    "    def predicate(t):\n",
    "        return abs(t[4] - t[2]) / t[2] > threshold\n",
    "    return predicate"
   ]
  },
  {
   "cell_type": "markdown",
   "id": "enabling-personal",
   "metadata": {},
   "source": [
    "As you can see, when we call `more_than(0.1)` we'll end up with a predicate function where the `threshold` will be set to `0.1`:"
   ]
  },
  {
   "cell_type": "code",
   "execution_count": 62,
   "id": "technological-compiler",
   "metadata": {},
   "outputs": [],
   "source": [
    "pred = more_than(0.1)"
   ]
  },
  {
   "cell_type": "code",
   "execution_count": 63,
   "id": "hispanic-conversion",
   "metadata": {},
   "outputs": [
    {
     "data": {
      "text/plain": [
       "True"
      ]
     },
     "execution_count": 63,
     "metadata": {},
     "output_type": "execute_result"
    }
   ],
   "source": [
    "pred(('ABCO', 48.75, 100, 46.9, 50.37, 66300))"
   ]
  },
  {
   "cell_type": "markdown",
   "id": "dried-sector",
   "metadata": {},
   "source": [
    "Similarly, we can create a predicate function with a threshold of `0.05`:"
   ]
  },
  {
   "cell_type": "code",
   "execution_count": 64,
   "id": "returning-princeton",
   "metadata": {},
   "outputs": [],
   "source": [
    "pred = more_than(0.05)"
   ]
  },
  {
   "cell_type": "code",
   "execution_count": 65,
   "id": "organizational-winner",
   "metadata": {},
   "outputs": [
    {
     "data": {
      "text/plain": [
       "True"
      ]
     },
     "execution_count": 65,
     "metadata": {},
     "output_type": "execute_result"
    }
   ],
   "source": [
    "pred(('ABCW', 0.52, 0.61, 0.52, 0.53, 83000))"
   ]
  },
  {
   "cell_type": "markdown",
   "id": "subsequent-dakota",
   "metadata": {},
   "source": [
    "So now, we can easily filter based on any particular threshold this way:"
   ]
  },
  {
   "cell_type": "code",
   "execution_count": 66,
   "id": "southern-parade",
   "metadata": {},
   "outputs": [
    {
     "data": {
      "text/plain": [
       "[('ABCW', 0.52, 0.61, 0.52, 0.53, 83000)]"
      ]
     },
     "execution_count": 66,
     "metadata": {},
     "output_type": "execute_result"
    }
   ],
   "source": [
    "list(filter(more_than(0.1), quotes))"
   ]
  },
  {
   "cell_type": "code",
   "execution_count": 67,
   "id": "subtle-opera",
   "metadata": {},
   "outputs": [
    {
     "data": {
      "text/plain": [
       "[('ABCW', 0.52, 0.61, 0.52, 0.53, 83000),\n",
       " ('ACFC', 1.69, 1.7, 1.5, 1.6, 12300),\n",
       " ('ADEP', 6.14, 6.14, 4.95, 5.61, 71000)]"
      ]
     },
     "execution_count": 67,
     "metadata": {},
     "output_type": "execute_result"
    }
   ],
   "source": [
    "list(filter(more_than(0.05), quotes))"
   ]
  },
  {
   "cell_type": "code",
   "execution_count": 68,
   "id": "distant-waters",
   "metadata": {},
   "outputs": [
    {
     "data": {
      "text/plain": [
       "[('ABBC', 11.75, 11.88, 11.48, 11.53, 29700),\n",
       " ('ABCB', 9.3, 9.3, 9.06, 9.14, 42600),\n",
       " ('ABCW', 0.52, 0.61, 0.52, 0.53, 83000),\n",
       " ('ABFS', 25.98, 26.27, 25.41, 25.5, 384900),\n",
       " ('ABMD', 11.94, 12, 11.69, 11.87, 122600),\n",
       " ('ABTL', 0.82, 0.84, 0.82, 0.83, 28700),\n",
       " ('ACAD', 0.76, 0.76, 0.7, 0.74, 341500),\n",
       " ('ACAT', 14.44, 14.44, 14.04, 14.2, 51700),\n",
       " ('ACCL', 8.11, 8.21, 7.94, 8.1, 456100),\n",
       " ('ACET', 8.01, 8.04, 7.13, 7.73, 575600),\n",
       " ('ACFC', 1.69, 1.7, 1.5, 1.6, 12300),\n",
       " ('ACHN', 3.12, 3.2, 3.07, 3.16, 113700),\n",
       " ('ACLS', 2.47, 2.63, 2.46, 2.53, 1818800),\n",
       " ('ACMR', 2.69, 2.84, 2.37, 2.71, 158600),\n",
       " ('ACPW', 1.84, 1.89, 1.77, 1.85, 565500),\n",
       " ('ACUR', 2.6, 2.64, 2.51, 2.6, 16000),\n",
       " ('ADAT', 0.6, 0.68, 0.59, 0.66, 86400),\n",
       " ('ADBE', 29.43, 29.71, 29.07, 29.14, 7585300),\n",
       " ('ADEP', 6.14, 6.14, 4.95, 5.61, 71000)]"
      ]
     },
     "execution_count": 68,
     "metadata": {},
     "output_type": "execute_result"
    }
   ],
   "source": [
    "list(filter(more_than(0.01), quotes))"
   ]
  },
  {
   "cell_type": "markdown",
   "id": "cathedral-undergraduate",
   "metadata": {},
   "source": [
    "#### Question 5"
   ]
  },
  {
   "cell_type": "markdown",
   "id": "reserved-walnut",
   "metadata": {},
   "source": [
    "Given an arbitrary list of numbers, write an expression that returns the smallest value in the list based on the absolute values of ech number."
   ]
  },
  {
   "cell_type": "markdown",
   "id": "olympic-thanksgiving",
   "metadata": {},
   "source": [
    "For example, given the list:"
   ]
  },
  {
   "cell_type": "code",
   "execution_count": 69,
   "id": "polished-kenya",
   "metadata": {},
   "outputs": [],
   "source": [
    "l = [5, 6, -4, 8]"
   ]
  },
  {
   "cell_type": "markdown",
   "id": "understanding-chile",
   "metadata": {},
   "source": [
    "Your expression should return `-4`."
   ]
  },
  {
   "cell_type": "markdown",
   "id": "ordinary-guarantee",
   "metadata": {},
   "source": [
    "##### Solution"
   ]
  },
  {
   "cell_type": "markdown",
   "id": "tired-yesterday",
   "metadata": {},
   "source": [
    "Let's recall that the `min` function, like the `sorted` (and `max`) functions can take a key function to specify a custom ordering."
   ]
  },
  {
   "cell_type": "markdown",
   "id": "destroyed-heath",
   "metadata": {},
   "source": [
    "In this case, we want to order the numbers based on the absolute value of each one, and then find the minimum value based on that ordering."
   ]
  },
  {
   "cell_type": "markdown",
   "id": "latin-cooperative",
   "metadata": {},
   "source": [
    "We don't even need to write the key function, it already exists: `abs`"
   ]
  },
  {
   "cell_type": "markdown",
   "id": "suspected-client",
   "metadata": {},
   "source": [
    "So, we can use it directly with the `min` function:"
   ]
  },
  {
   "cell_type": "code",
   "execution_count": 70,
   "id": "painful-bonus",
   "metadata": {},
   "outputs": [
    {
     "data": {
      "text/plain": [
       "-4"
      ]
     },
     "execution_count": 70,
     "metadata": {},
     "output_type": "execute_result"
    }
   ],
   "source": [
    "min(l, key=abs)"
   ]
  }
 ],
 "metadata": {
  "kernelspec": {
   "display_name": "Python 3",
   "language": "python",
   "name": "python3"
  },
  "language_info": {
   "codemirror_mode": {
    "name": "ipython",
    "version": 3
   },
   "file_extension": ".py",
   "mimetype": "text/x-python",
   "name": "python",
   "nbconvert_exporter": "python",
   "pygments_lexer": "ipython3",
   "version": "3.9.1"
  }
 },
 "nbformat": 4,
 "nbformat_minor": 5
}
