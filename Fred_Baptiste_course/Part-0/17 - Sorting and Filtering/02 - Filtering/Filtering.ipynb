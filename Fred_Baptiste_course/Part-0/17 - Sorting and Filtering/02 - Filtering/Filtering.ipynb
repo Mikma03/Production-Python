{
 "cells": [
  {
   "cell_type": "markdown",
   "metadata": {},
   "source": [
    "### Filtering"
   ]
  },
  {
   "cell_type": "markdown",
   "metadata": {},
   "source": [
    "If we think about filtering an iterable, we want to keep or discard values in the iterable based on whether some condition holds True or not."
   ]
  },
  {
   "cell_type": "markdown",
   "metadata": {},
   "source": [
    "So, we could approach filtering this way."
   ]
  },
  {
   "cell_type": "markdown",
   "metadata": {},
   "source": [
    "Suppose we want to filter the following list based on whether the value is even (discarding odd numbers)."
   ]
  },
  {
   "cell_type": "code",
   "execution_count": 1,
   "metadata": {},
   "outputs": [],
   "source": [
    "data = [1, 2, 3, 4, 5, 6, 7, 8, 10]"
   ]
  },
  {
   "cell_type": "markdown",
   "metadata": {},
   "source": [
    "We might write a function that takes any number and returns `True` if the number is even, and `False` if it is odd."
   ]
  },
  {
   "cell_type": "markdown",
   "metadata": {},
   "source": [
    "Functions that return `True` or `False` based on one or more arguments, are called **predicate** functions."
   ]
  },
  {
   "cell_type": "code",
   "execution_count": 2,
   "metadata": {},
   "outputs": [],
   "source": [
    "def is_even(n):\n",
    "    return n % 2 == 0"
   ]
  },
  {
   "cell_type": "markdown",
   "metadata": {},
   "source": [
    "We can now use this predicate function to generate a new list containing only those elements where the predicate function is `True`:"
   ]
  },
  {
   "cell_type": "code",
   "execution_count": 3,
   "metadata": {},
   "outputs": [
    {
     "name": "stdout",
     "output_type": "stream",
     "text": [
      "[2, 4, 6, 8, 10]\n"
     ]
    }
   ],
   "source": [
    "evens = [n for n in data if is_even(n)]\n",
    "\n",
    "print(evens)"
   ]
  },
  {
   "cell_type": "markdown",
   "metadata": {},
   "source": [
    "So this was quite straightforward, and works very well - for smaller iterables!"
   ]
  },
  {
   "cell_type": "markdown",
   "metadata": {},
   "source": [
    "Notice that we have to create a new list, and perform all calculations and store in memory the entire result set, even if we end up not needing all the data in there. (We may only be interested in knowing if there are any even values in the data)."
   ]
  },
  {
   "cell_type": "markdown",
   "metadata": {},
   "source": [
    "Instead we may want to use a generator object to achieve the same thing, but resulting in a lazy iterator:"
   ]
  },
  {
   "cell_type": "code",
   "execution_count": 4,
   "metadata": {},
   "outputs": [],
   "source": [
    "evens = (n for n in data if is_even(n))"
   ]
  },
  {
   "cell_type": "markdown",
   "metadata": {},
   "source": [
    "And we can now iterate through evens, but of course only once!"
   ]
  },
  {
   "cell_type": "code",
   "execution_count": 5,
   "metadata": {},
   "outputs": [
    {
     "data": {
      "text/plain": [
       "[2, 4, 6, 8, 10]"
      ]
     },
     "execution_count": 5,
     "metadata": {},
     "output_type": "execute_result"
    }
   ],
   "source": [
    "list(evens)"
   ]
  },
  {
   "cell_type": "markdown",
   "metadata": {},
   "source": [
    "Python's `filter` function can also be used to filter data, and the syntax is slightly simpler than a comprehension."
   ]
  },
  {
   "cell_type": "markdown",
   "metadata": {},
   "source": [
    "We need an **iterable**, and a **predicate** function, and Python will do the rest:"
   ]
  },
  {
   "cell_type": "code",
   "execution_count": 6,
   "metadata": {},
   "outputs": [],
   "source": [
    "filtered = filter(is_even, data)"
   ]
  },
  {
   "cell_type": "code",
   "execution_count": 7,
   "metadata": {},
   "outputs": [
    {
     "data": {
      "text/plain": [
       "<filter at 0x7f822045bdc0>"
      ]
     },
     "execution_count": 7,
     "metadata": {},
     "output_type": "execute_result"
    }
   ],
   "source": [
    "filtered"
   ]
  },
  {
   "cell_type": "markdown",
   "metadata": {},
   "source": [
    "As you can see, the returned value from `filter` is not a list or a tuple, it is in fact a \"lazy\" iterator."
   ]
  },
  {
   "cell_type": "markdown",
   "metadata": {},
   "source": [
    "We can iterate through it by putting it into a list:"
   ]
  },
  {
   "cell_type": "code",
   "execution_count": 8,
   "metadata": {},
   "outputs": [
    {
     "data": {
      "text/plain": [
       "[2, 4, 6, 8, 10]"
      ]
     },
     "execution_count": 8,
     "metadata": {},
     "output_type": "execute_result"
    }
   ],
   "source": [
    "list(filtered)"
   ]
  },
  {
   "cell_type": "markdown",
   "metadata": {},
   "source": [
    "And in fact, we don't even need to use `def` to define our predicate function, since it is a simple function, we can simply use a lambda:"
   ]
  },
  {
   "cell_type": "code",
   "execution_count": 9,
   "metadata": {},
   "outputs": [],
   "source": [
    "filtered = filter(lambda x: x % 2 == 0, data)"
   ]
  },
  {
   "cell_type": "code",
   "execution_count": 10,
   "metadata": {},
   "outputs": [
    {
     "data": {
      "text/plain": [
       "[2, 4, 6, 8, 10]"
      ]
     },
     "execution_count": 10,
     "metadata": {},
     "output_type": "execute_result"
    }
   ],
   "source": [
    "list(filtered)"
   ]
  },
  {
   "cell_type": "markdown",
   "metadata": {},
   "source": [
    "Let's look at another example."
   ]
  },
  {
   "cell_type": "markdown",
   "metadata": {},
   "source": [
    "Suppose we have a list of tuples representing some daily stock quotes, structured as \n",
    "\n",
    "```\n",
    "(symbol, open, high, low, close, volume)\n",
    "```\n"
   ]
  },
  {
   "cell_type": "code",
   "execution_count": 11,
   "metadata": {},
   "outputs": [],
   "source": [
    "quotes = [\n",
    "    ('AACC', 6.05, 6.07, 6.03, 6.05, 65800),\n",
    "    ('AAME', 1.7, 1.82, 1.7, 1.82, 4300),\n",
    "    ('AAON', 24.98, 25.07, 24.9, 24.94, 28200),\n",
    "    ('AAPL', 317.99, 319.57, 316.75, 317.13, 12901800),\n",
    "    ('AATI', 3.82, 3.82, 3.74, 3.79, 194600),\n",
    "    ('AAWW', 60.89, 61.44, 60.5, 61.19, 272800),\n",
    "    ('AAXJ', 65.4, 65.71, 65.28, 65.56, 390300),\n",
    "    ('ABAT', 4.01, 4.01, 3.95, 3.99, 656300),\n",
    "    ('ABAX', 25.26, 25.49, 25.04, 25.42, 73700),\n",
    "    ('ABBC', 11.75, 11.88, 11.48, 11.53, 29700),\n",
    "    ('ABCB', 9.3, 9.3, 9.06, 9.14, 42600),\n",
    "    ('ABCD', 3.25, 3.25, 3.11, 3.22, 122800),\n",
    "    ('ABCO', 48.75, 50.41, 46.9, 50.37, 66300),\n",
    "    ('ABCW', 0.52, 0.61, 0.52, 0.53, 83000),\n",
    "    ('ABFS', 25.98, 26.27, 25.41, 25.5, 384900),\n",
    "    ('ABIO', 3.96, 4, 3.88, 4, 38500),\n",
    "    ('ABMD', 11.94, 12, 11.69, 11.87, 122600),\n",
    "    ('ABTL', 0.82, 0.84, 0.82, 0.83, 28700),\n",
    "    ('ABVA', 3.09, 3.25, 3.09, 3.25, 6200),\n",
    "    ('ACAD', 0.76, 0.76, 0.7, 0.74, 341500),\n",
    "    ('ACAS', 7.52, 7.72, 7.52, 7.66, 5199800),\n",
    "    ('ACAT', 14.44, 14.44, 14.04, 14.2, 51700),\n",
    "    ('ACCL', 8.11, 8.21, 7.94, 8.1, 456100),\n",
    "    ('ACET', 8.01, 8.04, 7.13, 7.73, 575600),\n",
    "    ('ACFC', 1.69, 1.7, 1.5, 1.6, 12300),\n",
    "    ('ACFN', 3.82, 4, 3.82, 3.98, 53700),\n",
    "    ('ACGL', 89.76, 90.14, 89.39, 89.92, 240900),\n",
    "    ('ACGY', 22.41, 22.56, 22.25, 22.46, 86800),\n",
    "    ('ACHN', 3.12, 3.2, 3.07, 3.16, 113700),\n",
    "    ('ACIW', 26.96, 27.03, 26.63, 26.8, 157000),\n",
    "    ('ACLI', 33.65, 33.77, 33.45, 33.63, 28700),\n",
    "    ('ACLS', 2.47, 2.63, 2.46, 2.53, 1818800),\n",
    "    ('ACMR', 2.69, 2.84, 2.37, 2.71, 158600),\n",
    "    ('ACOM', 25.2, 26.6, 24.9, 26.56, 265300),\n",
    "    ('ACOR', 26.67, 27.07, 26.38, 27.04, 1415000),\n",
    "    ('ACPW', 1.84, 1.89, 1.77, 1.85, 565500),\n",
    "    ('ACTG', 27.2, 27.43, 26.86, 27.18, 228800),\n",
    "    ('ACTI', 3.25, 3.26, 3.25, 3.26, 148500),\n",
    "    ('ACTS', 2.08, 2.09, 2.07, 2.07, 130500),\n",
    "    ('ACUR', 2.6, 2.64, 2.51, 2.6, 16000),\n",
    "    ('ACWI', 46.53, 46.7, 46.32, 46.51, 286200),\n",
    "    ('ACWX', 44.49, 44.66, 44.36, 44.6, 55500),\n",
    "    ('ACXM', 18, 18.07, 17.81, 18.01, 289800),\n",
    "    ('ADAM', 7.34, 7.49, 7.33, 7.44, 81700),\n",
    "    ('ADAT', 0.6, 0.68, 0.59, 0.66, 86400),\n",
    "    ('ADBE', 29.43, 29.71, 29.07, 29.14, 7585300),\n",
    "    ('ADCT', 12.68, 12.69, 12.66, 12.68, 1660500),\n",
    "    ('ADEP', 6.14, 6.14, 4.95, 5.61, 71000),\n",
    "    ('ADES', 6.2, 6.22, 6, 6.19, 4800),\n",
    "    ('ADGF', 4.31, 4.55, 4.31, 4.54, 10200)\n",
    "]"
   ]
  },
  {
   "cell_type": "markdown",
   "metadata": {},
   "source": [
    "Our aim is to filter out records which closed higher than their open."
   ]
  },
  {
   "cell_type": "markdown",
   "metadata": {},
   "source": [
    "Let's look at an individual record and see how we are going to define our predicate:"
   ]
  },
  {
   "cell_type": "markdown",
   "metadata": {},
   "source": [
    "```('ADGF', 4.31, 4.55, 4.31, 4.54, 10200)```"
   ]
  },
  {
   "cell_type": "code",
   "execution_count": 12,
   "metadata": {},
   "outputs": [],
   "source": [
    "def closed_higher(rec):\n",
    "    open_ = rec[1]\n",
    "    close = rec[4]\n",
    "    return close > open_"
   ]
  },
  {
   "cell_type": "code",
   "execution_count": 13,
   "metadata": {},
   "outputs": [
    {
     "data": {
      "text/plain": [
       "True"
      ]
     },
     "execution_count": 13,
     "metadata": {},
     "output_type": "execute_result"
    }
   ],
   "source": [
    "closed_higher(('ADGF', 4.31, 4.55, 4.31, 4.54, 10200))"
   ]
  },
  {
   "cell_type": "markdown",
   "metadata": {},
   "source": [
    "But on the other hand:"
   ]
  },
  {
   "cell_type": "code",
   "execution_count": 14,
   "metadata": {},
   "outputs": [
    {
     "data": {
      "text/plain": [
       "False"
      ]
     },
     "execution_count": 14,
     "metadata": {},
     "output_type": "execute_result"
    }
   ],
   "source": [
    "closed_higher(('ACWI', 46.53, 46.7, 46.32, 46.51, 286200))"
   ]
  },
  {
   "cell_type": "markdown",
   "metadata": {},
   "source": [
    "We can simplify the predicate a bit:"
   ]
  },
  {
   "cell_type": "code",
   "execution_count": 15,
   "metadata": {},
   "outputs": [],
   "source": [
    "def closed_higher(rec):\n",
    "    return rec[4] > rec[1]"
   ]
  },
  {
   "cell_type": "markdown",
   "metadata": {},
   "source": [
    "And we can filter our data this way:"
   ]
  },
  {
   "cell_type": "code",
   "execution_count": 16,
   "metadata": {},
   "outputs": [],
   "source": [
    "filtered = filter(closed_higher, quotes)"
   ]
  },
  {
   "cell_type": "code",
   "execution_count": 17,
   "metadata": {},
   "outputs": [
    {
     "data": {
      "text/plain": [
       "[('AAME', 1.7, 1.82, 1.7, 1.82, 4300),\n",
       " ('AAWW', 60.89, 61.44, 60.5, 61.19, 272800),\n",
       " ('AAXJ', 65.4, 65.71, 65.28, 65.56, 390300),\n",
       " ('ABAX', 25.26, 25.49, 25.04, 25.42, 73700),\n",
       " ('ABCO', 48.75, 50.41, 46.9, 50.37, 66300),\n",
       " ('ABCW', 0.52, 0.61, 0.52, 0.53, 83000),\n",
       " ('ABIO', 3.96, 4, 3.88, 4, 38500),\n",
       " ('ABTL', 0.82, 0.84, 0.82, 0.83, 28700),\n",
       " ('ABVA', 3.09, 3.25, 3.09, 3.25, 6200),\n",
       " ('ACAS', 7.52, 7.72, 7.52, 7.66, 5199800),\n",
       " ('ACFN', 3.82, 4, 3.82, 3.98, 53700),\n",
       " ('ACGL', 89.76, 90.14, 89.39, 89.92, 240900),\n",
       " ('ACGY', 22.41, 22.56, 22.25, 22.46, 86800),\n",
       " ('ACHN', 3.12, 3.2, 3.07, 3.16, 113700),\n",
       " ('ACLS', 2.47, 2.63, 2.46, 2.53, 1818800),\n",
       " ('ACMR', 2.69, 2.84, 2.37, 2.71, 158600),\n",
       " ('ACOM', 25.2, 26.6, 24.9, 26.56, 265300),\n",
       " ('ACOR', 26.67, 27.07, 26.38, 27.04, 1415000),\n",
       " ('ACPW', 1.84, 1.89, 1.77, 1.85, 565500),\n",
       " ('ACTI', 3.25, 3.26, 3.25, 3.26, 148500),\n",
       " ('ACWX', 44.49, 44.66, 44.36, 44.6, 55500),\n",
       " ('ACXM', 18, 18.07, 17.81, 18.01, 289800),\n",
       " ('ADAM', 7.34, 7.49, 7.33, 7.44, 81700),\n",
       " ('ADAT', 0.6, 0.68, 0.59, 0.66, 86400),\n",
       " ('ADGF', 4.31, 4.55, 4.31, 4.54, 10200)]"
      ]
     },
     "execution_count": 17,
     "metadata": {},
     "output_type": "execute_result"
    }
   ],
   "source": [
    "list(filtered)"
   ]
  },
  {
   "cell_type": "markdown",
   "metadata": {},
   "source": [
    "Of course, we don't even need to define our predicate as a separate function, we can inline a lambda expression to do the same thing:"
   ]
  },
  {
   "cell_type": "code",
   "execution_count": 18,
   "metadata": {},
   "outputs": [],
   "source": [
    "filtered = filter(lambda rec: rec[4] > rec[1], quotes)"
   ]
  },
  {
   "cell_type": "code",
   "execution_count": 19,
   "metadata": {},
   "outputs": [
    {
     "data": {
      "text/plain": [
       "[('AAME', 1.7, 1.82, 1.7, 1.82, 4300),\n",
       " ('AAWW', 60.89, 61.44, 60.5, 61.19, 272800),\n",
       " ('AAXJ', 65.4, 65.71, 65.28, 65.56, 390300),\n",
       " ('ABAX', 25.26, 25.49, 25.04, 25.42, 73700),\n",
       " ('ABCO', 48.75, 50.41, 46.9, 50.37, 66300),\n",
       " ('ABCW', 0.52, 0.61, 0.52, 0.53, 83000),\n",
       " ('ABIO', 3.96, 4, 3.88, 4, 38500),\n",
       " ('ABTL', 0.82, 0.84, 0.82, 0.83, 28700),\n",
       " ('ABVA', 3.09, 3.25, 3.09, 3.25, 6200),\n",
       " ('ACAS', 7.52, 7.72, 7.52, 7.66, 5199800),\n",
       " ('ACFN', 3.82, 4, 3.82, 3.98, 53700),\n",
       " ('ACGL', 89.76, 90.14, 89.39, 89.92, 240900),\n",
       " ('ACGY', 22.41, 22.56, 22.25, 22.46, 86800),\n",
       " ('ACHN', 3.12, 3.2, 3.07, 3.16, 113700),\n",
       " ('ACLS', 2.47, 2.63, 2.46, 2.53, 1818800),\n",
       " ('ACMR', 2.69, 2.84, 2.37, 2.71, 158600),\n",
       " ('ACOM', 25.2, 26.6, 24.9, 26.56, 265300),\n",
       " ('ACOR', 26.67, 27.07, 26.38, 27.04, 1415000),\n",
       " ('ACPW', 1.84, 1.89, 1.77, 1.85, 565500),\n",
       " ('ACTI', 3.25, 3.26, 3.25, 3.26, 148500),\n",
       " ('ACWX', 44.49, 44.66, 44.36, 44.6, 55500),\n",
       " ('ACXM', 18, 18.07, 17.81, 18.01, 289800),\n",
       " ('ADAM', 7.34, 7.49, 7.33, 7.44, 81700),\n",
       " ('ADAT', 0.6, 0.68, 0.59, 0.66, 86400),\n",
       " ('ADGF', 4.31, 4.55, 4.31, 4.54, 10200)]"
      ]
     },
     "execution_count": 19,
     "metadata": {},
     "output_type": "execute_result"
    }
   ],
   "source": [
    "list(filtered)"
   ]
  }
 ],
 "metadata": {
  "kernelspec": {
   "display_name": "Python 3",
   "language": "python",
   "name": "python3"
  },
  "language_info": {
   "codemirror_mode": {
    "name": "ipython",
    "version": 3
   },
   "file_extension": ".py",
   "mimetype": "text/x-python",
   "name": "python",
   "nbconvert_exporter": "python",
   "pygments_lexer": "ipython3",
   "version": "3.9.1"
  }
 },
 "nbformat": 4,
 "nbformat_minor": 4
}
