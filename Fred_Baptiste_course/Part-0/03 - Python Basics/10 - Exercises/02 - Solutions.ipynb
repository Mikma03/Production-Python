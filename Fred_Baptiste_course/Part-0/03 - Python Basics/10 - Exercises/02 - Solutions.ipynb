{
 "cells": [
  {
   "cell_type": "markdown",
   "metadata": {},
   "source": [
    "### Solutions"
   ]
  },
  {
   "cell_type": "markdown",
   "metadata": {},
   "source": [
    "### Exercise 1"
   ]
  },
  {
   "cell_type": "markdown",
   "metadata": {},
   "source": [
    "Given two floats `a` and `b`, and some tolerance `tol`, write an expression that will test whether `a` and `b` are within `tol` of each other."
   ]
  },
  {
   "cell_type": "markdown",
   "metadata": {},
   "source": [
    "We essentially want to make sure that the *distance* between `a` and `b` is bounded by some tolerance `tol`."
   ]
  },
  {
   "cell_type": "markdown",
   "metadata": {},
   "source": [
    "We can use the `abs()` function to calculate the absolute value of some value, so:\n",
    "\n",
    "```abs(a-b)```\n",
    "\n",
    "essentially calculates the distance betwwen `a` and `b`."
   ]
  },
  {
   "cell_type": "markdown",
   "metadata": {},
   "source": [
    "Our solution is then:\n",
    "\n",
    "```\n",
    "abs(a - b) < tol\n",
    "```"
   ]
  },
  {
   "cell_type": "code",
   "execution_count": 1,
   "metadata": {},
   "outputs": [],
   "source": [
    "a = 0.1 + 0.1 + 0.1\n",
    "b = 0.3"
   ]
  },
  {
   "cell_type": "markdown",
   "metadata": {},
   "source": [
    "As we know these two numbers will not compare `True`:"
   ]
  },
  {
   "cell_type": "code",
   "execution_count": 2,
   "metadata": {},
   "outputs": [
    {
     "data": {
      "text/plain": [
       "False"
      ]
     },
     "execution_count": 2,
     "metadata": {},
     "output_type": "execute_result"
    }
   ],
   "source": [
    "a == b"
   ]
  },
  {
   "cell_type": "markdown",
   "metadata": {},
   "source": [
    "However, using a tolerance we can see if they are \"close enough\":"
   ]
  },
  {
   "cell_type": "code",
   "execution_count": 3,
   "metadata": {},
   "outputs": [],
   "source": [
    "tol = 0.0001"
   ]
  },
  {
   "cell_type": "code",
   "execution_count": 4,
   "metadata": {},
   "outputs": [
    {
     "data": {
      "text/plain": [
       "True"
      ]
     },
     "execution_count": 4,
     "metadata": {},
     "output_type": "execute_result"
    }
   ],
   "source": [
    "abs(a - b) < tol"
   ]
  },
  {
   "cell_type": "markdown",
   "metadata": {},
   "source": [
    "### Exercise 2"
   ]
  },
  {
   "cell_type": "markdown",
   "metadata": {},
   "source": [
    "Assume you have some variable `elapsed` that contains elapsed time in seconds."
   ]
  },
  {
   "cell_type": "markdown",
   "metadata": {},
   "source": [
    "Create three new variables: `hours`, `minutes` and `seconds`, that represent the number of hours, minutes and seconds represented by `elapsed`."
   ]
  },
  {
   "cell_type": "markdown",
   "metadata": {},
   "source": [
    "For example, if `elapsed = 7835`, then `hours = 2`, `minutes = 10` and `seconds = 35`"
   ]
  },
  {
   "cell_type": "markdown",
   "metadata": {},
   "source": [
    "We are going to take this step by step first, and later simplify things if we can."
   ]
  },
  {
   "cell_type": "markdown",
   "metadata": {},
   "source": [
    "Let's start with some value for `elapsed`:"
   ]
  },
  {
   "cell_type": "code",
   "execution_count": 5,
   "metadata": {},
   "outputs": [],
   "source": [
    "elapsed = 7835"
   ]
  },
  {
   "cell_type": "markdown",
   "metadata": {},
   "source": [
    "The number of seconds in an hour is `60 * 60`."
   ]
  },
  {
   "cell_type": "markdown",
   "metadata": {},
   "source": [
    "The number of seconds in a minute is `60`."
   ]
  },
  {
   "cell_type": "markdown",
   "metadata": {},
   "source": [
    "Given that `elapsed` is in seconds, we can calculate the number of (whole) hours in `elapsed` using integer division:"
   ]
  },
  {
   "cell_type": "code",
   "execution_count": 6,
   "metadata": {},
   "outputs": [
    {
     "name": "stdout",
     "output_type": "stream",
     "text": [
      "hours = 2\n"
     ]
    }
   ],
   "source": [
    "hours = elapsed // (60 * 60)\n",
    "print('hours =', hours)"
   ]
  },
  {
   "cell_type": "markdown",
   "metadata": {},
   "source": [
    "The remaining number of seconds could be calculated this way:"
   ]
  },
  {
   "cell_type": "code",
   "execution_count": 7,
   "metadata": {},
   "outputs": [
    {
     "name": "stdout",
     "output_type": "stream",
     "text": [
      "remaining_seconds =  635\n"
     ]
    }
   ],
   "source": [
    "remaining_seconds = elapsed - hours * (60 * 60)\n",
    "print('remaining_seconds = ', remaining_seconds)"
   ]
  },
  {
   "cell_type": "markdown",
   "metadata": {},
   "source": [
    "But it's actually simpler to use `%`:"
   ]
  },
  {
   "cell_type": "code",
   "execution_count": 8,
   "metadata": {},
   "outputs": [
    {
     "name": "stdout",
     "output_type": "stream",
     "text": [
      "remaining_seconds =  635\n"
     ]
    }
   ],
   "source": [
    "remaining_seconds = elapsed % (60 * 60)\n",
    "print('remaining_seconds = ', remaining_seconds)"
   ]
  },
  {
   "cell_type": "markdown",
   "metadata": {},
   "source": [
    "Next we need to calculate the number of (whole) minutes in those remaining seconds:"
   ]
  },
  {
   "cell_type": "code",
   "execution_count": 9,
   "metadata": {},
   "outputs": [
    {
     "name": "stdout",
     "output_type": "stream",
     "text": [
      "minutes =  10\n"
     ]
    }
   ],
   "source": [
    "minutes = remaining_seconds // 60\n",
    "print('minutes = ', minutes)"
   ]
  },
  {
   "cell_type": "markdown",
   "metadata": {},
   "source": [
    "And the remaining number of seconds is now:"
   ]
  },
  {
   "cell_type": "code",
   "execution_count": 10,
   "metadata": {},
   "outputs": [
    {
     "name": "stdout",
     "output_type": "stream",
     "text": [
      "seconds =  35\n"
     ]
    }
   ],
   "source": [
    "seconds = remaining_seconds % 60\n",
    "print('seconds = ', seconds)"
   ]
  },
  {
   "cell_type": "markdown",
   "metadata": {},
   "source": [
    "Let's put everything together and see what we have:"
   ]
  },
  {
   "cell_type": "code",
   "execution_count": 11,
   "metadata": {},
   "outputs": [
    {
     "name": "stdout",
     "output_type": "stream",
     "text": [
      "2 10 35\n"
     ]
    }
   ],
   "source": [
    "elapsed = 7835\n",
    "hours = elapsed // (60 * 60)\n",
    "remaining_seconds = elapsed % (60 * 60)\n",
    "minutes = remaining_seconds // 60\n",
    "seconds = remaining_seconds % 60\n",
    "\n",
    "print(hours, minutes, seconds)"
   ]
  },
  {
   "cell_type": "markdown",
   "metadata": {},
   "source": [
    "If we wanted to we could get rid of the temporary variable `remaining_seconds`.\n",
    "\n",
    "(I call it temporary because once we're done with our calculation we don't need it anymore - our result is stored in the variables `hours`, `minutes` and `seconds`)"
   ]
  },
  {
   "cell_type": "code",
   "execution_count": 12,
   "metadata": {},
   "outputs": [
    {
     "name": "stdout",
     "output_type": "stream",
     "text": [
      "2 10 35\n"
     ]
    }
   ],
   "source": [
    "elapsed = 7835\n",
    "hours = elapsed // (60 * 60)\n",
    "minutes = elapsed % (60 * 60) // 60\n",
    "seconds = elapsed % (60 * 60) % 60\n",
    "\n",
    "print(hours, minutes, seconds)"
   ]
  },
  {
   "cell_type": "markdown",
   "metadata": {},
   "source": [
    "Now operator precedence worked for us here, but I don't consider the above very \"safe\" or easy to understand how the operations are grouped, so I would prefer this:"
   ]
  },
  {
   "cell_type": "code",
   "execution_count": 13,
   "metadata": {},
   "outputs": [
    {
     "name": "stdout",
     "output_type": "stream",
     "text": [
      "2 10 35\n"
     ]
    }
   ],
   "source": [
    "elapsed = 7835\n",
    "hours = elapsed // (60 * 60)\n",
    "minutes = (elapsed % (60 * 60)) // 60\n",
    "seconds = (elapsed % (60 * 60)) % 60\n",
    "\n",
    "print(hours, minutes, seconds)"
   ]
  },
  {
   "cell_type": "markdown",
   "metadata": {},
   "source": [
    "One last thing we could do is use `3600` instead of `(60 * 60)`:"
   ]
  },
  {
   "cell_type": "code",
   "execution_count": 14,
   "metadata": {},
   "outputs": [
    {
     "name": "stdout",
     "output_type": "stream",
     "text": [
      "2:10:35\n"
     ]
    }
   ],
   "source": [
    "elapsed = 7835\n",
    "hours = elapsed // 3600\n",
    "minutes = (elapsed % 3600) // 60\n",
    "seconds = (elapsed % 3600) % 60\n",
    "\n",
    "print(hours, minutes, seconds, sep=':')"
   ]
  },
  {
   "cell_type": "markdown",
   "metadata": {},
   "source": [
    "Notice how I specified `sep` in the `print` function - by default the separator used is a space, but here we can override that, so I chose `:` as the separator character."
   ]
  }
 ],
 "metadata": {
  "kernelspec": {
   "display_name": "Python 3",
   "language": "python",
   "name": "python3"
  },
  "language_info": {
   "codemirror_mode": {
    "name": "ipython",
    "version": 3
   },
   "file_extension": ".py",
   "mimetype": "text/x-python",
   "name": "python",
   "nbconvert_exporter": "python",
   "pygments_lexer": "ipython3",
   "version": "3.9.1"
  }
 },
 "nbformat": 4,
 "nbformat_minor": 4
}
