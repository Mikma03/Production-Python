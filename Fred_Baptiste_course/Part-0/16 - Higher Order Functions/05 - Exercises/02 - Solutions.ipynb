{
 "cells": [
  {
   "cell_type": "markdown",
   "id": "killing-darwin",
   "metadata": {},
   "source": [
    "### Solutions"
   ]
  },
  {
   "cell_type": "markdown",
   "id": "christian-population",
   "metadata": {},
   "source": [
    "#### Question 1"
   ]
  },
  {
   "cell_type": "markdown",
   "id": "stone-adelaide",
   "metadata": {},
   "source": [
    "We want to write a function that can find an approximate maximum or minimum of some given function over some given range."
   ]
  },
  {
   "cell_type": "markdown",
   "id": "documentary-packaging",
   "metadata": {},
   "source": [
    "For example, given some function:\n",
    "\n",
    "```\n",
    "f(x) = x**2 - 1\n",
    "```\n",
    "\n",
    "our function should return an approximate minimum (or maximum) of `f` over some given range, say `[-5, 5]`."
   ]
  },
  {
   "cell_type": "markdown",
   "id": "internal-durham",
   "metadata": {},
   "source": [
    "We'll do this by essentially splitting our intervals into `n` points (what I'll call the `resolution`), evaluating the function at each of these points, and returning either the min or the max."
   ]
  },
  {
   "cell_type": "markdown",
   "id": "appropriate-click",
   "metadata": {},
   "source": [
    "We want this function to be generic, so it should have the following parameters:\n",
    "- a function of one variable\n",
    "- a range of values defined by start/end values\n",
    "- a value indicating the \"resolution\"\n",
    "- a value indicating whether we want the min or the max"
   ]
  },
  {
   "cell_type": "markdown",
   "id": "raising-dance",
   "metadata": {},
   "source": [
    "##### Solution"
   ]
  },
  {
   "cell_type": "markdown",
   "id": "behind-grounds",
   "metadata": {},
   "source": [
    "Let's start by writing a few single-variable functions:"
   ]
  },
  {
   "cell_type": "code",
   "execution_count": 1,
   "id": "liked-maintenance",
   "metadata": {},
   "outputs": [],
   "source": [
    "import math\n",
    "\n",
    "f1 = lambda x: x ** 2 - 1\n",
    "f2 = lambda x: abs(x-2)\n",
    "f3 = lambda x: math.sin(x)"
   ]
  },
  {
   "cell_type": "markdown",
   "id": "viral-flood",
   "metadata": {},
   "source": [
    "Now let's figure out what parameters we want to define for our function that will determine an approximate min or max:\n",
    "\n",
    "- `f`: the function used to evaluate approx min/max\n",
    "- `start`: the left end of the interval - default to `-10`\n",
    "- `end`: the right end of the interval - default to `10`\n",
    "- `resolution`: indicates how many times we'll evaluate the function `func` over the interval `[start, end)` - default to `1_000`\n",
    "- `is_min`: if `True` returns the minimum, otherwise returns the maximum - default to `True`"
   ]
  },
  {
   "cell_type": "markdown",
   "id": "million-county",
   "metadata": {},
   "source": [
    "Let's define the function first, and we'll come back to it's implementation later:"
   ]
  },
  {
   "cell_type": "code",
   "execution_count": 2,
   "id": "dynamic-accent",
   "metadata": {},
   "outputs": [],
   "source": [
    "def find_extreme(f, start=-10, end=10, resolution=1_000, is_min=True):\n",
    "    pass"
   ]
  },
  {
   "cell_type": "markdown",
   "id": "settled-collins",
   "metadata": {},
   "source": [
    "Our first task will be to calculate the list of values we want to evaluate the function at:"
   ]
  },
  {
   "cell_type": "code",
   "execution_count": 3,
   "id": "protected-harris",
   "metadata": {},
   "outputs": [],
   "source": [
    "def find_extreme(f, start=-10, end=10, resolution=1_000, is_min=True):\n",
    "    delta = (end - start) / (resolution - 1)\n",
    "    data = [start + i * delta for i in range(resolution)]\n",
    "    return data"
   ]
  },
  {
   "cell_type": "code",
   "execution_count": 4,
   "id": "thrown-drawing",
   "metadata": {},
   "outputs": [
    {
     "data": {
      "text/plain": [
       "[1.0,\n",
       " 1.7142857142857144,\n",
       " 2.428571428571429,\n",
       " 3.142857142857143,\n",
       " 3.857142857142857,\n",
       " 4.571428571428571,\n",
       " 5.285714285714286,\n",
       " 6.0]"
      ]
     },
     "execution_count": 4,
     "metadata": {},
     "output_type": "execute_result"
    }
   ],
   "source": [
    "find_extreme(None, start=1, end=6, resolution=8)"
   ]
  },
  {
   "cell_type": "markdown",
   "id": "enabling-questionnaire",
   "metadata": {},
   "source": [
    "Ok, so this is starting to look good. Next we need to evaluate the function at each of those points:"
   ]
  },
  {
   "cell_type": "code",
   "execution_count": 5,
   "id": "piano-vertex",
   "metadata": {},
   "outputs": [],
   "source": [
    "def find_extreme(f, start=-10, end=10, resolution=1_000, is_min=True):\n",
    "    delta = (end - start) / (resolution - 1)\n",
    "    data = [start + i * delta for i in range(resolution)]\n",
    "    f_values = [f(x) for x in data]\n",
    "    return f_values"
   ]
  },
  {
   "cell_type": "code",
   "execution_count": 6,
   "id": "comprehensive-bermuda",
   "metadata": {},
   "outputs": [
    {
     "data": {
      "text/plain": [
       "[3.0,\n",
       " 1.4197530864197532,\n",
       " 0.23456790123456805,\n",
       " -0.5555555555555555,\n",
       " -0.9506172839506173,\n",
       " -0.9506172839506173,\n",
       " -0.5555555555555558,\n",
       " 0.23456790123456694,\n",
       " 1.4197530864197523,\n",
       " 3.0]"
      ]
     },
     "execution_count": 6,
     "metadata": {},
     "output_type": "execute_result"
    }
   ],
   "source": [
    "find_extreme(f1, -2, 2, 10)"
   ]
  },
  {
   "cell_type": "markdown",
   "id": "numerical-alignment",
   "metadata": {},
   "source": [
    "Next we'll need to find the minimum of these values:"
   ]
  },
  {
   "cell_type": "code",
   "execution_count": 7,
   "id": "prescribed-grammar",
   "metadata": {},
   "outputs": [],
   "source": [
    "def find_extreme(f, start=-10, end=10, resolution=1_000, is_min=True):\n",
    "    delta = (end - start) / (resolution - 1)\n",
    "    data = [start + i * delta for i in range(resolution)]\n",
    "    f_values = [f(x) for x in data]\n",
    "    result = min(f_values)\n",
    "    return result"
   ]
  },
  {
   "cell_type": "code",
   "execution_count": 8,
   "id": "representative-situation",
   "metadata": {},
   "outputs": [
    {
     "data": {
      "text/plain": [
       "-0.9506172839506173"
      ]
     },
     "execution_count": 8,
     "metadata": {},
     "output_type": "execute_result"
    }
   ],
   "source": [
    "find_extreme(f1, -2, 2, 10)"
   ]
  },
  {
   "cell_type": "markdown",
   "id": "derived-separate",
   "metadata": {},
   "source": [
    "Of course, the higher our resolution, the better our approximation should be:"
   ]
  },
  {
   "cell_type": "code",
   "execution_count": 9,
   "id": "blind-income",
   "metadata": {},
   "outputs": [
    {
     "data": {
      "text/plain": [
       "-0.999995991987984"
      ]
     },
     "execution_count": 9,
     "metadata": {},
     "output_type": "execute_result"
    }
   ],
   "source": [
    "find_extreme(f1, -2, 2)"
   ]
  },
  {
   "cell_type": "markdown",
   "id": "federal-tolerance",
   "metadata": {},
   "source": [
    "Now let's handle the `is_min` argument:"
   ]
  },
  {
   "cell_type": "code",
   "execution_count": 10,
   "id": "active-startup",
   "metadata": {},
   "outputs": [],
   "source": [
    "def find_extreme(f, start=-10, end=10, resolution=1_000, is_min=True):\n",
    "    delta = (end - start) / (resolution - 1)\n",
    "    data = [start + i * delta for i in range(resolution)]\n",
    "    f_values = [f(x) for x in data]\n",
    "    if is_min:\n",
    "        result = min(f_values)\n",
    "    else:\n",
    "        result = max(f_values)\n",
    "    return result"
   ]
  },
  {
   "cell_type": "code",
   "execution_count": 11,
   "id": "psychological-production",
   "metadata": {},
   "outputs": [
    {
     "data": {
      "text/plain": [
       "(-0.999995991987984, 3.0)"
      ]
     },
     "execution_count": 11,
     "metadata": {},
     "output_type": "execute_result"
    }
   ],
   "source": [
    "find_extreme(f1, -2, 2), find_extreme(f1, -2, 2, is_min=False)"
   ]
  },
  {
   "cell_type": "markdown",
   "id": "individual-leather",
   "metadata": {},
   "source": [
    "And we can try out our other functions too:"
   ]
  },
  {
   "cell_type": "code",
   "execution_count": 12,
   "id": "selective-diameter",
   "metadata": {},
   "outputs": [
    {
     "data": {
      "text/plain": [
       "(0.008008008008008716, 12.0)"
      ]
     },
     "execution_count": 12,
     "metadata": {},
     "output_type": "execute_result"
    }
   ],
   "source": [
    "find_extreme(f2, -10, 10), find_extreme(f2, -10, 10, is_min=False)"
   ]
  },
  {
   "cell_type": "code",
   "execution_count": 13,
   "id": "historical-authorization",
   "metadata": {},
   "outputs": [
    {
     "data": {
      "text/plain": [
       "(-0.9999996994977832, 0.9999996994977832)"
      ]
     },
     "execution_count": 13,
     "metadata": {},
     "output_type": "execute_result"
    }
   ],
   "source": [
    "find_extreme(f3, -10, 10), find_extreme(f3, -10, 10, is_min=False)"
   ]
  },
  {
   "cell_type": "markdown",
   "id": "genetic-impression",
   "metadata": {},
   "source": [
    "Now let's loook at our function and see if we can simplify our code:"
   ]
  },
  {
   "cell_type": "code",
   "execution_count": 14,
   "id": "unavailable-details",
   "metadata": {},
   "outputs": [],
   "source": [
    "def find_extreme(f, start=-10, end=10, resolution=1_000, is_min=True):\n",
    "    delta = (end - start) / (resolution - 1)\n",
    "    data = [start + i * delta for i in range(resolution)]\n",
    "    f_values = [f(x) for x in data]\n",
    "    if is_min:\n",
    "        result = min(f_values)\n",
    "    else:\n",
    "        result = max(f_values)\n",
    "    return result"
   ]
  },
  {
   "cell_type": "markdown",
   "id": "compact-thesis",
   "metadata": {},
   "source": [
    "The first thing to note is that we are creating these lists (`data` and `f_values`) - that seems uncessary - we could use generator expressions instead since we will only need to iterate through them once:"
   ]
  },
  {
   "cell_type": "code",
   "execution_count": 15,
   "id": "atlantic-national",
   "metadata": {},
   "outputs": [],
   "source": [
    "def find_extreme(f, start=-10, end=10, resolution=1_000, is_min=True):\n",
    "    delta = (end - start) / (resolution - 1)\n",
    "    data = (start + i * delta for i in range(resolution))\n",
    "    f_values = (f(x) for x in data)\n",
    "    if is_min:\n",
    "        result = min(f_values)\n",
    "    else:\n",
    "        result = max(f_values)\n",
    "    return result"
   ]
  },
  {
   "cell_type": "code",
   "execution_count": 16,
   "id": "handled-hours",
   "metadata": {},
   "outputs": [
    {
     "data": {
      "text/plain": [
       "0.9999996994977832"
      ]
     },
     "execution_count": 16,
     "metadata": {},
     "output_type": "execute_result"
    }
   ],
   "source": [
    "find_extreme(f3, -10, 10, is_min=False)"
   ]
  },
  {
   "cell_type": "markdown",
   "id": "electronic-correlation",
   "metadata": {},
   "source": [
    "Another thing too, is that we using a comprehension to apply the function `func` to every value in `data` - this is fine, but we could also just use the `map` function:"
   ]
  },
  {
   "cell_type": "code",
   "execution_count": 17,
   "id": "pediatric-welcome",
   "metadata": {},
   "outputs": [],
   "source": [
    "def find_extreme(f, start=-10, end=10, resolution=1_000, is_min=True):\n",
    "    delta = (end - start) / (resolution - 1)\n",
    "    data = (start + i * delta for i in range(resolution))\n",
    "    f_values = map(f, data)\n",
    "    if is_min:\n",
    "        result = min(f_values)\n",
    "    else:\n",
    "        result = max(f_values)\n",
    "    return result"
   ]
  },
  {
   "cell_type": "code",
   "execution_count": 18,
   "id": "different-mississippi",
   "metadata": {},
   "outputs": [
    {
     "data": {
      "text/plain": [
       "0.9999996994977832"
      ]
     },
     "execution_count": 18,
     "metadata": {},
     "output_type": "execute_result"
    }
   ],
   "source": [
    "find_extreme(f3, -10, 10, is_min=False)"
   ]
  },
  {
   "cell_type": "markdown",
   "id": "synthetic-organizer",
   "metadata": {},
   "source": [
    "Additionally, we could use a ternary operator to pick whether we should use `min` or `max`:"
   ]
  },
  {
   "cell_type": "code",
   "execution_count": 19,
   "id": "funky-expense",
   "metadata": {},
   "outputs": [],
   "source": [
    "def find_extreme(f, start=-10, end=10, resolution=1_000, is_min=True):\n",
    "    delta = (end - start) / (resolution - 1)\n",
    "    data = (start + i * delta for i in range(resolution))\n",
    "    f_values = map(f, data)\n",
    "    min_max = min if is_min else max\n",
    "    result = min_max(f_values)\n",
    "    return result"
   ]
  },
  {
   "cell_type": "code",
   "execution_count": 20,
   "id": "developing-windsor",
   "metadata": {},
   "outputs": [
    {
     "data": {
      "text/plain": [
       "(-0.9999996994977832, 0.9999996994977832)"
      ]
     },
     "execution_count": 20,
     "metadata": {},
     "output_type": "execute_result"
    }
   ],
   "source": [
    "find_extreme(f3, -10, 10), find_extreme(f3, -10, 10, is_min=False)"
   ]
  },
  {
   "cell_type": "markdown",
   "id": "nearby-highway",
   "metadata": {},
   "source": [
    "And we can then clean up the code this way:"
   ]
  },
  {
   "cell_type": "code",
   "execution_count": 21,
   "id": "subsequent-connection",
   "metadata": {},
   "outputs": [],
   "source": [
    "def find_extreme(f, start=-10, end=10, resolution=1_000, is_min=True):\n",
    "    delta = (end - start) / (resolution - 1)\n",
    "    data = (start + i * delta for i in range(resolution))\n",
    "    min_max = min if is_min else max\n",
    "    return min_max(map(f, data))"
   ]
  },
  {
   "cell_type": "code",
   "execution_count": 22,
   "id": "fourth-climb",
   "metadata": {},
   "outputs": [
    {
     "data": {
      "text/plain": [
       "(-0.9999996994977832, 0.9999996994977832)"
      ]
     },
     "execution_count": 22,
     "metadata": {},
     "output_type": "execute_result"
    }
   ],
   "source": [
    "find_extreme(f3, -10, 10), find_extreme(f3, -10, 10, is_min=False)"
   ]
  },
  {
   "cell_type": "markdown",
   "id": "supreme-norfolk",
   "metadata": {},
   "source": [
    "#### Question 2"
   ]
  },
  {
   "cell_type": "markdown",
   "id": "suffering-bhutan",
   "metadata": {},
   "source": [
    "You are given a function of two variables, and a list of tuples containing the values for the two variables."
   ]
  },
  {
   "cell_type": "markdown",
   "id": "foreign-newsletter",
   "metadata": {},
   "source": [
    "Create a list that is the result of calling the function on each values in the list, using three different techniques:\n",
    "- a `for` loop\n",
    "- a list comprehension\n",
    "- the `map` function\n",
    "\n",
    "Use the `timeit` function to time each approach.\n",
    "\n",
    "Hint: write a function that implements each approach, and then time calling those functions using the `timeit` function (`from timeit import timeit` - we've used it before). Also you will want to specify `number=10` or something like that when you run `timeit` - unless you want to sit there watvhing your screen for quite a while :-)"
   ]
  },
  {
   "cell_type": "code",
   "execution_count": 23,
   "id": "induced-sailing",
   "metadata": {},
   "outputs": [],
   "source": [
    "import math\n",
    "\n",
    "def func(point):\n",
    "    # expect point to be a sequence of two values\n",
    "    x, y = point\n",
    "    return math.hypot(x, y)  \n",
    "    # hypot is a function that calculates sqrt(x**2 + y**2), given a sequence (x, y)\n",
    "\n",
    "points = [\n",
    "    (0, 0),\n",
    "    (1, 1),\n",
    "    (10, 20),\n",
    "    (math.pi, math.e)\n",
    "]"
   ]
  },
  {
   "cell_type": "markdown",
   "id": "funky-brazilian",
   "metadata": {},
   "source": [
    "Your result for `points` should be:\n",
    "\n",
    "```\n",
    "[0.0, 1.4142135623730951, 22.360679774997898, 4.154354402313314]\n",
    "```"
   ]
  },
  {
   "cell_type": "markdown",
   "id": "copyrighted-procurement",
   "metadata": {},
   "source": [
    "For timing purposes, use a larger set of points, like this one:"
   ]
  },
  {
   "cell_type": "code",
   "execution_count": 24,
   "id": "returning-horizontal",
   "metadata": {},
   "outputs": [],
   "source": [
    "points_large = [(math.sin(x), math.cos(x)) for x in range(1, 1_000_000)]"
   ]
  },
  {
   "cell_type": "markdown",
   "id": "confident-worship",
   "metadata": {},
   "source": [
    "##### Solution"
   ]
  },
  {
   "cell_type": "markdown",
   "id": "cognitive-czech",
   "metadata": {},
   "source": [
    "A `for` loop approach could be something like:"
   ]
  },
  {
   "cell_type": "code",
   "execution_count": 25,
   "id": "offensive-system",
   "metadata": {},
   "outputs": [
    {
     "data": {
      "text/plain": [
       "[0.0, 1.4142135623730951, 22.360679774997898, 4.154354402313314]"
      ]
     },
     "execution_count": 25,
     "metadata": {},
     "output_type": "execute_result"
    }
   ],
   "source": [
    "results = []\n",
    "for point in points:\n",
    "    results.append(func(point))\n",
    "    \n",
    "results"
   ]
  },
  {
   "cell_type": "markdown",
   "id": "enclosed-israeli",
   "metadata": {},
   "source": [
    "But whenever we see code that creates an empty list and a loop that just appends to that list with relatively simple code in the loop body, we should consider a comprehension instead."
   ]
  },
  {
   "cell_type": "code",
   "execution_count": 26,
   "id": "acting-hollow",
   "metadata": {},
   "outputs": [
    {
     "data": {
      "text/plain": [
       "[0.0, 1.4142135623730951, 22.360679774997898, 4.154354402313314]"
      ]
     },
     "execution_count": 26,
     "metadata": {},
     "output_type": "execute_result"
    }
   ],
   "source": [
    "results = [func(point) for point in points]\n",
    "results"
   ]
  },
  {
   "cell_type": "markdown",
   "id": "private-ordinance",
   "metadata": {},
   "source": [
    "But we can also just use the `map` function:"
   ]
  },
  {
   "cell_type": "code",
   "execution_count": 27,
   "id": "alternative-warning",
   "metadata": {},
   "outputs": [
    {
     "data": {
      "text/plain": [
       "[0.0, 1.4142135623730951, 22.360679774997898, 4.154354402313314]"
      ]
     },
     "execution_count": 27,
     "metadata": {},
     "output_type": "execute_result"
    }
   ],
   "source": [
    "results = list(map(func, points))\n",
    "results"
   ]
  },
  {
   "cell_type": "markdown",
   "id": "present-involvement",
   "metadata": {},
   "source": [
    "Note: the `map` function returns a generator, so we pass that to `list()` to actually generate a list."
   ]
  },
  {
   "cell_type": "markdown",
   "id": "suffering-thomas",
   "metadata": {},
   "source": [
    "Let's write some functions to encapsulate each technique so we can easily use them for timing things:"
   ]
  },
  {
   "cell_type": "code",
   "execution_count": 28,
   "id": "urban-dimension",
   "metadata": {},
   "outputs": [],
   "source": [
    "def calc_loop(f, pts):\n",
    "    results = []\n",
    "    for pt in pts:\n",
    "        results.append(f(pt))\n",
    "    return results"
   ]
  },
  {
   "cell_type": "code",
   "execution_count": 29,
   "id": "specialized-citizenship",
   "metadata": {},
   "outputs": [],
   "source": [
    "def calc_comp(f, pts):\n",
    "    return [f(pt) for pt in pts]"
   ]
  },
  {
   "cell_type": "code",
   "execution_count": 30,
   "id": "perfect-transport",
   "metadata": {},
   "outputs": [],
   "source": [
    "def calc_map(f, pts):\n",
    "    return list(map(f, pts))"
   ]
  },
  {
   "cell_type": "markdown",
   "id": "portable-scout",
   "metadata": {},
   "source": [
    "Let's make sure the functions work as expected:"
   ]
  },
  {
   "cell_type": "code",
   "execution_count": 31,
   "id": "described-feeling",
   "metadata": {},
   "outputs": [
    {
     "data": {
      "text/plain": [
       "[0.0, 1.4142135623730951, 22.360679774997898, 4.154354402313314]"
      ]
     },
     "execution_count": 31,
     "metadata": {},
     "output_type": "execute_result"
    }
   ],
   "source": [
    "calc_loop(func, points)"
   ]
  },
  {
   "cell_type": "code",
   "execution_count": 32,
   "id": "referenced-roberts",
   "metadata": {},
   "outputs": [
    {
     "data": {
      "text/plain": [
       "[0.0, 1.4142135623730951, 22.360679774997898, 4.154354402313314]"
      ]
     },
     "execution_count": 32,
     "metadata": {},
     "output_type": "execute_result"
    }
   ],
   "source": [
    "calc_comp(func, points)"
   ]
  },
  {
   "cell_type": "code",
   "execution_count": 33,
   "id": "jewish-williams",
   "metadata": {},
   "outputs": [
    {
     "data": {
      "text/plain": [
       "[0.0, 1.4142135623730951, 22.360679774997898, 4.154354402313314]"
      ]
     },
     "execution_count": 33,
     "metadata": {},
     "output_type": "execute_result"
    }
   ],
   "source": [
    "calc_map(func, points)"
   ]
  },
  {
   "cell_type": "markdown",
   "id": "sharing-prescription",
   "metadata": {},
   "source": [
    "Now let's run some timings, using `points_large` for our arguments:"
   ]
  },
  {
   "cell_type": "code",
   "execution_count": 34,
   "id": "visible-gospel",
   "metadata": {},
   "outputs": [],
   "source": [
    "from timeit import timeit"
   ]
  },
  {
   "cell_type": "code",
   "execution_count": 35,
   "id": "quick-material",
   "metadata": {},
   "outputs": [
    {
     "data": {
      "text/plain": [
       "2.010900836"
      ]
     },
     "execution_count": 35,
     "metadata": {},
     "output_type": "execute_result"
    }
   ],
   "source": [
    "timeit('calc_loop(func, points_large)', globals=globals(), number=10)"
   ]
  },
  {
   "cell_type": "code",
   "execution_count": 36,
   "id": "improving-choir",
   "metadata": {},
   "outputs": [
    {
     "data": {
      "text/plain": [
       "1.721283031"
      ]
     },
     "execution_count": 36,
     "metadata": {},
     "output_type": "execute_result"
    }
   ],
   "source": [
    "timeit('calc_comp(func, points_large)', globals=globals(), number=10)"
   ]
  },
  {
   "cell_type": "code",
   "execution_count": 37,
   "id": "proud-model",
   "metadata": {},
   "outputs": [
    {
     "data": {
      "text/plain": [
       "1.5711788810000007"
      ]
     },
     "execution_count": 37,
     "metadata": {},
     "output_type": "execute_result"
    }
   ],
   "source": [
    "timeit('calc_map(func, points_large)', globals=globals(), number=10)"
   ]
  },
  {
   "cell_type": "markdown",
   "id": "ready-accent",
   "metadata": {},
   "source": [
    "#### Question 3"
   ]
  },
  {
   "cell_type": "markdown",
   "id": "disciplinary-workshop",
   "metadata": {},
   "source": [
    "Write a function that returns a function with all arguments, except the first one, prefilled with certain values provided to the outer function."
   ]
  },
  {
   "cell_type": "markdown",
   "id": "permanent-level",
   "metadata": {},
   "source": [
    "(This is sometimes called a partial function)."
   ]
  },
  {
   "cell_type": "markdown",
   "id": "paperback-stock",
   "metadata": {},
   "source": [
    "For example, we may have some functions such as:"
   ]
  },
  {
   "cell_type": "code",
   "execution_count": 38,
   "id": "premium-skating",
   "metadata": {},
   "outputs": [],
   "source": [
    "import math"
   ]
  },
  {
   "cell_type": "code",
   "execution_count": 39,
   "id": "worth-arcade",
   "metadata": {},
   "outputs": [],
   "source": [
    "def power(x, n):\n",
    "    return x ** n"
   ]
  },
  {
   "cell_type": "code",
   "execution_count": 40,
   "id": "promising-merchant",
   "metadata": {},
   "outputs": [],
   "source": [
    "def dist(pt1, pt2):\n",
    "    return math.sqrt(sum(coord_1 - coord_2 for coord_1, coord_2 in zip(pt1, pt2)))"
   ]
  },
  {
   "cell_type": "markdown",
   "id": "regular-arabic",
   "metadata": {},
   "source": [
    "Or even functions already defined, such as:\n",
    "\n",
    "```\n",
    "math.gcd(a, b)\n",
    "```\n",
    "or\n",
    "```\n",
    "math.log(x, base)\n",
    "```"
   ]
  },
  {
   "cell_type": "markdown",
   "id": "stopped-thesis",
   "metadata": {},
   "source": [
    "We want to to be able to generate new functions, based on these ones (`power`, `dist`, `gcd`, `log`) but with all the values except the first one prefilled, for example, assuming our function is named `partial`, we can use it to define new functions this way:"
   ]
  },
  {
   "cell_type": "markdown",
   "id": "failing-demographic",
   "metadata": {},
   "source": [
    "```\n",
    "squares = partial(power, 2)\n",
    "dist_from_origin = partial(dist, (0, 0))\n",
    "gcd_13 = partial(math.gcd, 13)\n",
    "log_2 = partial(math.log, 2)\n",
    "log_10 = partial(math.log, 10)\n",
    "log_16 = partial(math.log, 16)\n",
    "```"
   ]
  },
  {
   "cell_type": "markdown",
   "id": "medical-colombia",
   "metadata": {},
   "source": [
    "Then when we call our new functions, we just pass in the value for the first argument, i.e."
   ]
  },
  {
   "cell_type": "markdown",
   "id": "identified-south",
   "metadata": {},
   "source": [
    "```\n",
    "squares(3) --> 9\n",
    "squares(4) --> 16\n",
    "dist_from_origin((1, 1)) --> 1.414\n",
    "log_2(10) --> 3.3219\n",
    "log_10(10) --> 1.0\n",
    "log_16(10) --> 0.8304\n",
    "```"
   ]
  },
  {
   "cell_type": "markdown",
   "id": "disabled-preliminary",
   "metadata": {},
   "source": [
    "##### Solution"
   ]
  },
  {
   "cell_type": "markdown",
   "id": "bright-stevens",
   "metadata": {},
   "source": [
    "For this we'll use a function that defines and returns a nested function, and captures the function whatever arguments need to be passed to it (aside from the first argument)."
   ]
  },
  {
   "cell_type": "code",
   "execution_count": 41,
   "id": "conservative-primary",
   "metadata": {},
   "outputs": [],
   "source": [
    "def partial(f, *args, **kwargs):\n",
    "    def inner(first_arg):\n",
    "        print('func', f.__name__)\n",
    "        print('first_arg', first_arg)\n",
    "        print('args', args)\n",
    "        print('kwargs', kwargs)\n",
    "    return inner"
   ]
  },
  {
   "cell_type": "markdown",
   "id": "miniature-scratch",
   "metadata": {},
   "source": [
    "Let's see how this behaves:"
   ]
  },
  {
   "cell_type": "code",
   "execution_count": 42,
   "id": "administrative-transaction",
   "metadata": {},
   "outputs": [],
   "source": [
    "f = partial(power, 2)"
   ]
  },
  {
   "cell_type": "markdown",
   "id": "boolean-pride",
   "metadata": {},
   "source": [
    "This function is a closure, and knows about both `power` and `2`. We can see it this way:"
   ]
  },
  {
   "cell_type": "markdown",
   "id": "attached-jaguar",
   "metadata": {},
   "source": [
    "We can call this closure:"
   ]
  },
  {
   "cell_type": "code",
   "execution_count": 43,
   "id": "working-honey",
   "metadata": {},
   "outputs": [
    {
     "name": "stdout",
     "output_type": "stream",
     "text": [
      "func power\n",
      "first_arg 3\n",
      "args (2,)\n",
      "kwargs {}\n"
     ]
    }
   ],
   "source": [
    "f(3)"
   ]
  },
  {
   "cell_type": "markdown",
   "id": "animated-violence",
   "metadata": {},
   "source": [
    "As you can see, the closure captured the `power` function and the value `2` (in `args`) - and of course `kwargs` is empty. If we had a function that requires keyword only arguments, we could pass those in too:"
   ]
  },
  {
   "cell_type": "code",
   "execution_count": 44,
   "id": "incredible-advantage",
   "metadata": {},
   "outputs": [],
   "source": [
    "f = partial(lambda x, y, *, k1: (x, y, k1), 10, k1=100)"
   ]
  },
  {
   "cell_type": "code",
   "execution_count": 45,
   "id": "divided-magazine",
   "metadata": {},
   "outputs": [
    {
     "name": "stdout",
     "output_type": "stream",
     "text": [
      "func <lambda>\n",
      "first_arg 1\n",
      "args (10,)\n",
      "kwargs {'k1': 100}\n"
     ]
    }
   ],
   "source": [
    "f(1)"
   ]
  },
  {
   "cell_type": "markdown",
   "id": "legal-password",
   "metadata": {},
   "source": [
    "So, we have the basic skeleton for our solution. What we now need to do is actually call the function, inserting `first_arg`, and return the result of that."
   ]
  },
  {
   "cell_type": "code",
   "execution_count": 46,
   "id": "judicial-invitation",
   "metadata": {},
   "outputs": [],
   "source": [
    "def partial(f, *args, **kwargs):\n",
    "    def inner(first_arg):\n",
    "        result = f(first_arg, *args, **kwargs)\n",
    "        return result\n",
    "    return inner"
   ]
  },
  {
   "cell_type": "markdown",
   "id": "opposed-omaha",
   "metadata": {},
   "source": [
    "We don't actually need to store the `result` and then return it, we can just return it directly:"
   ]
  },
  {
   "cell_type": "code",
   "execution_count": 47,
   "id": "knowing-heater",
   "metadata": {},
   "outputs": [],
   "source": [
    "def partial(f, *args, **kwargs):\n",
    "    def inner(first_arg):\n",
    "        return f(first_arg, *args, **kwargs)\n",
    "    return inner"
   ]
  },
  {
   "cell_type": "markdown",
   "id": "forced-adaptation",
   "metadata": {},
   "source": [
    "Now we can use this to generate some new functions with pre-filled arguments:"
   ]
  },
  {
   "cell_type": "code",
   "execution_count": 48,
   "id": "indirect-vienna",
   "metadata": {},
   "outputs": [],
   "source": [
    "squares = partial(power, 2)\n",
    "dist_from_origin = partial(dist, (0, 0))\n",
    "gcd_13 = partial(math.gcd, 13)\n",
    "log_2 = partial(math.log, 2)\n",
    "log_10 = partial(math.log, 10)\n",
    "log_16 = partial(math.log, 16)"
   ]
  },
  {
   "cell_type": "code",
   "execution_count": 49,
   "id": "widespread-taylor",
   "metadata": {},
   "outputs": [
    {
     "data": {
      "text/plain": [
       "16"
      ]
     },
     "execution_count": 49,
     "metadata": {},
     "output_type": "execute_result"
    }
   ],
   "source": [
    "squares(4)"
   ]
  },
  {
   "cell_type": "code",
   "execution_count": 50,
   "id": "sized-studio",
   "metadata": {},
   "outputs": [
    {
     "data": {
      "text/plain": [
       "1.4142135623730951"
      ]
     },
     "execution_count": 50,
     "metadata": {},
     "output_type": "execute_result"
    }
   ],
   "source": [
    "dist_from_origin((1, 1))"
   ]
  },
  {
   "cell_type": "code",
   "execution_count": 51,
   "id": "regulation-surge",
   "metadata": {},
   "outputs": [
    {
     "data": {
      "text/plain": [
       "13"
      ]
     },
     "execution_count": 51,
     "metadata": {},
     "output_type": "execute_result"
    }
   ],
   "source": [
    "gcd_13(169)"
   ]
  },
  {
   "cell_type": "code",
   "execution_count": 52,
   "id": "reported-royal",
   "metadata": {},
   "outputs": [
    {
     "data": {
      "text/plain": [
       "3.3219280948873626"
      ]
     },
     "execution_count": 52,
     "metadata": {},
     "output_type": "execute_result"
    }
   ],
   "source": [
    "log_2(10)"
   ]
  },
  {
   "cell_type": "code",
   "execution_count": 53,
   "id": "signal-sensitivity",
   "metadata": {},
   "outputs": [
    {
     "data": {
      "text/plain": [
       "1.0"
      ]
     },
     "execution_count": 53,
     "metadata": {},
     "output_type": "execute_result"
    }
   ],
   "source": [
    "log_10(10)"
   ]
  },
  {
   "cell_type": "code",
   "execution_count": 54,
   "id": "extraordinary-river",
   "metadata": {},
   "outputs": [
    {
     "data": {
      "text/plain": [
       "0.8304820237218407"
      ]
     },
     "execution_count": 54,
     "metadata": {},
     "output_type": "execute_result"
    }
   ],
   "source": [
    "log_16(10)"
   ]
  },
  {
   "cell_type": "markdown",
   "id": "iraqi-burlington",
   "metadata": {},
   "source": [
    "#### Question 4"
   ]
  },
  {
   "cell_type": "markdown",
   "id": "directed-dryer",
   "metadata": {},
   "source": [
    "Write a function that can be used to not only execute another function with specified arguments, but print a \"log\" (basically just print to the console\", of how long it took to execute the function."
   ]
  },
  {
   "cell_type": "markdown",
   "id": "assisted-turner",
   "metadata": {},
   "source": [
    "For example, given some functions like this:"
   ]
  },
  {
   "cell_type": "code",
   "execution_count": 55,
   "id": "collective-modern",
   "metadata": {},
   "outputs": [],
   "source": [
    "def norm(x, y):\n",
    "    return math.sqrt(x**2 + y**2)\n",
    "\n",
    "def find_index_min(seq):\n",
    "    min_ = min(seq)\n",
    "    return seq.index(min_)"
   ]
  },
  {
   "cell_type": "markdown",
   "id": "incomplete-movement",
   "metadata": {},
   "source": [
    "Then assuming your logging function is called `logged`, you could create logged functions this way:"
   ]
  },
  {
   "cell_type": "code",
   "execution_count": 56,
   "id": "proprietary-reputation",
   "metadata": {},
   "outputs": [],
   "source": [
    "def logged(f):\n",
    "    # implement this\n",
    "    pass"
   ]
  },
  {
   "cell_type": "code",
   "execution_count": 57,
   "id": "direct-closure",
   "metadata": {},
   "outputs": [],
   "source": [
    "norm_logged = logged(norm)\n",
    "find_index_min_logged = logged(find_index_min)"
   ]
  },
  {
   "cell_type": "markdown",
   "id": "reported-auckland",
   "metadata": {},
   "source": [
    "You would then be able to call `norm_logged` with some arguments, or `find_index_min_logged` with some arguments, and not only get the actual result back, but also see an output to the console that tells you how long the function took to run."
   ]
  },
  {
   "cell_type": "markdown",
   "id": "vertical-hypothesis",
   "metadata": {},
   "source": [
    "##### Solution"
   ]
  },
  {
   "cell_type": "markdown",
   "id": "inappropriate-memory",
   "metadata": {},
   "source": [
    "To solve this, we'll use a closure with nested functions."
   ]
  },
  {
   "cell_type": "markdown",
   "id": "significant-building",
   "metadata": {},
   "source": [
    "The outer function will take a single argument, the function `f`."
   ]
  },
  {
   "cell_type": "code",
   "execution_count": 58,
   "id": "involved-bolivia",
   "metadata": {},
   "outputs": [],
   "source": [
    "def logged(f):\n",
    "    pass"
   ]
  },
  {
   "cell_type": "markdown",
   "id": "statewide-novelty",
   "metadata": {},
   "source": [
    "Then we'll create a nested function that will receive whatever arguments `f` needs to be called, and we'll return that new inner function (that will be the closure):"
   ]
  },
  {
   "cell_type": "code",
   "execution_count": 59,
   "id": "regional-solomon",
   "metadata": {},
   "outputs": [],
   "source": [
    "def logged(f):\n",
    "    def inner(*args, **kwargs):\n",
    "        result = f(*args, **kwargs)\n",
    "        return result\n",
    "    return inner"
   ]
  },
  {
   "cell_type": "markdown",
   "id": "ignored-lightning",
   "metadata": {},
   "source": [
    "You'll notice that when we call `logged(norm)` we'll actually get a function back - that `inner` function whose `f` value is actually `norm` - let's try it out:"
   ]
  },
  {
   "cell_type": "code",
   "execution_count": 60,
   "id": "loose-technique",
   "metadata": {},
   "outputs": [],
   "source": [
    "logged_norm = logged(norm)"
   ]
  },
  {
   "cell_type": "code",
   "execution_count": 61,
   "id": "existing-immune",
   "metadata": {},
   "outputs": [
    {
     "data": {
      "text/plain": [
       "<function __main__.logged.<locals>.inner(*args, **kwargs)>"
      ]
     },
     "execution_count": 61,
     "metadata": {},
     "output_type": "execute_result"
    }
   ],
   "source": [
    "logged_norm"
   ]
  },
  {
   "cell_type": "markdown",
   "id": "insured-whole",
   "metadata": {},
   "source": [
    "As expected `logged_norm` is a function - but it is a special function - it knows that `f` (in it's body) is actually `norm`."
   ]
  },
  {
   "cell_type": "markdown",
   "id": "inclusive-jimmy",
   "metadata": {},
   "source": [
    "We can actually see it this way:"
   ]
  },
  {
   "cell_type": "code",
   "execution_count": 62,
   "id": "coral-distinction",
   "metadata": {},
   "outputs": [
    {
     "data": {
      "text/plain": [
       "(<cell at 0x7ff281a01a90: function object at 0x7ff2819ece50>,)"
      ]
     },
     "execution_count": 62,
     "metadata": {},
     "output_type": "execute_result"
    }
   ],
   "source": [
    "logged_norm.__closure__"
   ]
  },
  {
   "cell_type": "markdown",
   "id": "selective-sudan",
   "metadata": {},
   "source": [
    "Notice how there is this \"cell\", which is a function object at some memory address - that memory address is actually the memory address of `norm`:"
   ]
  },
  {
   "cell_type": "code",
   "execution_count": 63,
   "id": "endless-springer",
   "metadata": {},
   "outputs": [
    {
     "data": {
      "text/plain": [
       "'0x7ff2819ece50'"
      ]
     },
     "execution_count": 63,
     "metadata": {},
     "output_type": "execute_result"
    }
   ],
   "source": [
    "hex(id(norm))"
   ]
  },
  {
   "cell_type": "markdown",
   "id": "fifth-zealand",
   "metadata": {},
   "source": [
    "We could also create a logged function for `find_index_min`:"
   ]
  },
  {
   "cell_type": "code",
   "execution_count": 64,
   "id": "ranking-incidence",
   "metadata": {},
   "outputs": [],
   "source": [
    "find_index_min_logged=logged(find_index_min)"
   ]
  },
  {
   "cell_type": "code",
   "execution_count": 65,
   "id": "valid-migration",
   "metadata": {},
   "outputs": [
    {
     "data": {
      "text/plain": [
       "(<cell at 0x7ff281a01250: function object at 0x7ff2819ecee0>,)"
      ]
     },
     "execution_count": 65,
     "metadata": {},
     "output_type": "execute_result"
    }
   ],
   "source": [
    "find_index_min_logged.__closure__"
   ]
  },
  {
   "cell_type": "markdown",
   "id": "adaptive-toyota",
   "metadata": {},
   "source": [
    "And the function in that closure is actually the `find_index_min` function:"
   ]
  },
  {
   "cell_type": "code",
   "execution_count": 66,
   "id": "expired-georgia",
   "metadata": {},
   "outputs": [
    {
     "data": {
      "text/plain": [
       "'0x7ff2819ecee0'"
      ]
     },
     "execution_count": 66,
     "metadata": {},
     "output_type": "execute_result"
    }
   ],
   "source": [
    "hex(id(find_index_min))"
   ]
  },
  {
   "cell_type": "markdown",
   "id": "threaded-killing",
   "metadata": {},
   "source": [
    "Now let's finish off our `logged` function - we still need to time things and print that out:"
   ]
  },
  {
   "cell_type": "code",
   "execution_count": 67,
   "id": "rolled-heater",
   "metadata": {},
   "outputs": [],
   "source": [
    "from time import perf_counter\n",
    "\n",
    "def logged(f):\n",
    "    def inner(*args, **kwargs):\n",
    "        start = perf_counter()\n",
    "        result = f(*args, **kwargs)\n",
    "        end = perf_counter()\n",
    "        print(f'elapsed: {end - start} secs')\n",
    "        return result\n",
    "    return inner"
   ]
  },
  {
   "cell_type": "markdown",
   "id": "delayed-cinema",
   "metadata": {},
   "source": [
    "And let's try it out:"
   ]
  },
  {
   "cell_type": "code",
   "execution_count": 68,
   "id": "previous-soundtrack",
   "metadata": {},
   "outputs": [],
   "source": [
    "logged_norm = logged(norm)\n",
    "find_index_min_logged=logged(find_index_min)"
   ]
  },
  {
   "cell_type": "code",
   "execution_count": 69,
   "id": "southwest-count",
   "metadata": {},
   "outputs": [
    {
     "name": "stdout",
     "output_type": "stream",
     "text": [
      "elapsed: 4.817999999850997e-06 secs\n",
      "result: 1.4142135623730951\n"
     ]
    }
   ],
   "source": [
    "result = logged_norm(1, 1)\n",
    "print(f'result: {result}')"
   ]
  },
  {
   "cell_type": "code",
   "execution_count": 70,
   "id": "political-violin",
   "metadata": {},
   "outputs": [
    {
     "name": "stdout",
     "output_type": "stream",
     "text": [
      "elapsed: 2.6530000001301346e-06 secs\n",
      "result: 4\n"
     ]
    }
   ],
   "source": [
    "result = find_index_min_logged([10, 5, 3, -2, -10, 100])\n",
    "print(f'result: {result}')"
   ]
  }
 ],
 "metadata": {
  "kernelspec": {
   "display_name": "Python 3",
   "language": "python",
   "name": "python3"
  },
  "language_info": {
   "codemirror_mode": {
    "name": "ipython",
    "version": 3
   },
   "file_extension": ".py",
   "mimetype": "text/x-python",
   "name": "python",
   "nbconvert_exporter": "python",
   "pygments_lexer": "ipython3",
   "version": "3.9.1"
  }
 },
 "nbformat": 4,
 "nbformat_minor": 5
}
