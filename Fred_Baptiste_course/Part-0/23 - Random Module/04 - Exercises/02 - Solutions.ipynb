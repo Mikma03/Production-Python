{
 "cells": [
  {
   "cell_type": "markdown",
   "id": "printable-state",
   "metadata": {},
   "source": [
    "### Solutions"
   ]
  },
  {
   "cell_type": "markdown",
   "id": "talented-insurance",
   "metadata": {},
   "source": [
    "#### Question 1"
   ]
  },
  {
   "cell_type": "markdown",
   "id": "corresponding-steering",
   "metadata": {},
   "source": [
    "Generate the sample space of rolling two 6-sided dice, numbered `'9', '10', 'J', 'Q', 'K', 'A'`."
   ]
  },
  {
   "cell_type": "markdown",
   "id": "computational-voltage",
   "metadata": {},
   "source": [
    "(The sample space is the set of all possible outcomes)."
   ]
  },
  {
   "cell_type": "markdown",
   "id": "double-apollo",
   "metadata": {},
   "source": [
    "Your result should be a list containing tuples for the outcome of each die, e.g.\n",
    "\n",
    "```\n",
    "[('9', '9'),\n",
    " ('9', '10'),\n",
    " ('9', 'J'),\n",
    " ('9', 'Q'),\n",
    " ('9', 'K'),\n",
    " ('9', 'A'),\n",
    " ('10', '9'),\n",
    " ('10', '10'),\n",
    " ('10', 'J'),\n",
    " ('10', 'Q'),\n",
    " ('10', 'K'),\n",
    " ('10', 'A'),\n",
    " etc\n",
    "```"
   ]
  },
  {
   "cell_type": "markdown",
   "id": "abroad-history",
   "metadata": {},
   "source": [
    "Make this a function that returns the sample space, called `make_sample_space`."
   ]
  },
  {
   "cell_type": "markdown",
   "id": "collaborative-breath",
   "metadata": {},
   "source": [
    "##### Solution"
   ]
  },
  {
   "cell_type": "markdown",
   "id": "prescription-comparative",
   "metadata": {},
   "source": [
    "The important thing to remember here is that we have \"replacement\" - i.e. the same number can come up on each die since those are two separate die."
   ]
  },
  {
   "cell_type": "markdown",
   "id": "noble-bedroom",
   "metadata": {},
   "source": [
    "First let's create a tuple that contains all our possible face values for the dice:"
   ]
  },
  {
   "cell_type": "code",
   "execution_count": 1,
   "id": "precise-layer",
   "metadata": {},
   "outputs": [],
   "source": [
    "face_values = ['9', '10', 'J', 'Q', 'K', 'A']"
   ]
  },
  {
   "cell_type": "raw",
   "id": "verified-playlist",
   "metadata": {},
   "source": [
    "Our sample space is all the possible combinations of face values from two sets of face values - essentially the \"Cartesian product\" of the `face_values` (in set terminology)."
   ]
  },
  {
   "cell_type": "markdown",
   "id": "surprised-glasgow",
   "metadata": {},
   "source": [
    "We could do it this way:"
   ]
  },
  {
   "cell_type": "code",
   "execution_count": 2,
   "id": "absolute-meditation",
   "metadata": {},
   "outputs": [
    {
     "data": {
      "text/plain": [
       "[('9', '9'),\n",
       " ('9', '10'),\n",
       " ('9', 'J'),\n",
       " ('9', 'Q'),\n",
       " ('9', 'K'),\n",
       " ('9', 'A'),\n",
       " ('10', '9'),\n",
       " ('10', '10'),\n",
       " ('10', 'J'),\n",
       " ('10', 'Q'),\n",
       " ('10', 'K'),\n",
       " ('10', 'A'),\n",
       " ('J', '9'),\n",
       " ('J', '10'),\n",
       " ('J', 'J'),\n",
       " ('J', 'Q'),\n",
       " ('J', 'K'),\n",
       " ('J', 'A'),\n",
       " ('Q', '9'),\n",
       " ('Q', '10'),\n",
       " ('Q', 'J'),\n",
       " ('Q', 'Q'),\n",
       " ('Q', 'K'),\n",
       " ('Q', 'A'),\n",
       " ('K', '9'),\n",
       " ('K', '10'),\n",
       " ('K', 'J'),\n",
       " ('K', 'Q'),\n",
       " ('K', 'K'),\n",
       " ('K', 'A'),\n",
       " ('A', '9'),\n",
       " ('A', '10'),\n",
       " ('A', 'J'),\n",
       " ('A', 'Q'),\n",
       " ('A', 'K'),\n",
       " ('A', 'A')]"
      ]
     },
     "execution_count": 2,
     "metadata": {},
     "output_type": "execute_result"
    }
   ],
   "source": [
    "sample_space = []\n",
    "for v1 in face_values:\n",
    "    for v2 in face_values:\n",
    "        sample_space.append((v1, v2))\n",
    "        \n",
    "sample_space"
   ]
  },
  {
   "cell_type": "markdown",
   "id": "elegant-hands",
   "metadata": {},
   "source": [
    "But, we can simplify this using comprehensions:"
   ]
  },
  {
   "cell_type": "code",
   "execution_count": 3,
   "id": "white-white",
   "metadata": {},
   "outputs": [],
   "source": [
    "sample_space = [(v1, v2) for v1 in face_values for v2 in face_values]"
   ]
  },
  {
   "cell_type": "markdown",
   "id": "figured-sydney",
   "metadata": {},
   "source": [
    "So let's make this into a function:"
   ]
  },
  {
   "cell_type": "code",
   "execution_count": 4,
   "id": "cathedral-hostel",
   "metadata": {},
   "outputs": [],
   "source": [
    "def make_sample_space():\n",
    "    face_values = ['9', '10', 'J', 'Q', 'K', 'A']\n",
    "    return [(v1, v2) for v1 in face_values for v2 in face_values]"
   ]
  },
  {
   "cell_type": "markdown",
   "id": "great-mining",
   "metadata": {},
   "source": [
    "#### Question 2"
   ]
  },
  {
   "cell_type": "markdown",
   "id": "indie-speed",
   "metadata": {},
   "source": [
    "Using the sample space you just created above, simulate throwing the two die `n` times by making random choices from the sample space."
   ]
  },
  {
   "cell_type": "markdown",
   "id": "defensive-accident",
   "metadata": {},
   "source": [
    "Again, make this into a function that returns the random choices as a list of tuples, with `n` as a parameter of this function.\n",
    "\n",
    "Call the function `simulate_throws_from_sample_space`."
   ]
  },
  {
   "cell_type": "markdown",
   "id": "known-water",
   "metadata": {},
   "source": [
    "##### Solution"
   ]
  },
  {
   "cell_type": "markdown",
   "id": "still-sympathy",
   "metadata": {},
   "source": [
    "For this we need to make `n` independent choices **with** replacement."
   ]
  },
  {
   "cell_type": "markdown",
   "id": "acoustic-vertex",
   "metadata": {},
   "source": [
    "We could just repeatedly choose from the sample space repeatedly:"
   ]
  },
  {
   "cell_type": "code",
   "execution_count": 5,
   "id": "visible-creation",
   "metadata": {},
   "outputs": [],
   "source": [
    "import random"
   ]
  },
  {
   "cell_type": "code",
   "execution_count": 6,
   "id": "warming-huntington",
   "metadata": {},
   "outputs": [
    {
     "data": {
      "text/plain": [
       "[('10', 'K'),\n",
       " ('K', '10'),\n",
       " ('10', 'A'),\n",
       " ('J', 'Q'),\n",
       " ('A', 'A'),\n",
       " ('J', 'K'),\n",
       " ('J', 'K'),\n",
       " ('A', 'Q'),\n",
       " ('Q', 'Q'),\n",
       " ('Q', 'A')]"
      ]
     },
     "execution_count": 6,
     "metadata": {},
     "output_type": "execute_result"
    }
   ],
   "source": [
    "sample_space = make_sample_space()\n",
    "[random.choice(sample_space) for _ in range(10)]"
   ]
  },
  {
   "cell_type": "markdown",
   "id": "afraid-rough",
   "metadata": {},
   "source": [
    "But it would be simpler to use the fact that `choices` can return multiple chocies, and it does so with replacement."
   ]
  },
  {
   "cell_type": "code",
   "execution_count": 7,
   "id": "uniform-meaning",
   "metadata": {},
   "outputs": [
    {
     "data": {
      "text/plain": [
       "[('Q', 'A'),\n",
       " ('Q', 'K'),\n",
       " ('Q', 'J'),\n",
       " ('J', 'J'),\n",
       " ('10', '10'),\n",
       " ('J', 'A'),\n",
       " ('9', '9'),\n",
       " ('9', 'A'),\n",
       " ('K', 'K'),\n",
       " ('J', 'K')]"
      ]
     },
     "execution_count": 7,
     "metadata": {},
     "output_type": "execute_result"
    }
   ],
   "source": [
    "random.choices(sample_space, k=10)"
   ]
  },
  {
   "cell_type": "markdown",
   "id": "alpha-subject",
   "metadata": {},
   "source": [
    "Let's write this up as a function:"
   ]
  },
  {
   "cell_type": "code",
   "execution_count": 8,
   "id": "seasonal-balloon",
   "metadata": {},
   "outputs": [],
   "source": [
    "def simulate_throws_from_sample_space(n):\n",
    "    return random.choices(make_sample_space(), k=n)"
   ]
  },
  {
   "cell_type": "code",
   "execution_count": 9,
   "id": "distinguished-phenomenon",
   "metadata": {},
   "outputs": [
    {
     "data": {
      "text/plain": [
       "[('9', 'Q'),\n",
       " ('J', '9'),\n",
       " ('J', 'Q'),\n",
       " ('J', 'K'),\n",
       " ('9', 'Q'),\n",
       " ('J', '9'),\n",
       " ('K', '9'),\n",
       " ('J', '10'),\n",
       " ('K', 'K'),\n",
       " ('Q', 'A')]"
      ]
     },
     "execution_count": 9,
     "metadata": {},
     "output_type": "execute_result"
    }
   ],
   "source": [
    "simulate_throws_from_sample_space(10)"
   ]
  },
  {
   "cell_type": "markdown",
   "id": "false-richmond",
   "metadata": {},
   "source": [
    "#### Question 3"
   ]
  },
  {
   "cell_type": "markdown",
   "id": "ancient-aside",
   "metadata": {},
   "source": [
    "Your goal here is to implement a function `simulate_throws`, similar to the one you wrote in Question 2, but without generating a sample space at all - just using the `face_values`.\n",
    "\n",
    "Write a function that implements this, and name it `simulate_throws`."
   ]
  },
  {
   "cell_type": "markdown",
   "id": "coupled-asbestos",
   "metadata": {},
   "source": [
    "##### Solution"
   ]
  },
  {
   "cell_type": "markdown",
   "id": "completed-lebanon",
   "metadata": {},
   "source": [
    "The key here is that we can make multiple choices (with replacement) from the same set of values using the `choices` fucntion that we just used in Question 2."
   ]
  },
  {
   "cell_type": "markdown",
   "id": "ambient-possible",
   "metadata": {},
   "source": [
    "So each throw can be simulated using:"
   ]
  },
  {
   "cell_type": "code",
   "execution_count": 10,
   "id": "spiritual-luther",
   "metadata": {},
   "outputs": [
    {
     "data": {
      "text/plain": [
       "['Q', 'K']"
      ]
     },
     "execution_count": 10,
     "metadata": {},
     "output_type": "execute_result"
    }
   ],
   "source": [
    "random.choices(face_values, k=2)"
   ]
  },
  {
   "cell_type": "markdown",
   "id": "imposed-nirvana",
   "metadata": {},
   "source": [
    "This comes back as a list, which is fine - but we could make it into a tuple if we preferred to keep it consistent with what we had before:"
   ]
  },
  {
   "cell_type": "code",
   "execution_count": 11,
   "id": "whole-election",
   "metadata": {},
   "outputs": [
    {
     "data": {
      "text/plain": [
       "('A', 'A')"
      ]
     },
     "execution_count": 11,
     "metadata": {},
     "output_type": "execute_result"
    }
   ],
   "source": [
    "tuple(random.choices(face_values, k=2))"
   ]
  },
  {
   "cell_type": "markdown",
   "id": "determined-easter",
   "metadata": {},
   "source": [
    "We can then asemble a list of these tuples using a simple comprehension:"
   ]
  },
  {
   "cell_type": "code",
   "execution_count": 12,
   "id": "searching-wallpaper",
   "metadata": {},
   "outputs": [
    {
     "data": {
      "text/plain": [
       "[('J', 'K'),\n",
       " ('J', 'J'),\n",
       " ('K', '9'),\n",
       " ('9', 'J'),\n",
       " ('Q', 'A'),\n",
       " ('K', 'J'),\n",
       " ('K', 'K'),\n",
       " ('K', '10'),\n",
       " ('K', 'Q'),\n",
       " ('10', 'A')]"
      ]
     },
     "execution_count": 12,
     "metadata": {},
     "output_type": "execute_result"
    }
   ],
   "source": [
    "[tuple(random.choices(face_values, k=2)) for _ in range(10)]"
   ]
  },
  {
   "cell_type": "markdown",
   "id": "elegant-cooper",
   "metadata": {},
   "source": [
    "Let's package that up into a function:"
   ]
  },
  {
   "cell_type": "code",
   "execution_count": 13,
   "id": "pressing-bridges",
   "metadata": {},
   "outputs": [],
   "source": [
    "def simulate_throws(n):\n",
    "    return [tuple(random.choices(face_values, k=2)) for _ in range(n)]"
   ]
  },
  {
   "cell_type": "code",
   "execution_count": 14,
   "id": "backed-finance",
   "metadata": {},
   "outputs": [
    {
     "data": {
      "text/plain": [
       "[('K', '9'),\n",
       " ('9', '9'),\n",
       " ('J', 'J'),\n",
       " ('A', 'K'),\n",
       " ('A', 'Q'),\n",
       " ('A', 'J'),\n",
       " ('10', 'J'),\n",
       " ('J', 'K'),\n",
       " ('K', 'A'),\n",
       " ('9', 'A')]"
      ]
     },
     "execution_count": 14,
     "metadata": {},
     "output_type": "execute_result"
    }
   ],
   "source": [
    "simulate_throws(10)"
   ]
  },
  {
   "cell_type": "markdown",
   "id": "married-launch",
   "metadata": {},
   "source": [
    "#### Question 4"
   ]
  },
  {
   "cell_type": "markdown",
   "id": "restricted-rhythm",
   "metadata": {},
   "source": [
    "Using both methods of generating throws, build a dictionary that contains the face values as keys, and the number of times they were selected in the simulated throws."
   ]
  },
  {
   "cell_type": "markdown",
   "id": "classical-daughter",
   "metadata": {},
   "source": [
    "For example, assuming you made `100` throws using one of these methods, your dictionary might look like this:\n",
    "\n",
    "```\n",
    "{\n",
    "    '9': 39, \n",
    "    '10': 27, \n",
    "    'J': 28, \n",
    "    'Q': 34,\n",
    "    'K': 36, \n",
    "    'A': 36\n",
    "}\n",
    "```"
   ]
  },
  {
   "cell_type": "markdown",
   "id": "quiet-democracy",
   "metadata": {},
   "source": [
    "Note that your values in the dictionary should add up to `200` is you made one `100` throws."
   ]
  },
  {
   "cell_type": "markdown",
   "id": "higher-roman",
   "metadata": {},
   "source": [
    "Write a function that is given the function to use to generate the throws, the number of throws to simulate, and returns this dictionary."
   ]
  },
  {
   "cell_type": "markdown",
   "id": "appropriate-telephone",
   "metadata": {},
   "source": [
    "##### Solution"
   ]
  },
  {
   "cell_type": "markdown",
   "id": "herbal-norfolk",
   "metadata": {},
   "source": [
    "Let's create a sequence of throws:"
   ]
  },
  {
   "cell_type": "code",
   "execution_count": 15,
   "id": "acting-livestock",
   "metadata": {},
   "outputs": [],
   "source": [
    "sample = simulate_throws(100)"
   ]
  },
  {
   "cell_type": "code",
   "execution_count": 16,
   "id": "direct-wisconsin",
   "metadata": {},
   "outputs": [
    {
     "data": {
      "text/plain": [
       "[('9', 'K'),\n",
       " ('Q', 'J'),\n",
       " ('K', 'K'),\n",
       " ('9', 'A'),\n",
       " ('K', 'Q'),\n",
       " ('J', 'Q'),\n",
       " ('K', 'K'),\n",
       " ('Q', 'J'),\n",
       " ('9', '9'),\n",
       " ('9', 'K'),\n",
       " ('J', 'K'),\n",
       " ('J', 'Q'),\n",
       " ('A', 'K'),\n",
       " ('A', '10'),\n",
       " ('J', '10'),\n",
       " ('Q', '9'),\n",
       " ('J', '9'),\n",
       " ('Q', 'K'),\n",
       " ('9', 'Q'),\n",
       " ('J', 'K'),\n",
       " ('Q', 'K'),\n",
       " ('K', 'Q'),\n",
       " ('Q', '9'),\n",
       " ('A', '9'),\n",
       " ('10', '10'),\n",
       " ('10', 'Q'),\n",
       " ('9', '9'),\n",
       " ('J', 'J'),\n",
       " ('A', 'K'),\n",
       " ('J', 'K'),\n",
       " ('A', 'J'),\n",
       " ('9', 'A'),\n",
       " ('Q', 'A'),\n",
       " ('A', 'A'),\n",
       " ('J', 'Q'),\n",
       " ('J', 'K'),\n",
       " ('J', 'Q'),\n",
       " ('9', 'K'),\n",
       " ('K', 'J'),\n",
       " ('Q', 'J'),\n",
       " ('9', 'J'),\n",
       " ('9', 'K'),\n",
       " ('9', 'K'),\n",
       " ('Q', '9'),\n",
       " ('9', 'Q'),\n",
       " ('K', '9'),\n",
       " ('K', 'Q'),\n",
       " ('J', '10'),\n",
       " ('J', '10'),\n",
       " ('10', 'Q'),\n",
       " ('Q', 'Q'),\n",
       " ('J', 'Q'),\n",
       " ('Q', '9'),\n",
       " ('9', 'K'),\n",
       " ('K', 'J'),\n",
       " ('K', 'Q'),\n",
       " ('10', '9'),\n",
       " ('K', '9'),\n",
       " ('9', 'A'),\n",
       " ('K', '9'),\n",
       " ('J', 'A'),\n",
       " ('A', 'Q'),\n",
       " ('10', '9'),\n",
       " ('Q', '9'),\n",
       " ('A', '10'),\n",
       " ('J', 'K'),\n",
       " ('9', 'A'),\n",
       " ('9', '9'),\n",
       " ('K', 'A'),\n",
       " ('10', 'A'),\n",
       " ('Q', '10'),\n",
       " ('9', '9'),\n",
       " ('Q', '9'),\n",
       " ('9', 'K'),\n",
       " ('10', '10'),\n",
       " ('A', '9'),\n",
       " ('J', 'A'),\n",
       " ('J', '10'),\n",
       " ('Q', 'J'),\n",
       " ('K', 'A'),\n",
       " ('Q', 'A'),\n",
       " ('10', '9'),\n",
       " ('10', '9'),\n",
       " ('Q', 'Q'),\n",
       " ('Q', 'J'),\n",
       " ('A', 'J'),\n",
       " ('K', '10'),\n",
       " ('Q', 'J'),\n",
       " ('J', '10'),\n",
       " ('Q', 'J'),\n",
       " ('10', 'A'),\n",
       " ('A', 'Q'),\n",
       " ('A', 'A'),\n",
       " ('10', 'J'),\n",
       " ('A', 'J'),\n",
       " ('K', '10'),\n",
       " ('K', 'J'),\n",
       " ('A', 'A'),\n",
       " ('9', 'Q'),\n",
       " ('10', '10')]"
      ]
     },
     "execution_count": 16,
     "metadata": {},
     "output_type": "execute_result"
    }
   ],
   "source": [
    "sample"
   ]
  },
  {
   "cell_type": "markdown",
   "id": "higher-richards",
   "metadata": {},
   "source": [
    "We could try and basically iterate through every row and every item in the row and build up a counter this way:"
   ]
  },
  {
   "cell_type": "code",
   "execution_count": 17,
   "id": "functioning-bruce",
   "metadata": {},
   "outputs": [
    {
     "data": {
      "text/plain": [
       "{'9': 39, 'K': 34, 'Q': 38, 'J': 35, 'A': 29, '10': 25}"
      ]
     },
     "execution_count": 17,
     "metadata": {},
     "output_type": "execute_result"
    }
   ],
   "source": [
    "frequencies = {}\n",
    "for row in sample:\n",
    "    for value in row:\n",
    "        frequencies[value] = frequencies.get(value, 0) + 1\n",
    "frequencies"
   ]
  },
  {
   "cell_type": "markdown",
   "id": "brutal-nothing",
   "metadata": {},
   "source": [
    "We could however, use the `Counter` in the `collections` module instead - recall how it works:"
   ]
  },
  {
   "cell_type": "code",
   "execution_count": 18,
   "id": "eastern-commander",
   "metadata": {},
   "outputs": [],
   "source": [
    "from collections import Counter"
   ]
  },
  {
   "cell_type": "code",
   "execution_count": 19,
   "id": "simple-camcorder",
   "metadata": {},
   "outputs": [
    {
     "data": {
      "text/plain": [
       "{'A': 2, 'J': 2, 'Q': 1}"
      ]
     },
     "execution_count": 19,
     "metadata": {},
     "output_type": "execute_result"
    }
   ],
   "source": [
    "dict(Counter(['A', 'J', 'Q', 'A', 'J']))"
   ]
  },
  {
   "cell_type": "markdown",
   "id": "adapted-proportion",
   "metadata": {},
   "source": [
    "The problem here is that we have a list of tuples - what we atually need is to flatten this list out and just get a list of the individual values."
   ]
  },
  {
   "cell_type": "markdown",
   "id": "revised-ballot",
   "metadata": {},
   "source": [
    "We can do this easily enough using a comprehension:"
   ]
  },
  {
   "cell_type": "code",
   "execution_count": 20,
   "id": "interested-yeast",
   "metadata": {},
   "outputs": [
    {
     "data": {
      "text/plain": [
       "['9',\n",
       " 'K',\n",
       " 'Q',\n",
       " 'J',\n",
       " 'K',\n",
       " 'K',\n",
       " '9',\n",
       " 'A',\n",
       " 'K',\n",
       " 'Q',\n",
       " 'J',\n",
       " 'Q',\n",
       " 'K',\n",
       " 'K',\n",
       " 'Q',\n",
       " 'J',\n",
       " '9',\n",
       " '9',\n",
       " '9',\n",
       " 'K',\n",
       " 'J',\n",
       " 'K',\n",
       " 'J',\n",
       " 'Q',\n",
       " 'A',\n",
       " 'K',\n",
       " 'A',\n",
       " '10',\n",
       " 'J',\n",
       " '10',\n",
       " 'Q',\n",
       " '9',\n",
       " 'J',\n",
       " '9',\n",
       " 'Q',\n",
       " 'K',\n",
       " '9',\n",
       " 'Q',\n",
       " 'J',\n",
       " 'K',\n",
       " 'Q',\n",
       " 'K',\n",
       " 'K',\n",
       " 'Q',\n",
       " 'Q',\n",
       " '9',\n",
       " 'A',\n",
       " '9',\n",
       " '10',\n",
       " '10',\n",
       " '10',\n",
       " 'Q',\n",
       " '9',\n",
       " '9',\n",
       " 'J',\n",
       " 'J',\n",
       " 'A',\n",
       " 'K',\n",
       " 'J',\n",
       " 'K',\n",
       " 'A',\n",
       " 'J',\n",
       " '9',\n",
       " 'A',\n",
       " 'Q',\n",
       " 'A',\n",
       " 'A',\n",
       " 'A',\n",
       " 'J',\n",
       " 'Q',\n",
       " 'J',\n",
       " 'K',\n",
       " 'J',\n",
       " 'Q',\n",
       " '9',\n",
       " 'K',\n",
       " 'K',\n",
       " 'J',\n",
       " 'Q',\n",
       " 'J',\n",
       " '9',\n",
       " 'J',\n",
       " '9',\n",
       " 'K',\n",
       " '9',\n",
       " 'K',\n",
       " 'Q',\n",
       " '9',\n",
       " '9',\n",
       " 'Q',\n",
       " 'K',\n",
       " '9',\n",
       " 'K',\n",
       " 'Q',\n",
       " 'J',\n",
       " '10',\n",
       " 'J',\n",
       " '10',\n",
       " '10',\n",
       " 'Q',\n",
       " 'Q',\n",
       " 'Q',\n",
       " 'J',\n",
       " 'Q',\n",
       " 'Q',\n",
       " '9',\n",
       " '9',\n",
       " 'K',\n",
       " 'K',\n",
       " 'J',\n",
       " 'K',\n",
       " 'Q',\n",
       " '10',\n",
       " '9',\n",
       " 'K',\n",
       " '9',\n",
       " '9',\n",
       " 'A',\n",
       " 'K',\n",
       " '9',\n",
       " 'J',\n",
       " 'A',\n",
       " 'A',\n",
       " 'Q',\n",
       " '10',\n",
       " '9',\n",
       " 'Q',\n",
       " '9',\n",
       " 'A',\n",
       " '10',\n",
       " 'J',\n",
       " 'K',\n",
       " '9',\n",
       " 'A',\n",
       " '9',\n",
       " '9',\n",
       " 'K',\n",
       " 'A',\n",
       " '10',\n",
       " 'A',\n",
       " 'Q',\n",
       " '10',\n",
       " '9',\n",
       " '9',\n",
       " 'Q',\n",
       " '9',\n",
       " '9',\n",
       " 'K',\n",
       " '10',\n",
       " '10',\n",
       " 'A',\n",
       " '9',\n",
       " 'J',\n",
       " 'A',\n",
       " 'J',\n",
       " '10',\n",
       " 'Q',\n",
       " 'J',\n",
       " 'K',\n",
       " 'A',\n",
       " 'Q',\n",
       " 'A',\n",
       " '10',\n",
       " '9',\n",
       " '10',\n",
       " '9',\n",
       " 'Q',\n",
       " 'Q',\n",
       " 'Q',\n",
       " 'J',\n",
       " 'A',\n",
       " 'J',\n",
       " 'K',\n",
       " '10',\n",
       " 'Q',\n",
       " 'J',\n",
       " 'J',\n",
       " '10',\n",
       " 'Q',\n",
       " 'J',\n",
       " '10',\n",
       " 'A',\n",
       " 'A',\n",
       " 'Q',\n",
       " 'A',\n",
       " 'A',\n",
       " '10',\n",
       " 'J',\n",
       " 'A',\n",
       " 'J',\n",
       " 'K',\n",
       " '10',\n",
       " 'K',\n",
       " 'J',\n",
       " 'A',\n",
       " 'A',\n",
       " '9',\n",
       " 'Q',\n",
       " '10',\n",
       " '10']"
      ]
     },
     "execution_count": 20,
     "metadata": {},
     "output_type": "execute_result"
    }
   ],
   "source": [
    "values = [e for throw in sample for e in throw]\n",
    "values"
   ]
  },
  {
   "cell_type": "markdown",
   "id": "atomic-glory",
   "metadata": {},
   "source": [
    "And we could pass that to now to a `Counter`:"
   ]
  },
  {
   "cell_type": "code",
   "execution_count": 21,
   "id": "greater-clinton",
   "metadata": {},
   "outputs": [
    {
     "data": {
      "text/plain": [
       "{'9': 39, 'K': 34, 'Q': 38, 'J': 35, 'A': 29, '10': 25}"
      ]
     },
     "execution_count": 21,
     "metadata": {},
     "output_type": "execute_result"
    }
   ],
   "source": [
    "dict(Counter(values))"
   ]
  },
  {
   "cell_type": "markdown",
   "id": "secondary-queens",
   "metadata": {},
   "source": [
    "Let's make a function to encapsulate all this."
   ]
  },
  {
   "cell_type": "code",
   "execution_count": 22,
   "id": "impaired-lesbian",
   "metadata": {},
   "outputs": [],
   "source": [
    "def frequency_analysis(func, n):\n",
    "    sample = func(n)\n",
    "    values = [e for throw in sample for e in throw]\n",
    "    return dict(Counter(values))"
   ]
  },
  {
   "cell_type": "markdown",
   "id": "pressed-tonight",
   "metadata": {},
   "source": [
    "And now we can use this function with any of our throw generators:"
   ]
  },
  {
   "cell_type": "code",
   "execution_count": 23,
   "id": "genuine-athens",
   "metadata": {},
   "outputs": [
    {
     "data": {
      "text/plain": [
       "{'9': 29, '10': 40, 'A': 31, 'Q': 27, 'J': 40, 'K': 33}"
      ]
     },
     "execution_count": 23,
     "metadata": {},
     "output_type": "execute_result"
    }
   ],
   "source": [
    "frequency_analysis(simulate_throws_from_sample_space, 100)"
   ]
  },
  {
   "cell_type": "code",
   "execution_count": 24,
   "id": "patient-lunch",
   "metadata": {},
   "outputs": [
    {
     "data": {
      "text/plain": [
       "{'10': 40, 'A': 41, 'Q': 38, 'K': 28, 'J': 29, '9': 24}"
      ]
     },
     "execution_count": 24,
     "metadata": {},
     "output_type": "execute_result"
    }
   ],
   "source": [
    "frequency_analysis(simulate_throws, 100)"
   ]
  },
  {
   "cell_type": "markdown",
   "id": "instructional-given",
   "metadata": {},
   "source": [
    "#### Question 5"
   ]
  },
  {
   "cell_type": "markdown",
   "id": "packed-criminal",
   "metadata": {},
   "source": [
    "Write a function that given two arguments `a` and `b` returns a random float between `a` (inclusive) and `b` (exclusive)."
   ]
  },
  {
   "cell_type": "markdown",
   "id": "ready-washer",
   "metadata": {},
   "source": [
    "##### Solution"
   ]
  },
  {
   "cell_type": "markdown",
   "id": "friendly-ivory",
   "metadata": {},
   "source": [
    "The standard random float generator returns values in `[0, 1)`."
   ]
  },
  {
   "cell_type": "markdown",
   "id": "included-tampa",
   "metadata": {},
   "source": [
    "In our case, we'll need to translate this to start at `a`:"
   ]
  },
  {
   "cell_type": "code",
   "execution_count": 27,
   "id": "bound-marijuana",
   "metadata": {},
   "outputs": [
    {
     "data": {
      "text/plain": [
       "10.497899578597625"
      ]
     },
     "execution_count": 27,
     "metadata": {},
     "output_type": "execute_result"
    }
   ],
   "source": [
    "10 + random.random()"
   ]
  },
  {
   "cell_type": "markdown",
   "id": "lightweight-literature",
   "metadata": {},
   "source": [
    "And we'll need to make sure our random float is \"scaled\" to the length of our desired interval (`b-a`):"
   ]
  },
  {
   "cell_type": "markdown",
   "id": "breeding-gardening",
   "metadata": {},
   "source": [
    "If we have an interval such as `[10, 20)`, we want our random number (before adding `10`) to it, to be in the range `[0, 10)`. We can do so by multiplying it by `10` - and in general by `b-a`."
   ]
  },
  {
   "cell_type": "code",
   "execution_count": 28,
   "id": "charming-utility",
   "metadata": {},
   "outputs": [
    {
     "data": {
      "text/plain": [
       "15.831057883217674"
      ]
     },
     "execution_count": 28,
     "metadata": {},
     "output_type": "execute_result"
    }
   ],
   "source": [
    "10 + (random.random() * (20 - 10))"
   ]
  },
  {
   "cell_type": "markdown",
   "id": "moderate-spell",
   "metadata": {},
   "source": [
    "Let's write this as a function:"
   ]
  },
  {
   "cell_type": "code",
   "execution_count": 29,
   "id": "limiting-quantity",
   "metadata": {},
   "outputs": [],
   "source": [
    "def random_float(a=0, b=1):\n",
    "    return a + random.random() * (b-a)"
   ]
  },
  {
   "cell_type": "markdown",
   "id": "liberal-jones",
   "metadata": {},
   "source": [
    "Ad we can then use it this way:"
   ]
  },
  {
   "cell_type": "code",
   "execution_count": 30,
   "id": "registered-training",
   "metadata": {},
   "outputs": [
    {
     "name": "stdout",
     "output_type": "stream",
     "text": [
      "12.502599769256468\n",
      "13.702552234036052\n",
      "13.195295934440441\n",
      "12.953629020932048\n",
      "12.972948766998417\n",
      "12.431119432030926\n",
      "13.024268766741276\n",
      "13.139809905684197\n",
      "13.899017803710269\n",
      "13.7863204601448\n"
     ]
    }
   ],
   "source": [
    "for _ in range(10):\n",
    "    print(random_float(12, 14))"
   ]
  }
 ],
 "metadata": {
  "kernelspec": {
   "display_name": "Python 3",
   "language": "python",
   "name": "python3"
  },
  "language_info": {
   "codemirror_mode": {
    "name": "ipython",
    "version": 3
   },
   "file_extension": ".py",
   "mimetype": "text/x-python",
   "name": "python",
   "nbconvert_exporter": "python",
   "pygments_lexer": "ipython3",
   "version": "3.9.1"
  }
 },
 "nbformat": 4,
 "nbformat_minor": 5
}
