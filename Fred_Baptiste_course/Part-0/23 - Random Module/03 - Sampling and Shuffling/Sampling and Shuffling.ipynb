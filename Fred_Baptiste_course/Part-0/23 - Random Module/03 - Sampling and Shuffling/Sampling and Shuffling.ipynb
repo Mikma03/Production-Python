{
 "cells": [
  {
   "cell_type": "markdown",
   "metadata": {},
   "source": [
    "### Sampling and Shuffling"
   ]
  },
  {
   "cell_type": "markdown",
   "metadata": {},
   "source": [
    "We can shuffle (in-place) a list (or any mutable sequence) using the `shuffle` function in the `random` module:"
   ]
  },
  {
   "cell_type": "code",
   "execution_count": 1,
   "metadata": {},
   "outputs": [],
   "source": [
    "import random"
   ]
  },
  {
   "cell_type": "code",
   "execution_count": 2,
   "metadata": {},
   "outputs": [],
   "source": [
    "l = [1, 2, 3, 4, 5]"
   ]
  },
  {
   "cell_type": "code",
   "execution_count": 3,
   "metadata": {},
   "outputs": [],
   "source": [
    "random.shuffle(l)"
   ]
  },
  {
   "cell_type": "markdown",
   "metadata": {},
   "source": [
    "As you can see nothing is *returned* from this function call - that's because it mutated `l`:"
   ]
  },
  {
   "cell_type": "code",
   "execution_count": 4,
   "metadata": {},
   "outputs": [
    {
     "data": {
      "text/plain": [
       "[4, 1, 5, 2, 3]"
      ]
     },
     "execution_count": 4,
     "metadata": {},
     "output_type": "execute_result"
    }
   ],
   "source": [
    "l"
   ]
  },
  {
   "cell_type": "markdown",
   "metadata": {},
   "source": [
    "The `shuffle` function also uses `random()` as it's source of random numbers, so for the same seed, we'll get the same shuffle:"
   ]
  },
  {
   "cell_type": "code",
   "execution_count": 5,
   "metadata": {},
   "outputs": [
    {
     "name": "stdout",
     "output_type": "stream",
     "text": [
      "[3, 2, 1, 5, 4]\n"
     ]
    }
   ],
   "source": [
    "l = [1, 2, 3, 4, 5]\n",
    "random.seed(0)\n",
    "random.shuffle(l)\n",
    "print(l)"
   ]
  },
  {
   "cell_type": "code",
   "execution_count": 6,
   "metadata": {},
   "outputs": [
    {
     "name": "stdout",
     "output_type": "stream",
     "text": [
      "[3, 2, 1, 5, 4]\n"
     ]
    }
   ],
   "source": [
    "l = [1, 2, 3, 4, 5]\n",
    "random.seed(0)\n",
    "random.shuffle(l)\n",
    "print(l)"
   ]
  },
  {
   "cell_type": "markdown",
   "metadata": {},
   "source": [
    "The `choice` function can be used to pick a random element from a sequence:"
   ]
  },
  {
   "cell_type": "code",
   "execution_count": 7,
   "metadata": {},
   "outputs": [
    {
     "name": "stdout",
     "output_type": "stream",
     "text": [
      "4\n",
      "4\n",
      "1\n",
      "3\n",
      "5\n"
     ]
    }
   ],
   "source": [
    "random.seed(0)\n",
    "l = [1, 2, 3, 4, 5]\n",
    "for _ in range(5):\n",
    "    print(random.choice(l))"
   ]
  },
  {
   "cell_type": "markdown",
   "metadata": {},
   "source": [
    "And again, repeatable if we use the same seed:"
   ]
  },
  {
   "cell_type": "code",
   "execution_count": 8,
   "metadata": {},
   "outputs": [
    {
     "name": "stdout",
     "output_type": "stream",
     "text": [
      "4\n",
      "4\n",
      "1\n",
      "3\n",
      "5\n"
     ]
    }
   ],
   "source": [
    "random.seed(0)\n",
    "l = [1, 2, 3, 4, 5]\n",
    "for _ in range(5):\n",
    "    print(random.choice(l))"
   ]
  },
  {
   "cell_type": "markdown",
   "metadata": {},
   "source": [
    "The frequency distiribution of repeated choices would result in a uniform distribution."
   ]
  },
  {
   "cell_type": "markdown",
   "metadata": {},
   "source": [
    "We also have two methods for randomly choosing multiple elements at a time."
   ]
  },
  {
   "cell_type": "markdown",
   "metadata": {},
   "source": [
    "The first one we'll look at is the `sample` function."
   ]
  },
  {
   "cell_type": "markdown",
   "metadata": {},
   "source": [
    "This allows us to pick a random subset from a sequence or set, and even a range."
   ]
  },
  {
   "cell_type": "code",
   "execution_count": 9,
   "metadata": {},
   "outputs": [],
   "source": [
    "s = set('abcdef')"
   ]
  },
  {
   "cell_type": "code",
   "execution_count": 10,
   "metadata": {},
   "outputs": [
    {
     "data": {
      "text/plain": [
       "{'a', 'b', 'c', 'd', 'e', 'f'}"
      ]
     },
     "execution_count": 10,
     "metadata": {},
     "output_type": "execute_result"
    }
   ],
   "source": [
    "s"
   ]
  },
  {
   "cell_type": "code",
   "execution_count": 11,
   "metadata": {},
   "outputs": [
    {
     "name": "stdout",
     "output_type": "stream",
     "text": [
      "['b', 'f', 'd']\n",
      "['e', 'c', 'b']\n",
      "['b', 'e', 'f']\n",
      "['e', 'c', 'a']\n",
      "['c', 'a', 'e']\n"
     ]
    },
    {
     "name": "stderr",
     "output_type": "stream",
     "text": [
      "<ipython-input-11-0227ba7b6d00>:4: DeprecationWarning: Sampling from a set deprecated\n",
      "since Python 3.9 and will be removed in a subsequent version.\n",
      "  print(random.sample(s, 3))\n"
     ]
    }
   ],
   "source": [
    "random.seed(0)\n",
    "\n",
    "for _ in range(5):\n",
    "    print(random.sample(s, 3))"
   ]
  },
  {
   "cell_type": "markdown",
   "metadata": {},
   "source": [
    "You'll notice that in every choice made, the elements do not (and in general , will not) be repeated."
   ]
  },
  {
   "cell_type": "markdown",
   "metadata": {},
   "source": [
    "This is like doing population sampling, or picking cards from a deck of cards. As you are creating your random sample, once an element has been picked into the sample, it cannot be picked again."
   ]
  },
  {
   "cell_type": "markdown",
   "metadata": {},
   "source": [
    "This also means that you cannot set a sample size that exceeds the population size."
   ]
  },
  {
   "cell_type": "code",
   "execution_count": 12,
   "metadata": {},
   "outputs": [
    {
     "name": "stdout",
     "output_type": "stream",
     "text": [
      "Sample larger than population or is negative\n"
     ]
    },
    {
     "name": "stderr",
     "output_type": "stream",
     "text": [
      "<ipython-input-12-e27a5a48f0a5>:2: DeprecationWarning: Sampling from a set deprecated\n",
      "since Python 3.9 and will be removed in a subsequent version.\n",
      "  random.sample(s, 10)\n"
     ]
    }
   ],
   "source": [
    "try:\n",
    "    random.sample(s, 10)\n",
    "except ValueError as ex:\n",
    "    print(ex)"
   ]
  },
  {
   "cell_type": "markdown",
   "metadata": {},
   "source": [
    "We can also use a `range` object as the population:"
   ]
  },
  {
   "cell_type": "code",
   "execution_count": 13,
   "metadata": {},
   "outputs": [
    {
     "data": {
      "text/plain": [
       "[50, 98, 54, 6, 34]"
      ]
     },
     "execution_count": 13,
     "metadata": {},
     "output_type": "execute_result"
    }
   ],
   "source": [
    "random.seed(0)\n",
    "random.sample(range(2, 100, 2), 5)"
   ]
  },
  {
   "cell_type": "markdown",
   "metadata": {},
   "source": [
    "This is a quick way to select multiple random integers from a range (remember you can generate one random int at a time within a given range:"
   ]
  },
  {
   "cell_type": "code",
   "execution_count": 14,
   "metadata": {},
   "outputs": [
    {
     "name": "stdout",
     "output_type": "stream",
     "text": [
      "50\n",
      "98\n",
      "54\n",
      "6\n",
      "34\n"
     ]
    }
   ],
   "source": [
    "random.seed(0)\n",
    "for _ in range(5):\n",
    "    print(random.randrange(2, 100, 2))"
   ]
  },
  {
   "cell_type": "markdown",
   "metadata": {},
   "source": [
    "We could even use a list comprehension:"
   ]
  },
  {
   "cell_type": "code",
   "execution_count": 15,
   "metadata": {},
   "outputs": [
    {
     "data": {
      "text/plain": [
       "[50, 98, 54, 6, 34]"
      ]
     },
     "execution_count": 15,
     "metadata": {},
     "output_type": "execute_result"
    }
   ],
   "source": [
    "random.seed(0)\n",
    "[random.randrange(2, 100, 2) for _ in range(5)]"
   ]
  },
  {
   "cell_type": "markdown",
   "metadata": {},
   "source": [
    "But the `sample` approach is actually faster, and the syntax is easier."
   ]
  },
  {
   "cell_type": "markdown",
   "metadata": {},
   "source": [
    "We can see this approximately using a rough timing mechanism:"
   ]
  },
  {
   "cell_type": "code",
   "execution_count": 16,
   "metadata": {},
   "outputs": [],
   "source": [
    "from time import perf_counter"
   ]
  },
  {
   "cell_type": "code",
   "execution_count": 17,
   "metadata": {},
   "outputs": [
    {
     "name": "stdout",
     "output_type": "stream",
     "text": [
      "0.49355484399999994\n"
     ]
    }
   ],
   "source": [
    "start = perf_counter()\n",
    "for _ in range(100):\n",
    "    # repeat test 100 times\n",
    "    sample = random.sample(range(2, 1_000_000, 2), 10_000)\n",
    "end = perf_counter()\n",
    "print(end - start)"
   ]
  },
  {
   "cell_type": "code",
   "execution_count": 18,
   "metadata": {},
   "outputs": [
    {
     "name": "stdout",
     "output_type": "stream",
     "text": [
      "0.9185610720000001\n"
     ]
    }
   ],
   "source": [
    "start = perf_counter()\n",
    "for _ in range(100):\n",
    "    sample = [random.randrange(2, 1_000_000, 2) for _ in range(10_000)]\n",
    "end = perf_counter()\n",
    "print(end - start)"
   ]
  },
  {
   "cell_type": "markdown",
   "metadata": {},
   "source": [
    "Next we have the option of choosing `k` elements from some sequence (and it must be a sequence, sets are not supported), **with** repetition."
   ]
  },
  {
   "cell_type": "markdown",
   "metadata": {},
   "source": [
    "This means that when we pick `k` elements from the sequence, the **same** element may be found more than once in the `k` choices."
   ]
  },
  {
   "cell_type": "markdown",
   "metadata": {},
   "source": [
    "This is very similar to using this to roll two dice."
   ]
  },
  {
   "cell_type": "markdown",
   "metadata": {},
   "source": [
    "Each die has numbers from `1` to `6` - and from those numbers we want to pick two elements at a time to simulate a dice roll. But just because the first die rolled a `6`, does not mean the other die cannot also roll a `6`. i.e. picking one element as the first choice does not preclude it being chosen again for the second choice."
   ]
  },
  {
   "cell_type": "code",
   "execution_count": 19,
   "metadata": {},
   "outputs": [
    {
     "name": "stdout",
     "output_type": "stream",
     "text": [
      "[3, 4]\n",
      "[6, 3]\n",
      "[4, 4]\n",
      "[2, 4]\n",
      "[4, 5]\n"
     ]
    }
   ],
   "source": [
    "s = 1, 2, 3, 4, 5, 6\n",
    "\n",
    "random.seed(11)\n",
    "for _ in range(5):\n",
    "    print(random.choices(s, k=2))"
   ]
  },
  {
   "cell_type": "markdown",
   "metadata": {},
   "source": [
    "As you can see, the third time we made our picks, the element `4` was selected twice."
   ]
  },
  {
   "cell_type": "markdown",
   "metadata": {},
   "source": [
    "The default behavior of `choices` is that at every pick to generate the `k` subset, each element has an equal probability of getting chosen (uniform distribution)."
   ]
  },
  {
   "cell_type": "markdown",
   "metadata": {},
   "source": [
    "But, we can actually change this and assign weights to each element in the sequence - the higher the number relative to another element, the higher the probability that it will be selected."
   ]
  },
  {
   "cell_type": "markdown",
   "metadata": {},
   "source": [
    "So, the default is like having a weight of `1` assigned to every element."
   ]
  },
  {
   "cell_type": "markdown",
   "metadata": {},
   "source": [
    "To assign weights we have to create another sequence, **equal in length** to the sequence we are choosing from, with the assigned weight in the correponding position."
   ]
  },
  {
   "cell_type": "markdown",
   "metadata": {},
   "source": [
    "The weights can be integers or floats."
   ]
  },
  {
   "cell_type": "markdown",
   "metadata": {},
   "source": [
    "To actually visualize the distribution based on the weights, let's bring back some of the code we used in the last coding video."
   ]
  },
  {
   "cell_type": "code",
   "execution_count": 20,
   "metadata": {},
   "outputs": [],
   "source": [
    "def chart_freq(data):\n",
    "    pad = max([len(str(el[0])) for el in data])\n",
    "    for k, v in data:\n",
    "        print(f\"{str(k).rjust(pad)}| {'*' * round(v)}\")\n",
    "        \n",
    "def freq_distribution(data):\n",
    "    freq = {}\n",
    "    for el in data:\n",
    "        freq[el] = freq.get(el, 0) + 1\n",
    "    return freq\n",
    "\n",
    "def relative_freq(freq_dist):\n",
    "    sum_freq = sum(freq_dist.values())\n",
    "    return {\n",
    "        k: v / sum_freq * 100 for k, v in freq_dist.items()\n",
    "    }"
   ]
  },
  {
   "cell_type": "markdown",
   "metadata": {},
   "source": [
    "What we want to do here is run `choices` multiple times, and then count how many times each element from the sequence was selected in all these choices."
   ]
  },
  {
   "cell_type": "markdown",
   "metadata": {},
   "source": [
    "For example, if we had these choices:\n",
    "\n",
    "```\n",
    "[1, 2, 2]\n",
    "[3, 2, 2]\n",
    "[2, 1, 2]\n",
    "```\n",
    "\n",
    "our frequency analysis should result in:\n",
    "\n",
    "```\n",
    "{\n",
    "  '1': 2,\n",
    "  '2': 6,\n",
    "  '3': 1\n",
    "}\n",
    "```"
   ]
  },
  {
   "cell_type": "markdown",
   "metadata": {},
   "source": [
    "We already have a function (`freq_distribution`) that can do this for a single list of elements:"
   ]
  },
  {
   "cell_type": "code",
   "execution_count": 21,
   "metadata": {},
   "outputs": [
    {
     "data": {
      "text/plain": [
       "{1: 3, 2: 1, 3: 2}"
      ]
     },
     "execution_count": 21,
     "metadata": {},
     "output_type": "execute_result"
    }
   ],
   "source": [
    "freq_distribution([1, 1, 1, 2, 3, 3])"
   ]
  },
  {
   "cell_type": "markdown",
   "metadata": {},
   "source": [
    "A quick and simple way to analyze something like this:\n",
    "\n",
    "```\n",
    "[1, 2, 2]\n",
    "[3, 2, 2]\n",
    "[2, 1, 2]\n",
    "```\n",
    "\n",
    "is to join all these sub-lists into a single list, and run it through the same function. (there are probably better ways to do this, but I'm not looking for a super efficient approach here, just some quick code so we can look at how the distribution changes when we modify the weights)."
   ]
  },
  {
   "cell_type": "code",
   "execution_count": 22,
   "metadata": {},
   "outputs": [],
   "source": [
    "def freq_distribution_matrix(data):\n",
    "    # data is a sequence of sequences that we'll join up and then analyze\n",
    "    linearized = [el for row in data for el in row]\n",
    "    return freq_distribution(linearized)"
   ]
  },
  {
   "cell_type": "code",
   "execution_count": 23,
   "metadata": {},
   "outputs": [
    {
     "name": "stdout",
     "output_type": "stream",
     "text": [
      "[['i', 'h', 'e', 'c', 'f'], ['e', 'h', 'd', 'e', 'f'], ['j', 'f', 'c', 'h', 'g']]\n"
     ]
    }
   ],
   "source": [
    "random.seed(0)\n",
    "population = tuple('abcdefghij')\n",
    "data = [random.choices(population, k=5) for _ in range(3)]\n",
    "print(data)    "
   ]
  },
  {
   "cell_type": "code",
   "execution_count": 24,
   "metadata": {},
   "outputs": [
    {
     "data": {
      "text/plain": [
       "{'i': 1, 'h': 3, 'e': 3, 'c': 2, 'f': 3, 'd': 1, 'j': 1, 'g': 1}"
      ]
     },
     "execution_count": 24,
     "metadata": {},
     "output_type": "execute_result"
    }
   ],
   "source": [
    "freq_distribution_matrix(data)"
   ]
  },
  {
   "cell_type": "markdown",
   "metadata": {},
   "source": [
    "Let's create a function that will perform all the steps, from generating the data to producing the chart:"
   ]
  },
  {
   "cell_type": "code",
   "execution_count": 25,
   "metadata": {},
   "outputs": [],
   "source": [
    "def analyze_choices(base_data, num_choices, choice_size, weights=None):\n",
    "    data = [\n",
    "        random.choices(base_data, k=choice_size, weights=weights) \n",
    "        for _ in range(num_choices)\n",
    "    ]\n",
    "    \n",
    "    freq = freq_distribution_matrix(data)\n",
    "    rel = relative_freq(freq)\n",
    "    \n",
    "    # let's sort the data\n",
    "    sorted_items = sorted(rel.items(), key=lambda x: x[0])\n",
    "    chart_freq(sorted_items)"
   ]
  },
  {
   "cell_type": "code",
   "execution_count": 26,
   "metadata": {},
   "outputs": [
    {
     "name": "stdout",
     "output_type": "stream",
     "text": [
      "a| **********\n",
      "b| **********\n",
      "c| **********\n",
      "d| **********\n",
      "e| **********\n",
      "f| **********\n",
      "g| **********\n",
      "h| **********\n",
      "i| **********\n",
      "j| **********\n"
     ]
    }
   ],
   "source": [
    "base_data = tuple('abcdefghij')\n",
    "\n",
    "random.seed(0)\n",
    "analyze_choices(base_data, 10_000, 5)"
   ]
  },
  {
   "cell_type": "markdown",
   "metadata": {},
   "source": [
    "Looks pretty uniform."
   ]
  },
  {
   "cell_type": "markdown",
   "metadata": {},
   "source": [
    "Now let's assign some weights - let's make all the weights `1`, but setting the weights for `a` (index 0) to 2, `b` (index `1`) set to 3, and for `j` (last element), set to 4."
   ]
  },
  {
   "cell_type": "code",
   "execution_count": 27,
   "metadata": {},
   "outputs": [],
   "source": [
    "weights = [1] * 10\n",
    "weights[0] = 2\n",
    "weights[1] = 3\n",
    "weights[-1] = 4"
   ]
  },
  {
   "cell_type": "code",
   "execution_count": 28,
   "metadata": {},
   "outputs": [
    {
     "data": {
      "text/plain": [
       "[2, 3, 1, 1, 1, 1, 1, 1, 1, 4]"
      ]
     },
     "execution_count": 28,
     "metadata": {},
     "output_type": "execute_result"
    }
   ],
   "source": [
    "weights"
   ]
  },
  {
   "cell_type": "code",
   "execution_count": 29,
   "metadata": {},
   "outputs": [
    {
     "name": "stdout",
     "output_type": "stream",
     "text": [
      "a| *************\n",
      "b| *******************\n",
      "c| ******\n",
      "d| ******\n",
      "e| ******\n",
      "f| ******\n",
      "g| ******\n",
      "h| ******\n",
      "i| ******\n",
      "j| *************************\n"
     ]
    }
   ],
   "source": [
    "random.seed(0)\n",
    "analyze_choices(base_data, 10_000, 5, weights)"
   ]
  },
  {
   "cell_type": "markdown",
   "metadata": {},
   "source": [
    "As you can see, our frequency distribution matches the weights we assigned to each element."
   ]
  },
  {
   "cell_type": "markdown",
   "metadata": {},
   "source": [
    "Sampling can be quite useful when you are dealing with a huge dataset, but want to perform some quick calculations based on a smaller random sample (or like estimating the population mean with a sample mean).\n",
    "\n",
    "We'll come back to sampling later in this course."
   ]
  }
 ],
 "metadata": {
  "kernelspec": {
   "display_name": "Python 3",
   "language": "python",
   "name": "python3"
  },
  "language_info": {
   "codemirror_mode": {
    "name": "ipython",
    "version": 3
   },
   "file_extension": ".py",
   "mimetype": "text/x-python",
   "name": "python",
   "nbconvert_exporter": "python",
   "pygments_lexer": "ipython3",
   "version": "3.9.1"
  }
 },
 "nbformat": 4,
 "nbformat_minor": 4
}
