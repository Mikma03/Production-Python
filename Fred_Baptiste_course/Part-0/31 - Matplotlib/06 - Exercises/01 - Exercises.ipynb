{
 "cells": [
  {
   "cell_type": "markdown",
   "id": "mobile-spirit",
   "metadata": {},
   "source": [
    "### Exercises"
   ]
  },
  {
   "cell_type": "markdown",
   "id": "historic-tennessee",
   "metadata": {},
   "source": [
    "#### Question 1"
   ]
  },
  {
   "cell_type": "markdown",
   "id": "political-healing",
   "metadata": {},
   "source": [
    "Alongside this notebook is a file `daily_quotes.csv` (the same one that we used for the Pandas exercises)."
   ]
  },
  {
   "cell_type": "markdown",
   "id": "chinese-dance",
   "metadata": {},
   "source": [
    "Using this data write a function that generates a composite of line charts (2 columns wide), that charts the closing price for each symbol in the data."
   ]
  },
  {
   "cell_type": "markdown",
   "id": "alternate-culture",
   "metadata": {},
   "source": [
    "### Question 2"
   ]
  },
  {
   "cell_type": "markdown",
   "id": "trained-inspiration",
   "metadata": {},
   "source": [
    "Expand on your previous function to include an `n`-day moving average on each chart. (When you calculate the moving average, be careful with the order of the data in each subset of data)."
   ]
  },
  {
   "cell_type": "markdown",
   "id": "regulation-thomas",
   "metadata": {},
   "source": [
    "#### Question 3"
   ]
  },
  {
   "cell_type": "markdown",
   "id": "superb-landing",
   "metadata": {},
   "source": [
    "Using the previous charts, add horizontal lines for the 25th, 50th and 75th percentiles of the close price (calculated over the entire time period)."
   ]
  }
 ],
 "metadata": {
  "kernelspec": {
   "display_name": "Python 3",
   "language": "python",
   "name": "python3"
  },
  "language_info": {
   "codemirror_mode": {
    "name": "ipython",
    "version": 3
   },
   "file_extension": ".py",
   "mimetype": "text/x-python",
   "name": "python",
   "nbconvert_exporter": "python",
   "pygments_lexer": "ipython3",
   "version": "3.9.1"
  }
 },
 "nbformat": 4,
 "nbformat_minor": 5
}
