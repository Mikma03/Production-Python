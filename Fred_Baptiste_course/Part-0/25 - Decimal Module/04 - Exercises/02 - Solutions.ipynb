{
 "cells": [
  {
   "cell_type": "markdown",
   "id": "copyrighted-bride",
   "metadata": {},
   "source": [
    "### Solutions"
   ]
  },
  {
   "cell_type": "markdown",
   "id": "helpful-lodging",
   "metadata": {},
   "source": [
    "### Question 1"
   ]
  },
  {
   "cell_type": "markdown",
   "id": "smart-bunny",
   "metadata": {},
   "source": [
    "There is a file named `transactions.csv` which is a list of purchases and sales."
   ]
  },
  {
   "cell_type": "markdown",
   "id": "endless-continuity",
   "metadata": {},
   "source": [
    "Write code that loads this data and calculates the total of these purchases and sales."
   ]
  },
  {
   "cell_type": "markdown",
   "id": "classical-edwards",
   "metadata": {},
   "source": [
    "Take two approaches - one using floats, and one using Decimal objects. Calculate the difference between the two results."
   ]
  },
  {
   "cell_type": "markdown",
   "id": "coupled-microwave",
   "metadata": {},
   "source": [
    "Also, time how long it takes to run your code using floats and using Decimals."
   ]
  },
  {
   "cell_type": "markdown",
   "id": "nervous-swift",
   "metadata": {},
   "source": [
    "##### Solution"
   ]
  },
  {
   "cell_type": "markdown",
   "id": "scheduled-karen",
   "metadata": {},
   "source": [
    "Let's inspect the file first before we load it:"
   ]
  },
  {
   "cell_type": "code",
   "execution_count": 1,
   "id": "finished-master",
   "metadata": {},
   "outputs": [
    {
     "name": "stdout",
     "output_type": "stream",
     "text": [
      "timestamp,account,amount\n",
      "2020-11-03T02:01:50,6136306,-11.022038\n",
      "2020-06-19T07:32:00,3369009,-56.825416\n",
      "2021-01-29T13:29:17,4366765,-87.430871\n",
      "2020-03-31T09:27:11,3298760,16.161836\n",
      "2021-01-01T16:05:22,6136306,38.132664\n",
      "2020-04-06T02:08:50,3369009,-50.402044\n",
      "2020-01-24T09:28:10,2315918,-29.852735\n"
     ]
    }
   ],
   "source": [
    "with open('transactions.csv') as f:\n",
    "    for _ in range(8):\n",
    "        print(next(f).strip())"
   ]
  },
  {
   "cell_type": "markdown",
   "id": "aggregate-difference",
   "metadata": {},
   "source": [
    "We can see the CSV format is the standard one, and we have three columns with the headers in the first row."
   ]
  },
  {
   "cell_type": "markdown",
   "id": "offensive-farming",
   "metadata": {},
   "source": [
    "We could write a function that loads the entire data set into memory and then processes it (adding the `amount`), but that's inefficient - we could just read the file row by row and keep a cumulative sum of the `amount` field."
   ]
  },
  {
   "cell_type": "markdown",
   "id": "spread-press",
   "metadata": {},
   "source": [
    "Also, instead of writing two separate functions, one to cast the `amount` value to a `float` andthe other to cast it to a `Decimal`, we'll implement it as a single function and pass to the function an argument indicating whether we want to work with floats, or with Decimals."
   ]
  },
  {
   "cell_type": "code",
   "execution_count": 2,
   "id": "silent-request",
   "metadata": {},
   "outputs": [],
   "source": [
    "import csv\n",
    "from decimal import Decimal\n",
    "\n",
    "def sum_amount(f_name, *, as_decimal=False):\n",
    "    total = 0\n",
    "    \n",
    "    with open(f_name) as f:\n",
    "        reader = csv.reader(f)\n",
    "        next(f)  # skip header row\n",
    "        for row in reader:\n",
    "            amount_str = row[-1]\n",
    "            if as_decimal:\n",
    "                total += Decimal(amount_str)\n",
    "            else:\n",
    "                total += float(amount_str)\n",
    "    return total"
   ]
  },
  {
   "cell_type": "markdown",
   "id": "excessive-quebec",
   "metadata": {},
   "source": [
    "Let's run our code for both `float` and `Decimal`:"
   ]
  },
  {
   "cell_type": "code",
   "execution_count": 3,
   "id": "armed-request",
   "metadata": {},
   "outputs": [
    {
     "name": "stdout",
     "output_type": "stream",
     "text": [
      "<class 'float'> 116387.51306500046\n"
     ]
    }
   ],
   "source": [
    "f_name = 'transactions.csv'\n",
    "\n",
    "total_float = sum_amount(f_name)\n",
    "print(type(total_float), total_float)"
   ]
  },
  {
   "cell_type": "code",
   "execution_count": 4,
   "id": "abandoned-index",
   "metadata": {},
   "outputs": [
    {
     "name": "stdout",
     "output_type": "stream",
     "text": [
      "<class 'decimal.Decimal'> 116387.513065\n"
     ]
    }
   ],
   "source": [
    "total_decimal = sum_amount(f_name, as_decimal=True)\n",
    "print(type(total_decimal), total_decimal)"
   ]
  },
  {
   "cell_type": "markdown",
   "id": "digital-literature",
   "metadata": {},
   "source": [
    "As you can see, cumulative representation errors, even with two million transactions, is quite close to the exact value we obtained using `Decimal` objects."
   ]
  },
  {
   "cell_type": "markdown",
   "id": "hidden-carolina",
   "metadata": {},
   "source": [
    "Let's see how timing is impacted by using one versus the other:"
   ]
  },
  {
   "cell_type": "code",
   "execution_count": 5,
   "id": "secret-delicious",
   "metadata": {},
   "outputs": [],
   "source": [
    "from timeit import timeit"
   ]
  },
  {
   "cell_type": "code",
   "execution_count": 6,
   "id": "advance-alexander",
   "metadata": {},
   "outputs": [
    {
     "data": {
      "text/plain": [
       "8.843322478"
      ]
     },
     "execution_count": 6,
     "metadata": {},
     "output_type": "execute_result"
    }
   ],
   "source": [
    "time_float = timeit('sum_amount(f_name)', globals=globals(), number=5)\n",
    "time_float"
   ]
  },
  {
   "cell_type": "code",
   "execution_count": 7,
   "id": "floating-curtis",
   "metadata": {},
   "outputs": [
    {
     "data": {
      "text/plain": [
       "10.276017692"
      ]
     },
     "execution_count": 7,
     "metadata": {},
     "output_type": "execute_result"
    }
   ],
   "source": [
    "time_decimal = timeit('sum_amount(f_name, as_decimal=True)', globals=globals(), number=5)\n",
    "time_decimal"
   ]
  },
  {
   "cell_type": "markdown",
   "id": "solid-snake",
   "metadata": {},
   "source": [
    "As a percentage:"
   ]
  },
  {
   "cell_type": "code",
   "execution_count": 8,
   "id": "numeric-harvard",
   "metadata": {},
   "outputs": [
    {
     "data": {
      "text/plain": [
       "16.2"
      ]
     },
     "execution_count": 8,
     "metadata": {},
     "output_type": "execute_result"
    }
   ],
   "source": [
    "round((time_decimal - time_float) / time_float * 100, 1)"
   ]
  },
  {
   "cell_type": "markdown",
   "id": "pursuant-being",
   "metadata": {},
   "source": [
    "So using `Decimal` was slower than using floats (and of course as the number of transactions increase we can expect this value to grow larger), and the loss of precision was likely acceptable in this particular scenario."
   ]
  },
  {
   "cell_type": "markdown",
   "id": "neither-candidate",
   "metadata": {},
   "source": [
    "#### Question 2"
   ]
  },
  {
   "cell_type": "markdown",
   "id": "durable-ecology",
   "metadata": {},
   "source": [
    "Using the same file (`transactions.csv`), we now want to calculate a fee on each transaction."
   ]
  },
  {
   "cell_type": "markdown",
   "id": "compact-radar",
   "metadata": {},
   "source": [
    "Irrespective of whether the transaction was a credit or a debit, we will calculate a `0.123%` transaction fee for the (absolute) values of each transaction."
   ]
  },
  {
   "cell_type": "markdown",
   "id": "uniform-guest",
   "metadata": {},
   "source": [
    "**Each** fee calculation precision should be limited to `8` digits after the decimal point (so use `round(val, 8)`)"
   ]
  },
  {
   "cell_type": "markdown",
   "id": "aerial-development",
   "metadata": {},
   "source": [
    "In addition, any rounding should always round ties away from `0` (`ROUND_HALF_UP`) - and not use Banker's rounding (`ROUND_HALF_EVEN`)."
   ]
  },
  {
   "cell_type": "markdown",
   "id": "resident-child",
   "metadata": {},
   "source": [
    "Only implement this solution using `Decimal` objects, as floats do not offer a rounding algorithm choice, and writing our own rounding algorithm can be overly complicated."
   ]
  },
  {
   "cell_type": "markdown",
   "id": "massive-dress",
   "metadata": {},
   "source": [
    "Also calculate the different in the fee totals when using `ROUND_HALF_UP` vs `ROUND_HALF_EVEN`"
   ]
  },
  {
   "cell_type": "markdown",
   "id": "vital-attack",
   "metadata": {},
   "source": [
    "##### Solution"
   ]
  },
  {
   "cell_type": "markdown",
   "id": "valid-specialist",
   "metadata": {},
   "source": [
    "Here we'll take the same approach as before - we'll load the file and process rows one by one, keeping a running total of the commissions."
   ]
  },
  {
   "cell_type": "markdown",
   "id": "assured-country",
   "metadata": {},
   "source": [
    "Let's write the basic code first, and we'll worry about rounding later."
   ]
  },
  {
   "cell_type": "code",
   "execution_count": 9,
   "id": "unknown-bacteria",
   "metadata": {},
   "outputs": [],
   "source": [
    "def sum_fees(f_name, fee_perc='0.00123'):\n",
    "    fee_perc = Decimal(fee_perc)\n",
    "    total = 0\n",
    "    \n",
    "    with open(f_name) as f:\n",
    "        reader = csv.reader(f)\n",
    "        next(f)  # skip header row\n",
    "        for row in reader:\n",
    "            amount_str = row[-1]\n",
    "            amount = Decimal(amount_str)\n",
    "            fee = abs(fee_perc * amount)\n",
    "            total += fee\n",
    "            \n",
    "    return total"
   ]
  },
  {
   "cell_type": "markdown",
   "id": "bound-earthquake",
   "metadata": {},
   "source": [
    "Now, we still have to restrict our fee calculation to 8 digits after the decimal point, and we do not want to use Banker's rounding - instead we need to round ties away from zero always.\n",
    "\n",
    "Note: we have to round **after** we calculate the absolute value, otherwise we'll round in the wrong direction for fees on negative amounts."
   ]
  },
  {
   "cell_type": "markdown",
   "id": "pleasant-tattoo",
   "metadata": {},
   "source": [
    "For `Decimal` objects changing the rounding is easy, we can use a context to set the rounding mechanism - in this case we'll want to use `ROUND_HALF_UP`.\n",
    "\n",
    "Since we want to compare the two rounding methods, we'll pass that in as an argument as well."
   ]
  },
  {
   "cell_type": "code",
   "execution_count": 10,
   "id": "becoming-anderson",
   "metadata": {},
   "outputs": [],
   "source": [
    "import decimal\n",
    "\n",
    "def sum_fees(f_name, fee_perc='0.00123', *, round_method=decimal.ROUND_HALF_UP, ndigits=8):\n",
    "    with decimal.localcontext() as ctx:\n",
    "        ctx.rounding = round_method\n",
    "        \n",
    "        fee_perc = Decimal(fee_perc)\n",
    "        total = 0\n",
    "\n",
    "        with open(f_name) as f:\n",
    "            reader = csv.reader(f)\n",
    "            next(f)  # skip header row\n",
    "            for row in reader:\n",
    "                amount_str = row[-1]\n",
    "                amount = Decimal(amount_str)\n",
    "                fee = round(abs(fee_perc * amount), ndigits)\n",
    "                total += fee\n",
    "\n",
    "        return total"
   ]
  },
  {
   "cell_type": "code",
   "execution_count": 11,
   "id": "described-signal",
   "metadata": {},
   "outputs": [
    {
     "data": {
      "text/plain": [
       "Decimal('125501.66978197')"
      ]
     },
     "execution_count": 11,
     "metadata": {},
     "output_type": "execute_result"
    }
   ],
   "source": [
    "fees_round_half_up = sum_fees('transactions.csv')\n",
    "fees_round_half_up"
   ]
  },
  {
   "cell_type": "markdown",
   "id": "characteristic-calibration",
   "metadata": {},
   "source": [
    "And now let's specify `ROUND_HALF_EVEN` for rounding mechanism:"
   ]
  },
  {
   "cell_type": "code",
   "execution_count": 12,
   "id": "headed-intermediate",
   "metadata": {},
   "outputs": [
    {
     "data": {
      "text/plain": [
       "Decimal('125501.66977180')"
      ]
     },
     "execution_count": 12,
     "metadata": {},
     "output_type": "execute_result"
    }
   ],
   "source": [
    "fees_round_half_even = sum_fees('transactions.csv', round_method=decimal.ROUND_HALF_EVEN)\n",
    "fees_round_half_even"
   ]
  },
  {
   "cell_type": "markdown",
   "id": "technical-paradise",
   "metadata": {},
   "source": [
    "And the difference between the two results is:"
   ]
  },
  {
   "cell_type": "code",
   "execution_count": 13,
   "id": "parental-stewart",
   "metadata": {},
   "outputs": [
    {
     "data": {
      "text/plain": [
       "Decimal('0.00001017')"
      ]
     },
     "execution_count": 13,
     "metadata": {},
     "output_type": "execute_result"
    }
   ],
   "source": [
    "fees_round_half_up - fees_round_half_even"
   ]
  }
 ],
 "metadata": {
  "kernelspec": {
   "display_name": "Python 3",
   "language": "python",
   "name": "python3"
  },
  "language_info": {
   "codemirror_mode": {
    "name": "ipython",
    "version": 3
   },
   "file_extension": ".py",
   "mimetype": "text/x-python",
   "name": "python",
   "nbconvert_exporter": "python",
   "pygments_lexer": "ipython3",
   "version": "3.9.1"
  }
 },
 "nbformat": 4,
 "nbformat_minor": 5
}
