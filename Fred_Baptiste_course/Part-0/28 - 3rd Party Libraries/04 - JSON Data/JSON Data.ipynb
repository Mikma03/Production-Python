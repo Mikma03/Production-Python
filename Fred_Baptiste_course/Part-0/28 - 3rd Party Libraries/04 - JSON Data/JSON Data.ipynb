{
 "cells": [
  {
   "cell_type": "markdown",
   "metadata": {},
   "source": [
    "### JSON Data"
   ]
  },
  {
   "cell_type": "markdown",
   "metadata": {},
   "source": [
    "Let's start with a simple JSON object - note that it is just a string!"
   ]
  },
  {
   "cell_type": "code",
   "execution_count": 1,
   "metadata": {},
   "outputs": [],
   "source": [
    "json_str = '''\n",
    "{\n",
    "    \"name\": \"Eric Smith\",\n",
    "    \"age\": 32,\n",
    "    \"phoneNumbers\": [\n",
    "        {\n",
    "            \"type\": \"home\",\n",
    "            \"number\": \"(212) 555-3276\"\n",
    "        },\n",
    "        {\n",
    "            \"type\": \"work\",\n",
    "            \"number\": \"(332) 555-1234\"\n",
    "        }\n",
    "    ],\n",
    "    \"spouse\": null,\n",
    "    \"children\": [],\n",
    "    \"employed\": true\n",
    "}\n",
    "'''"
   ]
  },
  {
   "cell_type": "markdown",
   "metadata": {},
   "source": [
    "Apart from a few details (such as `true`, `null`), this really just looks like a Python dictionary."
   ]
  },
  {
   "cell_type": "markdown",
   "metadata": {},
   "source": [
    "We can in fact **decode** (**deserialize**) this string (this JSON object) into a Python dictionary using the `loads` function in the `json` module:"
   ]
  },
  {
   "cell_type": "code",
   "execution_count": 2,
   "metadata": {},
   "outputs": [],
   "source": [
    "import json"
   ]
  },
  {
   "cell_type": "code",
   "execution_count": 3,
   "metadata": {},
   "outputs": [],
   "source": [
    "eric = json.loads(json_str)"
   ]
  },
  {
   "cell_type": "code",
   "execution_count": 4,
   "metadata": {},
   "outputs": [
    {
     "data": {
      "text/plain": [
       "{'name': 'Eric Smith',\n",
       " 'age': 32,\n",
       " 'phoneNumbers': [{'type': 'home', 'number': '(212) 555-3276'},\n",
       "  {'type': 'work', 'number': '(332) 555-1234'}],\n",
       " 'spouse': None,\n",
       " 'children': [],\n",
       " 'employed': True}"
      ]
     },
     "execution_count": 4,
     "metadata": {},
     "output_type": "execute_result"
    }
   ],
   "source": [
    "eric"
   ]
  },
  {
   "cell_type": "markdown",
   "metadata": {},
   "source": [
    "This operation is in fact reversable, and we can also **serialize** (**encode**) this Python dictionary into a JSON object using the `dumps` function:"
   ]
  },
  {
   "cell_type": "code",
   "execution_count": 5,
   "metadata": {},
   "outputs": [],
   "source": [
    "json_str_2 = json.dumps(eric)"
   ]
  },
  {
   "cell_type": "code",
   "execution_count": 6,
   "metadata": {},
   "outputs": [
    {
     "data": {
      "text/plain": [
       "'{\"name\": \"Eric Smith\", \"age\": 32, \"phoneNumbers\": [{\"type\": \"home\", \"number\": \"(212) 555-3276\"}, {\"type\": \"work\", \"number\": \"(332) 555-1234\"}], \"spouse\": null, \"children\": [], \"employed\": true}'"
      ]
     },
     "execution_count": 6,
     "metadata": {},
     "output_type": "execute_result"
    }
   ],
   "source": [
    "json_str_2"
   ]
  },
  {
   "cell_type": "markdown",
   "metadata": {},
   "source": [
    "You'll notice that the white space here is very different from what we started with - to JSON whitespace is irrelevant, and in fact, the less whitespace you have in the JSON object the less characters it needs to transmit - but for human reading it can be tough."
   ]
  },
  {
   "cell_type": "markdown",
   "metadata": {},
   "source": [
    "We can tell the `dumps` function to use some whitespace to make our (human) life easier:"
   ]
  },
  {
   "cell_type": "code",
   "execution_count": 7,
   "metadata": {},
   "outputs": [
    {
     "name": "stdout",
     "output_type": "stream",
     "text": [
      "{\n",
      "  \"name\": \"Eric Smith\",\n",
      "  \"age\": 32,\n",
      "  \"phoneNumbers\": [\n",
      "    {\n",
      "      \"type\": \"home\",\n",
      "      \"number\": \"(212) 555-3276\"\n",
      "    },\n",
      "    {\n",
      "      \"type\": \"work\",\n",
      "      \"number\": \"(332) 555-1234\"\n",
      "    }\n",
      "  ],\n",
      "  \"spouse\": null,\n",
      "  \"children\": [],\n",
      "  \"employed\": true\n",
      "}\n"
     ]
    }
   ],
   "source": [
    "print(json.dumps(eric, indent=2))"
   ]
  },
  {
   "cell_type": "markdown",
   "metadata": {},
   "source": [
    "The JSON basic value types are very limited: numbers, strings, booleans and null (as well as objects and lists), so many data types in Python cannot just be serialized:"
   ]
  },
  {
   "cell_type": "code",
   "execution_count": 8,
   "metadata": {},
   "outputs": [],
   "source": [
    "from datetime import datetime\n",
    "\n",
    "d = {\n",
    "    \"name\": \"Isaac Newton\",\n",
    "    \"dob\": datetime(1643, 1, 4)\n",
    "}"
   ]
  },
  {
   "cell_type": "code",
   "execution_count": 9,
   "metadata": {},
   "outputs": [
    {
     "data": {
      "text/plain": [
       "{'name': 'Isaac Newton', 'dob': datetime.datetime(1643, 1, 4, 0, 0)}"
      ]
     },
     "execution_count": 9,
     "metadata": {},
     "output_type": "execute_result"
    }
   ],
   "source": [
    "d"
   ]
  },
  {
   "cell_type": "code",
   "execution_count": 10,
   "metadata": {},
   "outputs": [
    {
     "name": "stdout",
     "output_type": "stream",
     "text": [
      "TypeError: Object of type datetime is not JSON serializable\n"
     ]
    }
   ],
   "source": [
    "try:\n",
    "    json.dumps(d)\n",
    "except TypeError as ex:\n",
    "    print('TypeError:', ex)"
   ]
  },
  {
   "cell_type": "markdown",
   "metadata": {},
   "source": [
    "As you can see, Python was unable to serialize that datetime object."
   ]
  },
  {
   "cell_type": "markdown",
   "metadata": {},
   "source": [
    "There are different ways we can specify custom encoders, but these are mostly beyond the scope of this course (they rely on something called inheritance)."
   ]
  },
  {
   "cell_type": "markdown",
   "metadata": {},
   "source": [
    "However, there is a way to specify a simple custom encoder, using the named argument `default` in the `dumps` function."
   ]
  },
  {
   "cell_type": "markdown",
   "metadata": {},
   "source": [
    "This argument can be used to specify a function that will get called when the default encoder cannot serialize the object. That function should either return the encoded value, or raise a TypeError..."
   ]
  },
  {
   "cell_type": "code",
   "execution_count": 11,
   "metadata": {},
   "outputs": [],
   "source": [
    "def my_encoder(obj):\n",
    "    print(f'my_encoder({obj}) called...')\n",
    "    if isinstance(obj, datetime):\n",
    "        return obj.isoformat()\n",
    "    raise TypeError  # only handles datetimes"
   ]
  },
  {
   "cell_type": "code",
   "execution_count": 12,
   "metadata": {},
   "outputs": [
    {
     "name": "stdout",
     "output_type": "stream",
     "text": [
      "my_encoder(1643-01-04 00:00:00) called...\n"
     ]
    },
    {
     "data": {
      "text/plain": [
       "'{\"name\": \"Isaac Newton\", \"dob\": \"1643-01-04T00:00:00\"}'"
      ]
     },
     "execution_count": 12,
     "metadata": {},
     "output_type": "execute_result"
    }
   ],
   "source": [
    "json.dumps(d, default=my_encoder)"
   ]
  },
  {
   "cell_type": "markdown",
   "metadata": {},
   "source": [
    "So `default` is a simple way for you to specify a custom encoder."
   ]
  },
  {
   "cell_type": "markdown",
   "metadata": {},
   "source": [
    "It could be used to encode more than just one data type:"
   ]
  },
  {
   "cell_type": "code",
   "execution_count": 13,
   "metadata": {},
   "outputs": [],
   "source": [
    "from decimal import Decimal\n",
    "from datetime import date"
   ]
  },
  {
   "cell_type": "code",
   "execution_count": 14,
   "metadata": {},
   "outputs": [],
   "source": [
    "d = {\n",
    "    \"symbol\": \"IBM\",\n",
    "    \"date\": date(2020, 9, 21),\n",
    "    \"day\": {\n",
    "        \"open\": Decimal('120.48'),\n",
    "        \"high\": Decimal('120.70'),\n",
    "        \"low\": Decimal('118.58'),\n",
    "        \"close\": Decimal('120.25'),\n",
    "        \"volume\": 5_205_413\n",
    "    }\n",
    "}"
   ]
  },
  {
   "cell_type": "markdown",
   "metadata": {},
   "source": [
    "Here we'll have to handle `date` and `Decimal` types ourselves:"
   ]
  },
  {
   "cell_type": "code",
   "execution_count": 15,
   "metadata": {},
   "outputs": [],
   "source": [
    "def stock_encoder(obj):\n",
    "    if isinstance(obj, date):\n",
    "        return obj.isoformat()\n",
    "    if isinstance(obj, Decimal):\n",
    "        return str(obj)\n",
    "    raise TypeError"
   ]
  },
  {
   "cell_type": "code",
   "execution_count": 16,
   "metadata": {},
   "outputs": [
    {
     "name": "stdout",
     "output_type": "stream",
     "text": [
      "{\n",
      "  \"symbol\": \"IBM\",\n",
      "  \"date\": \"2020-09-21\",\n",
      "  \"day\": {\n",
      "    \"open\": \"120.48\",\n",
      "    \"high\": \"120.70\",\n",
      "    \"low\": \"118.58\",\n",
      "    \"close\": \"120.25\",\n",
      "    \"volume\": 5205413\n",
      "  }\n",
      "}\n"
     ]
    }
   ],
   "source": [
    "print(json.dumps(d, default=stock_encoder, indent=2))"
   ]
  },
  {
   "cell_type": "markdown",
   "metadata": {},
   "source": [
    "I chose to encode `Decimal` objects as strings, but we could also use floats, rounded to 2 digits after the decimal point:"
   ]
  },
  {
   "cell_type": "code",
   "execution_count": 17,
   "metadata": {},
   "outputs": [],
   "source": [
    "def stock_encoder(obj):\n",
    "    if isinstance(obj, date):\n",
    "        return obj.isoformat()\n",
    "    if isinstance(obj, Decimal):\n",
    "        return round(float(obj), 2)\n",
    "    raise TypeError"
   ]
  },
  {
   "cell_type": "code",
   "execution_count": 18,
   "metadata": {},
   "outputs": [
    {
     "name": "stdout",
     "output_type": "stream",
     "text": [
      "{\n",
      "  \"symbol\": \"IBM\",\n",
      "  \"date\": \"2020-09-21\",\n",
      "  \"day\": {\n",
      "    \"open\": 120.48,\n",
      "    \"high\": 120.7,\n",
      "    \"low\": 118.58,\n",
      "    \"close\": 120.25,\n",
      "    \"volume\": 5205413\n",
      "  }\n",
      "}\n"
     ]
    }
   ],
   "source": [
    "print(json.dumps(d, default=stock_encoder, indent=2))"
   ]
  }
 ],
 "metadata": {
  "kernelspec": {
   "display_name": "Python 3",
   "language": "python",
   "name": "python3"
  },
  "language_info": {
   "codemirror_mode": {
    "name": "ipython",
    "version": 3
   },
   "file_extension": ".py",
   "mimetype": "text/x-python",
   "name": "python",
   "nbconvert_exporter": "python",
   "pygments_lexer": "ipython3",
   "version": "3.9.1"
  }
 },
 "nbformat": 4,
 "nbformat_minor": 4
}
