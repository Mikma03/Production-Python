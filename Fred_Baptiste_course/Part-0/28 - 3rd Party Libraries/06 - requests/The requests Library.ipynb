{
 "cells": [
  {
   "cell_type": "markdown",
   "metadata": {},
   "source": [
    "### The `requests` Library"
   ]
  },
  {
   "cell_type": "markdown",
   "metadata": {},
   "source": [
    "https://requests.readthedocs.io/en/master/"
   ]
  },
  {
   "cell_type": "code",
   "execution_count": 1,
   "metadata": {},
   "outputs": [],
   "source": [
    "import requests"
   ]
  },
  {
   "cell_type": "markdown",
   "metadata": {},
   "source": [
    "Let's first look at how we can emulate the `GET` requests that browsers make when we request pages from web sites."
   ]
  },
  {
   "cell_type": "markdown",
   "metadata": {},
   "source": [
    "Here we're going to pull the home page of the site `https://www.stackoverflow.com` - since we don't specify anything in the URL beyond just the domain, we'll get whatever \"default\" page is defined by that site:"
   ]
  },
  {
   "cell_type": "code",
   "execution_count": 2,
   "metadata": {},
   "outputs": [],
   "source": [
    "response = requests.get(\"https://www.stackoverflow.com\")"
   ]
  },
  {
   "cell_type": "markdown",
   "metadata": {},
   "source": [
    "Now we can look at the status code/message returned in the `response` object:"
   ]
  },
  {
   "cell_type": "code",
   "execution_count": 3,
   "metadata": {},
   "outputs": [
    {
     "data": {
      "text/plain": [
       "(200, 'OK')"
      ]
     },
     "execution_count": 3,
     "metadata": {},
     "output_type": "execute_result"
    }
   ],
   "source": [
    "response.status_code, response.reason"
   ]
  },
  {
   "cell_type": "markdown",
   "metadata": {},
   "source": [
    "As you can see, the status was `200/OK` - which means our request was successful."
   ]
  },
  {
   "cell_type": "markdown",
   "metadata": {},
   "source": [
    "The response is going to be HTML, not JSON, so we can recover it using the `text` property:"
   ]
  },
  {
   "cell_type": "code",
   "execution_count": 4,
   "metadata": {},
   "outputs": [
    {
     "data": {
      "text/plain": [
       "'<!DOCTYPE html>\\r\\n\\r\\n\\r\\n    <html class=\"html__responsive html__unpinned-leftnav\">\\r\\n\\r\\n    <head>\\r\\n\\r\\n        <title>Stack Overflow - Where Developers Learn, Share, &amp; Build Careers</title>\\r\\n        <link rel=\"shortcut icon\" href=\"https://cdn.sstatic.net/Sites/stackoverflow/Img/favicon.ico?v=ec617d715196\">\\r\\n        <link rel=\"apple-touch-icon\" href=\"https://cdn.sstatic.net/Sites/stackoverflow/Img/apple-touch-icon.png?v=c78bd457575a\">\\r\\n        <link rel=\"image_src\" href=\"https://cdn.sstatic.net/Sites/stackoverflow/Img/apple-touch-icon.png?v=c78bd457575a\"> \\r\\n        <link rel=\"search\" type=\"application/opensearchdescription+xml\" title=\"Stack Overflow\" href=\"/opensearch.xml\">\\r\\n        <meta name=\"description\" content=\"Stack Overflow is the largest, most trusted online community for developers to learn, share&#x200B; &#x200B;their programming &#x200B;knowledge, and build their careers.\"/>\\r\\n        <meta name=\"viewport\" content=\"width=device-width, height=device-height, initial-scale=1.0, minimum-scale=1.0\">\\r\\n        <meta property=\"og:type\" content= \"website\" />\\r\\n        <meta property=\"og:url\" content=\"https://stackoverflow.com/\"/>\\r\\n        <meta property=\"og:site_name\" content=\"Stack Overflow\" />\\r\\n        <meta property=\"og:image\" itemprop=\"image primaryImageOfPage\" content=\"https://cdn.sstatic.net/Sites/stackoverflow/Img/apple-touch-icon@2.png?v=73d79a89bded\" />\\r\\n        <meta name=\"twitter:card\" content=\"summary\"/>\\r\\n        <meta name=\"twitter:domain\" content=\"stackoverflow.com\"/>\\r\\n        <meta name=\"twitter:title\" property=\"og:title\" itemprop=\"name\" content=\"Stack Overflow - Where Developers Learn, Share, &amp; Build Careers\" />\\r\\n        <meta name=\"twitter:description\" property=\"og:description\" itemprop=\"description\" content=\"Stack Overflow | The World&#x2019;s Largest Online Community for Developers\" />\\r\\n\\r\\n        <script src=\"https://ajax.googleapis.com/ajax/libs/jquery/1.12.4/jquery.min.js\"></script>\\r\\n        <script src=\"https://cdn.sstatic.net/Js/stub.en.js?v=aa34fd96ab86\"></script>\\r\\n    \\r\\n        <link rel=\"stylesheet\" type=\"text/css\" href=\"https://cdn.sstatic.net/Shared/stacks.css?v=3b16a418cc4c\" >\\r\\n        <link rel=\"stylesheet\" type=\"text/css\" href=\"https://cdn.sstatic.net/Sites/stackoverflow/primary.css?v=0d52ea8e3f45\" >\\r\\n\\r\\n    \\r\\n    <link rel=\"stylesheet\" type=\"text/css\" href=\"https://cdn.sstatic.net/Shared/Product/product.css?v=be860e9ff8ed\" >\\r\\n\\r\\n    <link rel=\"alternate\" type=\"application/atom+xml\" title=\"Feed of recent questions\" href=\"/feeds\">\\r\\n\\r\\n\\r\\n        \\r\\n        \\r\\n        \\r\\n        <link rel=\"stylesheet\" type=\"text/css\" href=\"https://cdn.sstatic.net/Shared/Channels/channels.css?v=abbdda2e119a\" >\\r\\n        \\r\\n        \\r\\n        \\r\\n\\r\\n\\r\\n    <script>\\r\\n        StackExchange.init({\"locale\":\"en\",\"serverTime\":1603248166,\"routeName\":\"Home/Index\",\"stackAuthUrl\":\"https://stackauth.com\",\"networkMetaHostname\":\"meta.stackexchange.com\",\"site\":{\"name\":\"Stack Overflow\",\"description\":\"Q&A for professional and enthusiast programmers\",\"isNoticesTabEnabled\":true,\"enableNewTagCreationWarning\":true,\"insertSpaceAfterNameTabCompletion\":false,\"id\":1,\"childUrl\":\"https://meta.stackoverflow.com\",\"styleCodeWithHighlightjs\":true,\"negativeVoteScoreFloor\":null,\"enableSocialMediaInSharePopup\":true,\"protocol\":\"https\"},\"user\":{\"fkey\":\"ebfd8da0a115f49a6282b4e5fc0e0499f098f669844145c1c3c2e34c2cc3021e\",\"tid\":\"c23777d9-2949-6aa0-34b0-a9700ca197c2\",\"rep\":0,\"isAnonymous\":true,\"isAnonymousNetworkWide\":true},\"events\":{\"postType\":{\"question\":1},\"postEditionSection\":{\"title\":1,\"body\":2,\"tags\":3}},\"story\":{\"minCompleteBodyLength\":75,\"likedTagsMaxLength\":300,\"dislikedTagsMaxLength\":300},\"jobPreferences\":{\"maxNumDeveloperRoles\":2,\"maxNumIndustries\":4},\"svgIconPath\":\"https://cdn.sstatic.net/Img/svg-icons\",\"svgIconHash\":\"dedb5faddfc5\"}, {\"userProfile\":{\"openGraphAPIKey\":\"4a307e43-b625-49bb-af15-ffadf2bda017\"},\"userMessaging\":{\"showNewFeatureNotice\":true},\"tags\":{},\"subscriptions\":{\"defaultMaxTrueUpSeats\":1000},\"snippets\":{\"renderDomain\":\"stacksnippets.net\",\"snippetsEnabled\":true},\"slack\":{\"sidebarAdDismissCookie\":\"slack-sidebar-ad\",\"sidebarAdDismissCookieExpirationDays\":60.0},\"site\":{\"allowImageUploads\":true,\"enableImgurHttps\":true,\"enableUserHovercards\":true,\"forceHttpsImages\":true,\"styleCode\":true},\"product\":{\"intercom\":\"https://stacksnippets.net\"},\"paths\":{},\"monitoring\":{\"clientTimingsAbsoluteTimeout\":30000,\"clientTimingsDebounceTimeout\":1000},\"mentions\":{\"maxNumUsersInDropdown\":50},\"markdown\":{},\"flags\":{\"allowRetractingCommentFlags\":true,\"allowRetractingFlags\":true},\"comments\":{},\"accounts\":{\"currentPasswordRequiredForChangingStackIdPassword\":true}});\\r\\n        StackExchange.using.setCacheBreakers({\"js/adops.en.js\":\"22a9bd59b1e9\",\"js/ask.en.js\":\"83cc8cb596d5\",\"js/begin-edit-event.en.js\":\"7f52eac9bfd0\",\"js/events.en.js\":\"b60f1f3ae2dc\",\"js/explore-qlist.en.js\":\"5da8ae80881e\",\"js/full-anon.en.js\":\"90c854ff82f9\",\"js/full.en.js\":\"d80e19843fc2\",\"js/help.en.js\":\"76e2886f2122\",\"js/highlightjs-loader.en.js\":\"1d092ad39618\",\"js/inline-tag-editing.en.js\":\"815dc162a3ff\",\"js/keyboard-shortcuts.en.js\":\"1a5b9b8bd8f8\",\"js/markdown-it-loader.en.js\":\"51d195bdb3d4\",\"js/mobile.en.js\":\"86a7788d5bf9\",\"js/moderator.en.js\":\"f4cca4604309\",\"js/postCollections-transpiled.en.js\":\"927c6fd07d62\",\"js/post-validation.en.js\":\"c5046a7d3663\",\"js/prettify-full.en.js\":\"996c99fc46f9\",\"js/question-editor.en.js\":\"\",\"js/review.en.js\":\"07bbbed13701\",\"js/revisions.en.js\":\"d8d5fa1f473d\",\"js/stacks-editor.en.js\":\"d4f5d16abb07\",\"js/tageditor.en.js\":\"40425ddd4257\",\"js/tageditornew.en.js\":\"b5db145b28b4\",\"js/tagsuggestions.en.js\":\"4e6582be0533\",\"js/wmd.en.js\":\"41a813f947c4\",\"js/snippet-javascript-codemirror.en.js\":\"128768365749\"});\\r\\n        StackExchange.using(\"gps\", function() {\\r\\n             StackExchange.gps.init(true);\\r\\n        });\\r\\n    </script>\\r\\n    <noscript id=\"noscript-css\"><style>body,.top-bar{margin-top:1.9em}</style></noscript>\\r\\n    </head>\\r\\n    <body class=\"home-page unified-theme\">\\r\\n    <div id=\"notify-container\"></div>\\r\\n    <div id=\"custom-header\"></div>\\r\\n        \\r\\n<header class=\"top-bar js-top-bar top-bar__network _fixed\">\\r\\n    <div class=\"wmx12 mx-auto grid ai-center h100\" role=\"menubar\">\\r\\n        <div class=\"-main grid--cell\">\\r\\n                <a href=\"#\" class=\"left-sidebar-toggle p0 ai-center jc-center js-left-sidebar-toggle\" role=\"menuitem\" aria-haspopup=\"true\" aria-controls=\"left-sidebar\" aria-expanded=\"false\"><span class=\"ps-relative\"></span></a>\\r\\n                <div class=\"topbar-dialog leftnav-dialog js-leftnav-dialog dno\">\\r\\n                    <div class=\"left-sidebar js-unpinned-left-sidebar\" data-can-be=\"left-sidebar\" data-is-here-when=\"sm md lg\"></div>\\r\\n                </div>\\r\\n                    <a href=\"https://stackoverflow.com\" class=\"-logo js-gps-track\"\\r\\n                        data-gps-track=\"top_nav.click({is_current:true, location:1, destination:8})\">\\r\\n                        <span class=\"-img _glyph\">Stack Overflow</span>\\r\\n                    </a>\\r\\n\\r\\n\\r\\n\\r\\n        </div>\\r\\n\\r\\n            <ol class=\"list-reset grid gs4\" role=\"presentation\">\\r\\n\\r\\n                    <li class=\"grid--cell md:d-none\">\\r\\n                        <a href=\"/company\" class=\"-marketing-link js-gps-track\"\\r\\n                           data-gps-track=\"top_nav.products.click({location:1, destination:7})\"\\r\\n                            data-ga=\"[&quot;top navigation&quot;,&quot;about menu click&quot;,null,null,null]\">About</a>\\r\\n                    </li>\\r\\n\\r\\n                <li class=\"grid--cell\">\\r\\n                    <a href=\"#\"\\r\\n                        class=\"-marketing-link js-gps-track js-products-menu\"\\r\\n                        aria-controls=\"products-popover\"\\r\\n                        data-controller=\"s-popover\"\\r\\n                        data-action=\"s-popover#toggle\"\\r\\n                        data-s-popover-placement=\"bottom\"\\r\\n                        data-s-popover-toggle-class=\"is-selected\"\\r\\n                        data-gps-track=\"top_nav.products.click({location:1, destination:1})\"\\r\\n                        data-ga=\"[&quot;top navigation&quot;,&quot;products menu click&quot;,null,null,null]\">\\r\\n                        Products\\r\\n                    </a>\\r\\n                </li>\\r\\n\\r\\n                    <li class=\"grid--cell md:d-none\">\\r\\n                        <a href=\"/teams\" class=\"-marketing-link js-gps-track\"\\r\\n                           data-gps-track=\"top_nav.products.click({location:1, destination:7})\"\\r\\n                            data-ga=\"[&quot;top navigation&quot;,&quot;learn more - teams&quot;,null,null,null]\">For Teams</a>\\r\\n                    </li>\\r\\n            </ol>\\r\\n            <div class=\"s-popover ws2 mtn2 p0\"\\r\\n                    id=\"products-popover\"\\r\\n                    role=\"menu\"\\r\\n                    aria-hidden=\"true\">\\r\\n                <div class=\"s-popover--arrow\"></div>\\r\\n                <ol class=\"list-reset s-anchors s-anchors__inherit\">\\r\\n                    <li class=\"m6\">\\r\\n                        <a href=\"/questions\" class=\"bar-sm p6 d-block h:bg-black-100 js-gps-track\"\\r\\n                           data-gps-track=\"top_nav.products.click({location:1, destination:2})\"\\r\\n                           data-ga=\"[&quot;top navigation&quot;,&quot;public qa submenu click&quot;,null,null,null]\">\\r\\n                            <span class=\"fs-body1 d-block\">Stack Overflow</span>\\r\\n                            <span class=\"fs-caption d-block fc-light\">Public questions &amp; answers</span>\\r\\n                        </a>\\r\\n                    </li>\\r\\n                    <li class=\"m6\">\\r\\n                        <a href=\"/teams\" class=\"bar-sm p6 d-block h:bg-black-100 js-gps-track\"\\r\\n                           data-gps-track=\"top_nav.products.click({location:1, destination:3})\"\\r\\n                           data-ga=\"[&quot;top navigation&quot;,&quot;teams submenu click&quot;,null,null,null]\">\\r\\n                            <span class=\"fs-body1 d-block\">Stack Overflow for Teams</span>\\r\\n                            <span class=\"fs-caption d-block fc-light\">Where developers &amp; technologists share private knowledge with coworkers</span>\\r\\n                        </a>\\r\\n                    </li>\\r\\n                    <li class=\"m6\">\\r\\n                        <a href=\"/jobs?so_source=ProductsMenu&so_medium=StackOverflow\" class=\"bar-sm p6 d-block h:bg-black-100 js-gps-track\"\\r\\n                            data-gps-track=\"top_nav.products.click({location:1, destination:9})\"\\r\\n                            data-ga=\"[&quot;top navigation&quot;,&quot;jobs submenu click&quot;,null,null,null]\">\\r\\n                            <span class=\"fs-body1 d-block\">Jobs</span>\\r\\n                            <span class=\"fs-caption d-block fc-light\">Programming &amp; related technical career opportunities</span>\\r\\n                        </a>\\r\\n                    </li>\\r\\n                    <li class=\"m6\">\\r\\n                        <a href=\"https://stackoverflow.com/talent\" class=\"bar-sm p6 d-block h:bg-black-100 js-gps-track\"\\r\\n                           data-gps-track=\"top_nav.products.click({location:1, destination:5})\"\\r\\n                           data-ga=\"[&quot;top navigation&quot;,&quot;talent submenu click&quot;,null,null,null]\">\\r\\n                            <span class=\"fs-body1 d-block\">Talent</span>\\r\\n                            <span class=\"fs-caption d-block fc-light\">Recruit tech talent &amp; build your employer brand</span>\\r\\n                        </a>\\r\\n                    </li>\\r\\n                    <li class=\"m6\">\\r\\n                        <a href=\"https://stackoverflow.com/advertising\" class=\"bar-sm p6 d-block h:bg-black-100 js-gps-track\"\\r\\n                           data-gps-track=\"top_nav.products.click({location:1, destination:6})\"\\r\\n                           data-ga=\"[&quot;top navigation&quot;,&quot;advertising submenu click&quot;,null,null,null]\">\\r\\n                            <span class=\"fs-body1 d-block\">Advertising</span>\\r\\n                            <span class=\"fs-caption d-block fc-light\">Reach developers &amp; technologists worldwide</span>\\r\\n                        </a>\\r\\n                    </li>\\r\\n                    <li class=\"bg-black-025 bt bc-black-2 py6 px6 bbr-sm\">\\r\\n                        <a href=\"/company\" class=\"fc-light d-block py6 px6 h:fc-black-800 js-gps-track\"\\r\\n                            data-gps-track=\"top_nav.products.click({location:1, destination:7})\"\\r\\n                            data-ga=\"[&quot;top navigation&quot;,&quot;about submenu click&quot;,null,null,null]\">About the company</a>\\r\\n                    </li>\\r\\n                </ol>\\r\\n            </div>\\r\\n\\r\\n            <form id=\"search\" role=\"search\" action=/search class=\"grid--cell fl-grow1 searchbar px12 js-searchbar \" autocomplete=\"off\">\\r\\n                    <div class=\"ps-relative\">\\r\\n                        <input name=\"q\"\\r\\n                               type=\"text\"\\r\\n                               placeholder=\"Search&#x2026;\"\\r\\n                               value=\"\"\\r\\n                               autocomplete=\"off\"\\r\\n                               maxlength=\"240\"\\r\\n                               class=\"s-input s-input__search js-search-field \"\\r\\n                               aria-label=\"Search\"\\r\\n                               aria-controls=\"top-search\" \\r\\n                               data-controller=\"s-popover\"\\r\\n                               data-action=\"focus->s-popover#show\"\\r\\n                               data-s-popover-placement=\"bottom-start\"/>\\r\\n                        <svg aria-hidden=\"true\" class=\"s-input-icon s-input-icon__search svg-icon iconSearch\" width=\"18\" height=\"18\" viewBox=\"0 0 18 18\"><path d=\"M18 16.5l-5.14-5.18h-.35a7 7 0 10-1.19 1.19v.35L16.5 18l1.5-1.5zM12 7A5 5 0 112 7a5 5 0 0110 0z\"/></svg>\\r\\n                        <div class=\"s-popover p0 wmx100 wmn4 sm:wmn-initial js-top-search-popover s-popover--arrow__tl\" id=\"top-search\" role=\"menu\">\\r\\n    <div class=\"js-spinner p24 grid ai-center jc-center d-none\">\\r\\n        <div class=\"s-spinner s-spinner__sm fc-orange-400\">\\r\\n            <div class=\"v-visible-sr\">Loading&#x2026;</div>\\r\\n        </div>\\r\\n    </div>\\r\\n\\r\\n    <span class=\"v-visible-sr js-screen-reader-info\"></span>\\r\\n    <div class=\"js-ac-results overflow-y-auto hmx3 d-none\"></div>\\r\\n\\r\\n    <div class=\"js-search-hints\" aria-describedby=\"Tips for searching\"></div>\\r\\n</div>\\r\\n                    </div>\\r\\n            </form>\\r\\n        \\r\\n        \\r\\n\\r\\n<ol class=\"overflow-x-auto ml-auto -secondary grid ai-center list-reset h100 user-logged-out\" role=\"presentation\">\\r\\n        <li class=\"-item searchbar-trigger\"><a href=\"#\" class=\"-link js-searchbar-trigger\" role=\"button\" aria-label=\"Search\" aria-haspopup=\"true\" aria-controls=\"search\" title=\"Click to show search\"><svg aria-hidden=\"true\" class=\"svg-icon iconSearch\" width=\"18\" height=\"18\" viewBox=\"0 0 18 18\"><path d=\"M18 16.5l-5.14-5.18h-.35a7 7 0 10-1.19 1.19v.35L16.5 18l1.5-1.5zM12 7A5 5 0 112 7a5 5 0 0110 0z\"/></svg></a></li>\\r\\n\\r\\n            <li class=\"-ctas\">\\r\\n                            <a href=\"https://stackoverflow.com/users/login?ssrc=head&returnurl=https%3a%2f%2fstackoverflow.com%2f\" class=\"login-link s-btn s-btn__filled py8 js-gps-track\" rel=\"nofollow\"\\r\\n                               data-gps-track=\"login.click\" data-ga=\"[&quot;top navigation&quot;,&quot;login button click&quot;,null,null,null]\">Log in</a>\\r\\n                            <a href=\"https://stackoverflow.com/users/signup?ssrc=head&returnurl=%2fusers%2fstory%2fcurrent\" class=\"login-link s-btn s-btn__primary py8\" rel=\"nofollow\" data-ga=\"[&quot;sign up&quot;,&quot;Sign Up Navigation&quot;,&quot;Header&quot;,null,null]\">Sign up</a>\\r\\n\\r\\n            </li>\\r\\n\\r\\n    <li class=\"js-topbar-dialog-corral\" role=\"presentation\">\\r\\n            \\r\\n\\r\\n    <div class=\"topbar-dialog siteSwitcher-dialog dno\" role=\"menu\">\\r\\n        <div class=\"header\">\\r\\n            <h3>\\r\\n                <a href=\"https://stackoverflow.com\">current community</a>\\r\\n            </h3>\\r\\n        </div>\\r\\n        <div class=\"modal-content bg-powder-050\">\\r\\n            <ul class=\"current-site\">\\r\\n                    <li class=\"grid\">\\r\\n                            <div class=\"fl1\">\\r\\n                <a href=\"https://stackoverflow.com\"\\r\\n       class=\"current-site-link site-link js-gps-track grid gs8 gsx\"\\r\\n       data-id=\"1\"\\r\\n       data-gps-track=\"site_switcher.click({ item_type:3 })\">\\r\\n        <div class=\"favicon favicon-stackoverflow site-icon grid--cell\" title=\"Stack Overflow\"></div>\\r\\n        <span class=\"grid--cell fl1\">\\r\\n            Stack Overflow\\r\\n        </span>\\r\\n    </a>\\r\\n\\r\\n    </div>\\r\\n    <div class=\"related-links\">\\r\\n            <a href=\"https://stackoverflow.com/help\" class=\"js-gps-track\" data-gps-track=\"site_switcher.click({ item_type:14 })\">help</a>\\r\\n            <a href=\"https://chat.stackoverflow.com/?tab=site&amp;host=stackoverflow.com\" class=\"js-gps-track\" data-gps-track=\"site_switcher.click({ item_type:6 })\">chat</a>\\r\\n    </div>\\r\\n\\r\\n                    </li>\\r\\n                    <li class=\"related-site grid\">\\r\\n                            <div class=\"L-shaped-icon-container\">\\r\\n        <span class=\"L-shaped-icon\"></span>\\r\\n    </div>\\r\\n\\r\\n                            <a href=\"https://meta.stackoverflow.com\"\\r\\n       class=\" site-link js-gps-track grid gs8 gsx\"\\r\\n       data-id=\"552\"\\r\\n       data-gps-track=\"site.switch({ target_site:552, item_type:3 }),site_switcher.click({ item_type:4 })\">\\r\\n        <div class=\"favicon favicon-stackoverflowmeta site-icon grid--cell\" title=\"Meta Stack Overflow\"></div>\\r\\n        <span class=\"grid--cell fl1\">\\r\\n            Meta Stack Overflow\\r\\n        </span>\\r\\n    </a>\\r\\n\\r\\n                    </li>\\r\\n            </ul>\\r\\n        </div>\\r\\n\\r\\n        <div class=\"header\" id=\"your-communities-header\">\\r\\n            <h3>\\r\\nyour communities            </h3>\\r\\n\\r\\n        </div>\\r\\n        <div class=\"modal-content\" id=\"your-communities-section\">\\r\\n\\r\\n                <div class=\"call-to-login\">\\r\\n<a href=\"https://stackoverflow.com/users/signup?ssrc=site_switcher&amp;returnurl=%2fusers%2fstory%2fcurrent\" class=\"login-link js-gps-track\" data-gps-track=\"site_switcher.click({ item_type:10 })\">Sign up</a> or <a href=\"https://stackoverflow.com/users/login?ssrc=site_switcher&amp;returnurl=https%3a%2f%2fstackoverflow.com%2f\" class=\"login-link js-gps-track\" data-gps-track=\"site_switcher.click({ item_type:11 })\">log in</a> to customize your list.                </div>\\r\\n        </div>\\r\\n\\r\\n        <div class=\"header\">\\r\\n            <h3><a href=\"https://stackexchange.com/sites\">more stack exchange communities</a>\\r\\n            </h3>\\r\\n            <a href=\"https://stackoverflow.blog\" class=\"fr\">company blog</a>\\r\\n        </div>\\r\\n        <div class=\"modal-content\">\\r\\n                <div class=\"child-content\"></div>\\r\\n        </div>        \\r\\n    </div>\\r\\n\\r\\n    </li>\\r\\n</ol>\\r\\n    </div>\\r\\n</header>\\r\\n    <div id=\"js-gdpr-consent-banner\" class=\"p8 ff-sans ps-fixed b0 l0 r0 z-banner\" role=\"banner\" aria-hidden=\"false\" style=\"background-color: #3b4045; color: white;\"> \\r\\n        <div class=\"wmx8 mx-auto grid grid__center\" role=\"alertdialog\" aria-describedby=\"notice-message\">\\r\\n            <div class=\"grid--cell mr12\" aria-label=\"notice-message\">\\r\\n                <p class=\"mb0 lh-lg\">\\r\\n                    By using our site, you acknowledge that you have read and understand our <a class=\"s-link s-link__inherit td-underline fc-white\" target=\"_blank\" href=\"https://stackoverflow.com/legal/cookie-policy\">Cookie Policy</a>, <a class=\"s-link s-link__inherit td-underline fc-white\" target=\"_blank\" href=\"https://stackoverflow.com/legal/privacy-policy\">Privacy Policy</a>, and our <a class=\"s-link s-link__inherit td-underline fc-white\" target=\"_blank\" href=\"https://stackoverflow.com/legal/terms-of-service/public\">Terms of Service</a>.\\r\\n                </p>\\r\\n            </div>\\r\\n            <div class=\"grid--cell\">\\r\\n                <a class=\"s-btn s-btn__muted s-btn__icon js-notice-close\" aria-label=\"notice-dismiss\">\\r\\n                    <svg aria-hidden=\"true\" class=\"svg-icon iconClear\" width=\"18\" height=\"18\" viewBox=\"0 0 18 18\"><path d=\"M15 4.41L13.59 3 9 7.59 4.41 3 3 4.41 7.59 9 3 13.59 4.41 15 9 10.41 13.59 15 15 13.59 10.41 9 15 4.41z\"/></svg>\\r\\n                </a>\\r\\n            </div>\\r\\n        </div>\\r\\n    </div>\\r\\n\\r\\n    <script>\\r\\n        StackExchange.ready(function () { StackExchange.topbar.init(); });\\r\\nStackExchange.scrollPadding.setPaddingTop(50, 10);    </script>\\r\\n\\r\\n\\r\\n\\r\\n\\r\\n\\r\\n    <div class=\"container wmx100 w100 p-ff-source\">\\r\\n            \\r\\n\\r\\n\\r\\n<div id=\"left-sidebar\" data-is-here-when=\"\" class=\"left-sidebar js-pinned-left-sidebar ps-relative\">\\r\\n    <div class=\"left-sidebar--sticky-container js-sticky-leftnav\">\\r\\n        <nav role=\"navigation\">\\r\\n            <ol class=\"nav-links\">\\r\\n        <li class=\" youarehere\">\\r\\n            <a\\r\\n                href=\"/\"\\r\\n                class=\"pl8 js-gps-track nav-links--link\"\\r\\n                \\r\\n                data-gps-track=\"top_nav.click({is_current:true, location:1, destination:8})\">\\r\\nHome            </a>\\r\\n        </li>\\r\\n                <li>\\r\\n                    <ol class=\"nav-links\">\\r\\n                            <li class=\"fs-fine tt-uppercase ml8 mt16 mb4 fc-light\">Public</li>\\r\\n                                <li class=\"\">\\r\\n            <a id=\"nav-questions\"\\r\\n                href=\"/questions\"\\r\\n                class=\"pl8 js-gps-track nav-links--link -link__with-icon\"\\r\\n                \\r\\n                data-gps-track=\"top_nav.click({is_current:false, location:1, destination:1})\">\\r\\n<svg aria-hidden=\"true\" class=\"svg-icon iconGlobe\" width=\"18\" height=\"18\" viewBox=\"0 0 18 18\"><path d=\"M9 1a8 8 0 100 16A8 8 0 009 1zM8 15.32a6.4 6.4 0 01-5.23-7.75L7 11.68v.8c0 .88.12 1.32 1 1.32v1.52zm5.72-2c-.2-.66-1-1.32-1.72-1.32h-1v-2c0-.44-.56-1-1-1H6V7h1c.44 0 1-.56 1-1V5h2c.88 0 1.4-.72 1.4-1.6v-.33a6.4 6.4 0 012.32 10.24v.01z\"/></svg>                    <span class=\"-link--channel-name\">Stack Overflow</span>\\r\\n            </a>\\r\\n        </li>\\r\\n\\r\\n        <li class=\"\">\\r\\n            <a id=\"nav-tags\"\\r\\n                href=\"/tags\"\\r\\n                class=\" js-gps-track nav-links--link\"\\r\\n                \\r\\n                data-gps-track=\"top_nav.click({is_current:false, location:1, destination:2})\">\\r\\nTags            </a>\\r\\n        </li>\\r\\n        <li class=\"\">\\r\\n            <a id=\"nav-users\"\\r\\n                href=\"/users\"\\r\\n                class=\" js-gps-track nav-links--link\"\\r\\n                \\r\\n                data-gps-track=\"top_nav.click({is_current:false, location:1, destination:3})\">\\r\\nUsers            </a>\\r\\n        </li>\\r\\n                            <li class=\"fs-fine tt-uppercase ml8 mt16 mb4 fc-light\">Find a Job</li>\\r\\n        <li class=\"\">\\r\\n            <a id=\"nav-jobs\"\\r\\n                href=\"/jobs?so_medium=StackOverflow&amp;so_source=SiteNav\"\\r\\n                class=\" js-gps-track nav-links--link\"\\r\\n                \\r\\n                data-gps-track=\"top_nav.click({is_current:false, location:1, destination:6})\">\\r\\nJobs            </a>\\r\\n        </li>\\r\\n        <li class=\"\">\\r\\n            <a id=\"nav-companies\"\\r\\n                href=\"/jobs/companies?so_medium=StackOverflow&amp;so_source=SiteNav\"\\r\\n                class=\" js-gps-track nav-links--link\"\\r\\n                \\r\\n                data-gps-track=\"top_nav.click({is_current:false, location:1, destination:12})\">\\r\\nCompanies            </a>\\r\\n        </li>\\r\\n                    </ol>\\r\\n                </li>\\r\\n                    <li>\\r\\n                        <ol class=\"nav-links\">\\r\\n                                <li class=\"grid ai-center jc-space-between ml8 mt24 mb4\">\\r\\n                                    <div class=\"grid--cell tt-uppercase fs-fine fc-light\">Teams</div>\\r\\n                                    <div class=\"grid--cell fs-fine fc-light mr4\">\\r\\n                                        <a href=\"javascript:void(0)\" class=\"s-link s-link__inherit js-gps-track\"\\r\\n                                            role=\"button\"\\r\\n                                            aria-controls=\"popover-teams-create-cta\"\\r\\n                                            data-controller=\"s-popover\"\\r\\n                                            data-action=\"s-popover#toggle\"\\r\\n                                            data-s-popover-placement=\"bottom-start\"\\r\\n                                            data-s-popover-toggle-class=\"is-selected\"\\r\\n                                            data-gps-track=\"teams.create.left-sidenav.click({ Action: ShowInfo })\"\\r\\n                                            data-ga=\"[&quot;teams left navigation - anonymous&quot;,&quot;left nav show teams info&quot;,null,null,null]\">\\r\\n                                            What&#x2019;s this?\\r\\n                                        </a>\\r\\n\\r\\n                                    </div>\\r\\n                                </li>\\r\\n                                <li class=\"ps-relative\">\\r\\n                                    <a href=\"https://stackoverflow.com/teams\"\\r\\n                                        class=\"pl8 js-gps-track nav-links--link\"\\r\\n                                        title=\"Stack Overflow for Teams is a private, secure spot for your organization\\'s questions and answers.\"\\r\\n                                        data-gps-track=\"teams.create.left-sidenav.click({ Action: TeamsClick })\"\\r\\n                                        data-ga=\"[&quot;teams left navigation - anonymous&quot;,&quot;left nav team click&quot;,&quot;stackoverflow.com/teams&quot;,null,null]\">\\r\\n                                        <div class=\"grid ai-center\">\\r\\n                                            <div class=\"grid--cell s-avatar va-middle bg-orange-400\">\\r\\n                                                <div class=\"s-avatar--letter mtn1\">\\r\\n                                                    <svg aria-hidden=\"true\" class=\"svg-icon iconBriefcaseSm\" width=\"14\" height=\"14\" viewBox=\"0 0 14 14\"><path d=\"M4 3a1 1 0 011-1h4a1 1 0 011 1v1h.5c.83 0 1.5.67 1.5 1.5v5c0 .83-.67 1.5-1.5 1.5h-7A1.5 1.5 0 012 10.5v-5C2 4.67 2.67 4 3.5 4H4V3zm5 1V3H5v1h4z\"/></svg>\\r\\n                                                </div>\\r\\n                                                <svg aria-hidden=\"true\" class=\"native s-avatar--badge svg-icon iconShieldXSm\" width=\"9\" height=\"10\" viewBox=\"0 0 9 10\"><path d=\"M0 1.84L4.5 0 9 1.84v3.17C9 7.53 6.3 10 4.5 10 2.7 10 0 7.53 0 5.01V1.84z\" fill=\"var(--white)\"/><path d=\"M1 2.5L4.5 1 8 2.5v2.51C8 7.34 5.34 9 4.5 9 3.65 9 1 7.34 1 5.01V2.5zm2.98 3.02L3.2 7h2.6l-.78-1.48a.4.4 0 01.15-.38c.34-.24.73-.7.73-1.14 0-.71-.5-1.23-1.41-1.23-.92 0-1.39.52-1.39 1.23 0 .44.4.9.73 1.14.12.08.18.23.15.38z\" fill=\"var(--black-500)\"/></svg>\\r\\n                                            </div>\\r\\n                                            <div class=\"grid--cell pl6\">\\r\\nFree 30 Day Trial                                            </div>\\r\\n                                        </div>\\r\\n                                    </a>\\r\\n                                </li>\\r\\n                        </ol>\\r\\n                    </li>\\r\\n            </ol>\\r\\n        </nav>\\r\\n    </div>\\r\\n\\r\\n\\r\\n        <div class=\"s-popover w-auto p16\"\\r\\n             id=\"popover-teams-create-cta\"\\r\\n             role=\"menu\"\\r\\n             aria-hidden=\"true\">\\r\\n            <div class=\"s-popover--arrow\"></div>\\r\\n\\r\\n            <div class=\"ps-relative overflow-hidden\">\\r\\n                <p class=\"mb2\"><strong>Teams</strong></p>\\r\\n                <p class=\"mb16 fs-caption fc-medium\">Q&amp;A for Work</p>\\r\\n                <p class=\"mb8 fs-caption fc-medium\">\\r\\n\\r\\n                            Stack Overflow for Teams is a private, secure spot for you and\\r\\n                            your coworkers to find and share information.\\r\\n                                        </p>\\r\\n                <a href=\"https://stackoverflow.com/teams\"\\r\\n                   class=\"js-gps-track ws-nowrap d-block\"\\r\\n                   data-gps-track=\"teams.create.left-sidenav.click({ Action: CtaClick })\"\\r\\n                   data-ga=\"[&quot;teams left navigation - anonymous&quot;,&quot;left nav cta&quot;,&quot;stackoverflow.com/teams&quot;,null,null]\">\\r\\nLearn more                </a>\\r\\n            </div>\\r\\n\\r\\n            <div class=\"ps-absolute t8 r8\">\\r\\n                <svg width=\"53\" height=\"49\" fill=\"none\" xmlns=\"http://www.w3.org/2000/svg\"><path d=\"M49 11l.2 31H18.9L9 49v-7H4V8h31\" fill=\"#CCEAFF\" /><path d=\"M44.5 19v-.3l-.2-.1-18-13-.1-.1H.5v33h4V46l.8-.6 9.9-6.9h29.3V19z\" stroke=\"#1060E1\" stroke-miterlimit=\"10\" /><path d=\"M31 2l6-1.5 7 2V38H14.9L5 45v-7H1V6h25l5-4z\" fill=\"#fff\" /><path d=\"M7 16.5h13m-13 6h14m-14 6h18\" stroke=\"#1060E1\" stroke-miterlimit=\"10\" /><path d=\"M39 30a14 14 0 1 0 0-28 14 14 0 0 0 0 28z\" fill=\"#FFB935\" /><path d=\"M50.5 14a13.5 13.5 0 1 1-27 0 13.5 13.5 0 0 1 27 0z\" stroke=\"#F48024\" stroke-miterlimit=\"10\" /><path d=\"M32.5 21.5v-8h9v8h-9zm2-9.5V9.3A2.5 2.5 0 0 1 37 6.8a2.5 2.5 0 0 1 2.5 2.5V12h-5zm2 3v2m1-2v2\" stroke=\"#fff\" stroke-miterlimit=\"10\" /></svg>\\r\\n            </div>\\r\\n        </div>\\r\\n\\r\\n</div>\\r\\n\\r\\n\\r\\n\\r\\n        <div id=\"content\" class=\"w100 wmx100 p0 snippet-hidden\">\\r\\n\\r\\n            \\r\\n<div class=\"py128 product-hero-background d:fc-white\">\\r\\n    <h1 class=\"w90 mx-auto p-ff-roboto-slab-bold fs-display2 ta-center mb16\">We <span class=\"ff-mono\">&#x3C;3</span> people who code</h1>\\r\\n    <p class=\"fs-title ta-center w90 wmx4 mx-auto mb24\">We build products that empower developers and connect them to solutions that enable productivity, growth, and discovery.</p>\\r\\n    <div class=\"grid jc-center ai-center fs-body2 sm:fd-column\">\\r\\n        <a class=\"grid--cell bc-orange-2 ba fc-orange-400 bg-white d:bg-black-900 py12 px24 bar-sm js-scroll-link js-gps-track\"\\r\\n           data-gps-track=\"product_homepage.hero.click({ cta: \\'For developers\\' })\"\\r\\n           href=\"#for-developers\" data-ga=\"[&quot;home page&quot;,&quot;for developers click&quot;,&quot;hero banner&quot;,null,null]\">\\r\\n            For developers\\r\\n        </a>\\r\\n        <a class=\"grid--cell ml8 sm:ml0 sm:mt8 fc-white d:fc-black-900 bg-orange-400 py12 px24 bar-sm js-scroll-link js-gps-track\"\\r\\n           data-gps-track=\"product_homepage.hero.click({ cta: \\'For businesses\\' })\"\\r\\n           href=\"#for-businesses\" data-ga=\"[&quot;home page&quot;,&quot;for businesses click&quot;,&quot;hero banner&quot;,null,null]\">\\r\\n            For businesses\\r\\n        </a>\\r\\n    </div>\\r\\n</div>\\r\\n\\r\\n<div class=\"py64 ta-center\" id=\"for-developers\">\\r\\n    <h2 class=\"w90 mx-auto p-ff-roboto-slab-bold fs-headline2 mb24\">For developers, by developers</h2>\\r\\n    <div class=\"w64 h8 bar-pill d-block mb24 bg-orange-400 mx-auto mb16\"></div>\\r\\n    <p class=\"ta-center fs-body3 w90 wmx5 mx-auto mb48\">Stack Overflow is an <a href=\"/questions\" class=\"fc-orange-400 js-gps-track\" \\r\\n         data-gps-track=\"product_homepage.for_developers.click({ product: \\'FreeCommunityHeader\\' })\" \\r\\n         data-ga=\"[&quot;home page&quot;,&quot;free community click&quot;,&quot;for developers section&quot;,null,null]\">open community</a> for anyone that codes. We help you get answers to your toughest coding questions, share knowledge with your coworkers in private, and find your next dream job.</p>\\r\\n    <div class=\"grid grid__allcells4 w90 wmx10 mx-auto ai-start md:fd-column md:ai-center\">\\r\\n        <div class=\"grid--cell wmx3 fs-body2 ta-center bs-md bar-lg p32 mt64 md:mt0 md:mb32 h:bs-lg\">\\r\\n            <img class=\"mb16\" src=\"https://cdn.sstatic.net/Img/home/public-qa.svg?v=d82acaa7df9f\">\\r\\n            <h4 class=\"fs-title p-ff-roboto-slab mb16\">Public Q&A</h4>\\r\\n            <p class=\"mb24\">Get answers to more than 16.5 million questions and give back by sharing your knowledge with others. <a href=\"/users/signup\" class=\"fc-orange-400 js-gps-track\" \\r\\n                data-gps-track=\"product_homepage.for_developers.click({ product: \\'PublicQA\\' })\" \\r\\n                 data-ga=\"[&quot;home page&quot;,&quot;public qa - create account click&quot;,&quot;for developers section&quot;,null,null]\">Sign up</a> for an account.</p>\\r\\n            <a class=\"d-inline-block fc-white p-bg-purple d:bg-blue-600 py12 px24 bar-sm js-gps-track\"\\r\\n               data-gps-track=\"product_homepage.for_developers.click({ product: \\'FreeCommunity\\' })\"\\r\\n               href=\"/questions\" data-ga=\"[&quot;home page&quot;,&quot;browse questions click&quot;,&quot;for developers section&quot;,null,null]\">\\r\\n                Browse questions\\r\\n            </a>\\r\\n        </div>\\r\\n        <div class=\"grid--cell wmx3 fs-body2 bs-md bar-lg p32 mr64 ml64 md:mr0 md:ml0 md:mb32 h:bs-lg\">\\r\\n            <img class=\"mb16\" src=\"https://cdn.sstatic.net/Img/home/private-qa.svg?v=2c1de180b6d7\">\\r\\n            <h4 class=\"fs-title p-ff-roboto-slab mb16\">Private Q&A</h4>\\r\\n            <p class=\"mb24\">Level up with Stack Overflow while you work. Share knowledge privately with your coworkers using our flagship Q&amp;A engine.</p>\\r\\n            <a class=\"d-inline-block fc-white bg-orange-400 py12 px24 bar-sm js-gps-track\"\\r\\n               data-gps-track=\"product_homepage.for_developers.click({ product: \\'PrivateQA\\' })\"\\r\\n               href=\"/teams\" data-ga=\"[&quot;home page&quot;,&quot;private qa - learn more click&quot;,&quot;for developers section&quot;,null,null]\">\\r\\n                Try for free\\r\\n            </a>\\r\\n        </div>\\r\\n        <div class=\"grid--cell wmx3 fs-body2 bs-md bar-lg p32 mt64 md:mt0 md:mb32 h:bs-lg\">\\r\\n            <img class=\"mb16\" src=\"https://cdn.sstatic.net/Img/home/jobs.svg?v=931d6c0863ee\">\\r\\n            <h4 class=\"fs-title p-ff-roboto-slab mb16\">Browse jobs</h4>\\r\\n            <p class=\"mb24\">Find the right job through high quality listings and search for roles based on title, technology stack, salary, location, and more.</p>\\r\\n            <a class=\"d-inline-block fc-white p-bg-purple d:bg-blue-600 py12 px24 bar-sm js-gps-track\"\\r\\n               data-gps-track=\"product_homepage.for_developers.click({ product: \\'Jobs\\' })\"\\r\\n               href=\"/jobs\" data-ga=\"[&quot;home page&quot;,&quot;browse jobs click&quot;,&quot;for developers section&quot;,null,null]\">\\r\\n                Find a job\\r\\n            </a>\\r\\n        </div>\\r\\n    </div>\\r\\n</div>\\r\\n\\r\\n<div class=\"py128 p-bg-purple-light d:bg-black-025 fs-body3\" id=\"for-businesses\">\\r\\n    <h2 class=\"mx-auto w90 ta-center p-ff-roboto-slab-bold fs-headline2 mb24\">For businesses, by developers</h2>\\r\\n    <div class=\"w64 h8 bar-pill d-block mb24 bg-orange-400 mx-auto mb16\"></div>\\r\\n    <p class=\"ta-center mb64 fs-body3 w90 wmx6 mx-auto\">Our mission is to help developers write the script of the future. This means helping you find and hire skilled developers for your business and providing them the tools they need to share knowledge and work effectively.</p>\\r\\n    <div class=\"grid grid__allcells4 mx-auto w90 wmx12 md:fd-column md:ai-center\">\\r\\n        <div class=\"grid grid__center wmx4 bg-white bar-lg bs-md p32 md:mb32 lg:fd-column md:fd-row\">\\r\\n            <div class=\"grid--cell mr16 lg:mb16 md:mb0\">\\r\\n                <img class=\"d-block\" src=\"https://cdn.sstatic.net/Img/home/private-questions.svg?v=a4f1cfb08f7e\" width=\"76\">\\r\\n            </div>\\r\\n            <p class=\"grid--cell mb0 wmx2\">\\r\\n                Quickly find and share internal knowledge with\\r\\n                <a href=\"/teams\"\\r\\n                   class=\"fc-orange-400 js-gps-track\"\\r\\n                   data-gps-track=\"product_homepage.for_business.click({ product: \\'PrivateQA\\', cta: \\'Private Q&amp;A\\' })\"\\r\\n                   data-ga=\"[&quot;home page&quot;,&quot;private qa link click&quot;,&quot;for businesses section&quot;,null,null]\">\\r\\n                    Private Q&amp;A\\r\\n                </a>\\r\\n            </p>\\r\\n        </div>\\r\\n        <div class=\"grid grid__center wmx4 bg-white bar-lg bs-md p32 ml48 mr48 md:ml0 md:mr0 md:mb32 lg:fd-column md:fd-row\">\\r\\n            <div class=\"grid--cell mr16 lg:mb16 md:mb0\">\\r\\n                <img class=\"d-block\" src=\"https://cdn.sstatic.net/Img/home/find-candidate.svg?v=9099aa106ad3\" width=\"76\">\\r\\n            </div>\\r\\n            <p class=\"grid--cell mb0 wmx2\">\\r\\n                Find the perfect candidate for your growing technical team with\\r\\n                <a href=\"https://stackoverflow.com/talent\"\\r\\n                   class=\"fc-orange-400 js-gps-track\"\\r\\n                   data-gps-track=\"product_homepage.for_business.click({ product: \\'Talent\\', cta: \\'Talent solutions\\' })\"\\r\\n                   data-ga=\"[&quot;home page&quot;,&quot;talent link click&quot;,&quot;for businesses section&quot;,null,null]\">\\r\\n                    Talent solutions\\r\\n                </a>\\r\\n            </p>\\r\\n        </div>\\r\\n        <div class=\"grid grid__center wmx4 bg-white bar-lg bs-md p32 lg:fd-column md:fd-row\">\\r\\n            <div class=\"grid--cell mr16 lg:mb16 md:mb0\">\\r\\n                <img class=\"d-block\" src=\"https://cdn.sstatic.net/Img/home/accelerate.svg?v=9d4c2786ff02\" width=\"76\">\\r\\n            </div>\\r\\n            <p class=\"grid--cell mb0 wmx2\">\\r\\n                Accelerate the discovery of your products or services through our\\r\\n                <a href=\"https://stackoverflow.com/advertising\"\\r\\n                   class=\"fc-orange-400 js-gps-track\"\\r\\n                   data-gps-track=\"product_homepage.for_business.click({ product: \\'Advertising\\', cta: \\'Advertising platform\\' })\"\\r\\n                   data-ga=\"[&quot;home page&quot;,&quot;advertising link click&quot;,&quot;for businesses section&quot;,null,null]\">\\r\\n                    Advertising platform\\r\\n                </a>\\r\\n            </p>\\r\\n        </div>\\r\\n    </div>\\r\\n</div>\\r\\n\\r\\n<div class=\"py128 px32 p-bg-purple d:bg-white\">\\r\\n    <h2 class=\"w90 wmx5 mx-auto fc-white d:fc-black-900 ta-center p-ff-roboto-slab-bold fs-headline2 mb24\">Unlock siloed knowledge with Stack Overflow for Teams</h2>\\r\\n    <div class=\"p-divider mb32\"></div>\\r\\n    <p class=\"mb24 w90 mx-auto wmx4 ta-center fc-white fs-body3 d:fc-black-900\">Wikis, chat messages, or formal documentation for knowledge management aren’t effective. Our question and answer format is a proven approach for accessing the right information in less time.</p>\\r\\n    <p class=\"ta-center mb24 md:mb48\">\\r\\n        <a class=\"fs-body2 d-inline-block fc-white bg-orange-400 py12 px24 bar-sm js-gps-track\"\\r\\n           data-gps-track=\"product_homepage.for_business.click({ product: \\'PrivateQA\\', cta: \\'Learn more\\' })\"\\r\\n           href=\"/teams\" data-ga=\"[&quot;home page&quot;,&quot;teams - learn more click&quot;,&quot;for businesses section&quot;,null,null]\">\\r\\n            Learn more\\r\\n        </a>\\r\\n    </p>\\r\\n    \\r\\n    <div class=\"mx-auto wmx12 pt32\">\\r\\n        \\r\\n<div class=\"bg-contain bg-no-repeat bg-center pb12 md:p-bg-none\" style=\"background-image: url(https://cdn.sstatic.net/Img/product/teams/illo-teams-pricing.svg?v=8afb8ac7c580)\">\\r\\n    <div class=\"grid grid__fl1 grid__allcells4 sm:fd-column gs32 ml128 mr128 md:ml64 md:mr64 sm:ml0 sm:mr0 ff-row-wrap\">\\r\\n        <div class=\"grid--cell d-flex fd-column wmn2 pt2 pb16\">\\r\\n            <div class=\"mt32 sm:mt0 h100 p24 bg-white d:p-bg-dark-tint ba bc-black-2 bar-lg bs-sm fs-body2 d-flex fd-column\">\\r\\n                <h2 class=\"px8 py4 as-start bar-sm bg-black-150 fc-black-750 fs-body3 p-ff-roboto-slab\">\\r\\n                    Basic\\r\\n                </h2>\\r\\n                <p class=\"h32 mb24\">\\r\\n                    Private knowledge base for teams\\r\\n                </p>\\r\\n\\r\\n                <div class=\"bb bc-black-2 pb24 mb24\">\\r\\n                            <div class=\"p-ff-roboto-slab-bold fs-headline2 p-font-smooth lh-xs pt12 mb6\">\\r\\n$6 USD        </div>\\r\\n        <div class=\"fc-black-350 fs-body2\">\\r\\nper teammate / month        </div>\\r\\n\\r\\n                </div>\\r\\n\\r\\n                        <div class=\"d-flex mb12 \">\\r\\n            <div class=\"mr12\"><svg aria-hidden=\"true\" class=\"svg-icon iconCalendar\" width=\"18\" height=\"18\" viewBox=\"0 0 18 18\"><path d=\"M14 2h1a2 2 0 012 2v11a2 2 0 01-2 2H3a2 2 0 01-2-2V4c0-1.1.9-2 2-2h1V0h2v2h6V0h2v2zM3 6v9h12V6H3zm2 2h2v2H5V8zm0 3h2v2H5v-2zm3 0h2v2H8v-2zm3 0h2v2h-2v-2zm0-3h2v2h-2V8zM8 8h2v2H8V8z\"/></svg></div>\\r\\n            <div>Free 30 day trial</div>\\r\\n        </div>\\r\\n\\r\\n                        <div class=\"d-flex mb12 \">\\r\\n            <div class=\"mr12\"><svg aria-hidden=\"true\" class=\"svg-icon iconShield\" width=\"18\" height=\"18\" viewBox=\"0 0 18 18\"><path d=\"M2 4l7-3 7 3v5.02C16 13.69 10.69 17 9 17c-1.69 0-7-3.31-7-7.98V4zm6.14 5.2L7 12h4L9.86 9.2a.58.58 0 01.25-.59c.56-.36.89-.95.89-1.61 0-1.09-.94-2-2.02-2A2 2 0 007 7c0 .66.33 1.25.89 1.61.2.13.3.36.25.59z\"/></svg></div>\\r\\n            <div>Your own private space hosted on stackoverflow.com</div>\\r\\n        </div>\\r\\n\\r\\n                        <div class=\"d-flex mb12 \">\\r\\n            <div class=\"mr12\"><svg aria-hidden=\"true\" class=\"svg-icon iconArchive\" width=\"18\" height=\"18\" viewBox=\"0 0 18 18\"><path d=\"M3 1a2 2 0 00-2 2v1h16V3a2 2 0 00-2-2H3zM2 5h14v10a2 2 0 01-2 2H4a2 2 0 01-2-2V5zm4 3a1 1 0 001 1h4a1 1 0 100-2H7a1 1 0 00-1 1z\"/></svg></div>\\r\\n            <div>Fully searchable archive</div>\\r\\n        </div>\\r\\n\\r\\n\\r\\n                        <div class=\"mt-auto\">\\r\\n            <a\\r\\n                href=\"/teams/create/basic\"\\r\\n                class=\"s-btn mt24 d-block as-stretch fs-body2 px32 bar-md p-ff-source-bold bg-black-100 h:bg-blue-500 fc-black-750 h:fc-white h:bg-blue-500 h:fc-white\"\\r\\n                data-ga=\"[&quot;teams landing&quot;,&quot;plans menu click&quot;,&quot;Get started for free&quot;,null,null]\"\\r\\n            >\\r\\n                Get started for free\\r\\n            </a>\\r\\n        </div>\\r\\n\\r\\n            </div>\\r\\n        </div>\\r\\n        <div class=\"grid--cell d-flex fd-column wmn2 pb16 md:order-first bg-bottom bg-no-repeat bg-contain\" style=\"background-image:url(https://cdn.sstatic.net/Img/product/teams/illo-teams-pricing-shadow.svg?v=9954fe201b05)\">\\r\\n            <div class=\"px16 py8 bg-black-075 d:bg-black-025 bl bt br bc-black-3 btr-lg bs-sm fs-body2 mx16 p-ff-source-bold fs-body1\">\\r\\n                <svg aria-hidden=\"true\" class=\"float-right svg-icon iconIndustry\" width=\"18\" height=\"18\" viewBox=\"0 0 18 18\"><path d=\"M10 16v-4H8v4H2V4c0-1.1.9-2 2-2h6a2 2 0 012 2v2h2a2 2 0 012 2v8h-6zM4 4v2h2V4H4zm0 4v2h2V8H4zm4-4v2h2V4H8zm0 4v2h2V8H8zm-4 4v2h2v-2H4zm8 0v2h2v-2h-2zm0-4v2h2V8h-2z\"/></svg>\\r\\n                MOST USED\\r\\n            </div>\\r\\n            <div class=\"p24 h100 bg-black-025 ba bc-black-3 bar-lg p-bs-wrapper fs-body2 d-flex fd-column\">\\r\\n                <h2 class=\"px8 py4 as-start bar-sm bg-black-700 fc-white fs-body3 p-ff-roboto-slab\">\\r\\n                    Business\\r\\n                </h2>\\r\\n                <p class=\"h32 mb24\">\\r\\n                    Private knowledge base with SSO and premium features\\r\\n                </p>\\r\\n\\r\\n                <div class=\"bb bc-black-3 pb24 mb24\">\\r\\n                    <div class=\"p-ff-roboto-slab-bold fs-headline2 p-font-smooth lh-xs pt12 mb6\">\\r\\n                        $12 USD\\r\\n                    </div>\\r\\n                    <div class=\"fc-black-350 fs-body2\">per teammate / month</div>\\r\\n                </div>\\r\\n\\r\\n                        <div class=\"d-flex mb12 \">\\r\\n            <div class=\"mr12\"><svg aria-hidden=\"true\" class=\"svg-icon iconKeySmall\" width=\"18\" height=\"18\" viewBox=\"0 0 18 18\"><path d=\"M8.83 10a3 3 0 110-2H15v2h-2v2h-2v-2H8.83zM6 10.3a1.3 1.3 0 100-2.6 1.3 1.3 0 000 2.6z\"/></svg></div>\\r\\n            <div>Single sign-on (SSO) with SAML</div>\\r\\n        </div>\\r\\n\\r\\n                        <div class=\"d-flex mb12 \">\\r\\n            <div class=\"mr12\"><svg aria-hidden=\"true\" class=\"svg-icon iconGraph\" width=\"18\" height=\"18\" viewBox=\"0 0 18 18\"><path d=\"M3 1h12a2 2 0 012 2v12a2 2 0 01-2 2H3a2 2 0 01-2-2V3c0-1.1.9-2 2-2zm1 8v5h2V9H4zm4-5v10h2V4H8zm4 3v7h2V7h-2z\"/></svg></div>\\r\\n            <div>Reporting and analytics</div>\\r\\n        </div>\\r\\n\\r\\n                        <div class=\"d-flex mb12 \">\\r\\n            <div class=\"mr12\"><svg aria-hidden=\"true\" class=\"svg-icon iconHealth\" width=\"18\" height=\"18\" viewBox=\"0 0 18 18\"><path d=\"M9 1L2 4v5.02C2 13.69 7.31 17 9 17c1.69 0 7-3.31 7-7.98V4L9 1zm1 9v3H8v-3H5V8h3V5h2v3h3v2h-3z\"/></svg></div>\\r\\n            <div>Priority customer support</div>\\r\\n        </div>\\r\\n\\r\\n                        <div class=\"d-flex mb12 \">\\r\\n            <div class=\"mr12\"><svg aria-hidden=\"true\" class=\"svg-icon iconStar\" width=\"18\" height=\"18\" viewBox=\"0 0 18 18\"><path d=\"M8.63.95a.4.4 0 01.74 0l2.05 4.93a.4.4 0 00.34.24l5.32.43c.35.03.5.47.22.7l-4.05 3.47a.4.4 0 00-.13.4l1.24 5.2a.4.4 0 01-.6.43l-4.55-2.79a.4.4 0 00-.42 0l-4.55 2.79a.4.4 0 01-.6-.44l1.24-5.19a.4.4 0 00-.13-.4L.7 7.25a.4.4 0 01.22-.7l5.32-.43a.4.4 0 00.34-.24L8.63.95z\"/></svg></div>\\r\\n            <div>99.5% uptime</div>\\r\\n        </div>\\r\\n\\r\\n\\r\\n                        <div class=\"mt-auto\">\\r\\n            <a\\r\\n                href=\"/business/get-started\"\\r\\n                class=\"s-btn mt24 d-block as-stretch fs-body2 px32 bar-md p-ff-source-bold bg-black-700 fc-white h:bg-blue-500 h:fc-white\"\\r\\n                data-ga=\"[&quot;teams landing&quot;,&quot;plans menu click&quot;,&quot;Get started&quot;,null,null]\"\\r\\n            >\\r\\n                Get started\\r\\n            </a>\\r\\n        </div>\\r\\n\\r\\n            </div>\\r\\n        </div>\\r\\n        <div class=\"grid--cell d-flex fd-column wmn2 pt2 pb16\">\\r\\n            <div class=\"mt32 md:mt0 h100 p24 bg-white d:p-bg-dark-tint ba bc-black-2 bar-lg bs-sm fs-body2 d-flex fd-column\">\\r\\n                <h2 class=\"px8 py4 as-start bar-sm p-bg-purple d:p-bg-purple-alt fc-white d:fc-black fs-body3 p-ff-roboto-slab\">\\r\\n                    Enterprise\\r\\n                </h2>\\r\\n                <p class=\"h32 mb24\">\\r\\n                    Standalone knowledge base with enhanced security and flexible hosting\\r\\n                </p>\\r\\n\\r\\n                <div class=\"bb bc-black-9 pb24 mb24\">\\r\\n                    <div class=\"p-ff-roboto-slab-bold fs-headline2 p-font-smooth lh-xs pt12 mb6\">\\r\\n                        Custom pricing\\r\\n                    </div>\\r\\n                    <div class=\"fc-black-350 fs-body2\">Let’s talk about what you need</div>\\r\\n                </div>\\r\\n\\r\\n                        <div class=\"d-flex mb12 \">\\r\\n            <div class=\"mr12\"><svg aria-hidden=\"true\" class=\"svg-icon iconKeySmall\" width=\"18\" height=\"18\" viewBox=\"0 0 18 18\"><path d=\"M8.83 10a3 3 0 110-2H15v2h-2v2h-2v-2H8.83zM6 10.3a1.3 1.3 0 100-2.6 1.3 1.3 0 000 2.6z\"/></svg></div>\\r\\n            <div>Single sign-on with AD or SAML</div>\\r\\n        </div>\\r\\n\\r\\n                        <div class=\"d-flex mb12 \">\\r\\n            <div class=\"mr12\"><svg aria-hidden=\"true\" class=\"svg-icon iconPeak\" width=\"18\" height=\"18\" viewBox=\"0 0 18 18\"><path d=\"M10.5 3.5L8 7.25l2 2.25L8.5 11l-3-3.5L1 14h16L10.5 3.5z\"/></svg></div>\\r\\n            <div>Host on your cloud or servers &#x2013; or our private managed cloud</div>\\r\\n        </div>\\r\\n\\r\\n                        <div class=\"d-flex mb12 \">\\r\\n            <div class=\"mr12\"><svg aria-hidden=\"true\" class=\"svg-icon iconCode\" width=\"18\" height=\"18\" viewBox=\"0 0 18 18\"><path d=\"M8 4.41L6.59 3l-6 6 6 6L8 13.59 3.41 9 8 4.41zm2 0L11.41 3l6 6-6 6L10 13.59 14.59 9 10 4.41z\"/></svg></div>\\r\\n            <div>Robust read and write API</div>\\r\\n        </div>\\r\\n\\r\\n                        <div class=\"d-flex mb12 \">\\r\\n            <div class=\"mr12\"><svg aria-hidden=\"true\" class=\"svg-icon iconPerson\" width=\"18\" height=\"18\" viewBox=\"0 0 18 18\"><path d=\"M15 15a1 1 0 01-1 1H4a1 1 0 01-1-1v-1c0-2.63 4-4 4-4s.23-.4 0-1c-.84-.62-.94-1.59-1-4 .17-2.41 1.87-3 3-3s2.83.59 3 3c-.06 2.41-.16 3.38-1 4-.23.59 0 1 0 1s4 1.37 4 4v1z\"/></svg></div>\\r\\n            <div>Your own customer success and community building representative</div>\\r\\n        </div>\\r\\n\\r\\n                        <div class=\"d-flex mb12 \">\\r\\n            <div class=\"mr12\"><svg aria-hidden=\"true\" class=\"svg-icon iconStar\" width=\"18\" height=\"18\" viewBox=\"0 0 18 18\"><path d=\"M8.63.95a.4.4 0 01.74 0l2.05 4.93a.4.4 0 00.34.24l5.32.43c.35.03.5.47.22.7l-4.05 3.47a.4.4 0 00-.13.4l1.24 5.2a.4.4 0 01-.6.43l-4.55-2.79a.4.4 0 00-.42 0l-4.55 2.79a.4.4 0 01-.6-.44l1.24-5.19a.4.4 0 00-.13-.4L.7 7.25a.4.4 0 01.22-.7l5.32-.43a.4.4 0 00.34-.24L8.63.95z\"/></svg></div>\\r\\n            <div>99.5% uptime SLA and priority support</div>\\r\\n        </div>\\r\\n\\r\\n\\r\\n                        <div class=\"mt-auto\">\\r\\n            <a\\r\\n                href=\"/enterprise/get-started\"\\r\\n                class=\"s-btn mt24 d-block as-stretch fs-body2 px32 bar-md p-ff-source-bold p-bg-purple d:p-bg-purple-alt fc-white d:fc-black h:bg-blue-500 h:fc-white\"\\r\\n                data-ga=\"[&quot;teams landing&quot;,&quot;plans menu click&quot;,&quot;Request a demo&quot;,null,null]\"\\r\\n            >\\r\\n                Request a demo\\r\\n            </a>\\r\\n        </div>\\r\\n\\r\\n            </div>\\r\\n        </div>\\r\\n    </div>\\r\\n</div>\\r\\n\\r\\n\\r\\n    </div>\\r\\n\\r\\n    <div class=\"ta-center p-ff-roboto-slab fs-body2 mt48\">\\r\\n        <a target=\"_blank\" and rel=\"noopener noreferrer\" href=\"https://www.g2.com/products/stack-overflow-for-teams/\" class=\"d-inline-block mx24 my12 fc-black-200 h:fc-white d:fc-black-900\">\\r\\n            <img class=\"d-inline-block va-middle mr8\" src=\"https://cdn.sstatic.net/Img/product/teams/endorsements/g2.svg?v=670bf9279910\" height=\"26\" alt=\"G2\">\\r\\n            <strong class=\"p-ff-roboto-slab-bold\">Leader</strong> Summer 2020\\r\\n        </a>\\r\\n\\r\\n        <a target=\"_blank\" and rel=\"noopener noreferrer\" href=\"https://www.g2.com/products/stack-overflow-for-teams/\" class=\"d-inline-block mx24 my12 fc-black-200 h:fc-white d:fc-black-900\">\\r\\n            <img class=\"d-inline-block va-middle mr8\" src=\"https://cdn.sstatic.net/Img/product/teams/endorsements/g2.svg?v=670bf9279910\" height=\"26\" alt=\"G2\">\\r\\n            <strong class=\"p-ff-roboto-slab-bold\">Users Love Us</strong>\\r\\n        </a>\\r\\n\\r\\n        <a target=\"_blank\" and rel=\"noopener noreferrer\" href=\"https://www.fastcompany.com/most-innovative-companies/2019/sectors/enterprise\" class=\"d-inline-block mx24 my12 fc-black-200 h:fc-white d:fc-black-900\">\\r\\n            <img class=\"d-inline-block va-middle mr8\" src=\"https://cdn.sstatic.net/Img/product/teams/endorsements/fastco.svg?v=5ebc802a76c7\" height=\"21\" alt=\"Fast Company\">\\r\\n            <strong class=\"p-ff-roboto-slab-bold\">Most Innovative Companies</strong> 2019\\r\\n        </a>\\r\\n    </div>\\r\\n</div>\\r\\n\\r\\n<div class=\"p-bg-purple-light d:bg-black-025 py128\">\\r\\n    <div class=\"grid grid__allcells6 w90 wmx10 mx-auto sm:fd-column\">\\r\\n        <div class=\"grid fd-column mr64 sm:mr0 sm:mb64\">\\r\\n            <div class=\"grid--cell\">\\r\\n                <img class=\"d-block mb6\" src=\"https://cdn.sstatic.net/Img/home/find-candidate.svg?v=9099aa106ad3\" width=\"76\">\\r\\n            </div>\\r\\n            <h4 class=\"grid--cell p-ff-roboto-slab-bold fs-headline1 mb12\">Hire your technical talent</h4>\\r\\n            <p class=\"grid--cell fs-body2 mb24\">We help expand your technical hiring strategy to promote your employer brand and highlight relevant open roles to our community of over 100 million developers and technologists.</p>\\r\\n            <div class=\"grid--cell mt-auto\">\\r\\n                <a class=\"fs-body2 d-inline-block fc-white bg-orange-400 py12 px24 bar-sm js-gps-track\"\\r\\n                   data-gps-track=\"product_homepage.for_business.click({ product: \\'Talent\\', cta: \\'Stack Overflow Talent\\' })\"\\r\\n                   href=\"https://stackoverflow.com/talent\" \\r\\n                   data-ga=\"[&quot;home page&quot;,&quot;talent click&quot;,&quot;for businesses section&quot;,null,null]\">\\r\\n                    Stack Overflow Talent\\r\\n                </a>\\r\\n            </div>\\r\\n        </div>\\r\\n        <div class=\"grid fd-column\">\\r\\n            <div class=\"grid--cell\">\\r\\n                <img class=\"d-block mb6\" src=\"https://cdn.sstatic.net/Img/home/accelerate.svg?v=9d4c2786ff02\" width=\"76\">\\r\\n            </div>\\r\\n            <h4 class=\"grid--cell p-ff-roboto-slab-bold fs-headline1 mb12\">Reach developers worldwide</h4>\\r\\n            <p class=\"grid--cell fs-body2 mb24\">Use the world’s largest resource for people who code to help you increase awareness and showcase your product or service across Stack Overflow’s network of Q&amp;A sites.</p>\\r\\n            <div class=\"grid--cell mt-auto\">\\r\\n                <a class=\"fs-body2 d-inline-block fc-white bg-orange-400 py12 px24 bar-sm js-gps-track\"\\r\\n                   data-gps-track=\"product_homepage.for_business.click({ product: \\'PrivateQA\\', cta: \\'Stack Overflow Advertising\\' })\"\\r\\n                   href=\"https://stackoverflow.com/advertising\"\\r\\n                   data-ga=\"[&quot;home page&quot;,&quot;advertising click&quot;,&quot;for businesses section&quot;,null,null]\">\\r\\n                    Stack Overflow Advertising\\r\\n                </a>\\r\\n            </div>\\r\\n        </div>\\r\\n    </div>\\r\\n</div>\\r\\n\\r\\n<div class=\"py64\">\\r\\n    <h3 class=\"w90 mx-auto ta-center p-ff-roboto-slab-bold fs-headline2 mb24\">Questions are everywhere, answers are on Stack Overflow</h3>\\r\\n    <div class=\"p-divider mb32\"></div>\\r\\n    <div class=\"w90 wmx10 mx-auto\">\\r\\n        <div id=\"tour\" class=\"grid ai-start md:ai-center md:fd-column md:ta-center\">\\r\\n            <div class=\"tour--controls grid fd-column md:fd-row md:w100 grid--cell3 mt48 md:mt0\">\\r\\n                <label class=\"grid ai-center md:fd-column p12 md:w33 ps-relative fs-body3 p-ff-source c-pointer h:bs-md bar-md ba bc-transparent us-none\">\\r\\n                    <input class=\"d-none js-tour-area js-gps-track\" type=\"radio\" name=\"tour-area\"\\r\\n                           data-gps-track=\"product_homepage.tour.click({ action: \\'Ask\\' })\"\\r\\n                           data-controller=\"s-expandable-control\"\\r\\n                           aria-label=\"Learn more\"\\r\\n                           aria-controls=\"tour-ask\"\\r\\n                           aria-expanded=\"true\"\\r\\n                           data-ga=\"[&quot;home page&quot;,&quot;ask a question carousel click&quot;,&quot;how it works section&quot;,null,null]\"\\r\\n                           checked />\\r\\n                    <div class=\"grid--cell mr8 md:mr0 md:mb8\">\\r\\n                        <img src=\"https://cdn.sstatic.net/Img/home/ask-a-question.svg?v=f4f2050b0297\" class=\"d-block\" width=\"46\">\\r\\n                    </div>\\r\\n                    <span class=\"grid--cell\">Ask a question</span>\\r\\n                    <div class=\"tour--arrow md:d-none\"></div>\\r\\n                </label>\\r\\n                <label class=\"grid ai-center md:fd-column p12 md:w33 ps-relative fs-body3 p-ff-source c-pointer h:bs-md bar-md ba bc-transparent us-none\">\\r\\n                    <input class=\"d-none js-tour-area js-gps-track\" type=\"radio\" name=\"tour-area\"\\r\\n                           data-gps-track=\"product_homepage.tour.click({ action: \\'Vote\\' })\"\\r\\n                           data-controller=\"s-expandable-control\"\\r\\n                           aria-label=\"Learn more\"\\r\\n                           aria-controls=\"tour-vote\"\\r\\n                           aria-expanded=\"false\" \\r\\n                           data-ga=\"[&quot;home page&quot;,&quot;vote on everything carousel click&quot;,&quot;how it works section&quot;,null,null]\"/>\\r\\n                    <div class=\"grid--cell mr8 md:mr0 md:mb8\">\\r\\n                        <img src=\"https://cdn.sstatic.net/Img/home/votes.svg?v=748a8f48a8e2\" class=\"d-block\" width=\"46\">\\r\\n                    </div>\\r\\n                    <span class=\"grid--cell\">Vote on everything</span>\\r\\n                    <div class=\"tour--arrow md:d-none\"></div>\\r\\n                </label>\\r\\n                <label class=\"grid ai-center md:fd-column p12 md:w33 ps-relative fs-body3 p-ff-source c-pointer h:bs-md bar-md ba bc-transparent us-none\">\\r\\n                    <input class=\"d-none js-tour-area js-gps-track\" type=\"radio\" name=\"tour-area\"\\r\\n                           data-gps-track=\"product_homepage.tour.click({ action: \\'Answer\\' })\"\\r\\n                           data-controller=\"s-expandable-control\"\\r\\n                           aria-label=\"Learn more\"\\r\\n                           aria-controls=\"tour-answer\"\\r\\n                           aria-expanded=\"false\" \\r\\n                           data-ga=\"[&quot;home page&quot;,&quot;answer questions carousel click&quot;,&quot;how it works section&quot;,null,null]\" />\\r\\n                    <div class=\"grid--cell mr8 md:mr0 md:mb8\">\\r\\n                        <img src=\"https://cdn.sstatic.net/Img/home/answer.svg?v=4cd8048a676c\" class=\"d-block\" width=\"46\">\\r\\n                    </div>\\r\\n                    <span class=\"grid--cell\">Answer questions</span>\\r\\n                    <div class=\"tour--arrow md:d-none\"></div>\\r\\n                </label>\\r\\n            </div>\\r\\n            <div class=\"tour--controls tour--controls__right grid fd-column md:fd-row md:w100 grid--cell3 mt48 md:mt0 order-last\">\\r\\n                <label class=\"grid ai-center md:fd-column p12 md:w33 ps-relative fs-body3 p-ff-source c-pointer h:bs-md bar-md ba bc-transparent us-none\">\\r\\n                    <input class=\"d-none js-tour-area js-gps-track\" type=\"radio\" name=\"tour-area\"\\r\\n                           data-gps-track=\"product_homepage.tour.click({ action: \\'TagQuestion\\' })\"\\r\\n                           data-controller=\"s-expandable-control\"\\r\\n                           aria-label=\"Learn more\"\\r\\n                           aria-controls=\"tour-tag\"\\r\\n                           aria-expanded=\"false\" \\r\\n                           data-ga=\"[&quot;home page&quot;,&quot;tag your question carousel click&quot;,&quot;how it works section&quot;,null,null]\" />\\r\\n                    <div class=\"grid--cell mr8 md:mr0 md:mb8\">\\r\\n                        <img src=\"https://cdn.sstatic.net/Img/home/tags.svg?v=913379eb09eb\" class=\"d-block\" width=\"46\">\\r\\n                    </div>\\r\\n                    <span class=\"grid--cell\">Tag your question</span>\\r\\n                    <div class=\"tour--arrow md:d-none\"></div>\\r\\n                </label>\\r\\n                <label class=\"grid ai-center md:fd-column p12 md:w33 ps-relative fs-body3 p-ff-source c-pointer h:bs-md bar-md ba bc-transparent us-none\">\\r\\n                    <input class=\"d-none js-tour-area js-gps-track\" type=\"radio\" name=\"tour-area\"\\r\\n                           data-gps-track=\"product_homepage.tour.click({ action: \\'AcceptAnswer\\' })\"\\r\\n                           data-controller=\"s-expandable-control\"\\r\\n                           aria-label=\"Learn more\"\\r\\n                           aria-controls=\"tour-accept\"\\r\\n                           aria-expanded=\"false\" \\r\\n                           data-ga=\"[&quot;home page&quot;,&quot;accept an answer carousel click&quot;,&quot;how it works section&quot;,null,null]\" />\\r\\n                    <div class=\"grid--cell mr8 md:mr0 md:mb8\">\\r\\n                        <img src=\"https://cdn.sstatic.net/Img/home/accept.svg?v=27d5be078970\" class=\"d-block\" width=\"46\">\\r\\n                    </div>\\r\\n                    <span class=\"grid--cell\">Accept an answer</span>\\r\\n                    <div class=\"tour--arrow md:d-none\"></div>\\r\\n                </label>\\r\\n                <label class=\"grid ai-center md:fd-column p12 md:w33 ps-relative fs-body3 p-ff-source c-pointer h:bs-md bar-md ba bc-transparent us-none\">\\r\\n                    <input class=\"d-none js-tour-area js-gps-track\" type=\"radio\" name=\"tour-area\"\\r\\n                           data-gps-track=\"product_homepage.tour.click({ action: \\'Badges\\' })\"\\r\\n                           data-controller=\"s-expandable-control\"\\r\\n                           aria-label=\"Learn more\"\\r\\n                           aria-controls=\"tour-recognized\"\\r\\n                           aria-expanded=\"false\" \\r\\n                           data-ga=\"[&quot;home page&quot;,&quot;get recognized carousel click&quot;,&quot;how it works section&quot;,null,null]\" />\\r\\n                    <div class=\"grid--cell mr8 md:mr0 md:mb8\">\\r\\n                        <img src=\"https://cdn.sstatic.net/Img/home/get-recognized.svg?v=3b339d9aa10c\" class=\"d-block\" width=\"46\">\\r\\n                    </div>\\r\\n                    <span class=\"grid--cell\">Get recognized</span>\\r\\n                    <div class=\"tour--arrow md:d-none\"></div>\\r\\n                </label>\\r\\n            </div>\\r\\n\\r\\n            <div class=\"grid--cell6 ta-center m24 md:ml0 md:mr0 md:order-last\">\\r\\n                <div class=\"tour--item wmx5 s-expandable\" id=\"tour-ask\">\\r\\n                    <img width=\"500\" src=\"https://cdn.sstatic.net/Img/home/illo-feats-ask.svg?v=b6cd07f0765a\" class=\"d-block wmx100\">\\r\\n                    <h4 class=\"mt24 p-ff-roboto-slab fs-title\">\\r\\n                        Ask a question publicly on 170+ Stack Exchange sites or privately using Stack Overflow for Teams.\\r\\n                    </h4>\\r\\n                </div>\\r\\n                <div class=\"tour--item wmx5 s-expandable\" id=\"tour-vote\">\\r\\n                    <img width=\"500\" src=\"https://cdn.sstatic.net/Img/home/illo-feats-vote.svg?v=9d2eb0efdc17\" class=\"d-block wmx100\">\\r\\n                    <h4 class=\"mt24 p-ff-roboto-slab fs-title\">\\r\\n                        Upvoting helps exceptional content rise to the top and bring awareness to useful responses.\\r\\n                    </h4>\\r\\n                </div>\\r\\n                <div class=\"tour--item wmx5 s-expandable\" id=\"tour-answer\">\\r\\n                    <img width=\"500\" src=\"https://cdn.sstatic.net/Img/home/illo-feats-answer.svg?v=b637b99bc32a\" class=\"d-block wmx100\">\\r\\n                    <h4 class=\"mt24 p-ff-roboto-slab fs-title\">\\r\\n                        Answer a question to share your knowledge with the world or in private with your team.\\r\\n                    </h4>\\r\\n                </div>\\r\\n                <div class=\"tour--item wmx5 s-expandable\" id=\"tour-tag\">\\r\\n                    <img width=\"500\" src=\"https://cdn.sstatic.net/Img/home/illo-feats-tags.svg?v=0655cbe6bffa\" class=\"d-block wmx100\">\\r\\n                    <h4 class=\"mt24 p-ff-roboto-slab fs-title\">\\r\\n                        Tags help make information searchable and find answers that are important to you.\\r\\n                    </h4>\\r\\n                </div>\\r\\n                <div class=\"tour--item wmx5 s-expandable\" id=\"tour-accept\">\\r\\n                    <img width=\"500\" src=\"https://cdn.sstatic.net/Img/home/illo-feats-accept.svg?v=f2be4b8dfdac\" class=\"d-block wmx100\">\\r\\n                    <h4 class=\"mt24 p-ff-roboto-slab fs-title\">\\r\\n                        Accept the answer which solved your problem to let others benefit from the valuable information.\\r\\n                    </h4>\\r\\n                </div>\\r\\n                <div class=\"tour--item wmx5 s-expandable\" id=\"tour-recognized\">\\r\\n                    <img width=\"500\" src=\"https://cdn.sstatic.net/Img/home/illo-feats-recognize.svg?v=4f011d7173e8\" class=\"d-block wmx100\">\\r\\n                    <h4 class=\"mt24 p-ff-roboto-slab fs-title\">\\r\\n                        Our reputation system rewards both the new & experienced based on contribution and activity.\\r\\n                    </h4>\\r\\n                </div>\\r\\n\\r\\n                <a class=\"mt24 fs-body2 d-inline-block fc-white bg-orange-400 py12 px24 bar-sm js-gps-track\"\\r\\n                   data-gps-track=\"product_homepage.tour.click({ action: \\'CreateAccount\\' })\"\\r\\n                   href=\"/users/signup\" \\r\\n                   data-ga=\"[&quot;home page&quot;,&quot;create an account click&quot;,&quot;how it works section&quot;,null,null]\">Create an account</a>\\r\\n            </div>\\r\\n        </div>\\r\\n    </div>\\r\\n</div>\\r\\n\\r\\n<div class=\"py128 fs-body2\">\\r\\n    <h3 class=\"w90 mx-auto ta-center p-ff-roboto-slab-bold fs-headline2 mb24\">Learn and grow with Stack Overflow</h3>\\r\\n    <div class=\"p-divider mb64\"></div>\\r\\n    <div class=\"mx-auto w90 wmx12 grid grid__allcells6 md:fd-column\">\\r\\n        <div class=\"grid grid__allcells6 mr32 md:mr0 md:mb64 md:jc-center sm:fd-column sm:ai-center sm:mb48\">\\r\\n            <div class=\"grid--cell wmx3 mr32 md:mr48 md:ta-center md:pl24 md:pr24 sm:mr0 sm:mb48 sm:pl0 sm:pr0\">\\r\\n                <img class=\"mb16 wmx100\" width=\"175\" height=\"151\" src=\"https://cdn.sstatic.net/Img/home/developer.svg?v=b930de7967a7\">\\r\\n                <h4 class=\"p-ff-roboto-slab-bold fs-subheading mb16\">Write the script of the future</h4>\\r\\n                <p>\\r\\n                    Get your coding questions answered to learn, build, and level up whether you’re beginning with\\r\\n                    <a href=\"questions/tagged/javascript\" class=\"js-gps-track\" data-gps-track=\"product_homepage.learn_and_grow.click({ link: \\'Javascript\\' })\"\\r\\n                       data-ga=\"[&quot;home page&quot;,&quot;javascript click&quot;,&quot;learn and grow section&quot;,null,null]\">JavaScript</a> or a\\r\\n                    <a href=\"questions/tagged/react\" class=\"js-gps-track\" data-gps-track=\"product_homepage.learn_and_grow.click({ link: \\'React\\' })\"\\r\\n                       data-ga=\"[&quot;home page&quot;,&quot;react click&quot;,&quot;learn and grow section&quot;,null,null]\">React</a> professional.\\r\\n                </p>\\r\\n            </div>\\r\\n            <div class=\"grid--cell wmx3 md:ta-center md:pl24 md:pr24 sm:pl0 sm:pr0\">\\r\\n                <img class=\"mb16 wmx100\" width=\"169\" height=\"151\" src=\"https://cdn.sstatic.net/Img/home/open-source.svg?v=847b604fd2ab\">\\r\\n                <h4 class=\"p-ff-roboto-slab-bold fs-subheading mb16\">Support open source</h4>\\r\\n                <p>Reach users of your project by following tags, answering newcomer questions, and empowering experts in the community. \\r\\n                <a href=\"https://stackoverflow.com/questions/55884514/what-is-the-incentive-for-curl-to-release-the-library-for-free/55885729#55885729\" \\r\\n                    class=\"js-gps-track\" data-gps-track=\"product_homepage.learn_and_grow.click({ link: \\'Curl\\' })\"\\r\\n                    data-ga=\"[&quot;home page&quot;,&quot;curl story click&quot;,&quot;learn and grow section&quot;,null,null]\">Read the curl project creator’s story</a>.</p>\\r\\n            </div>\\r\\n        </div>\\r\\n        <div class=\"grid grid__allcells6 md:jc-center sm:fd-column sm:ai-center\">\\r\\n            <div class=\"grid--cell wmx3 mr32 md:mr48 md:ta-center md:pl24 md:pr24 sm:mr0 sm:mb48 sm:pl0 sm:pr0\">\\r\\n                <img class=\"mb16 wmx100\" width=\"176\" height=\"151\" src=\"https://cdn.sstatic.net/Img/home/advocate.svg?v=4b03cfb93502\">\\r\\n                <h4 class=\"p-ff-roboto-slab-bold fs-subheading mb16\">Acquire and share knowledge</h4>\\r\\n                <p>Answer questions and <a href=\"https://insights.stackoverflow.com/\" class=\"js-gps-track\" data-gps-track=\"product_homepage.learn_and_grow.click({ link: \\'Insights\\' })\"\\r\\n                    data-ga=\"[&quot;home page&quot;,&quot;insights click&quot;,&quot;learn and grow section&quot;,null,null]\">gain insights</a> from an audience of developers using your technology on Stack Overflow.</p>\\r\\n            </div>\\r\\n            <div class=\"grid--cell wmx3 md:ta-center md:pl24 md:pr24\">\\r\\n                <img class=\"mb16 wmx100\" width=\"209\" height=\"151\" src=\"https://cdn.sstatic.net/Img/home/career-switcher.svg?v=a41416ff19df\">\\r\\n                <h4 class=\"p-ff-roboto-slab-bold fs-subheading mb16\">Find career opportunities</h4>\\r\\n                <p>Create a profile that shows off your expertise and credentials to help you make your next move. Start your <a href=\"users/story/join\" class=\"js-gps-track\" \\r\\n                    data-gps-track=\"product_homepage.learn_and_grow.click({ link: \\'DeveloperStory\\' })\" \\r\\n                    data-ga=\"[&quot;home page&quot;,&quot;developer story click&quot;,&quot;learn and grow section&quot;,null,null]\">Developer Story</a>.</p>\\r\\n            </div>\\r\\n        </div>\\r\\n    </div>\\r\\n</div>\\r\\n\\r\\n<div class=\"ps-relative bg-powder-100 d:bg-black-025 py128\">\\r\\n    <h3 class=\"mx-auto w90 wmx12 p-ff-roboto-slab-bold fs-headline2 mb24 lg:ta-center\">Looking for a job?</h3>\\r\\n    <div class=\"mx-auto w90 wmx12 grid ai-center lg:fd-column\">\\r\\n        <div class=\"grid grid__allcells6 lg:fd-column\">\\r\\n            <div class=\"grid grid__allcells6 mr32 lg:mr0 lg:mb32 sm:fd-column sm:mb16\">\\r\\n                <a class=\"grid ai-center p16 bg-white bs-md bar-lg s-link s-link__inherit p-ff-roboto-slab fs-body2 mr32 sm:mr0 sm:mb16 js-gps-track\"\\r\\n                   data-gps-track=\"product_homepage.browse_jobs.click({ filter: \\'Technology\\' })\"\\r\\n                   href=\"/jobs/why-jobs-cta/BrowseByTechnology?source=Homepage\"\\r\\n                   data-ga=\"[&quot;home page&quot;,&quot;jobs by technology click&quot;,&quot;looking for job section&quot;,null,null]\">\\r\\n                    <div class=\"grid--cell mr16\">\\r\\n                        <img width=\"50\" src=\"https://cdn.sstatic.net/Img/home/jobs-tech.svg?v=42f011c01763\">\\r\\n                    </div>\\r\\n                    <div class=\"grid--cell\">\\r\\n                        Browse jobs by technology\\r\\n                    </div>\\r\\n                </a>\\r\\n                <a class=\"grid ai-center p16 bg-white bs-md bar-lg s-link s-link__inherit p-ff-roboto-slab fs-body2 js-gps-track\"\\r\\n                   data-gps-track=\"product_homepage.browse_jobs.click({ filter: \\'Salary\\' })\"\\r\\n                   href=\"/jobs/why-jobs-cta/BrowseBySalary?source=Homepage\"\\r\\n                   data-ga=\"[&quot;home page&quot;,&quot;jobs by salary click&quot;,&quot;looking for job section&quot;,null,null]\">\\r\\n                    <div class=\"grid--cell mr16\">\\r\\n                        <img width=\"50\" src=\"https://cdn.sstatic.net/Img/home/jobs-salary.svg?v=401840ff8931\">\\r\\n                    </div>\\r\\n                    <div class=\"grid--cell\">\\r\\n                        Browse jobs by salary\\r\\n                    </div>\\r\\n                </a>\\r\\n            </div>\\r\\n            <div class=\"grid grid__allcells6 lg:mb32 sm:fd-column\">\\r\\n                <a class=\"grid ai-center p16 bg-white bs-md bar-lg s-link s-link__inherit p-ff-roboto-slab fs-body2 mr32 sm:mr0 sm:mb16 js-gps-track\"\\r\\n                   data-gps-track=\"product_homepage.browse_jobs.click({ filter: \\'Visa\\' })\"\\r\\n                   href=\"/jobs/why-jobs-cta/BrowseVisaJobs?source=Homepage\"\\r\\n                   data-ga=\"[&quot;home page&quot;,&quot;jobs by visa click&quot;,&quot;looking for job section&quot;,null,null]\">\\r\\n                    <div class=\"grid--cell mr16\">\\r\\n                        <img width=\"50\" src=\"https://cdn.sstatic.net/Img/home/jobs-visa.svg?v=1f3acc6dc772\">\\r\\n                    </div>\\r\\n                    <div class=\"grid--cell\">\\r\\n                        Browse jobs by visa sponsorship\\r\\n                    </div>\\r\\n                </a>\\r\\n                <a class=\"grid ai-center p16 bg-white bs-md bar-lg s-link s-link__inherit p-ff-roboto-slab fs-body2 js-gps-track\"\\r\\n                   data-gps-track=\"product_homepage.browse_jobs.click({ filter: \\'Remote\\' })\"\\r\\n                   href=\"/jobs/why-jobs-cta/BrowseRemoteJobs?source=Homepage\"\\r\\n                   data-ga=\"[&quot;home page&quot;,&quot;remote jobs click&quot;,&quot;looking for job section&quot;,null,null]\">\\r\\n                    <div class=\"grid--cell mr16\">\\r\\n                        <img width=\"50\" src=\"https://cdn.sstatic.net/Img/home/jobs-remote.svg?v=a4b4d1b5a80c\">\\r\\n                    </div>\\r\\n                    <div class=\"grid--cell\">\\r\\n                        Browse remote-friendly jobs\\r\\n                    </div>\\r\\n                </a>\\r\\n            </div>\\r\\n        </div>\\r\\n        <a class=\"grid--cell ml32 lg:ml0 fs-body2 ws-nowrap fc-white bg-orange-400 py12 px24 bar-sm js-gps-track\"\\r\\n           data-gps-track=\"product_homepage.browse_jobs.click({ filter: \\'None\\' })\"\\r\\n           href=\"/jobs\"\\r\\n           data-ga=\"[&quot;home page&quot;,&quot;view all jobs click&quot;,&quot;looking for job section&quot;,null,null]\">\\r\\n            View all jobs\\r\\n        </a>\\r\\n    </div>\\r\\n    <img class=\"ps-absolute r64 bn4\" width=\"51\" src=\"https://cdn.sstatic.net/Img/home/robot.svg?v=dfa16a330cbd\">\\r\\n</div>\\r\\n\\r\\n<style>\\r\\n/* Tour */\\r\\n.tour--controls {\\r\\n    font-size: 0;\\r\\n}\\r\\n\\r\\n.tour--item {\\r\\n    display: none;\\r\\n}\\r\\n.tour--item.is-expanded {\\r\\n    display: block;\\r\\n}\\r\\n\\r\\n/* Arrow for the active state */\\r\\n.tour--arrow {\\r\\n    position: absolute;\\r\\n    top: 0;\\r\\n    left: 100%;\\r\\n    height: 100%;\\r\\n    overflow: hidden;\\r\\n    width: 16px;\\r\\n}\\r\\n\\r\\n.tour--controls__right .tour--arrow {\\r\\n    left: auto;\\r\\n    right: 100%;\\r\\n}\\r\\n\\r\\n.tour--arrow:after {\\r\\n    position: absolute;\\r\\n    top: 50%;\\r\\n    left: -100%;\\r\\n    content: \\'\\';\\r\\n    width: 16px;\\r\\n    height: 16px;\\r\\n    background-color: #fff;\\r\\n    border: 1px solid #d6d9dc;\\r\\n    box-shadow: 2px 0 8px rgba(59, 64, 69, .1);\\r\\n    transform: translateY(-50%) translateX(-50%) rotate(45deg);\\r\\n    transition: all 0.2s;\\r\\n}\\r\\nbody.theme-dark .tour--arrow:after {\\r\\n    background: #f2f2f3;\\r\\n}\\r\\n\\r\\n.tour--controls__right .tour--arrow:after {\\r\\n    box-shadow: -2px 0 8px rgba(59, 64, 69, .1);\\r\\n    left: 200%;\\r\\n}\\r\\n\\r\\n.is-active .tour--arrow:after {\\r\\n    left: 0;\\r\\n}\\r\\n\\r\\n.tour--controls__right .is-active .tour--arrow:after {\\r\\n    left: 100%;\\r\\n}\\r\\n</style>\\r\\n\\r\\n<script>\\r\\n    $(\\'.js-scroll-link\\').on(\\'click\\', function(e) {\\r\\n        e.preventDefault();\\r\\n\\r\\n        $(\\'html, body\\').animate(\\r\\n            {\\r\\n                scrollTop: $($(this).attr(\\'href\\')).offset().top,\\r\\n            },\\r\\n            300,\\r\\n            \\'linear\\'\\r\\n        );\\r\\n    });\\r\\n\\r\\n    var tourAutoplay = 3500;\\r\\n    var tourItemActiveClass = [\"is-active\", \"bc-black-3\", \"bs-lg\", \"d:bg-black-900\", \"d:fc-white\"];\\r\\n\\r\\n    var tourTriggers = document.querySelectorAll(\\'.js-tour-area\\');\\r\\n    var tourIndex = 1;\\r\\n    var tourAutoplayer;\\r\\n\\r\\n    function tourInitAutoplay () {\\r\\n        tourAutoplayer = setInterval(function() {\\r\\n            tourTriggers[tourIndex].checked = true;\\r\\n\\r\\n            for (var i=0; tourTriggers.length > i; i++) {\\r\\n                var event;\\r\\n                if(typeof(Event) === \\'function\\') {\\r\\n                    event = new Event(\\'change\\');\\r\\n                } else {\\r\\n                    event = document.createEvent(\\'Event\\');\\r\\n                    event.initEvent(\\'change\\', true, true);\\r\\n                }\\r\\n\\r\\n                tourTriggers[i].dispatchEvent(event);\\r\\n            }\\r\\n\\r\\n            if (tourIndex >= tourTriggers.length - 1) {\\r\\n                tourIndex = 0;\\r\\n            } else {\\r\\n                tourIndex++;\\r\\n            }\\r\\n        }, tourAutoplay);\\r\\n    }\\r\\n\\r\\n    function tourKillAutoplay() {\\r\\n        clearInterval(tourAutoplayer);\\r\\n    }\\r\\n\\r\\n    tourInitAutoplay();\\r\\n\\r\\n    for (var i=0; tourTriggers.length > i; i++) {\\r\\n        tourTriggers[i].addEventListener(\\'s-expandable-control:show\\', function (el) {\\r\\n            Array.prototype.slice.call(tourItemActiveClass).forEach(function(e){el.target.parentNode.classList.add(e);});\\r\\n        }, false);\\r\\n\\r\\n        tourTriggers[i].addEventListener(\\'s-expandable-control:hide\\', function (el) {\\r\\n            Array.prototype.slice.call(tourItemActiveClass).forEach(function(e){el.target.parentNode.classList.remove(e);});\\r\\n        }, false);\\r\\n\\r\\n        tourTriggers[i].addEventListener(\\'click\\', function () {\\r\\n            tourKillAutoplay();\\r\\n        });\\r\\n\\r\\n        tourTriggers[i].addEventListener(\\'touchstart\\', function () {\\r\\n            tourKillAutoplay();\\r\\n        });\\r\\n    }\\r\\n</script>\\r\\n\\r\\n        </div>\\r\\n    </div>\\r\\n            <footer id=\"footer\" class=\"site-footer js-footer\" role=\"contentinfo\">\\r\\n        <div class=\"site-footer--container\">\\r\\n                <div class=\"site-footer--logo\">\\r\\n                    \\r\\n                    <a href=\"https://stackoverflow.com\"><svg aria-hidden=\"true\" class=\"native svg-icon iconLogoGlyphMd\" width=\"32\" height=\"37\" viewBox=\"0 0 32 37\"><path d=\"M26 33v-9h4v13H0V24h4v9h22z\" fill=\"#BCBBBB\"/><path d=\"M21.5 0l-2.7 2 9.9 13.3 2.7-2L21.5 0zM26 18.4L13.3 7.8l2.1-2.5 12.7 10.6-2.1 2.5zM9.1 15.2l15 7 1.4-3-15-7-1.4 3zm14 10.79l.68-2.95-16.1-3.35L7 23l16.1 2.99zM23 30H7v-3h16v3z\" fill=\"#F48024\"/></svg></a>\\r\\n                </div>\\r\\n            <nav class=\"site-footer--nav\">\\r\\n                    <div class=\"site-footer--col site-footer--col__visible js-footer-col\" data-name=\"default\">\\r\\n                        <h5 class=\"-title\"><a href=\"https://stackoverflow.com\" class=\"js-gps-track\" data-gps-track=\"footer.click({ location: 1, link: 15})\">Stack Overflow</a></h5>\\r\\n                        <ul class=\"-list js-primary-footer-links\">\\r\\n                            <li class=\"-item\"><a href=\"/questions\" class=\"js-gps-track -link\" data-gps-track=\"footer.click({ location: 1, link: 16})\">Questions</a></li>\\r\\n                                <li class=\"-item\"><a href=\"https://stackoverflow.com/jobs\" class=\"js-gps-track -link\" data-gps-track=\"footer.click({ location: 1, link: 17})\">Jobs</a></li>\\r\\n                                <li class=\"-item\"><a href=\"https://stackoverflow.com/jobs/directory/developer-jobs\" class=\"js-gps-track -link\" data-gps-track=\"footer.click({ location: 1, link: 11})\">Developer Jobs Directory</a></li>\\r\\n                                     <li class=\"-item\"><a href=\"https://stackoverflow.com/jobs/salary\" class=\"js-gps-track -link\" data-gps-track=\"footer.click({ location: 1, link: 28})\">Salary Calculator</a></li>\\r\\n                                <li class=\"-item\"><a href=\"/help\" class=\"js-gps-track -link\" data-gps-track=\"footer.click({ location: 1, link: 3 })\">Help</a></li>\\r\\n                                <li class=\"-item\"><a onclick=\\'StackExchange.switchMobile(\"on\")\\' class=\"js-gps-track -link\" data-gps-track=\"footer.click({ location: 1, link: 12 })\">Mobile</a></li>\\r\\n                        </ul>\\r\\n                    </div>\\r\\n                    <div class=\"site-footer--col site-footer--col__visible js-footer-col\" data-name=\"default\">\\r\\n                        <h5 class=\"-title\"><a href=\"https://stackoverflowbusiness.com\" class=\"js-gps-track\" data-gps-track=\"footer.click({ location: 1, link: 19 })\">Products</a></h5>\\r\\n                        <ul class=\"-list\">\\r\\n                            <li class=\"-item\"><a href=\"https://stackoverflow.com/teams\" class=\"js-gps-track -link\" \\r\\n                                                 data-ga=\"[&quot;teams traffic&quot;,&quot;footer - site nav&quot;,&quot;stackoverflow.com/teams&quot;,null,{&quot;dimension4&quot;:&quot;teams&quot;}]\"\\r\\n                                                 data-gps-track=\"footer.click({ location: 1, link: 29 })\">Teams</a></li>\\r\\n                            <li class=\"-item\"><a href=\"https://stackoverflow.com/talent\" class=\"js-gps-track -link\" data-gps-track=\"footer.click({ location: 1, link: 20 })\">Talent</a></li>\\r\\n                            <li class=\"-item\"><a href=\"https://stackoverflow.com/advertising\" class=\"js-gps-track -link\" data-gps-track=\"footer.click({ location: 1, link: 21 })\">Advertising</a></li>\\r\\n                            <li class=\"-item\"><a href=\"https://stackoverflow.com/enterprise\" class=\"js-gps-track -link\" data-gps-track=\"footer.click({ location: 1, link: 22 })\">Enterprise</a></li>\\r\\n                        </ul>\\r\\n                    </div>\\r\\n                <div class=\"site-footer--col site-footer--col__visible js-footer-col\" data-name=\"default\">\\r\\n                    <h5 class=\"-title\"><a class=\"js-gps-track\" data-gps-track=\"footer.click({ location: 1, link: 1 })\" href=\"https://stackoverflow.com/company\">Company</a></h5>\\r\\n                    <ul class=\"-list\">\\r\\n                            <li class=\"-item\"><a class=\"js-gps-track -link\" data-gps-track=\"footer.click({ location: 1, link: 1 })\" href=\"https://stackoverflow.com/company\">About</a></li>\\r\\n                        <li class=\"-item\"><a class=\"js-gps-track -link\" data-gps-track=\"footer.click({ location: 1, link: 27 })\" href=\"https://stackoverflow.com/company/press\">Press</a></li>\\r\\n                            <li class=\"-item\"><a class=\"js-gps-track -link\" data-gps-track=\"footer.click({ location: 1, link: 9 })\" href=\"https://stackoverflow.com/company/work-here\">Work Here</a></li>\\r\\n                        <li class=\"-item\"><a class=\"js-gps-track -link\" data-gps-track=\"footer.click({ location: 1, link: 7 })\" href=\"https://stackoverflow.com/legal\">Legal</a></li>\\r\\n                        <li class=\"-item\"><a class=\"js-gps-track -link\" data-gps-track=\"footer.click({ location: 1, link: 8 })\" href=\"https://stackoverflow.com/legal/privacy-policy\">Privacy Policy</a></li>\\r\\n                            <li class=\"-item\"><a class=\"js-gps-track -link\" data-gps-track=\"footer.click({ location: 1, link: 13 })\" href=\"https://stackoverflow.com/company/contact\">Contact Us</a></li>\\r\\n                    </ul>\\r\\n                </div>\\r\\n                <div class=\"site-footer--col site-footer--categories-nav site-footer--col__visible\">\\r\\n                    <a href=\"#\" class=\"site-footer--back js-footer-back\"><svg aria-hidden=\"true\" class=\"svg-icon iconArrowLeftAlt\" width=\"18\" height=\"18\" viewBox=\"0 0 18 18\"><path d=\"M10.58 16L12 14.59 6.4 9 12 3.41 10.57 2l-7 7 7 7z\"/></svg></a>\\r\\n                    <div>\\r\\n                        <h5 class=\"-title\"><a href=\"https://stackexchange.com\" data-gps-track=\"footer.click({ location: 1, link: 30 })\">Stack Exchange<br> Network</a></h5>\\r\\n                        <ul class=\"-list\">\\r\\n                            <li class=\"-item\"><a href=\"#\" class=\"-link _expandable js-footer-category-trigger js-gps-track\" data-gps-track=\"footer.click({ location: 1, link: 24 })\" data-target=\"Technology\">Technology</a></li>\\r\\n                            <li class=\"-item\"><a href=\"#\" class=\"-link _expandable js-footer-category-trigger js-gps-track\" data-gps-track=\"footer.click({ location: 1, link: 24 })\" data-target=\"Life / Arts\">Life / Arts</a></li>\\r\\n                            <li class=\"-item\"><a href=\"#\" class=\"-link _expandable js-footer-category-trigger js-gps-track\" data-gps-track=\"footer.click({ location: 1, link: 24 })\" data-target=\"Culture / Recreation\">Culture / Recreation</a></li>\\r\\n                            <li class=\"-item\"><a href=\"#\" class=\"-link _expandable js-footer-category-trigger js-gps-track\" data-gps-track=\"footer.click({ location: 1, link: 24 })\" data-target=\"Science\">Science</a></li>\\r\\n                            <li class=\"-item\"><a href=\"#\" class=\"-link _expandable js-footer-category-trigger js-gps-track\" data-gps-track=\"footer.click({ location: 1, link: 24 })\" data-target=\"Other\">Other</a></li>\\r\\n                        </ul>\\r\\n                    </div>\\r\\n                </div>\\r\\n                <div class=\"site-footer--categories\">\\r\\n                        <div class=\"site-footer--col site-footer--category js-footer-col\" data-name=\"Technology\">\\r\\n        <ul class=\"-list\">\\r\\n                <li class=\"-item\"><a href=\"https://stackoverflow.com\" class=\"-link js-gps-track\" data-gps-track=\"footer.click({ location: 2, link: 25 })\" title=\"professional and enthusiast programmers\">Stack Overflow</a></li>\\r\\n                <li class=\"-item\"><a href=\"https://serverfault.com\" class=\"-link js-gps-track\" data-gps-track=\"footer.click({ location: 2, link: 25 })\" title=\"system and network administrators\">Server Fault</a></li>\\r\\n                <li class=\"-item\"><a href=\"https://superuser.com\" class=\"-link js-gps-track\" data-gps-track=\"footer.click({ location: 2, link: 25 })\" title=\"computer enthusiasts and power users\">Super User</a></li>\\r\\n                <li class=\"-item\"><a href=\"https://webapps.stackexchange.com\" class=\"-link js-gps-track\" data-gps-track=\"footer.click({ location: 2, link: 25 })\" title=\"power users of web applications\">Web Applications</a></li>\\r\\n                <li class=\"-item\"><a href=\"https://askubuntu.com\" class=\"-link js-gps-track\" data-gps-track=\"footer.click({ location: 2, link: 25 })\" title=\"Ubuntu users and developers\">Ask Ubuntu</a></li>\\r\\n                <li class=\"-item\"><a href=\"https://webmasters.stackexchange.com\" class=\"-link js-gps-track\" data-gps-track=\"footer.click({ location: 2, link: 25 })\" title=\"pro webmasters\">Webmasters</a></li>\\r\\n                <li class=\"-item\"><a href=\"https://gamedev.stackexchange.com\" class=\"-link js-gps-track\" data-gps-track=\"footer.click({ location: 2, link: 25 })\" title=\"professional and independent game developers\">Game Development</a></li>\\r\\n                    </ul></div><div class=\"site-footer--col site-footer--category js-footer-col\" data-name=\"Technology\"><ul class=\"-list\">\\r\\n                <li class=\"-item\"><a href=\"https://tex.stackexchange.com\" class=\"-link js-gps-track\" data-gps-track=\"footer.click({ location: 2, link: 25 })\" title=\"users of TeX, LaTeX, ConTeXt, and related typesetting systems\">TeX - LaTeX</a></li>\\r\\n                <li class=\"-item\"><a href=\"https://softwareengineering.stackexchange.com\" class=\"-link js-gps-track\" data-gps-track=\"footer.click({ location: 2, link: 25 })\" title=\"professionals, academics, and students working within the systems development life cycle\">Software Engineering</a></li>\\r\\n                <li class=\"-item\"><a href=\"https://unix.stackexchange.com\" class=\"-link js-gps-track\" data-gps-track=\"footer.click({ location: 2, link: 25 })\" title=\"users of Linux, FreeBSD and other Un*x-like operating systems\">Unix &amp; Linux</a></li>\\r\\n                <li class=\"-item\"><a href=\"https://apple.stackexchange.com\" class=\"-link js-gps-track\" data-gps-track=\"footer.click({ location: 2, link: 25 })\" title=\"power users of Apple hardware and software\">Ask Different (Apple)</a></li>\\r\\n                <li class=\"-item\"><a href=\"https://wordpress.stackexchange.com\" class=\"-link js-gps-track\" data-gps-track=\"footer.click({ location: 2, link: 25 })\" title=\"WordPress developers and administrators\">WordPress Development</a></li>\\r\\n                <li class=\"-item\"><a href=\"https://gis.stackexchange.com\" class=\"-link js-gps-track\" data-gps-track=\"footer.click({ location: 2, link: 25 })\" title=\"cartographers, geographers and GIS professionals\">Geographic Information Systems</a></li>\\r\\n                <li class=\"-item\"><a href=\"https://electronics.stackexchange.com\" class=\"-link js-gps-track\" data-gps-track=\"footer.click({ location: 2, link: 25 })\" title=\"electronics and electrical engineering professionals, students, and enthusiasts\">Electrical Engineering</a></li>\\r\\n                    </ul></div><div class=\"site-footer--col site-footer--category js-footer-col\" data-name=\"Technology\"><ul class=\"-list\">\\r\\n                <li class=\"-item\"><a href=\"https://android.stackexchange.com\" class=\"-link js-gps-track\" data-gps-track=\"footer.click({ location: 2, link: 25 })\" title=\"enthusiasts and power users of the Android operating system\">Android Enthusiasts</a></li>\\r\\n                <li class=\"-item\"><a href=\"https://security.stackexchange.com\" class=\"-link js-gps-track\" data-gps-track=\"footer.click({ location: 2, link: 25 })\" title=\"information security professionals\">Information Security</a></li>\\r\\n                <li class=\"-item\"><a href=\"https://dba.stackexchange.com\" class=\"-link js-gps-track\" data-gps-track=\"footer.click({ location: 2, link: 25 })\" title=\"database professionals who wish to improve their database skills and learn from others in the community\">Database Administrators</a></li>\\r\\n                <li class=\"-item\"><a href=\"https://drupal.stackexchange.com\" class=\"-link js-gps-track\" data-gps-track=\"footer.click({ location: 2, link: 25 })\" title=\"Drupal developers and administrators\">Drupal Answers</a></li>\\r\\n                <li class=\"-item\"><a href=\"https://sharepoint.stackexchange.com\" class=\"-link js-gps-track\" data-gps-track=\"footer.click({ location: 2, link: 25 })\" title=\"SharePoint enthusiasts\">SharePoint</a></li>\\r\\n                <li class=\"-item\"><a href=\"https://ux.stackexchange.com\" class=\"-link js-gps-track\" data-gps-track=\"footer.click({ location: 2, link: 25 })\" title=\"user experience researchers and experts\">User Experience</a></li>\\r\\n                <li class=\"-item\"><a href=\"https://mathematica.stackexchange.com\" class=\"-link js-gps-track\" data-gps-track=\"footer.click({ location: 2, link: 25 })\" title=\"users of Wolfram Mathematica\">Mathematica</a></li>\\r\\n                    </ul></div><div class=\"site-footer--col site-footer--category js-footer-col\" data-name=\"Technology\"><ul class=\"-list\">\\r\\n                <li class=\"-item\"><a href=\"https://salesforce.stackexchange.com\" class=\"-link js-gps-track\" data-gps-track=\"footer.click({ location: 2, link: 25 })\" title=\"Salesforce administrators, implementation experts, developers and anybody in-between\">Salesforce</a></li>\\r\\n                <li class=\"-item\"><a href=\"https://expressionengine.stackexchange.com\" class=\"-link js-gps-track\" data-gps-track=\"footer.click({ location: 2, link: 25 })\" title=\"administrators, end users, developers and designers for ExpressionEngine&#xAE; CMS\">ExpressionEngine&#xAE; Answers</a></li>\\r\\n                <li class=\"-item\"><a href=\"https://pt.stackoverflow.com\" class=\"-link js-gps-track\" data-gps-track=\"footer.click({ location: 2, link: 25 })\" title=\"programadores profissionais e entusiastas\">Stack Overflow em Portugu&#xEA;s</a></li>\\r\\n                <li class=\"-item\"><a href=\"https://blender.stackexchange.com\" class=\"-link js-gps-track\" data-gps-track=\"footer.click({ location: 2, link: 25 })\" title=\"people who use Blender to create 3D graphics, animations, or games\">Blender</a></li>\\r\\n                <li class=\"-item\"><a href=\"https://networkengineering.stackexchange.com\" class=\"-link js-gps-track\" data-gps-track=\"footer.click({ location: 2, link: 25 })\" title=\"network engineers\">Network Engineering</a></li>\\r\\n                <li class=\"-item\"><a href=\"https://crypto.stackexchange.com\" class=\"-link js-gps-track\" data-gps-track=\"footer.click({ location: 2, link: 25 })\" title=\"software developers, mathematicians and others interested in cryptography\">Cryptography</a></li>\\r\\n                <li class=\"-item\"><a href=\"https://codereview.stackexchange.com\" class=\"-link js-gps-track\" data-gps-track=\"footer.click({ location: 2, link: 25 })\" title=\"peer programmer code reviews\">Code Review</a></li>\\r\\n                    </ul></div><div class=\"site-footer--col site-footer--category js-footer-col\" data-name=\"Technology\"><ul class=\"-list\">\\r\\n                <li class=\"-item\"><a href=\"https://magento.stackexchange.com\" class=\"-link js-gps-track\" data-gps-track=\"footer.click({ location: 2, link: 25 })\" title=\"users of the Magento e-Commerce platform\">Magento</a></li>\\r\\n                <li class=\"-item\"><a href=\"https://softwarerecs.stackexchange.com\" class=\"-link js-gps-track\" data-gps-track=\"footer.click({ location: 2, link: 25 })\" title=\"people seeking specific software recommendations\">Software Recommendations</a></li>\\r\\n                <li class=\"-item\"><a href=\"https://dsp.stackexchange.com\" class=\"-link js-gps-track\" data-gps-track=\"footer.click({ location: 2, link: 25 })\" title=\"practitioners of the art and science of signal, image and video processing\">Signal Processing</a></li>\\r\\n                <li class=\"-item\"><a href=\"https://emacs.stackexchange.com\" class=\"-link js-gps-track\" data-gps-track=\"footer.click({ location: 2, link: 25 })\" title=\"those using, extending or developing Emacs\">Emacs</a></li>\\r\\n                <li class=\"-item\"><a href=\"https://raspberrypi.stackexchange.com\" class=\"-link js-gps-track\" data-gps-track=\"footer.click({ location: 2, link: 25 })\" title=\"users and developers of hardware and software for Raspberry Pi\">Raspberry Pi</a></li>\\r\\n                <li class=\"-item\"><a href=\"https://ru.stackoverflow.com\" class=\"-link js-gps-track\" data-gps-track=\"footer.click({ location: 2, link: 25 })\" title=\"&#x43F;&#x440;&#x43E;&#x433;&#x440;&#x430;&#x43C;&#x43C;&#x438;&#x441;&#x442;&#x43E;&#x432;\">Stack Overflow &#x43D;&#x430; &#x440;&#x443;&#x441;&#x441;&#x43A;&#x43E;&#x43C;</a></li>\\r\\n                <li class=\"-item\"><a href=\"https://codegolf.stackexchange.com\" class=\"-link js-gps-track\" data-gps-track=\"footer.click({ location: 2, link: 25 })\" title=\"programming puzzle enthusiasts and code golfers\">Code Golf</a></li>\\r\\n                    </ul></div><div class=\"site-footer--col site-footer--category js-footer-col\" data-name=\"Technology\"><ul class=\"-list\">\\r\\n                <li class=\"-item\"><a href=\"https://es.stackoverflow.com\" class=\"-link js-gps-track\" data-gps-track=\"footer.click({ location: 2, link: 25 })\" title=\"programadores y profesionales de la inform&#xE1;tica\">Stack Overflow en espa&#xF1;ol</a></li>\\r\\n                <li class=\"-item\"><a href=\"https://ethereum.stackexchange.com\" class=\"-link js-gps-track\" data-gps-track=\"footer.click({ location: 2, link: 25 })\" title=\"users of Ethereum, the decentralized application platform and smart contract enabled blockchain\">Ethereum</a></li>\\r\\n                <li class=\"-item\"><a href=\"https://datascience.stackexchange.com\" class=\"-link js-gps-track\" data-gps-track=\"footer.click({ location: 2, link: 25 })\" title=\"Data science professionals, Machine Learning specialists, and those interested in learning more about the field\">Data Science</a></li>\\r\\n                <li class=\"-item\"><a href=\"https://arduino.stackexchange.com\" class=\"-link js-gps-track\" data-gps-track=\"footer.click({ location: 2, link: 25 })\" title=\"developers of open-source hardware and software that is compatible with Arduino\">Arduino</a></li>\\r\\n                <li class=\"-item\"><a href=\"https://bitcoin.stackexchange.com\" class=\"-link js-gps-track\" data-gps-track=\"footer.click({ location: 2, link: 25 })\" title=\"Bitcoin crypto-currency enthusiasts\">Bitcoin</a></li>\\r\\n                <li class=\"-item\"><a href=\"https://sqa.stackexchange.com\" class=\"-link js-gps-track\" data-gps-track=\"footer.click({ location: 2, link: 25 })\" title=\"software quality control experts, automation engineers, and software testers\">Software Quality Assurance &amp; Testing</a></li>\\r\\n                <li class=\"-item\"><a href=\"https://sound.stackexchange.com\" class=\"-link js-gps-track\" data-gps-track=\"footer.click({ location: 2, link: 25 })\" title=\"sound engineers, producers, editors, and enthusiasts\">Sound Design</a></li>\\r\\n                    </ul></div><div class=\"site-footer--col site-footer--category js-footer-col\" data-name=\"Technology\"><ul class=\"-list\">\\r\\n                <li class=\"-item\"><a href=\"https://windowsphone.stackexchange.com\" class=\"-link js-gps-track\" data-gps-track=\"footer.click({ location: 2, link: 25 })\" title=\"enthusiasts and power users of Windows Phone OS\">Windows Phone</a></li>\\r\\n                <li class=\"-item\">\\r\\n                    <a href=\"https://stackexchange.com/sites#technology\" class=\"-link js-gps-track\" data-gps-track=\"footer.click({ location: 2, link: 26 })\">\\r\\n                        <strong>\\r\\n                            more (28)\\r\\n                        </strong>\\r\\n                    </a>\\r\\n                </li>\\r\\n        </ul>\\r\\n    </div>\\r\\n    <div class=\"site-footer--col site-footer--category js-footer-col\" data-name=\"Life / Arts\">\\r\\n        <ul class=\"-list\">\\r\\n                <li class=\"-item\"><a href=\"https://photo.stackexchange.com\" class=\"-link js-gps-track\" data-gps-track=\"footer.click({ location: 2, link: 25 })\" title=\"professional, enthusiast and amateur photographers\">Photography</a></li>\\r\\n                <li class=\"-item\"><a href=\"https://scifi.stackexchange.com\" class=\"-link js-gps-track\" data-gps-track=\"footer.click({ location: 2, link: 25 })\" title=\"science fiction and fantasy enthusiasts\">Science Fiction &amp; Fantasy</a></li>\\r\\n                <li class=\"-item\"><a href=\"https://graphicdesign.stackexchange.com\" class=\"-link js-gps-track\" data-gps-track=\"footer.click({ location: 2, link: 25 })\" title=\"Graphic Design professionals, students, and enthusiasts\">Graphic Design</a></li>\\r\\n                <li class=\"-item\"><a href=\"https://movies.stackexchange.com\" class=\"-link js-gps-track\" data-gps-track=\"footer.click({ location: 2, link: 25 })\" title=\"movie and TV enthusiasts\">Movies &amp; TV</a></li>\\r\\n                <li class=\"-item\"><a href=\"https://music.stackexchange.com\" class=\"-link js-gps-track\" data-gps-track=\"footer.click({ location: 2, link: 25 })\" title=\"musicians, students, and enthusiasts\">Music: Practice &amp; Theory</a></li>\\r\\n                <li class=\"-item\"><a href=\"https://worldbuilding.stackexchange.com\" class=\"-link js-gps-track\" data-gps-track=\"footer.click({ location: 2, link: 25 })\" title=\"writers/artists using science, geography and culture to construct imaginary worlds and settings\">Worldbuilding</a></li>\\r\\n                <li class=\"-item\"><a href=\"https://video.stackexchange.com\" class=\"-link js-gps-track\" data-gps-track=\"footer.click({ location: 2, link: 25 })\" title=\"engineers, producers, editors, and enthusiasts spanning the fields of video, and media creation\">Video Production</a></li>\\r\\n                    </ul></div><div class=\"site-footer--col site-footer--category js-footer-col\" data-name=\"Life / Arts\"><ul class=\"-list\">\\r\\n                <li class=\"-item\"><a href=\"https://cooking.stackexchange.com\" class=\"-link js-gps-track\" data-gps-track=\"footer.click({ location: 2, link: 25 })\" title=\"professional and amateur chefs\">Seasoned Advice (cooking)</a></li>\\r\\n                <li class=\"-item\"><a href=\"https://diy.stackexchange.com\" class=\"-link js-gps-track\" data-gps-track=\"footer.click({ location: 2, link: 25 })\" title=\"contractors and serious DIYers\">Home Improvement</a></li>\\r\\n                <li class=\"-item\"><a href=\"https://money.stackexchange.com\" class=\"-link js-gps-track\" data-gps-track=\"footer.click({ location: 2, link: 25 })\" title=\"people who want to be financially literate\">Personal Finance &amp; Money</a></li>\\r\\n                <li class=\"-item\"><a href=\"https://academia.stackexchange.com\" class=\"-link js-gps-track\" data-gps-track=\"footer.click({ location: 2, link: 25 })\" title=\"academics and those enrolled in higher education\">Academia</a></li>\\r\\n                <li class=\"-item\"><a href=\"https://law.stackexchange.com\" class=\"-link js-gps-track\" data-gps-track=\"footer.click({ location: 2, link: 25 })\" title=\"legal professionals, students, and others with experience or interest in law\">Law</a></li>\\r\\n                <li class=\"-item\"><a href=\"https://fitness.stackexchange.com\" class=\"-link js-gps-track\" data-gps-track=\"footer.click({ location: 2, link: 25 })\" title=\"physical fitness professionals, athletes, trainers, and those providing health-related needs\">Physical Fitness</a></li>\\r\\n                <li class=\"-item\"><a href=\"https://gardening.stackexchange.com\" class=\"-link js-gps-track\" data-gps-track=\"footer.click({ location: 2, link: 25 })\" title=\"gardeners and landscapers\">Gardening &amp; Landscaping</a></li>\\r\\n                    </ul></div><div class=\"site-footer--col site-footer--category js-footer-col\" data-name=\"Life / Arts\"><ul class=\"-list\">\\r\\n                <li class=\"-item\"><a href=\"https://parenting.stackexchange.com\" class=\"-link js-gps-track\" data-gps-track=\"footer.click({ location: 2, link: 25 })\" title=\"parents, grandparents, nannies and others with a parenting role\">Parenting</a></li>\\r\\n                <li class=\"-item\">\\r\\n                    <a href=\"https://stackexchange.com/sites#lifearts\" class=\"-link js-gps-track\" data-gps-track=\"footer.click({ location: 2, link: 26 })\">\\r\\n                        <strong>\\r\\n                            more (10)\\r\\n                        </strong>\\r\\n                    </a>\\r\\n                </li>\\r\\n        </ul>\\r\\n    </div>\\r\\n    <div class=\"site-footer--col site-footer--category js-footer-col\" data-name=\"Culture / Recreation\">\\r\\n        <ul class=\"-list\">\\r\\n                <li class=\"-item\"><a href=\"https://english.stackexchange.com\" class=\"-link js-gps-track\" data-gps-track=\"footer.click({ location: 2, link: 25 })\" title=\"linguists, etymologists, and serious English language enthusiasts\">English Language &amp; Usage</a></li>\\r\\n                <li class=\"-item\"><a href=\"https://skeptics.stackexchange.com\" class=\"-link js-gps-track\" data-gps-track=\"footer.click({ location: 2, link: 25 })\" title=\"scientific skepticism\">Skeptics</a></li>\\r\\n                <li class=\"-item\"><a href=\"https://judaism.stackexchange.com\" class=\"-link js-gps-track\" data-gps-track=\"footer.click({ location: 2, link: 25 })\" title=\"those who base their lives on Jewish law and tradition and anyone interested in learning more\">Mi Yodeya (Judaism)</a></li>\\r\\n                <li class=\"-item\"><a href=\"https://travel.stackexchange.com\" class=\"-link js-gps-track\" data-gps-track=\"footer.click({ location: 2, link: 25 })\" title=\"road warriors and seasoned travelers\">Travel</a></li>\\r\\n                <li class=\"-item\"><a href=\"https://christianity.stackexchange.com\" class=\"-link js-gps-track\" data-gps-track=\"footer.click({ location: 2, link: 25 })\" title=\"committed Christians, experts in Christianity and those interested in learning more\">Christianity</a></li>\\r\\n                <li class=\"-item\"><a href=\"https://ell.stackexchange.com\" class=\"-link js-gps-track\" data-gps-track=\"footer.click({ location: 2, link: 25 })\" title=\"speakers of other languages learning English\">English Language Learners</a></li>\\r\\n                <li class=\"-item\"><a href=\"https://japanese.stackexchange.com\" class=\"-link js-gps-track\" data-gps-track=\"footer.click({ location: 2, link: 25 })\" title=\"students, teachers, and linguists wanting to discuss the finer points of the Japanese language\">Japanese Language</a></li>\\r\\n                    </ul></div><div class=\"site-footer--col site-footer--category js-footer-col\" data-name=\"Culture / Recreation\"><ul class=\"-list\">\\r\\n                <li class=\"-item\"><a href=\"https://chinese.stackexchange.com\" class=\"-link js-gps-track\" data-gps-track=\"footer.click({ location: 2, link: 25 })\" title=\"students, teachers, and linguists wanting to discuss the finer points of the Chinese language\">Chinese Language</a></li>\\r\\n                <li class=\"-item\"><a href=\"https://french.stackexchange.com\" class=\"-link js-gps-track\" data-gps-track=\"footer.click({ location: 2, link: 25 })\" title=\"students, teachers, and linguists wanting to discuss the finer points of the French language\">French Language</a></li>\\r\\n                <li class=\"-item\"><a href=\"https://german.stackexchange.com\" class=\"-link js-gps-track\" data-gps-track=\"footer.click({ location: 2, link: 25 })\" title=\"speakers of German wanting to discuss the finer points of the language and translation\">German Language</a></li>\\r\\n                <li class=\"-item\"><a href=\"https://hermeneutics.stackexchange.com\" class=\"-link js-gps-track\" data-gps-track=\"footer.click({ location: 2, link: 25 })\" title=\"professors, theologians, and those interested in exegetical analysis of biblical texts\">Biblical Hermeneutics</a></li>\\r\\n                <li class=\"-item\"><a href=\"https://history.stackexchange.com\" class=\"-link js-gps-track\" data-gps-track=\"footer.click({ location: 2, link: 25 })\" title=\"historians and history buffs\">History</a></li>\\r\\n                <li class=\"-item\"><a href=\"https://spanish.stackexchange.com\" class=\"-link js-gps-track\" data-gps-track=\"footer.click({ location: 2, link: 25 })\" title=\"linguists, teachers, students and Spanish language enthusiasts in general wanting to discuss the finer points of the language\">Spanish Language</a></li>\\r\\n                <li class=\"-item\"><a href=\"https://islam.stackexchange.com\" class=\"-link js-gps-track\" data-gps-track=\"footer.click({ location: 2, link: 25 })\" title=\"Muslims, experts in Islam, and those interested in learning more about Islam\">Islam</a></li>\\r\\n                    </ul></div><div class=\"site-footer--col site-footer--category js-footer-col\" data-name=\"Culture / Recreation\"><ul class=\"-list\">\\r\\n                <li class=\"-item\"><a href=\"https://rus.stackexchange.com\" class=\"-link js-gps-track\" data-gps-track=\"footer.click({ location: 2, link: 25 })\" title=\"&#x43B;&#x438;&#x43D;&#x433;&#x432;&#x438;&#x441;&#x442;&#x43E;&#x432; &#x438; &#x44D;&#x43D;&#x442;&#x443;&#x437;&#x438;&#x430;&#x441;&#x442;&#x43E;&#x432; &#x440;&#x443;&#x441;&#x441;&#x43A;&#x43E;&#x433;&#x43E; &#x44F;&#x437;&#x44B;&#x43A;&#x430;\">&#x420;&#x443;&#x441;&#x441;&#x43A;&#x438;&#x439; &#x44F;&#x437;&#x44B;&#x43A;</a></li>\\r\\n                <li class=\"-item\"><a href=\"https://russian.stackexchange.com\" class=\"-link js-gps-track\" data-gps-track=\"footer.click({ location: 2, link: 25 })\" title=\"students, teachers, and linguists wanting to discuss the finer points of the Russian language\">Russian Language</a></li>\\r\\n                <li class=\"-item\"><a href=\"https://gaming.stackexchange.com\" class=\"-link js-gps-track\" data-gps-track=\"footer.click({ location: 2, link: 25 })\" title=\"passionate videogamers on all platforms\">Arqade (gaming)</a></li>\\r\\n                <li class=\"-item\"><a href=\"https://bicycles.stackexchange.com\" class=\"-link js-gps-track\" data-gps-track=\"footer.click({ location: 2, link: 25 })\" title=\"people who build and repair bicycles, people who train cycling, or commute on bicycles\">Bicycles</a></li>\\r\\n                <li class=\"-item\"><a href=\"https://rpg.stackexchange.com\" class=\"-link js-gps-track\" data-gps-track=\"footer.click({ location: 2, link: 25 })\" title=\"gamemasters and players of tabletop, paper-and-pencil role-playing games\">Role-playing Games</a></li>\\r\\n                <li class=\"-item\"><a href=\"https://anime.stackexchange.com\" class=\"-link js-gps-track\" data-gps-track=\"footer.click({ location: 2, link: 25 })\" title=\"anime and manga fans\">Anime &amp; Manga</a></li>\\r\\n                <li class=\"-item\"><a href=\"https://puzzling.stackexchange.com\" class=\"-link js-gps-track\" data-gps-track=\"footer.click({ location: 2, link: 25 })\" title=\"those who create, solve, and study puzzles\">Puzzling</a></li>\\r\\n                    </ul></div><div class=\"site-footer--col site-footer--category js-footer-col\" data-name=\"Culture / Recreation\"><ul class=\"-list\">\\r\\n                <li class=\"-item\"><a href=\"https://mechanics.stackexchange.com\" class=\"-link js-gps-track\" data-gps-track=\"footer.click({ location: 2, link: 25 })\" title=\"mechanics and DIY enthusiast owners of cars, trucks, and motorcycles\">Motor Vehicle Maintenance &amp; Repair</a></li>\\r\\n                <li class=\"-item\"><a href=\"https://boardgames.stackexchange.com\" class=\"-link js-gps-track\" data-gps-track=\"footer.click({ location: 2, link: 25 })\" title=\"people who like playing board games, designing board games or modifying the rules of existing board games\">Board &amp; Card Games</a></li>\\r\\n                <li class=\"-item\"><a href=\"https://bricks.stackexchange.com\" class=\"-link js-gps-track\" data-gps-track=\"footer.click({ location: 2, link: 25 })\" title=\"LEGO&#xAE; and building block enthusiasts\">Bricks</a></li>\\r\\n                <li class=\"-item\"><a href=\"https://homebrew.stackexchange.com\" class=\"-link js-gps-track\" data-gps-track=\"footer.click({ location: 2, link: 25 })\" title=\"dedicated home brewers and serious enthusiasts\">Homebrewing</a></li>\\r\\n                <li class=\"-item\"><a href=\"https://martialarts.stackexchange.com\" class=\"-link js-gps-track\" data-gps-track=\"footer.click({ location: 2, link: 25 })\" title=\"students and teachers of all martial arts\">Martial Arts</a></li>\\r\\n                <li class=\"-item\"><a href=\"https://outdoors.stackexchange.com\" class=\"-link js-gps-track\" data-gps-track=\"footer.click({ location: 2, link: 25 })\" title=\"people who love being outdoors enjoying nature and wilderness, and learning about the required skills and equipment\">The Great Outdoors</a></li>\\r\\n                <li class=\"-item\"><a href=\"https://poker.stackexchange.com\" class=\"-link js-gps-track\" data-gps-track=\"footer.click({ location: 2, link: 25 })\" title=\"serious players and enthusiasts of poker\">Poker</a></li>\\r\\n                    </ul></div><div class=\"site-footer--col site-footer--category js-footer-col\" data-name=\"Culture / Recreation\"><ul class=\"-list\">\\r\\n                <li class=\"-item\"><a href=\"https://chess.stackexchange.com\" class=\"-link js-gps-track\" data-gps-track=\"footer.click({ location: 2, link: 25 })\" title=\"serious players and enthusiasts of chess\">Chess</a></li>\\r\\n                <li class=\"-item\"><a href=\"https://sports.stackexchange.com\" class=\"-link js-gps-track\" data-gps-track=\"footer.click({ location: 2, link: 25 })\" title=\"participants in team and individual sport activities\">Sports</a></li>\\r\\n                <li class=\"-item\">\\r\\n                    <a href=\"https://stackexchange.com/sites#culturerecreation\" class=\"-link js-gps-track\" data-gps-track=\"footer.click({ location: 2, link: 26 })\">\\r\\n                        <strong>\\r\\n                            more (16)\\r\\n                        </strong>\\r\\n                    </a>\\r\\n                </li>\\r\\n        </ul>\\r\\n    </div>\\r\\n    <div class=\"site-footer--col site-footer--category js-footer-col\" data-name=\"Science\">\\r\\n        <ul class=\"-list\">\\r\\n                <li class=\"-item\"><a href=\"https://mathoverflow.net\" class=\"-link js-gps-track\" data-gps-track=\"footer.click({ location: 2, link: 25 })\" title=\"professional mathematicians\">MathOverflow</a></li>\\r\\n                <li class=\"-item\"><a href=\"https://math.stackexchange.com\" class=\"-link js-gps-track\" data-gps-track=\"footer.click({ location: 2, link: 25 })\" title=\"people studying math at any level and professionals in related fields\">Mathematics</a></li>\\r\\n                <li class=\"-item\"><a href=\"https://stats.stackexchange.com\" class=\"-link js-gps-track\" data-gps-track=\"footer.click({ location: 2, link: 25 })\" title=\"people interested in statistics, machine learning, data analysis, data mining, and data visualization\">Cross Validated (stats)</a></li>\\r\\n                <li class=\"-item\"><a href=\"https://cstheory.stackexchange.com\" class=\"-link js-gps-track\" data-gps-track=\"footer.click({ location: 2, link: 25 })\" title=\"theoretical computer scientists and researchers in related fields\">Theoretical Computer Science</a></li>\\r\\n                <li class=\"-item\"><a href=\"https://physics.stackexchange.com\" class=\"-link js-gps-track\" data-gps-track=\"footer.click({ location: 2, link: 25 })\" title=\"active researchers, academics and students of physics\">Physics</a></li>\\r\\n                <li class=\"-item\"><a href=\"https://chemistry.stackexchange.com\" class=\"-link js-gps-track\" data-gps-track=\"footer.click({ location: 2, link: 25 })\" title=\"scientists, academics, teachers, and students in the field of chemistry\">Chemistry</a></li>\\r\\n                <li class=\"-item\"><a href=\"https://biology.stackexchange.com\" class=\"-link js-gps-track\" data-gps-track=\"footer.click({ location: 2, link: 25 })\" title=\"biology researchers, academics, and students\">Biology</a></li>\\r\\n                    </ul></div><div class=\"site-footer--col site-footer--category js-footer-col\" data-name=\"Science\"><ul class=\"-list\">\\r\\n                <li class=\"-item\"><a href=\"https://cs.stackexchange.com\" class=\"-link js-gps-track\" data-gps-track=\"footer.click({ location: 2, link: 25 })\" title=\"students, researchers and practitioners of computer science\">Computer Science</a></li>\\r\\n                <li class=\"-item\"><a href=\"https://philosophy.stackexchange.com\" class=\"-link js-gps-track\" data-gps-track=\"footer.click({ location: 2, link: 25 })\" title=\"those interested in the study of the fundamental nature of knowledge, reality, and existence\">Philosophy</a></li>\\r\\n                <li class=\"-item\"><a href=\"https://linguistics.stackexchange.com\" class=\"-link js-gps-track\" data-gps-track=\"footer.click({ location: 2, link: 25 })\" title=\"professional linguists and others with an interest in linguistic research and theory\">Linguistics</a></li>\\r\\n                <li class=\"-item\"><a href=\"https://psychology.stackexchange.com\" class=\"-link js-gps-track\" data-gps-track=\"footer.click({ location: 2, link: 25 })\" title=\"practitioners, researchers, and students in cognitive science, psychology, neuroscience, and psychiatry\">Psychology &amp; Neuroscience</a></li>\\r\\n                <li class=\"-item\"><a href=\"https://scicomp.stackexchange.com\" class=\"-link js-gps-track\" data-gps-track=\"footer.click({ location: 2, link: 25 })\" title=\"scientists using computers to solve scientific problems\">Computational Science</a></li>\\r\\n                <li class=\"-item\">\\r\\n                    <a href=\"https://stackexchange.com/sites#science\" class=\"-link js-gps-track\" data-gps-track=\"footer.click({ location: 2, link: 26 })\">\\r\\n                        <strong>\\r\\n                            more (10)\\r\\n                        </strong>\\r\\n                    </a>\\r\\n                </li>\\r\\n        </ul>\\r\\n    </div>\\r\\n    <div class=\"site-footer--col site-footer--category js-footer-col\" data-name=\"Other\">\\r\\n        <ul class=\"-list\">\\r\\n                <li class=\"-item\"><a href=\"https://meta.stackexchange.com\" class=\"-link js-gps-track\" data-gps-track=\"footer.click({ location: 2, link: 25 })\" title=\"meta-discussion of the Stack Exchange family of Q&amp;A websites\">Meta Stack Exchange</a></li>\\r\\n                <li class=\"-item\"><a href=\"https://stackapps.com\" class=\"-link js-gps-track\" data-gps-track=\"footer.click({ location: 2, link: 25 })\" title=\"apps, scripts, and development with the Stack Exchange API\">Stack Apps</a></li>\\r\\n                <li class=\"-item\"><a href=\"https://api.stackexchange.com\" class=\"-link js-gps-track\" data-gps-track=\"footer.click({ location: 2, link: 25 })\" title=\"programmatic interaction with Stack Exchange sites\">API</a></li>\\r\\n                <li class=\"-item\"><a href=\"https://data.stackexchange.com\" class=\"-link js-gps-track\" data-gps-track=\"footer.click({ location: 2, link: 25 })\" title=\"querying Stack Exchange data using SQL\">Data</a></li>\\r\\n        </ul>\\r\\n    </div>\\r\\n\\r\\n                </div>\\r\\n            </nav>\\r\\n            <div class=\"site-footer--copyright fs-fine\">\\r\\n                <ul class=\"-list\">\\r\\n                    <li class=\"-item\"><a class=\"js-gps-track -link\" data-gps-track=\"footer.click({ location: 1, link:4 })\" href=\"https://stackoverflow.blog?blb=1\">Blog</a></li>\\r\\n                    <li class=\"-item\"><a href=\"https://www.facebook.com/officialstackoverflow/\" class=\"-link js-gps-track\" data-gps-track=\"footer.click({ location: 1, link: 31 })\">Facebook</a></li>\\r\\n                    <li class=\"-item\"><a href=\"https://twitter.com/stackoverflow\" class=\"-link js-gps-track\" data-gps-track=\"footer.click({ location: 1, link: 32 })\">Twitter</a></li>\\r\\n                    <li class=\"-item\"><a href=\"https://linkedin.com/company/stack-overflow\" class=\"-link js-gps-track\" data-gps-track=\"footer.click({ location: 1, link: 33 })\">LinkedIn</a></li>\\r\\n                    <li class=\"-item\"><a href=\"https://www.instagram.com/thestackoverflow\" class=\"-link js-gps-track\" data-gps-track=\"footer.click({ location: 1, link: 36 })\">Instagram</a></li>\\r\\n                </ul>\\r\\n\\r\\n                <p class=\"mt-auto mb24\">\\r\\nsite design / logo &#169; 2020 Stack Exchange Inc; user contributions licensed under <a href=\"https://stackoverflow.com/help/licensing\">cc by-sa</a>.                    <span id=\"svnrev\">rev&nbsp;2020.10.19.37839</span>\\r\\n                </p>\\r\\n            </div>\\r\\n        </div>\\r\\n\\r\\n    </footer>\\r\\n\\r\\n            <script>StackExchange.ready(function () { StackExchange.responsiveness.addSwitcher(); })</script>\\r\\n    <noscript>\\r\\n        <div id=\"noscript-warning\">Stack Overflow works best with JavaScript enabled\\r\\n            <img src=\"https://pixel.quantserve.com/pixel/p-c1rF4kxgLUzNc.gif\" alt=\"\" class=\"dno\">\\r\\n        </div>\\r\\n    </noscript>\\r\\n\\r\\n            <script>\\r\\n(function(i, s, o, g, r, a, m) {\\r\\n                i[\\'GoogleAnalyticsObject\\'] = r; i[r] = i[r] || function() { (i[r].q = i[r].q || []).push(arguments) }, i[r].l = 1 * new Date(); a = s.createElement(o),\\r\\n                m = s.getElementsByTagName(o)[0]; a.async = 1; a.src = g; m.parentNode.insertBefore(a, m);\\r\\n            })(window, document, \\'script\\', \\'https://www.google-analytics.com/analytics.js\\', \\'ga\\');\\r\\n\\r\\n            StackExchange.ready(function () {\\r\\n\\r\\n                StackExchange.ga.init({\\r\\n                    sendTitles: true,\\r\\n                    tracker: window.ga,\\r\\n                    trackingCodes: [\\r\\n                        \\'UA-108242619-1\\'\\r\\n                    ],\\r\\n                        checkDimension: \\'dimension42\\'\\r\\n                });\\r\\n\\r\\n\\r\\n\\r\\n\\r\\n                    StackExchange.ga.setDimension(\\'dimension3\\', \\'Home/Index\\');\\r\\n\\r\\n\\r\\n                StackExchange.ga.trackPageView();\\r\\n            });\\r\\n            /**/\\r\\n\\r\\n            var _qevents = _qevents || [],\\r\\n            _comscore = _comscore || [];\\r\\n            (function() {\\r\\n                var s = document.getElementsByTagName(\\'script\\')[0],\\r\\n                    qc = document.createElement(\\'script\\');\\r\\n qc.async = true;\\r\\n                    qc.src = \\'https://secure.quantserve.com/quant.js\\';\\r\\n                    s.parentNode.insertBefore(qc, s);\\r\\n                    _qevents.push({ qacct: \"p-c1rF4kxgLUzNc\" });/**/\\r\\n var sc = document.createElement(\\'script\\');\\r\\n                    sc.async = true;\\r\\n                    sc.src = \\'https://sb.scorecardresearch.com/beacon.js\\';\\r\\n                    s.parentNode.insertBefore(sc, s);\\r\\n                    _comscore.push({ c1: \"2\", c2: \"17440561\" });            })();\\r\\n                </script>\\r\\n\\r\\n    \\r\\n    </body>\\r\\n    </html>\\r\\n'"
      ]
     },
     "execution_count": 4,
     "metadata": {},
     "output_type": "execute_result"
    }
   ],
   "source": [
    "response.text"
   ]
  },
  {
   "cell_type": "markdown",
   "metadata": {},
   "source": [
    "This is the HTML your browser would display after it does it's `GET` request."
   ]
  },
  {
   "cell_type": "markdown",
   "metadata": {},
   "source": [
    "Responses usually also contain **headers** - we don't see those in our browsers, but it may affect how the browser behaves. Using `requests`, the headers are returned as a `dict`:"
   ]
  },
  {
   "cell_type": "code",
   "execution_count": 5,
   "metadata": {},
   "outputs": [
    {
     "name": "stdout",
     "output_type": "stream",
     "text": [
      "Connection: \tkeep-alive\n",
      "cache-control: \tprivate\n",
      "content-type: \ttext/html; charset=utf-8\n",
      "content-encoding: \tgzip\n",
      "server: \tMicrosoft-IIS/10.0\n",
      "strict-transport-security: \tmax-age=15552000\n",
      "x-route-name: \tHome/Index\n",
      "x-frame-options: \tSAMEORIGIN\n",
      "x-flags: \tAA\n",
      "x-aspnet-duration-ms: \t3\n",
      "x-request-guid: \t7ea480b3-8879-4d33-b7f2-9acf21fc85df\n",
      "x-is-crawler: \t1\n",
      "x-providence-cookie: \tc23777d9-2949-6aa0-34b0-a9700ca197c2\n",
      "feature-policy: \tmicrophone 'none'; speaker 'none'\n",
      "content-security-policy: \tupgrade-insecure-requests; frame-ancestors 'self' https://stackexchange.com\n",
      "x-page-view: \t1\n",
      "Accept-Ranges: \tbytes\n",
      "Date: \tWed, 21 Oct 2020 02:42:46 GMT\n",
      "Via: \t1.1 varnish\n",
      "X-Served-By: \tcache-lax10631-LGB\n",
      "X-Cache: \tMISS\n",
      "X-Cache-Hits: \t0\n",
      "X-Timer: \tS1603248166.296207,VS0,VE76\n",
      "Vary: \tAccept-Encoding,Fastly-SSL\n",
      "X-DNS-Prefetch-Control: \toff\n",
      "transfer-encoding: \tchunked\n"
     ]
    }
   ],
   "source": [
    "for key, value in response.headers.items():\n",
    "    print(f'{key}: \\t{value}')"
   ]
  },
  {
   "cell_type": "markdown",
   "metadata": {},
   "source": [
    "Notice one of the keys in this dictionary: `content-type` - it tells the browser that the content is **html** and the unicode character encoding is `utf-8`. Notice also that `content-encoding` has a value of `gzip` - this is because the content was actually compressed by the server befopre sending out the response - and in this case both `requests` and our browser would decompress the response - this helps keep the amount of data transmitted over the web as compact as possible."
   ]
  },
  {
   "cell_type": "markdown",
   "metadata": {},
   "source": [
    "We usually don't do much with response headers, although some APIs may return extra information in the headers (maybe how long the request took to compute on the server side) - these are going to be API specific, so you'll need to read your API docs."
   ]
  },
  {
   "cell_type": "markdown",
   "metadata": {},
   "source": [
    "Next, let's try using a `GET` request with Google's search - although Google provides an API for search (you'll have to sign up to get a security token), we're just going to simulate using a GET request the way your browser does, for example:"
   ]
  },
  {
   "cell_type": "markdown",
   "metadata": {},
   "source": [
    "- `https://www.google.com` --> google search home page\n",
    "- `https://www.google.com?q=text to search` --> searches \"text to search\""
   ]
  },
  {
   "cell_type": "code",
   "execution_count": 6,
   "metadata": {},
   "outputs": [],
   "source": [
    "query_params = {\n",
    "    'q': 'python http requests',\n",
    "    'num': 5\n",
    "}\n",
    "response = requests.get(\n",
    "    \"https://www.google.com/search\", \n",
    "    params=query_params\n",
    ")"
   ]
  },
  {
   "cell_type": "code",
   "execution_count": 7,
   "metadata": {},
   "outputs": [
    {
     "data": {
      "text/plain": [
       "(200, 'OK')"
      ]
     },
     "execution_count": 7,
     "metadata": {},
     "output_type": "execute_result"
    }
   ],
   "source": [
    "response.status_code, response.reason"
   ]
  },
  {
   "cell_type": "markdown",
   "metadata": {},
   "source": [
    "Once more our request was succesful, and the response returned is HTML:"
   ]
  },
  {
   "cell_type": "code",
   "execution_count": 8,
   "metadata": {},
   "outputs": [
    {
     "data": {
      "text/plain": [
       "'text/html; charset=ISO-8859-1'"
      ]
     },
     "execution_count": 8,
     "metadata": {},
     "output_type": "execute_result"
    }
   ],
   "source": [
    "response.headers['content-type']"
   ]
  },
  {
   "cell_type": "code",
   "execution_count": 9,
   "metadata": {},
   "outputs": [
    {
     "data": {
      "text/plain": [
       "'gzip'"
      ]
     },
     "execution_count": 9,
     "metadata": {},
     "output_type": "execute_result"
    }
   ],
   "source": [
    "response.headers['content-encoding']"
   ]
  },
  {
   "cell_type": "code",
   "execution_count": 10,
   "metadata": {},
   "outputs": [
    {
     "data": {
      "text/plain": [
       "'<!doctype html><html lang=\"en\"><head><meta charset=\"UTF-8\"><meta content=\"/images/branding/googleg/1x/googleg_standard_color_128dp.png\" itemprop=\"image\"><title>python http requests - Google Search</title><script nonce=\"Dmkt8a6TUMTLzKWOgmSskw==\">(function(){\\ndocument.documentElement.addEventListener(\"submit\",function(b){var a;if(a=b.target){var c=a.getAttribute(\"data-submitfalse\");a=\"1\"==c||\"q\"==c&&!a.elements.q.value?!0:!1}else a=!1;a&&(b.preventDefault(),b.stopPropagation())},!0);document.documentElement.addEventListener(\"click\",function(b){var a;a:{for(a=b.target;a&&a!=document.documentElement;a=a.parentElement)if(\"A\"==a.tagName){a=\"1\"==a.getAttribute(\"data-nohref\");break a}a=!1}a&&b.preventDefault()},!0);}).call(this);(function(){\\nvar a=window.performance;window.start=Date.now();a:{var b=window;if(a){var c=a.timing;if(c){var d=c.navigationStart,f=c.responseStart;if(f>d&&f<=window.start){window.start=f;b.wsrt=f-d;break a}}a.now&&(b.wsrt=Math.floor(a.now()))}}window.google=window.google||{};var h=function(g){g&&g.target.setAttribute(\"data-iml\",Date.now())};document.documentElement.addEventListener(\"load\",h,!0);google.rglh=function(){document.documentElement.removeEventListener(\"load\",h,!0)};}).call(this);(function(){\\nvar c=[],e=0;window.ping=function(b){-1==b.indexOf(\"&zx\")&&(b+=\"&zx=\"+Date.now());var a=new Image,d=e++;c[d]=a;a.onerror=a.onload=a.onabort=function(){delete c[d]};a.src=b};}).call(this);</script><style>body{margin:0 auto;max-width:736px;padding:0 8px}a{color:#1967D2;text-decoration:none;tap-highlight-color:rgba(0,0,0,.1)}a:visited{color:#4B11A8}a:hover{text-decoration:underline}img{border:0}html{font-family:Roboto,HelveticaNeue,Arial,sans-serif;font-size:14px;line-height:20px;text-size-adjust:100%;color:#3c4043;word-wrap:break-word;background-color:#fff}.bRsWnc{background-color:#fff;border-top:1px solid #e0e0e0;height:39px;overflow:hidden}.N6RWV{height:51px;overflow-scrolling:touch;overflow-x:auto;overflow-y:hidden}.Uv67qb{box-pack:justify;font-size:12px;line-height:37px;justify-content:space-between;justify-content:space-between}.Uv67qb a,.Uv67qb span{color:#757575;display:block;flex:none;padding:0 16px;text-align:center;text-transform:uppercase;}span.OXXup{border-bottom:2px solid #4285f4;color:#4285f4;font-weight:bold}a.eZt8xd:visited{color:#757575}.FElbsf{border-left:1px solid rgba(0,0,0,.12)}header article{overflow:visible}.Pg70bf{height:39px;display:box;display:flex;display:flex;width:100%}.H0PQec{position:relative;flex:1}.sbc{display:flex;width:100%}.Pg70bf input{margin:2px 4px 2px 8px;}.x{width:26px;color:#757575;font:27px/38px arial, sans-serif;line-height:40px;}#qdClwb{flex:0 0 auto;width:39px;height:39px;border-bottom:0;padding:0;border-top-right-radius:8px;background-color:#3b78e7;border:1px solid #3367d6;background-image:url(data:image/gif;base64,R0lGODdhJAAjAPIHAODr/nCk+MPZ/FmV96zK+/7+/5K5+kqL9iwAAAAAJAAjAEADani63P4wykmbKcQRXDscQAEMXmmeaLQVLCukzyC09AjfeK7v/MAajACLhPMVAgwjsUcEiZa8xgAYrVqv2Kx2iwsIAAABknfBBAKrTE4IcMyot8ur8datqIbQfJdnAfo2WE6BV05wXIiJigkAOw==);}.sc{font-size:;position:absolute;top:39px;left:0;right:0;box-shadow:0px 2px 5px rgba(0,0,0,.2);z-index:2;background-color:#fff}.sc>div{padding:10px 10px;padding-left:16px;padding-left:14px;border-top:1px solid #dfe1e5}.scs{background-color:#f5f5f5;}.noHIxc{display:block;font-size:16px;padding:0 0 0 8px;flex:1;height:35px;outline:none;border:none;width:100%;-webkit-tap-highlight-color:rgba(0,0,0,0);overflow:hidden;}.sbc input[type=text]{background:none}.sml .cOl4Id{display:none}.l{display:none}.sml header{background:none}.sml .l{display:block;padding:0 8px}.sml .l{letter-spacing:-1px;text-align:center;border-radius:2px 0 0 0;font:22px/36px Futura, Arial, sans-serif;font-smoothing:antialiased}.bz1lBb{background:#fff;border-radius:8px 8px 0 0;box-shadow:0 1px 6px rgba(32, 33, 36, 0.18);margin-top:10px}.KP7LCb{border-radius:0 0 8px 8px;box-shadow:0 2px 3px rgba(32, 33, 36, 0.18);margin-bottom:10px;overflow:hidden}.cOl4Id{letter-spacing:-1px;text-align:center;font:22pt Futura, Arial, sans-serif;padding:10px 0 5px 0;height:37px;font-smoothing:antialiased}.cOl4Id span{display:inline-block}.S591j{height:100%}.V6gwVd{color:#4285f4}.iWkuvd{color:#ea4335}.cDrQ7{color:#fbcc05}.ntlR9{color:#34a853}.tJ3Myc{-webkit-transform:rotate(-20deg);position:relative;left:-1px;display:inline-block}footer{text-align:center;margin-top:18px}footer a,footer a:visited,.smiUbb{color:#5f6368}.ksTU4c{margin:0 13px}#mCljob{margin-top:36px}#mCljob>div{margin:20px}</style></head><body jsmodel=\"TvHxbe\"><header id=\"hdr\"><script nonce=\"Dmkt8a6TUMTLzKWOgmSskw==\">(function(){\\nvar k=this||self,l=function(){},m=function(a){var b=typeof a;return\"object\"==b&&null!=a||\"function\"==b},aa=function(a,b){function c(){}c.prototype=b.prototype;a.l=b.prototype;a.prototype=new c;a.prototype.constructor=a;a.m=function(d,e,f){for(var g=Array(arguments.length-2),h=2;h<arguments.length;h++)g[h-2]=arguments[h];return b.prototype[e].apply(d,g)}};var n=Array.prototype.indexOf?function(a,b){return Array.prototype.indexOf.call(a,b,void 0)}:function(a,b){if(\"string\"===typeof a)return\"string\"!==typeof b||1!=b.length?-1:a.indexOf(b,0);for(var c=0;c<a.length;c++)if(c in a&&a[c]===b)return c;return-1},ba=Array.prototype.filter?function(a,b){return Array.prototype.filter.call(a,b,void 0)}:function(a,b){for(var c=a.length,d=[],e=0,f=\"string\"===typeof a?a.split(\"\"):a,g=0;g<c;g++)if(g in f){var h=f[g];b.call(void 0,h,g,a)&&(d[e++]=h)}return d};var p=function(a){return\"string\"==typeof a.className?a.className:a.getAttribute&&a.getAttribute(\"class\")||\"\"},q=function(a,b){\"string\"==typeof a.className?a.className=b:a.setAttribute&&a.setAttribute(\"class\",b)},r=function(a,b){a.classList?b=a.classList.contains(b):(a=a.classList?a.classList:p(a).match(/\\\\S+/g)||[],b=0<=n(a,b));return b},ca=function(){var a=t,b=u;a.classList?a.classList.remove(b):r(a,b)&&q(a,ba(a.classList?a.classList:p(a).match(/\\\\S+/g)||[],function(c){return c!=b}).join(\" \"))};var v=String.prototype.trim?function(a){return a.trim()}:function(a){return/^[\\\\s\\\\xa0]*([\\\\s\\\\S]*?)[\\\\s\\\\xa0]*$/.exec(a)[1]},w=function(a,b){return a<b?-1:a>b?1:0};var x;a:{var y=k.navigator;if(y){var z=y.userAgent;if(z){x=z;break a}}x=\"\"};var A=function(a){A[\" \"](a);return a};A[\" \"]=l;var da=-1!=x.indexOf(\"Opera\"),B=-1!=x.indexOf(\"Trident\")||-1!=x.indexOf(\"MSIE\"),ea=-1!=x.indexOf(\"Edge\"),C=-1!=x.indexOf(\"Gecko\")&&!(-1!=x.toLowerCase().indexOf(\"webkit\")&&-1==x.indexOf(\"Edge\"))&&!(-1!=x.indexOf(\"Trident\")||-1!=x.indexOf(\"MSIE\"))&&-1==x.indexOf(\"Edge\"),fa=-1!=x.toLowerCase().indexOf(\"webkit\")&&-1==x.indexOf(\"Edge\"),ha=function(){var a=k.document;return a?a.documentMode:void 0},D;a:{var E=\"\",F=function(){var a=x;if(C)return/rv:([^\\\\);]+)(\\\\)|;)/.exec(a);if(ea)return/Edge\\\\/([\\\\d\\\\.]+)/.exec(a);if(B)return/\\\\b(?:MSIE|rv)[:]([^\\\\);]+)(\\\\)|;)/.exec(a);if(fa)return/WebKit\\\\/(\\\\S+)/.exec(a);if(da)return/(?:Version)[ \\\\/]?(\\\\S+)/.exec(a)}();F&&(E=F?F[1]:\"\");if(B){var G=ha();if(null!=G&&G>parseFloat(E)){D=String(G);break a}}D=E}var ia=D,H={},I;if(k.document&&B){var ja=ha();I=ja?ja:parseInt(ia,10)||void 0}else I=void 0;var ka=I;var J;(J=!B)||(J=9<=Number(ka));var la=J,K;if(K=B){var L;if(Object.prototype.hasOwnProperty.call(H,\"9\"))L=H[\"9\"];else{for(var M=0,ma=v(String(ia)).split(\".\"),na=v(\"9\").split(\".\"),oa=Math.max(ma.length,na.length),N=0;0==M&&N<oa;N++){var pa=ma[N]||\"\",qa=na[N]||\"\";do{var O=/(\\\\d*)(\\\\D*)(.*)/.exec(pa)||[\"\",\"\",\"\",\"\"],P=/(\\\\d*)(\\\\D*)(.*)/.exec(qa)||[\"\",\"\",\"\",\"\"];if(0==O[0].length&&0==P[0].length)break;M=w(0==O[1].length?0:parseInt(O[1],10),0==P[1].length?0:parseInt(P[1],10))||w(0==O[2].length,0==P[2].length)||w(O[2],P[2]);pa=O[3];qa=P[3]}while(0==M)}L=\\nH[\"9\"]=0<=M}K=!L}var ra=K,sa=function(){if(!k.addEventListener||!Object.defineProperty)return!1;var a=!1,b=Object.defineProperty({},\"passive\",{get:function(){a=!0}});try{k.addEventListener(\"test\",l,b),k.removeEventListener(\"test\",l,b)}catch(c){}return a}();var Q=function(a,b){this.type=a;this.a=this.target=b};Q.prototype.g=function(){};var R=function(a,b){Q.call(this,a?a.type:\"\");this.relatedTarget=this.a=this.target=null;this.button=this.screenY=this.screenX=this.clientY=this.clientX=0;this.key=\"\";this.keyCode=0;this.metaKey=this.shiftKey=this.altKey=this.ctrlKey=!1;this.pointerId=0;this.pointerType=\"\";this.j=null;if(a){var c=this.type=a.type,d=a.changedTouches&&a.changedTouches.length?a.changedTouches[0]:null;this.target=a.target||a.srcElement;this.a=b;if(b=a.relatedTarget){if(C){a:{try{A(b.nodeName);var e=!0;break a}catch(f){}e=\\n!1}e||(b=null)}}else\"mouseover\"==c?b=a.fromElement:\"mouseout\"==c&&(b=a.toElement);this.relatedTarget=b;d?(this.clientX=void 0!==d.clientX?d.clientX:d.pageX,this.clientY=void 0!==d.clientY?d.clientY:d.pageY,this.screenX=d.screenX||0,this.screenY=d.screenY||0):(this.clientX=void 0!==a.clientX?a.clientX:a.pageX,this.clientY=void 0!==a.clientY?a.clientY:a.pageY,this.screenX=a.screenX||0,this.screenY=a.screenY||0);this.button=a.button;this.keyCode=a.keyCode||0;this.key=a.key||\"\";this.ctrlKey=a.ctrlKey;this.altKey=a.altKey;this.shiftKey=a.shiftKey;this.metaKey=a.metaKey;this.pointerId=a.pointerId||0;this.pointerType=\"string\"===typeof a.pointerType?a.pointerType:ta[a.pointerType]||\"\";this.j=a;a.defaultPrevented&&this.g()}};aa(R,Q);var ta={2:\"touch\",3:\"pen\",4:\"mouse\"};R.prototype.g=function(){R.l.g.call(this);var a=this.j;if(a.preventDefault)a.preventDefault();else if(a.returnValue=!1,ra)try{if(a.ctrlKey||112<=a.keyCode&&123>=a.keyCode)a.keyCode=-1}catch(b){}};var S=\"closure_listenable_\"+(1E6*Math.random()|0),ua=0;var va=function(a,b,c,d,e){this.listener=a;this.a=null;this.src=b;this.type=c;this.capture=!!d;this.g=e;this.key=++ua;this.h=this.i=!1},wa=function(a){a.h=!0;a.listener=null;a.a=null;a.src=null;a.g=null};var T=function(a){this.src=a;this.a={};this.g=0};T.prototype.add=function(a,b,c,d,e){var f=a.toString();a=this.a[f];a||(a=this.a[f]=[],this.g++);var g;a:{for(g=0;g<a.length;++g){var h=a[g];if(!h.h&&h.listener==b&&h.capture==!!d&&h.g==e)break a}g=-1}-1<g?(b=a[g],c||(b.i=!1)):(b=new va(b,this.src,f,!!d,e),b.i=c,a.push(b));return b};var U=\"closure_lm_\"+(1E6*Math.random()|0),V={},xa=0,ya=function(a,b,c,d,e){if(d&&d.once)return W(a,b,c,d,e);if(Array.isArray(b)){for(var f=0;f<b.length;f++)ya(a,b[f],c,d,e);return null}c=za(c);return a&&a[S]?a.a(b,c,m(d)?!!d.capture:!!d,e):Aa(a,b,c,!1,d,e)},Aa=function(a,b,c,d,e,f){if(!b)throw Error(\"a\");var g=m(e)?!!e.capture:!!e,h=X(a);h||(a[U]=h=new T(a));c=h.add(b,c,d,g,f);if(c.a)return c;d=Ba();c.a=d;d.src=a;d.listener=c;if(a.addEventListener)sa||(e=g),void 0===e&&(e=!1),a.addEventListener(b.toString(),d,e);else if(a.attachEvent)a.attachEvent(Ca(b.toString()),d);else if(a.addListener&&a.removeListener)a.addListener(d);else throw Error(\"b\");xa++;return c},Ba=function(){var a=Da,b=la?function(c){return a.call(b.src,b.listener,c)}:function(c){c=a.call(b.src,b.listener,c);if(!c)return c};return b},W=function(a,b,c,d,e){if(Array.isArray(b)){for(var f=0;f<b.length;f++)W(a,b[f],c,d,e);return null}c=za(c);return a&&a[S]?a.g(b,c,m(d)?!!d.capture:!!d,e):Aa(a,b,c,!0,d,e)},Ea=function(a){if(\"number\"!==typeof a&&\\na&&!a.h){var b=a.src;if(b&&b[S])b.j(a);else{var c=a.type,d=a.a;b.removeEventListener?b.removeEventListener(c,d,a.capture):b.detachEvent?b.detachEvent(Ca(c),d):b.addListener&&b.removeListener&&b.removeListener(d);xa--;if(c=X(b)){d=a.type;if(d in c.a){var e=c.a[d],f=n(e,a),g;(g=0<=f)&&Array.prototype.splice.call(e,f,1);g&&(wa(a),0==c.a[d].length&&(delete c.a[d],c.g--))}0==c.g&&(c.src=null,b[U]=null)}else wa(a)}}},Ca=function(a){return a in V?V[a]:V[a]=\"on\"+a},Ga=function(a,b,c,d){var e=!0;if(a=X(a))if(b=\\na.a[b.toString()])for(b=b.concat(),a=0;a<b.length;a++){var f=b[a];f&&f.capture==c&&!f.h&&(f=Fa(f,d),e=e&&!1!==f)}return e},Fa=function(a,b){var c=a.listener,d=a.g||a.src;a.i&&Ea(a);return c.call(d,b)},Da=function(a,b){if(a.h)return!0;if(!la){if(!b)a:{b=[\"window\",\"event\"];for(var c=k,d=0;d<b.length;d++)if(c=c[b[d]],null==c){b=null;break a}b=c}d=b;b=new R(d,this);c=!0;if(!(0>d.keyCode||void 0!=d.returnValue)){a:{var e=!1;if(0==d.keyCode)try{d.keyCode=-1;break a}catch(g){e=!0}if(e||void 0==d.returnValue)d.returnValue=\\n!0}d=[];for(e=b.a;e;e=e.parentNode)d.push(e);a=a.type;for(e=d.length-1;0<=e;e--){b.a=d[e];var f=Ga(d[e],a,!0,b);c=c&&f}for(e=0;e<d.length;e++)b.a=d[e],f=Ga(d[e],a,!1,b),c=c&&f}return c}return Fa(a,new R(b,this))},X=function(a){a=a[U];return a instanceof T?a:null},Y=\"__closure_events_fn_\"+(1E9*Math.random()>>>0),za=function(a){if(\"function\"===typeof a)return a;a[Y]||(a[Y]=function(b){return a.handleEvent(b)});return a[Y]};var u,t=document.documentElement,Z;function Ha(){Z=W(t,\"mousedown\",function(){ca();Ia()},{capture:!0})}function Ia(){Z=ya(t,\"keydown\",function(a){if(9==a.keyCode){Ea(Z);a=t;var b=u;if(a.classList)a.classList.add(b);else if(!r(a,b)){var c=p(a);q(a,c+(0<c.length?\" \"+b:b))}Ha()}})};u=\"zAoYTe\";Ia();}).call(this);(function(){var c=500;(function(){window.screen&&window.screen.width<=c&&window.screen.height<=c&&document.getElementById(\"hdr\").classList.add(\"sml\");}).call(this);})();</script><div class=\"cOl4Id\"><a href=\"/?sa=X&amp;ved=0ahUKEwjyn8Xu1MTsAhVDLX0KHbJ0BzwQOwgC\"><span class=\"V6gwVd\">G</span><span class=\"iWkuvd\">o</span><span class=\"cDrQ7\">o</span><span class=\"V6gwVd\">g</span><span class=\"ntlR9\">l</span><span class=\"iWkuvd tJ3Myc\">e</span></a></div><div class=\"bz1lBb\"><form class=\"Pg70bf\" id=\"sf\"><a class=\"l\" href=\"/?num=5&amp;output=search&amp;ie=UTF-8&amp;sa=X&amp;ved=0ahUKEwjyn8Xu1MTsAhVDLX0KHbJ0BzwQPAgE\"><span class=\"V6gwVd\">G</span><span class=\"iWkuvd\">o</span><span class=\"cDrQ7\">o</span><span class=\"V6gwVd\">g</span><span class=\"ntlR9\">l</span><span class=\"iWkuvd tJ3Myc\">e</span></a><input name=\"num\" value=\"5\" type=\"hidden\"><input name=\"ie\" value=\"ISO-8859-1\" type=\"hidden\"><div class=\"H0PQec\"><div class=\"sbc esbc\"><input class=\"noHIxc\" value=\"python http requests\" autocapitalize=\"none\" autocomplete=\"off\" name=\"q\" spellcheck=\"false\" type=\"text\"><input name=\"oq\" type=\"hidden\"><input name=\"aqs\" type=\"hidden\"><div class=\"x\">×</div><div class=\"sc\"></div></div></div><button id=\"qdClwb\" type=\"submit\"></button></form></div><noscript><meta content=\"0;url=/search?q=python+http+requests&amp;num=5&amp;ie=UTF-8&amp;gbv=1&amp;sei=LKCPX_LZJ8Pa9AOy6Z3gAw\" http-equiv=\"refresh\"><style>table,div,span,p{display:none}</style><div style=\"display:block\">Please click <a href=\"/search?q=python+http+requests&amp;num=5&amp;ie=UTF-8&amp;gbv=1&amp;sei=LKCPX_LZJ8Pa9AOy6Z3gAw\">here</a> if you are not redirected within a few seconds.</div></noscript></header><div id=\"main\"><div><div class=\"KP7LCb\"> <div class=\"bRsWnc\"> <div class=\"N6RWV\"> <div class=\"Pg70bf Uv67qb\"> <span class=\"OXXup\">All</span><a class=\"eZt8xd\" href=\"/search?q=python+http+requests&amp;num=5&amp;ie=UTF-8&amp;source=lnms&amp;tbm=vid&amp;sa=X&amp;ved=0ahUKEwjyn8Xu1MTsAhVDLX0KHbJ0BzwQ_AUICCgB\">Videos</a><a class=\"eZt8xd\" href=\"/search?q=python+http+requests&amp;num=5&amp;ie=UTF-8&amp;source=lnms&amp;tbm=isch&amp;sa=X&amp;ved=0ahUKEwjyn8Xu1MTsAhVDLX0KHbJ0BzwQ_AUICSgC\">Images</a><a class=\"eZt8xd\" href=\"/search?q=python+http+requests&amp;num=5&amp;ie=UTF-8&amp;source=lnms&amp;tbm=nws&amp;sa=X&amp;ved=0ahUKEwjyn8Xu1MTsAhVDLX0KHbJ0BzwQ_AUICigD\">News</a>  <a href=\"https://maps.google.com/maps?q=python+http+requests&amp;num=5&amp;um=1&amp;ie=UTF-8&amp;sa=X&amp;ved=0ahUKEwjyn8Xu1MTsAhVDLX0KHbJ0BzwQ_AUICygE\">Maps</a>  <a href=\"/search?q=python+http+requests&amp;num=5&amp;ie=UTF-8&amp;source=lnms&amp;tbm=shop&amp;sa=X&amp;ved=0ahUKEwjyn8Xu1MTsAhVDLX0KHbJ0BzwQ_AUIDCgF\">Shopping</a>  <a href=\"/search?q=python+http+requests&amp;num=5&amp;ie=UTF-8&amp;source=lnms&amp;tbm=bks&amp;sa=X&amp;ved=0ahUKEwjyn8Xu1MTsAhVDLX0KHbJ0BzwQ_AUIDSgG\">Books</a>  <div class=\"FElbsf\"><a href=\"/advanced_search\" style=\"white-space:nowrap\" id=\"st-toggle\" role=\"button\">Search tools</a></div> </div> </div> </div> </div><div class=\"Pg70bf wEsjbd ZINbbc xpd O9g5cc uUPGi\" style=\"display:none\" id=\"st-card\"><style>.wEsjbd{background-color:#fff;height:44px;white-space:nowrap}.coPU8c{height:60px;overflow-scrolling:touch;overflow-x:auto;overflow-y:hidden}.Xj2aue{height:44px;overflow:hidden}.RnNGze{margin:11px 16px}.wEsjbd div,.wEsjbd a,.wEsjbd li{outline-width:0;outline:none}</style><div class=\"Xj2aue\"><div class=\"coPU8c\"><div class=\"RnNGze\"><style>.PA9J5{display:inline-block}.RXaOfd{display:inline-block;height:22px;position:relative;padding-top:0;padding-bottom:0;padding-right:16px;padding-left:0;line-height:22px;cursor:pointer;text-transform:uppercase;font-size:12px;color:#757575}.sa1toc{display:none;position:absolute;background:#fff;border:1px solid #d6d6d6;box-shadow:0 2px 4px rgba(0,0,0,0.3);margin:0;white-space:nowrap;z-index:103;line-height:17px;padding-top:5px;padding-bottom:5px;padding-left:0px}.PA9J5:hover .sa1toc{display:block}.mGSy8d a:active,.RXaOfd:active{color:#4285f4}</style><div class=\"PA9J5\"><div class=\"RXaOfd\" role=\"button\" tabindex=\"0\"><style>.TWMOUc{display:inline-block;padding-right:14px;white-space:nowrap}.vQYuGf{font-weight:bold}.OmTIzf{border-color:#909090 transparent;border-style:solid;border-width:4px 4px 0 4px;width:0;height:0;margin-left:-10px;top:50%;margin-top:-2px;position:absolute}.RXaOfd:active .OmTIzf{border-color:#4285f4 transparent}</style><div class=\"TWMOUc\">Any time</div><span class=\"OmTIzf\"></span></div><ul class=\"sa1toc ozatM\"><style>.ozatM{font-size:12px;text-transform:uppercase}.ozatM .yNFsl,.ozatM li{list-style-type:none;list-style-position:outside;list-style-image:none}.yNFsl.SkUj4c,.yNFsl a{color:rgba(0,0,0,0.54);text-decoration:none;padding:6px 44px 6px 14px;line-height:17px;display:block}.SkUj4c{background-image:url(//ssl.gstatic.com/ui/v1/menu/checkmark2.png);background-position:right center;background-repeat:no-repeat}.SkUj4c:active{background-color:#f5f5f5}</style><li class=\"yNFsl SkUj4c\">Any time</li><li class=\"yNFsl\"><a href=\"/search?q=python+http+requests&amp;num=5&amp;ie=UTF-8&amp;source=lnt&amp;tbs=qdr:h&amp;sa=X&amp;ved=0ahUKEwjyn8Xu1MTsAhVDLX0KHbJ0BzwQpwUIDw\">Past hour</a></li><li class=\"yNFsl\"><a href=\"/search?q=python+http+requests&amp;num=5&amp;ie=UTF-8&amp;source=lnt&amp;tbs=qdr:d&amp;sa=X&amp;ved=0ahUKEwjyn8Xu1MTsAhVDLX0KHbJ0BzwQpwUIEA\">Past 24 hours</a></li><li class=\"yNFsl\"><a href=\"/search?q=python+http+requests&amp;num=5&amp;ie=UTF-8&amp;source=lnt&amp;tbs=qdr:w&amp;sa=X&amp;ved=0ahUKEwjyn8Xu1MTsAhVDLX0KHbJ0BzwQpwUIEQ\">Past week</a></li><li class=\"yNFsl\"><a href=\"/search?q=python+http+requests&amp;num=5&amp;ie=UTF-8&amp;source=lnt&amp;tbs=qdr:m&amp;sa=X&amp;ved=0ahUKEwjyn8Xu1MTsAhVDLX0KHbJ0BzwQpwUIEg\">Past month</a></li><li class=\"yNFsl\"><a href=\"/search?q=python+http+requests&amp;num=5&amp;ie=UTF-8&amp;source=lnt&amp;tbs=qdr:y&amp;sa=X&amp;ved=0ahUKEwjyn8Xu1MTsAhVDLX0KHbJ0BzwQpwUIEw\">Past year</a></li></ul></div><div class=\"PA9J5\"><div class=\"RXaOfd\" role=\"button\" tabindex=\"0\"><div class=\"TWMOUc\">All results</div><span class=\"OmTIzf\"></span></div><ul class=\"sa1toc ozatM\"><li class=\"yNFsl SkUj4c\">All results</li><li class=\"yNFsl\"><a href=\"/search?q=python+http+requests&amp;num=5&amp;ie=UTF-8&amp;source=lnt&amp;tbs=li:1&amp;sa=X&amp;ved=0ahUKEwjyn8Xu1MTsAhVDLX0KHbJ0BzwQpwUIFQ\">Verbatim</a></li></ul></div></div></div></div><script nonce=\"Dmkt8a6TUMTLzKWOgmSskw==\">(function(){\\nvar a=document.getElementById(\"st-toggle\"),b=document.getElementById(\"st-card\");a&&b&&a.addEventListener(\"click\",function(c){b.style.display=b.style.display?\"\":\"none\";c.preventDefault()},!1);}).call(this);</script></div></div><style>.ZINbbc{background-color:#fff;margin-bottom:10px;box-shadow:0 1px 6px rgba(32, 33, 36, 0.28);border-radius:8px}.uUPGi{font-size:14px;line-height:20px;}.O9g5cc>*:first-child{border-top-left-radius:8px;border-top-right-radius:8px}.O9g5cc>*:last-child{border-bottom-left-radius:8px;border-bottom-right-radius:8px}.O9g5cc>.qxDOhb>*:first-child{border-top-left-radius:8px;border-top-right-radius:8px}.O9g5cc>.qxDOhb>*:last-child{border-bottom-left-radius:8px;border-bottom-right-radius:8px}.rl7ilb{display:block;clear:both}.kCrYT{padding:12px 16px 12px}a.fdYsqf{color:#4B11A8}.zBAuLc{font-weight:normal;line-height:normal;margin:0;padding:0}.BNeawe{white-space:pre-line;word-wrap:break-word}.vvjwJb{color:#1967D2;font-size:16px;line-height:20px}a:visited .vvjwJb,.vvjwJb a:visited{color:#4B11A8}.vvjwJb.HrGdeb{color:rgba(255,255,255,1)}a:visited .vvjwJb.HrGdeb,.vvjwJb.HrGdeb a:visited{color:rgba(255,255,255,.7)}.UPmit{font-size:14px;line-height:20px}.UPmit.HrGdeb{color:rgba(255,255,255,.7)}.UPmit.AP7Wnd{color:rgba(0,102,33,1)}.x54gtf{height:1px;background-color:#dfe1e5;margin:0 16px}.Q0HXG{height:1px;background-color:#dfe1e5}.Ap5OSd{padding-bottom:12px}.s3v9rd{font-size:14px;line-height:20px}.s3v9rd.HrGdeb{color:rgba(255,255,255,1)}.s3v9rd.AP7Wnd{color:#202124}.mSx1Ee{padding-left:48px;margin:0}.v9i61e{padding-bottom:8px}.XLloXe{color:#1967D2;font-size:14px;line-height:20px}a:visited .XLloXe,.XLloXe a:visited{color:#4B11A8}.XLloXe.HrGdeb{color:rgba(255,255,255,1)}a:visited .XLloXe.HrGdeb,.XLloXe.HrGdeb a:visited{color:rgba(255,255,255,.7)}.r0bn4c.tr0dw{color:rgba(255,255,255,.7)}.r0bn4c.rQMQod{color:#70757A}.wITvVb{margin:0;padding:12px 16px 12px}.deIvCb{font-size:16px;line-height:20px;font-weight:400}.deIvCb.HrGdeb{color:rgba(255,255,255,1)}.deIvCb.AP7Wnd{color:#202124}.FCUp0c{font-weight:bold}.LKSyXe{height:1px;background-color:#dfe1e5;margin:0 16px}.xpc .hwc,.xpx .hwx{display:none}.iIWm4b{box-sizing:border-box;min-height:48px}html:not(.zAoYTe) .hide-focus-ring{outline:0}.fLtXsc{padding:14px;position:relative}.NtmAdb{width:40px;height:40px;overflow:hidden;margin-top:-10px;margin-bottom:-16px;margin-right:8px;border-radius:4px}.xpc .NtmAdb{display:inline-block}.xpx .NtmAdb{display:none}.Lt3Tzc{display:inline-block;padding-right:26px}.Lym8W{width:14px;height:20px;position:relative;margin:0 auto}.xCgLUe{position:absolute;right:16px;margin-top:-10px;top:50%}.Lym8W div{position:absolute;border-left:7px solid transparent;border-right:7px solid transparent;width:0;height:0;left:0}.IyYaEd{top:7px;border-top:7px solid #757575}.ECUHQe{top:4px;border-top:7px solid #fff}.AeQQub{bottom:7px;border-bottom:7px solid #757575}.YCU7eb{bottom:4px;border-bottom:7px solid #fff}.qxDOhb{border-radius:0}.M56Nqc{padding:0 16px 12px}.Z8j5ae>div>div{border-radius:8px;box-shadow:none;border:1px solid #dfe1e5;margin-bottom:0}.oTWEpb{padding-top:12px}.n1Qedd{overflow:hidden;text-align:center}.KMAGC{margin:0 auto;display:block}.ho0sdc{margin:0 -50%;display:inline-block}.PDHNXc{display:table;width:100%;padding-top:16px;padding-bottom:16px;margin-bottom:-12px}.iU269d{display:table-cell;vertical-align:top}.TeHtNe{vertical-align:middle}.kXUfPb{color:#3c4043;font-size:14px;text-align:center}.Vp9uZ{display:block;white-space:pre-line;word-wrap:break-word}.kXUfPb.Vp9uZ{line-height:20px}.RtoYlb{padding:18px}.ZTv9Bb{display:block}.nVTMpe{border-radius:8px}.X7NTVe{display:table;width:100%;padding-right:16px;box-sizing:border-box}.tHmfQe{display:table-cell;padding:12px 0 12px 16px}.UHtrk{width:72px}.HBTM6d{width:30px}.XS7yGd{display:table-cell;text-align:center;vertical-align:middle;padding:12px 0 12px 8px}.am3QBf{display:table;vertical-align:top}.pkr8ib{display:table-cell;min-width:40px;padding-right:8px}.uEec3{font-size:12px;line-height:16px}.uEec3.HrGdeb{color:rgba(255,255,255,.7)}.uEec3.AP7Wnd{color:#70757A}.Xb5VRe{color:#1967D2}a:visited .Xb5VRe{color:#4B11A8}.Xb5VRe.tr0dw{color:rgba(255,255,255,1)}a:visited .Xb5VRe.tr0dw{color:rgba(255,255,255,.7)}.aJyiOc{color:#006621}.Sljvkf{padding:14px;position:relative}.fohFr{display:block;position:relative;width:100%}.EbCMvf{position:absolute;left:0;vertical-align:bottom;width:100%}.yE2Vzb{padding-left:48px}.QDvyZe{width:40px;height:40px;overflow:hidden;margin-top:-10px;margin-bottom:-16px;margin-right:8px;border-radius:4px;display:inline-block;border-radius:50%;}.LsF2v span{color:#fff;mask-image:url(data:image/png;base64,iVBORw0KGgoAAAANSUhEUgAAADAAAAAwCAQAAAD9CzEMAAABa0lEQVR4AeyWtUIYQRBAX6yLu0uH08Q9ZfInNHF36UKFlHwHNLi7u2uNN9hgg3PsCVtx753fzOkalgkJieErOXQwsWAHOXwjZjcvXohsYy7xBOYgycwhDs6RzEECcJZyxGA5Z/HJIUoQVAp4z22OL3ibdxs+WgmH8EUqorZzl83cpR1RU/FBDKI2cMrhAzYgaiyeydDUQc7hxDkGNSoDj1xH1CfsxDNEvYEnXmtaNiayNPK1vw+UgIkEfx+pRdOiMRGlkS14YlLTjmHimEZO4IlxTTuCiSMaOYkn2jQtChORGtlr+ycX4YlXrotptkb+wxM3XFa0J4j60E5TMaRRNXgmHlEbOevQ2DUi6gt8kGJorjsQNW23OpxbnOQEt3lPMYLKNJdsdpkjuv5lo9MX/nMBUT/jk3iHYUs9zwGQ4LeAaHTgxTgtpPOLpyj8Dn4LE4l79RbhLV7bvsVnsHmLz1gk0e7lQ0LmRzMAAAU5VLMEuZJZAAAAAElFTkSuQmCC)}.vhXRgc{padding:14px}.cREFlf{display:inline-block;color:#3c4043}.lRVwie{text-overflow:ellipsis;white-space:nowrap;overflow:hidden}.rLshyf,.BmP5tf{padding-top:12px;padding-bottom:12px}.YOx3Ab{padding-left:16px;}.w1C3Le,.BmP5tf,.G5NbBd{padding-left:16px;padding-right:16px;}.G5NbBd{padding-bottom:12px}.nMymef{display:flex}.G5eFlf{flex:1;display:block}.nMymef span{text-align:center}</style><div><!--SW_C_X--></div><div><div class=\"ZINbbc xpd O9g5cc uUPGi\"><div class=\"kCrYT\"><a href=\"/url?q=https://requests.readthedocs.io/en/master/&amp;sa=U&amp;ved=2ahUKEwjyn8Xu1MTsAhVDLX0KHbJ0BzwQFjAAegQIARAB&amp;usg=AOvVaw3Ot8dUqEEOnUWBRDwvRbfF\"><h3 class=\"zBAuLc\"><div class=\"BNeawe vvjwJb AP7Wnd\">Requests: HTTP for Humans&#8482; &#8212; Requests 2.24.0 documentation</div></h3><div class=\"BNeawe UPmit AP7Wnd\">requests.readthedocs.io &#8250; master</div></a></div><div class=\"x54gtf\"></div><div class=\"kCrYT\"><div><div class=\"BNeawe s3v9rd AP7Wnd\"><div><div><div class=\"BNeawe s3v9rd AP7Wnd\">Requests is an elegant and simple HTTP library for Python, built for human beings. Behold, the power of Requests: &gt;&gt;&gt; r = requests.\\n<span class=\"BNeawe\"><a href=\"/url?q=https://requests.readthedocs.io/en/master/user/quickstart/&amp;sa=U&amp;ved=2ahUKEwjyn8Xu1MTsAhVDLX0KHbJ0BzwQ0gIwAHoECAEQAg&amp;usg=AOvVaw3g54-0KdYcWq4LY4jxOE8B\"><span class=\"XLloXe AP7Wnd\">Quickstart</span></a></span> · <span class=\"BNeawe\"><a href=\"/url?q=https://requests.readthedocs.io/en/master/user/advanced/&amp;sa=U&amp;ved=2ahUKEwjyn8Xu1MTsAhVDLX0KHbJ0BzwQ0gIwAHoECAEQAw&amp;usg=AOvVaw08AER_RZTKxN88sGKtsTNd\"><span class=\"XLloXe AP7Wnd\">Advanced Usage</span></a></span> · <span class=\"BNeawe\"><a href=\"/url?q=https://requests.readthedocs.io/en/master/user/install/&amp;sa=U&amp;ved=2ahUKEwjyn8Xu1MTsAhVDLX0KHbJ0BzwQ0gIwAHoECAEQBA&amp;usg=AOvVaw1XhtszmzryGSj2cUe4ogZC\"><span class=\"XLloXe AP7Wnd\">Installation of Requests</span></a></span> · <span class=\"BNeawe\"><a href=\"/url?q=https://requests.readthedocs.io/en/master/api/&amp;sa=U&amp;ved=2ahUKEwjyn8Xu1MTsAhVDLX0KHbJ0BzwQ0gIwAHoECAEQBQ&amp;usg=AOvVaw0TPOXO1I065_BNrcYHVqTZ\"><span class=\"XLloXe AP7Wnd\">Developer Interface</span></a></span></div></div></div></div></div></div></div></div><div><div class=\"ZINbbc xpd O9g5cc uUPGi\"><div class=\"kCrYT\"><a href=\"/url?q=https://realpython.com/python-requests/&amp;sa=U&amp;ved=2ahUKEwjyn8Xu1MTsAhVDLX0KHbJ0BzwQFjABegQIAhAB&amp;usg=AOvVaw2EhNQM5RW8FgbhEJbv4Aad\"><h3 class=\"zBAuLc\"><div class=\"BNeawe vvjwJb AP7Wnd\">Python\\'s Requests Library (Guide) &#8211; Real Python</div></h3><div class=\"BNeawe UPmit AP7Wnd\">realpython.com &#8250; python-requests</div></a></div><div class=\"x54gtf\"></div><div class=\"kCrYT\"><div><div class=\"BNeawe s3v9rd AP7Wnd\"><div><div><div class=\"BNeawe s3v9rd AP7Wnd\">The requests library is the de facto standard for making HTTP requests in Python. It abstracts the complexities of making requests behind a beautiful, simple API\\xa0...</div></div></div></div></div></div></div></div><div><div class=\"ZINbbc xpd O9g5cc uUPGi\"><div class=\"kCrYT\"><a href=\"/url?q=https://docs.python.org/3/library/http.client.html&amp;sa=U&amp;ved=2ahUKEwjyn8Xu1MTsAhVDLX0KHbJ0BzwQFjACegQIAxAB&amp;usg=AOvVaw3D8EbPeljgLKIzbrfgtLsZ\"><h3 class=\"zBAuLc\"><div class=\"BNeawe vvjwJb AP7Wnd\">http.client &#8212; HTTP protocol client &#8212; Python 3.9.0 documentation</div></h3><div class=\"BNeawe UPmit AP7Wnd\">docs.python.org &#8250; library &#8250; http.client.html</div></a></div><div class=\"x54gtf\"></div><div class=\"kCrYT\"><div><div class=\"BNeawe s3v9rd AP7Wnd\"><div><div><div class=\"BNeawe s3v9rd AP7Wnd\">request uses it to handle URLs that use HTTP and HTTPS. See also. The Requests package is recommended for a higher-level HTTP client interface. Note .</div></div></div></div></div></div></div></div><div><div class=\"ZINbbc xpd O9g5cc uUPGi\"><div class=\"kCrYT\"><a href=\"/url?q=https://www.w3schools.com/python/module_requests.asp&amp;sa=U&amp;ved=2ahUKEwjyn8Xu1MTsAhVDLX0KHbJ0BzwQFjADegQIBBAB&amp;usg=AOvVaw3drJbuoUO5ZKSjWMNlHwwS\"><h3 class=\"zBAuLc\"><div class=\"BNeawe vvjwJb AP7Wnd\">Python Requests Module - W3Schools</div></h3><div class=\"BNeawe UPmit AP7Wnd\">www.w3schools.com &#8250; python &#8250; module_requests</div></a></div><div class=\"x54gtf\"></div><div class=\"kCrYT\"><div><div class=\"BNeawe s3v9rd AP7Wnd\"><div><div><div class=\"BNeawe s3v9rd AP7Wnd\">Definition and Usage. The requests module allows you to send HTTP requests using Python. The HTTP request returns a Response Object with all the response \\xa0...</div></div></div></div></div></div></div></div><div><div class=\"ZINbbc xpd O9g5cc uUPGi\"><div class=\"kCrYT\"><a href=\"/url?q=https://www.datacamp.com/community/tutorials/making-http-requests-in-python&amp;sa=U&amp;ved=2ahUKEwjyn8Xu1MTsAhVDLX0KHbJ0BzwQFjAEegQIBRAB&amp;usg=AOvVaw1-nJav06Mb8gVvaZ3BUZ6Y\"><h3 class=\"zBAuLc\"><div class=\"BNeawe vvjwJb AP7Wnd\">Performing an HTTP Request in Python - DataCamp</div></h3><div class=\"BNeawe UPmit AP7Wnd\">www.datacamp.com &#8250; community &#8250; tutorials &#8250; making-http-requests-in-pyt...</div></a></div><div class=\"x54gtf\"></div><div class=\"kCrYT\"><div><div class=\"BNeawe s3v9rd AP7Wnd\"><div><div><div class=\"BNeawe s3v9rd AP7Wnd\"><span class=\"r0bn4c rQMQod\">Sep 19, 2019</span><span class=\"r0bn4c rQMQod\"> · </span>There are many libraries to make an HTTP request in Python, which are httplib, urllib, httplib2 , treq, etc., but requests are the simplest and most\\xa0...</div></div></div></div></div></div></div></div><div class=\"ZINbbc xpd O9g5cc uUPGi\"><h2 class=\"wITvVb\"><span><div class=\"BNeawe deIvCb AP7Wnd\"><span class=\"FCUp0c rQMQod\">People also ask</span></div></span></h2><div class=\"LKSyXe\"></div><div class=\"xpc\"><div class=\"duf-h\"><div class=\"fLtXsc hide-focus-ring iIWm4b\" aria-expanded=\"false\" id=\"tsuid1\" role=\"button\" tabindex=\"0\" data-ved=\"2ahUKEwjyn8Xu1MTsAhVDLX0KHbJ0BzwQuk56BAgKEAI\"><div class=\"Lt3Tzc\">How do you send a HTTP POST request in Python?</div><div class=\"Lym8W xCgLUe\"><div class=\"AeQQub hwc\"></div><div class=\"YCU7eb hwc\"></div><div class=\"IyYaEd hwx\"></div><div class=\"ECUHQe hwx\"></div></div></div></div><div class=\"qxDOhb\" id=\"accdef_2\"></div></div><div class=\"LKSyXe\"></div><div class=\"xpc\"><div class=\"duf-h\"><div class=\"fLtXsc hide-focus-ring iIWm4b\" aria-expanded=\"false\" id=\"tsuid4\" role=\"button\" tabindex=\"0\" data-ved=\"2ahUKEwjyn8Xu1MTsAhVDLX0KHbJ0BzwQuk56BAgKEAU\"><div class=\"Lt3Tzc\">What is a request in HTTP?</div><div class=\"Lym8W xCgLUe\"><div class=\"AeQQub hwc\"></div><div class=\"YCU7eb hwc\"></div><div class=\"IyYaEd hwx\"></div><div class=\"ECUHQe hwx\"></div></div></div></div><div class=\"qxDOhb\" id=\"accdef_5\"></div></div><div class=\"LKSyXe\"></div><div class=\"xpc\"><div class=\"duf-h\"><div class=\"fLtXsc hide-focus-ring iIWm4b\" aria-expanded=\"false\" id=\"tsuid7\" role=\"button\" tabindex=\"0\" data-ved=\"2ahUKEwjyn8Xu1MTsAhVDLX0KHbJ0BzwQuk56BAgKEAg\"><div class=\"Lt3Tzc\">What are Python requests?</div><div class=\"Lym8W xCgLUe\"><div class=\"AeQQub hwc\"></div><div class=\"YCU7eb hwc\"></div><div class=\"IyYaEd hwx\"></div><div class=\"ECUHQe hwx\"></div></div></div></div><div class=\"qxDOhb\" id=\"accdef_8\"></div></div><div class=\"LKSyXe\"></div><div class=\"xpc\"><div class=\"duf-h\"><div class=\"fLtXsc hide-focus-ring iIWm4b\" aria-expanded=\"false\" id=\"tsuid10\" role=\"button\" tabindex=\"0\" data-ved=\"2ahUKEwjyn8Xu1MTsAhVDLX0KHbJ0BzwQuk56BAgKEAs\"><div class=\"Lt3Tzc\">How do I install Python requests?</div><div class=\"Lym8W xCgLUe\"><div class=\"AeQQub hwc\"></div><div class=\"YCU7eb hwc\"></div><div class=\"IyYaEd hwx\"></div><div class=\"ECUHQe hwx\"></div></div></div></div><div class=\"qxDOhb\" id=\"accdef_11\"></div></div></div><div class=\"ZINbbc xpd O9g5cc uUPGi\"><h2 class=\"wITvVb\"><span><div class=\"BNeawe deIvCb AP7Wnd\"><span class=\"FCUp0c rQMQod\">Related searches</span></div></span></h2><div class=\"LKSyXe\"></div><div class=\"Sljvkf iIWm4b\"><a class=\"fohFr\" href=\"/search?num=5&amp;ie=UTF-8&amp;q=Python+requests+POST&amp;sa=X&amp;ved=2ahUKEwjyn8Xu1MTsAhVDLX0KHbJ0BzwQ1QJ6BAgAEAI\"><accordion-entry-search-icon><span class=\"QDvyZe WqQeqc LsF2v\"><span></span></span></accordion-entry-search-icon><div class=\"EbCMvf cREFlf\"><div class=\"yE2Vzb\"><span><div class=\"BNeawe s3v9rd AP7Wnd lRVwie\">Python requests POST</div></span></div></div></a></div><div class=\"LKSyXe\"></div><div class=\"Sljvkf iIWm4b\"><a class=\"fohFr\" href=\"/search?num=5&amp;ie=UTF-8&amp;q=Python+requests+response&amp;sa=X&amp;ved=2ahUKEwjyn8Xu1MTsAhVDLX0KHbJ0BzwQ1QJ6BAgAEAQ\"><accordion-entry-search-icon><span class=\"QDvyZe WqQeqc LsF2v\"><span></span></span></accordion-entry-search-icon><div class=\"EbCMvf cREFlf\"><div class=\"yE2Vzb\"><span><div class=\"BNeawe s3v9rd AP7Wnd lRVwie\">Python requests response</div></span></div></div></a></div><div class=\"LKSyXe\"></div><div class=\"Sljvkf iIWm4b\"><a class=\"fohFr\" href=\"/search?num=5&amp;ie=UTF-8&amp;q=Python+requests+headers&amp;sa=X&amp;ved=2ahUKEwjyn8Xu1MTsAhVDLX0KHbJ0BzwQ1QJ6BAgAEAY\"><accordion-entry-search-icon><span class=\"QDvyZe WqQeqc LsF2v\"><span></span></span></accordion-entry-search-icon><div class=\"EbCMvf cREFlf\"><div class=\"yE2Vzb\"><span><div class=\"BNeawe s3v9rd AP7Wnd lRVwie\">Python requests headers</div></span></div></div></a></div><div class=\"LKSyXe\"></div><div class=\"Sljvkf iIWm4b\"><a class=\"fohFr\" href=\"/search?num=5&amp;ie=UTF-8&amp;q=Python+requests+module&amp;sa=X&amp;ved=2ahUKEwjyn8Xu1MTsAhVDLX0KHbJ0BzwQ1QJ6BAgAEAg\"><accordion-entry-search-icon><span class=\"QDvyZe WqQeqc LsF2v\"><span></span></span></accordion-entry-search-icon><div class=\"EbCMvf cREFlf\"><div class=\"yE2Vzb\"><span><div class=\"BNeawe s3v9rd AP7Wnd lRVwie\">Python requests module</div></span></div></div></a></div><div class=\"LKSyXe\"></div><div class=\"Sljvkf iIWm4b\"><a class=\"fohFr\" href=\"/search?num=5&amp;ie=UTF-8&amp;q=Python+requests+session&amp;sa=X&amp;ved=2ahUKEwjyn8Xu1MTsAhVDLX0KHbJ0BzwQ1QJ6BAgAEAo\"><accordion-entry-search-icon><span class=\"QDvyZe WqQeqc LsF2v\"><span></span></span></accordion-entry-search-icon><div class=\"EbCMvf cREFlf\"><div class=\"yE2Vzb\"><span><div class=\"BNeawe s3v9rd AP7Wnd lRVwie\">Python requests session</div></span></div></div></a></div><div class=\"LKSyXe\"></div><div class=\"Sljvkf iIWm4b\"><a class=\"fohFr\" href=\"/search?num=5&amp;ie=UTF-8&amp;q=Python+HTTP+Tutorial&amp;sa=X&amp;ved=2ahUKEwjyn8Xu1MTsAhVDLX0KHbJ0BzwQ1QJ6BAgAEAw\"><accordion-entry-search-icon><span class=\"QDvyZe WqQeqc LsF2v\"><span></span></span></accordion-entry-search-icon><div class=\"EbCMvf cREFlf\"><div class=\"yE2Vzb\"><span><div class=\"BNeawe s3v9rd AP7Wnd lRVwie\">Python HTTP Tutorial</div></span></div></div></a></div><div class=\"LKSyXe\"></div><div class=\"Sljvkf iIWm4b\"><a class=\"fohFr\" href=\"/search?num=5&amp;ie=UTF-8&amp;q=Python+requests+post+headers&amp;sa=X&amp;ved=2ahUKEwjyn8Xu1MTsAhVDLX0KHbJ0BzwQ1QJ6BAgAEA4\"><accordion-entry-search-icon><span class=\"QDvyZe WqQeqc LsF2v\"><span></span></span></accordion-entry-search-icon><div class=\"EbCMvf cREFlf\"><div class=\"yE2Vzb\"><span><div class=\"BNeawe s3v9rd AP7Wnd lRVwie\">Python requests post headers</div></span></div></div></a></div><div class=\"LKSyXe\"></div><div class=\"Sljvkf iIWm4b\"><a class=\"fohFr\" href=\"/search?num=5&amp;ie=UTF-8&amp;q=Python+requests+install&amp;sa=X&amp;ved=2ahUKEwjyn8Xu1MTsAhVDLX0KHbJ0BzwQ1QJ6BAgAEBA\"><accordion-entry-search-icon><span class=\"QDvyZe WqQeqc LsF2v\"><span></span></span></accordion-entry-search-icon><div class=\"EbCMvf cREFlf\"><div class=\"yE2Vzb\"><span><div class=\"BNeawe s3v9rd AP7Wnd lRVwie\">Python requests install</div></span></div></div></a></div></div><footer> <div>  <div class=\"ZINbbc xpd O9g5cc uUPGi BmP5tf\"><div class=\"nMymef MUxGbd lyLwlc\"><a class=\"nBDE1b G5eFlf\" href=\"/search?q=python+http+requests&amp;num=5&amp;ie=UTF-8&amp;ei=LKCPX_LZJ8Pa9AOy6Z3gAw&amp;start=5&amp;sa=N\" aria-label=\"Next page\">Next &gt;</a></div></div> </div>  <div id=\"mCljob\"><div><a href=\"/url?q=https://accounts.google.com/ServiceLogin%3Fcontinue%3Dhttps://www.google.com/search%253Fq%253Dpython%252Bhttp%252Brequests%2526num%253D5%26hl%3Den&amp;sa=U&amp;ved=0ahUKEwjyn8Xu1MTsAhVDLX0KHbJ0BzwQxs8CCFY&amp;usg=AOvVaw1tjZnzRAFY9VKjPQeAGQw4\">Sign in</a></div><div><a class=\"ksTU4c\" href=\"https://www.google.com/preferences?hl=en&amp;fg=1&amp;sa=X&amp;ved=0ahUKEwjyn8Xu1MTsAhVDLX0KHbJ0BzwQ5fUCCFc\">Settings</a><a class=\"ksTU4c\" href=\"https://policies.google.com/privacy?hl=en&amp;fg=1\">Privacy</a><a class=\"ksTU4c\" href=\"https://policies.google.com/terms?hl=en&amp;fg=1\">Terms</a></div></div> </footer><script nonce=\"Dmkt8a6TUMTLzKWOgmSskw==\">(function(){var hl=\\'en\\';(function(){\\nvar f=this||self,k=function(a){if(a&&a!=f)return g(a.document);null===h&&(h=g(f.document));return h},l=/^[\\\\w+/_-]+[=]{0,2}$/,h=null,g=function(a){return(a=a.querySelector&&a.querySelector(\"script[nonce]\"))&&(a=a.nonce||a.getAttribute(\"nonce\"))&&l.test(a)?a:\"\"},m=function(a){return a};var n,q=function(){if(void 0===n){var a=null,b=f.trustedTypes;if(b&&b.createPolicy){try{a=b.createPolicy(\"goog#html\",{createHTML:m,createScript:m,createScriptURL:m})}catch(c){f.console&&f.console.error(c.message)}n=a}else n=a}return n};var u=function(a,b){this.g=a===r&&b||\"\";this.a=t},v=function(a){return a instanceof u&&a.constructor===u&&a.a===t?a.g:\"type_error:Const\"},t={},r={};var x=function(a,b){this.a=b===w?a:\"\"},y=function(a){return a instanceof x&&a.constructor===x?a.a:\"type_error:TrustedResourceUrl\"},aa=function(){var a={},b=v(new u(r,\"/complete/search\"));if(!z.test(b))throw Error(\"a`\"+b);var c=b.replace(A,function(d,e){if(!Object.prototype.hasOwnProperty.call(a,e))throw Error(\"b`\"+e+\"`\"+b+\"`\"+JSON.stringify(a));d=a[e];return d instanceof u?v(d):encodeURIComponent(String(d))});return B(c)},A=/%{(\\\\w+)}/g,z=/^((https:)?\\\\/\\\\/[0-9a-z.:[\\\\]-]+\\\\/|\\\\/[^/\\\\\\\\]|[^:/\\\\\\\\%]+\\\\/|[^:/\\\\\\\\%]*[?#]|about:blank#)/i,ba=/^([^?#]*)(\\\\?[^#]*)?(#[\\\\s\\\\S]*)?/,w={},B=function(a){var b=q();a=b?b.createScriptURL(a):a;return new x(a,w)},C=function(a,b,c){if(null==c)return b;if(\"string\"===typeof c)return c?a+encodeURIComponent(c):\"\";for(var d in c)if(Object.prototype.hasOwnProperty.call(c,d)){var e=c[d];e=Array.isArray(e)?e:[e];for(var p=0;p<e.length;p++){var T=e[p];null!=T&&(b||(b=a),b+=(b.length>a.length?\"&\":\"\")+encodeURIComponent(d)+\"=\"+encodeURIComponent(String(T)))}}return b};var E=function(a,b,c){this.a=c===D?a:\"\"},F=function(a){return a instanceof E&&a.constructor===E?a.a:\"type_error:SafeHtml\"},D={},ca=function(a){var b=q();a=b?b.createHTML(a):a;return new E(a,null,D)},da=new E(f.trustedTypes&&f.trustedTypes.emptyHTML||\"\",0,D);var ea=function(a){var b=!1,c;return function(){b||(c=a(),b=!0);return c}}(function(){var a=document.createElement(\"div\"),b=document.createElement(\"div\");b.appendChild(document.createElement(\"div\"));a.appendChild(b);b=a.firstChild.firstChild;a.innerHTML=F(da);return!b.parentElement}),fa=function(a,b){if(ea())for(;a.lastChild;)a.removeChild(a.lastChild);a.innerHTML=F(b)};var G=document.querySelector(\".l\"),H=document.querySelector(\"#sf\"),I=H.querySelector(\".sbc\"),J=H.querySelector(\"[type=text]\"),K=H.querySelector(\"[type=submit]\"),L=H.querySelector(\".sc\"),M=H.querySelector(\".x\"),N=J.value,O=[],P=-1,Q=N,R,S,U;N||(M&&(M.style.display=\"none\"),V(!1));function V(a){if(I.classList.contains(\"esbc\")){var b=I.classList.contains(\"chsbc\"),c=I.classList.contains(\"rtlsbc\");a&&(L.style.display=\"block\",b?(H.style.borderRadius=\"20px 20px 0 0\",L.style.borderBottom=\"1px solid #DFE1E5\",K.style.borderRadius=c?\"20px 0 0 0\":\"0 20px 0 0\"):I.style.borderRadius=c?\"0 8px 0 0\":\"8px 0 0 0\");a||(L.style.display=\"none\",b?(H.style.borderRadius=\"20px\",L.style.borderBottom=\"none\",K.style.borderRadius=c?\"20px 0 0 20px\":\"0 20px 20px 0\"):I.style.borderRadius=c?\"0 8px 8px 0\":\"8px 0 0 8px\")}}function W(){H.querySelector(\"[name=oq]\").value=Q;H.querySelector(\"[name=aqs]\").value=\"heirloom-srp.\"+(0<=P?P:\"\")+\".\"+(0<O.length?\"0l\"+O.length:\"\")}\\nfunction X(){R=null;if(S){var a={client:\"heirloom-srp\",hl:hl,json:\"t\",callback:\"hS\",q:S};\"undefined\"!==typeof ds&&ds&&(a.ds=ds);var b=document;var c=\"SCRIPT\";\"application/xhtml+xml\"===b.contentType&&(c=c.toLowerCase());c=b.createElement(c);b=aa();b=ba.exec(y(b).toString());var d=b[3]||\"\";a=B(b[1]+C(\"?\",b[2]||\"\",a)+C(\"#\",d,void 0));c.src=y(a);(a=k(c.ownerDocument&&c.ownerDocument.defaultView))&&c.setAttribute(\"nonce\",a);(a=k())&&c.setAttribute(\"nonce\",a);document.body.appendChild(c);S=null;R=setTimeout(X,500)}}function Y(){for(;L.firstChild;)L.removeChild(L.firstChild);O=[];P=-1;V(!1)}function Z(){var a=L.querySelector(\".scs\");a&&(a.className=\"\");0<=P?(a=L.childNodes[P],a.className=\"scs\",N=a.textContent):N=Q;J.value=N}J.addEventListener(\"focus\",function(){G&&(G.style.display=\"none\")},!1);J.addEventListener(\"blur\",function(){Y();G&&(G.style.display=\"\")},!1);J.addEventListener(\"keyup\",function(a){N=J.value;U=!1;13==a.which?W():27==a.which?(Y(),G&&(G.style.display=\"\"),N=Q,J.value=N):40==a.which?(P++,P>=O.length&&(P=-1),Z()):38==a.which?(P--,-1>P&&(P=O.length-1),Z()):(a=N)?(M&&(M.style.display=\"\"),S=a,R||X(),Q=a):(M&&(M.style.display=\"none\"),V(!1),Y(),Q=\"\",U=!0)},!1);K.addEventListener(\"click\",W,!1);M.addEventListener(\"click\",function(){J.value=\"\";M.style.display=\"none\";V(!1)},!1);I.addEventListener(\"click\",function(){J.focus()},!1);window.hS=function(a){if(!U){Y();0==a[1].length&&V(!1);for(var b=0;b<a[1].length;b++){var c=a[1][b][0],d=document.createElement(\"div\");var e=ca(c);fa(d,e);d.addEventListener(\"mousedown\",function(p){p.preventDefault();return!1},!1);c=c.replace(/<\\\\/?b>/g,\"\");d.addEventListener(\"click\",function(p){return function(){P=p;W();Z();Y();H.submit()}}(b),!1);L.appendChild(d);V(!0);O.push(c)}}};}).call(this);})();(function(){\\nfunction b(a){for(a=a.target||a.srcElement;a&&\"A\"!=a.nodeName;)a=a.parentElement;a&&(a.href||\"\").match(/\\\\/search.*[?&]tbm=isch/)&&(a.href+=\"&biw=\"+document.documentElement.clientWidth,a.href+=\"&bih=\"+document.documentElement.clientHeight)}document.addEventListener(\"click\",b,!1);document.addEventListener(\"touchStart\",b,!1);}).call(this);</script></div><!-- cctlcm 5 cctlcm --><textarea class=\"csi\" name=\"csi\" style=\"display:none\"></textarea><script nonce=\"Dmkt8a6TUMTLzKWOgmSskw==\">(function(){var e=\\'LKCPX_LZJ8Pa9AOy6Z3gAw\\';var sn=\\'web\\';(function(){\\nfunction x(a){return!a||y(a)?0:a.getBoundingClientRect?z(a,function(c){return c.getBoundingClientRect()}):1}function y(a){if(\"none\"==a.style.display)return!0;if(document.defaultView&&document.defaultView.getComputedStyle){var c=a.getAttribute(\"data-deferred\");c&&a.setAttribute(\"data-deferred\",0);var b=document.defaultView.getComputedStyle(a);b=!!b&&(\"hidden\"==b.visibility||\"0px\"==b.height&&\"0px\"==b.width);c&&a.setAttribute(\"data-deferred\",c);return b}return!1}\\nfunction z(a,c){var b=c(a);a=b.left+window.pageXOffset;c=b.top+window.pageYOffset;var f=b.width;b=b.height;var h=0;if(0>=b&&0>=f)return h;0>c+b?h=2:c>=(window.innerHeight||document.documentElement.clientHeight)&&(h=4);if(0>a+f||a>=(window.innerWidth||document.documentElement.clientWidth))h|=8;return h||1};var H=e,I=sn,J=[];function K(a,c,b){a=\"/gen_204?atyp=csi&s=\"+(I||\"web\")+\"&t=\"+a+(\"&lite=1&ei=\"+H+\"&conn=\"+(window.navigator&&window.navigator.connection?window.navigator.connection.type:-1)+c);c=\"&rt=\";for(var f in b)a+=\"\"+c+f+\".\"+b[f],c=\",\";return a}function L(a){a={prt:a};window.wsrt&&(a.wsrt=window.wsrt);return a}function M(a){window.ping?window.ping(a):(new Image).src=a}\\n(function(){for(var a=(new Date).getTime()-window.start,c=L(a),b=0,f=0,h=0,A=document.getElementsByTagName(\"img\"),n=\"&imn=\"+A.length+\"&biw=\"+window.innerWidth+\"&bih=\"+window.innerHeight,N=function(g,p){g.onload=function(){f=(new Date).getTime()-window.start;p&&++t==h&&(b=f,B());g.onload=null}},B=function(){n+=\"&ima=\"+h;c.aft=b;M(K(\"aft\",n,c))},t=0,O=0,d=void 0;d=A[O++];){var q=x(d),r=1==q;r&&++h;var m=d.hasAttribute(\"data-ilite\"),u=d.hasAttribute(\"data-deferred\")||m,C=d.getAttribute(\"data-src\")||\\nd.getAttribute(\"data-lzysrc\");J.push([q,u,!u&&C,google.ldi&&d.id&&google.ldi[d.id]||m&&C]);m=(q=d.complete&&(m||!u))&&Number(d.getAttribute(\"data-iml\"))||0;q&&m?(r&&++t,m&&(d=m-window.start,r&&(b=Math.max(b,d)),f=Math.max(f,d))):N(d,r)}b||(b=a);f||(f=b);t==h&&B();google.rglh&&google.rglh();window.addEventListener(\"load\",function(){window.setTimeout(function(){c.ol=(new Date).getTime()-window.start;c.iml=f;var g=window.performance&&window.performance.timing;g&&(c.rqst=g.responseEnd-g.requestStart,c.rspt=g.responseEnd-g.responseStart);for(var p=g=0,D=0,E=0,F=0,P=0,k;k=J[P++];){var l=k[0],v=k[1],Q=k[2];k=k[3];var R=0==l,w=l&8,G=l&4;l=1==l||2==l||w&&!G;!l||w||v&&!k||++D;v&&(l&&k&&++g,G&&!k&&++p);R||w?Q||++F:v||++E}n+=\"&ime=\"+D+(\"&imex=\"+E+\"&imeh=\"+F)+(\"&imea=\"+g+\"&imeb=\"+p);M(K(\"all\",n,c))},0)},!1)})();}).call(this);})();</script><script nonce=\"Dmkt8a6TUMTLzKWOgmSskw==\">(function(){var e=\\'LKCPX_LZJ8Pa9AOy6Z3gAw\\';(function(){\\nvar a=e;2==(window.performance&&window.performance.navigation&&window.performance.navigation.type)&&window.ping(\"/gen_204?ct=backbutton&ei=\"+a);}).call(this);})();(function(){\\nvar b=[function(){google.tick&&google.tick(\"load\",\"dcl\")}];google.dclc=function(a){b.length?b.push(a):a()};function c(){for(var a;a=b.shift();)a()}window.addEventListener?(document.addEventListener(\"DOMContentLoaded\",c,!1),window.addEventListener(\"load\",c,!1)):window.attachEvent&&window.attachEvent(\"onload\",c);}).call(this);(function(){(function(){google.csct={};google.csct.ps=\\'AOvVaw2e0tmB-69gs1OHu8o3uqeP\\\\x26ust\\\\x3d1603334572690846\\';})();})();(function(){(function(){google.csct.rd=true;})();})();(function(){window.xp=function(b){function f(k,g,h){return\"xp\"+(\"x\"==g?\"c\":\"x\")+h}for(var c=/\\\\bxp(x|c)(\\\\d?)\\\\b/,a=b;a;){var e=a.className,d=e.match(c);if(d){d=\"c\"==d[1];a.className=e.replace(c,f);b&&b.setAttribute(\"aria-expanded\",d);if(d)for(b=a.getElementsByTagName(\"img\"),c=0;c<b.length;++c)if(a=b[c],e=a.getAttribute(\"data-ll\"))a.src=e,a.removeAttribute(\"data-ll\");break}a=a.parentElement}};})();(function(){(function(){window.logVe=function(a){a&&a.attributes[\"data-ved\"]&&window.ping(\"/gen_204?ved=\"+a.attributes[\"data-ved\"].value)};}).call(this);})();(function(){(function(){var id=\\'tsuid1\\';var lve=true;(function(){\\n\\n\\nvar e=\"undefined\"!=typeof navigator&&!/Opera/.test(navigator.userAgent)&&/WebKit/.test(navigator.userAgent),f={A:1,INPUT:1,TEXTAREA:1,SELECT:1,BUTTON:1},g={A:13,BUTTON:0,CHECKBOX:32,COMBOBOX:13,FILE:0,GRIDCELL:13,LINK:13,LISTBOX:13,MENU:0,MENUBAR:0,MENUITEM:0,MENUITEMCHECKBOX:0,MENUITEMRADIO:0,OPTION:0,RADIO:32,RADIOGROUP:32,RESET:0,SUBMIT:0,SWITCH:32,TAB:0,TREE:13,TREEITEM:13},h={CHECKBOX:!0,FILE:!0,OPTION:!0,RADIO:!0},k={COLOR:!0,DATE:!0,DATETIME:!0,\"DATETIME-LOCAL\":!0,EMAIL:!0,MONTH:!0,NUMBER:!0,PASSWORD:!0,RANGE:!0,SEARCH:!0,TEL:!0,TEXT:!0,TEXTAREA:!0,TIME:!0,URL:!0,WEEK:!0};document.getElementById(id).onclick=function(){window.xp(this);lve&&window.logVe(this)};document.getElementById(id).onkeydown=function(d){var c=d.which||d.keyCode;e&&3==c&&(c=13);if(13!=c&&32!=c)c=!1;else{var a=d.target||d.srcElement;!a.getAttribute&&a.parentNode&&(a=a.parentNode);var b;if(!(b=\"keydown\"!=d.type)){if(b=\"getAttribute\"in a)b=!((a.getAttribute(\"type\")||a.tagName).toUpperCase()in k);b=!(b&&!(\"BUTTON\"==a.tagName.toUpperCase()||a.type&&\"FILE\"==a.type.toUpperCase())&&!a.isContentEditable)}(b=b||d.ctrlKey||d.shiftKey||d.altKey||d.metaKey||(a.getAttribute(\"type\")||a.tagName).toUpperCase()in\\nh&&32==c)||((b=a.tagName in f)||(b=a.getAttributeNode(\"tabindex\"),b=null!=b&&b.specified),b=!(b&&!a.disabled));if(b)c=!1;else{b=(a.getAttribute(\"role\")||a.type||a.tagName).toUpperCase();var l=!(b in g)&&13==c;a=\"INPUT\"!=a.tagName.toUpperCase()||!!a.type;c=(0==g[b]%c||l)&&a}}c&&(d.preventDefault(),window.xp(this),lve&&window.logVe(this))};}).call(this);})();})();(function(){window.jsl=window.jsl||{};window.jsl.dh=window.jsl.dh||function(i,c,d){try{var e=document.getElementById(i);if(e){e.innerHTML=c;if(d){d();}}else{if(window.jsl.el){window.jsl.el(new Error(\\'Missing ID.\\'),{\\'id\\':i});}}}catch(e){if(window.jsl.el){window.jsl.el(new Error(\\'jsl.dh\\'));}}};})();(function(){window.jsl.dh(\\'accdef_2\\',\\'\\\\x3cdiv\\\\x3e\\\\x3cdiv class\\\\x3d\\\\x22hwc M56Nqc\\\\x22\\\\x3e\\\\x3cdiv class\\\\x3d\\\\x22Z8j5ae\\\\x22\\\\x3e\\\\x3cdiv\\\\x3e\\\\x3cdiv class\\\\x3d\\\\x22ZINbbc xpd O9g5cc uUPGi\\\\x22\\\\x3e\\\\x3cdiv class\\\\x3d\\\\x22kCrYT\\\\x22\\\\x3e\\\\x3cdiv\\\\x3e\\\\x3cdiv class\\\\x3d\\\\x22BNeawe s3v9rd AP7Wnd\\\\x22\\\\x3e\\\\x3cdiv\\\\x3e\\\\x3cdiv class\\\\x3d\\\\x22BNeawe s3v9rd AP7Wnd\\\\x22\\\\x3eUse \\\\x3cspan class\\\\x3d\\\\x22FCUp0c rQMQod\\\\x22\\\\x3erequests\\\\x3c/span\\\\x3e. \\\\x3cspan class\\\\x3d\\\\x22FCUp0c rQMQod\\\\x22\\\\x3epost\\\\x3c/span\\\\x3e() to make a \\\\x3cspan class\\\\x3d\\\\x22FCUp0c rQMQod\\\\x22\\\\x3ePOST request\\\\x3c/span\\\\x3e\\\\n\\\\n Call \\\\x3cspan class\\\\x3d\\\\x22FCUp0c rQMQod\\\\x22\\\\x3erequests\\\\x3c/span\\\\x3e. \\\\x3cspan class\\\\x3d\\\\x22FCUp0c rQMQod\\\\x22\\\\x3epost\\\\x3c/span\\\\x3e(url, data) to make a \\\\x3cspan class\\\\x3d\\\\x22FCUp0c rQMQod\\\\x22\\\\x3ePOST request\\\\x3c/span\\\\x3e to the source url with data attached. This returns a Response object containing the server\\\\x27s response to the \\\\x3cspan class\\\\x3d\\\\x22FCUp0c rQMQod\\\\x22\\\\x3erequest\\\\x3c/span\\\\x3e. Access the data in the \\\\x3cspan class\\\\x3d\\\\x22FCUp0c rQMQod\\\\x22\\\\x3erequest\\\\x3c/span\\\\x3e by calling \\\\x3cspan class\\\\x3d\\\\x22FCUp0c rQMQod\\\\x22\\\\x3erequests\\\\x3c/span\\\\x3e.\\\\x3c/div\\\\x3e\\\\x3c/div\\\\x3e\\\\x3c/div\\\\x3e\\\\x3c/div\\\\x3e\\\\x3c/div\\\\x3e\\\\x3cdiv class\\\\x3d\\\\x22x54gtf\\\\x22\\\\x3e\\\\x3c/div\\\\x3e\\\\x3cdiv class\\\\x3d\\\\x22kCrYT\\\\x22\\\\x3e\\\\x3ca href\\\\x3d\\\\x22/url?q\\\\x3dhttps://www.kite.com/python/answers/how-to-send-a-post-request-in-python\\\\x26amp;sa\\\\x3dU\\\\x26amp;ved\\\\x3d2ahUKEwjyn8Xu1MTsAhVDLX0KHbJ0BzwQFnoECAYQAg\\\\x26amp;usg\\\\x3dAOvVaw1iwiSJgfQO5FNcuFPSvdeN\\\\x22\\\\x3e\\\\x3cspan\\\\x3e\\\\x3cdiv class\\\\x3d\\\\x22BNeawe vvjwJb AP7Wnd\\\\x22\\\\x3eHow to send a POST request in Python - Kite\\\\x3c/div\\\\x3e\\\\x3c/span\\\\x3e\\\\x3cspan\\\\x3e\\\\x3cdiv class\\\\x3d\\\\x22BNeawe UPmit AP7Wnd\\\\x22\\\\x3ewww.kite.com \\\\x26gt; python \\\\x26gt; answers \\\\x26gt; how-to-send-a-post-request-in-python\\\\x3c/div\\\\x3e\\\\x3c/span\\\\x3e\\\\x3c/a\\\\x3e\\\\x3c/div\\\\x3e\\\\x3c/div\\\\x3e\\\\x3c/div\\\\x3e\\\\x3c/div\\\\x3e\\\\x3cdiv\\\\x3e\\\\x3cdiv class\\\\x3d\\\\x22PDHNXc\\\\x22\\\\x3e\\\\x3cdiv class\\\\x3d\\\\x22iU269d TeHtNe\\\\x22\\\\x3e\\\\x3cspan class\\\\x3d\\\\x22kXUfPb Vp9uZ\\\\x22\\\\x3e\\\\x3ca class\\\\x3d\\\\x22RtoYlb\\\\x22 href\\\\x3d\\\\x22https://www.google.com/search?num\\\\x3d5\\\\x26amp;ie\\\\x3dUTF-8\\\\x26amp;ei\\\\x3dLKCPX_LZJ8Pa9AOy6Z3gAw\\\\x26amp;q\\\\x3dHow+do+you+send+a+HTTP+POST+request+in+Python?\\\\x26amp;sa\\\\x3dX\\\\x26amp;ved\\\\x3d2ahUKEwjyn8Xu1MTsAhVDLX0KHbJ0BzwQzmd6BAgKEAM\\\\x22\\\\x3eMore results\\\\x3c/a\\\\x3e\\\\x3c/span\\\\x3e\\\\x3c/div\\\\x3e\\\\x3c/div\\\\x3e\\\\x3c/div\\\\x3e\\\\x3c/div\\\\x3e\\\\x3c/div\\\\x3e\\');})();(function(){(function(){var id=\\'tsuid4\\';var lve=true;(function(){\\n\\n\\nvar e=\"undefined\"!=typeof navigator&&!/Opera/.test(navigator.userAgent)&&/WebKit/.test(navigator.userAgent),f={A:1,INPUT:1,TEXTAREA:1,SELECT:1,BUTTON:1},g={A:13,BUTTON:0,CHECKBOX:32,COMBOBOX:13,FILE:0,GRIDCELL:13,LINK:13,LISTBOX:13,MENU:0,MENUBAR:0,MENUITEM:0,MENUITEMCHECKBOX:0,MENUITEMRADIO:0,OPTION:0,RADIO:32,RADIOGROUP:32,RESET:0,SUBMIT:0,SWITCH:32,TAB:0,TREE:13,TREEITEM:13},h={CHECKBOX:!0,FILE:!0,OPTION:!0,RADIO:!0},k={COLOR:!0,DATE:!0,DATETIME:!0,\"DATETIME-LOCAL\":!0,EMAIL:!0,MONTH:!0,NUMBER:!0,PASSWORD:!0,RANGE:!0,SEARCH:!0,TEL:!0,TEXT:!0,TEXTAREA:!0,TIME:!0,URL:!0,WEEK:!0};document.getElementById(id).onclick=function(){window.xp(this);lve&&window.logVe(this)};document.getElementById(id).onkeydown=function(d){var c=d.which||d.keyCode;e&&3==c&&(c=13);if(13!=c&&32!=c)c=!1;else{var a=d.target||d.srcElement;!a.getAttribute&&a.parentNode&&(a=a.parentNode);var b;if(!(b=\"keydown\"!=d.type)){if(b=\"getAttribute\"in a)b=!((a.getAttribute(\"type\")||a.tagName).toUpperCase()in k);b=!(b&&!(\"BUTTON\"==a.tagName.toUpperCase()||a.type&&\"FILE\"==a.type.toUpperCase())&&!a.isContentEditable)}(b=b||d.ctrlKey||d.shiftKey||d.altKey||d.metaKey||(a.getAttribute(\"type\")||a.tagName).toUpperCase()in\\nh&&32==c)||((b=a.tagName in f)||(b=a.getAttributeNode(\"tabindex\"),b=null!=b&&b.specified),b=!(b&&!a.disabled));if(b)c=!1;else{b=(a.getAttribute(\"role\")||a.type||a.tagName).toUpperCase();var l=!(b in g)&&13==c;a=\"INPUT\"!=a.tagName.toUpperCase()||!!a.type;c=(0==g[b]%c||l)&&a}}c&&(d.preventDefault(),window.xp(this),lve&&window.logVe(this))};}).call(this);})();})();(function(){window.jsl.dh(\\'accdef_5\\',\\'\\\\x3cdiv\\\\x3e\\\\x3cdiv class\\\\x3d\\\\x22hwc M56Nqc\\\\x22\\\\x3e\\\\x3cdiv class\\\\x3d\\\\x22Z8j5ae\\\\x22\\\\x3e\\\\x3cdiv\\\\x3e\\\\x3cdiv class\\\\x3d\\\\x22ZINbbc xpd O9g5cc uUPGi\\\\x22\\\\x3e\\\\x3cdiv class\\\\x3d\\\\x22kCrYT\\\\x22\\\\x3e\\\\x3cdiv\\\\x3e\\\\x3cdiv class\\\\x3d\\\\x22BNeawe s3v9rd AP7Wnd\\\\x22\\\\x3e\\\\x3cdiv\\\\x3e\\\\x3cdiv class\\\\x3d\\\\x22BNeawe s3v9rd AP7Wnd\\\\x22\\\\x3eThe message that is sent by a client to a server is what is known as an \\\\x3cspan class\\\\x3d\\\\x22FCUp0c rQMQod\\\\x22\\\\x3eHTTP request\\\\x3c/span\\\\x3e. When these \\\\x3cspan class\\\\x3d\\\\x22FCUp0c rQMQod\\\\x22\\\\x3erequests\\\\x3c/span\\\\x3e are being sent, clients can use various methods. Therefore, \\\\x3cspan class\\\\x3d\\\\x22FCUp0c rQMQod\\\\x22\\\\x3eHTTP request\\\\x3c/span\\\\x3e methods are the assets that indicate the specific desired action to be performed on a given resource.\\\\x3c/div\\\\x3e\\\\x3c/div\\\\x3e\\\\x3c/div\\\\x3e\\\\x3c/div\\\\x3e\\\\x3c/div\\\\x3e\\\\x3cdiv class\\\\x3d\\\\x22x54gtf\\\\x22\\\\x3e\\\\x3c/div\\\\x3e\\\\x3cdiv class\\\\x3d\\\\x22kCrYT\\\\x22\\\\x3e\\\\x3ca href\\\\x3d\\\\x22/url?q\\\\x3dhttps://rapidapi.com/blog/api-glossary/http-request-methods/\\\\x26amp;sa\\\\x3dU\\\\x26amp;ved\\\\x3d2ahUKEwjyn8Xu1MTsAhVDLX0KHbJ0BzwQFnoECAcQAg\\\\x26amp;usg\\\\x3dAOvVaw0d2aqyEZGJOur8dODdWoE7\\\\x22\\\\x3e\\\\x3cspan\\\\x3e\\\\x3cdiv class\\\\x3d\\\\x22BNeawe vvjwJb AP7Wnd\\\\x22\\\\x3eWhat are HTTP Requests? | HTTP Request Methods Definition | API ...\\\\x3c/div\\\\x3e\\\\x3c/span\\\\x3e\\\\x3cspan\\\\x3e\\\\x3cdiv class\\\\x3d\\\\x22BNeawe UPmit AP7Wnd\\\\x22\\\\x3erapidapi.com \\\\x26gt; blog \\\\x26gt; api-glossary \\\\x26gt; http-request-methods\\\\x3c/div\\\\x3e\\\\x3c/span\\\\x3e\\\\x3c/a\\\\x3e\\\\x3c/div\\\\x3e\\\\x3c/div\\\\x3e\\\\x3c/div\\\\x3e\\\\x3c/div\\\\x3e\\\\x3cdiv\\\\x3e\\\\x3cdiv class\\\\x3d\\\\x22PDHNXc\\\\x22\\\\x3e\\\\x3cdiv class\\\\x3d\\\\x22iU269d TeHtNe\\\\x22\\\\x3e\\\\x3cspan class\\\\x3d\\\\x22kXUfPb Vp9uZ\\\\x22\\\\x3e\\\\x3ca class\\\\x3d\\\\x22RtoYlb\\\\x22 href\\\\x3d\\\\x22https://www.google.com/search?num\\\\x3d5\\\\x26amp;ie\\\\x3dUTF-8\\\\x26amp;ei\\\\x3dLKCPX_LZJ8Pa9AOy6Z3gAw\\\\x26amp;q\\\\x3dWhat+is+a+request+in+HTTP?\\\\x26amp;sa\\\\x3dX\\\\x26amp;ved\\\\x3d2ahUKEwjyn8Xu1MTsAhVDLX0KHbJ0BzwQzmd6BAgKEAY\\\\x22\\\\x3eMore results\\\\x3c/a\\\\x3e\\\\x3c/span\\\\x3e\\\\x3c/div\\\\x3e\\\\x3c/div\\\\x3e\\\\x3c/div\\\\x3e\\\\x3c/div\\\\x3e\\\\x3c/div\\\\x3e\\');})();(function(){(function(){var id=\\'tsuid7\\';var lve=true;(function(){\\n\\n\\nvar e=\"undefined\"!=typeof navigator&&!/Opera/.test(navigator.userAgent)&&/WebKit/.test(navigator.userAgent),f={A:1,INPUT:1,TEXTAREA:1,SELECT:1,BUTTON:1},g={A:13,BUTTON:0,CHECKBOX:32,COMBOBOX:13,FILE:0,GRIDCELL:13,LINK:13,LISTBOX:13,MENU:0,MENUBAR:0,MENUITEM:0,MENUITEMCHECKBOX:0,MENUITEMRADIO:0,OPTION:0,RADIO:32,RADIOGROUP:32,RESET:0,SUBMIT:0,SWITCH:32,TAB:0,TREE:13,TREEITEM:13},h={CHECKBOX:!0,FILE:!0,OPTION:!0,RADIO:!0},k={COLOR:!0,DATE:!0,DATETIME:!0,\"DATETIME-LOCAL\":!0,EMAIL:!0,MONTH:!0,NUMBER:!0,PASSWORD:!0,RANGE:!0,SEARCH:!0,TEL:!0,TEXT:!0,TEXTAREA:!0,TIME:!0,URL:!0,WEEK:!0};document.getElementById(id).onclick=function(){window.xp(this);lve&&window.logVe(this)};document.getElementById(id).onkeydown=function(d){var c=d.which||d.keyCode;e&&3==c&&(c=13);if(13!=c&&32!=c)c=!1;else{var a=d.target||d.srcElement;!a.getAttribute&&a.parentNode&&(a=a.parentNode);var b;if(!(b=\"keydown\"!=d.type)){if(b=\"getAttribute\"in a)b=!((a.getAttribute(\"type\")||a.tagName).toUpperCase()in k);b=!(b&&!(\"BUTTON\"==a.tagName.toUpperCase()||a.type&&\"FILE\"==a.type.toUpperCase())&&!a.isContentEditable)}(b=b||d.ctrlKey||d.shiftKey||d.altKey||d.metaKey||(a.getAttribute(\"type\")||a.tagName).toUpperCase()in\\nh&&32==c)||((b=a.tagName in f)||(b=a.getAttributeNode(\"tabindex\"),b=null!=b&&b.specified),b=!(b&&!a.disabled));if(b)c=!1;else{b=(a.getAttribute(\"role\")||a.type||a.tagName).toUpperCase();var l=!(b in g)&&13==c;a=\"INPUT\"!=a.tagName.toUpperCase()||!!a.type;c=(0==g[b]%c||l)&&a}}c&&(d.preventDefault(),window.xp(this),lve&&window.logVe(this))};}).call(this);})();})();(function(){window.jsl.dh(\\'accdef_8\\',\\'\\\\x3cdiv\\\\x3e\\\\x3cdiv class\\\\x3d\\\\x22hwc M56Nqc\\\\x22\\\\x3e\\\\x3cdiv class\\\\x3d\\\\x22Z8j5ae\\\\x22\\\\x3e\\\\x3cdiv\\\\x3e\\\\x3cdiv class\\\\x3d\\\\x22ZINbbc xpd O9g5cc uUPGi\\\\x22\\\\x3e\\\\x3cdiv class\\\\x3d\\\\x22kCrYT\\\\x22\\\\x3e\\\\x3cdiv\\\\x3e\\\\x3cdiv class\\\\x3d\\\\x22BNeawe s3v9rd AP7Wnd\\\\x22\\\\x3e\\\\x3cdiv\\\\x3e\\\\x3cdiv class\\\\x3d\\\\x22BNeawe s3v9rd AP7Wnd\\\\x22\\\\x3e\\\\x3cspan class\\\\x3d\\\\x22FCUp0c rQMQod\\\\x22\\\\x3eRequests\\\\x3c/span\\\\x3e is an Apache2 Licensed HTTP library, written in \\\\x3cspan class\\\\x3d\\\\x22FCUp0c rQMQod\\\\x22\\\\x3ePython\\\\x3c/span\\\\x3e. It is designed to be used by humans to interact with the language. ... With it, you can add content like headers, form data, multipart files, and parameters via simple \\\\x3cspan class\\\\x3d\\\\x22FCUp0c rQMQod\\\\x22\\\\x3ePython\\\\x3c/span\\\\x3e libraries. It also allows you to access the response data of \\\\x3cspan class\\\\x3d\\\\x22FCUp0c rQMQod\\\\x22\\\\x3ePython\\\\x3c/span\\\\x3e in the same way.\\\\x3c/div\\\\x3e\\\\x3c/div\\\\x3e\\\\x3c/div\\\\x3e\\\\x3c/div\\\\x3e\\\\x3c/div\\\\x3e\\\\x3cdiv class\\\\x3d\\\\x22x54gtf\\\\x22\\\\x3e\\\\x3c/div\\\\x3e\\\\x3cdiv class\\\\x3d\\\\x22kCrYT\\\\x22\\\\x3e\\\\x3ca href\\\\x3d\\\\x22/url?q\\\\x3dhttps://www.pythonforbeginners.com/requests/using-requests-in-python\\\\x26amp;sa\\\\x3dU\\\\x26amp;ved\\\\x3d2ahUKEwjyn8Xu1MTsAhVDLX0KHbJ0BzwQFnoECAgQAg\\\\x26amp;usg\\\\x3dAOvVaw2JosaEOP-atDfBLw7bwxim\\\\x22\\\\x3e\\\\x3cspan\\\\x3e\\\\x3cdiv class\\\\x3d\\\\x22BNeawe vvjwJb AP7Wnd\\\\x22\\\\x3eUsing the Requests Library in Python - PythonForBeginners.com\\\\x3c/div\\\\x3e\\\\x3c/span\\\\x3e\\\\x3cspan\\\\x3e\\\\x3cdiv class\\\\x3d\\\\x22BNeawe UPmit AP7Wnd\\\\x22\\\\x3ewww.pythonforbeginners.com \\\\x26gt; requests \\\\x26gt; using-requests-in-python\\\\x3c/div\\\\x3e\\\\x3c/span\\\\x3e\\\\x3c/a\\\\x3e\\\\x3c/div\\\\x3e\\\\x3c/div\\\\x3e\\\\x3c/div\\\\x3e\\\\x3c/div\\\\x3e\\\\x3cdiv\\\\x3e\\\\x3cdiv class\\\\x3d\\\\x22PDHNXc\\\\x22\\\\x3e\\\\x3cdiv class\\\\x3d\\\\x22iU269d TeHtNe\\\\x22\\\\x3e\\\\x3cspan class\\\\x3d\\\\x22kXUfPb Vp9uZ\\\\x22\\\\x3e\\\\x3ca class\\\\x3d\\\\x22RtoYlb\\\\x22 href\\\\x3d\\\\x22https://www.google.com/search?num\\\\x3d5\\\\x26amp;ie\\\\x3dUTF-8\\\\x26amp;ei\\\\x3dLKCPX_LZJ8Pa9AOy6Z3gAw\\\\x26amp;q\\\\x3dWhat+are+Python+requests?\\\\x26amp;sa\\\\x3dX\\\\x26amp;ved\\\\x3d2ahUKEwjyn8Xu1MTsAhVDLX0KHbJ0BzwQzmd6BAgKEAk\\\\x22\\\\x3eMore results\\\\x3c/a\\\\x3e\\\\x3c/span\\\\x3e\\\\x3c/div\\\\x3e\\\\x3c/div\\\\x3e\\\\x3c/div\\\\x3e\\\\x3c/div\\\\x3e\\\\x3c/div\\\\x3e\\');})();(function(){(function(){var id=\\'tsuid10\\';var lve=true;(function(){\\n\\n\\nvar e=\"undefined\"!=typeof navigator&&!/Opera/.test(navigator.userAgent)&&/WebKit/.test(navigator.userAgent),f={A:1,INPUT:1,TEXTAREA:1,SELECT:1,BUTTON:1},g={A:13,BUTTON:0,CHECKBOX:32,COMBOBOX:13,FILE:0,GRIDCELL:13,LINK:13,LISTBOX:13,MENU:0,MENUBAR:0,MENUITEM:0,MENUITEMCHECKBOX:0,MENUITEMRADIO:0,OPTION:0,RADIO:32,RADIOGROUP:32,RESET:0,SUBMIT:0,SWITCH:32,TAB:0,TREE:13,TREEITEM:13},h={CHECKBOX:!0,FILE:!0,OPTION:!0,RADIO:!0},k={COLOR:!0,DATE:!0,DATETIME:!0,\"DATETIME-LOCAL\":!0,EMAIL:!0,MONTH:!0,NUMBER:!0,PASSWORD:!0,RANGE:!0,SEARCH:!0,TEL:!0,TEXT:!0,TEXTAREA:!0,TIME:!0,URL:!0,WEEK:!0};document.getElementById(id).onclick=function(){window.xp(this);lve&&window.logVe(this)};document.getElementById(id).onkeydown=function(d){var c=d.which||d.keyCode;e&&3==c&&(c=13);if(13!=c&&32!=c)c=!1;else{var a=d.target||d.srcElement;!a.getAttribute&&a.parentNode&&(a=a.parentNode);var b;if(!(b=\"keydown\"!=d.type)){if(b=\"getAttribute\"in a)b=!((a.getAttribute(\"type\")||a.tagName).toUpperCase()in k);b=!(b&&!(\"BUTTON\"==a.tagName.toUpperCase()||a.type&&\"FILE\"==a.type.toUpperCase())&&!a.isContentEditable)}(b=b||d.ctrlKey||d.shiftKey||d.altKey||d.metaKey||(a.getAttribute(\"type\")||a.tagName).toUpperCase()in\\nh&&32==c)||((b=a.tagName in f)||(b=a.getAttributeNode(\"tabindex\"),b=null!=b&&b.specified),b=!(b&&!a.disabled));if(b)c=!1;else{b=(a.getAttribute(\"role\")||a.type||a.tagName).toUpperCase();var l=!(b in g)&&13==c;a=\"INPUT\"!=a.tagName.toUpperCase()||!!a.type;c=(0==g[b]%c||l)&&a}}c&&(d.preventDefault(),window.xp(this),lve&&window.logVe(this))};}).call(this);})();})();(function(){window.jsl.dh(\\'accdef_11\\',\\'\\\\x3cdiv\\\\x3e\\\\x3cdiv class\\\\x3d\\\\x22hwc M56Nqc\\\\x22\\\\x3e\\\\x3cdiv class\\\\x3d\\\\x22Z8j5ae\\\\x22\\\\x3e\\\\x3cdiv\\\\x3e\\\\x3cdiv class\\\\x3d\\\\x22ZINbbc xpd O9g5cc uUPGi\\\\x22\\\\x3e\\\\x3cdiv class\\\\x3d\\\\x22kCrYT\\\\x22\\\\x3e\\\\x3cdiv class\\\\x3d\\\\x22q4vBJc\\\\x22\\\\x3e\\\\x3c/div\\\\x3e\\\\x3cspan\\\\x3e\\\\x3ch2 class\\\\x3d\\\\x22zBAuLc\\\\x22\\\\x3e\\\\x3cdiv class\\\\x3d\\\\x22BNeawe deIvCb AP7Wnd\\\\x22\\\\x3e\\\\x3cspan class\\\\x3d\\\\x22FCUp0c rQMQod\\\\x22\\\\x3ePython Requests Package\\\\x3c/span\\\\x3e\\\\x3c/div\\\\x3e\\\\x3c/h2\\\\x3e\\\\x3c/span\\\\x3e\\\\x3c/div\\\\x3e\\\\x3cdiv class\\\\x3d\\\\x22Q0HXG\\\\x22\\\\x3e\\\\x3c/div\\\\x3e\\\\x3cdiv class\\\\x3d\\\\x22X7NTVe\\\\x22\\\\x3e\\\\x3cdiv class\\\\x3d\\\\x22tHmfQe\\\\x22\\\\x3e\\\\x3cdiv class\\\\x3d\\\\x22am3QBf\\\\x22\\\\x3e\\\\x3cdiv class\\\\x3d\\\\x22pkr8ib\\\\x22\\\\x3e\\\\x3cspan\\\\x3e\\\\x3cdiv class\\\\x3d\\\\x22BNeawe deIvCb AP7Wnd\\\\x22\\\\x3e1\\\\x3c/div\\\\x3e\\\\x3c/span\\\\x3e\\\\x3c/div\\\\x3e\\\\x3cdiv\\\\x3e\\\\x3cspan\\\\x3e\\\\x3cdiv class\\\\x3d\\\\x22BNeawe deIvCb AP7Wnd\\\\x22\\\\x3eFirst, make sure your package tool is up-to-date with your package repositories. Do NOT apt-get upgrade! ... \\\\x3c/div\\\\x3e\\\\x3c/span\\\\x3e\\\\x3c/div\\\\x3e\\\\x3c/div\\\\x3e\\\\x3c/div\\\\x3e\\\\x3c/div\\\\x3e\\\\x3cdiv class\\\\x3d\\\\x22Q0HXG\\\\x22\\\\x3e\\\\x3c/div\\\\x3e\\\\x3cdiv class\\\\x3d\\\\x22X7NTVe\\\\x22\\\\x3e\\\\x3cdiv class\\\\x3d\\\\x22tHmfQe\\\\x22\\\\x3e\\\\x3cdiv class\\\\x3d\\\\x22am3QBf\\\\x22\\\\x3e\\\\x3cdiv class\\\\x3d\\\\x22pkr8ib\\\\x22\\\\x3e\\\\x3cspan\\\\x3e\\\\x3cdiv class\\\\x3d\\\\x22BNeawe deIvCb AP7Wnd\\\\x22\\\\x3e2\\\\x3c/div\\\\x3e\\\\x3c/span\\\\x3e\\\\x3c/div\\\\x3e\\\\x3cdiv\\\\x3e\\\\x3cspan\\\\x3e\\\\x3cdiv class\\\\x3d\\\\x22BNeawe deIvCb AP7Wnd\\\\x22\\\\x3eNext, use your package tool to install pip. ... \\\\x3c/div\\\\x3e\\\\x3c/span\\\\x3e\\\\x3c/div\\\\x3e\\\\x3c/div\\\\x3e\\\\x3c/div\\\\x3e\\\\x3c/div\\\\x3e\\\\x3cdiv class\\\\x3d\\\\x22Q0HXG\\\\x22\\\\x3e\\\\x3c/div\\\\x3e\\\\x3cdiv class\\\\x3d\\\\x22X7NTVe\\\\x22\\\\x3e\\\\x3cdiv class\\\\x3d\\\\x22tHmfQe\\\\x22\\\\x3e\\\\x3cdiv class\\\\x3d\\\\x22am3QBf\\\\x22\\\\x3e\\\\x3cdiv class\\\\x3d\\\\x22pkr8ib\\\\x22\\\\x3e\\\\x3cspan\\\\x3e\\\\x3cdiv class\\\\x3d\\\\x22BNeawe deIvCb AP7Wnd\\\\x22\\\\x3e3\\\\x3c/div\\\\x3e\\\\x3c/span\\\\x3e\\\\x3c/div\\\\x3e\\\\x3cdiv\\\\x3e\\\\x3cspan\\\\x3e\\\\x3cdiv class\\\\x3d\\\\x22BNeawe deIvCb AP7Wnd\\\\x22\\\\x3eUse the Python package manager to install the requests library. ... \\\\x3c/div\\\\x3e\\\\x3c/span\\\\x3e\\\\x3c/div\\\\x3e\\\\x3c/div\\\\x3e\\\\x3c/div\\\\x3e\\\\x3c/div\\\\x3e\\\\x3cdiv class\\\\x3d\\\\x22Q0HXG\\\\x22\\\\x3e\\\\x3c/div\\\\x3e\\\\x3cdiv class\\\\x3d\\\\x22X7NTVe\\\\x22\\\\x3e\\\\x3cdiv class\\\\x3d\\\\x22tHmfQe\\\\x22\\\\x3e\\\\x3cdiv class\\\\x3d\\\\x22am3QBf\\\\x22\\\\x3e\\\\x3cdiv class\\\\x3d\\\\x22pkr8ib\\\\x22\\\\x3e\\\\x3cspan\\\\x3e\\\\x3cdiv class\\\\x3d\\\\x22BNeawe deIvCb AP7Wnd\\\\x22\\\\x3e4\\\\x3c/div\\\\x3e\\\\x3c/span\\\\x3e\\\\x3c/div\\\\x3e\\\\x3cdiv\\\\x3e\\\\x3cspan\\\\x3e\\\\x3cdiv class\\\\x3d\\\\x22BNeawe deIvCb AP7Wnd\\\\x22\\\\x3eIn your Python scripts make sure you import the library once it has been installed.\\\\x3c/div\\\\x3e\\\\x3c/span\\\\x3e\\\\x3c/div\\\\x3e\\\\x3c/div\\\\x3e\\\\x3c/div\\\\x3e\\\\x3c/div\\\\x3e\\\\x3cdiv class\\\\x3d\\\\x22kCrYT\\\\x22\\\\x3e\\\\x3cspan\\\\x3e\\\\x3cdiv class\\\\x3d\\\\x22BNeawe uEec3 AP7Wnd\\\\x22\\\\x3e\\\\x3cspan class\\\\x3d\\\\x22rQMQod Xb5VRe\\\\x22\\\\x3eGetting Started with Python for groov EPIC | Opto 22 Developer\\\\x3c/span\\\\x3e\\\\n\\\\x3cspan class\\\\x3d\\\\x22BNeawe\\\\x22\\\\x3e\\\\x3ca href\\\\x3d\\\\x22/url?q\\\\x3dhttp://developer.opto22.com/epicdev/python/\\\\x26amp;sa\\\\x3dU\\\\x26amp;ved\\\\x3d2ahUKEwjyn8Xu1MTsAhVDLX0KHbJ0BzwQFjAMegQICRAD\\\\x26amp;usg\\\\x3dAOvVaw2tQnddmshxOfOnXrK6EaNl\\\\x22\\\\x3e\\\\x3cspan class\\\\x3d\\\\x22uEec3 AP7Wnd\\\\x22\\\\x3e\\\\x3cspan class\\\\x3d\\\\x22rQMQod aJyiOc\\\\x22\\\\x3edeveloper.opto22.com \\\\x26gt; epicdev \\\\x26gt; python\\\\x3c/span\\\\x3e\\\\x3c/span\\\\x3e\\\\x3c/a\\\\x3e\\\\x3c/span\\\\x3e\\\\x3c/div\\\\x3e\\\\x3c/span\\\\x3e\\\\x3c/div\\\\x3e\\\\x3c/div\\\\x3e\\\\x3c/div\\\\x3e\\\\x3c/div\\\\x3e\\\\x3cdiv\\\\x3e\\\\x3cdiv class\\\\x3d\\\\x22PDHNXc\\\\x22\\\\x3e\\\\x3cdiv class\\\\x3d\\\\x22iU269d TeHtNe\\\\x22\\\\x3e\\\\x3cspan class\\\\x3d\\\\x22kXUfPb Vp9uZ\\\\x22\\\\x3e\\\\x3ca class\\\\x3d\\\\x22RtoYlb\\\\x22 href\\\\x3d\\\\x22https://www.google.com/search?num\\\\x3d5\\\\x26amp;ie\\\\x3dUTF-8\\\\x26amp;ei\\\\x3dLKCPX_LZJ8Pa9AOy6Z3gAw\\\\x26amp;q\\\\x3dHow+do+I+install+Python+requests?\\\\x26amp;sa\\\\x3dX\\\\x26amp;ved\\\\x3d2ahUKEwjyn8Xu1MTsAhVDLX0KHbJ0BzwQzmd6BAgKEAw\\\\x22\\\\x3eMore results\\\\x3c/a\\\\x3e\\\\x3c/span\\\\x3e\\\\x3c/div\\\\x3e\\\\x3c/div\\\\x3e\\\\x3c/div\\\\x3e\\\\x3c/div\\\\x3e\\\\x3c/div\\\\x3e\\');})();google.drty&&google.drty();</script></body></html>'"
      ]
     },
     "execution_count": 10,
     "metadata": {},
     "output_type": "execute_result"
    }
   ],
   "source": [
    "response.text"
   ]
  },
  {
   "cell_type": "markdown",
   "metadata": {},
   "source": [
    "Note that if we try to read the `json` property we would get an exception since this response does not contain JSON data:"
   ]
  },
  {
   "cell_type": "code",
   "execution_count": 11,
   "metadata": {},
   "outputs": [
    {
     "name": "stdout",
     "output_type": "stream",
     "text": [
      "Expecting value: line 1 column 1 (char 0)\n"
     ]
    }
   ],
   "source": [
    "try:\n",
    "    response.json()\n",
    "except ValueError as ex:\n",
    "    print(ex)"
   ]
  },
  {
   "cell_type": "markdown",
   "metadata": {},
   "source": [
    "Also, if we make a bad request, such as an unkown resource path, we'll get a different response `status_code`, not a Python exception:"
   ]
  },
  {
   "cell_type": "code",
   "execution_count": 12,
   "metadata": {},
   "outputs": [],
   "source": [
    "response = requests.get('https://www.google.com/some_dummy_page')"
   ]
  },
  {
   "cell_type": "code",
   "execution_count": 13,
   "metadata": {},
   "outputs": [
    {
     "data": {
      "text/plain": [
       "(404, 'Not Found')"
      ]
     },
     "execution_count": 13,
     "metadata": {},
     "output_type": "execute_result"
    }
   ],
   "source": [
    "response.status_code, response.reason"
   ]
  },
  {
   "cell_type": "markdown",
   "metadata": {},
   "source": [
    "We can force a Python exception, by using the `raise_for_status` method on the response object:"
   ]
  },
  {
   "cell_type": "code",
   "execution_count": 14,
   "metadata": {},
   "outputs": [
    {
     "ename": "HTTPError",
     "evalue": "404 Client Error: Not Found for url: https://www.google.com/some_dummy_page",
     "output_type": "error",
     "traceback": [
      "\u001b[0;31m---------------------------------------------------------------------------\u001b[0m",
      "\u001b[0;31mHTTPError\u001b[0m                                 Traceback (most recent call last)",
      "\u001b[0;32m<ipython-input-14-98371c55c61f>\u001b[0m in \u001b[0;36m<module>\u001b[0;34m\u001b[0m\n\u001b[0;32m----> 1\u001b[0;31m \u001b[0mresponse\u001b[0m\u001b[0;34m.\u001b[0m\u001b[0mraise_for_status\u001b[0m\u001b[0;34m(\u001b[0m\u001b[0;34m)\u001b[0m\u001b[0;34m\u001b[0m\u001b[0;34m\u001b[0m\u001b[0m\n\u001b[0m",
      "\u001b[0;32m~/dev/venv38/lib/python3.8/site-packages/requests/models.py\u001b[0m in \u001b[0;36mraise_for_status\u001b[0;34m(self)\u001b[0m\n\u001b[1;32m    938\u001b[0m \u001b[0;34m\u001b[0m\u001b[0m\n\u001b[1;32m    939\u001b[0m         \u001b[0;32mif\u001b[0m \u001b[0mhttp_error_msg\u001b[0m\u001b[0;34m:\u001b[0m\u001b[0;34m\u001b[0m\u001b[0;34m\u001b[0m\u001b[0m\n\u001b[0;32m--> 940\u001b[0;31m             \u001b[0;32mraise\u001b[0m \u001b[0mHTTPError\u001b[0m\u001b[0;34m(\u001b[0m\u001b[0mhttp_error_msg\u001b[0m\u001b[0;34m,\u001b[0m \u001b[0mresponse\u001b[0m\u001b[0;34m=\u001b[0m\u001b[0mself\u001b[0m\u001b[0;34m)\u001b[0m\u001b[0;34m\u001b[0m\u001b[0;34m\u001b[0m\u001b[0m\n\u001b[0m\u001b[1;32m    941\u001b[0m \u001b[0;34m\u001b[0m\u001b[0m\n\u001b[1;32m    942\u001b[0m     \u001b[0;32mdef\u001b[0m \u001b[0mclose\u001b[0m\u001b[0;34m(\u001b[0m\u001b[0mself\u001b[0m\u001b[0;34m)\u001b[0m\u001b[0;34m:\u001b[0m\u001b[0;34m\u001b[0m\u001b[0;34m\u001b[0m\u001b[0m\n",
      "\u001b[0;31mHTTPError\u001b[0m: 404 Client Error: Not Found for url: https://www.google.com/some_dummy_page"
     ]
    }
   ],
   "source": [
    "response.raise_for_status()"
   ]
  },
  {
   "cell_type": "markdown",
   "metadata": {},
   "source": [
    "So if we want a Python exception to occur when a status code is not in the `2xx` range, we can do this:"
   ]
  },
  {
   "cell_type": "code",
   "execution_count": 15,
   "metadata": {},
   "outputs": [
    {
     "name": "stdout",
     "output_type": "stream",
     "text": [
      "404 Client Error: Not Found for url: https://www.google.com/bogus\n"
     ]
    }
   ],
   "source": [
    "try:\n",
    "    response = requests.get('https://www.google.com/bogus')\n",
    "    response.raise_for_status()\n",
    "except requests.HTTPError as ex:\n",
    "    print(ex)"
   ]
  },
  {
   "cell_type": "markdown",
   "metadata": {},
   "source": [
    "But if the request is succesful, no exception will be raised:"
   ]
  },
  {
   "cell_type": "code",
   "execution_count": 16,
   "metadata": {},
   "outputs": [],
   "source": [
    "try:\n",
    "    response = requests.get('https://www.google.com')\n",
    "    response.raise_for_status()\n",
    "except requests.HTTPError as ex:\n",
    "    print(ex)"
   ]
  },
  {
   "cell_type": "markdown",
   "metadata": {},
   "source": [
    "One other piece of information that may be interesting in the response, is the `cookies` attribute where we can see what cookies are being saved to our machine. Again, it is a dictionary:"
   ]
  },
  {
   "cell_type": "code",
   "execution_count": 17,
   "metadata": {},
   "outputs": [
    {
     "name": "stdout",
     "output_type": "stream",
     "text": [
      "nyt-a: Ury9X9HNwoJUFkwHU2Uftp\n",
      "nyt-gdpr: 0\n",
      "nyt-geo: US\n",
      "nyt-purr: cfhhcfhhhck\n"
     ]
    }
   ],
   "source": [
    "response = requests.get('http://www.nyt.com')\n",
    "for key, value in response.cookies.items():\n",
    "    print(f'{key}: {value}')"
   ]
  },
  {
   "cell_type": "markdown",
   "metadata": {},
   "source": [
    "Now, let's look at using a REST API with JSON data. As we covered in the previous set of lectures, you'll need access to some REST API and most likely will need an authentication token."
   ]
  },
  {
   "cell_type": "markdown",
   "metadata": {},
   "source": [
    "For our examples, we are going to use the REST API provided by:\n",
    "\n",
    "https://www.finnhub.io/"
   ]
  },
  {
   "cell_type": "markdown",
   "metadata": {},
   "source": [
    "You'll need to retrieve your API key from that site after you log in (discussed in previous lecture on REST APIs)."
   ]
  },
  {
   "cell_type": "code",
   "execution_count": 18,
   "metadata": {},
   "outputs": [],
   "source": [
    "API_KEY = 'xxxxxxxxxxxxxxxxxx'"
   ]
  },
  {
   "cell_type": "markdown",
   "metadata": {},
   "source": [
    "### CAUTION!!\n",
    "\n",
    "This API key is a **secret** - do not share it with anyone, and most definitely do not post it on the web anywhere! Be careful to remove it if you share your Jupyter notebook/Python code with someone,s or use `githib` for source control.\n",
    "\n",
    "A simple approach (not perfect, but better than nothing), would be to save your token in a file, and read the token back into your notebook/Python code from that file. Then, when you share the notebook, you simply don't share the \"secret\" file.\n",
    "\n",
    "Here, I have a file called \"secrets.txt\" that contains a single line, my API token, and I can read it back this way:"
   ]
  },
  {
   "cell_type": "code",
   "execution_count": 19,
   "metadata": {},
   "outputs": [],
   "source": [
    "with open('secrets.txt') as f:\n",
    "    API_KEY = next(f).strip()"
   ]
  },
  {
   "cell_type": "markdown",
   "metadata": {},
   "source": [
    "According to `finnhub.io`'s documentation, we can pass that token either as a query argument (`http://finnhub.io/api/v1/...?token=apiKey`), or we can pass it in the headers using the key `X-Finnhub-Token`."
   ]
  },
  {
   "cell_type": "markdown",
   "metadata": {},
   "source": [
    "Let's try it both ways:"
   ]
  },
  {
   "cell_type": "code",
   "execution_count": 20,
   "metadata": {},
   "outputs": [],
   "source": [
    "base_url = 'https://finnhub.io/api/v1/'"
   ]
  },
  {
   "cell_type": "markdown",
   "metadata": {},
   "source": [
    "We're going to retrieve stock quotes - see docs here: https://finnhub.io/docs/api#quote"
   ]
  },
  {
   "cell_type": "code",
   "execution_count": 21,
   "metadata": {},
   "outputs": [],
   "source": [
    "url = f'{base_url}/quote'\n",
    "params = {'symbol': 'AAPL', 'token': API_KEY}\n",
    "response = requests.get(url, params)"
   ]
  },
  {
   "cell_type": "code",
   "execution_count": 22,
   "metadata": {},
   "outputs": [
    {
     "data": {
      "text/plain": [
       "200"
      ]
     },
     "execution_count": 22,
     "metadata": {},
     "output_type": "execute_result"
    }
   ],
   "source": [
    "response.status_code"
   ]
  },
  {
   "cell_type": "code",
   "execution_count": 23,
   "metadata": {},
   "outputs": [
    {
     "data": {
      "text/plain": [
       "'application/json; charset=utf-8'"
      ]
     },
     "execution_count": 23,
     "metadata": {},
     "output_type": "execute_result"
    }
   ],
   "source": [
    "response.headers['content-type']"
   ]
  },
  {
   "cell_type": "markdown",
   "metadata": {},
   "source": [
    "As we can see, the response content type is JSON, and we can use the `json()` method from requests:"
   ]
  },
  {
   "cell_type": "code",
   "execution_count": 24,
   "metadata": {},
   "outputs": [
    {
     "data": {
      "text/plain": [
       "{'c': 117.51,\n",
       " 'h': 118.98,\n",
       " 'l': 115.63,\n",
       " 'o': 116.19,\n",
       " 'pc': 115.98,\n",
       " 't': 1603248236}"
      ]
     },
     "execution_count": 24,
     "metadata": {},
     "output_type": "execute_result"
    }
   ],
   "source": [
    "response.json()"
   ]
  },
  {
   "cell_type": "markdown",
   "metadata": {},
   "source": [
    "`requests` automatically deserialized the JSON response into a Python `dict`:"
   ]
  },
  {
   "cell_type": "code",
   "execution_count": 25,
   "metadata": {},
   "outputs": [
    {
     "data": {
      "text/plain": [
       "116.19"
      ]
     },
     "execution_count": 25,
     "metadata": {},
     "output_type": "execute_result"
    }
   ],
   "source": [
    "data = response.json()\n",
    "data['o']"
   ]
  },
  {
   "cell_type": "markdown",
   "metadata": {},
   "source": [
    "The string that `requests` deserializes is actually the one contained in the `text` attribute of the response:"
   ]
  },
  {
   "cell_type": "code",
   "execution_count": 27,
   "metadata": {},
   "outputs": [
    {
     "data": {
      "text/plain": [
       "'{\"c\":117.51,\"h\":118.98,\"l\":115.63,\"o\":116.19,\"pc\":115.98,\"t\":1603248236}'"
      ]
     },
     "execution_count": 27,
     "metadata": {},
     "output_type": "execute_result"
    }
   ],
   "source": [
    "response.text"
   ]
  },
  {
   "cell_type": "markdown",
   "metadata": {},
   "source": [
    "It's just handy that `requests` will do the `loads` for us, essentially. But, if we prefer we can do it manually as well, deserializing the `text` attribute's value."
   ]
  },
  {
   "cell_type": "markdown",
   "metadata": {},
   "source": [
    "You'll notice that there is a `t` field returned in the JSON:"
   ]
  },
  {
   "cell_type": "code",
   "execution_count": 31,
   "metadata": {},
   "outputs": [],
   "source": [
    "time = data['t']"
   ]
  },
  {
   "cell_type": "code",
   "execution_count": 32,
   "metadata": {},
   "outputs": [
    {
     "data": {
      "text/plain": [
       "1603248236"
      ]
     },
     "execution_count": 32,
     "metadata": {},
     "output_type": "execute_result"
    }
   ],
   "source": [
    "time"
   ]
  },
  {
   "cell_type": "markdown",
   "metadata": {},
   "source": [
    "This is a POSIX epoch timestamp, so we can use Python to convert this epoch time into a more useful `datetime`:"
   ]
  },
  {
   "cell_type": "code",
   "execution_count": 33,
   "metadata": {},
   "outputs": [],
   "source": [
    "from datetime import datetime"
   ]
  },
  {
   "cell_type": "code",
   "execution_count": 34,
   "metadata": {},
   "outputs": [],
   "source": [
    "d = datetime.fromtimestamp(time)"
   ]
  },
  {
   "cell_type": "code",
   "execution_count": 35,
   "metadata": {},
   "outputs": [
    {
     "data": {
      "text/plain": [
       "datetime.datetime(2020, 10, 20, 19, 43, 56)"
      ]
     },
     "execution_count": 35,
     "metadata": {},
     "output_type": "execute_result"
    }
   ],
   "source": [
    "d"
   ]
  },
  {
   "cell_type": "markdown",
   "metadata": {},
   "source": [
    "Now if we want to query another symbol, we just have to change our query parameter - however, since we are passing our token in the query params, we need to provide it as well:"
   ]
  },
  {
   "cell_type": "code",
   "execution_count": 36,
   "metadata": {},
   "outputs": [],
   "source": [
    "params = {\n",
    "    'symbol': 'MSFT',\n",
    "    'token': API_KEY\n",
    "}\n",
    "response = requests.get(url=url, params=params)\n",
    "response.raise_for_status()"
   ]
  },
  {
   "cell_type": "code",
   "execution_count": 37,
   "metadata": {},
   "outputs": [
    {
     "data": {
      "text/plain": [
       "{'c': 214.56,\n",
       " 'h': 217.35,\n",
       " 'l': 213.0901,\n",
       " 'o': 215.8,\n",
       " 'pc': 214.22,\n",
       " 't': 1603248412}"
      ]
     },
     "execution_count": 37,
     "metadata": {},
     "output_type": "execute_result"
    }
   ],
   "source": [
    "response.json()"
   ]
  },
  {
   "cell_type": "markdown",
   "metadata": {},
   "source": [
    "This means evey time we change our params, we have to remember to add our API token to it. Instead, we can use the headers, and not have to remember to pass it in the params every time:"
   ]
  },
  {
   "cell_type": "code",
   "execution_count": 38,
   "metadata": {},
   "outputs": [
    {
     "name": "stdout",
     "output_type": "stream",
     "text": [
      "***** AAPL *****\n",
      "{'c': 117.51, 'h': 118.98, 'l': 115.63, 'o': 116.19, 'pc': 115.98, 't': 1603248421}\n",
      "***** MSFT *****\n",
      "{'c': 214.56, 'h': 217.35, 'l': 213.0901, 'o': 215.8, 'pc': 214.22, 't': 1603248422}\n",
      "***** GOOG *****\n",
      "{'c': 1556.73, 'h': 1577.5, 'l': 1525.67, 'o': 1527.05, 'pc': 1534.61, 't': 1603248422}\n"
     ]
    }
   ],
   "source": [
    "headers = {\n",
    "    'X-Finnhub-Token': API_KEY\n",
    "}\n",
    "for symbol in ['AAPL', 'MSFT', 'GOOG']:\n",
    "    try:\n",
    "        response = requests.get(\n",
    "            url, \n",
    "            params={'symbol': symbol}, \n",
    "            headers=headers\n",
    "        )\n",
    "        response.raise_for_status()\n",
    "        print(f'***** {symbol} *****')\n",
    "        print(response.json())\n",
    "    except requests.HTTPError as ex:\n",
    "        print('Unable to retrieve data: {ex}')"
   ]
  },
  {
   "cell_type": "markdown",
   "metadata": {},
   "source": [
    "Let's look at one more, the `Company Profile 2` resource:"
   ]
  },
  {
   "cell_type": "code",
   "execution_count": 39,
   "metadata": {},
   "outputs": [
    {
     "data": {
      "text/plain": [
       "{'country': 'US',\n",
       " 'currency': 'USD',\n",
       " 'exchange': 'NASDAQ NMS - GLOBAL MARKET',\n",
       " 'finnhubIndustry': 'Technology',\n",
       " 'ipo': '1980-12-12',\n",
       " 'logo': 'https://static.finnhub.io/logo/87cb30d8-80df-11ea-8951-00000000092a.png',\n",
       " 'marketCapitalization': 2068723,\n",
       " 'name': 'Apple Inc',\n",
       " 'phone': '14089961010',\n",
       " 'shareOutstanding': 17102.536,\n",
       " 'ticker': 'AAPL',\n",
       " 'weburl': 'https://www.apple.com/'}"
      ]
     },
     "execution_count": 39,
     "metadata": {},
     "output_type": "execute_result"
    }
   ],
   "source": [
    "url = f'{base_url}/stock/profile2'\n",
    "response = requests.get(\n",
    "    url, \n",
    "    params={'symbol': 'AAPL'},\n",
    "    headers=headers\n",
    ")\n",
    "response.json()"
   ]
  },
  {
   "cell_type": "markdown",
   "metadata": {},
   "source": [
    "Finally, let's see how we can use `POST`. The choices for `POST` calls to this API are quite limited (it is mainly a service for retrieving data, not creating resources)."
   ]
  },
  {
   "cell_type": "markdown",
   "metadata": {},
   "source": [
    "However, they implement something called a **webhook**. Basically, you can define (in your Finnhub dashboard) a URL (on your server) that will be called when certain events happen on their end - in this case they have support for real-time earnings updates."
   ]
  },
  {
   "cell_type": "markdown",
   "metadata": {},
   "source": [
    "We don't have a web server available here for the callback, but we can still manage those webhooks, creating, listing and deleting them, so let's try that, even though they won't be fully \"functional\"."
   ]
  },
  {
   "cell_type": "markdown",
   "metadata": {},
   "source": [
    "To create a webhook, we need to use the API defined here: https://finnhub.io/docs/api#webhook"
   ]
  },
  {
   "cell_type": "code",
   "execution_count": 40,
   "metadata": {},
   "outputs": [],
   "source": [
    "base_webhook_url = f'{base_url}/webhook'"
   ]
  },
  {
   "cell_type": "markdown",
   "metadata": {},
   "source": [
    "Let's create a couple of webhooks for receiving earnings updates for `AAPL` and `MSFT`:"
   ]
  },
  {
   "cell_type": "code",
   "execution_count": 41,
   "metadata": {},
   "outputs": [],
   "source": [
    "post_data = {\n",
    "    'event': 'earnings',\n",
    "    'symbol': 'AAPL'\n",
    "}"
   ]
  },
  {
   "cell_type": "code",
   "execution_count": 42,
   "metadata": {},
   "outputs": [
    {
     "name": "stdout",
     "output_type": "stream",
     "text": [
      "200 OK\n",
      "{'id': 3190, 's': 'ok'}\n"
     ]
    }
   ],
   "source": [
    "response = requests.post(\n",
    "    url=f'{base_webhook_url}/add',\n",
    "    headers=headers,\n",
    "    json=post_data\n",
    ")\n",
    "print(response.status_code, response.reason)\n",
    "print(response.json())"
   ]
  },
  {
   "cell_type": "markdown",
   "metadata": {},
   "source": [
    "And let's add a second one for `MSFT`:"
   ]
  },
  {
   "cell_type": "code",
   "execution_count": 43,
   "metadata": {},
   "outputs": [
    {
     "name": "stdout",
     "output_type": "stream",
     "text": [
      "200 OK\n",
      "{'id': 3191, 's': 'ok'}\n"
     ]
    }
   ],
   "source": [
    "response = requests.post(\n",
    "    url=f'{base_webhook_url}/add',\n",
    "    headers=headers,\n",
    "    json={\n",
    "        'event': 'earnings',\n",
    "        'symbol': 'MSFT'\n",
    "    }\n",
    ")\n",
    "print(response.status_code, response.reason)\n",
    "print(response.json())"
   ]
  },
  {
   "cell_type": "markdown",
   "metadata": {},
   "source": [
    "Now let's read those webhooks back. According to the API docs, we have to issue a `GET` request to `.../webhook/list`, so let's do that:"
   ]
  },
  {
   "cell_type": "code",
   "execution_count": 44,
   "metadata": {},
   "outputs": [
    {
     "name": "stdout",
     "output_type": "stream",
     "text": [
      "200 OK\n",
      "[{'id': 3190, 'name': 'earnings', 'symbol': 'AAPL', 'data': '{}'}, {'id': 3191, 'name': 'earnings', 'symbol': 'MSFT', 'data': '{}'}]\n"
     ]
    }
   ],
   "source": [
    "response = requests.get(\n",
    "    url=f'{base_webhook_url}/list',\n",
    "    headers=headers\n",
    ")\n",
    "print(response.status_code, response.reason)\n",
    "print(response.json())"
   ]
  },
  {
   "cell_type": "markdown",
   "metadata": {},
   "source": [
    "Finally, let's delete those webhooks. You'll notice that we have an `id` field associated with each webhook - this is the unique identifier for our webhooks, and we'll need to use that `id` value to specify which webhook we want to delete."
   ]
  },
  {
   "cell_type": "markdown",
   "metadata": {},
   "source": [
    "The API docs specify that to delete a webhook we need to use a `POST` to the URL `.../webhook/delete` and pass the `id` in the JSON data we send.\n",
    "\n",
    "This is a bit unorthodox, since `DELETE` is an actual HTTP method and is more traditional for deleting resources, but as we discussed before, all this is entirely up to the API developers."
   ]
  },
  {
   "cell_type": "markdown",
   "metadata": {},
   "source": [
    "**Note**: I am just typing the id value directly in this request, you will therefore need to modify that id to match the webhooks you just created."
   ]
  },
  {
   "cell_type": "code",
   "execution_count": 45,
   "metadata": {},
   "outputs": [
    {
     "name": "stdout",
     "output_type": "stream",
     "text": [
      "200 OK\n",
      "{'id': 3190, 's': 'ok'}\n"
     ]
    }
   ],
   "source": [
    "response = requests.post(\n",
    "    url=f'{base_webhook_url}/delete',\n",
    "    headers=headers,\n",
    "    json={\n",
    "        'id': 3190\n",
    "    }\n",
    ")\n",
    "print(response.status_code, response.reason)\n",
    "print(response.json())"
   ]
  },
  {
   "cell_type": "markdown",
   "metadata": {},
   "source": [
    "So this webhook was deleted succesfully - let's check by getting a list of all webhooks:"
   ]
  },
  {
   "cell_type": "code",
   "execution_count": 46,
   "metadata": {},
   "outputs": [
    {
     "name": "stdout",
     "output_type": "stream",
     "text": [
      "200 OK\n",
      "[{'id': 3191, 'name': 'earnings', 'symbol': 'MSFT', 'data': '{}'}]\n"
     ]
    }
   ],
   "source": [
    "response = requests.get(\n",
    "    url=f'{base_webhook_url}/list',\n",
    "    headers=headers\n",
    ")\n",
    "print(response.status_code, response.reason)\n",
    "print(response.json())"
   ]
  },
  {
   "cell_type": "markdown",
   "metadata": {},
   "source": [
    "As you can see, only one left. Let's delete that last one:"
   ]
  },
  {
   "cell_type": "code",
   "execution_count": 47,
   "metadata": {},
   "outputs": [
    {
     "name": "stdout",
     "output_type": "stream",
     "text": [
      "200 OK\n",
      "{'id': 3191, 's': 'ok'}\n"
     ]
    }
   ],
   "source": [
    "response = requests.post(\n",
    "    url=f'{base_webhook_url}/delete',\n",
    "    headers=headers,\n",
    "    json={\n",
    "        'id': 3191\n",
    "    }\n",
    ")\n",
    "print(response.status_code, response.reason)\n",
    "print(response.json())"
   ]
  },
  {
   "cell_type": "code",
   "execution_count": 48,
   "metadata": {},
   "outputs": [
    {
     "name": "stdout",
     "output_type": "stream",
     "text": [
      "200 OK\n",
      "[]\n"
     ]
    }
   ],
   "source": [
    "response = requests.get(\n",
    "    url=f'{base_webhook_url}/list',\n",
    "    headers=headers\n",
    ")\n",
    "print(response.status_code, response.reason)\n",
    "print(response.json())"
   ]
  },
  {
   "cell_type": "code",
   "execution_count": null,
   "metadata": {},
   "outputs": [],
   "source": []
  }
 ],
 "metadata": {
  "kernelspec": {
   "display_name": "Python 3",
   "language": "python",
   "name": "python3"
  },
  "language_info": {
   "codemirror_mode": {
    "name": "ipython",
    "version": 3
   },
   "file_extension": ".py",
   "mimetype": "text/x-python",
   "name": "python",
   "nbconvert_exporter": "python",
   "pygments_lexer": "ipython3",
   "version": "3.9.1"
  }
 },
 "nbformat": 4,
 "nbformat_minor": 4
}
