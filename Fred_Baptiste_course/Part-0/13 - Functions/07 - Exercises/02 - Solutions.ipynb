{
 "cells": [
  {
   "cell_type": "markdown",
   "id": "academic-switzerland",
   "metadata": {},
   "source": [
    "### Solutions"
   ]
  },
  {
   "cell_type": "markdown",
   "id": "impossible-attack",
   "metadata": {},
   "source": [
    "#### Question 1"
   ]
  },
  {
   "cell_type": "markdown",
   "id": "accepting-iceland",
   "metadata": {},
   "source": [
    "Write a function that takes a variable number of arguments (with a minimum of one), and returns the average of these numbers."
   ]
  },
  {
   "cell_type": "markdown",
   "id": "small-machinery",
   "metadata": {},
   "source": [
    "##### Solution"
   ]
  },
  {
   "cell_type": "markdown",
   "id": "increasing-discussion",
   "metadata": {},
   "source": [
    "We could write the function this way:"
   ]
  },
  {
   "cell_type": "code",
   "execution_count": 1,
   "id": "unauthorized-masters",
   "metadata": {},
   "outputs": [],
   "source": [
    "def average(*args):\n",
    "    sum_values = 0\n",
    "    for value in args:\n",
    "        sum_values += value\n",
    "    return sum_values / len(args)"
   ]
  },
  {
   "cell_type": "code",
   "execution_count": 2,
   "id": "careful-seeking",
   "metadata": {},
   "outputs": [
    {
     "data": {
      "text/plain": [
       "2.0"
      ]
     },
     "execution_count": 2,
     "metadata": {},
     "output_type": "execute_result"
    }
   ],
   "source": [
    "average(1, 2, 3)"
   ]
  },
  {
   "cell_type": "markdown",
   "id": "moral-lesson",
   "metadata": {},
   "source": [
    "First thing is that we can use the built-in Python function `sum()` to sum up the values:"
   ]
  },
  {
   "cell_type": "code",
   "execution_count": 3,
   "id": "passive-lafayette",
   "metadata": {},
   "outputs": [],
   "source": [
    "def average(*args):\n",
    "    return sum(args) / len(args)"
   ]
  },
  {
   "cell_type": "code",
   "execution_count": 4,
   "id": "inside-parcel",
   "metadata": {},
   "outputs": [
    {
     "data": {
      "text/plain": [
       "2.0"
      ]
     },
     "execution_count": 4,
     "metadata": {},
     "output_type": "execute_result"
    }
   ],
   "source": [
    "average(1, 2, 3)"
   ]
  },
  {
   "cell_type": "markdown",
   "id": "intended-intake",
   "metadata": {},
   "source": [
    "The problem though is that we could call this function without any arguments, and this will lead to a `ZeroDivisionError` exception:"
   ]
  },
  {
   "cell_type": "code",
   "execution_count": 5,
   "id": "defensive-winning",
   "metadata": {},
   "outputs": [
    {
     "ename": "ZeroDivisionError",
     "evalue": "division by zero",
     "output_type": "error",
     "traceback": [
      "\u001b[0;31m---------------------------------------------------------------------------\u001b[0m",
      "\u001b[0;31mZeroDivisionError\u001b[0m                         Traceback (most recent call last)",
      "\u001b[0;32m<ipython-input-5-c4feed39dc61>\u001b[0m in \u001b[0;36m<module>\u001b[0;34m\u001b[0m\n\u001b[0;32m----> 1\u001b[0;31m \u001b[0maverage\u001b[0m\u001b[0;34m(\u001b[0m\u001b[0;34m)\u001b[0m\u001b[0;34m\u001b[0m\u001b[0;34m\u001b[0m\u001b[0m\n\u001b[0m",
      "\u001b[0;32m<ipython-input-3-2a0882cc9d56>\u001b[0m in \u001b[0;36maverage\u001b[0;34m(*args)\u001b[0m\n\u001b[1;32m      1\u001b[0m \u001b[0;32mdef\u001b[0m \u001b[0maverage\u001b[0m\u001b[0;34m(\u001b[0m\u001b[0;34m*\u001b[0m\u001b[0margs\u001b[0m\u001b[0;34m)\u001b[0m\u001b[0;34m:\u001b[0m\u001b[0;34m\u001b[0m\u001b[0;34m\u001b[0m\u001b[0m\n\u001b[0;32m----> 2\u001b[0;31m     \u001b[0;32mreturn\u001b[0m \u001b[0msum\u001b[0m\u001b[0;34m(\u001b[0m\u001b[0margs\u001b[0m\u001b[0;34m)\u001b[0m \u001b[0;34m/\u001b[0m \u001b[0mlen\u001b[0m\u001b[0;34m(\u001b[0m\u001b[0margs\u001b[0m\u001b[0;34m)\u001b[0m\u001b[0;34m\u001b[0m\u001b[0;34m\u001b[0m\u001b[0m\n\u001b[0m",
      "\u001b[0;31mZeroDivisionError\u001b[0m: division by zero"
     ]
    }
   ],
   "source": [
    "average()"
   ]
  },
  {
   "cell_type": "markdown",
   "id": "alpha-opening",
   "metadata": {},
   "source": [
    "We could decide that this is perfectly fine and that the exception should occur - that's perfectly valid.\n",
    "\n",
    "The problem with just letting that exception happen is that it is not very informative in terms of **why** that exception occurred - person using our function may not understand that this was caused by passing zero arguments.\n",
    "\n",
    "So, at the very least, we shoudl provide a better error message:"
   ]
  },
  {
   "cell_type": "markdown",
   "id": "cooperative-thompson",
   "metadata": {},
   "source": [
    "We could use the LBYL approach, and test for the number of arguments passed in, and raise an exception if none were passed:"
   ]
  },
  {
   "cell_type": "code",
   "execution_count": 6,
   "id": "inclusive-lingerie",
   "metadata": {},
   "outputs": [],
   "source": [
    "def average(*args):\n",
    "    if len(args) == 0:\n",
    "        raise ValueError('At least one argument must be passed to function.')\n",
    "    return sum(args) / len(args)        "
   ]
  },
  {
   "cell_type": "code",
   "execution_count": 7,
   "id": "democratic-malta",
   "metadata": {},
   "outputs": [
    {
     "ename": "ValueError",
     "evalue": "At least one argument must be passed to function.",
     "output_type": "error",
     "traceback": [
      "\u001b[0;31m---------------------------------------------------------------------------\u001b[0m",
      "\u001b[0;31mValueError\u001b[0m                                Traceback (most recent call last)",
      "\u001b[0;32m<ipython-input-7-c4feed39dc61>\u001b[0m in \u001b[0;36m<module>\u001b[0;34m\u001b[0m\n\u001b[0;32m----> 1\u001b[0;31m \u001b[0maverage\u001b[0m\u001b[0;34m(\u001b[0m\u001b[0;34m)\u001b[0m\u001b[0;34m\u001b[0m\u001b[0;34m\u001b[0m\u001b[0m\n\u001b[0m",
      "\u001b[0;32m<ipython-input-6-992157a124cf>\u001b[0m in \u001b[0;36maverage\u001b[0;34m(*args)\u001b[0m\n\u001b[1;32m      1\u001b[0m \u001b[0;32mdef\u001b[0m \u001b[0maverage\u001b[0m\u001b[0;34m(\u001b[0m\u001b[0;34m*\u001b[0m\u001b[0margs\u001b[0m\u001b[0;34m)\u001b[0m\u001b[0;34m:\u001b[0m\u001b[0;34m\u001b[0m\u001b[0;34m\u001b[0m\u001b[0m\n\u001b[1;32m      2\u001b[0m     \u001b[0;32mif\u001b[0m \u001b[0mlen\u001b[0m\u001b[0;34m(\u001b[0m\u001b[0margs\u001b[0m\u001b[0;34m)\u001b[0m \u001b[0;34m==\u001b[0m \u001b[0;36m0\u001b[0m\u001b[0;34m:\u001b[0m\u001b[0;34m\u001b[0m\u001b[0;34m\u001b[0m\u001b[0m\n\u001b[0;32m----> 3\u001b[0;31m         \u001b[0;32mraise\u001b[0m \u001b[0mValueError\u001b[0m\u001b[0;34m(\u001b[0m\u001b[0;34m'At least one argument must be passed to function.'\u001b[0m\u001b[0;34m)\u001b[0m\u001b[0;34m\u001b[0m\u001b[0;34m\u001b[0m\u001b[0m\n\u001b[0m\u001b[1;32m      4\u001b[0m     \u001b[0;32mreturn\u001b[0m \u001b[0msum\u001b[0m\u001b[0;34m(\u001b[0m\u001b[0margs\u001b[0m\u001b[0;34m)\u001b[0m \u001b[0;34m/\u001b[0m \u001b[0mlen\u001b[0m\u001b[0;34m(\u001b[0m\u001b[0margs\u001b[0m\u001b[0;34m)\u001b[0m\u001b[0;34m\u001b[0m\u001b[0;34m\u001b[0m\u001b[0m\n",
      "\u001b[0;31mValueError\u001b[0m: At least one argument must be passed to function."
     ]
    }
   ],
   "source": [
    "average()"
   ]
  },
  {
   "cell_type": "markdown",
   "id": "emotional-realtor",
   "metadata": {},
   "source": [
    "Another approach (EAFP) could be:"
   ]
  },
  {
   "cell_type": "code",
   "execution_count": 8,
   "id": "heard-performer",
   "metadata": {},
   "outputs": [],
   "source": [
    "def average(*args):\n",
    "    try:\n",
    "        return sum(args) / len(args)\n",
    "    except ZeroDivisionError:\n",
    "        raise ValueError('At least one argument must be passed to function.')"
   ]
  },
  {
   "cell_type": "code",
   "execution_count": 9,
   "id": "authentic-water",
   "metadata": {},
   "outputs": [
    {
     "ename": "ValueError",
     "evalue": "At least one argument must be passed to function.",
     "output_type": "error",
     "traceback": [
      "\u001b[0;31m---------------------------------------------------------------------------\u001b[0m",
      "\u001b[0;31mZeroDivisionError\u001b[0m                         Traceback (most recent call last)",
      "\u001b[0;32m<ipython-input-8-78429c1e52b8>\u001b[0m in \u001b[0;36maverage\u001b[0;34m(*args)\u001b[0m\n\u001b[1;32m      2\u001b[0m     \u001b[0;32mtry\u001b[0m\u001b[0;34m:\u001b[0m\u001b[0;34m\u001b[0m\u001b[0;34m\u001b[0m\u001b[0m\n\u001b[0;32m----> 3\u001b[0;31m         \u001b[0;32mreturn\u001b[0m \u001b[0msum\u001b[0m\u001b[0;34m(\u001b[0m\u001b[0margs\u001b[0m\u001b[0;34m)\u001b[0m \u001b[0;34m/\u001b[0m \u001b[0mlen\u001b[0m\u001b[0;34m(\u001b[0m\u001b[0margs\u001b[0m\u001b[0;34m)\u001b[0m\u001b[0;34m\u001b[0m\u001b[0;34m\u001b[0m\u001b[0m\n\u001b[0m\u001b[1;32m      4\u001b[0m     \u001b[0;32mexcept\u001b[0m \u001b[0mZeroDivisionError\u001b[0m\u001b[0;34m:\u001b[0m\u001b[0;34m\u001b[0m\u001b[0;34m\u001b[0m\u001b[0m\n",
      "\u001b[0;31mZeroDivisionError\u001b[0m: division by zero",
      "\nDuring handling of the above exception, another exception occurred:\n",
      "\u001b[0;31mValueError\u001b[0m                                Traceback (most recent call last)",
      "\u001b[0;32m<ipython-input-9-c4feed39dc61>\u001b[0m in \u001b[0;36m<module>\u001b[0;34m\u001b[0m\n\u001b[0;32m----> 1\u001b[0;31m \u001b[0maverage\u001b[0m\u001b[0;34m(\u001b[0m\u001b[0;34m)\u001b[0m\u001b[0;34m\u001b[0m\u001b[0;34m\u001b[0m\u001b[0m\n\u001b[0m",
      "\u001b[0;32m<ipython-input-8-78429c1e52b8>\u001b[0m in \u001b[0;36maverage\u001b[0;34m(*args)\u001b[0m\n\u001b[1;32m      3\u001b[0m         \u001b[0;32mreturn\u001b[0m \u001b[0msum\u001b[0m\u001b[0;34m(\u001b[0m\u001b[0margs\u001b[0m\u001b[0;34m)\u001b[0m \u001b[0;34m/\u001b[0m \u001b[0mlen\u001b[0m\u001b[0;34m(\u001b[0m\u001b[0margs\u001b[0m\u001b[0;34m)\u001b[0m\u001b[0;34m\u001b[0m\u001b[0;34m\u001b[0m\u001b[0m\n\u001b[1;32m      4\u001b[0m     \u001b[0;32mexcept\u001b[0m \u001b[0mZeroDivisionError\u001b[0m\u001b[0;34m:\u001b[0m\u001b[0;34m\u001b[0m\u001b[0;34m\u001b[0m\u001b[0m\n\u001b[0;32m----> 5\u001b[0;31m         \u001b[0;32mraise\u001b[0m \u001b[0mValueError\u001b[0m\u001b[0;34m(\u001b[0m\u001b[0;34m'At least one argument must be passed to function.'\u001b[0m\u001b[0;34m)\u001b[0m\u001b[0;34m\u001b[0m\u001b[0;34m\u001b[0m\u001b[0m\n\u001b[0m",
      "\u001b[0;31mValueError\u001b[0m: At least one argument must be passed to function."
     ]
    }
   ],
   "source": [
    "average()"
   ]
  },
  {
   "cell_type": "markdown",
   "id": "front-cherry",
   "metadata": {},
   "source": [
    "But we can actually enforce that at least one argument must be passed by changing how we specify our arguments - we can specify a single positional, followed by a `*args` - this way the function must be called with at least one argument:"
   ]
  },
  {
   "cell_type": "code",
   "execution_count": null,
   "id": "alpine-divide",
   "metadata": {},
   "outputs": [],
   "source": [
    "def average(arg, *args):\n",
    "    sum_values = arg + sum(args)\n",
    "    return sum_values / (len(args) + 1)"
   ]
  },
  {
   "cell_type": "code",
   "execution_count": 10,
   "id": "indonesian-defeat",
   "metadata": {},
   "outputs": [
    {
     "data": {
      "text/plain": [
       "2.0"
      ]
     },
     "execution_count": 10,
     "metadata": {},
     "output_type": "execute_result"
    }
   ],
   "source": [
    "average(1, 2, 3)"
   ]
  },
  {
   "cell_type": "code",
   "execution_count": 11,
   "id": "nasty-twist",
   "metadata": {},
   "outputs": [
    {
     "ename": "ValueError",
     "evalue": "At least one argument must be passed to function.",
     "output_type": "error",
     "traceback": [
      "\u001b[0;31m---------------------------------------------------------------------------\u001b[0m",
      "\u001b[0;31mZeroDivisionError\u001b[0m                         Traceback (most recent call last)",
      "\u001b[0;32m<ipython-input-8-78429c1e52b8>\u001b[0m in \u001b[0;36maverage\u001b[0;34m(*args)\u001b[0m\n\u001b[1;32m      2\u001b[0m     \u001b[0;32mtry\u001b[0m\u001b[0;34m:\u001b[0m\u001b[0;34m\u001b[0m\u001b[0;34m\u001b[0m\u001b[0m\n\u001b[0;32m----> 3\u001b[0;31m         \u001b[0;32mreturn\u001b[0m \u001b[0msum\u001b[0m\u001b[0;34m(\u001b[0m\u001b[0margs\u001b[0m\u001b[0;34m)\u001b[0m \u001b[0;34m/\u001b[0m \u001b[0mlen\u001b[0m\u001b[0;34m(\u001b[0m\u001b[0margs\u001b[0m\u001b[0;34m)\u001b[0m\u001b[0;34m\u001b[0m\u001b[0;34m\u001b[0m\u001b[0m\n\u001b[0m\u001b[1;32m      4\u001b[0m     \u001b[0;32mexcept\u001b[0m \u001b[0mZeroDivisionError\u001b[0m\u001b[0;34m:\u001b[0m\u001b[0;34m\u001b[0m\u001b[0;34m\u001b[0m\u001b[0m\n",
      "\u001b[0;31mZeroDivisionError\u001b[0m: division by zero",
      "\nDuring handling of the above exception, another exception occurred:\n",
      "\u001b[0;31mValueError\u001b[0m                                Traceback (most recent call last)",
      "\u001b[0;32m<ipython-input-11-c4feed39dc61>\u001b[0m in \u001b[0;36m<module>\u001b[0;34m\u001b[0m\n\u001b[0;32m----> 1\u001b[0;31m \u001b[0maverage\u001b[0m\u001b[0;34m(\u001b[0m\u001b[0;34m)\u001b[0m\u001b[0;34m\u001b[0m\u001b[0;34m\u001b[0m\u001b[0m\n\u001b[0m",
      "\u001b[0;32m<ipython-input-8-78429c1e52b8>\u001b[0m in \u001b[0;36maverage\u001b[0;34m(*args)\u001b[0m\n\u001b[1;32m      3\u001b[0m         \u001b[0;32mreturn\u001b[0m \u001b[0msum\u001b[0m\u001b[0;34m(\u001b[0m\u001b[0margs\u001b[0m\u001b[0;34m)\u001b[0m \u001b[0;34m/\u001b[0m \u001b[0mlen\u001b[0m\u001b[0;34m(\u001b[0m\u001b[0margs\u001b[0m\u001b[0;34m)\u001b[0m\u001b[0;34m\u001b[0m\u001b[0;34m\u001b[0m\u001b[0m\n\u001b[1;32m      4\u001b[0m     \u001b[0;32mexcept\u001b[0m \u001b[0mZeroDivisionError\u001b[0m\u001b[0;34m:\u001b[0m\u001b[0;34m\u001b[0m\u001b[0;34m\u001b[0m\u001b[0m\n\u001b[0;32m----> 5\u001b[0;31m         \u001b[0;32mraise\u001b[0m \u001b[0mValueError\u001b[0m\u001b[0;34m(\u001b[0m\u001b[0;34m'At least one argument must be passed to function.'\u001b[0m\u001b[0;34m)\u001b[0m\u001b[0;34m\u001b[0m\u001b[0;34m\u001b[0m\u001b[0m\n\u001b[0m",
      "\u001b[0;31mValueError\u001b[0m: At least one argument must be passed to function."
     ]
    }
   ],
   "source": [
    "average()"
   ]
  },
  {
   "cell_type": "markdown",
   "id": "broken-permit",
   "metadata": {},
   "source": [
    "#### Question 2"
   ]
  },
  {
   "cell_type": "markdown",
   "id": "elegant-anderson",
   "metadata": {},
   "source": [
    "Write a function that returns a string based on two input arguments:\n",
    "- a character or string to be repeated\n",
    "- the number of times the string should be repeated"
   ]
  },
  {
   "cell_type": "markdown",
   "id": "adaptive-animation",
   "metadata": {},
   "source": [
    "The function should be such that the number of repetitions defaults to `10` if it is not passed by the caller, and the default character to be repeated should be a negative sign (`-`).\n",
    "\n",
    "Call your function `separator`.\n",
    "\n",
    "Use a keyword-only argument for the string argument."
   ]
  },
  {
   "cell_type": "markdown",
   "id": "primary-location",
   "metadata": {},
   "source": [
    "##### Solution"
   ]
  },
  {
   "cell_type": "markdown",
   "id": "intensive-attendance",
   "metadata": {},
   "source": [
    "Here we'll want to use default values for the value and the string, as well as make the string a keyword-only argument:"
   ]
  },
  {
   "cell_type": "code",
   "execution_count": 12,
   "id": "frozen-substance",
   "metadata": {},
   "outputs": [],
   "source": [
    "def separator(number=10, *, char='-'):\n",
    "    return char * number"
   ]
  },
  {
   "cell_type": "code",
   "execution_count": 13,
   "id": "ranking-reception",
   "metadata": {},
   "outputs": [
    {
     "data": {
      "text/plain": [
       "'----------'"
      ]
     },
     "execution_count": 13,
     "metadata": {},
     "output_type": "execute_result"
    }
   ],
   "source": [
    "separator()"
   ]
  },
  {
   "cell_type": "code",
   "execution_count": 14,
   "id": "peripheral-recorder",
   "metadata": {},
   "outputs": [
    {
     "data": {
      "text/plain": [
       "'-----'"
      ]
     },
     "execution_count": 14,
     "metadata": {},
     "output_type": "execute_result"
    }
   ],
   "source": [
    "separator(5)"
   ]
  },
  {
   "cell_type": "code",
   "execution_count": 15,
   "id": "saving-doubt",
   "metadata": {},
   "outputs": [
    {
     "data": {
      "text/plain": [
       "'**********'"
      ]
     },
     "execution_count": 15,
     "metadata": {},
     "output_type": "execute_result"
    }
   ],
   "source": [
    "separator(char='*')"
   ]
  },
  {
   "cell_type": "code",
   "execution_count": 16,
   "id": "musical-safety",
   "metadata": {},
   "outputs": [
    {
     "data": {
      "text/plain": [
       "'*****'"
      ]
     },
     "execution_count": 16,
     "metadata": {},
     "output_type": "execute_result"
    }
   ],
   "source": [
    "separator(5, char='*')"
   ]
  },
  {
   "cell_type": "markdown",
   "id": "primary-fitness",
   "metadata": {},
   "source": [
    "#### Question 3"
   ]
  },
  {
   "cell_type": "markdown",
   "id": "aboriginal-resistance",
   "metadata": {},
   "source": [
    "Write a lambda function that returns the number of unique elements in an iterable. This could be the number of unique characters in a string, or the number of unique elements in a list, tuple, etc.\n",
    "\n",
    "If the iterable received by the lambda function is empty, then it should return `0`."
   ]
  },
  {
   "cell_type": "markdown",
   "id": "wireless-finance",
   "metadata": {},
   "source": [
    "##### Solution"
   ]
  },
  {
   "cell_type": "markdown",
   "id": "lasting-hebrew",
   "metadata": {},
   "source": [
    "Let's first write this using a regular function."
   ]
  },
  {
   "cell_type": "markdown",
   "id": "muslim-whole",
   "metadata": {},
   "source": [
    "We're going to use sets to obtain the unique elements of an iterable, and then return the length of the set:"
   ]
  },
  {
   "cell_type": "code",
   "execution_count": 17,
   "id": "inner-butler",
   "metadata": {},
   "outputs": [],
   "source": [
    "def count_unique(iterable):\n",
    "    unique_elements = set(iterable)\n",
    "    return len(unique_elements)"
   ]
  },
  {
   "cell_type": "code",
   "execution_count": 18,
   "id": "included-raise",
   "metadata": {},
   "outputs": [
    {
     "data": {
      "text/plain": [
       "4"
      ]
     },
     "execution_count": 18,
     "metadata": {},
     "output_type": "execute_result"
    }
   ],
   "source": [
    "count_unique('abcdabcd')"
   ]
  },
  {
   "cell_type": "code",
   "execution_count": 19,
   "id": "gothic-certificate",
   "metadata": {},
   "outputs": [
    {
     "data": {
      "text/plain": [
       "3"
      ]
     },
     "execution_count": 19,
     "metadata": {},
     "output_type": "execute_result"
    }
   ],
   "source": [
    "count_unique([1, 1, 2, 2, 3])"
   ]
  },
  {
   "cell_type": "markdown",
   "id": "civic-hearing",
   "metadata": {},
   "source": [
    "And this even works for empty iterables:"
   ]
  },
  {
   "cell_type": "code",
   "execution_count": 20,
   "id": "transsexual-labor",
   "metadata": {},
   "outputs": [
    {
     "data": {
      "text/plain": [
       "0"
      ]
     },
     "execution_count": 20,
     "metadata": {},
     "output_type": "execute_result"
    }
   ],
   "source": [
    "count_unique([])"
   ]
  },
  {
   "cell_type": "markdown",
   "id": "monthly-phase",
   "metadata": {},
   "source": [
    "We can then make a lambda function with the same functionality:"
   ]
  },
  {
   "cell_type": "code",
   "execution_count": 21,
   "id": "decreased-martial",
   "metadata": {},
   "outputs": [],
   "source": [
    "f = lambda iterable: len(set(iterable))"
   ]
  },
  {
   "cell_type": "code",
   "execution_count": 22,
   "id": "dated-switch",
   "metadata": {},
   "outputs": [
    {
     "data": {
      "text/plain": [
       "3"
      ]
     },
     "execution_count": 22,
     "metadata": {},
     "output_type": "execute_result"
    }
   ],
   "source": [
    "f('aabbcc')"
   ]
  },
  {
   "cell_type": "code",
   "execution_count": 23,
   "id": "ongoing-allen",
   "metadata": {},
   "outputs": [
    {
     "data": {
      "text/plain": [
       "4"
      ]
     },
     "execution_count": 23,
     "metadata": {},
     "output_type": "execute_result"
    }
   ],
   "source": [
    "f([1, 1, 2, 2, 3, 4])"
   ]
  },
  {
   "cell_type": "markdown",
   "id": "miniature-myanmar",
   "metadata": {},
   "source": [
    "#### Question 4"
   ]
  },
  {
   "cell_type": "markdown",
   "id": "front-dominican",
   "metadata": {},
   "source": [
    "Write a function that receives a string as an argument (defaults to an empty string) and returns a dictionary with the unique words and their frequency."
   ]
  },
  {
   "cell_type": "markdown",
   "id": "medieval-folks",
   "metadata": {},
   "source": [
    "For example, for a string such as:\n",
    "\n",
    "```\n",
    "This is the first sentence. This is the scecond sentence. This is not the fourth sentence, it is the third sentence.\n",
    "```\n",
    "\n",
    "the result of the function should be:"
   ]
  },
  {
   "cell_type": "code",
   "execution_count": 24,
   "id": "surgical-portrait",
   "metadata": {},
   "outputs": [],
   "source": [
    "result = {\n",
    "    'This': 3,\n",
    "    'is': 4,\n",
    "    'the': 4,\n",
    "    'first': 1,\n",
    "    'sentence': 4,\n",
    "    'scecond': 1,\n",
    "    'not': 1,\n",
    "    'fourth': 1,\n",
    "    'it': 1,\n",
    "    'third': 1\n",
    "}"
   ]
  },
  {
   "cell_type": "markdown",
   "id": "unable-glance",
   "metadata": {},
   "source": [
    "You may assume that word separators are limited to spaces, commas, and periods (no newline characters)."
   ]
  },
  {
   "cell_type": "markdown",
   "id": "determined-healing",
   "metadata": {},
   "source": [
    "Hint: You will want to split based on some character. Problem is that we really need to split based on three different characters: spaces, commas and periods. One approach would be to replace all commas and periods with spaces and then split on spaces."
   ]
  },
  {
   "cell_type": "markdown",
   "id": "funded-environment",
   "metadata": {},
   "source": [
    "##### Solution"
   ]
  },
  {
   "cell_type": "markdown",
   "id": "greater-diesel",
   "metadata": {},
   "source": [
    "The first thing our function will need to do is split all the words on the space, comma and prediod characters."
   ]
  },
  {
   "cell_type": "markdown",
   "id": "explicit-firmware",
   "metadata": {},
   "source": [
    "But the split function cannot handle multiple separators, so we need a way around this."
   ]
  },
  {
   "cell_type": "markdown",
   "id": "eight-artwork",
   "metadata": {},
   "source": [
    "One approach would be to iterate over every character in the string and maintain the splits ourselves by checking the current character value as a separator value or not a separator value - but this is not as easy to do as it sounds."
   ]
  },
  {
   "cell_type": "markdown",
   "id": "fundamental-headquarters",
   "metadata": {},
   "source": [
    "Another approach, beyond the scope of this course, would be to use regular expression."
   ]
  },
  {
   "cell_type": "markdown",
   "id": "sunrise-hundred",
   "metadata": {},
   "source": [
    "The approach I'm going to take here is to replace all the separator characters with spaces - and then just split on spaces."
   ]
  },
  {
   "cell_type": "code",
   "execution_count": 25,
   "id": "sixth-shell",
   "metadata": {},
   "outputs": [],
   "source": [
    "s = \"word1, word2. word3 word4 word4\""
   ]
  },
  {
   "cell_type": "code",
   "execution_count": 26,
   "id": "important-frederick",
   "metadata": {},
   "outputs": [
    {
     "data": {
      "text/plain": [
       "'word1  word2. word3 word4 word4'"
      ]
     },
     "execution_count": 26,
     "metadata": {},
     "output_type": "execute_result"
    }
   ],
   "source": [
    "s = s.replace(',', ' ')\n",
    "s"
   ]
  },
  {
   "cell_type": "code",
   "execution_count": 27,
   "id": "smart-brighton",
   "metadata": {},
   "outputs": [],
   "source": [
    "s = s.replace('.', ' ')"
   ]
  },
  {
   "cell_type": "code",
   "execution_count": 28,
   "id": "distant-location",
   "metadata": {},
   "outputs": [
    {
     "data": {
      "text/plain": [
       "'word1  word2  word3 word4 word4'"
      ]
     },
     "execution_count": 28,
     "metadata": {},
     "output_type": "execute_result"
    }
   ],
   "source": [
    "s"
   ]
  },
  {
   "cell_type": "markdown",
   "id": "broadband-trinidad",
   "metadata": {},
   "source": [
    "Now we can split on spaces, but you'll notice that we sometimes have repeated spaces in our string:"
   ]
  },
  {
   "cell_type": "code",
   "execution_count": 29,
   "id": "laden-judgment",
   "metadata": {},
   "outputs": [
    {
     "data": {
      "text/plain": [
       "['word1', '', 'word2', '', 'word3', 'word4', 'word4']"
      ]
     },
     "execution_count": 29,
     "metadata": {},
     "output_type": "execute_result"
    }
   ],
   "source": [
    "s.split(' ')"
   ]
  },
  {
   "cell_type": "markdown",
   "id": "stretch-adams",
   "metadata": {},
   "source": [
    "But remember that with no argument, `split` will split based on any whitespace characters - and this works much better for us, since it will treat `' '` (single space) in the same way as `'  '` (two spaces)."
   ]
  },
  {
   "cell_type": "code",
   "execution_count": 30,
   "id": "confused-charter",
   "metadata": {},
   "outputs": [
    {
     "data": {
      "text/plain": [
       "['word1', 'word2', 'word3', 'word4', 'word4']"
      ]
     },
     "execution_count": 30,
     "metadata": {},
     "output_type": "execute_result"
    }
   ],
   "source": [
    "s.split()"
   ]
  },
  {
   "cell_type": "markdown",
   "id": "classified-reproduction",
   "metadata": {},
   "source": [
    "Once we have that, we can build up a dictionary containing the unique words and their frequency:"
   ]
  },
  {
   "cell_type": "code",
   "execution_count": 31,
   "id": "comparative-designer",
   "metadata": {},
   "outputs": [
    {
     "data": {
      "text/plain": [
       "{'word1': 1, 'word2': 1, 'word3': 1, 'word4': 2}"
      ]
     },
     "execution_count": 31,
     "metadata": {},
     "output_type": "execute_result"
    }
   ],
   "source": [
    "freq = {}\n",
    "for word in s.split():\n",
    "    freq[word] = freq.get(word, 0) + 1\n",
    "    \n",
    "freq"
   ]
  },
  {
   "cell_type": "markdown",
   "id": "played-forward",
   "metadata": {},
   "source": [
    "Or we could use the `Counter` object we saw earlier:"
   ]
  },
  {
   "cell_type": "code",
   "execution_count": 32,
   "id": "italic-albuquerque",
   "metadata": {},
   "outputs": [
    {
     "ename": "AttributeError",
     "evalue": "'Counter' object has no attribute 'dict'",
     "output_type": "error",
     "traceback": [
      "\u001b[0;31m---------------------------------------------------------------------------\u001b[0m",
      "\u001b[0;31mAttributeError\u001b[0m                            Traceback (most recent call last)",
      "\u001b[0;32m<ipython-input-32-3143d6d02a85>\u001b[0m in \u001b[0;36m<module>\u001b[0;34m\u001b[0m\n\u001b[1;32m      2\u001b[0m \u001b[0;34m\u001b[0m\u001b[0m\n\u001b[1;32m      3\u001b[0m \u001b[0mfreq\u001b[0m \u001b[0;34m=\u001b[0m \u001b[0mCounter\u001b[0m\u001b[0;34m(\u001b[0m\u001b[0ms\u001b[0m\u001b[0;34m.\u001b[0m\u001b[0msplit\u001b[0m\u001b[0;34m(\u001b[0m\u001b[0;34m)\u001b[0m\u001b[0;34m)\u001b[0m\u001b[0;34m\u001b[0m\u001b[0;34m\u001b[0m\u001b[0m\n\u001b[0;32m----> 4\u001b[0;31m \u001b[0mfreq\u001b[0m\u001b[0;34m.\u001b[0m\u001b[0mdict\u001b[0m\u001b[0;34m(\u001b[0m\u001b[0;34m)\u001b[0m\u001b[0;34m\u001b[0m\u001b[0;34m\u001b[0m\u001b[0m\n\u001b[0m",
      "\u001b[0;31mAttributeError\u001b[0m: 'Counter' object has no attribute 'dict'"
     ]
    }
   ],
   "source": [
    "from collections import Counter\n",
    "\n",
    "freq = Counter(s.split())\n",
    "freq.dict()"
   ]
  },
  {
   "cell_type": "markdown",
   "id": "continental-bradley",
   "metadata": {},
   "source": [
    "If we truly want a dictionary, we can convert that `Counter` object to a `dict` type:"
   ]
  },
  {
   "cell_type": "code",
   "execution_count": 33,
   "id": "paperback-breast",
   "metadata": {},
   "outputs": [
    {
     "data": {
      "text/plain": [
       "{'word1': 1, 'word2': 1, 'word3': 1, 'word4': 2}"
      ]
     },
     "execution_count": 33,
     "metadata": {},
     "output_type": "execute_result"
    }
   ],
   "source": [
    "dict(freq)"
   ]
  },
  {
   "cell_type": "markdown",
   "id": "analyzed-agreement",
   "metadata": {},
   "source": [
    "Now we are ready to build a function that does all these steps:"
   ]
  },
  {
   "cell_type": "code",
   "execution_count": 34,
   "id": "perfect-venture",
   "metadata": {},
   "outputs": [],
   "source": [
    "def word_frequencies(s = ''):\n",
    "    s = s.replace(',', ' ')\n",
    "    s = s.replace('.', ' ')\n",
    "    words = s.split()\n",
    "    return dict(Counter(words))"
   ]
  },
  {
   "cell_type": "markdown",
   "id": "affiliated-sacramento",
   "metadata": {},
   "source": [
    "Let's try this function out with some arguments (including no arguments):"
   ]
  },
  {
   "cell_type": "code",
   "execution_count": 35,
   "id": "retired-prison",
   "metadata": {},
   "outputs": [
    {
     "data": {
      "text/plain": [
       "{}"
      ]
     },
     "execution_count": 35,
     "metadata": {},
     "output_type": "execute_result"
    }
   ],
   "source": [
    "word_frequencies()"
   ]
  },
  {
   "cell_type": "code",
   "execution_count": 36,
   "id": "comic-snake",
   "metadata": {},
   "outputs": [
    {
     "data": {
      "text/plain": [
       "{'word1': 4, 'word2': 1, 'word3': 1}"
      ]
     },
     "execution_count": 36,
     "metadata": {},
     "output_type": "execute_result"
    }
   ],
   "source": [
    "word_frequencies('word1, word2, word1. word1 word1... word3')"
   ]
  },
  {
   "cell_type": "markdown",
   "id": "acknowledged-contemporary",
   "metadata": {},
   "source": [
    "And finally let's try it out with the sample text and make sure we get the same results:"
   ]
  },
  {
   "cell_type": "code",
   "execution_count": 37,
   "id": "enabling-caribbean",
   "metadata": {},
   "outputs": [],
   "source": [
    "s = \"\"\"\n",
    "This is the first sentence. This is the scecond sentence. This is not the fourth sentence, it is the third sentence.\n",
    "\"\"\""
   ]
  },
  {
   "cell_type": "code",
   "execution_count": 38,
   "id": "optimum-duplicate",
   "metadata": {},
   "outputs": [],
   "source": [
    "computed = word_frequencies(s)"
   ]
  },
  {
   "cell_type": "code",
   "execution_count": 39,
   "id": "built-pipeline",
   "metadata": {},
   "outputs": [
    {
     "data": {
      "text/plain": [
       "{'This': 3,\n",
       " 'is': 4,\n",
       " 'the': 4,\n",
       " 'first': 1,\n",
       " 'sentence': 4,\n",
       " 'scecond': 1,\n",
       " 'not': 1,\n",
       " 'fourth': 1,\n",
       " 'it': 1,\n",
       " 'third': 1}"
      ]
     },
     "execution_count": 39,
     "metadata": {},
     "output_type": "execute_result"
    }
   ],
   "source": [
    "computed"
   ]
  },
  {
   "cell_type": "markdown",
   "id": "alleged-classics",
   "metadata": {},
   "source": [
    "We could visually check the results against the sample result, but we can also just compre the dictionaries using `==`:"
   ]
  },
  {
   "cell_type": "code",
   "execution_count": 40,
   "id": "fancy-bulgaria",
   "metadata": {},
   "outputs": [],
   "source": [
    "result = {\n",
    "    'This': 3,\n",
    "    'is': 4,\n",
    "    'the': 4,\n",
    "    'first': 1,\n",
    "    'sentence': 4,\n",
    "    'scecond': 1,\n",
    "    'not': 1,\n",
    "    'fourth': 1,\n",
    "    'it': 1,\n",
    "    'third': 1\n",
    "}"
   ]
  },
  {
   "cell_type": "code",
   "execution_count": 41,
   "id": "talented-reply",
   "metadata": {},
   "outputs": [
    {
     "data": {
      "text/plain": [
       "True"
      ]
     },
     "execution_count": 41,
     "metadata": {},
     "output_type": "execute_result"
    }
   ],
   "source": [
    "computed == result"
   ]
  }
 ],
 "metadata": {
  "kernelspec": {
   "display_name": "Python 3",
   "language": "python",
   "name": "python3"
  },
  "language_info": {
   "codemirror_mode": {
    "name": "ipython",
    "version": 3
   },
   "file_extension": ".py",
   "mimetype": "text/x-python",
   "name": "python",
   "nbconvert_exporter": "python",
   "pygments_lexer": "ipython3",
   "version": "3.9.1"
  }
 },
 "nbformat": 4,
 "nbformat_minor": 5
}
