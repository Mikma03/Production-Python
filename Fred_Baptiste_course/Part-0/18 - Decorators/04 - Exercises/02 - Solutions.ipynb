{
 "cells": [
  {
   "cell_type": "markdown",
   "id": "different-spirit",
   "metadata": {},
   "source": [
    "### Solutions"
   ]
  },
  {
   "cell_type": "markdown",
   "id": "composite-canal",
   "metadata": {},
   "source": [
    "#### Question 1"
   ]
  },
  {
   "cell_type": "markdown",
   "id": "clinical-clear",
   "metadata": {},
   "source": [
    "Write a decorator that can be used to print out how long a function takes to run."
   ]
  },
  {
   "cell_type": "markdown",
   "id": "attached-capital",
   "metadata": {},
   "source": [
    "##### Solution"
   ]
  },
  {
   "cell_type": "markdown",
   "id": "revised-dancing",
   "metadata": {},
   "source": [
    "Let's start with the \"standard\" skeleton for a decorator."
   ]
  },
  {
   "cell_type": "code",
   "execution_count": 1,
   "id": "certified-saskatchewan",
   "metadata": {},
   "outputs": [],
   "source": [
    "def logged(f):\n",
    "    def inner(*args, **kwargs):\n",
    "        result = f(*args, **kwargs)\n",
    "        return result\n",
    "    return inner"
   ]
  },
  {
   "cell_type": "markdown",
   "id": "immune-campus",
   "metadata": {},
   "source": [
    "Now, we just need to time and print out the timing before returning the result of the function call."
   ]
  },
  {
   "cell_type": "code",
   "execution_count": 2,
   "id": "meaning-springer",
   "metadata": {},
   "outputs": [],
   "source": [
    "from time import perf_counter\n",
    "\n",
    "def logged(f):\n",
    "    def inner(*args, **kwargs):\n",
    "        start = perf_counter()\n",
    "        result = f(*args, **kwargs)\n",
    "        end = perf_counter()\n",
    "        print(f'elapsed: {end - start} secs')\n",
    "        return result\n",
    "    return inner"
   ]
  },
  {
   "cell_type": "markdown",
   "id": "australian-integration",
   "metadata": {},
   "source": [
    "And let's try it out on a few functions:"
   ]
  },
  {
   "cell_type": "code",
   "execution_count": 3,
   "id": "chief-toner",
   "metadata": {},
   "outputs": [],
   "source": [
    "import math\n",
    "\n",
    "@logged\n",
    "def norm(x, y):\n",
    "    return math.sqrt(x**2 + y**2)\n",
    "\n",
    "@logged\n",
    "def find_index_min(seq):\n",
    "    min_ = min(seq)\n",
    "    return seq.index(min_)"
   ]
  },
  {
   "cell_type": "code",
   "execution_count": 4,
   "id": "developing-cartoon",
   "metadata": {},
   "outputs": [],
   "source": [
    "norm(3, 4)"
   ]
  },
  {
   "cell_type": "code",
   "execution_count": 5,
   "id": "hawaiian-danish",
   "metadata": {},
   "outputs": [],
   "source": [
    "find_index_min([3, 2, 1, 4, 5])"
   ]
  },
  {
   "cell_type": "markdown",
   "id": "retired-documentation",
   "metadata": {},
   "source": [
    "#### Question 2"
   ]
  },
  {
   "cell_type": "markdown",
   "id": "first-garlic",
   "metadata": {},
   "source": [
    "We have several functions in our code that perform some calculations and return a numeric result, possibly `float`, `int` or even `Decimal`."
   ]
  },
  {
   "cell_type": "markdown",
   "id": "passing-highlight",
   "metadata": {},
   "source": [
    "We actually want to make sure that all results from each of these functions are rounded to some number of digits after the decimal point (precision), and always returned as a `float`."
   ]
  },
  {
   "cell_type": "markdown",
   "id": "conservative-concert",
   "metadata": {},
   "source": [
    "But every time our program runs, that precision could change. Also, we'd rather not have to change every function we have, since at some point in the future we may want to return `Decimal` objects, and not `floats` - so we want to minimize how much code we would have to change to accomodate all this."
   ]
  },
  {
   "cell_type": "markdown",
   "id": "marked-interview",
   "metadata": {},
   "source": [
    "For example, we might a variable in our code that defines the precision, and could be changed any time we run our code:"
   ]
  },
  {
   "cell_type": "code",
   "execution_count": 6,
   "id": "european-dragon",
   "metadata": {},
   "outputs": [],
   "source": [
    "PRECISION = 2"
   ]
  },
  {
   "cell_type": "markdown",
   "id": "atmospheric-reaction",
   "metadata": {},
   "source": [
    "Suppose we have the following functions already defined:"
   ]
  },
  {
   "cell_type": "code",
   "execution_count": 7,
   "id": "hispanic-ecology",
   "metadata": {},
   "outputs": [],
   "source": [
    "from decimal import Decimal\n",
    "\n",
    "def perc_diff(x, y):\n",
    "    try:\n",
    "        return (y-x) / x * 100\n",
    "    except ZeroDivisionError:\n",
    "        return 0\n",
    "    \n",
    "def sum_squares(*args):\n",
    "    return sum(x**2 for x in args)\n",
    "\n",
    "def avg(*args):\n",
    "    if len(args) == 0:\n",
    "        return 0\n",
    "    \n",
    "    numbers = [Decimal(x) for x in args]\n",
    "    sum_ = sum(numbers)\n",
    "    return sum_ / len(numbers)"
   ]
  },
  {
   "cell_type": "markdown",
   "id": "freelance-horror",
   "metadata": {},
   "source": [
    "Write a decorator named `normalize` that can be used to decorate these functions to ensure that the result is always returned as a `float` with a precision defined by some global variable `PRECISION`."
   ]
  },
  {
   "cell_type": "markdown",
   "id": "economic-diary",
   "metadata": {},
   "source": [
    "##### Solution"
   ]
  },
  {
   "cell_type": "markdown",
   "id": "secure-hudson",
   "metadata": {},
   "source": [
    "Let's start with the \"standard\" decorator skeleton."
   ]
  },
  {
   "cell_type": "code",
   "execution_count": 8,
   "id": "challenging-buddy",
   "metadata": {},
   "outputs": [],
   "source": [
    "def normalize(fn):\n",
    "    def inner(*args, **kwargs):\n",
    "        result = fn(*args, **kwargs)\n",
    "        return result\n",
    "    return inner"
   ]
  },
  {
   "cell_type": "markdown",
   "id": "sought-fellow",
   "metadata": {},
   "source": [
    "Next, we want to intercept the `result`, convert it to a float, and round it to `PRECISION`."
   ]
  },
  {
   "cell_type": "code",
   "execution_count": 9,
   "id": "charged-marker",
   "metadata": {},
   "outputs": [],
   "source": [
    "def normalize(fn):\n",
    "    def inner(*args, **kwargs):\n",
    "        result = fn(*args, **kwargs)\n",
    "        result = round(float(result), PRECISION)\n",
    "        return result\n",
    "    return inner"
   ]
  },
  {
   "cell_type": "markdown",
   "id": "blond-gender",
   "metadata": {},
   "source": [
    "Now we can apply this decorator our functions:"
   ]
  },
  {
   "cell_type": "code",
   "execution_count": 10,
   "id": "ordinary-venture",
   "metadata": {},
   "outputs": [],
   "source": [
    "from decimal import Decimal\n",
    "\n",
    "PRECISION = 2\n",
    "\n",
    "@normalize\n",
    "def perc_diff(x, y):\n",
    "    try:\n",
    "        return (y-x) / x * 100\n",
    "    except ZeroDivisionError:\n",
    "        return 0\n",
    "    \n",
    "@normalize\n",
    "def sum_squares(*args):\n",
    "    return sum(x**2 for x in args)\n",
    "\n",
    "@normalize\n",
    "def avg(*args):\n",
    "    if len(args) == 0:\n",
    "        return 0\n",
    "    \n",
    "    numbers = [Decimal(x) for x in args]\n",
    "    sum_ = sum(numbers)\n",
    "    return sum_ / len(numbers)"
   ]
  },
  {
   "cell_type": "markdown",
   "id": "precise-gross",
   "metadata": {},
   "source": [
    "And let's try them out:"
   ]
  },
  {
   "cell_type": "code",
   "execution_count": 11,
   "id": "threatened-asbestos",
   "metadata": {},
   "outputs": [],
   "source": [
    "perc_diff(13, 16)"
   ]
  },
  {
   "cell_type": "code",
   "execution_count": 12,
   "id": "activated-veteran",
   "metadata": {},
   "outputs": [],
   "source": [
    "sum_squares(0.1, 0.2, 0.3)"
   ]
  },
  {
   "cell_type": "code",
   "execution_count": 13,
   "id": "amino-sally",
   "metadata": {},
   "outputs": [],
   "source": [
    "avg(1.1, 3.14, 42)"
   ]
  },
  {
   "cell_type": "markdown",
   "id": "assumed-shock",
   "metadata": {},
   "source": [
    "The nice thing about that approach, is that we can easily change the precision before running our code without changing any of our code except the value of `PRECISION`:"
   ]
  },
  {
   "cell_type": "code",
   "execution_count": 14,
   "id": "large-glossary",
   "metadata": {},
   "outputs": [],
   "source": [
    "from decimal import Decimal\n",
    "\n",
    "PRECISION = 6\n",
    "\n",
    "@normalize\n",
    "def perc_diff(x, y):\n",
    "    try:\n",
    "        return (y-x) / x * 100\n",
    "    except ZeroDivisionError:\n",
    "        return 0\n",
    "    \n",
    "@normalize\n",
    "def sum_squares(*args):\n",
    "    return sum(x**2 for x in args)\n",
    "\n",
    "@normalize\n",
    "def avg(*args):\n",
    "    if len(args) == 0:\n",
    "        return 0\n",
    "    \n",
    "    numbers = [Decimal(x) for x in args]\n",
    "    sum_ = sum(numbers)\n",
    "    return sum_ / len(numbers)\n",
    "\n",
    "print(perc_diff(13, 16))\n",
    "print(sum_squares(0.1, 0.2, 0.3))\n",
    "print(avg(1.1, 3.14, 42))"
   ]
  },
  {
   "cell_type": "markdown",
   "id": "gentle-violence",
   "metadata": {},
   "source": [
    "#### Question 3"
   ]
  },
  {
   "cell_type": "markdown",
   "id": "faced-foster",
   "metadata": {},
   "source": [
    "Sometimes we have functions that get called often with the same argument values but take a long time to run."
   ]
  },
  {
   "cell_type": "markdown",
   "id": "blind-nancy",
   "metadata": {},
   "source": [
    "If those functions are deterministic (i.e. passing the same arguments will always result in the same return value), then we can get a huge performance benefit by implementing a caching mechanism."
   ]
  },
  {
   "cell_type": "markdown",
   "id": "chicken-decade",
   "metadata": {},
   "source": [
    "This function simulates a long running function:"
   ]
  },
  {
   "cell_type": "code",
   "execution_count": 15,
   "id": "considered-munich",
   "metadata": {},
   "outputs": [],
   "source": [
    "from time import sleep\n",
    "\n",
    "def add(x, y):\n",
    "    sleep(2)\n",
    "    return x + y"
   ]
  },
  {
   "cell_type": "markdown",
   "id": "stock-interval",
   "metadata": {},
   "source": [
    "As you can see the function is deterministic - the result will always be the same for the same arguments."
   ]
  },
  {
   "cell_type": "markdown",
   "id": "polyphonic-mexican",
   "metadata": {},
   "source": [
    "Use Python's LRU caching decorator to help improve performance when this function is called multiple times with the same arguments."
   ]
  },
  {
   "cell_type": "markdown",
   "id": "wrong-kennedy",
   "metadata": {},
   "source": [
    "Then use `timeit` to test how performance is affected."
   ]
  },
  {
   "cell_type": "markdown",
   "id": "saved-mechanics",
   "metadata": {},
   "source": [
    "##### Solution"
   ]
  },
  {
   "cell_type": "markdown",
   "id": "oriental-photography",
   "metadata": {},
   "source": [
    "We'll use the `lru_cache` decorator that is in the `functools` module:"
   ]
  },
  {
   "cell_type": "code",
   "execution_count": 16,
   "id": "homeless-bankruptcy",
   "metadata": {},
   "outputs": [],
   "source": [
    "from functools import lru_cache"
   ]
  },
  {
   "cell_type": "markdown",
   "id": "killing-basis",
   "metadata": {},
   "source": [
    "Let's see how our function runs before we use the cache:"
   ]
  },
  {
   "cell_type": "code",
   "execution_count": 17,
   "id": "green-warren",
   "metadata": {},
   "outputs": [
    {
     "data": {
      "text/plain": [
       "20.022507932"
      ]
     },
     "execution_count": 17,
     "metadata": {},
     "output_type": "execute_result"
    }
   ],
   "source": [
    "from timeit import timeit\n",
    "\n",
    "timeit('add(2, 2)', globals=globals(), number=10)"
   ]
  },
  {
   "cell_type": "markdown",
   "id": "union-catalog",
   "metadata": {},
   "source": [
    "As expected, this took 20 seconds to run."
   ]
  },
  {
   "cell_type": "markdown",
   "id": "fossil-rebecca",
   "metadata": {},
   "source": [
    "Now let's decorate that `add` function:"
   ]
  },
  {
   "cell_type": "code",
   "execution_count": 18,
   "id": "resident-liberia",
   "metadata": {},
   "outputs": [],
   "source": [
    "@lru_cache\n",
    "def add(x, y):\n",
    "    sleep(2)\n",
    "    return x + y"
   ]
  },
  {
   "cell_type": "markdown",
   "id": "amateur-papua",
   "metadata": {},
   "source": [
    "And let's run the timings again:"
   ]
  },
  {
   "cell_type": "code",
   "execution_count": 19,
   "id": "caroline-budapest",
   "metadata": {},
   "outputs": [
    {
     "data": {
      "text/plain": [
       "2.0038045129999986"
      ]
     },
     "execution_count": 19,
     "metadata": {},
     "output_type": "execute_result"
    }
   ],
   "source": [
    "timeit('add(2, 2)', globals=globals(), number=10)"
   ]
  },
  {
   "cell_type": "markdown",
   "id": "incomplete-notion",
   "metadata": {},
   "source": [
    "#### Question 4"
   ]
  },
  {
   "cell_type": "markdown",
   "id": "surrounded-disease",
   "metadata": {},
   "source": [
    "This is kind of a \"bonus\" exercise. It's a follow-up to Question 2."
   ]
  },
  {
   "cell_type": "markdown",
   "id": "hybrid-gravity",
   "metadata": {},
   "source": [
    "It's also complicated, so don't worry if you are unable to do this one!"
   ]
  },
  {
   "cell_type": "markdown",
   "id": "pregnant-psychiatry",
   "metadata": {},
   "source": [
    "In Question 2, we created a decorator that used a global variable for the precision."
   ]
  },
  {
   "cell_type": "markdown",
   "id": "alternate-sleep",
   "metadata": {},
   "source": [
    "Here, we would rather define a decorator that can take that precision as an argument, i.e. we could do something like this:"
   ]
  },
  {
   "cell_type": "markdown",
   "id": "monthly-domain",
   "metadata": {},
   "source": [
    "```\n",
    "@normalize(2)\n",
    "def perc_diff(x, y):\n",
    "    try:\n",
    "        return (y-x) / x * 100\n",
    "    except ZeroDivisionError:\n",
    "        return 0\n",
    "    \n",
    "@normalize(4)\n",
    "def sum_squares(*args):\n",
    "    return sum(x**2 for x in args)\n",
    "\n",
    "@normalize(8)\n",
    "def avg(*args):\n",
    "    if len(args) == 0:\n",
    "        return 0\n",
    "    \n",
    "    numbers = [Decimal(x) for x in args]\n",
    "    sum_ = sum(numbers)\n",
    "    return sum_ / len(numbers)\n",
    "```"
   ]
  },
  {
   "cell_type": "markdown",
   "id": "ignored-twelve",
   "metadata": {},
   "source": [
    "As a hint, remember how we created \"partial\" functions in a previous exercise?"
   ]
  },
  {
   "cell_type": "markdown",
   "id": "prostate-casino",
   "metadata": {},
   "source": [
    "What we'll want to do here is not write a decorator function directly, but instead write a function that will **create** a decorator function, with the precision captured in the decorator function (which will itself then, be a closure)."
   ]
  },
  {
   "cell_type": "markdown",
   "id": "higher-diabetes",
   "metadata": {},
   "source": [
    "Something like this:"
   ]
  },
  {
   "cell_type": "markdown",
   "id": "whole-astrology",
   "metadata": {},
   "source": [
    "```\n",
    "def normalize(precision):\n",
    "    def decorator(fn):\n",
    "        def inner(*args, **kwargs):\n",
    "            # precision passed to normalize is available here\n",
    "            return result\n",
    "        return inner\n",
    "    return decorator\n",
    "```"
   ]
  },
  {
   "cell_type": "markdown",
   "id": "novel-wells",
   "metadata": {},
   "source": [
    "##### Solution"
   ]
  },
  {
   "cell_type": "markdown",
   "id": "digital-statistics",
   "metadata": {},
   "source": [
    "Looking at that skeleton above, you'll notice that when `normalize(precision` is called, it actually returns... a decorator. The difference here is that that decorator also has access to `precision` - i.e. a closure."
   ]
  },
  {
   "cell_type": "markdown",
   "id": "outer-nebraska",
   "metadata": {},
   "source": [
    "Let's implement this:"
   ]
  },
  {
   "cell_type": "code",
   "execution_count": 20,
   "id": "worldwide-genetics",
   "metadata": {},
   "outputs": [],
   "source": [
    "def normalize(precision):\n",
    "    def decorator(fn):\n",
    "        def inner(*args, **kwargs):\n",
    "            result = fn(*args, **kwargs)\n",
    "            return round(float(result), precision)\n",
    "        return inner\n",
    "    return decorator"
   ]
  },
  {
   "cell_type": "markdown",
   "id": "falling-fault",
   "metadata": {},
   "source": [
    "Let's call `normalize` and see what we get - remember that the return value is a function that is a decorator."
   ]
  },
  {
   "cell_type": "code",
   "execution_count": 21,
   "id": "impossible-making",
   "metadata": {},
   "outputs": [],
   "source": [
    "dec_normalize_2 = normalize(2)\n",
    "dec_normalize_10 = normalize(10)"
   ]
  },
  {
   "cell_type": "markdown",
   "id": "subsequent-black",
   "metadata": {},
   "source": [
    "We can inspect these closures to see what the free variables are in each:"
   ]
  },
  {
   "cell_type": "code",
   "execution_count": 22,
   "id": "synthetic-congress",
   "metadata": {},
   "outputs": [
    {
     "data": {
      "text/plain": [
       "(<cell at 0x7fd6f827a1c0: int object at 0x7fd73800e950>,)"
      ]
     },
     "execution_count": 22,
     "metadata": {},
     "output_type": "execute_result"
    }
   ],
   "source": [
    "dec_normalize_2.__closure__"
   ]
  },
  {
   "cell_type": "markdown",
   "id": "personal-merchandise",
   "metadata": {},
   "source": [
    "That integer is actually the integer `2`:"
   ]
  },
  {
   "cell_type": "code",
   "execution_count": 23,
   "id": "amateur-minutes",
   "metadata": {},
   "outputs": [
    {
     "data": {
      "text/plain": [
       "'0x7fd73800e950'"
      ]
     },
     "execution_count": 23,
     "metadata": {},
     "output_type": "execute_result"
    }
   ],
   "source": [
    "hex(id(2))"
   ]
  },
  {
   "cell_type": "markdown",
   "id": "opposed-buffer",
   "metadata": {},
   "source": [
    "And the same with `dec_normalize_10`:"
   ]
  },
  {
   "cell_type": "code",
   "execution_count": 24,
   "id": "funded-graphics",
   "metadata": {},
   "outputs": [
    {
     "data": {
      "text/plain": [
       "(<cell at 0x7fd6f827a100: int object at 0x7fd73800ea50>,)"
      ]
     },
     "execution_count": 24,
     "metadata": {},
     "output_type": "execute_result"
    }
   ],
   "source": [
    "dec_normalize_10.__closure__"
   ]
  },
  {
   "cell_type": "code",
   "execution_count": 25,
   "id": "particular-friendly",
   "metadata": {},
   "outputs": [
    {
     "data": {
      "text/plain": [
       "'0x7fd73800ea50'"
      ]
     },
     "execution_count": 25,
     "metadata": {},
     "output_type": "execute_result"
    }
   ],
   "source": [
    "hex(id(10))"
   ]
  },
  {
   "cell_type": "markdown",
   "id": "bizarre-judges",
   "metadata": {},
   "source": [
    "And now we can decorate our functions using this decorator \"factory\":"
   ]
  },
  {
   "cell_type": "code",
   "execution_count": 26,
   "id": "allied-browser",
   "metadata": {},
   "outputs": [],
   "source": [
    "@normalize(2)\n",
    "def perc_diff(x, y):\n",
    "    try:\n",
    "        return (y-x) / x * 100\n",
    "    except ZeroDivisionError:\n",
    "        return 0\n",
    "\n",
    "@normalize(4)\n",
    "def sum_squares(*args):\n",
    "    return sum(x**2 for x in args)\n",
    "\n",
    "@normalize(8)\n",
    "def avg(*args):\n",
    "    if len(args) == 0:\n",
    "        return 0\n",
    "\n",
    "    numbers = [Decimal(x) for x in args]\n",
    "    sum_ = sum(numbers)\n",
    "    return sum_ / len(numbers)"
   ]
  },
  {
   "cell_type": "code",
   "execution_count": 27,
   "id": "forward-mechanism",
   "metadata": {},
   "outputs": [
    {
     "data": {
      "text/plain": [
       "223.08"
      ]
     },
     "execution_count": 27,
     "metadata": {},
     "output_type": "execute_result"
    }
   ],
   "source": [
    "perc_diff(13, 42)"
   ]
  },
  {
   "cell_type": "code",
   "execution_count": 28,
   "id": "romantic-subcommittee",
   "metadata": {},
   "outputs": [
    {
     "data": {
      "text/plain": [
       "0.0014"
      ]
     },
     "execution_count": 28,
     "metadata": {},
     "output_type": "execute_result"
    }
   ],
   "source": [
    "sum_squares(0.01, 0.02, 0.03)"
   ]
  },
  {
   "cell_type": "code",
   "execution_count": 29,
   "id": "twelve-assessment",
   "metadata": {},
   "outputs": [
    {
     "data": {
      "text/plain": [
       "2.14666667"
      ]
     },
     "execution_count": 29,
     "metadata": {},
     "output_type": "execute_result"
    }
   ],
   "source": [
    "avg(1.1, 2.2, 3.14)"
   ]
  },
  {
   "cell_type": "markdown",
   "id": "otherwise-traveler",
   "metadata": {},
   "source": [
    "And this is how \"parametrized\" decorators can be created in general - we are basically creating and returning generators from a \"factory\" function."
   ]
  },
  {
   "cell_type": "code",
   "execution_count": null,
   "id": "regional-ordinance",
   "metadata": {},
   "outputs": [],
   "source": []
  }
 ],
 "metadata": {
  "kernelspec": {
   "display_name": "Python 3",
   "language": "python",
   "name": "python3"
  },
  "language_info": {
   "codemirror_mode": {
    "name": "ipython",
    "version": 3
   },
   "file_extension": ".py",
   "mimetype": "text/x-python",
   "name": "python",
   "nbconvert_exporter": "python",
   "pygments_lexer": "ipython3",
   "version": "3.9.1"
  }
 },
 "nbformat": 4,
 "nbformat_minor": 5
}
