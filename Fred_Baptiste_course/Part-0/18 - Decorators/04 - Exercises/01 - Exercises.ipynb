{
 "cells": [
  {
   "cell_type": "markdown",
   "id": "played-luxembourg",
   "metadata": {},
   "source": [
    "### Solutions"
   ]
  },
  {
   "cell_type": "markdown",
   "id": "limited-cosmetic",
   "metadata": {},
   "source": [
    "#### Question 1"
   ]
  },
  {
   "cell_type": "markdown",
   "id": "skilled-royal",
   "metadata": {},
   "source": [
    "Write a decorator that can be used to print out how long a function takes to run."
   ]
  },
  {
   "cell_type": "markdown",
   "id": "friendly-county",
   "metadata": {},
   "source": [
    "#### Question 2"
   ]
  },
  {
   "cell_type": "markdown",
   "id": "removed-there",
   "metadata": {},
   "source": [
    "We have several functions in our code that perform some calculations and return a numeric result, possibly `float`, `int` or even `Decimal`."
   ]
  },
  {
   "cell_type": "markdown",
   "id": "middle-politics",
   "metadata": {},
   "source": [
    "We actually want to make sure that all results from each of these functions are rounded to some number of digits after the decimal point (precision), and always returned as a `float`."
   ]
  },
  {
   "cell_type": "markdown",
   "id": "cloudy-robert",
   "metadata": {},
   "source": [
    "But every time our program runs, that precision could change. Also, we'd rather not have to change every function we have, since at some point in the future we may want to return `Decimal` objects, and not `floats` - so we want to minimize how much code we would have to change to accomodate all this."
   ]
  },
  {
   "cell_type": "markdown",
   "id": "increasing-occasion",
   "metadata": {},
   "source": [
    "For example, we might a variable in our code that defines the precision, and could be changed any time we run our code:"
   ]
  },
  {
   "cell_type": "code",
   "execution_count": 1,
   "id": "common-maker",
   "metadata": {},
   "outputs": [],
   "source": [
    "PRECISION = 2"
   ]
  },
  {
   "cell_type": "markdown",
   "id": "certified-compiler",
   "metadata": {},
   "source": [
    "Suppose we have the following functions already defined:"
   ]
  },
  {
   "cell_type": "code",
   "execution_count": 2,
   "id": "christian-centre",
   "metadata": {},
   "outputs": [],
   "source": [
    "from decimal import Decimal\n",
    "\n",
    "def perc_diff(x, y):\n",
    "    try:\n",
    "        return (y-x) / x * 100\n",
    "    except ZeroDivisionError:\n",
    "        return 0\n",
    "    \n",
    "def sum_squares(*args):\n",
    "    return sum(x**2 for x in args)\n",
    "\n",
    "def avg(*args):\n",
    "    if len(args) == 0:\n",
    "        return 0\n",
    "    \n",
    "    numbers = [Decimal(x) for x in args]\n",
    "    sum_ = sum(numbers)\n",
    "    return sum_ / len(numbers)"
   ]
  },
  {
   "cell_type": "markdown",
   "id": "mechanical-extra",
   "metadata": {},
   "source": [
    "Write a decorator named `normalize` that can be used to decorate these functions to ensure that the result is always returned as a `float` with a precision defined by some global variable `PRECISION`."
   ]
  },
  {
   "cell_type": "markdown",
   "id": "sized-aaron",
   "metadata": {},
   "source": [
    "#### Question 3"
   ]
  },
  {
   "cell_type": "markdown",
   "id": "meaningful-creativity",
   "metadata": {},
   "source": [
    "Sometimes we have functions that get called often with the same argument values but take a long time to run."
   ]
  },
  {
   "cell_type": "markdown",
   "id": "dramatic-editing",
   "metadata": {},
   "source": [
    "If those functions are deterministic (i.e. passing the same arguments will always result in the same return value), then we can get a huge performance benefit by implementing a caching mechanism."
   ]
  },
  {
   "cell_type": "markdown",
   "id": "fewer-shock",
   "metadata": {},
   "source": [
    "This function simulates a long running function:"
   ]
  },
  {
   "cell_type": "code",
   "execution_count": 3,
   "id": "freelance-sponsorship",
   "metadata": {},
   "outputs": [],
   "source": [
    "from time import sleep\n",
    "\n",
    "def add(x, y):\n",
    "    sleep(2)\n",
    "    return x + y"
   ]
  },
  {
   "cell_type": "markdown",
   "id": "fatty-christianity",
   "metadata": {},
   "source": [
    "As you can see the function is deterministic - the result will always be the same for the same arguments."
   ]
  },
  {
   "cell_type": "markdown",
   "id": "controlling-composite",
   "metadata": {},
   "source": [
    "Use Python's LRU caching decorator to help improve performance when this function is called multiple times with the same arguments."
   ]
  },
  {
   "cell_type": "markdown",
   "id": "incorrect-protein",
   "metadata": {},
   "source": [
    "Then use `timeit` to test how performance is affected."
   ]
  },
  {
   "cell_type": "markdown",
   "id": "nervous-mozambique",
   "metadata": {},
   "source": [
    "#### Question 4"
   ]
  },
  {
   "cell_type": "markdown",
   "id": "latin-radius",
   "metadata": {},
   "source": [
    "This is kind of a \"bonus\" exercise. It's a follow-up to Question 2."
   ]
  },
  {
   "cell_type": "markdown",
   "id": "partial-mustang",
   "metadata": {},
   "source": [
    "It's also complicated, so don't worry if you are unable to do this one!"
   ]
  },
  {
   "cell_type": "markdown",
   "id": "trying-curve",
   "metadata": {},
   "source": [
    "In Question 2, we created a decorator that used a global variable for the precision."
   ]
  },
  {
   "cell_type": "markdown",
   "id": "collected-tenant",
   "metadata": {},
   "source": [
    "Here, we would rather define a decorator that can take that precision as an argument, i.e. we could do something like this:"
   ]
  },
  {
   "cell_type": "markdown",
   "id": "alike-haven",
   "metadata": {},
   "source": [
    "```\n",
    "@normalize(2)\n",
    "def perc_diff(x, y):\n",
    "    try:\n",
    "        return (y-x) / x * 100\n",
    "    except ZeroDivisionError:\n",
    "        return 0\n",
    "    \n",
    "@normalize(4)\n",
    "def sum_squares(*args):\n",
    "    return sum(x**2 for x in args)\n",
    "\n",
    "@normalize(8)\n",
    "def avg(*args):\n",
    "    if len(args) == 0:\n",
    "        return 0\n",
    "    \n",
    "    numbers = [Decimal(x) for x in args]\n",
    "    sum_ = sum(numbers)\n",
    "    return sum_ / len(numbers)\n",
    "```"
   ]
  },
  {
   "cell_type": "markdown",
   "id": "lovely-philosophy",
   "metadata": {},
   "source": [
    "As a hint, remember how we created \"partial\" functions in a previous exercise?"
   ]
  },
  {
   "cell_type": "markdown",
   "id": "advisory-millennium",
   "metadata": {},
   "source": [
    "What we'll want to do here is not write a decorator function directly, but instead write a function that will **create** a decorator function, with the precision captured in the decorator function (which will itself then, be a closure)."
   ]
  },
  {
   "cell_type": "markdown",
   "id": "civic-favorite",
   "metadata": {},
   "source": [
    "Something like this:"
   ]
  },
  {
   "cell_type": "markdown",
   "id": "figured-singing",
   "metadata": {},
   "source": [
    "```\n",
    "def normalize(precision):\n",
    "    def decorator(fn):\n",
    "        def inner(*args, **kwargs):\n",
    "            # precision passed to normalize is available here\n",
    "            return result\n",
    "        return inner\n",
    "    return decorator\n",
    "```"
   ]
  }
 ],
 "metadata": {
  "kernelspec": {
   "display_name": "Python 3",
   "language": "python",
   "name": "python3"
  },
  "language_info": {
   "codemirror_mode": {
    "name": "ipython",
    "version": 3
   },
   "file_extension": ".py",
   "mimetype": "text/x-python",
   "name": "python",
   "nbconvert_exporter": "python",
   "pygments_lexer": "ipython3",
   "version": "3.9.1"
  }
 },
 "nbformat": 4,
 "nbformat_minor": 5
}
