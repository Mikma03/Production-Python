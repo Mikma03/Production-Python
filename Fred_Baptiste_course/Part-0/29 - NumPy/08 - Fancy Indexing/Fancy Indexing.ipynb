{
 "cells": [
  {
   "cell_type": "markdown",
   "metadata": {},
   "source": [
    "### Fancy Indexing"
   ]
  },
  {
   "cell_type": "markdown",
   "metadata": {},
   "source": [
    "In NumPy, **fancy indexing** is a way to use an array of indices to specify multiple elements of an array at once, instead of just a single index."
   ]
  },
  {
   "cell_type": "code",
   "execution_count": 1,
   "metadata": {},
   "outputs": [],
   "source": [
    "import numpy as np"
   ]
  },
  {
   "cell_type": "code",
   "execution_count": 2,
   "metadata": {},
   "outputs": [
    {
     "data": {
      "text/plain": [
       "array([10, 20, 30, 40, 50, 60, 70, 80, 90])"
      ]
     },
     "execution_count": 2,
     "metadata": {},
     "output_type": "execute_result"
    }
   ],
   "source": [
    "arr = np.arange(10, 100, 10)\n",
    "arr"
   ]
  },
  {
   "cell_type": "markdown",
   "metadata": {},
   "source": [
    "If we wanted to form an array consisting of the 1st, 3rd and 4th elements of `arr`, we could do it this way:"
   ]
  },
  {
   "cell_type": "code",
   "execution_count": 3,
   "metadata": {},
   "outputs": [
    {
     "data": {
      "text/plain": [
       "array([10, 30, 40])"
      ]
     },
     "execution_count": 3,
     "metadata": {},
     "output_type": "execute_result"
    }
   ],
   "source": [
    "sub = np.array([arr[0], arr[2], arr[3]])\n",
    "sub"
   ]
  },
  {
   "cell_type": "markdown",
   "metadata": {},
   "source": [
    "But using fancy indexing, we can make an array of those indices to do the same thing:"
   ]
  },
  {
   "cell_type": "code",
   "execution_count": 4,
   "metadata": {},
   "outputs": [
    {
     "data": {
      "text/plain": [
       "array([10, 30, 40])"
      ]
     },
     "execution_count": 4,
     "metadata": {},
     "output_type": "execute_result"
    }
   ],
   "source": [
    "sub = arr[np.array([0, 2, 3])]\n",
    "sub"
   ]
  },
  {
   "cell_type": "markdown",
   "metadata": {},
   "source": [
    "In this example, we say `[0, 2, 3]` is the **index array** - an array of indices basically."
   ]
  },
  {
   "cell_type": "markdown",
   "metadata": {},
   "source": [
    "Now, be careful with fancy indexing - we can use an `ndarray`, and in some cases even a Python `list`, but we cannot, however, use a `tuple` - NumPy will interpret this as specifying single indices for multiple dimensions."
   ]
  },
  {
   "cell_type": "code",
   "execution_count": 5,
   "metadata": {},
   "outputs": [
    {
     "name": "stdout",
     "output_type": "stream",
     "text": [
      "<class 'IndexError'> too many indices for array\n"
     ]
    }
   ],
   "source": [
    "try:\n",
    "    arr[(0, 2, 3)]\n",
    "except Exception as ex:\n",
    "    print(type(ex), ex)"
   ]
  },
  {
   "cell_type": "markdown",
   "metadata": {},
   "source": [
    "And we get that exception because NumPy interprets our tuple as specifying indices for 3 axes (dimensions), but our array has only one - hence `too many indices`."
   ]
  },
  {
   "cell_type": "markdown",
   "metadata": {},
   "source": [
    "Unlike slicing, the array we get back from fancy indexing is **not** \"linked\" to the original:"
   ]
  },
  {
   "cell_type": "code",
   "execution_count": 6,
   "metadata": {},
   "outputs": [
    {
     "data": {
      "text/plain": [
       "array([10, 20, 30, 40, 50, 60, 70, 80, 90])"
      ]
     },
     "execution_count": 6,
     "metadata": {},
     "output_type": "execute_result"
    }
   ],
   "source": [
    "arr"
   ]
  },
  {
   "cell_type": "code",
   "execution_count": 7,
   "metadata": {},
   "outputs": [
    {
     "data": {
      "text/plain": [
       "array([10, 30, 40])"
      ]
     },
     "execution_count": 7,
     "metadata": {},
     "output_type": "execute_result"
    }
   ],
   "source": [
    "sub"
   ]
  },
  {
   "cell_type": "code",
   "execution_count": 8,
   "metadata": {},
   "outputs": [
    {
     "data": {
      "text/plain": [
       "array([ 10, 300,  40])"
      ]
     },
     "execution_count": 8,
     "metadata": {},
     "output_type": "execute_result"
    }
   ],
   "source": [
    "sub[1] = 300\n",
    "sub"
   ]
  },
  {
   "cell_type": "code",
   "execution_count": 9,
   "metadata": {},
   "outputs": [
    {
     "data": {
      "text/plain": [
       "array([10, 20, 30, 40, 50, 60, 70, 80, 90])"
      ]
     },
     "execution_count": 9,
     "metadata": {},
     "output_type": "execute_result"
    }
   ],
   "source": [
    "arr"
   ]
  },
  {
   "cell_type": "markdown",
   "metadata": {},
   "source": [
    "One of the interesting things about fancy indexing, is that the resulting array has the shape of the index array."
   ]
  },
  {
   "cell_type": "code",
   "execution_count": 10,
   "metadata": {},
   "outputs": [
    {
     "data": {
      "text/plain": [
       "array([1, 2, 3, 4, 5, 6, 7, 8, 9])"
      ]
     },
     "execution_count": 10,
     "metadata": {},
     "output_type": "execute_result"
    }
   ],
   "source": [
    "arr = np.arange(1, 10)\n",
    "arr"
   ]
  },
  {
   "cell_type": "code",
   "execution_count": 11,
   "metadata": {},
   "outputs": [
    {
     "data": {
      "text/plain": [
       "array([1, 2, 2, 6])"
      ]
     },
     "execution_count": 11,
     "metadata": {},
     "output_type": "execute_result"
    }
   ],
   "source": [
    "arr[np.array([0, 1, 1, 5])]"
   ]
  },
  {
   "cell_type": "markdown",
   "metadata": {},
   "source": [
    "Here the selection array was `[0, 1, 1, 5]`, so a shape of `1 x 4`, and so our result was an array of that shape. (Note also that we can specify the same index more than once).\n",
    "\n",
    "But we could also do the following, using a 2-D `ndarray` for the indices:"
   ]
  },
  {
   "cell_type": "code",
   "execution_count": 12,
   "metadata": {},
   "outputs": [
    {
     "data": {
      "text/plain": [
       "array([[1, 2],\n",
       "       [2, 6]])"
      ]
     },
     "execution_count": 12,
     "metadata": {},
     "output_type": "execute_result"
    }
   ],
   "source": [
    "arr[np.array(\n",
    "    [\n",
    "        [0, 1], \n",
    "        [1, 5]\n",
    "    ]\n",
    ")]"
   ]
  },
  {
   "cell_type": "markdown",
   "metadata": {},
   "source": [
    "You'll notice that the resulting array, like the previous example, uses the elements of `arr` at indices `0`, `1`, `1`, and `5`, but the resulting **shape** conforms to the shape of the indices we specified."
   ]
  },
  {
   "cell_type": "markdown",
   "metadata": {},
   "source": [
    "We can also use fancy indexing on multi-dimensional arrays."
   ]
  },
  {
   "cell_type": "code",
   "execution_count": 13,
   "metadata": {},
   "outputs": [
    {
     "data": {
      "text/plain": [
       "array([[ 0,  1,  2,  3,  4],\n",
       "       [ 5,  6,  7,  8,  9],\n",
       "       [10, 11, 12, 13, 14],\n",
       "       [15, 16, 17, 18, 19],\n",
       "       [20, 21, 22, 23, 24]])"
      ]
     },
     "execution_count": 13,
     "metadata": {},
     "output_type": "execute_result"
    }
   ],
   "source": [
    "m = np.arange(25).reshape(5, 5)\n",
    "m"
   ]
  },
  {
   "cell_type": "markdown",
   "metadata": {},
   "source": [
    "Let's pick all the columns from rows `0`, `1` and `3` - not something we can do with standard slicing:"
   ]
  },
  {
   "cell_type": "code",
   "execution_count": 14,
   "metadata": {},
   "outputs": [
    {
     "data": {
      "text/plain": [
       "array([[ 0,  1,  2,  3,  4],\n",
       "       [ 5,  6,  7,  8,  9],\n",
       "       [15, 16, 17, 18, 19]])"
      ]
     },
     "execution_count": 14,
     "metadata": {},
     "output_type": "execute_result"
    }
   ],
   "source": [
    "m[[0, 1, 3]]"
   ]
  },
  {
   "cell_type": "markdown",
   "metadata": {},
   "source": [
    "But furthermore, we could specify a single index, a slice, or a fancy index for the second axis:"
   ]
  },
  {
   "cell_type": "code",
   "execution_count": 15,
   "metadata": {},
   "outputs": [
    {
     "data": {
      "text/plain": [
       "array([ 2,  7, 17])"
      ]
     },
     "execution_count": 15,
     "metadata": {},
     "output_type": "execute_result"
    }
   ],
   "source": [
    "m[[0, 1, 3], 2]"
   ]
  },
  {
   "cell_type": "markdown",
   "metadata": {},
   "source": [
    "As you can see, we ended up picking the 3rd element of each row, for rows `0`, `1`, and `3`."
   ]
  },
  {
   "cell_type": "markdown",
   "metadata": {},
   "source": [
    "We could also specify a slice:"
   ]
  },
  {
   "cell_type": "code",
   "execution_count": 16,
   "metadata": {},
   "outputs": [
    {
     "data": {
      "text/plain": [
       "array([[ 0,  1,  2,  3,  4],\n",
       "       [ 5,  6,  7,  8,  9],\n",
       "       [10, 11, 12, 13, 14],\n",
       "       [15, 16, 17, 18, 19],\n",
       "       [20, 21, 22, 23, 24]])"
      ]
     },
     "execution_count": 16,
     "metadata": {},
     "output_type": "execute_result"
    }
   ],
   "source": [
    "m"
   ]
  },
  {
   "cell_type": "code",
   "execution_count": 17,
   "metadata": {},
   "outputs": [
    {
     "data": {
      "text/plain": [
       "array([[ 0,  2,  4],\n",
       "       [ 5,  7,  9],\n",
       "       [15, 17, 19]])"
      ]
     },
     "execution_count": 17,
     "metadata": {},
     "output_type": "execute_result"
    }
   ],
   "source": [
    "m[[0, 1, 3], 0::2]"
   ]
  },
  {
   "cell_type": "markdown",
   "metadata": {},
   "source": [
    "And of course, we can also specify an index array for both dimensions, but this is a bit more difficult to understand, and not commonly used - but certainly possible:"
   ]
  },
  {
   "cell_type": "code",
   "execution_count": 18,
   "metadata": {},
   "outputs": [
    {
     "data": {
      "text/plain": [
       "array([[ 0,  1,  2,  3,  4],\n",
       "       [ 5,  6,  7,  8,  9],\n",
       "       [10, 11, 12, 13, 14],\n",
       "       [15, 16, 17, 18, 19],\n",
       "       [20, 21, 22, 23, 24]])"
      ]
     },
     "execution_count": 18,
     "metadata": {},
     "output_type": "execute_result"
    }
   ],
   "source": [
    "m"
   ]
  },
  {
   "cell_type": "code",
   "execution_count": 19,
   "metadata": {},
   "outputs": [
    {
     "data": {
      "text/plain": [
       "array([ 1,  7, 19])"
      ]
     },
     "execution_count": 19,
     "metadata": {},
     "output_type": "execute_result"
    }
   ],
   "source": [
    "m[np.array([0, 1, 3]), np.array([1, 2, 4])]"
   ]
  },
  {
   "cell_type": "markdown",
   "metadata": {},
   "source": [
    "Because both index arrays had the same shape, we ended up with a result of `(0, 1)`, `(1, 2)` and `(3, 4)` for our indices."
   ]
  },
  {
   "cell_type": "markdown",
   "metadata": {},
   "source": [
    "You can think of the result being the elements at the tuples `(i, j)` formed by zipping the two arrays:\n",
    "\n",
    "```\n",
    "zip([0, 1, 3], [1, 2, 4])\n",
    "```\n",
    "which corresponds to these indices:\n",
    "```\n",
    "[(0, 1), (1, 2), (3, 4)]\n",
    "```"
   ]
  },
  {
   "cell_type": "markdown",
   "metadata": {},
   "source": [
    "You can even use 2-D index arrays, but this get quite a bit more complicated to understand, and is not commonly used.\n",
    "\n",
    "For example:"
   ]
  },
  {
   "cell_type": "code",
   "execution_count": 20,
   "metadata": {},
   "outputs": [
    {
     "data": {
      "text/plain": [
       "array([[ 1, 23],\n",
       "       [12, 19]])"
      ]
     },
     "execution_count": 20,
     "metadata": {},
     "output_type": "execute_result"
    }
   ],
   "source": [
    "m[np.array([[0, 4], [2, 3]]), np.array([[1, 3], [2, 4]])]"
   ]
  },
  {
   "cell_type": "markdown",
   "metadata": {},
   "source": [
    "Again you can think of this as \"zipping\" the first and second dimension indices this way:"
   ]
  },
  {
   "cell_type": "markdown",
   "metadata": {},
   "source": [
    "```\n",
    "0 4\n",
    "2 3\n",
    "```\n",
    "\n",
    "\"zipped\" with\n",
    "\n",
    "```\n",
    "1 3\n",
    "2 4\n",
    "```\n",
    "\n",
    "which results in these combined indices:\n",
    "\n",
    "```\n",
    "(0, 1) (4, 3)\n",
    "(2, 2) (3, 4)\n",
    "```"
   ]
  },
  {
   "cell_type": "markdown",
   "metadata": {},
   "source": [
    "And again, the result shape is the same as the shape of the two index arrays."
   ]
  },
  {
   "cell_type": "markdown",
   "metadata": {},
   "source": [
    "##### Example"
   ]
  },
  {
   "cell_type": "markdown",
   "metadata": {},
   "source": [
    "Let's look at a more practical application of using fancy indexing."
   ]
  },
  {
   "cell_type": "markdown",
   "metadata": {},
   "source": [
    "We're going to load some daily quotes from a file: `AAPL.csv`"
   ]
  },
  {
   "cell_type": "code",
   "execution_count": 21,
   "metadata": {},
   "outputs": [],
   "source": [
    "import csv\n",
    "\n",
    "with open('AAPL.csv') as f:\n",
    "    reader = csv.reader(f, skipinitialspace=True)\n",
    "    headers = next(reader)\n",
    "    data = list(reader)"
   ]
  },
  {
   "cell_type": "code",
   "execution_count": 22,
   "metadata": {},
   "outputs": [
    {
     "data": {
      "text/plain": [
       "['Symbol', 'Date', 'Close', 'Volume', 'Open', 'High', 'Low']"
      ]
     },
     "execution_count": 22,
     "metadata": {},
     "output_type": "execute_result"
    }
   ],
   "source": [
    "headers"
   ]
  },
  {
   "cell_type": "code",
   "execution_count": 23,
   "metadata": {},
   "outputs": [
    {
     "data": {
      "text/plain": [
       "[['AAPL', '10/29/2020', '115.32', '146129200', '112.37', '116.93', '112.2'],\n",
       " ['AAPL', '10/28/2020', '111.2', '143937800', '115.05', '115.43', '111.1'],\n",
       " ['AAPL', '10/27/2020', '116.6', '92276770', '115.49', '117.28', '114.5399'],\n",
       " ['AAPL', '10/26/2020', '115.05', '111850700', '114.01', '116.55', '112.88'],\n",
       " ['AAPL', '10/23/2020', '115.04', '82572650', '116.39', '116.55', '114.28'],\n",
       " ['AAPL', '10/22/2020', '115.75', '101988000', '117.45', '118.04', '114.59'],\n",
       " ['AAPL', '10/21/2020', '116.87', '89945980', '116.67', '118.705', '116.45'],\n",
       " ['AAPL', '10/20/2020', '117.51', '124423700', '116.2', '118.98', '115.63'],\n",
       " ['AAPL', '10/19/2020', '115.98', '120639300', '119.96', '120.419', '115.66'],\n",
       " ['AAPL', '10/16/2020', '119.02', '115393800', '121.28', '121.548', '118.81'],\n",
       " ['AAPL', '10/15/2020', '120.71', '112559200', '118.72', '121.2', '118.15'],\n",
       " ['AAPL', '10/14/2020', '121.19', '151062300', '121', '123.03', '119.62'],\n",
       " ['AAPL', '10/13/2020', '121.1', '262330500', '125.27', '125.39', '119.65'],\n",
       " ['AAPL', '10/12/2020', '124.4', '240226800', '120.06', '125.18', '119.2845'],\n",
       " ['AAPL', '10/09/2020', '116.97', '100506900', '115.28', '117', '114.92'],\n",
       " ['AAPL', '10/08/2020', '114.97', '83477150', '116.25', '116.4', '114.5901'],\n",
       " ['AAPL', '10/07/2020', '115.08', '96848990', '114.62', '115.55', '114.13'],\n",
       " ['AAPL', '10/06/2020', '113.16', '161498200', '115.7', '116.12', '112.25'],\n",
       " ['AAPL', '10/05/2020', '116.5', '106243800', '113.91', '116.65', '113.55'],\n",
       " ['AAPL', '10/02/2020', '113.02', '144712000', '112.89', '115.37', '112.22'],\n",
       " ['AAPL', '10/01/2020', '116.79', '116120400', '117.64', '117.72', '115.83'],\n",
       " ['AAPL', '09/30/2020', '115.81', '142675200', '113.79', '117.26', '113.62'],\n",
       " ['AAPL', '09/29/2020', '114.09', '100060500', '114.55', '115.31', '113.57']]"
      ]
     },
     "execution_count": 23,
     "metadata": {},
     "output_type": "execute_result"
    }
   ],
   "source": [
    "data"
   ]
  },
  {
   "cell_type": "markdown",
   "metadata": {},
   "source": [
    "What we want to do here is extract the dates into one array, and the numerical values for `Open` and `Close` in another array - as long as we keep both arrays in the same order, we can always associate the date with the data by using the same index on both arrays."
   ]
  },
  {
   "cell_type": "markdown",
   "metadata": {},
   "source": [
    "We'll start by putting all this data into a NumPy array:"
   ]
  },
  {
   "cell_type": "code",
   "execution_count": 24,
   "metadata": {},
   "outputs": [
    {
     "data": {
      "text/plain": [
       "array([['AAPL', '10/29/2020', '115.32', '146129200', '112.37', '116.93',\n",
       "        '112.2'],\n",
       "       ['AAPL', '10/28/2020', '111.2', '143937800', '115.05', '115.43',\n",
       "        '111.1'],\n",
       "       ['AAPL', '10/27/2020', '116.6', '92276770', '115.49', '117.28',\n",
       "        '114.5399'],\n",
       "       ['AAPL', '10/26/2020', '115.05', '111850700', '114.01', '116.55',\n",
       "        '112.88'],\n",
       "       ['AAPL', '10/23/2020', '115.04', '82572650', '116.39', '116.55',\n",
       "        '114.28'],\n",
       "       ['AAPL', '10/22/2020', '115.75', '101988000', '117.45', '118.04',\n",
       "        '114.59'],\n",
       "       ['AAPL', '10/21/2020', '116.87', '89945980', '116.67', '118.705',\n",
       "        '116.45'],\n",
       "       ['AAPL', '10/20/2020', '117.51', '124423700', '116.2', '118.98',\n",
       "        '115.63'],\n",
       "       ['AAPL', '10/19/2020', '115.98', '120639300', '119.96', '120.419',\n",
       "        '115.66'],\n",
       "       ['AAPL', '10/16/2020', '119.02', '115393800', '121.28', '121.548',\n",
       "        '118.81'],\n",
       "       ['AAPL', '10/15/2020', '120.71', '112559200', '118.72', '121.2',\n",
       "        '118.15'],\n",
       "       ['AAPL', '10/14/2020', '121.19', '151062300', '121', '123.03',\n",
       "        '119.62'],\n",
       "       ['AAPL', '10/13/2020', '121.1', '262330500', '125.27', '125.39',\n",
       "        '119.65'],\n",
       "       ['AAPL', '10/12/2020', '124.4', '240226800', '120.06', '125.18',\n",
       "        '119.2845'],\n",
       "       ['AAPL', '10/09/2020', '116.97', '100506900', '115.28', '117',\n",
       "        '114.92'],\n",
       "       ['AAPL', '10/08/2020', '114.97', '83477150', '116.25', '116.4',\n",
       "        '114.5901'],\n",
       "       ['AAPL', '10/07/2020', '115.08', '96848990', '114.62', '115.55',\n",
       "        '114.13'],\n",
       "       ['AAPL', '10/06/2020', '113.16', '161498200', '115.7', '116.12',\n",
       "        '112.25'],\n",
       "       ['AAPL', '10/05/2020', '116.5', '106243800', '113.91', '116.65',\n",
       "        '113.55'],\n",
       "       ['AAPL', '10/02/2020', '113.02', '144712000', '112.89', '115.37',\n",
       "        '112.22'],\n",
       "       ['AAPL', '10/01/2020', '116.79', '116120400', '117.64', '117.72',\n",
       "        '115.83'],\n",
       "       ['AAPL', '09/30/2020', '115.81', '142675200', '113.79', '117.26',\n",
       "        '113.62'],\n",
       "       ['AAPL', '09/29/2020', '114.09', '100060500', '114.55', '115.31',\n",
       "        '113.57']], dtype='<U10')"
      ]
     },
     "execution_count": 24,
     "metadata": {},
     "output_type": "execute_result"
    }
   ],
   "source": [
    "data = np.array(data)\n",
    "data"
   ]
  },
  {
   "cell_type": "markdown",
   "metadata": {},
   "source": [
    "You'll notice that our array data type is a string type - so we'll have to deal with that in a bit."
   ]
  },
  {
   "cell_type": "markdown",
   "metadata": {},
   "source": [
    "First, we want to extract just the dates, so we can use a slice for that:"
   ]
  },
  {
   "cell_type": "code",
   "execution_count": 25,
   "metadata": {},
   "outputs": [
    {
     "data": {
      "text/plain": [
       "array(['10/29/2020', '10/28/2020', '10/27/2020', '10/26/2020',\n",
       "       '10/23/2020', '10/22/2020', '10/21/2020', '10/20/2020',\n",
       "       '10/19/2020', '10/16/2020', '10/15/2020', '10/14/2020',\n",
       "       '10/13/2020', '10/12/2020', '10/09/2020', '10/08/2020',\n",
       "       '10/07/2020', '10/06/2020', '10/05/2020', '10/02/2020',\n",
       "       '10/01/2020', '09/30/2020', '09/29/2020'], dtype='<U10')"
      ]
     },
     "execution_count": 25,
     "metadata": {},
     "output_type": "execute_result"
    }
   ],
   "source": [
    "dates = data[:, 1]\n",
    "dates"
   ]
  },
  {
   "cell_type": "markdown",
   "metadata": {},
   "source": [
    "Yes, those are strings too, and we can convert those values to `datetime` objects (NumPy can handle other Python types, but may not be able to handle vectorization automatically) - but all we really need these dates are for looking up the date for a particular index, so that's probably OK - we could even just stick to a Python list or tuple for that."
   ]
  },
  {
   "cell_type": "code",
   "execution_count": 26,
   "metadata": {},
   "outputs": [],
   "source": [
    "from dateutil import parser"
   ]
  },
  {
   "cell_type": "code",
   "execution_count": 27,
   "metadata": {},
   "outputs": [],
   "source": [
    "dates = [parser.parse(d) for d in dates]"
   ]
  },
  {
   "cell_type": "code",
   "execution_count": 28,
   "metadata": {},
   "outputs": [
    {
     "data": {
      "text/plain": [
       "[datetime.datetime(2020, 10, 29, 0, 0),\n",
       " datetime.datetime(2020, 10, 28, 0, 0),\n",
       " datetime.datetime(2020, 10, 27, 0, 0),\n",
       " datetime.datetime(2020, 10, 26, 0, 0),\n",
       " datetime.datetime(2020, 10, 23, 0, 0),\n",
       " datetime.datetime(2020, 10, 22, 0, 0),\n",
       " datetime.datetime(2020, 10, 21, 0, 0),\n",
       " datetime.datetime(2020, 10, 20, 0, 0),\n",
       " datetime.datetime(2020, 10, 19, 0, 0),\n",
       " datetime.datetime(2020, 10, 16, 0, 0),\n",
       " datetime.datetime(2020, 10, 15, 0, 0),\n",
       " datetime.datetime(2020, 10, 14, 0, 0),\n",
       " datetime.datetime(2020, 10, 13, 0, 0),\n",
       " datetime.datetime(2020, 10, 12, 0, 0),\n",
       " datetime.datetime(2020, 10, 9, 0, 0),\n",
       " datetime.datetime(2020, 10, 8, 0, 0),\n",
       " datetime.datetime(2020, 10, 7, 0, 0),\n",
       " datetime.datetime(2020, 10, 6, 0, 0),\n",
       " datetime.datetime(2020, 10, 5, 0, 0),\n",
       " datetime.datetime(2020, 10, 2, 0, 0),\n",
       " datetime.datetime(2020, 10, 1, 0, 0),\n",
       " datetime.datetime(2020, 9, 30, 0, 0),\n",
       " datetime.datetime(2020, 9, 29, 0, 0)]"
      ]
     },
     "execution_count": 28,
     "metadata": {},
     "output_type": "execute_result"
    }
   ],
   "source": [
    "dates"
   ]
  },
  {
   "cell_type": "markdown",
   "metadata": {},
   "source": [
    "Next, we'll want to extract our numerical data - and this time we'll definitely want to use a NumPy array for this."
   ]
  },
  {
   "cell_type": "markdown",
   "metadata": {},
   "source": [
    "The columns we want to extract are the `Open` and `Close` columns:"
   ]
  },
  {
   "cell_type": "code",
   "execution_count": 29,
   "metadata": {},
   "outputs": [
    {
     "data": {
      "text/plain": [
       "['Symbol', 'Date', 'Close', 'Volume', 'Open', 'High', 'Low']"
      ]
     },
     "execution_count": 29,
     "metadata": {},
     "output_type": "execute_result"
    }
   ],
   "source": [
    "headers"
   ]
  },
  {
   "cell_type": "markdown",
   "metadata": {},
   "source": [
    "So this means we are interested in indices `4` and `2` - in that order."
   ]
  },
  {
   "cell_type": "markdown",
   "metadata": {},
   "source": [
    "We can use fancy indexing to extract these two columns:"
   ]
  },
  {
   "cell_type": "code",
   "execution_count": 30,
   "metadata": {},
   "outputs": [
    {
     "data": {
      "text/plain": [
       "array([['112.37', '115.32'],\n",
       "       ['115.05', '111.2'],\n",
       "       ['115.49', '116.6'],\n",
       "       ['114.01', '115.05'],\n",
       "       ['116.39', '115.04'],\n",
       "       ['117.45', '115.75'],\n",
       "       ['116.67', '116.87'],\n",
       "       ['116.2', '117.51'],\n",
       "       ['119.96', '115.98'],\n",
       "       ['121.28', '119.02'],\n",
       "       ['118.72', '120.71'],\n",
       "       ['121', '121.19'],\n",
       "       ['125.27', '121.1'],\n",
       "       ['120.06', '124.4'],\n",
       "       ['115.28', '116.97'],\n",
       "       ['116.25', '114.97'],\n",
       "       ['114.62', '115.08'],\n",
       "       ['115.7', '113.16'],\n",
       "       ['113.91', '116.5'],\n",
       "       ['112.89', '113.02'],\n",
       "       ['117.64', '116.79'],\n",
       "       ['113.79', '115.81'],\n",
       "       ['114.55', '114.09']], dtype='<U10')"
      ]
     },
     "execution_count": 30,
     "metadata": {},
     "output_type": "execute_result"
    }
   ],
   "source": [
    "oc = data[:, np.array([4, 2])]\n",
    "oc"
   ]
  },
  {
   "cell_type": "markdown",
   "metadata": {},
   "source": [
    "So this is almost where we want to be - the only remaining step is to make all these strings into floats."
   ]
  },
  {
   "cell_type": "markdown",
   "metadata": {},
   "source": [
    "And for that we can use the `astype` method:"
   ]
  },
  {
   "cell_type": "code",
   "execution_count": 31,
   "metadata": {},
   "outputs": [
    {
     "data": {
      "text/plain": [
       "array([[112.37, 115.32],\n",
       "       [115.05, 111.2 ],\n",
       "       [115.49, 116.6 ],\n",
       "       [114.01, 115.05],\n",
       "       [116.39, 115.04],\n",
       "       [117.45, 115.75],\n",
       "       [116.67, 116.87],\n",
       "       [116.2 , 117.51],\n",
       "       [119.96, 115.98],\n",
       "       [121.28, 119.02],\n",
       "       [118.72, 120.71],\n",
       "       [121.  , 121.19],\n",
       "       [125.27, 121.1 ],\n",
       "       [120.06, 124.4 ],\n",
       "       [115.28, 116.97],\n",
       "       [116.25, 114.97],\n",
       "       [114.62, 115.08],\n",
       "       [115.7 , 113.16],\n",
       "       [113.91, 116.5 ],\n",
       "       [112.89, 113.02],\n",
       "       [117.64, 116.79],\n",
       "       [113.79, 115.81],\n",
       "       [114.55, 114.09]])"
      ]
     },
     "execution_count": 31,
     "metadata": {},
     "output_type": "execute_result"
    }
   ],
   "source": [
    "oc = data[:, np.array([4, 2])].astype(float)\n",
    "oc"
   ]
  },
  {
   "cell_type": "markdown",
   "metadata": {},
   "source": [
    "Now, if we want to calculate the difference between high and low, we can use vectorized operations:"
   ]
  },
  {
   "cell_type": "code",
   "execution_count": 32,
   "metadata": {},
   "outputs": [
    {
     "data": {
      "text/plain": [
       "array([ 2.95, -3.85,  1.11,  1.04, -1.35, -1.7 ,  0.2 ,  1.31, -3.98,\n",
       "       -2.26,  1.99,  0.19, -4.17,  4.34,  1.69, -1.28,  0.46, -2.54,\n",
       "        2.59,  0.13, -0.85,  2.02, -0.46])"
      ]
     },
     "execution_count": 32,
     "metadata": {},
     "output_type": "execute_result"
    }
   ],
   "source": [
    "diffs = oc[:, 1] - oc[:, 0]\n",
    "diffs"
   ]
  },
  {
   "cell_type": "markdown",
   "metadata": {},
   "source": [
    "Or maybe we want to calculate the % difference from the open:"
   ]
  },
  {
   "cell_type": "code",
   "execution_count": 33,
   "metadata": {},
   "outputs": [
    {
     "data": {
      "text/plain": [
       "array([ 2.62525585, -3.34637114,  0.96112218,  0.91220068, -1.15989346,\n",
       "       -1.44742444,  0.17142367,  1.12736661, -3.31777259, -1.86345646,\n",
       "        1.67621294,  0.15702479, -3.32880977,  3.61485924,  1.46599584,\n",
       "       -1.10107527,  0.40132612, -2.19533276,  2.27372487,  0.11515635,\n",
       "       -0.72254335,  1.77519993, -0.40157137])"
      ]
     },
     "execution_count": 33,
     "metadata": {},
     "output_type": "execute_result"
    }
   ],
   "source": [
    "diff_percs = ((oc[:, 1] - oc[:, 0]) / oc[:, 0]) * 100\n",
    "diff_percs"
   ]
  }
 ],
 "metadata": {
  "kernelspec": {
   "display_name": "Python 3",
   "language": "python",
   "name": "python3"
  },
  "language_info": {
   "codemirror_mode": {
    "name": "ipython",
    "version": 3
   },
   "file_extension": ".py",
   "mimetype": "text/x-python",
   "name": "python",
   "nbconvert_exporter": "python",
   "pygments_lexer": "ipython3",
   "version": "3.9.1"
  }
 },
 "nbformat": 4,
 "nbformat_minor": 4
}
