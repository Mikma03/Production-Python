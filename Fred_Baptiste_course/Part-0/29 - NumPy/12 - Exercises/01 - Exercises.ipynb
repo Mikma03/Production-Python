{
 "cells": [
  {
   "cell_type": "markdown",
   "id": "complimentary-glory",
   "metadata": {},
   "source": [
    "### Exercises"
   ]
  },
  {
   "cell_type": "markdown",
   "id": "collected-sacramento",
   "metadata": {},
   "source": [
    "#### Question 1"
   ]
  },
  {
   "cell_type": "markdown",
   "id": "bizarre-definition",
   "metadata": {},
   "source": [
    "The accompanying file `data.csv` contains information for the value `x` of something observed at time `t`."
   ]
  },
  {
   "cell_type": "markdown",
   "id": "vocational-remains",
   "metadata": {},
   "source": [
    "Given this data, we want to calculate the rate of change of this value over time - we'll do this by taking two consecutive observations, say $x(t_i)$ and $x(t_{i+1})$ and approximate the rate of change using this formula:\n",
    "\n",
    "$$\n",
    "v(t_{i+1}) = \\frac{x(t_{i+1}) - x(t_i)}{t_{i+1} - t_i}\n",
    "$$"
   ]
  },
  {
   "cell_type": "markdown",
   "id": "affected-rocket",
   "metadata": {},
   "source": [
    "For example, if the data looks like this:\n",
    "\n",
    "```\n",
    "t     x\n",
    "0.1   10\n",
    "0.2   12\n",
    "0.4   14\n",
    "0.5   15\n",
    "```"
   ]
  },
  {
   "cell_type": "markdown",
   "id": "alternate-nudist",
   "metadata": {},
   "source": [
    "Then the first row of data would be considered $t_0$, the second row $t_1$, etc"
   ]
  },
  {
   "cell_type": "markdown",
   "id": "ancient-decade",
   "metadata": {},
   "source": [
    "And we can start approximating the rate of change starting at $v_1$ which would be calculated as:\n",
    "\n",
    "$$\n",
    "v_1 = \\frac{12 - 10}{0.2 - 0.1} = 20.0\n",
    "$$"
   ]
  },
  {
   "cell_type": "markdown",
   "id": "toxic-doctrine",
   "metadata": {},
   "source": [
    "Similarly, $v_2$ would be calculated as:\n",
    "\n",
    "$$\n",
    "v_2 = \\frac{14 - 12}{0.4 - 0.2} = 10.0\n",
    "$$"
   ]
  },
  {
   "cell_type": "markdown",
   "id": "second-participant",
   "metadata": {},
   "source": [
    "Use NumPy arrays to create an array that holds the calculated rates of change and determine the minimum, maximum, average and standard deviation of the rate of change."
   ]
  },
  {
   "cell_type": "markdown",
   "id": "compliant-mexico",
   "metadata": {},
   "source": [
    "#### Question 2"
   ]
  },
  {
   "cell_type": "markdown",
   "id": "polished-ebony",
   "metadata": {},
   "source": [
    "In linear regression we try to find the coefficients `m` (slope) and `c` (y-intercept) of a straight line\n",
    "\n",
    "$$\n",
    "y = mx + c\n",
    "$$\n",
    "\n",
    "that provides the \"best\" fit given some `x` and `y` data. This formula then allows to predict `y` values for given `x` values."
   ]
  },
  {
   "cell_type": "markdown",
   "id": "gorgeous-assets",
   "metadata": {},
   "source": [
    "Given an array of `n` `(x, y)` data pairs, these coefficients can be calculated very simply."
   ]
  },
  {
   "cell_type": "markdown",
   "id": "failing-tours",
   "metadata": {},
   "source": [
    "A bit of terminology first:"
   ]
  },
  {
   "cell_type": "markdown",
   "id": "liable-civilization",
   "metadata": {},
   "source": [
    "- Let `X` mean the column of `X` values.\n",
    "- Let `Y` mean the column of `Y` values.\n",
    "- Let `XX` mean a column calculated by multiplying each `x` in the `X` column by itself\n",
    "- Let `XY` mean a column calculated by multiplying the `x` and `y` values from the `X` and `Y` columns"
   ]
  },
  {
   "cell_type": "markdown",
   "id": "divine-texas",
   "metadata": {},
   "source": [
    "Then, given some column (say `X`), this symbol: $\\sum{X}$ means the sum of all the elements in the column.\n",
    "\n",
    "Similarly, the symbol $\\sum{XY}$ means the sum of the values obtained by multiplying (pairwise) the values in `X` and `Y`."
   ]
  },
  {
   "cell_type": "markdown",
   "id": "lonely-reward",
   "metadata": {},
   "source": [
    "Given those definitions, the formulas for calculating the \"best\" values of `m` and `c` are given by:"
   ]
  },
  {
   "cell_type": "markdown",
   "id": "engaged-positive",
   "metadata": {},
   "source": [
    "$$\n",
    "m = \\frac{n\\sum{XY} - \\sum{X}\\sum{Y}}{n\\sum{XX} - (\\sum{X})^2}\n",
    "$$"
   ]
  },
  {
   "cell_type": "markdown",
   "id": "japanese-breakfast",
   "metadata": {},
   "source": [
    "$$\n",
    "c = \\frac{\\sum{Y}\\sum{XX} - \\sum{X}\\sum{XY}}{n\\sum{XX} - (\\sum{X})^2}\n",
    "$$"
   ]
  },
  {
   "cell_type": "markdown",
   "id": "collect-guidance",
   "metadata": {},
   "source": [
    "(where `n` is the number of `(x,y)` pairs in our data set.)"
   ]
  },
  {
   "cell_type": "markdown",
   "id": "suspended-calgary",
   "metadata": {},
   "source": [
    "Using the same data we saw in Question 1, calculate the values for `m` and `c` for that data set given the formulas above.\n",
    "\n",
    "You can think of the `t` column in the data as the `X` column, and the `x` values in the data as the `Y` column - we are trying to predict the value of `x` given a value of `t`."
   ]
  },
  {
   "cell_type": "markdown",
   "id": "classical-theorem",
   "metadata": {},
   "source": [
    "This will result in a straight line that \"best\" fits through the data."
   ]
  },
  {
   "cell_type": "markdown",
   "id": "precious-boundary",
   "metadata": {},
   "source": [
    "Compare the slope of this regression line to the average rate of change you calculated in Question 1."
   ]
  }
 ],
 "metadata": {
  "kernelspec": {
   "display_name": "Python 3",
   "language": "python",
   "name": "python3"
  },
  "language_info": {
   "codemirror_mode": {
    "name": "ipython",
    "version": 3
   },
   "file_extension": ".py",
   "mimetype": "text/x-python",
   "name": "python",
   "nbconvert_exporter": "python",
   "pygments_lexer": "ipython3",
   "version": "3.9.1"
  }
 },
 "nbformat": 4,
 "nbformat_minor": 5
}
