{
 "cells": [
  {
   "cell_type": "markdown",
   "id": "tracked-mystery",
   "metadata": {},
   "source": [
    "### Solutions"
   ]
  },
  {
   "cell_type": "markdown",
   "id": "classified-hometown",
   "metadata": {},
   "source": [
    "#### Question 1"
   ]
  },
  {
   "cell_type": "markdown",
   "id": "statutory-light",
   "metadata": {},
   "source": [
    "Use a dictionary to count the frequency of the characters `a-z A-Z` in a given string.\n",
    "\n",
    "You should write your code to be as general as possible, so that it will work with any string of any given length.\n",
    "\n",
    "Your resulting dictionary should only contain keys for characters that occured at least once (i.e. no zero count characters should be present.)\n",
    "\n",
    "Hint: you will probably want to use the `ord()` function that we studied earlier along with the unicode character codes for `a`, `z`, `A` and `Z`."
   ]
  },
  {
   "cell_type": "markdown",
   "id": "ranking-swimming",
   "metadata": {},
   "source": [
    "For example, if the given string is:\n",
    "\n",
    "```\n",
    "s = 'Aa, Bb - A a B C'\n",
    "```\n",
    "\n",
    "then your resulting dictionary should be:\n",
    "\n",
    "```\n",
    "{\n",
    "    'A': 2, \n",
    "    'a': 2, \n",
    "    'B': 2, \n",
    "    'b': 1, \n",
    "    'C': 1\n",
    "}\n",
    "```\n",
    "\n",
    "(Note that the order of the keys in the dictionary is not important)"
   ]
  },
  {
   "cell_type": "markdown",
   "id": "heavy-drawing",
   "metadata": {},
   "source": [
    "Here are two sample strings you can use:"
   ]
  },
  {
   "cell_type": "code",
   "execution_count": 1,
   "id": "special-capability",
   "metadata": {},
   "outputs": [],
   "source": [
    "s1 = \"\"\"\n",
    "“'And' and 'or' are the basic operations of logic. Together with 'no' (the logical operation \n",
    "of negation) they are a complete set of basic logical operations — all other logical \n",
    "operations, no matter how complex, can be obtained by suitable combinations of these.” \n",
    "― John von Neumann, The Computer and the Brain\n",
    "\"\"\"\n",
    "\n",
    "s2 = \"\"\"\n",
    "Lorem ipsum dolor sit amet, consectetur adipiscing elit, sed do eiusmod tempor incididunt ut \n",
    "labore et dolore magna aliqua. Ut enim ad minim veniam, quis nostrud exercitation ullamco laboris \n",
    "nisi ut aliquip ex ea commodo consequat. Duis aute irure dolor in reprehenderit in voluptate velit \n",
    "esse cillum dolore eu fugiat nulla pariatur. Excepteur sint occaecat cupidatat non proident, sunt \n",
    "in culpa qui officia deserunt mollit anim id est laborum.\n",
    "\"\"\""
   ]
  },
  {
   "cell_type": "markdown",
   "id": "restricted-reality",
   "metadata": {},
   "source": [
    "##### Solution"
   ]
  },
  {
   "cell_type": "markdown",
   "id": "swedish-outline",
   "metadata": {},
   "source": [
    "We only want to consider the characters `a-z` and `A-Z`.\n",
    "\n",
    "We know that the unicode codepoints for each of these character ranges are consecutive:"
   ]
  },
  {
   "cell_type": "code",
   "execution_count": 2,
   "id": "seventh-pride",
   "metadata": {},
   "outputs": [
    {
     "data": {
      "text/plain": [
       "(97, 122)"
      ]
     },
     "execution_count": 2,
     "metadata": {},
     "output_type": "execute_result"
    }
   ],
   "source": [
    "ord('a'), ord('z')"
   ]
  },
  {
   "cell_type": "code",
   "execution_count": 3,
   "id": "duplicate-attempt",
   "metadata": {},
   "outputs": [
    {
     "data": {
      "text/plain": [
       "(65, 90)"
      ]
     },
     "execution_count": 3,
     "metadata": {},
     "output_type": "execute_result"
    }
   ],
   "source": [
    "ord('A'), ord('Z')"
   ]
  },
  {
   "cell_type": "markdown",
   "id": "filled-hormone",
   "metadata": {},
   "source": [
    "So when we iterate through each character in our string, we'll ignore any characters that do not fall within those ranges."
   ]
  },
  {
   "cell_type": "markdown",
   "id": "fatty-pilot",
   "metadata": {},
   "source": [
    "We'll use a dictionary to keep track of the count of characters as we iterate through the string."
   ]
  },
  {
   "cell_type": "markdown",
   "id": "jewish-convert",
   "metadata": {},
   "source": [
    "We'll start with an empty dictionary, and as we encounter a character we'll either update the count (the value associated with the key) if the key is present, or insert it with a count of `1`."
   ]
  },
  {
   "cell_type": "code",
   "execution_count": 4,
   "id": "indoor-detroit",
   "metadata": {},
   "outputs": [
    {
     "data": {
      "text/plain": [
       "{'A': 1,\n",
       " 'n': 20,\n",
       " 'd': 4,\n",
       " 'a': 23,\n",
       " 'o': 31,\n",
       " 'r': 12,\n",
       " 'e': 27,\n",
       " 't': 21,\n",
       " 'h': 11,\n",
       " 'b': 7,\n",
       " 's': 9,\n",
       " 'i': 17,\n",
       " 'c': 10,\n",
       " 'p': 7,\n",
       " 'f': 4,\n",
       " 'l': 12,\n",
       " 'g': 6,\n",
       " 'T': 2,\n",
       " 'w': 2,\n",
       " 'y': 2,\n",
       " 'm': 6,\n",
       " 'x': 1,\n",
       " 'u': 3,\n",
       " 'J': 1,\n",
       " 'v': 1,\n",
       " 'N': 1,\n",
       " 'C': 1,\n",
       " 'B': 1}"
      ]
     },
     "execution_count": 4,
     "metadata": {},
     "output_type": "execute_result"
    }
   ],
   "source": [
    "counts = {}\n",
    "for c in s1:\n",
    "    if (ord(c) >= ord('a') and ord(c) <= ord('z')) or (ord(c) >= ord('A') and ord(c) <= ord('Z')):\n",
    "        counts[c] = counts.get(c, 0) + 1\n",
    "        \n",
    "counts"
   ]
  },
  {
   "cell_type": "markdown",
   "id": "practical-video",
   "metadata": {},
   "source": [
    "Note how we used `counts.get(c, 0)` to assign a default count for the key `c` and then added `1` to it in all cases."
   ]
  },
  {
   "cell_type": "markdown",
   "id": "important-dylan",
   "metadata": {},
   "source": [
    "If `c` was present in the dictionary, `counts.get(c, 0)` would return the value (the frequency count) and we add `1` to that."
   ]
  },
  {
   "cell_type": "markdown",
   "id": "modern-bundle",
   "metadata": {},
   "source": [
    "If `c` was **not** present in the dictionary, `counts.get(c, 0)` would return `0` and adding `1` to that we end up inserting a new key (`c`) into the dictionary with a value of `1`."
   ]
  },
  {
   "cell_type": "markdown",
   "id": "little-bulgaria",
   "metadata": {},
   "source": [
    "The same code works for `s2` as well:"
   ]
  },
  {
   "cell_type": "code",
   "execution_count": 5,
   "id": "fossil-welding",
   "metadata": {},
   "outputs": [
    {
     "data": {
      "text/plain": [
       "{'L': 1,\n",
       " 'o': 29,\n",
       " 'r': 22,\n",
       " 'e': 37,\n",
       " 'm': 17,\n",
       " 'i': 42,\n",
       " 'p': 11,\n",
       " 's': 18,\n",
       " 'u': 28,\n",
       " 'd': 18,\n",
       " 'l': 21,\n",
       " 't': 32,\n",
       " 'a': 29,\n",
       " 'c': 16,\n",
       " 'n': 24,\n",
       " 'g': 3,\n",
       " 'b': 3,\n",
       " 'q': 5,\n",
       " 'U': 1,\n",
       " 'v': 3,\n",
       " 'x': 3,\n",
       " 'D': 1,\n",
       " 'h': 1,\n",
       " 'f': 3,\n",
       " 'E': 1}"
      ]
     },
     "execution_count": 5,
     "metadata": {},
     "output_type": "execute_result"
    }
   ],
   "source": [
    "counts = {}\n",
    "for c in s2:\n",
    "    if (ord(c) >= ord('a') and ord(c) <= ord('z')) or (ord(c) >= ord('A') and ord(c) <= ord('Z')):\n",
    "        counts[c] = counts.get(c, 0) + 1\n",
    "        \n",
    "counts"
   ]
  },
  {
   "cell_type": "markdown",
   "id": "wound-medication",
   "metadata": {},
   "source": [
    "#### Question 2"
   ]
  },
  {
   "cell_type": "markdown",
   "id": "floating-yield",
   "metadata": {},
   "source": [
    "Given the following dictionaries:"
   ]
  },
  {
   "cell_type": "code",
   "execution_count": 6,
   "id": "optional-timer",
   "metadata": {},
   "outputs": [],
   "source": [
    "d1 = {'a': 10, 'b': 20, 'c': 30}\n",
    "d2 = {'d': 100, 'e': 200, 'f': 300}\n",
    "d3 = {'f': 30, 'g': 40}"
   ]
  },
  {
   "cell_type": "markdown",
   "id": "searching-console",
   "metadata": {},
   "source": [
    "Construct two lists, one containing all the keys of both dictionaries, and one containing all the values of each dictionary. (It is OK for values or keys to be repeated in the lists)."
   ]
  },
  {
   "cell_type": "markdown",
   "id": "initial-drinking",
   "metadata": {},
   "source": [
    "In the example above you should end up with two lists containing the elements:\n",
    "\n",
    "```\n",
    "'a', 'b', 'c', 'd', 'e', 'f', 'f', 'g'\n",
    "```\n",
    "\n",
    "and\n",
    "\n",
    "```\n",
    "10, 20, 30, 100, 200, 300, 30, 40\n",
    "```"
   ]
  },
  {
   "cell_type": "markdown",
   "id": "supposed-citizenship",
   "metadata": {},
   "source": [
    "Note that the order in which the elements appear in each list is not important."
   ]
  },
  {
   "cell_type": "markdown",
   "id": "raising-backup",
   "metadata": {},
   "source": [
    "##### Solution"
   ]
  },
  {
   "cell_type": "markdown",
   "id": "realistic-bookmark",
   "metadata": {},
   "source": [
    "Here I'll present two approaches (there are probably more!) that I took to get the solution."
   ]
  },
  {
   "cell_type": "markdown",
   "id": "chief-shadow",
   "metadata": {},
   "source": [
    "In the first approach I will create two empty lists, one for the keys and one for the values:"
   ]
  },
  {
   "cell_type": "code",
   "execution_count": 7,
   "id": "smoking-width",
   "metadata": {},
   "outputs": [],
   "source": [
    "keys = []\n",
    "values = []"
   ]
  },
  {
   "cell_type": "markdown",
   "id": "incorrect-journey",
   "metadata": {},
   "source": [
    "Next, I'll iterate over all the dictionaries, for each one iterating over the key/value pairs, and simply append the key/value to the appropriate list:"
   ]
  },
  {
   "cell_type": "code",
   "execution_count": 8,
   "id": "competent-supply",
   "metadata": {},
   "outputs": [],
   "source": [
    "for d in (d1, d2, d3):\n",
    "    for key, value in d.items():\n",
    "        keys.append(key)\n",
    "        values.append(value)"
   ]
  },
  {
   "cell_type": "code",
   "execution_count": 9,
   "id": "north-shoulder",
   "metadata": {},
   "outputs": [
    {
     "data": {
      "text/plain": [
       "['a', 'b', 'c', 'd', 'e', 'f', 'f', 'g']"
      ]
     },
     "execution_count": 9,
     "metadata": {},
     "output_type": "execute_result"
    }
   ],
   "source": [
    "keys"
   ]
  },
  {
   "cell_type": "code",
   "execution_count": 10,
   "id": "passing-tablet",
   "metadata": {},
   "outputs": [
    {
     "data": {
      "text/plain": [
       "[10, 20, 30, 100, 200, 300, 30, 40]"
      ]
     },
     "execution_count": 10,
     "metadata": {},
     "output_type": "execute_result"
    }
   ],
   "source": [
    "values"
   ]
  },
  {
   "cell_type": "markdown",
   "id": "suitable-minimum",
   "metadata": {},
   "source": [
    "So this solution works fine, but in Python we usuallt try not to use loops to iteratively append to lists, as there are often better techniques."
   ]
  },
  {
   "cell_type": "markdown",
   "id": "lyric-toyota",
   "metadata": {},
   "source": [
    "In my second approach, I'll use the fact that we can recover a list of keys and values from a dictionary by using the `keys()` and `values()` methods:"
   ]
  },
  {
   "cell_type": "code",
   "execution_count": 11,
   "id": "painted-spelling",
   "metadata": {},
   "outputs": [
    {
     "data": {
      "text/plain": [
       "['a', 'b', 'c']"
      ]
     },
     "execution_count": 11,
     "metadata": {},
     "output_type": "execute_result"
    }
   ],
   "source": [
    "list(d1.keys())"
   ]
  },
  {
   "cell_type": "code",
   "execution_count": 12,
   "id": "driving-cornell",
   "metadata": {},
   "outputs": [
    {
     "data": {
      "text/plain": [
       "[10, 20, 30]"
      ]
     },
     "execution_count": 12,
     "metadata": {},
     "output_type": "execute_result"
    }
   ],
   "source": [
    "list(d1.values())"
   ]
  },
  {
   "cell_type": "markdown",
   "id": "express-blanket",
   "metadata": {},
   "source": [
    "So, I'll start with my lists of keys and values set to the keys and values of the first dictionary:"
   ]
  },
  {
   "cell_type": "code",
   "execution_count": 13,
   "id": "demanding-young",
   "metadata": {},
   "outputs": [],
   "source": [
    "keys = list(d1.keys())\n",
    "values = list(d1.values())"
   ]
  },
  {
   "cell_type": "code",
   "execution_count": 14,
   "id": "disabled-frost",
   "metadata": {},
   "outputs": [
    {
     "data": {
      "text/plain": [
       "['a', 'b', 'c']"
      ]
     },
     "execution_count": 14,
     "metadata": {},
     "output_type": "execute_result"
    }
   ],
   "source": [
    "keys"
   ]
  },
  {
   "cell_type": "code",
   "execution_count": 15,
   "id": "bigger-government",
   "metadata": {},
   "outputs": [
    {
     "data": {
      "text/plain": [
       "[10, 20, 30]"
      ]
     },
     "execution_count": 15,
     "metadata": {},
     "output_type": "execute_result"
    }
   ],
   "source": [
    "values"
   ]
  },
  {
   "cell_type": "markdown",
   "id": "flexible-removal",
   "metadata": {},
   "source": [
    "Next, I'll iterate over the remaining dictionaries, and **extend** the `keys` and `values` lists:"
   ]
  },
  {
   "cell_type": "code",
   "execution_count": 16,
   "id": "compressed-rates",
   "metadata": {},
   "outputs": [],
   "source": [
    "for d in (d2, d3):\n",
    "    keys.extend(d.keys())\n",
    "    values.extend(d.values())"
   ]
  },
  {
   "cell_type": "code",
   "execution_count": 17,
   "id": "competent-threat",
   "metadata": {},
   "outputs": [
    {
     "data": {
      "text/plain": [
       "['a', 'b', 'c', 'd', 'e', 'f', 'f', 'g']"
      ]
     },
     "execution_count": 17,
     "metadata": {},
     "output_type": "execute_result"
    }
   ],
   "source": [
    "keys"
   ]
  },
  {
   "cell_type": "code",
   "execution_count": 18,
   "id": "chicken-doctor",
   "metadata": {},
   "outputs": [
    {
     "data": {
      "text/plain": [
       "[10, 20, 30, 100, 200, 300, 30, 40]"
      ]
     },
     "execution_count": 18,
     "metadata": {},
     "output_type": "execute_result"
    }
   ],
   "source": [
    "values"
   ]
  },
  {
   "cell_type": "markdown",
   "id": "fossil-sequence",
   "metadata": {},
   "source": [
    "There is actually a third way we could do this, but the code is a bit repetitive, and could get unwieldy if we were trying to do this for a large number of dictionaries. That may be fine in certain situations though, so let's see how we could do it."
   ]
  },
  {
   "cell_type": "code",
   "execution_count": 19,
   "id": "cooked-grove",
   "metadata": {},
   "outputs": [
    {
     "data": {
      "text/plain": [
       "['a', 'b', 'c', 'd', 'e', 'f', 'f', 'g']"
      ]
     },
     "execution_count": 19,
     "metadata": {},
     "output_type": "execute_result"
    }
   ],
   "source": [
    "list(d1.keys()) + list(d2.keys()) + list(d3.keys())"
   ]
  },
  {
   "cell_type": "code",
   "execution_count": 20,
   "id": "compact-session",
   "metadata": {},
   "outputs": [
    {
     "data": {
      "text/plain": [
       "[10, 20, 30, 100, 200, 300, 30, 40]"
      ]
     },
     "execution_count": 20,
     "metadata": {},
     "output_type": "execute_result"
    }
   ],
   "source": [
    "list(d1.values()) + list(d2.values()) + list(d3.values())"
   ]
  },
  {
   "cell_type": "markdown",
   "id": "sharp-sauce",
   "metadata": {},
   "source": [
    "This approach works fine too, but as you can see our code would become very repetitive if we had many dictionaries to deal with."
   ]
  },
  {
   "cell_type": "markdown",
   "id": "popular-transmission",
   "metadata": {},
   "source": [
    "#### Question 3"
   ]
  },
  {
   "cell_type": "markdown",
   "id": "still-liabilities",
   "metadata": {},
   "source": [
    "In this example, suppose you have a grade book designed as follows:"
   ]
  },
  {
   "cell_type": "code",
   "execution_count": 21,
   "id": "brown-reporter",
   "metadata": {},
   "outputs": [],
   "source": [
    "grades = {\n",
    "    'John': [90, 95, 98],\n",
    "    'Eric': [86, 84, 92],\n",
    "    'Michael': [90, 89, 85]\n",
    "}"
   ]
  },
  {
   "cell_type": "markdown",
   "id": "according-omaha",
   "metadata": {},
   "source": [
    "This grade book is a dictionary that consists of the student's name as the key, and the value is a list representing results for a series of tests, from most recent to oldest."
   ]
  },
  {
   "cell_type": "markdown",
   "id": "sporting-daily",
   "metadata": {},
   "source": [
    "A new exam has just been graded, and you receive the grades for that specific exam also as a dictionary:"
   ]
  },
  {
   "cell_type": "code",
   "execution_count": 22,
   "id": "generic-perception",
   "metadata": {},
   "outputs": [],
   "source": [
    "exam = {\n",
    "    'Eric': 99,\n",
    "    'John': 100\n",
    "}"
   ]
  },
  {
   "cell_type": "markdown",
   "id": "infrared-jewel",
   "metadata": {},
   "source": [
    "Write code that updates the grades dictionary by adding the latest test result to the beginning of each list corresponding to the student.\n",
    "\n",
    "If the new exam grade is missing for a student, assign the value `None` as the latest grade in the `grades` dictionary."
   ]
  },
  {
   "cell_type": "markdown",
   "id": "classical-mason",
   "metadata": {},
   "source": [
    "For the data given above, your `grades` dictionary should now contain the following information:\n",
    "\n",
    "```\n",
    "{\n",
    "    'John': [100, 90, 95, 98],\n",
    "    'Eric': [99, 86, 84, 92],\n",
    "    'Michael': [None, 90, 89, 85]\n",
    "}\n",
    "```"
   ]
  },
  {
   "cell_type": "markdown",
   "id": "aging-pharmacy",
   "metadata": {},
   "source": [
    "##### Solution"
   ]
  },
  {
   "cell_type": "markdown",
   "id": "touched-surfing",
   "metadata": {},
   "source": [
    "We need to mutate the dictionary `grades` by inserting, as the first element, the latest grade obtained by the student as given in `exam`."
   ]
  },
  {
   "cell_type": "markdown",
   "id": "local-living",
   "metadata": {},
   "source": [
    "We can iterate over the keys of the `grades` dictionary, and retrieve the grade from the `exam` dictionary - substituting `None` if no grade was found. Then, we need to insert that grade as the first element of the corresponding grade list."
   ]
  },
  {
   "cell_type": "code",
   "execution_count": 23,
   "id": "intensive-rough",
   "metadata": {},
   "outputs": [
    {
     "data": {
      "text/plain": [
       "{'John': [100, 90, 95, 98],\n",
       " 'Eric': [99, 86, 84, 92],\n",
       " 'Michael': [None, 90, 89, 85]}"
      ]
     },
     "execution_count": 23,
     "metadata": {},
     "output_type": "execute_result"
    }
   ],
   "source": [
    "for student in grades:\n",
    "    if student in exam:\n",
    "        grades[student].insert(0, exam[student])\n",
    "    else:\n",
    "        grades[student].insert(0, None)\n",
    "        \n",
    "grades"
   ]
  },
  {
   "cell_type": "markdown",
   "id": "engaging-temperature",
   "metadata": {},
   "source": [
    "So this solution works, but we really don't need to use that `if...else...` statement, since we can use the `get()` method on dictionaries, which will, by default, return `None` if the key is not found:"
   ]
  },
  {
   "cell_type": "code",
   "execution_count": 24,
   "id": "postal-cooler",
   "metadata": {},
   "outputs": [
    {
     "name": "stdout",
     "output_type": "stream",
     "text": [
      "None\n"
     ]
    }
   ],
   "source": [
    "print(exam.get('Michael'))"
   ]
  },
  {
   "cell_type": "markdown",
   "id": "south-sapphire",
   "metadata": {},
   "source": [
    "Let's reset the grades dictionary to its original state first:"
   ]
  },
  {
   "cell_type": "code",
   "execution_count": 25,
   "id": "hollow-hammer",
   "metadata": {},
   "outputs": [],
   "source": [
    "grades = {\n",
    "    'John': [90, 95, 98],\n",
    "    'Eric': [86, 84, 92],\n",
    "    'Michael': [90, 89, 85]\n",
    "}"
   ]
  },
  {
   "cell_type": "markdown",
   "id": "instructional-minimum",
   "metadata": {},
   "source": [
    "And now let's use the `get()` method:"
   ]
  },
  {
   "cell_type": "code",
   "execution_count": 26,
   "id": "focused-logging",
   "metadata": {},
   "outputs": [
    {
     "data": {
      "text/plain": [
       "{'John': [100, 90, 95, 98],\n",
       " 'Eric': [99, 86, 84, 92],\n",
       " 'Michael': [None, 90, 89, 85]}"
      ]
     },
     "execution_count": 26,
     "metadata": {},
     "output_type": "execute_result"
    }
   ],
   "source": [
    "for student in grades:\n",
    "    grades[student].insert(0, exam.get(student))\n",
    "    \n",
    "grades"
   ]
  }
 ],
 "metadata": {
  "kernelspec": {
   "display_name": "Python 3",
   "language": "python",
   "name": "python3"
  },
  "language_info": {
   "codemirror_mode": {
    "name": "ipython",
    "version": 3
   },
   "file_extension": ".py",
   "mimetype": "text/x-python",
   "name": "python",
   "nbconvert_exporter": "python",
   "pygments_lexer": "ipython3",
   "version": "3.9.1"
  }
 },
 "nbformat": 4,
 "nbformat_minor": 5
}
