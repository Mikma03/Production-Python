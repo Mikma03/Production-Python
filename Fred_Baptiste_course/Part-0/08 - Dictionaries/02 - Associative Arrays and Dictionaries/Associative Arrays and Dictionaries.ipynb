{
 "cells": [
  {
   "cell_type": "markdown",
   "metadata": {},
   "source": [
    "### Associative Arrays and Dictionaries"
   ]
  },
  {
   "cell_type": "markdown",
   "metadata": {},
   "source": [
    "As we saw in the lecture, dictionaries are essentially a way of associating two values together - a **key** and a **value**."
   ]
  },
  {
   "cell_type": "markdown",
   "metadata": {},
   "source": [
    "Think of it like a regular dictionary - the key is the word you are looking for in the dictionary, and the value is the definition of the word."
   ]
  },
  {
   "cell_type": "markdown",
   "metadata": {},
   "source": [
    "Dictionaries are organized in a way that makes searching for a word much more efficient than just scanning all the words one by one until you find the one you are looking for."
   ]
  },
  {
   "cell_type": "markdown",
   "metadata": {},
   "source": [
    "The same goes with dictionaries in Python, key lookups in dictionaries are very efficient."
   ]
  },
  {
   "cell_type": "markdown",
   "metadata": {},
   "source": [
    "We can create a dictionary using a literal:"
   ]
  },
  {
   "cell_type": "code",
   "execution_count": 1,
   "metadata": {},
   "outputs": [],
   "source": [
    "d = {'a': 1, 'b': 2, 'c': 3}"
   ]
  },
  {
   "cell_type": "markdown",
   "metadata": {},
   "source": [
    "We can also use whitespace to make dictionary literals more readable if we prefer:"
   ]
  },
  {
   "cell_type": "code",
   "execution_count": 2,
   "metadata": {},
   "outputs": [],
   "source": [
    "person = {\n",
    "    'first_name': 'Eric',\n",
    "    'last_name': 'Idle',\n",
    "    'year_born': 2016 \n",
    "}"
   ]
  },
  {
   "cell_type": "markdown",
   "metadata": {},
   "source": [
    "To look up the value for a key in a dictionary we use square brackets (just like a sequence, except we don't use indexes, but keys):"
   ]
  },
  {
   "cell_type": "code",
   "execution_count": 3,
   "metadata": {},
   "outputs": [
    {
     "data": {
      "text/plain": [
       "2016"
      ]
     },
     "execution_count": 3,
     "metadata": {},
     "output_type": "execute_result"
    }
   ],
   "source": [
    "person['year_born']"
   ]
  },
  {
   "cell_type": "markdown",
   "metadata": {},
   "source": [
    "To replace the value for an existing key, we just use an assignment:"
   ]
  },
  {
   "cell_type": "code",
   "execution_count": 4,
   "metadata": {},
   "outputs": [],
   "source": [
    "person['year_born'] = 1943"
   ]
  },
  {
   "cell_type": "markdown",
   "metadata": {},
   "source": [
    "And the data was updated:"
   ]
  },
  {
   "cell_type": "code",
   "execution_count": 5,
   "metadata": {},
   "outputs": [
    {
     "data": {
      "text/plain": [
       "{'first_name': 'Eric', 'last_name': 'Idle', 'year_born': 1943}"
      ]
     },
     "execution_count": 5,
     "metadata": {},
     "output_type": "execute_result"
    }
   ],
   "source": [
    "person"
   ]
  },
  {
   "cell_type": "markdown",
   "metadata": {},
   "source": [
    "To create a new key in a dictionary, again just use an assignment:"
   ]
  },
  {
   "cell_type": "code",
   "execution_count": 6,
   "metadata": {},
   "outputs": [],
   "source": [
    "person['month_born'] = 'March'"
   ]
  },
  {
   "cell_type": "code",
   "execution_count": 7,
   "metadata": {},
   "outputs": [
    {
     "data": {
      "text/plain": [
       "{'first_name': 'Eric',\n",
       " 'last_name': 'Idle',\n",
       " 'year_born': 1943,\n",
       " 'month_born': 'March'}"
      ]
     },
     "execution_count": 7,
     "metadata": {},
     "output_type": "execute_result"
    }
   ],
   "source": [
    "person"
   ]
  },
  {
   "cell_type": "markdown",
   "metadata": {},
   "source": [
    "So far we've been using strings as dictionary keys, and that is very common, but keys can be any Python object that is hashable, like strings, numerics and certain objects (we'll see this later in the course)."
   ]
  },
  {
   "cell_type": "code",
   "execution_count": 8,
   "metadata": {},
   "outputs": [],
   "source": [
    "d = {3.14: 'pi', 2: 'even', 'prime': 7}"
   ]
  },
  {
   "cell_type": "code",
   "execution_count": 9,
   "metadata": {},
   "outputs": [
    {
     "data": {
      "text/plain": [
       "{3.14: 'pi', 2: 'even', 'prime': 7}"
      ]
     },
     "execution_count": 9,
     "metadata": {},
     "output_type": "execute_result"
    }
   ],
   "source": [
    "d"
   ]
  },
  {
   "cell_type": "markdown",
   "metadata": {},
   "source": [
    "As you can see we have a dictionary with a mix of key types - an integer, a float, and a string."
   ]
  },
  {
   "cell_type": "code",
   "execution_count": 10,
   "metadata": {},
   "outputs": [
    {
     "data": {
      "text/plain": [
       "'pi'"
      ]
     },
     "execution_count": 10,
     "metadata": {},
     "output_type": "execute_result"
    }
   ],
   "source": [
    "d[3.14]"
   ]
  },
  {
   "cell_type": "code",
   "execution_count": 11,
   "metadata": {},
   "outputs": [
    {
     "data": {
      "text/plain": [
       "'even'"
      ]
     },
     "execution_count": 11,
     "metadata": {},
     "output_type": "execute_result"
    }
   ],
   "source": [
    "d[2]"
   ]
  },
  {
   "cell_type": "code",
   "execution_count": 12,
   "metadata": {},
   "outputs": [
    {
     "data": {
      "text/plain": [
       "7"
      ]
     },
     "execution_count": 12,
     "metadata": {},
     "output_type": "execute_result"
    }
   ],
   "source": [
    "d['prime']"
   ]
  },
  {
   "cell_type": "markdown",
   "metadata": {},
   "source": [
    "In general, mutable objects (like a list for example) are not hashable, and so cannot be used as keys in a dictionary."
   ]
  },
  {
   "cell_type": "code",
   "execution_count": 13,
   "metadata": {},
   "outputs": [],
   "source": [
    "l = [1, 2, 3]"
   ]
  },
  {
   "cell_type": "code",
   "execution_count": 14,
   "metadata": {},
   "outputs": [
    {
     "ename": "TypeError",
     "evalue": "unhashable type: 'list'",
     "output_type": "error",
     "traceback": [
      "\u001b[0;31m---------------------------------------------------------------------------\u001b[0m",
      "\u001b[0;31mTypeError\u001b[0m                                 Traceback (most recent call last)",
      "\u001b[0;32m<ipython-input-14-34b7dc89f9e9>\u001b[0m in \u001b[0;36m<module>\u001b[0;34m\u001b[0m\n\u001b[0;32m----> 1\u001b[0;31m \u001b[0md\u001b[0m \u001b[0;34m=\u001b[0m \u001b[0;34m{\u001b[0m\u001b[0ml\u001b[0m\u001b[0;34m:\u001b[0m \u001b[0;36m100\u001b[0m\u001b[0;34m}\u001b[0m\u001b[0;34m\u001b[0m\u001b[0;34m\u001b[0m\u001b[0m\n\u001b[0m",
      "\u001b[0;31mTypeError\u001b[0m: unhashable type: 'list'"
     ]
    }
   ],
   "source": [
    "d = {l: 100}"
   ]
  },
  {
   "cell_type": "markdown",
   "metadata": {},
   "source": [
    "If you need to find out whether something is hashable or not, you can use the `hash()` function:"
   ]
  },
  {
   "cell_type": "code",
   "execution_count": 15,
   "metadata": {},
   "outputs": [
    {
     "data": {
      "text/plain": [
       "100"
      ]
     },
     "execution_count": 15,
     "metadata": {},
     "output_type": "execute_result"
    }
   ],
   "source": [
    "hash(100)"
   ]
  },
  {
   "cell_type": "code",
   "execution_count": 16,
   "metadata": {},
   "outputs": [
    {
     "ename": "TypeError",
     "evalue": "unhashable type: 'list'",
     "output_type": "error",
     "traceback": [
      "\u001b[0;31m---------------------------------------------------------------------------\u001b[0m",
      "\u001b[0;31mTypeError\u001b[0m                                 Traceback (most recent call last)",
      "\u001b[0;32m<ipython-input-16-7a4e953a7f49>\u001b[0m in \u001b[0;36m<module>\u001b[0;34m\u001b[0m\n\u001b[0;32m----> 1\u001b[0;31m \u001b[0mhash\u001b[0m\u001b[0;34m(\u001b[0m\u001b[0ml\u001b[0m\u001b[0;34m)\u001b[0m\u001b[0;34m\u001b[0m\u001b[0;34m\u001b[0m\u001b[0m\n\u001b[0m",
      "\u001b[0;31mTypeError\u001b[0m: unhashable type: 'list'"
     ]
    }
   ],
   "source": [
    "hash(l)"
   ]
  },
  {
   "cell_type": "markdown",
   "metadata": {},
   "source": [
    "Tuples are immutable collections, but they may or may not be hashable depending on whether all the contained elements are hashable or not:"
   ]
  },
  {
   "cell_type": "code",
   "execution_count": 17,
   "metadata": {},
   "outputs": [],
   "source": [
    "t = (1, 2, 3, 4)"
   ]
  },
  {
   "cell_type": "code",
   "execution_count": 18,
   "metadata": {},
   "outputs": [
    {
     "data": {
      "text/plain": [
       "590899387183067792"
      ]
     },
     "execution_count": 18,
     "metadata": {},
     "output_type": "execute_result"
    }
   ],
   "source": [
    "hash(t)"
   ]
  },
  {
   "cell_type": "code",
   "execution_count": 19,
   "metadata": {},
   "outputs": [],
   "source": [
    "t = ([1, 2], 3, 4)"
   ]
  },
  {
   "cell_type": "code",
   "execution_count": 20,
   "metadata": {},
   "outputs": [
    {
     "ename": "TypeError",
     "evalue": "unhashable type: 'list'",
     "output_type": "error",
     "traceback": [
      "\u001b[0;31m---------------------------------------------------------------------------\u001b[0m",
      "\u001b[0;31mTypeError\u001b[0m                                 Traceback (most recent call last)",
      "\u001b[0;32m<ipython-input-20-8a01c6d8dba1>\u001b[0m in \u001b[0;36m<module>\u001b[0;34m\u001b[0m\n\u001b[0;32m----> 1\u001b[0;31m \u001b[0mhash\u001b[0m\u001b[0;34m(\u001b[0m\u001b[0mt\u001b[0m\u001b[0;34m)\u001b[0m\u001b[0;34m\u001b[0m\u001b[0;34m\u001b[0m\u001b[0m\n\u001b[0m",
      "\u001b[0;31mTypeError\u001b[0m: unhashable type: 'list'"
     ]
    }
   ],
   "source": [
    "hash(t)"
   ]
  },
  {
   "cell_type": "markdown",
   "metadata": {},
   "source": [
    "You'll notice that the tuple was unhashable because it contained a list, which is, itself, unhashable."
   ]
  },
  {
   "cell_type": "markdown",
   "metadata": {},
   "source": [
    "So, we can use tuples as keys sometimes:"
   ]
  },
  {
   "cell_type": "code",
   "execution_count": 21,
   "metadata": {},
   "outputs": [],
   "source": [
    "d = {\n",
    "    (0, 0): \"origin\",\n",
    "    (1, 0): \"unit-x\",\n",
    "    (0, 1): \"unit-y\"\n",
    "}"
   ]
  },
  {
   "cell_type": "code",
   "execution_count": 22,
   "metadata": {},
   "outputs": [
    {
     "data": {
      "text/plain": [
       "'origin'"
      ]
     },
     "execution_count": 22,
     "metadata": {},
     "output_type": "execute_result"
    }
   ],
   "source": [
    "d[(0,0)]"
   ]
  },
  {
   "cell_type": "markdown",
   "metadata": {},
   "source": [
    "We can delete a key (and it's associated value) from a dictionary using the `del` keyword, again just like we did with lists:"
   ]
  },
  {
   "cell_type": "code",
   "execution_count": 23,
   "metadata": {},
   "outputs": [],
   "source": [
    "d = {'a': 1, 'b': 2, 'c': 3}"
   ]
  },
  {
   "cell_type": "code",
   "execution_count": 24,
   "metadata": {},
   "outputs": [],
   "source": [
    "del d['a']"
   ]
  },
  {
   "cell_type": "markdown",
   "metadata": {},
   "source": [
    "You will get exception if you try to lookup or delete a non-existent key:"
   ]
  },
  {
   "cell_type": "code",
   "execution_count": 25,
   "metadata": {},
   "outputs": [
    {
     "ename": "KeyError",
     "evalue": "'x'",
     "output_type": "error",
     "traceback": [
      "\u001b[0;31m---------------------------------------------------------------------------\u001b[0m",
      "\u001b[0;31mKeyError\u001b[0m                                  Traceback (most recent call last)",
      "\u001b[0;32m<ipython-input-25-7657742692bd>\u001b[0m in \u001b[0;36m<module>\u001b[0;34m\u001b[0m\n\u001b[0;32m----> 1\u001b[0;31m \u001b[0md\u001b[0m\u001b[0;34m[\u001b[0m\u001b[0;34m'x'\u001b[0m\u001b[0;34m]\u001b[0m\u001b[0;34m\u001b[0m\u001b[0;34m\u001b[0m\u001b[0m\n\u001b[0m",
      "\u001b[0;31mKeyError\u001b[0m: 'x'"
     ]
    }
   ],
   "source": [
    "d['x']"
   ]
  },
  {
   "cell_type": "code",
   "execution_count": 26,
   "metadata": {},
   "outputs": [
    {
     "ename": "KeyError",
     "evalue": "'x'",
     "output_type": "error",
     "traceback": [
      "\u001b[0;31m---------------------------------------------------------------------------\u001b[0m",
      "\u001b[0;31mKeyError\u001b[0m                                  Traceback (most recent call last)",
      "\u001b[0;32m<ipython-input-26-c7a9f28dca5e>\u001b[0m in \u001b[0;36m<module>\u001b[0;34m\u001b[0m\n\u001b[0;32m----> 1\u001b[0;31m \u001b[0;32mdel\u001b[0m \u001b[0md\u001b[0m\u001b[0;34m[\u001b[0m\u001b[0;34m'x'\u001b[0m\u001b[0;34m]\u001b[0m\u001b[0;34m\u001b[0m\u001b[0;34m\u001b[0m\u001b[0m\n\u001b[0m",
      "\u001b[0;31mKeyError\u001b[0m: 'x'"
     ]
    }
   ],
   "source": [
    "del d['x']"
   ]
  },
  {
   "cell_type": "markdown",
   "metadata": {},
   "source": [
    "Later we'll take a look at a dictionary method that can be used to substitute a default value when we look up a non-existent key."
   ]
  },
  {
   "cell_type": "markdown",
   "metadata": {},
   "source": [
    "Many many data structures in Python use dictionaries."
   ]
  },
  {
   "cell_type": "markdown",
   "metadata": {},
   "source": [
    "For example, all the variables (symbols) we defined in our notebook are actually stored by Python in a dictionary - that's how it is able to quickly access the \"value\" associated with the variable symbol."
   ]
  },
  {
   "cell_type": "code",
   "execution_count": 27,
   "metadata": {},
   "outputs": [
    {
     "data": {
      "text/plain": [
       "{'__name__': '__main__',\n",
       " '__doc__': 'Automatically created module for IPython interactive environment',\n",
       " '__package__': None,\n",
       " '__loader__': None,\n",
       " '__spec__': None,\n",
       " '__builtin__': <module 'builtins' (built-in)>,\n",
       " '__builtins__': <module 'builtins' (built-in)>,\n",
       " '_ih': ['',\n",
       "  \"d = {'a': 1, 'b': 2, 'c': 3}\",\n",
       "  \"person = {\\n    'first_name': 'Eric',\\n    'last_name': 'Idle',\\n    'year_born': 2016 \\n}\",\n",
       "  \"person['year_born']\",\n",
       "  \"person['year_born'] = 1943\",\n",
       "  'person',\n",
       "  \"person['month_born'] = 'March'\",\n",
       "  'person',\n",
       "  \"d = {3.14: 'pi', 2: 'even', 'prime': 7}\",\n",
       "  'd',\n",
       "  'd[3.14]',\n",
       "  'd[2]',\n",
       "  \"d['prime']\",\n",
       "  'l = [1, 2, 3]',\n",
       "  'd = {l: 100}',\n",
       "  'hash(100)',\n",
       "  'hash(l)',\n",
       "  't = (1, 2, 3, 4)',\n",
       "  'hash(t)',\n",
       "  't = ([1, 2], 3, 4)',\n",
       "  'hash(t)',\n",
       "  'd = {\\n    (0, 0): \"origin\",\\n    (1, 0): \"unit-x\",\\n    (0, 1): \"unit-y\"\\n}',\n",
       "  'd[(0,0)]',\n",
       "  \"d = {'a': 1, 'b': 2, 'c': 3}\",\n",
       "  \"del d['a']\",\n",
       "  \"d['x']\",\n",
       "  \"del d['x']\",\n",
       "  'globals()'],\n",
       " '_oh': {3: 2016,\n",
       "  5: {'first_name': 'Eric',\n",
       "   'last_name': 'Idle',\n",
       "   'year_born': 1943,\n",
       "   'month_born': 'March'},\n",
       "  7: {'first_name': 'Eric',\n",
       "   'last_name': 'Idle',\n",
       "   'year_born': 1943,\n",
       "   'month_born': 'March'},\n",
       "  9: {3.14: 'pi', 2: 'even', 'prime': 7},\n",
       "  10: 'pi',\n",
       "  11: 'even',\n",
       "  12: 7,\n",
       "  15: 100,\n",
       "  18: 590899387183067792,\n",
       "  22: 'origin'},\n",
       " '_dh': ['/Users/fbaptiste/Dropbox/WSP/course/Resources/08 - Dictionaries/02 - Associative Arrays and Dictionaries'],\n",
       " 'In': ['',\n",
       "  \"d = {'a': 1, 'b': 2, 'c': 3}\",\n",
       "  \"person = {\\n    'first_name': 'Eric',\\n    'last_name': 'Idle',\\n    'year_born': 2016 \\n}\",\n",
       "  \"person['year_born']\",\n",
       "  \"person['year_born'] = 1943\",\n",
       "  'person',\n",
       "  \"person['month_born'] = 'March'\",\n",
       "  'person',\n",
       "  \"d = {3.14: 'pi', 2: 'even', 'prime': 7}\",\n",
       "  'd',\n",
       "  'd[3.14]',\n",
       "  'd[2]',\n",
       "  \"d['prime']\",\n",
       "  'l = [1, 2, 3]',\n",
       "  'd = {l: 100}',\n",
       "  'hash(100)',\n",
       "  'hash(l)',\n",
       "  't = (1, 2, 3, 4)',\n",
       "  'hash(t)',\n",
       "  't = ([1, 2], 3, 4)',\n",
       "  'hash(t)',\n",
       "  'd = {\\n    (0, 0): \"origin\",\\n    (1, 0): \"unit-x\",\\n    (0, 1): \"unit-y\"\\n}',\n",
       "  'd[(0,0)]',\n",
       "  \"d = {'a': 1, 'b': 2, 'c': 3}\",\n",
       "  \"del d['a']\",\n",
       "  \"d['x']\",\n",
       "  \"del d['x']\",\n",
       "  'globals()'],\n",
       " 'Out': {3: 2016,\n",
       "  5: {'first_name': 'Eric',\n",
       "   'last_name': 'Idle',\n",
       "   'year_born': 1943,\n",
       "   'month_born': 'March'},\n",
       "  7: {'first_name': 'Eric',\n",
       "   'last_name': 'Idle',\n",
       "   'year_born': 1943,\n",
       "   'month_born': 'March'},\n",
       "  9: {3.14: 'pi', 2: 'even', 'prime': 7},\n",
       "  10: 'pi',\n",
       "  11: 'even',\n",
       "  12: 7,\n",
       "  15: 100,\n",
       "  18: 590899387183067792,\n",
       "  22: 'origin'},\n",
       " 'get_ipython': <bound method InteractiveShell.get_ipython of <ipykernel.zmqshell.ZMQInteractiveShell object at 0x7fd9f8160580>>,\n",
       " 'exit': <IPython.core.autocall.ZMQExitAutocall at 0x7fd9f8188250>,\n",
       " 'quit': <IPython.core.autocall.ZMQExitAutocall at 0x7fd9f8188250>,\n",
       " '_': 'origin',\n",
       " '__': 590899387183067792,\n",
       " '___': 100,\n",
       " '_i': \"del d['x']\",\n",
       " '_ii': \"d['x']\",\n",
       " '_iii': \"del d['a']\",\n",
       " '_i1': \"d = {'a': 1, 'b': 2, 'c': 3}\",\n",
       " 'd': {'b': 2, 'c': 3},\n",
       " '_i2': \"person = {\\n    'first_name': 'Eric',\\n    'last_name': 'Idle',\\n    'year_born': 2016 \\n}\",\n",
       " 'person': {'first_name': 'Eric',\n",
       "  'last_name': 'Idle',\n",
       "  'year_born': 1943,\n",
       "  'month_born': 'March'},\n",
       " '_i3': \"person['year_born']\",\n",
       " '_3': 2016,\n",
       " '_i4': \"person['year_born'] = 1943\",\n",
       " '_i5': 'person',\n",
       " '_5': {'first_name': 'Eric',\n",
       "  'last_name': 'Idle',\n",
       "  'year_born': 1943,\n",
       "  'month_born': 'March'},\n",
       " '_i6': \"person['month_born'] = 'March'\",\n",
       " '_i7': 'person',\n",
       " '_7': {'first_name': 'Eric',\n",
       "  'last_name': 'Idle',\n",
       "  'year_born': 1943,\n",
       "  'month_born': 'March'},\n",
       " '_i8': \"d = {3.14: 'pi', 2: 'even', 'prime': 7}\",\n",
       " '_i9': 'd',\n",
       " '_9': {3.14: 'pi', 2: 'even', 'prime': 7},\n",
       " '_i10': 'd[3.14]',\n",
       " '_10': 'pi',\n",
       " '_i11': 'd[2]',\n",
       " '_11': 'even',\n",
       " '_i12': \"d['prime']\",\n",
       " '_12': 7,\n",
       " '_i13': 'l = [1, 2, 3]',\n",
       " 'l': [1, 2, 3],\n",
       " '_i14': 'd = {l: 100}',\n",
       " '_i15': 'hash(100)',\n",
       " '_15': 100,\n",
       " '_i16': 'hash(l)',\n",
       " '_i17': 't = (1, 2, 3, 4)',\n",
       " 't': ([1, 2], 3, 4),\n",
       " '_i18': 'hash(t)',\n",
       " '_18': 590899387183067792,\n",
       " '_i19': 't = ([1, 2], 3, 4)',\n",
       " '_i20': 'hash(t)',\n",
       " '_i21': 'd = {\\n    (0, 0): \"origin\",\\n    (1, 0): \"unit-x\",\\n    (0, 1): \"unit-y\"\\n}',\n",
       " '_i22': 'd[(0,0)]',\n",
       " '_22': 'origin',\n",
       " '_i23': \"d = {'a': 1, 'b': 2, 'c': 3}\",\n",
       " '_i24': \"del d['a']\",\n",
       " '_i25': \"d['x']\",\n",
       " '_i26': \"del d['x']\",\n",
       " '_i27': 'globals()'}"
      ]
     },
     "execution_count": 27,
     "metadata": {},
     "output_type": "execute_result"
    }
   ],
   "source": [
    "globals()"
   ]
  },
  {
   "cell_type": "markdown",
   "metadata": {},
   "source": [
    "For example, when we access the `person` variable:"
   ]
  },
  {
   "cell_type": "code",
   "execution_count": 28,
   "metadata": {},
   "outputs": [
    {
     "data": {
      "text/plain": [
       "{'first_name': 'Eric',\n",
       " 'last_name': 'Idle',\n",
       " 'year_born': 1943,\n",
       " 'month_born': 'March'}"
      ]
     },
     "execution_count": 28,
     "metadata": {},
     "output_type": "execute_result"
    }
   ],
   "source": [
    "person"
   ]
  },
  {
   "cell_type": "markdown",
   "metadata": {},
   "source": [
    "Python actually retrieved the object from the `globals` dictionary:"
   ]
  },
  {
   "cell_type": "code",
   "execution_count": 29,
   "metadata": {},
   "outputs": [
    {
     "data": {
      "text/plain": [
       "{'first_name': 'Eric',\n",
       " 'last_name': 'Idle',\n",
       " 'year_born': 1943,\n",
       " 'month_born': 'March'}"
      ]
     },
     "execution_count": 29,
     "metadata": {},
     "output_type": "execute_result"
    }
   ],
   "source": [
    "globals()['person']"
   ]
  },
  {
   "cell_type": "code",
   "execution_count": 30,
   "metadata": {},
   "outputs": [
    {
     "data": {
      "text/plain": [
       "True"
      ]
     },
     "execution_count": 30,
     "metadata": {},
     "output_type": "execute_result"
    }
   ],
   "source": [
    "person is globals()['person']"
   ]
  },
  {
   "cell_type": "markdown",
   "metadata": {},
   "source": [
    "See! Same object.\n",
    "\n",
    "In Python, dictionaries are everywhere and is probably one of the most important ubiquitous structures in Python."
   ]
  }
 ],
 "metadata": {
  "kernelspec": {
   "display_name": "Python 3",
   "language": "python",
   "name": "python3"
  },
  "language_info": {
   "codemirror_mode": {
    "name": "ipython",
    "version": 3
   },
   "file_extension": ".py",
   "mimetype": "text/x-python",
   "name": "python",
   "nbconvert_exporter": "python",
   "pygments_lexer": "ipython3",
   "version": "3.9.1"
  }
 },
 "nbformat": 4,
 "nbformat_minor": 4
}
