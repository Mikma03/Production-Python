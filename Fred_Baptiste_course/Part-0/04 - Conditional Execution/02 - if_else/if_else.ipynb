{
 "cells": [
  {
   "cell_type": "markdown",
   "metadata": {},
   "source": [
    "### if...else..."
   ]
  },
  {
   "cell_type": "markdown",
   "metadata": {},
   "source": [
    "As we saw in the lecure, the `else` clause is optional, so let's start with a plain `if` statement first:"
   ]
  },
  {
   "cell_type": "code",
   "execution_count": 1,
   "metadata": {},
   "outputs": [
    {
     "name": "stdout",
     "output_type": "stream",
     "text": [
      "1 is less than 2\n"
     ]
    }
   ],
   "source": [
    "if 1 < 2:\n",
    "    print('1 is less than 2')"
   ]
  },
  {
   "cell_type": "code",
   "execution_count": 2,
   "metadata": {},
   "outputs": [],
   "source": [
    "if 2 < 1:\n",
    "    print('2 is less than 1')"
   ]
  },
  {
   "cell_type": "markdown",
   "metadata": {},
   "source": [
    "As you can see, the code block indented under the `if` statement is executed **if and only if** the conditional expression is `True`."
   ]
  },
  {
   "cell_type": "markdown",
   "metadata": {},
   "source": [
    "Be careful with code blocks - keep the code indented. If you unindent the code Python will treat this as outside the code block:"
   ]
  },
  {
   "cell_type": "code",
   "execution_count": 3,
   "metadata": {},
   "outputs": [
    {
     "name": "stdout",
     "output_type": "stream",
     "text": [
      "block - line 1\n",
      "block - line 2\n",
      "block - line 3\n",
      "next line\n"
     ]
    }
   ],
   "source": [
    "if 1 < 2:\n",
    "    print('block - line 1')\n",
    "    print('block - line 2')\n",
    "    print('block - line 3')\n",
    "print('next line')"
   ]
  },
  {
   "cell_type": "markdown",
   "metadata": {},
   "source": [
    "As you can see all the `print` statement executed, but what actually happened is that `next line` would always execute because it is **not** in the `if` block"
   ]
  },
  {
   "cell_type": "code",
   "execution_count": 4,
   "metadata": {},
   "outputs": [
    {
     "name": "stdout",
     "output_type": "stream",
     "text": [
      "next line\n"
     ]
    }
   ],
   "source": [
    "if 2 < 1:\n",
    "    print('block - line 1')\n",
    "    print('block - line 2')\n",
    "    print('block - line 3')\n",
    "print('next line')"
   ]
  },
  {
   "cell_type": "markdown",
   "metadata": {},
   "source": [
    "See, `next line` still printed. A code block is identified by indenting it one level more than the previous line of code, and is terminated by unindenting you next line of code. Most editors, including Jupyter allow you to use the `Tab` key to indent, and `Shift + Tab` to unindent."
   ]
  },
  {
   "cell_type": "markdown",
   "metadata": {},
   "source": [
    "To make things clearer, we often add a blank line after the end of a block:"
   ]
  },
  {
   "cell_type": "code",
   "execution_count": 5,
   "metadata": {},
   "outputs": [
    {
     "name": "stdout",
     "output_type": "stream",
     "text": [
      "next line\n"
     ]
    }
   ],
   "source": [
    "if 2 < 1:\n",
    "    print('block - line 1')\n",
    "    print('block - line 2')\n",
    "    print('block - line 3')\n",
    "    \n",
    "print('next line')"
   ]
  },
  {
   "cell_type": "markdown",
   "metadata": {},
   "source": [
    "This makes the code a bit easier to read (easier to sperate the code block from the next line)."
   ]
  },
  {
   "cell_type": "markdown",
   "metadata": {},
   "source": [
    "Code blocks are used frequently throughout Python, so we'll see this many times over."
   ]
  },
  {
   "cell_type": "markdown",
   "metadata": {},
   "source": [
    "Next, let's look at the `else` clause. \n",
    "\n",
    "The code block under the `else` clause will execute **if and only if** the condition is `False` (in which case the `if` code block does not execute).\n",
    "\n",
    "In other words, the code blocks under the `if` and under the `else` are mutually exclusive - if one runs, the other does not, and vice versa."
   ]
  },
  {
   "cell_type": "code",
   "execution_count": 6,
   "metadata": {},
   "outputs": [
    {
     "name": "stdout",
     "output_type": "stream",
     "text": [
      "1 is less than 2\n"
     ]
    }
   ],
   "source": [
    "if 1 < 2:\n",
    "    print('1 is less than 2')\n",
    "else:\n",
    "    print('1 is not less than 2')"
   ]
  },
  {
   "cell_type": "code",
   "execution_count": 7,
   "metadata": {},
   "outputs": [
    {
     "name": "stdout",
     "output_type": "stream",
     "text": [
      "2 is not less than 1\n"
     ]
    }
   ],
   "source": [
    "if 2 < 1:\n",
    "    print('2 is less than 1')\n",
    "else:\n",
    "    print('2 is not less than 1')"
   ]
  },
  {
   "cell_type": "markdown",
   "metadata": {},
   "source": [
    "Of course our conditional expression in the `if` statement can be more complex:"
   ]
  },
  {
   "cell_type": "code",
   "execution_count": 8,
   "metadata": {},
   "outputs": [
    {
     "name": "stdout",
     "output_type": "stream",
     "text": [
      "withdrawal authorized\n"
     ]
    }
   ],
   "source": [
    "account_enabled = True\n",
    "balance = 1000\n",
    "withdraw = 100\n",
    "\n",
    "if account_enabled and withdraw <= balance:\n",
    "    print('withdrawal authorized')\n",
    "else:\n",
    "    print('withdrawal not authorized')"
   ]
  },
  {
   "cell_type": "code",
   "execution_count": 9,
   "metadata": {},
   "outputs": [
    {
     "name": "stdout",
     "output_type": "stream",
     "text": [
      "withdrawal not authorized\n"
     ]
    }
   ],
   "source": [
    "account_enabled = True\n",
    "balance = 1000\n",
    "withdraw = 10_000\n",
    "\n",
    "if account_enabled and withdraw <= balance:\n",
    "    print('withdrawal authorized')\n",
    "else:\n",
    "    print('withdrawal not authorized')"
   ]
  },
  {
   "cell_type": "code",
   "execution_count": 10,
   "metadata": {},
   "outputs": [
    {
     "name": "stdout",
     "output_type": "stream",
     "text": [
      "withdrawal not authorized\n"
     ]
    }
   ],
   "source": [
    "account_enabled = False\n",
    "balance = 1000\n",
    "withdraw = 100\n",
    "\n",
    "if account_enabled and withdraw <= balance:\n",
    "    print('withdrawal authorized')\n",
    "else:\n",
    "    print('withdrawal not authorized')"
   ]
  },
  {
   "cell_type": "markdown",
   "metadata": {},
   "source": [
    "Code blocks can contain any valid Python code.\n",
    "\n",
    "Amongst other things, they can contain other `if...else...` statements too!"
   ]
  },
  {
   "cell_type": "markdown",
   "metadata": {},
   "source": [
    "For example, in the account example we did above, we may want to provide a better error message that is more specific - like \"account disabled\" or \"insufficient funds\"."
   ]
  },
  {
   "cell_type": "markdown",
   "metadata": {},
   "source": [
    "We could do it this way:"
   ]
  },
  {
   "cell_type": "code",
   "execution_count": 11,
   "metadata": {},
   "outputs": [
    {
     "name": "stdout",
     "output_type": "stream",
     "text": [
      "account disabled\n"
     ]
    }
   ],
   "source": [
    "account_enabled = False\n",
    "balance = 1000\n",
    "withdraw = 100\n",
    "\n",
    "if account_enabled and withdraw <= balance:\n",
    "    print('withdrawal authorized')\n",
    "else:\n",
    "    # cannot withdraw for some reason\n",
    "    if not account_enabled:\n",
    "        print('account disabled')\n",
    "    else:\n",
    "        # must be insufficient funds\n",
    "        print('insufficient funds')"
   ]
  },
  {
   "cell_type": "code",
   "execution_count": 12,
   "metadata": {},
   "outputs": [
    {
     "name": "stdout",
     "output_type": "stream",
     "text": [
      "insufficient funds\n"
     ]
    }
   ],
   "source": [
    "account_enabled = True\n",
    "balance = 1000\n",
    "withdraw = 100_000\n",
    "\n",
    "if account_enabled and withdraw <= balance:\n",
    "    print('withdrawal authorized')\n",
    "else:\n",
    "    # cannot withdraw for some reason\n",
    "    if not account_enabled:\n",
    "        print('account disabled')\n",
    "    else:\n",
    "        # must be insufficient funds\n",
    "        print('insufficient funds')"
   ]
  },
  {
   "cell_type": "markdown",
   "metadata": {},
   "source": [
    "Too many levels of nested code can make it harder to read - so try to avoid this if you can."
   ]
  },
  {
   "cell_type": "markdown",
   "metadata": {},
   "source": [
    "For example, suppose we need to assign a letter grade based on a range of numerical grades:\n",
    "```\n",
    ">= 90       --> A\n",
    ">= 80, < 90 --> B\n",
    ">= 70, < 80 --> C\n",
    ">= 60, < 70 --> D\n",
    "< 60        --> F\n",
    "```"
   ]
  },
  {
   "cell_type": "markdown",
   "metadata": {},
   "source": [
    "We could write it this way:"
   ]
  },
  {
   "cell_type": "code",
   "execution_count": 13,
   "metadata": {},
   "outputs": [
    {
     "name": "stdout",
     "output_type": "stream",
     "text": [
      "C\n"
     ]
    }
   ],
   "source": [
    "grade = 72\n",
    "\n",
    "if grade >= 90:\n",
    "    letter_grade = 'A'\n",
    "else:\n",
    "    if grade >= 80:\n",
    "        letter_grade = 'B'\n",
    "    else:\n",
    "        if grade >= 70:\n",
    "            letter_grade = 'C'\n",
    "        else:\n",
    "            if grade >= 60:\n",
    "                letter_grade = 'D'\n",
    "            else:\n",
    "                letter_grade = 'F'\n",
    "                \n",
    "print(letter_grade)"
   ]
  },
  {
   "cell_type": "markdown",
   "metadata": {},
   "source": [
    "This can get difficult to read.\n",
    "A slightly different approach could be as follows:"
   ]
  },
  {
   "cell_type": "code",
   "execution_count": 14,
   "metadata": {},
   "outputs": [
    {
     "name": "stdout",
     "output_type": "stream",
     "text": [
      "C\n"
     ]
    }
   ],
   "source": [
    "grade = 72\n",
    "\n",
    "if grade >= 90:\n",
    "    letter_grade = 'A'\n",
    "\n",
    "if grade >= 80 and grade < 90:\n",
    "    letter_grade = 'B'\n",
    "    \n",
    "if grade >= 70 and grade < 80:\n",
    "    letter_grade = 'C'\n",
    "    \n",
    "if grade >= 60 and grade < 70:\n",
    "    letter_grade = 'D'\n",
    "    \n",
    "if grade < 60:\n",
    "    letter_grade = 'F'\n",
    "    \n",
    "print(letter_grade)"
   ]
  },
  {
   "cell_type": "markdown",
   "metadata": {},
   "source": [
    "This works, but a lot of needless comparisons - that's not ideal either.\n",
    "\n",
    "Also there is a danger that all the `if` statement in our code do not account for all possible grades - they do in this case, but what if we had forgottn one interval, or gotten some of the intervals wrong?"
   ]
  },
  {
   "cell_type": "markdown",
   "metadata": {},
   "source": [
    "We could try this approach too, where we assign a default grade as the lowest grade (so we are ensured we always have a grade), and that results in less comparisons:"
   ]
  },
  {
   "cell_type": "code",
   "execution_count": 15,
   "metadata": {},
   "outputs": [
    {
     "name": "stdout",
     "output_type": "stream",
     "text": [
      "C\n"
     ]
    }
   ],
   "source": [
    "grade = 72\n",
    "\n",
    "letter_grade = 'F'\n",
    "\n",
    "if grade >= 60:\n",
    "    letter_grade = 'D'\n",
    "    \n",
    "if grade >= 70:\n",
    "    letter_grade = 'C'\n",
    "    \n",
    "if grade >= 80:\n",
    "    letter_grade = 'B'\n",
    "    \n",
    "if grade >= 90:\n",
    "    letter_grade = 'A'\n",
    "    \n",
    "print(letter_grade)"
   ]
  },
  {
   "cell_type": "markdown",
   "metadata": {},
   "source": [
    "So less comparisons, and we are at least guarantee for `letter_grade` to have a value (but maybe the wrong one if we missed an interval or forgot one altogether) - so that's a bit better than the last approach in those respects."
   ]
  },
  {
   "cell_type": "markdown",
   "metadata": {},
   "source": [
    "But we've also done a lot of unecessary work!\n",
    "\n",
    "To assign the grade `C` we:\n",
    "- first assigned 'F'\n",
    "- then assigned 'D'\n",
    "- then assigned 'C'\n",
    "- then performed the `grade >= 80` check but did not assign a new grade\n",
    "- then performed the `grade >= 90` check but did not assign a new grade"
   ]
  },
  {
   "cell_type": "markdown",
   "metadata": {},
   "source": [
    "So this is far from ideal either!"
   ]
  },
  {
   "cell_type": "markdown",
   "metadata": {},
   "source": [
    "Fortunately Python provides us a cleaner solution for this type of problem - stay tuned for the next video!"
   ]
  }
 ],
 "metadata": {
  "kernelspec": {
   "display_name": "Python 3",
   "language": "python",
   "name": "python3"
  },
  "language_info": {
   "codemirror_mode": {
    "name": "ipython",
    "version": 3
   },
   "file_extension": ".py",
   "mimetype": "text/x-python",
   "name": "python",
   "nbconvert_exporter": "python",
   "pygments_lexer": "ipython3",
   "version": "3.9.1"
  }
 },
 "nbformat": 4,
 "nbformat_minor": 4
}
