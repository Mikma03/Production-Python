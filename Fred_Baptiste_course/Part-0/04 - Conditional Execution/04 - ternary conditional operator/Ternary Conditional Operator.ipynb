{
 "cells": [
  {
   "cell_type": "markdown",
   "metadata": {},
   "source": [
    "### Ternary Conditional Operator"
   ]
  },
  {
   "cell_type": "markdown",
   "metadata": {},
   "source": [
    "As explained in the lecture, this operator takes three operands.\n",
    "\n",
    "* the condition to evaluate\n",
    "* the expression to evaluate and return if condition is `True`\n",
    "* the expression to evaluate and return if condition is `False`"
   ]
  },
  {
   "cell_type": "markdown",
   "metadata": {},
   "source": [
    "That operator is structured in such a way that it makes reading the code very intuitive."
   ]
  },
  {
   "cell_type": "markdown",
   "metadata": {},
   "source": [
    "**SoapBox Moment**: By the way, notice how I keep talking about code readability? \n",
    "That's really really important, and I will keep emphasizing this throughout this course.\n",
    "\n",
    "When you start writing a chunk of code, your first focus should be on correctness (no bugs) and readability. Maybe the code could be written more concisely, but sacrificing readability, or maybe it could be written more efficiently, but again at the cost of readability. It could... But don't fall into that trap - write your code for clarity and correctness **first**. Then later, once its working and you determine that that piece of code is a bottleneck to your overall program, then, and only then, go back and optimize it.\n",
    "\n",
    "And readability is not for the benefit of the Python compiler - it's for us, humans, who have to read the code!\n",
    "\n",
    "That's it, off my soapbox. For now at least :-)"
   ]
  },
  {
   "cell_type": "markdown",
   "metadata": {},
   "source": [
    "Let's see how the ternary conditional operator works."
   ]
  },
  {
   "cell_type": "markdown",
   "metadata": {},
   "source": [
    "Suppose we want to calculate the volume of a bid, based on the ask price of some security.\n",
    "\n",
    "We could do it this way:"
   ]
  },
  {
   "cell_type": "code",
   "execution_count": 1,
   "metadata": {},
   "outputs": [
    {
     "name": "stdout",
     "output_type": "stream",
     "text": [
      "50\n"
     ]
    }
   ],
   "source": [
    "ask_price = 100\n",
    "\n",
    "if ask_price > 50:\n",
    "    volume = 50\n",
    "else:\n",
    "    volume = 80\n",
    "    \n",
    "print(volume)"
   ]
  },
  {
   "cell_type": "markdown",
   "metadata": {},
   "source": [
    "But we can simplify this, without losing readability, as follows:"
   ]
  },
  {
   "cell_type": "code",
   "execution_count": 2,
   "metadata": {},
   "outputs": [
    {
     "name": "stdout",
     "output_type": "stream",
     "text": [
      "50\n"
     ]
    }
   ],
   "source": [
    "ask_price = 100\n",
    "\n",
    "volume = 50 if ask_price > 50 else 80\n",
    "\n",
    "print(volume)"
   ]
  },
  {
   "cell_type": "markdown",
   "metadata": {},
   "source": [
    "Of course, the \"return value\" can be any expression, not just a literal value:"
   ]
  },
  {
   "cell_type": "markdown",
   "metadata": {},
   "source": [
    "Let's say we want to find the \"distance\" between two numbers, but we forgot about the `abs()` function.\n",
    "\n",
    "We could do it this way:"
   ]
  },
  {
   "cell_type": "code",
   "execution_count": 3,
   "metadata": {},
   "outputs": [
    {
     "name": "stdout",
     "output_type": "stream",
     "text": [
      "10\n"
     ]
    }
   ],
   "source": [
    "a = 10\n",
    "b = 20\n",
    "\n",
    "distance = a - b if a >= b else b-a\n",
    "\n",
    "print(distance)"
   ]
  },
  {
   "cell_type": "code",
   "execution_count": 4,
   "metadata": {},
   "outputs": [
    {
     "name": "stdout",
     "output_type": "stream",
     "text": [
      "10\n"
     ]
    }
   ],
   "source": [
    "a = 20\n",
    "b = 10\n",
    "\n",
    "distance = a - b if a >= b else b-a\n",
    "\n",
    "print(distance)"
   ]
  },
  {
   "cell_type": "markdown",
   "metadata": {},
   "source": [
    "This ternary operator can also be very useful to deall with \"null\" values.\n",
    "\n",
    "Often when we process data, we might have some missing data that we want to replace with either a default value or some calculated value (maybe from the previous row, or the average of all the previous rows, etc)."
   ]
  },
  {
   "cell_type": "markdown",
   "metadata": {},
   "source": [
    "Suppose we are looping (iterating) through some data file and for every row we process we have the following data:\n",
    "\n",
    "- `current_value` - the value of some column in our current row. A value of `-999` indicates the value is missing.\n",
    "- `running_total` - running total of that column's values so far, possibly zero\n",
    "- `running_count` - running count of number of rows (not including current one)"
   ]
  },
  {
   "cell_type": "markdown",
   "metadata": {},
   "source": [
    "So, at some point in time we may have this data:"
   ]
  },
  {
   "cell_type": "code",
   "execution_count": 5,
   "metadata": {},
   "outputs": [],
   "source": [
    "current_value = 100\n",
    "running_total = 15000\n",
    "running_count = 125"
   ]
  },
  {
   "cell_type": "markdown",
   "metadata": {},
   "source": [
    "We then calculate the `cleaned_value` this way before we update `running_total` (and updating `running_count` would be done similarly):"
   ]
  },
  {
   "cell_type": "code",
   "execution_count": 6,
   "metadata": {},
   "outputs": [
    {
     "name": "stdout",
     "output_type": "stream",
     "text": [
      "15100\n"
     ]
    }
   ],
   "source": [
    "cleaned_value = 0 if current_value == -999 else current_value\n",
    "running_total = running_total + cleaned_value\n",
    "\n",
    "print(running_total)"
   ]
  },
  {
   "cell_type": "markdown",
   "metadata": {},
   "source": [
    "As you can see, our value was not missing, so we used it as is."
   ]
  },
  {
   "cell_type": "markdown",
   "metadata": {},
   "source": [
    "On the other hand, if the value was missing, we might have data like this:"
   ]
  },
  {
   "cell_type": "code",
   "execution_count": 7,
   "metadata": {},
   "outputs": [],
   "source": [
    "current_value = -999\n",
    "running_total = 15000\n",
    "running_count = 125"
   ]
  },
  {
   "cell_type": "markdown",
   "metadata": {},
   "source": [
    "And the same code as before would yield:"
   ]
  },
  {
   "cell_type": "code",
   "execution_count": 8,
   "metadata": {},
   "outputs": [
    {
     "name": "stdout",
     "output_type": "stream",
     "text": [
      "15000\n"
     ]
    }
   ],
   "source": [
    "cleaned_value = 0 if current_value == -999 else current_value\n",
    "running_total = running_total + cleaned_value\n",
    "\n",
    "print(running_total)"
   ]
  },
  {
   "cell_type": "markdown",
   "metadata": {},
   "source": [
    "If we wanted to avoid that `cleaned_value` temporary variable, we could re-write our code this way:"
   ]
  },
  {
   "cell_type": "code",
   "execution_count": 9,
   "metadata": {},
   "outputs": [
    {
     "name": "stdout",
     "output_type": "stream",
     "text": [
      "15000\n"
     ]
    }
   ],
   "source": [
    "running_total = running_total + (0 if current_value == -999 else current_value)\n",
    "print(running_total)"
   ]
  },
  {
   "cell_type": "markdown",
   "metadata": {},
   "source": [
    "Be careful here! the ternary conditional operator has **lower** precedence than `+`, so we **need** to use parentheses to make our code behave the way we want (first calculate the cleaned up value, and then add it to the running total)"
   ]
  },
  {
   "cell_type": "markdown",
   "metadata": {},
   "source": [
    "Keep the ternary operator in your backpocket for **simple** use cases. If it starts to get convoluted, use a regular `if...elif...else` statement!"
   ]
  },
  {
   "cell_type": "markdown",
   "metadata": {},
   "source": [
    "Later, we'll learn about functions and how we can \"hide\" that `if...elif...else` statement behind a callable function that keeps our main code still very readable."
   ]
  }
 ],
 "metadata": {
  "kernelspec": {
   "display_name": "Python 3",
   "language": "python",
   "name": "python3"
  },
  "language_info": {
   "codemirror_mode": {
    "name": "ipython",
    "version": 3
   },
   "file_extension": ".py",
   "mimetype": "text/x-python",
   "name": "python",
   "nbconvert_exporter": "python",
   "pygments_lexer": "ipython3",
   "version": "3.9.1"
  }
 },
 "nbformat": 4,
 "nbformat_minor": 4
}
