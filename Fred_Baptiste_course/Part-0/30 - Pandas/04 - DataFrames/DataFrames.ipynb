{
 "cells": [
  {
   "cell_type": "markdown",
   "metadata": {},
   "source": [
    "### DataFrames"
   ]
  },
  {
   "cell_type": "code",
   "execution_count": 1,
   "metadata": {},
   "outputs": [],
   "source": [
    "import pandas as pd\n",
    "import numpy as np"
   ]
  },
  {
   "cell_type": "markdown",
   "metadata": {},
   "source": [
    "Let's see a few ways of creating `DataFrame` objects:"
   ]
  },
  {
   "cell_type": "markdown",
   "metadata": {},
   "source": [
    "##### From a list of Series objects"
   ]
  },
  {
   "cell_type": "code",
   "execution_count": 2,
   "metadata": {},
   "outputs": [],
   "source": [
    "columns = pd.Index(\n",
    "    [\n",
    "        'The Bronx', \n",
    "        'Brooklyn', \n",
    "        'Manhattan', \n",
    "        'Queens', \n",
    "        'Staten Island'\n",
    "    ]\n",
    ")\n",
    "counties = pd.Series(\n",
    "    ['Bronx', 'Kings', 'New York', 'Queens', 'Richmond'],\n",
    "    index=columns,\n",
    "    name='county'\n",
    ")\n",
    "populations = pd.Series(\n",
    "    [1_418_207, 2_559_903, 1_628_706, 2_253_858, 476_143],\n",
    "    index = columns,\n",
    "    name='population'\n",
    ")\n",
    "gdp = pd.Series(\n",
    "    [42.695, 91.559, 600.244, 93.310, 14.514],\n",
    "    index=columns,\n",
    "    name='gdp'\n",
    ")\n",
    "areas = pd.Series(\n",
    "    [42.10, 70.82, 22.83, 108.53, 58.37],\n",
    "    index=columns,\n",
    "    name='area'\n",
    ")"
   ]
  },
  {
   "cell_type": "code",
   "execution_count": 3,
   "metadata": {},
   "outputs": [
    {
     "data": {
      "text/html": [
       "<div>\n",
       "<style scoped>\n",
       "    .dataframe tbody tr th:only-of-type {\n",
       "        vertical-align: middle;\n",
       "    }\n",
       "\n",
       "    .dataframe tbody tr th {\n",
       "        vertical-align: top;\n",
       "    }\n",
       "\n",
       "    .dataframe thead th {\n",
       "        text-align: right;\n",
       "    }\n",
       "</style>\n",
       "<table border=\"1\" class=\"dataframe\">\n",
       "  <thead>\n",
       "    <tr style=\"text-align: right;\">\n",
       "      <th></th>\n",
       "      <th>The Bronx</th>\n",
       "      <th>Brooklyn</th>\n",
       "      <th>Manhattan</th>\n",
       "      <th>Queens</th>\n",
       "      <th>Staten Island</th>\n",
       "    </tr>\n",
       "  </thead>\n",
       "  <tbody>\n",
       "    <tr>\n",
       "      <th>county</th>\n",
       "      <td>Bronx</td>\n",
       "      <td>Kings</td>\n",
       "      <td>New York</td>\n",
       "      <td>Queens</td>\n",
       "      <td>Richmond</td>\n",
       "    </tr>\n",
       "    <tr>\n",
       "      <th>population</th>\n",
       "      <td>1418207</td>\n",
       "      <td>2559903</td>\n",
       "      <td>1628706</td>\n",
       "      <td>2253858</td>\n",
       "      <td>476143</td>\n",
       "    </tr>\n",
       "    <tr>\n",
       "      <th>gdp</th>\n",
       "      <td>42.695</td>\n",
       "      <td>91.559</td>\n",
       "      <td>600.244</td>\n",
       "      <td>93.31</td>\n",
       "      <td>14.514</td>\n",
       "    </tr>\n",
       "    <tr>\n",
       "      <th>area</th>\n",
       "      <td>42.1</td>\n",
       "      <td>70.82</td>\n",
       "      <td>22.83</td>\n",
       "      <td>108.53</td>\n",
       "      <td>58.37</td>\n",
       "    </tr>\n",
       "  </tbody>\n",
       "</table>\n",
       "</div>"
      ],
      "text/plain": [
       "           The Bronx Brooklyn Manhattan   Queens Staten Island\n",
       "county         Bronx    Kings  New York   Queens      Richmond\n",
       "population   1418207  2559903   1628706  2253858        476143\n",
       "gdp           42.695   91.559   600.244    93.31        14.514\n",
       "area            42.1    70.82     22.83   108.53         58.37"
      ]
     },
     "execution_count": 3,
     "metadata": {},
     "output_type": "execute_result"
    }
   ],
   "source": [
    "new_york = pd.DataFrame([counties, populations, gdp, areas])\n",
    "new_york"
   ]
  },
  {
   "cell_type": "markdown",
   "metadata": {},
   "source": [
    "As you can see, the series names became the column \"headers\" (and in fact the explicit index for the columns), while the series had a common index that is now the row index for the data frame."
   ]
  },
  {
   "cell_type": "markdown",
   "metadata": {},
   "source": [
    "If we want, we can **transpose** the table (switch the columns and rows around):"
   ]
  },
  {
   "cell_type": "code",
   "execution_count": 4,
   "metadata": {},
   "outputs": [
    {
     "data": {
      "text/html": [
       "<div>\n",
       "<style scoped>\n",
       "    .dataframe tbody tr th:only-of-type {\n",
       "        vertical-align: middle;\n",
       "    }\n",
       "\n",
       "    .dataframe tbody tr th {\n",
       "        vertical-align: top;\n",
       "    }\n",
       "\n",
       "    .dataframe thead th {\n",
       "        text-align: right;\n",
       "    }\n",
       "</style>\n",
       "<table border=\"1\" class=\"dataframe\">\n",
       "  <thead>\n",
       "    <tr style=\"text-align: right;\">\n",
       "      <th></th>\n",
       "      <th>county</th>\n",
       "      <th>population</th>\n",
       "      <th>gdp</th>\n",
       "      <th>area</th>\n",
       "    </tr>\n",
       "  </thead>\n",
       "  <tbody>\n",
       "    <tr>\n",
       "      <th>The Bronx</th>\n",
       "      <td>Bronx</td>\n",
       "      <td>1418207</td>\n",
       "      <td>42.695</td>\n",
       "      <td>42.1</td>\n",
       "    </tr>\n",
       "    <tr>\n",
       "      <th>Brooklyn</th>\n",
       "      <td>Kings</td>\n",
       "      <td>2559903</td>\n",
       "      <td>91.559</td>\n",
       "      <td>70.82</td>\n",
       "    </tr>\n",
       "    <tr>\n",
       "      <th>Manhattan</th>\n",
       "      <td>New York</td>\n",
       "      <td>1628706</td>\n",
       "      <td>600.244</td>\n",
       "      <td>22.83</td>\n",
       "    </tr>\n",
       "    <tr>\n",
       "      <th>Queens</th>\n",
       "      <td>Queens</td>\n",
       "      <td>2253858</td>\n",
       "      <td>93.31</td>\n",
       "      <td>108.53</td>\n",
       "    </tr>\n",
       "    <tr>\n",
       "      <th>Staten Island</th>\n",
       "      <td>Richmond</td>\n",
       "      <td>476143</td>\n",
       "      <td>14.514</td>\n",
       "      <td>58.37</td>\n",
       "    </tr>\n",
       "  </tbody>\n",
       "</table>\n",
       "</div>"
      ],
      "text/plain": [
       "                 county population      gdp    area\n",
       "The Bronx         Bronx    1418207   42.695    42.1\n",
       "Brooklyn          Kings    2559903   91.559   70.82\n",
       "Manhattan      New York    1628706  600.244   22.83\n",
       "Queens           Queens    2253858    93.31  108.53\n",
       "Staten Island  Richmond     476143   14.514   58.37"
      ]
     },
     "execution_count": 4,
     "metadata": {},
     "output_type": "execute_result"
    }
   ],
   "source": [
    "new_york.transpose()"
   ]
  },
  {
   "cell_type": "markdown",
   "metadata": {},
   "source": [
    "##### From a dictionary of Series objects"
   ]
  },
  {
   "cell_type": "code",
   "execution_count": 5,
   "metadata": {},
   "outputs": [
    {
     "data": {
      "text/html": [
       "<div>\n",
       "<style scoped>\n",
       "    .dataframe tbody tr th:only-of-type {\n",
       "        vertical-align: middle;\n",
       "    }\n",
       "\n",
       "    .dataframe tbody tr th {\n",
       "        vertical-align: top;\n",
       "    }\n",
       "\n",
       "    .dataframe thead th {\n",
       "        text-align: right;\n",
       "    }\n",
       "</style>\n",
       "<table border=\"1\" class=\"dataframe\">\n",
       "  <thead>\n",
       "    <tr style=\"text-align: right;\">\n",
       "      <th></th>\n",
       "      <th>county</th>\n",
       "      <th>population</th>\n",
       "      <th>gdp</th>\n",
       "      <th>area</th>\n",
       "    </tr>\n",
       "  </thead>\n",
       "  <tbody>\n",
       "    <tr>\n",
       "      <th>The Bronx</th>\n",
       "      <td>Bronx</td>\n",
       "      <td>1418207</td>\n",
       "      <td>42.695</td>\n",
       "      <td>42.10</td>\n",
       "    </tr>\n",
       "    <tr>\n",
       "      <th>Brooklyn</th>\n",
       "      <td>Kings</td>\n",
       "      <td>2559903</td>\n",
       "      <td>91.559</td>\n",
       "      <td>70.82</td>\n",
       "    </tr>\n",
       "    <tr>\n",
       "      <th>Manhattan</th>\n",
       "      <td>New York</td>\n",
       "      <td>1628706</td>\n",
       "      <td>600.244</td>\n",
       "      <td>22.83</td>\n",
       "    </tr>\n",
       "    <tr>\n",
       "      <th>Queens</th>\n",
       "      <td>Queens</td>\n",
       "      <td>2253858</td>\n",
       "      <td>93.310</td>\n",
       "      <td>108.53</td>\n",
       "    </tr>\n",
       "    <tr>\n",
       "      <th>Staten Island</th>\n",
       "      <td>Richmond</td>\n",
       "      <td>476143</td>\n",
       "      <td>14.514</td>\n",
       "      <td>58.37</td>\n",
       "    </tr>\n",
       "  </tbody>\n",
       "</table>\n",
       "</div>"
      ],
      "text/plain": [
       "                 county  population      gdp    area\n",
       "The Bronx         Bronx     1418207   42.695   42.10\n",
       "Brooklyn          Kings     2559903   91.559   70.82\n",
       "Manhattan      New York     1628706  600.244   22.83\n",
       "Queens           Queens     2253858   93.310  108.53\n",
       "Staten Island  Richmond      476143   14.514   58.37"
      ]
     },
     "execution_count": 5,
     "metadata": {},
     "output_type": "execute_result"
    }
   ],
   "source": [
    "d = {\n",
    "    'county': counties,\n",
    "    'population': populations,\n",
    "    'gdp': gdp,\n",
    "    'area': areas\n",
    "}\n",
    "\n",
    "new_york = pd.DataFrame(d)\n",
    "new_york"
   ]
  },
  {
   "cell_type": "markdown",
   "metadata": {},
   "source": [
    "The dictionary keys became the labels for the column index in the data frame, and the rows were aligned to a common row index based on the series indexes (the burroughs)."
   ]
  },
  {
   "cell_type": "markdown",
   "metadata": {},
   "source": [
    "Again, we can transpose this table if we prefer:"
   ]
  },
  {
   "cell_type": "code",
   "execution_count": 6,
   "metadata": {},
   "outputs": [
    {
     "data": {
      "text/html": [
       "<div>\n",
       "<style scoped>\n",
       "    .dataframe tbody tr th:only-of-type {\n",
       "        vertical-align: middle;\n",
       "    }\n",
       "\n",
       "    .dataframe tbody tr th {\n",
       "        vertical-align: top;\n",
       "    }\n",
       "\n",
       "    .dataframe thead th {\n",
       "        text-align: right;\n",
       "    }\n",
       "</style>\n",
       "<table border=\"1\" class=\"dataframe\">\n",
       "  <thead>\n",
       "    <tr style=\"text-align: right;\">\n",
       "      <th></th>\n",
       "      <th>The Bronx</th>\n",
       "      <th>Brooklyn</th>\n",
       "      <th>Manhattan</th>\n",
       "      <th>Queens</th>\n",
       "      <th>Staten Island</th>\n",
       "    </tr>\n",
       "  </thead>\n",
       "  <tbody>\n",
       "    <tr>\n",
       "      <th>county</th>\n",
       "      <td>Bronx</td>\n",
       "      <td>Kings</td>\n",
       "      <td>New York</td>\n",
       "      <td>Queens</td>\n",
       "      <td>Richmond</td>\n",
       "    </tr>\n",
       "    <tr>\n",
       "      <th>population</th>\n",
       "      <td>1418207</td>\n",
       "      <td>2559903</td>\n",
       "      <td>1628706</td>\n",
       "      <td>2253858</td>\n",
       "      <td>476143</td>\n",
       "    </tr>\n",
       "    <tr>\n",
       "      <th>gdp</th>\n",
       "      <td>42.695</td>\n",
       "      <td>91.559</td>\n",
       "      <td>600.244</td>\n",
       "      <td>93.31</td>\n",
       "      <td>14.514</td>\n",
       "    </tr>\n",
       "    <tr>\n",
       "      <th>area</th>\n",
       "      <td>42.1</td>\n",
       "      <td>70.82</td>\n",
       "      <td>22.83</td>\n",
       "      <td>108.53</td>\n",
       "      <td>58.37</td>\n",
       "    </tr>\n",
       "  </tbody>\n",
       "</table>\n",
       "</div>"
      ],
      "text/plain": [
       "           The Bronx Brooklyn Manhattan   Queens Staten Island\n",
       "county         Bronx    Kings  New York   Queens      Richmond\n",
       "population   1418207  2559903   1628706  2253858        476143\n",
       "gdp           42.695   91.559   600.244    93.31        14.514\n",
       "area            42.1    70.82     22.83   108.53         58.37"
      ]
     },
     "execution_count": 6,
     "metadata": {},
     "output_type": "execute_result"
    }
   ],
   "source": [
    "new_york.transpose()"
   ]
  },
  {
   "cell_type": "markdown",
   "metadata": {},
   "source": [
    "##### From a Dictionary of Dictionaries"
   ]
  },
  {
   "cell_type": "code",
   "execution_count": 7,
   "metadata": {},
   "outputs": [
    {
     "data": {
      "text/html": [
       "<div>\n",
       "<style scoped>\n",
       "    .dataframe tbody tr th:only-of-type {\n",
       "        vertical-align: middle;\n",
       "    }\n",
       "\n",
       "    .dataframe tbody tr th {\n",
       "        vertical-align: top;\n",
       "    }\n",
       "\n",
       "    .dataframe thead th {\n",
       "        text-align: right;\n",
       "    }\n",
       "</style>\n",
       "<table border=\"1\" class=\"dataframe\">\n",
       "  <thead>\n",
       "    <tr style=\"text-align: right;\">\n",
       "      <th></th>\n",
       "      <th>county</th>\n",
       "      <th>population</th>\n",
       "      <th>gpd</th>\n",
       "      <th>area</th>\n",
       "    </tr>\n",
       "  </thead>\n",
       "  <tbody>\n",
       "    <tr>\n",
       "      <th>The Bronx</th>\n",
       "      <td>Bronx</td>\n",
       "      <td>1418207</td>\n",
       "      <td>42.695</td>\n",
       "      <td>2.10</td>\n",
       "    </tr>\n",
       "    <tr>\n",
       "      <th>Brooklyn</th>\n",
       "      <td>Kings</td>\n",
       "      <td>2559903</td>\n",
       "      <td>91.559</td>\n",
       "      <td>70.82</td>\n",
       "    </tr>\n",
       "    <tr>\n",
       "      <th>Manhattan</th>\n",
       "      <td>New York</td>\n",
       "      <td>1628706</td>\n",
       "      <td>600.244</td>\n",
       "      <td>22.83</td>\n",
       "    </tr>\n",
       "    <tr>\n",
       "      <th>Queens</th>\n",
       "      <td>Queens</td>\n",
       "      <td>2253858</td>\n",
       "      <td>93.310</td>\n",
       "      <td>108.53</td>\n",
       "    </tr>\n",
       "    <tr>\n",
       "      <th>Staten Island</th>\n",
       "      <td>Richmond</td>\n",
       "      <td>476143</td>\n",
       "      <td>14.514</td>\n",
       "      <td>58.37</td>\n",
       "    </tr>\n",
       "  </tbody>\n",
       "</table>\n",
       "</div>"
      ],
      "text/plain": [
       "                 county  population      gpd    area\n",
       "The Bronx         Bronx     1418207   42.695    2.10\n",
       "Brooklyn          Kings     2559903   91.559   70.82\n",
       "Manhattan      New York     1628706  600.244   22.83\n",
       "Queens           Queens     2253858   93.310  108.53\n",
       "Staten Island  Richmond      476143   14.514   58.37"
      ]
     },
     "execution_count": 7,
     "metadata": {},
     "output_type": "execute_result"
    }
   ],
   "source": [
    "counties = {\n",
    "    'The Bronx': 'Bronx',\n",
    "    'Brooklyn': 'Kings',\n",
    "    'Manhattan': 'New York',\n",
    "    'Queens': 'Queens',\n",
    "    'Staten Island': 'Richmond'\n",
    "}\n",
    "populations = {\n",
    "    # note how the keys are not necessarily in the same order\n",
    "    'Manhattan': 1_628_706,\n",
    "    'Queens': 2_253_858,\n",
    "    'Staten Island': 476_143,\n",
    "    'The Bronx': 1_418_207,\n",
    "    'Brooklyn': 2_559_903\n",
    "}\n",
    "gdp = {\n",
    "    'The Bronx': 42.695,\n",
    "    'Brooklyn': 91.559,\n",
    "    'Manhattan': 600.244,\n",
    "    'Queens': 93.310,\n",
    "    'Staten Island': 14.514\n",
    "}\n",
    "areas = {\n",
    "    'The Bronx': 2.10,\n",
    "    'Brooklyn': 70.82,\n",
    "    'Manhattan': 22.83,\n",
    "    'Queens': 108.53,\n",
    "    'Staten Island': 58.37\n",
    "}\n",
    "\n",
    "d = {\n",
    "    'county': counties,\n",
    "    'population': populations,\n",
    "    'gpd': gdp,\n",
    "    'area': areas\n",
    "}\n",
    "\n",
    "new_york = pd.DataFrame(d)\n",
    "new_york"
   ]
  },
  {
   "cell_type": "markdown",
   "metadata": {},
   "source": [
    "As you can see the keys of the outer dictionary became the columns of the data frame, and the items in the sub dictionaries were \"aligned\" to the same row index."
   ]
  },
  {
   "cell_type": "markdown",
   "metadata": {},
   "source": [
    "##### From a list of Dictionaries"
   ]
  },
  {
   "cell_type": "markdown",
   "metadata": {},
   "source": [
    "We can also create a data frame from a list of dictionaries, but in that case there is nothing to actually define the column index values, and the way the data is loaded is slightly different.\n",
    "\n",
    "Let's see what happens."
   ]
  },
  {
   "cell_type": "code",
   "execution_count": 8,
   "metadata": {},
   "outputs": [
    {
     "data": {
      "text/html": [
       "<div>\n",
       "<style scoped>\n",
       "    .dataframe tbody tr th:only-of-type {\n",
       "        vertical-align: middle;\n",
       "    }\n",
       "\n",
       "    .dataframe tbody tr th {\n",
       "        vertical-align: top;\n",
       "    }\n",
       "\n",
       "    .dataframe thead th {\n",
       "        text-align: right;\n",
       "    }\n",
       "</style>\n",
       "<table border=\"1\" class=\"dataframe\">\n",
       "  <thead>\n",
       "    <tr style=\"text-align: right;\">\n",
       "      <th></th>\n",
       "      <th>The Bronx</th>\n",
       "      <th>Brooklyn</th>\n",
       "      <th>Manhattan</th>\n",
       "      <th>Queens</th>\n",
       "      <th>Staten Island</th>\n",
       "    </tr>\n",
       "  </thead>\n",
       "  <tbody>\n",
       "    <tr>\n",
       "      <th>0</th>\n",
       "      <td>Bronx</td>\n",
       "      <td>Kings</td>\n",
       "      <td>New York</td>\n",
       "      <td>Queens</td>\n",
       "      <td>Richmond</td>\n",
       "    </tr>\n",
       "    <tr>\n",
       "      <th>1</th>\n",
       "      <td>1418207</td>\n",
       "      <td>2559903</td>\n",
       "      <td>1628706</td>\n",
       "      <td>2253858</td>\n",
       "      <td>476143</td>\n",
       "    </tr>\n",
       "    <tr>\n",
       "      <th>2</th>\n",
       "      <td>42.695</td>\n",
       "      <td>91.559</td>\n",
       "      <td>600.244</td>\n",
       "      <td>93.31</td>\n",
       "      <td>14.514</td>\n",
       "    </tr>\n",
       "    <tr>\n",
       "      <th>3</th>\n",
       "      <td>2.1</td>\n",
       "      <td>70.82</td>\n",
       "      <td>22.83</td>\n",
       "      <td>108.53</td>\n",
       "      <td>58.37</td>\n",
       "    </tr>\n",
       "  </tbody>\n",
       "</table>\n",
       "</div>"
      ],
      "text/plain": [
       "  The Bronx Brooklyn Manhattan   Queens Staten Island\n",
       "0     Bronx    Kings  New York   Queens      Richmond\n",
       "1   1418207  2559903   1628706  2253858        476143\n",
       "2    42.695   91.559   600.244    93.31        14.514\n",
       "3       2.1    70.82     22.83   108.53         58.37"
      ]
     },
     "execution_count": 8,
     "metadata": {},
     "output_type": "execute_result"
    }
   ],
   "source": [
    "new_york = pd.DataFrame([counties, populations, gdp, areas])\n",
    "new_york"
   ]
  },
  {
   "cell_type": "markdown",
   "metadata": {},
   "source": [
    "Notice how we did not have anything to define the row indices here, so we ended up with a default explicit index based on the position of each row."
   ]
  },
  {
   "cell_type": "markdown",
   "metadata": {},
   "source": [
    "We can rename the row indices (the labels), using the `rename()` method where we specify the old label and the new label using a dictionary:"
   ]
  },
  {
   "cell_type": "code",
   "execution_count": 9,
   "metadata": {},
   "outputs": [
    {
     "data": {
      "text/html": [
       "<div>\n",
       "<style scoped>\n",
       "    .dataframe tbody tr th:only-of-type {\n",
       "        vertical-align: middle;\n",
       "    }\n",
       "\n",
       "    .dataframe tbody tr th {\n",
       "        vertical-align: top;\n",
       "    }\n",
       "\n",
       "    .dataframe thead th {\n",
       "        text-align: right;\n",
       "    }\n",
       "</style>\n",
       "<table border=\"1\" class=\"dataframe\">\n",
       "  <thead>\n",
       "    <tr style=\"text-align: right;\">\n",
       "      <th></th>\n",
       "      <th>The Bronx</th>\n",
       "      <th>Brooklyn</th>\n",
       "      <th>Manhattan</th>\n",
       "      <th>Queens</th>\n",
       "      <th>Staten Island</th>\n",
       "    </tr>\n",
       "  </thead>\n",
       "  <tbody>\n",
       "    <tr>\n",
       "      <th>county</th>\n",
       "      <td>Bronx</td>\n",
       "      <td>Kings</td>\n",
       "      <td>New York</td>\n",
       "      <td>Queens</td>\n",
       "      <td>Richmond</td>\n",
       "    </tr>\n",
       "    <tr>\n",
       "      <th>population</th>\n",
       "      <td>1418207</td>\n",
       "      <td>2559903</td>\n",
       "      <td>1628706</td>\n",
       "      <td>2253858</td>\n",
       "      <td>476143</td>\n",
       "    </tr>\n",
       "    <tr>\n",
       "      <th>gdp</th>\n",
       "      <td>42.695</td>\n",
       "      <td>91.559</td>\n",
       "      <td>600.244</td>\n",
       "      <td>93.31</td>\n",
       "      <td>14.514</td>\n",
       "    </tr>\n",
       "    <tr>\n",
       "      <th>area</th>\n",
       "      <td>2.1</td>\n",
       "      <td>70.82</td>\n",
       "      <td>22.83</td>\n",
       "      <td>108.53</td>\n",
       "      <td>58.37</td>\n",
       "    </tr>\n",
       "  </tbody>\n",
       "</table>\n",
       "</div>"
      ],
      "text/plain": [
       "           The Bronx Brooklyn Manhattan   Queens Staten Island\n",
       "county         Bronx    Kings  New York   Queens      Richmond\n",
       "population   1418207  2559903   1628706  2253858        476143\n",
       "gdp           42.695   91.559   600.244    93.31        14.514\n",
       "area             2.1    70.82     22.83   108.53         58.37"
      ]
     },
     "execution_count": 9,
     "metadata": {},
     "output_type": "execute_result"
    }
   ],
   "source": [
    "new_york.rename(index={0: 'county', 1: 'population', 2: 'gdp', 3: 'area'})"
   ]
  },
  {
   "cell_type": "markdown",
   "metadata": {},
   "source": [
    "We could now transpose this matrix if we wanted to as well:"
   ]
  },
  {
   "cell_type": "code",
   "execution_count": 10,
   "metadata": {},
   "outputs": [
    {
     "data": {
      "text/html": [
       "<div>\n",
       "<style scoped>\n",
       "    .dataframe tbody tr th:only-of-type {\n",
       "        vertical-align: middle;\n",
       "    }\n",
       "\n",
       "    .dataframe tbody tr th {\n",
       "        vertical-align: top;\n",
       "    }\n",
       "\n",
       "    .dataframe thead th {\n",
       "        text-align: right;\n",
       "    }\n",
       "</style>\n",
       "<table border=\"1\" class=\"dataframe\">\n",
       "  <thead>\n",
       "    <tr style=\"text-align: right;\">\n",
       "      <th></th>\n",
       "      <th>county</th>\n",
       "      <th>population</th>\n",
       "      <th>gdp</th>\n",
       "      <th>area</th>\n",
       "    </tr>\n",
       "  </thead>\n",
       "  <tbody>\n",
       "    <tr>\n",
       "      <th>The Bronx</th>\n",
       "      <td>Bronx</td>\n",
       "      <td>1418207</td>\n",
       "      <td>42.695</td>\n",
       "      <td>2.1</td>\n",
       "    </tr>\n",
       "    <tr>\n",
       "      <th>Brooklyn</th>\n",
       "      <td>Kings</td>\n",
       "      <td>2559903</td>\n",
       "      <td>91.559</td>\n",
       "      <td>70.82</td>\n",
       "    </tr>\n",
       "    <tr>\n",
       "      <th>Manhattan</th>\n",
       "      <td>New York</td>\n",
       "      <td>1628706</td>\n",
       "      <td>600.244</td>\n",
       "      <td>22.83</td>\n",
       "    </tr>\n",
       "    <tr>\n",
       "      <th>Queens</th>\n",
       "      <td>Queens</td>\n",
       "      <td>2253858</td>\n",
       "      <td>93.31</td>\n",
       "      <td>108.53</td>\n",
       "    </tr>\n",
       "    <tr>\n",
       "      <th>Staten Island</th>\n",
       "      <td>Richmond</td>\n",
       "      <td>476143</td>\n",
       "      <td>14.514</td>\n",
       "      <td>58.37</td>\n",
       "    </tr>\n",
       "  </tbody>\n",
       "</table>\n",
       "</div>"
      ],
      "text/plain": [
       "                 county population      gdp    area\n",
       "The Bronx         Bronx    1418207   42.695     2.1\n",
       "Brooklyn          Kings    2559903   91.559   70.82\n",
       "Manhattan      New York    1628706  600.244   22.83\n",
       "Queens           Queens    2253858    93.31  108.53\n",
       "Staten Island  Richmond     476143   14.514   58.37"
      ]
     },
     "execution_count": 10,
     "metadata": {},
     "output_type": "execute_result"
    }
   ],
   "source": [
    "new_york.rename(\n",
    "    index={0: 'county', 1: 'population', 2: 'gdp', 3: 'area'}\n",
    ").transpose()"
   ]
  },
  {
   "cell_type": "markdown",
   "metadata": {},
   "source": [
    "We could also transpose the data first:"
   ]
  },
  {
   "cell_type": "code",
   "execution_count": 11,
   "metadata": {},
   "outputs": [
    {
     "data": {
      "text/html": [
       "<div>\n",
       "<style scoped>\n",
       "    .dataframe tbody tr th:only-of-type {\n",
       "        vertical-align: middle;\n",
       "    }\n",
       "\n",
       "    .dataframe tbody tr th {\n",
       "        vertical-align: top;\n",
       "    }\n",
       "\n",
       "    .dataframe thead th {\n",
       "        text-align: right;\n",
       "    }\n",
       "</style>\n",
       "<table border=\"1\" class=\"dataframe\">\n",
       "  <thead>\n",
       "    <tr style=\"text-align: right;\">\n",
       "      <th></th>\n",
       "      <th>The Bronx</th>\n",
       "      <th>Brooklyn</th>\n",
       "      <th>Manhattan</th>\n",
       "      <th>Queens</th>\n",
       "      <th>Staten Island</th>\n",
       "    </tr>\n",
       "  </thead>\n",
       "  <tbody>\n",
       "    <tr>\n",
       "      <th>0</th>\n",
       "      <td>Bronx</td>\n",
       "      <td>Kings</td>\n",
       "      <td>New York</td>\n",
       "      <td>Queens</td>\n",
       "      <td>Richmond</td>\n",
       "    </tr>\n",
       "    <tr>\n",
       "      <th>1</th>\n",
       "      <td>1418207</td>\n",
       "      <td>2559903</td>\n",
       "      <td>1628706</td>\n",
       "      <td>2253858</td>\n",
       "      <td>476143</td>\n",
       "    </tr>\n",
       "    <tr>\n",
       "      <th>2</th>\n",
       "      <td>42.695</td>\n",
       "      <td>91.559</td>\n",
       "      <td>600.244</td>\n",
       "      <td>93.31</td>\n",
       "      <td>14.514</td>\n",
       "    </tr>\n",
       "    <tr>\n",
       "      <th>3</th>\n",
       "      <td>2.1</td>\n",
       "      <td>70.82</td>\n",
       "      <td>22.83</td>\n",
       "      <td>108.53</td>\n",
       "      <td>58.37</td>\n",
       "    </tr>\n",
       "  </tbody>\n",
       "</table>\n",
       "</div>"
      ],
      "text/plain": [
       "  The Bronx Brooklyn Manhattan   Queens Staten Island\n",
       "0     Bronx    Kings  New York   Queens      Richmond\n",
       "1   1418207  2559903   1628706  2253858        476143\n",
       "2    42.695   91.559   600.244    93.31        14.514\n",
       "3       2.1    70.82     22.83   108.53         58.37"
      ]
     },
     "execution_count": 11,
     "metadata": {},
     "output_type": "execute_result"
    }
   ],
   "source": [
    "new_york"
   ]
  },
  {
   "cell_type": "code",
   "execution_count": 12,
   "metadata": {},
   "outputs": [
    {
     "data": {
      "text/html": [
       "<div>\n",
       "<style scoped>\n",
       "    .dataframe tbody tr th:only-of-type {\n",
       "        vertical-align: middle;\n",
       "    }\n",
       "\n",
       "    .dataframe tbody tr th {\n",
       "        vertical-align: top;\n",
       "    }\n",
       "\n",
       "    .dataframe thead th {\n",
       "        text-align: right;\n",
       "    }\n",
       "</style>\n",
       "<table border=\"1\" class=\"dataframe\">\n",
       "  <thead>\n",
       "    <tr style=\"text-align: right;\">\n",
       "      <th></th>\n",
       "      <th>0</th>\n",
       "      <th>1</th>\n",
       "      <th>2</th>\n",
       "      <th>3</th>\n",
       "    </tr>\n",
       "  </thead>\n",
       "  <tbody>\n",
       "    <tr>\n",
       "      <th>The Bronx</th>\n",
       "      <td>Bronx</td>\n",
       "      <td>1418207</td>\n",
       "      <td>42.695</td>\n",
       "      <td>2.1</td>\n",
       "    </tr>\n",
       "    <tr>\n",
       "      <th>Brooklyn</th>\n",
       "      <td>Kings</td>\n",
       "      <td>2559903</td>\n",
       "      <td>91.559</td>\n",
       "      <td>70.82</td>\n",
       "    </tr>\n",
       "    <tr>\n",
       "      <th>Manhattan</th>\n",
       "      <td>New York</td>\n",
       "      <td>1628706</td>\n",
       "      <td>600.244</td>\n",
       "      <td>22.83</td>\n",
       "    </tr>\n",
       "    <tr>\n",
       "      <th>Queens</th>\n",
       "      <td>Queens</td>\n",
       "      <td>2253858</td>\n",
       "      <td>93.31</td>\n",
       "      <td>108.53</td>\n",
       "    </tr>\n",
       "    <tr>\n",
       "      <th>Staten Island</th>\n",
       "      <td>Richmond</td>\n",
       "      <td>476143</td>\n",
       "      <td>14.514</td>\n",
       "      <td>58.37</td>\n",
       "    </tr>\n",
       "  </tbody>\n",
       "</table>\n",
       "</div>"
      ],
      "text/plain": [
       "                      0        1        2       3\n",
       "The Bronx         Bronx  1418207   42.695     2.1\n",
       "Brooklyn          Kings  2559903   91.559   70.82\n",
       "Manhattan      New York  1628706  600.244   22.83\n",
       "Queens           Queens  2253858    93.31  108.53\n",
       "Staten Island  Richmond   476143   14.514   58.37"
      ]
     },
     "execution_count": 12,
     "metadata": {},
     "output_type": "execute_result"
    }
   ],
   "source": [
    "new_york = new_york.transpose()\n",
    "new_york"
   ]
  },
  {
   "cell_type": "markdown",
   "metadata": {},
   "source": [
    "And now we have to change the labels on the column index, again with the `rename` method:"
   ]
  },
  {
   "cell_type": "code",
   "execution_count": 13,
   "metadata": {},
   "outputs": [
    {
     "data": {
      "text/html": [
       "<div>\n",
       "<style scoped>\n",
       "    .dataframe tbody tr th:only-of-type {\n",
       "        vertical-align: middle;\n",
       "    }\n",
       "\n",
       "    .dataframe tbody tr th {\n",
       "        vertical-align: top;\n",
       "    }\n",
       "\n",
       "    .dataframe thead th {\n",
       "        text-align: right;\n",
       "    }\n",
       "</style>\n",
       "<table border=\"1\" class=\"dataframe\">\n",
       "  <thead>\n",
       "    <tr style=\"text-align: right;\">\n",
       "      <th></th>\n",
       "      <th>county</th>\n",
       "      <th>population</th>\n",
       "      <th>gpd</th>\n",
       "      <th>area</th>\n",
       "    </tr>\n",
       "  </thead>\n",
       "  <tbody>\n",
       "    <tr>\n",
       "      <th>The Bronx</th>\n",
       "      <td>Bronx</td>\n",
       "      <td>1418207</td>\n",
       "      <td>42.695</td>\n",
       "      <td>2.1</td>\n",
       "    </tr>\n",
       "    <tr>\n",
       "      <th>Brooklyn</th>\n",
       "      <td>Kings</td>\n",
       "      <td>2559903</td>\n",
       "      <td>91.559</td>\n",
       "      <td>70.82</td>\n",
       "    </tr>\n",
       "    <tr>\n",
       "      <th>Manhattan</th>\n",
       "      <td>New York</td>\n",
       "      <td>1628706</td>\n",
       "      <td>600.244</td>\n",
       "      <td>22.83</td>\n",
       "    </tr>\n",
       "    <tr>\n",
       "      <th>Queens</th>\n",
       "      <td>Queens</td>\n",
       "      <td>2253858</td>\n",
       "      <td>93.31</td>\n",
       "      <td>108.53</td>\n",
       "    </tr>\n",
       "    <tr>\n",
       "      <th>Staten Island</th>\n",
       "      <td>Richmond</td>\n",
       "      <td>476143</td>\n",
       "      <td>14.514</td>\n",
       "      <td>58.37</td>\n",
       "    </tr>\n",
       "  </tbody>\n",
       "</table>\n",
       "</div>"
      ],
      "text/plain": [
       "                 county population      gpd    area\n",
       "The Bronx         Bronx    1418207   42.695     2.1\n",
       "Brooklyn          Kings    2559903   91.559   70.82\n",
       "Manhattan      New York    1628706  600.244   22.83\n",
       "Queens           Queens    2253858    93.31  108.53\n",
       "Staten Island  Richmond     476143   14.514   58.37"
      ]
     },
     "execution_count": 13,
     "metadata": {},
     "output_type": "execute_result"
    }
   ],
   "source": [
    "new_york = new_york.rename(\n",
    "    columns={0: 'county', 1: 'population', 2: 'gpd', 3: 'area'}\n",
    ")\n",
    "new_york"
   ]
  },
  {
   "cell_type": "markdown",
   "metadata": {},
   "source": [
    "##### From a list of lists"
   ]
  },
  {
   "cell_type": "markdown",
   "metadata": {},
   "source": [
    "In this example, our data is formatted as a list of lists: "
   ]
  },
  {
   "cell_type": "code",
   "execution_count": 14,
   "metadata": {},
   "outputs": [],
   "source": [
    "burroughs = ['The Bronx', 'Brooklyn', 'Manhattan', 'Queens', 'Staten Island']\n",
    "counties = ['Bronx', 'Kings', 'New York', 'Queens', 'Richmond']\n",
    "populations = [1_418_207, 2_559_903, 1_628_706, 2_253_858, 476_143]\n",
    "gdp = [42.695, 91.559, 600.244, 93.310, 14.514]\n",
    "areas = [42.10, 70.82, 22.83, 108.53, 58.37]"
   ]
  },
  {
   "cell_type": "code",
   "execution_count": 15,
   "metadata": {},
   "outputs": [
    {
     "data": {
      "text/plain": [
       "[['The Bronx', 'Brooklyn', 'Manhattan', 'Queens', 'Staten Island'],\n",
       " ['Bronx', 'Kings', 'New York', 'Queens', 'Richmond'],\n",
       " [1418207, 2559903, 1628706, 2253858, 476143],\n",
       " [42.695, 91.559, 600.244, 93.31, 14.514],\n",
       " [42.1, 70.82, 22.83, 108.53, 58.37]]"
      ]
     },
     "execution_count": 15,
     "metadata": {},
     "output_type": "execute_result"
    }
   ],
   "source": [
    "data = [burroughs, counties, populations, gdp, areas]\n",
    "data"
   ]
  },
  {
   "cell_type": "markdown",
   "metadata": {},
   "source": [
    "We can load it all up in a data frame:"
   ]
  },
  {
   "cell_type": "code",
   "execution_count": 16,
   "metadata": {},
   "outputs": [
    {
     "data": {
      "text/html": [
       "<div>\n",
       "<style scoped>\n",
       "    .dataframe tbody tr th:only-of-type {\n",
       "        vertical-align: middle;\n",
       "    }\n",
       "\n",
       "    .dataframe tbody tr th {\n",
       "        vertical-align: top;\n",
       "    }\n",
       "\n",
       "    .dataframe thead th {\n",
       "        text-align: right;\n",
       "    }\n",
       "</style>\n",
       "<table border=\"1\" class=\"dataframe\">\n",
       "  <thead>\n",
       "    <tr style=\"text-align: right;\">\n",
       "      <th></th>\n",
       "      <th>0</th>\n",
       "      <th>1</th>\n",
       "      <th>2</th>\n",
       "      <th>3</th>\n",
       "      <th>4</th>\n",
       "    </tr>\n",
       "  </thead>\n",
       "  <tbody>\n",
       "    <tr>\n",
       "      <th>burroughs</th>\n",
       "      <td>The Bronx</td>\n",
       "      <td>Brooklyn</td>\n",
       "      <td>Manhattan</td>\n",
       "      <td>Queens</td>\n",
       "      <td>Staten Island</td>\n",
       "    </tr>\n",
       "    <tr>\n",
       "      <th>county</th>\n",
       "      <td>Bronx</td>\n",
       "      <td>Kings</td>\n",
       "      <td>New York</td>\n",
       "      <td>Queens</td>\n",
       "      <td>Richmond</td>\n",
       "    </tr>\n",
       "    <tr>\n",
       "      <th>population</th>\n",
       "      <td>1418207</td>\n",
       "      <td>2559903</td>\n",
       "      <td>1628706</td>\n",
       "      <td>2253858</td>\n",
       "      <td>476143</td>\n",
       "    </tr>\n",
       "    <tr>\n",
       "      <th>gdp</th>\n",
       "      <td>42.695</td>\n",
       "      <td>91.559</td>\n",
       "      <td>600.244</td>\n",
       "      <td>93.31</td>\n",
       "      <td>14.514</td>\n",
       "    </tr>\n",
       "    <tr>\n",
       "      <th>area</th>\n",
       "      <td>42.1</td>\n",
       "      <td>70.82</td>\n",
       "      <td>22.83</td>\n",
       "      <td>108.53</td>\n",
       "      <td>58.37</td>\n",
       "    </tr>\n",
       "  </tbody>\n",
       "</table>\n",
       "</div>"
      ],
      "text/plain": [
       "                    0         1          2        3              4\n",
       "burroughs   The Bronx  Brooklyn  Manhattan   Queens  Staten Island\n",
       "county          Bronx     Kings   New York   Queens       Richmond\n",
       "population    1418207   2559903    1628706  2253858         476143\n",
       "gdp            42.695    91.559    600.244    93.31         14.514\n",
       "area             42.1     70.82      22.83   108.53          58.37"
      ]
     },
     "execution_count": 16,
     "metadata": {},
     "output_type": "execute_result"
    }
   ],
   "source": [
    "new_york = pd.DataFrame(\n",
    "    data, \n",
    "    index=['burroughs', 'county', 'population', 'gdp', 'area']\n",
    ")\n",
    "new_york"
   ]
  },
  {
   "cell_type": "markdown",
   "metadata": {},
   "source": [
    "Here I'm going to transpose the table first:"
   ]
  },
  {
   "cell_type": "code",
   "execution_count": 17,
   "metadata": {},
   "outputs": [
    {
     "data": {
      "text/html": [
       "<div>\n",
       "<style scoped>\n",
       "    .dataframe tbody tr th:only-of-type {\n",
       "        vertical-align: middle;\n",
       "    }\n",
       "\n",
       "    .dataframe tbody tr th {\n",
       "        vertical-align: top;\n",
       "    }\n",
       "\n",
       "    .dataframe thead th {\n",
       "        text-align: right;\n",
       "    }\n",
       "</style>\n",
       "<table border=\"1\" class=\"dataframe\">\n",
       "  <thead>\n",
       "    <tr style=\"text-align: right;\">\n",
       "      <th></th>\n",
       "      <th>burroughs</th>\n",
       "      <th>county</th>\n",
       "      <th>population</th>\n",
       "      <th>gdp</th>\n",
       "      <th>area</th>\n",
       "    </tr>\n",
       "  </thead>\n",
       "  <tbody>\n",
       "    <tr>\n",
       "      <th>0</th>\n",
       "      <td>The Bronx</td>\n",
       "      <td>Bronx</td>\n",
       "      <td>1418207</td>\n",
       "      <td>42.695</td>\n",
       "      <td>42.1</td>\n",
       "    </tr>\n",
       "    <tr>\n",
       "      <th>1</th>\n",
       "      <td>Brooklyn</td>\n",
       "      <td>Kings</td>\n",
       "      <td>2559903</td>\n",
       "      <td>91.559</td>\n",
       "      <td>70.82</td>\n",
       "    </tr>\n",
       "    <tr>\n",
       "      <th>2</th>\n",
       "      <td>Manhattan</td>\n",
       "      <td>New York</td>\n",
       "      <td>1628706</td>\n",
       "      <td>600.244</td>\n",
       "      <td>22.83</td>\n",
       "    </tr>\n",
       "    <tr>\n",
       "      <th>3</th>\n",
       "      <td>Queens</td>\n",
       "      <td>Queens</td>\n",
       "      <td>2253858</td>\n",
       "      <td>93.31</td>\n",
       "      <td>108.53</td>\n",
       "    </tr>\n",
       "    <tr>\n",
       "      <th>4</th>\n",
       "      <td>Staten Island</td>\n",
       "      <td>Richmond</td>\n",
       "      <td>476143</td>\n",
       "      <td>14.514</td>\n",
       "      <td>58.37</td>\n",
       "    </tr>\n",
       "  </tbody>\n",
       "</table>\n",
       "</div>"
      ],
      "text/plain": [
       "       burroughs    county population      gdp    area\n",
       "0      The Bronx     Bronx    1418207   42.695    42.1\n",
       "1       Brooklyn     Kings    2559903   91.559   70.82\n",
       "2      Manhattan  New York    1628706  600.244   22.83\n",
       "3         Queens    Queens    2253858    93.31  108.53\n",
       "4  Staten Island  Richmond     476143   14.514   58.37"
      ]
     },
     "execution_count": 17,
     "metadata": {},
     "output_type": "execute_result"
    }
   ],
   "source": [
    "new_york = new_york.transpose()\n",
    "new_york"
   ]
  },
  {
   "cell_type": "markdown",
   "metadata": {},
   "source": [
    "You'll notice that our row index is based on positional values - instead we really want the row index to be based on the burrough names."
   ]
  },
  {
   "cell_type": "markdown",
   "metadata": {},
   "source": [
    "But since, the burroughs is already a column in our data frame, we can actually set the index using that column, via the `set_index()` method on the data frame - this essentially allows us to pick an existing column to become the row index:"
   ]
  },
  {
   "cell_type": "code",
   "execution_count": 18,
   "metadata": {},
   "outputs": [
    {
     "data": {
      "text/html": [
       "<div>\n",
       "<style scoped>\n",
       "    .dataframe tbody tr th:only-of-type {\n",
       "        vertical-align: middle;\n",
       "    }\n",
       "\n",
       "    .dataframe tbody tr th {\n",
       "        vertical-align: top;\n",
       "    }\n",
       "\n",
       "    .dataframe thead th {\n",
       "        text-align: right;\n",
       "    }\n",
       "</style>\n",
       "<table border=\"1\" class=\"dataframe\">\n",
       "  <thead>\n",
       "    <tr style=\"text-align: right;\">\n",
       "      <th></th>\n",
       "      <th>county</th>\n",
       "      <th>population</th>\n",
       "      <th>gdp</th>\n",
       "      <th>area</th>\n",
       "    </tr>\n",
       "    <tr>\n",
       "      <th>burroughs</th>\n",
       "      <th></th>\n",
       "      <th></th>\n",
       "      <th></th>\n",
       "      <th></th>\n",
       "    </tr>\n",
       "  </thead>\n",
       "  <tbody>\n",
       "    <tr>\n",
       "      <th>The Bronx</th>\n",
       "      <td>Bronx</td>\n",
       "      <td>1418207</td>\n",
       "      <td>42.695</td>\n",
       "      <td>42.1</td>\n",
       "    </tr>\n",
       "    <tr>\n",
       "      <th>Brooklyn</th>\n",
       "      <td>Kings</td>\n",
       "      <td>2559903</td>\n",
       "      <td>91.559</td>\n",
       "      <td>70.82</td>\n",
       "    </tr>\n",
       "    <tr>\n",
       "      <th>Manhattan</th>\n",
       "      <td>New York</td>\n",
       "      <td>1628706</td>\n",
       "      <td>600.244</td>\n",
       "      <td>22.83</td>\n",
       "    </tr>\n",
       "    <tr>\n",
       "      <th>Queens</th>\n",
       "      <td>Queens</td>\n",
       "      <td>2253858</td>\n",
       "      <td>93.31</td>\n",
       "      <td>108.53</td>\n",
       "    </tr>\n",
       "    <tr>\n",
       "      <th>Staten Island</th>\n",
       "      <td>Richmond</td>\n",
       "      <td>476143</td>\n",
       "      <td>14.514</td>\n",
       "      <td>58.37</td>\n",
       "    </tr>\n",
       "  </tbody>\n",
       "</table>\n",
       "</div>"
      ],
      "text/plain": [
       "                 county population      gdp    area\n",
       "burroughs                                          \n",
       "The Bronx         Bronx    1418207   42.695    42.1\n",
       "Brooklyn          Kings    2559903   91.559   70.82\n",
       "Manhattan      New York    1628706  600.244   22.83\n",
       "Queens           Queens    2253858    93.31  108.53\n",
       "Staten Island  Richmond     476143   14.514   58.37"
      ]
     },
     "execution_count": 18,
     "metadata": {},
     "output_type": "execute_result"
    }
   ],
   "source": [
    "new_york.set_index('burroughs')"
   ]
  },
  {
   "cell_type": "markdown",
   "metadata": {},
   "source": [
    "We could have picked any column to use as the row indices:"
   ]
  },
  {
   "cell_type": "code",
   "execution_count": 19,
   "metadata": {},
   "outputs": [
    {
     "data": {
      "text/html": [
       "<div>\n",
       "<style scoped>\n",
       "    .dataframe tbody tr th:only-of-type {\n",
       "        vertical-align: middle;\n",
       "    }\n",
       "\n",
       "    .dataframe tbody tr th {\n",
       "        vertical-align: top;\n",
       "    }\n",
       "\n",
       "    .dataframe thead th {\n",
       "        text-align: right;\n",
       "    }\n",
       "</style>\n",
       "<table border=\"1\" class=\"dataframe\">\n",
       "  <thead>\n",
       "    <tr style=\"text-align: right;\">\n",
       "      <th></th>\n",
       "      <th>burroughs</th>\n",
       "      <th>population</th>\n",
       "      <th>gdp</th>\n",
       "      <th>area</th>\n",
       "    </tr>\n",
       "    <tr>\n",
       "      <th>county</th>\n",
       "      <th></th>\n",
       "      <th></th>\n",
       "      <th></th>\n",
       "      <th></th>\n",
       "    </tr>\n",
       "  </thead>\n",
       "  <tbody>\n",
       "    <tr>\n",
       "      <th>Bronx</th>\n",
       "      <td>The Bronx</td>\n",
       "      <td>1418207</td>\n",
       "      <td>42.695</td>\n",
       "      <td>42.1</td>\n",
       "    </tr>\n",
       "    <tr>\n",
       "      <th>Kings</th>\n",
       "      <td>Brooklyn</td>\n",
       "      <td>2559903</td>\n",
       "      <td>91.559</td>\n",
       "      <td>70.82</td>\n",
       "    </tr>\n",
       "    <tr>\n",
       "      <th>New York</th>\n",
       "      <td>Manhattan</td>\n",
       "      <td>1628706</td>\n",
       "      <td>600.244</td>\n",
       "      <td>22.83</td>\n",
       "    </tr>\n",
       "    <tr>\n",
       "      <th>Queens</th>\n",
       "      <td>Queens</td>\n",
       "      <td>2253858</td>\n",
       "      <td>93.31</td>\n",
       "      <td>108.53</td>\n",
       "    </tr>\n",
       "    <tr>\n",
       "      <th>Richmond</th>\n",
       "      <td>Staten Island</td>\n",
       "      <td>476143</td>\n",
       "      <td>14.514</td>\n",
       "      <td>58.37</td>\n",
       "    </tr>\n",
       "  </tbody>\n",
       "</table>\n",
       "</div>"
      ],
      "text/plain": [
       "              burroughs population      gdp    area\n",
       "county                                             \n",
       "Bronx         The Bronx    1418207   42.695    42.1\n",
       "Kings          Brooklyn    2559903   91.559   70.82\n",
       "New York      Manhattan    1628706  600.244   22.83\n",
       "Queens           Queens    2253858    93.31  108.53\n",
       "Richmond  Staten Island     476143   14.514   58.37"
      ]
     },
     "execution_count": 19,
     "metadata": {},
     "output_type": "execute_result"
    }
   ],
   "source": [
    "new_york.set_index('county')"
   ]
  },
  {
   "cell_type": "markdown",
   "metadata": {},
   "source": [
    "#### DataFrame Properties"
   ]
  },
  {
   "cell_type": "markdown",
   "metadata": {},
   "source": [
    "Notice that title above the index? That's the index name that Pandas automatically sets based on the column name we used to set the new index."
   ]
  },
  {
   "cell_type": "code",
   "execution_count": 20,
   "metadata": {},
   "outputs": [
    {
     "data": {
      "text/html": [
       "<div>\n",
       "<style scoped>\n",
       "    .dataframe tbody tr th:only-of-type {\n",
       "        vertical-align: middle;\n",
       "    }\n",
       "\n",
       "    .dataframe tbody tr th {\n",
       "        vertical-align: top;\n",
       "    }\n",
       "\n",
       "    .dataframe thead th {\n",
       "        text-align: right;\n",
       "    }\n",
       "</style>\n",
       "<table border=\"1\" class=\"dataframe\">\n",
       "  <thead>\n",
       "    <tr style=\"text-align: right;\">\n",
       "      <th></th>\n",
       "      <th>county</th>\n",
       "      <th>population</th>\n",
       "      <th>gdp</th>\n",
       "      <th>area</th>\n",
       "    </tr>\n",
       "    <tr>\n",
       "      <th>burroughs</th>\n",
       "      <th></th>\n",
       "      <th></th>\n",
       "      <th></th>\n",
       "      <th></th>\n",
       "    </tr>\n",
       "  </thead>\n",
       "  <tbody>\n",
       "    <tr>\n",
       "      <th>The Bronx</th>\n",
       "      <td>Bronx</td>\n",
       "      <td>1418207</td>\n",
       "      <td>42.695</td>\n",
       "      <td>42.1</td>\n",
       "    </tr>\n",
       "    <tr>\n",
       "      <th>Brooklyn</th>\n",
       "      <td>Kings</td>\n",
       "      <td>2559903</td>\n",
       "      <td>91.559</td>\n",
       "      <td>70.82</td>\n",
       "    </tr>\n",
       "    <tr>\n",
       "      <th>Manhattan</th>\n",
       "      <td>New York</td>\n",
       "      <td>1628706</td>\n",
       "      <td>600.244</td>\n",
       "      <td>22.83</td>\n",
       "    </tr>\n",
       "    <tr>\n",
       "      <th>Queens</th>\n",
       "      <td>Queens</td>\n",
       "      <td>2253858</td>\n",
       "      <td>93.31</td>\n",
       "      <td>108.53</td>\n",
       "    </tr>\n",
       "    <tr>\n",
       "      <th>Staten Island</th>\n",
       "      <td>Richmond</td>\n",
       "      <td>476143</td>\n",
       "      <td>14.514</td>\n",
       "      <td>58.37</td>\n",
       "    </tr>\n",
       "  </tbody>\n",
       "</table>\n",
       "</div>"
      ],
      "text/plain": [
       "                 county population      gdp    area\n",
       "burroughs                                          \n",
       "The Bronx         Bronx    1418207   42.695    42.1\n",
       "Brooklyn          Kings    2559903   91.559   70.82\n",
       "Manhattan      New York    1628706  600.244   22.83\n",
       "Queens           Queens    2253858    93.31  108.53\n",
       "Staten Island  Richmond     476143   14.514   58.37"
      ]
     },
     "execution_count": 20,
     "metadata": {},
     "output_type": "execute_result"
    }
   ],
   "source": [
    "new_york = new_york.set_index('burroughs')\n",
    "new_york"
   ]
  },
  {
   "cell_type": "markdown",
   "metadata": {},
   "source": [
    "We can get the row index using the `index` property:"
   ]
  },
  {
   "cell_type": "code",
   "execution_count": 21,
   "metadata": {},
   "outputs": [
    {
     "data": {
      "text/plain": [
       "Index(['The Bronx', 'Brooklyn', 'Manhattan', 'Queens', 'Staten Island'], dtype='object', name='burroughs')"
      ]
     },
     "execution_count": 21,
     "metadata": {},
     "output_type": "execute_result"
    }
   ],
   "source": [
    "new_york.index"
   ]
  },
  {
   "cell_type": "markdown",
   "metadata": {},
   "source": [
    "And we can get the column index using the `columns` property:"
   ]
  },
  {
   "cell_type": "code",
   "execution_count": 22,
   "metadata": {},
   "outputs": [
    {
     "data": {
      "text/plain": [
       "Index(['county', 'population', 'gdp', 'area'], dtype='object')"
      ]
     },
     "execution_count": 22,
     "metadata": {},
     "output_type": "execute_result"
    }
   ],
   "source": [
    "new_york.columns"
   ]
  },
  {
   "cell_type": "markdown",
   "metadata": {},
   "source": [
    "If we wanted to, we could change the name property of either index:"
   ]
  },
  {
   "cell_type": "code",
   "execution_count": 23,
   "metadata": {},
   "outputs": [
    {
     "data": {
      "text/html": [
       "<div>\n",
       "<style scoped>\n",
       "    .dataframe tbody tr th:only-of-type {\n",
       "        vertical-align: middle;\n",
       "    }\n",
       "\n",
       "    .dataframe tbody tr th {\n",
       "        vertical-align: top;\n",
       "    }\n",
       "\n",
       "    .dataframe thead th {\n",
       "        text-align: right;\n",
       "    }\n",
       "</style>\n",
       "<table border=\"1\" class=\"dataframe\">\n",
       "  <thead>\n",
       "    <tr style=\"text-align: right;\">\n",
       "      <th></th>\n",
       "      <th>county</th>\n",
       "      <th>population</th>\n",
       "      <th>gdp</th>\n",
       "      <th>area</th>\n",
       "    </tr>\n",
       "    <tr>\n",
       "      <th>burroughs</th>\n",
       "      <th></th>\n",
       "      <th></th>\n",
       "      <th></th>\n",
       "      <th></th>\n",
       "    </tr>\n",
       "  </thead>\n",
       "  <tbody>\n",
       "    <tr>\n",
       "      <th>The Bronx</th>\n",
       "      <td>Bronx</td>\n",
       "      <td>1418207</td>\n",
       "      <td>42.695</td>\n",
       "      <td>42.1</td>\n",
       "    </tr>\n",
       "    <tr>\n",
       "      <th>Brooklyn</th>\n",
       "      <td>Kings</td>\n",
       "      <td>2559903</td>\n",
       "      <td>91.559</td>\n",
       "      <td>70.82</td>\n",
       "    </tr>\n",
       "    <tr>\n",
       "      <th>Manhattan</th>\n",
       "      <td>New York</td>\n",
       "      <td>1628706</td>\n",
       "      <td>600.244</td>\n",
       "      <td>22.83</td>\n",
       "    </tr>\n",
       "    <tr>\n",
       "      <th>Queens</th>\n",
       "      <td>Queens</td>\n",
       "      <td>2253858</td>\n",
       "      <td>93.31</td>\n",
       "      <td>108.53</td>\n",
       "    </tr>\n",
       "    <tr>\n",
       "      <th>Staten Island</th>\n",
       "      <td>Richmond</td>\n",
       "      <td>476143</td>\n",
       "      <td>14.514</td>\n",
       "      <td>58.37</td>\n",
       "    </tr>\n",
       "  </tbody>\n",
       "</table>\n",
       "</div>"
      ],
      "text/plain": [
       "                 county population      gdp    area\n",
       "burroughs                                          \n",
       "The Bronx         Bronx    1418207   42.695    42.1\n",
       "Brooklyn          Kings    2559903   91.559   70.82\n",
       "Manhattan      New York    1628706  600.244   22.83\n",
       "Queens           Queens    2253858    93.31  108.53\n",
       "Staten Island  Richmond     476143   14.514   58.37"
      ]
     },
     "execution_count": 23,
     "metadata": {},
     "output_type": "execute_result"
    }
   ],
   "source": [
    "new_york"
   ]
  },
  {
   "cell_type": "code",
   "execution_count": 24,
   "metadata": {},
   "outputs": [
    {
     "data": {
      "text/html": [
       "<div>\n",
       "<style scoped>\n",
       "    .dataframe tbody tr th:only-of-type {\n",
       "        vertical-align: middle;\n",
       "    }\n",
       "\n",
       "    .dataframe tbody tr th {\n",
       "        vertical-align: top;\n",
       "    }\n",
       "\n",
       "    .dataframe thead th {\n",
       "        text-align: right;\n",
       "    }\n",
       "</style>\n",
       "<table border=\"1\" class=\"dataframe\">\n",
       "  <thead>\n",
       "    <tr style=\"text-align: right;\">\n",
       "      <th></th>\n",
       "      <th>county</th>\n",
       "      <th>population</th>\n",
       "      <th>gdp</th>\n",
       "      <th>area</th>\n",
       "    </tr>\n",
       "  </thead>\n",
       "  <tbody>\n",
       "    <tr>\n",
       "      <th>The Bronx</th>\n",
       "      <td>Bronx</td>\n",
       "      <td>1418207</td>\n",
       "      <td>42.695</td>\n",
       "      <td>42.1</td>\n",
       "    </tr>\n",
       "    <tr>\n",
       "      <th>Brooklyn</th>\n",
       "      <td>Kings</td>\n",
       "      <td>2559903</td>\n",
       "      <td>91.559</td>\n",
       "      <td>70.82</td>\n",
       "    </tr>\n",
       "    <tr>\n",
       "      <th>Manhattan</th>\n",
       "      <td>New York</td>\n",
       "      <td>1628706</td>\n",
       "      <td>600.244</td>\n",
       "      <td>22.83</td>\n",
       "    </tr>\n",
       "    <tr>\n",
       "      <th>Queens</th>\n",
       "      <td>Queens</td>\n",
       "      <td>2253858</td>\n",
       "      <td>93.31</td>\n",
       "      <td>108.53</td>\n",
       "    </tr>\n",
       "    <tr>\n",
       "      <th>Staten Island</th>\n",
       "      <td>Richmond</td>\n",
       "      <td>476143</td>\n",
       "      <td>14.514</td>\n",
       "      <td>58.37</td>\n",
       "    </tr>\n",
       "  </tbody>\n",
       "</table>\n",
       "</div>"
      ],
      "text/plain": [
       "                 county population      gdp    area\n",
       "The Bronx         Bronx    1418207   42.695    42.1\n",
       "Brooklyn          Kings    2559903   91.559   70.82\n",
       "Manhattan      New York    1628706  600.244   22.83\n",
       "Queens           Queens    2253858    93.31  108.53\n",
       "Staten Island  Richmond     476143   14.514   58.37"
      ]
     },
     "execution_count": 24,
     "metadata": {},
     "output_type": "execute_result"
    }
   ],
   "source": [
    "new_york.index.name = None\n",
    "new_york"
   ]
  },
  {
   "cell_type": "markdown",
   "metadata": {},
   "source": [
    "Data frames have many properties and methods, some of which we'll study later in this section, but you can read up more on them in the Pandas documentation:\n",
    "\n",
    "https://pandas.pydata.org/pandas-docs/stable/reference/frame.html"
   ]
  },
  {
   "cell_type": "markdown",
   "metadata": {},
   "source": [
    "An interesting one is the `info` method:"
   ]
  },
  {
   "cell_type": "code",
   "execution_count": 25,
   "metadata": {},
   "outputs": [
    {
     "name": "stdout",
     "output_type": "stream",
     "text": [
      "<class 'pandas.core.frame.DataFrame'>\n",
      "Index: 5 entries, The Bronx to Staten Island\n",
      "Data columns (total 4 columns):\n",
      " #   Column      Non-Null Count  Dtype \n",
      "---  ------      --------------  ----- \n",
      " 0   county      5 non-null      object\n",
      " 1   population  5 non-null      object\n",
      " 2   gdp         5 non-null      object\n",
      " 3   area        5 non-null      object\n",
      "dtypes: object(4)\n",
      "memory usage: 200.0+ bytes\n"
     ]
    }
   ],
   "source": [
    "new_york.info()"
   ]
  },
  {
   "cell_type": "markdown",
   "metadata": {},
   "source": [
    "Notice how each column is of `object` type? That's a little suprising, since we do have homogeneous data in the columns:"
   ]
  },
  {
   "cell_type": "code",
   "execution_count": 26,
   "metadata": {},
   "outputs": [
    {
     "data": {
      "text/html": [
       "<div>\n",
       "<style scoped>\n",
       "    .dataframe tbody tr th:only-of-type {\n",
       "        vertical-align: middle;\n",
       "    }\n",
       "\n",
       "    .dataframe tbody tr th {\n",
       "        vertical-align: top;\n",
       "    }\n",
       "\n",
       "    .dataframe thead th {\n",
       "        text-align: right;\n",
       "    }\n",
       "</style>\n",
       "<table border=\"1\" class=\"dataframe\">\n",
       "  <thead>\n",
       "    <tr style=\"text-align: right;\">\n",
       "      <th></th>\n",
       "      <th>county</th>\n",
       "      <th>population</th>\n",
       "      <th>gdp</th>\n",
       "      <th>area</th>\n",
       "    </tr>\n",
       "  </thead>\n",
       "  <tbody>\n",
       "    <tr>\n",
       "      <th>The Bronx</th>\n",
       "      <td>Bronx</td>\n",
       "      <td>1418207</td>\n",
       "      <td>42.695</td>\n",
       "      <td>42.1</td>\n",
       "    </tr>\n",
       "    <tr>\n",
       "      <th>Brooklyn</th>\n",
       "      <td>Kings</td>\n",
       "      <td>2559903</td>\n",
       "      <td>91.559</td>\n",
       "      <td>70.82</td>\n",
       "    </tr>\n",
       "    <tr>\n",
       "      <th>Manhattan</th>\n",
       "      <td>New York</td>\n",
       "      <td>1628706</td>\n",
       "      <td>600.244</td>\n",
       "      <td>22.83</td>\n",
       "    </tr>\n",
       "    <tr>\n",
       "      <th>Queens</th>\n",
       "      <td>Queens</td>\n",
       "      <td>2253858</td>\n",
       "      <td>93.31</td>\n",
       "      <td>108.53</td>\n",
       "    </tr>\n",
       "    <tr>\n",
       "      <th>Staten Island</th>\n",
       "      <td>Richmond</td>\n",
       "      <td>476143</td>\n",
       "      <td>14.514</td>\n",
       "      <td>58.37</td>\n",
       "    </tr>\n",
       "  </tbody>\n",
       "</table>\n",
       "</div>"
      ],
      "text/plain": [
       "                 county population      gdp    area\n",
       "The Bronx         Bronx    1418207   42.695    42.1\n",
       "Brooklyn          Kings    2559903   91.559   70.82\n",
       "Manhattan      New York    1628706  600.244   22.83\n",
       "Queens           Queens    2253858    93.31  108.53\n",
       "Staten Island  Richmond     476143   14.514   58.37"
      ]
     },
     "execution_count": 26,
     "metadata": {},
     "output_type": "execute_result"
    }
   ],
   "source": [
    "new_york"
   ]
  },
  {
   "cell_type": "markdown",
   "metadata": {},
   "source": [
    "Why do not see int64 for population and float64 for gdp and area?"
   ]
  },
  {
   "cell_type": "markdown",
   "metadata": {},
   "source": [
    "You have to remember how we built up this dataset:"
   ]
  },
  {
   "cell_type": "code",
   "execution_count": 27,
   "metadata": {},
   "outputs": [
    {
     "data": {
      "text/html": [
       "<div>\n",
       "<style scoped>\n",
       "    .dataframe tbody tr th:only-of-type {\n",
       "        vertical-align: middle;\n",
       "    }\n",
       "\n",
       "    .dataframe tbody tr th {\n",
       "        vertical-align: top;\n",
       "    }\n",
       "\n",
       "    .dataframe thead th {\n",
       "        text-align: right;\n",
       "    }\n",
       "</style>\n",
       "<table border=\"1\" class=\"dataframe\">\n",
       "  <thead>\n",
       "    <tr style=\"text-align: right;\">\n",
       "      <th></th>\n",
       "      <th>0</th>\n",
       "      <th>1</th>\n",
       "      <th>2</th>\n",
       "      <th>3</th>\n",
       "      <th>4</th>\n",
       "    </tr>\n",
       "  </thead>\n",
       "  <tbody>\n",
       "    <tr>\n",
       "      <th>burroughs</th>\n",
       "      <td>The Bronx</td>\n",
       "      <td>Brooklyn</td>\n",
       "      <td>Manhattan</td>\n",
       "      <td>Queens</td>\n",
       "      <td>Staten Island</td>\n",
       "    </tr>\n",
       "    <tr>\n",
       "      <th>county</th>\n",
       "      <td>Bronx</td>\n",
       "      <td>Kings</td>\n",
       "      <td>New York</td>\n",
       "      <td>Queens</td>\n",
       "      <td>Richmond</td>\n",
       "    </tr>\n",
       "    <tr>\n",
       "      <th>population</th>\n",
       "      <td>1418207</td>\n",
       "      <td>2559903</td>\n",
       "      <td>1628706</td>\n",
       "      <td>2253858</td>\n",
       "      <td>476143</td>\n",
       "    </tr>\n",
       "    <tr>\n",
       "      <th>gdp</th>\n",
       "      <td>42.695</td>\n",
       "      <td>91.559</td>\n",
       "      <td>600.244</td>\n",
       "      <td>93.31</td>\n",
       "      <td>14.514</td>\n",
       "    </tr>\n",
       "    <tr>\n",
       "      <th>area</th>\n",
       "      <td>42.1</td>\n",
       "      <td>70.82</td>\n",
       "      <td>22.83</td>\n",
       "      <td>108.53</td>\n",
       "      <td>58.37</td>\n",
       "    </tr>\n",
       "  </tbody>\n",
       "</table>\n",
       "</div>"
      ],
      "text/plain": [
       "                    0         1          2        3              4\n",
       "burroughs   The Bronx  Brooklyn  Manhattan   Queens  Staten Island\n",
       "county          Bronx     Kings   New York   Queens       Richmond\n",
       "population    1418207   2559903    1628706  2253858         476143\n",
       "gdp            42.695    91.559    600.244    93.31         14.514\n",
       "area             42.1     70.82      22.83   108.53          58.37"
      ]
     },
     "execution_count": 27,
     "metadata": {},
     "output_type": "execute_result"
    }
   ],
   "source": [
    "burroughs = ['The Bronx', 'Brooklyn', 'Manhattan', 'Queens', 'Staten Island']\n",
    "counties = ['Bronx', 'Kings', 'New York', 'Queens', 'Richmond']\n",
    "populations = [1_418_207, 2_559_903, 1_628_706, 2_253_858, 476_143]\n",
    "gdp = [42.695, 91.559, 600.244, 93.310, 14.514]\n",
    "areas = [42.10, 70.82, 22.83, 108.53, 58.37]\n",
    "\n",
    "data = [burroughs, counties, populations, gdp, areas]\n",
    "\n",
    "new_york = pd.DataFrame(\n",
    "    data, \n",
    "    index=['burroughs', 'county', 'population', 'gdp', 'area']\n",
    ")\n",
    "\n",
    "new_york"
   ]
  },
  {
   "cell_type": "markdown",
   "metadata": {},
   "source": [
    "This was our original data set, and as you can see the columns are not homogeneous, and our data has been stored using the generic `object`:"
   ]
  },
  {
   "cell_type": "code",
   "execution_count": 28,
   "metadata": {},
   "outputs": [
    {
     "name": "stdout",
     "output_type": "stream",
     "text": [
      "<class 'pandas.core.frame.DataFrame'>\n",
      "Index: 5 entries, burroughs to area\n",
      "Data columns (total 5 columns):\n",
      " #   Column  Non-Null Count  Dtype \n",
      "---  ------  --------------  ----- \n",
      " 0   0       5 non-null      object\n",
      " 1   1       5 non-null      object\n",
      " 2   2       5 non-null      object\n",
      " 3   3       5 non-null      object\n",
      " 4   4       5 non-null      object\n",
      "dtypes: object(5)\n",
      "memory usage: 240.0+ bytes\n"
     ]
    }
   ],
   "source": [
    "new_york.info()"
   ]
  },
  {
   "cell_type": "markdown",
   "metadata": {},
   "source": [
    "We then transposed, and renamed the indices, but the underlying data type of each value in the table was `object` and that remains the same:"
   ]
  },
  {
   "cell_type": "code",
   "execution_count": 29,
   "metadata": {},
   "outputs": [
    {
     "data": {
      "text/html": [
       "<div>\n",
       "<style scoped>\n",
       "    .dataframe tbody tr th:only-of-type {\n",
       "        vertical-align: middle;\n",
       "    }\n",
       "\n",
       "    .dataframe tbody tr th {\n",
       "        vertical-align: top;\n",
       "    }\n",
       "\n",
       "    .dataframe thead th {\n",
       "        text-align: right;\n",
       "    }\n",
       "</style>\n",
       "<table border=\"1\" class=\"dataframe\">\n",
       "  <thead>\n",
       "    <tr style=\"text-align: right;\">\n",
       "      <th></th>\n",
       "      <th>county</th>\n",
       "      <th>population</th>\n",
       "      <th>gdp</th>\n",
       "      <th>area</th>\n",
       "    </tr>\n",
       "    <tr>\n",
       "      <th>burroughs</th>\n",
       "      <th></th>\n",
       "      <th></th>\n",
       "      <th></th>\n",
       "      <th></th>\n",
       "    </tr>\n",
       "  </thead>\n",
       "  <tbody>\n",
       "    <tr>\n",
       "      <th>The Bronx</th>\n",
       "      <td>Bronx</td>\n",
       "      <td>1418207</td>\n",
       "      <td>42.695</td>\n",
       "      <td>42.1</td>\n",
       "    </tr>\n",
       "    <tr>\n",
       "      <th>Brooklyn</th>\n",
       "      <td>Kings</td>\n",
       "      <td>2559903</td>\n",
       "      <td>91.559</td>\n",
       "      <td>70.82</td>\n",
       "    </tr>\n",
       "    <tr>\n",
       "      <th>Manhattan</th>\n",
       "      <td>New York</td>\n",
       "      <td>1628706</td>\n",
       "      <td>600.244</td>\n",
       "      <td>22.83</td>\n",
       "    </tr>\n",
       "    <tr>\n",
       "      <th>Queens</th>\n",
       "      <td>Queens</td>\n",
       "      <td>2253858</td>\n",
       "      <td>93.31</td>\n",
       "      <td>108.53</td>\n",
       "    </tr>\n",
       "    <tr>\n",
       "      <th>Staten Island</th>\n",
       "      <td>Richmond</td>\n",
       "      <td>476143</td>\n",
       "      <td>14.514</td>\n",
       "      <td>58.37</td>\n",
       "    </tr>\n",
       "  </tbody>\n",
       "</table>\n",
       "</div>"
      ],
      "text/plain": [
       "                 county population      gdp    area\n",
       "burroughs                                          \n",
       "The Bronx         Bronx    1418207   42.695    42.1\n",
       "Brooklyn          Kings    2559903   91.559   70.82\n",
       "Manhattan      New York    1628706  600.244   22.83\n",
       "Queens           Queens    2253858    93.31  108.53\n",
       "Staten Island  Richmond     476143   14.514   58.37"
      ]
     },
     "execution_count": 29,
     "metadata": {},
     "output_type": "execute_result"
    }
   ],
   "source": [
    "new_york = new_york.transpose()\n",
    "new_york = new_york.set_index('burroughs')\n",
    "new_york"
   ]
  },
  {
   "cell_type": "code",
   "execution_count": 30,
   "metadata": {},
   "outputs": [
    {
     "name": "stdout",
     "output_type": "stream",
     "text": [
      "<class 'pandas.core.frame.DataFrame'>\n",
      "Index: 5 entries, The Bronx to Staten Island\n",
      "Data columns (total 4 columns):\n",
      " #   Column      Non-Null Count  Dtype \n",
      "---  ------      --------------  ----- \n",
      " 0   county      5 non-null      object\n",
      " 1   population  5 non-null      object\n",
      " 2   gdp         5 non-null      object\n",
      " 3   area        5 non-null      object\n",
      "dtypes: object(4)\n",
      "memory usage: 200.0+ bytes\n"
     ]
    }
   ],
   "source": [
    "new_york.info()"
   ]
  },
  {
   "cell_type": "markdown",
   "metadata": {},
   "source": [
    "If we had loaded the data up directly into homogeneous columns we would see different data types being used:"
   ]
  },
  {
   "cell_type": "code",
   "execution_count": 31,
   "metadata": {},
   "outputs": [
    {
     "data": {
      "text/html": [
       "<div>\n",
       "<style scoped>\n",
       "    .dataframe tbody tr th:only-of-type {\n",
       "        vertical-align: middle;\n",
       "    }\n",
       "\n",
       "    .dataframe tbody tr th {\n",
       "        vertical-align: top;\n",
       "    }\n",
       "\n",
       "    .dataframe thead th {\n",
       "        text-align: right;\n",
       "    }\n",
       "</style>\n",
       "<table border=\"1\" class=\"dataframe\">\n",
       "  <thead>\n",
       "    <tr style=\"text-align: right;\">\n",
       "      <th></th>\n",
       "      <th>county</th>\n",
       "      <th>population</th>\n",
       "      <th>gdp</th>\n",
       "      <th>area</th>\n",
       "    </tr>\n",
       "  </thead>\n",
       "  <tbody>\n",
       "    <tr>\n",
       "      <th>The Bronx</th>\n",
       "      <td>Bronx</td>\n",
       "      <td>1418207</td>\n",
       "      <td>42.695</td>\n",
       "      <td>42.10</td>\n",
       "    </tr>\n",
       "    <tr>\n",
       "      <th>Brooklyn</th>\n",
       "      <td>Kings</td>\n",
       "      <td>2559903</td>\n",
       "      <td>91.559</td>\n",
       "      <td>70.82</td>\n",
       "    </tr>\n",
       "    <tr>\n",
       "      <th>Manhattan</th>\n",
       "      <td>New York</td>\n",
       "      <td>1628706</td>\n",
       "      <td>600.244</td>\n",
       "      <td>22.83</td>\n",
       "    </tr>\n",
       "    <tr>\n",
       "      <th>Queens</th>\n",
       "      <td>Queens</td>\n",
       "      <td>2253858</td>\n",
       "      <td>93.310</td>\n",
       "      <td>108.53</td>\n",
       "    </tr>\n",
       "    <tr>\n",
       "      <th>Staten Island</th>\n",
       "      <td>Richmond</td>\n",
       "      <td>476143</td>\n",
       "      <td>14.514</td>\n",
       "      <td>58.37</td>\n",
       "    </tr>\n",
       "  </tbody>\n",
       "</table>\n",
       "</div>"
      ],
      "text/plain": [
       "                 county  population      gdp    area\n",
       "The Bronx         Bronx     1418207   42.695   42.10\n",
       "Brooklyn          Kings     2559903   91.559   70.82\n",
       "Manhattan      New York     1628706  600.244   22.83\n",
       "Queens           Queens     2253858   93.310  108.53\n",
       "Staten Island  Richmond      476143   14.514   58.37"
      ]
     },
     "execution_count": 31,
     "metadata": {},
     "output_type": "execute_result"
    }
   ],
   "source": [
    "counties = pd.Series(\n",
    "    ['Bronx', 'Kings', 'New York', 'Queens', 'Richmond'],\n",
    "    index=columns,\n",
    "    name='county'\n",
    ")\n",
    "populations = pd.Series(\n",
    "    [1_418_207, 2_559_903, 1_628_706, 2_253_858, 476_143],\n",
    "    index = columns,\n",
    "    name='population'\n",
    ")\n",
    "gdp = pd.Series(\n",
    "    [42.695, 91.559, 600.244, 93.310, 14.514],\n",
    "    index=columns,\n",
    "    name='gdp'\n",
    ")\n",
    "areas = pd.Series(\n",
    "    [42.10, 70.82, 22.83, 108.53, 58.37],\n",
    "    index=columns,\n",
    "    name='area'\n",
    ")\n",
    "\n",
    "d = {\n",
    "    'county': counties,\n",
    "    'population': populations,\n",
    "    'gdp': gdp,\n",
    "    'area': areas\n",
    "}\n",
    "\n",
    "new_york_homogeneous = pd.DataFrame(d)\n",
    "new_york_homogeneous"
   ]
  },
  {
   "cell_type": "code",
   "execution_count": 32,
   "metadata": {},
   "outputs": [
    {
     "name": "stdout",
     "output_type": "stream",
     "text": [
      "<class 'pandas.core.frame.DataFrame'>\n",
      "Index: 5 entries, The Bronx to Staten Island\n",
      "Data columns (total 4 columns):\n",
      " #   Column      Non-Null Count  Dtype  \n",
      "---  ------      --------------  -----  \n",
      " 0   county      5 non-null      object \n",
      " 1   population  5 non-null      int64  \n",
      " 2   gdp         5 non-null      float64\n",
      " 3   area        5 non-null      float64\n",
      "dtypes: float64(2), int64(1), object(1)\n",
      "memory usage: 360.0+ bytes\n"
     ]
    }
   ],
   "source": [
    "new_york_homogeneous.info()"
   ]
  },
  {
   "cell_type": "markdown",
   "metadata": {},
   "source": [
    "There are ways we can change the data type of a column, and we'll look at that later."
   ]
  },
  {
   "cell_type": "markdown",
   "metadata": {},
   "source": [
    "One last operation we'll look at is how to remove rows or columns from our data frame."
   ]
  },
  {
   "cell_type": "markdown",
   "metadata": {},
   "source": [
    "Just as we saw with `Series` objects, we can use the `drop()` method."
   ]
  },
  {
   "cell_type": "markdown",
   "metadata": {},
   "source": [
    "The difference here is that we may want to drop a row or a column."
   ]
  },
  {
   "cell_type": "markdown",
   "metadata": {},
   "source": [
    "We can drop (one or more) columns by specifying the `columns` argument in the `drop()` method - the argument can be either a single column label or a list of column labels:"
   ]
  },
  {
   "cell_type": "code",
   "execution_count": 33,
   "metadata": {},
   "outputs": [
    {
     "data": {
      "text/html": [
       "<div>\n",
       "<style scoped>\n",
       "    .dataframe tbody tr th:only-of-type {\n",
       "        vertical-align: middle;\n",
       "    }\n",
       "\n",
       "    .dataframe tbody tr th {\n",
       "        vertical-align: top;\n",
       "    }\n",
       "\n",
       "    .dataframe thead th {\n",
       "        text-align: right;\n",
       "    }\n",
       "</style>\n",
       "<table border=\"1\" class=\"dataframe\">\n",
       "  <thead>\n",
       "    <tr style=\"text-align: right;\">\n",
       "      <th></th>\n",
       "      <th>county</th>\n",
       "      <th>population</th>\n",
       "      <th>gdp</th>\n",
       "      <th>area</th>\n",
       "    </tr>\n",
       "    <tr>\n",
       "      <th>burroughs</th>\n",
       "      <th></th>\n",
       "      <th></th>\n",
       "      <th></th>\n",
       "      <th></th>\n",
       "    </tr>\n",
       "  </thead>\n",
       "  <tbody>\n",
       "    <tr>\n",
       "      <th>The Bronx</th>\n",
       "      <td>Bronx</td>\n",
       "      <td>1418207</td>\n",
       "      <td>42.695</td>\n",
       "      <td>42.1</td>\n",
       "    </tr>\n",
       "    <tr>\n",
       "      <th>Brooklyn</th>\n",
       "      <td>Kings</td>\n",
       "      <td>2559903</td>\n",
       "      <td>91.559</td>\n",
       "      <td>70.82</td>\n",
       "    </tr>\n",
       "    <tr>\n",
       "      <th>Manhattan</th>\n",
       "      <td>New York</td>\n",
       "      <td>1628706</td>\n",
       "      <td>600.244</td>\n",
       "      <td>22.83</td>\n",
       "    </tr>\n",
       "    <tr>\n",
       "      <th>Queens</th>\n",
       "      <td>Queens</td>\n",
       "      <td>2253858</td>\n",
       "      <td>93.31</td>\n",
       "      <td>108.53</td>\n",
       "    </tr>\n",
       "    <tr>\n",
       "      <th>Staten Island</th>\n",
       "      <td>Richmond</td>\n",
       "      <td>476143</td>\n",
       "      <td>14.514</td>\n",
       "      <td>58.37</td>\n",
       "    </tr>\n",
       "  </tbody>\n",
       "</table>\n",
       "</div>"
      ],
      "text/plain": [
       "                 county population      gdp    area\n",
       "burroughs                                          \n",
       "The Bronx         Bronx    1418207   42.695    42.1\n",
       "Brooklyn          Kings    2559903   91.559   70.82\n",
       "Manhattan      New York    1628706  600.244   22.83\n",
       "Queens           Queens    2253858    93.31  108.53\n",
       "Staten Island  Richmond     476143   14.514   58.37"
      ]
     },
     "execution_count": 33,
     "metadata": {},
     "output_type": "execute_result"
    }
   ],
   "source": [
    "new_york"
   ]
  },
  {
   "cell_type": "code",
   "execution_count": 34,
   "metadata": {},
   "outputs": [
    {
     "data": {
      "text/html": [
       "<div>\n",
       "<style scoped>\n",
       "    .dataframe tbody tr th:only-of-type {\n",
       "        vertical-align: middle;\n",
       "    }\n",
       "\n",
       "    .dataframe tbody tr th {\n",
       "        vertical-align: top;\n",
       "    }\n",
       "\n",
       "    .dataframe thead th {\n",
       "        text-align: right;\n",
       "    }\n",
       "</style>\n",
       "<table border=\"1\" class=\"dataframe\">\n",
       "  <thead>\n",
       "    <tr style=\"text-align: right;\">\n",
       "      <th></th>\n",
       "      <th>population</th>\n",
       "      <th>gdp</th>\n",
       "      <th>area</th>\n",
       "    </tr>\n",
       "    <tr>\n",
       "      <th>burroughs</th>\n",
       "      <th></th>\n",
       "      <th></th>\n",
       "      <th></th>\n",
       "    </tr>\n",
       "  </thead>\n",
       "  <tbody>\n",
       "    <tr>\n",
       "      <th>The Bronx</th>\n",
       "      <td>1418207</td>\n",
       "      <td>42.695</td>\n",
       "      <td>42.1</td>\n",
       "    </tr>\n",
       "    <tr>\n",
       "      <th>Brooklyn</th>\n",
       "      <td>2559903</td>\n",
       "      <td>91.559</td>\n",
       "      <td>70.82</td>\n",
       "    </tr>\n",
       "    <tr>\n",
       "      <th>Manhattan</th>\n",
       "      <td>1628706</td>\n",
       "      <td>600.244</td>\n",
       "      <td>22.83</td>\n",
       "    </tr>\n",
       "    <tr>\n",
       "      <th>Queens</th>\n",
       "      <td>2253858</td>\n",
       "      <td>93.31</td>\n",
       "      <td>108.53</td>\n",
       "    </tr>\n",
       "    <tr>\n",
       "      <th>Staten Island</th>\n",
       "      <td>476143</td>\n",
       "      <td>14.514</td>\n",
       "      <td>58.37</td>\n",
       "    </tr>\n",
       "  </tbody>\n",
       "</table>\n",
       "</div>"
      ],
      "text/plain": [
       "              population      gdp    area\n",
       "burroughs                                \n",
       "The Bronx        1418207   42.695    42.1\n",
       "Brooklyn         2559903   91.559   70.82\n",
       "Manhattan        1628706  600.244   22.83\n",
       "Queens           2253858    93.31  108.53\n",
       "Staten Island     476143   14.514   58.37"
      ]
     },
     "execution_count": 34,
     "metadata": {},
     "output_type": "execute_result"
    }
   ],
   "source": [
    "new_df = new_york.drop(columns='county')\n",
    "new_df"
   ]
  },
  {
   "cell_type": "markdown",
   "metadata": {},
   "source": [
    "And we can drop rows the same way by using the `index` argument. Again the argument can be a single row label, or a list of row labels:"
   ]
  },
  {
   "cell_type": "code",
   "execution_count": 35,
   "metadata": {},
   "outputs": [
    {
     "data": {
      "text/html": [
       "<div>\n",
       "<style scoped>\n",
       "    .dataframe tbody tr th:only-of-type {\n",
       "        vertical-align: middle;\n",
       "    }\n",
       "\n",
       "    .dataframe tbody tr th {\n",
       "        vertical-align: top;\n",
       "    }\n",
       "\n",
       "    .dataframe thead th {\n",
       "        text-align: right;\n",
       "    }\n",
       "</style>\n",
       "<table border=\"1\" class=\"dataframe\">\n",
       "  <thead>\n",
       "    <tr style=\"text-align: right;\">\n",
       "      <th></th>\n",
       "      <th>population</th>\n",
       "      <th>gdp</th>\n",
       "      <th>area</th>\n",
       "    </tr>\n",
       "    <tr>\n",
       "      <th>burroughs</th>\n",
       "      <th></th>\n",
       "      <th></th>\n",
       "      <th></th>\n",
       "    </tr>\n",
       "  </thead>\n",
       "  <tbody>\n",
       "    <tr>\n",
       "      <th>The Bronx</th>\n",
       "      <td>1418207</td>\n",
       "      <td>42.695</td>\n",
       "      <td>42.1</td>\n",
       "    </tr>\n",
       "    <tr>\n",
       "      <th>Manhattan</th>\n",
       "      <td>1628706</td>\n",
       "      <td>600.244</td>\n",
       "      <td>22.83</td>\n",
       "    </tr>\n",
       "    <tr>\n",
       "      <th>Staten Island</th>\n",
       "      <td>476143</td>\n",
       "      <td>14.514</td>\n",
       "      <td>58.37</td>\n",
       "    </tr>\n",
       "  </tbody>\n",
       "</table>\n",
       "</div>"
      ],
      "text/plain": [
       "              population      gdp   area\n",
       "burroughs                               \n",
       "The Bronx        1418207   42.695   42.1\n",
       "Manhattan        1628706  600.244  22.83\n",
       "Staten Island     476143   14.514  58.37"
      ]
     },
     "execution_count": 35,
     "metadata": {},
     "output_type": "execute_result"
    }
   ],
   "source": [
    "new_df = new_df.drop(index=['Brooklyn', 'Queens'])\n",
    "new_df"
   ]
  },
  {
   "cell_type": "markdown",
   "metadata": {},
   "source": [
    "##### Renaming Index Labels"
   ]
  },
  {
   "cell_type": "markdown",
   "metadata": {},
   "source": [
    "Lastly, let's look at the `rename()` method again - there are a few ways in which we can use this method to redefine the index labels."
   ]
  },
  {
   "cell_type": "code",
   "execution_count": 36,
   "metadata": {},
   "outputs": [
    {
     "data": {
      "text/html": [
       "<div>\n",
       "<style scoped>\n",
       "    .dataframe tbody tr th:only-of-type {\n",
       "        vertical-align: middle;\n",
       "    }\n",
       "\n",
       "    .dataframe tbody tr th {\n",
       "        vertical-align: top;\n",
       "    }\n",
       "\n",
       "    .dataframe thead th {\n",
       "        text-align: right;\n",
       "    }\n",
       "</style>\n",
       "<table border=\"1\" class=\"dataframe\">\n",
       "  <thead>\n",
       "    <tr style=\"text-align: right;\">\n",
       "      <th></th>\n",
       "      <th>a</th>\n",
       "      <th>b</th>\n",
       "      <th>c</th>\n",
       "    </tr>\n",
       "  </thead>\n",
       "  <tbody>\n",
       "    <tr>\n",
       "      <th>A</th>\n",
       "      <td>0</td>\n",
       "      <td>1</td>\n",
       "      <td>2</td>\n",
       "    </tr>\n",
       "    <tr>\n",
       "      <th>B</th>\n",
       "      <td>3</td>\n",
       "      <td>4</td>\n",
       "      <td>5</td>\n",
       "    </tr>\n",
       "    <tr>\n",
       "      <th>C</th>\n",
       "      <td>6</td>\n",
       "      <td>7</td>\n",
       "      <td>8</td>\n",
       "    </tr>\n",
       "  </tbody>\n",
       "</table>\n",
       "</div>"
      ],
      "text/plain": [
       "   a  b  c\n",
       "A  0  1  2\n",
       "B  3  4  5\n",
       "C  6  7  8"
      ]
     },
     "execution_count": 36,
     "metadata": {},
     "output_type": "execute_result"
    }
   ],
   "source": [
    "df = pd.DataFrame(\n",
    "    np.arange(9).reshape(3, 3),\n",
    "    index = list('ABC'),\n",
    "    columns = list('abc')\n",
    ")\n",
    "df"
   ]
  },
  {
   "cell_type": "markdown",
   "metadata": {},
   "source": [
    "We saw how we could rename the index labels of either columns or rows using a dictionary to map from the old index label to the new index label:"
   ]
  },
  {
   "cell_type": "code",
   "execution_count": 37,
   "metadata": {},
   "outputs": [
    {
     "data": {
      "text/html": [
       "<div>\n",
       "<style scoped>\n",
       "    .dataframe tbody tr th:only-of-type {\n",
       "        vertical-align: middle;\n",
       "    }\n",
       "\n",
       "    .dataframe tbody tr th {\n",
       "        vertical-align: top;\n",
       "    }\n",
       "\n",
       "    .dataframe thead th {\n",
       "        text-align: right;\n",
       "    }\n",
       "</style>\n",
       "<table border=\"1\" class=\"dataframe\">\n",
       "  <thead>\n",
       "    <tr style=\"text-align: right;\">\n",
       "      <th></th>\n",
       "      <th>aa</th>\n",
       "      <th>bb</th>\n",
       "      <th>cc</th>\n",
       "    </tr>\n",
       "  </thead>\n",
       "  <tbody>\n",
       "    <tr>\n",
       "      <th>AA</th>\n",
       "      <td>0</td>\n",
       "      <td>1</td>\n",
       "      <td>2</td>\n",
       "    </tr>\n",
       "    <tr>\n",
       "      <th>BB</th>\n",
       "      <td>3</td>\n",
       "      <td>4</td>\n",
       "      <td>5</td>\n",
       "    </tr>\n",
       "    <tr>\n",
       "      <th>CC</th>\n",
       "      <td>6</td>\n",
       "      <td>7</td>\n",
       "      <td>8</td>\n",
       "    </tr>\n",
       "  </tbody>\n",
       "</table>\n",
       "</div>"
      ],
      "text/plain": [
       "    aa  bb  cc\n",
       "AA   0   1   2\n",
       "BB   3   4   5\n",
       "CC   6   7   8"
      ]
     },
     "execution_count": 37,
     "metadata": {},
     "output_type": "execute_result"
    }
   ],
   "source": [
    "df.rename(\n",
    "    columns={'a': 'aa', 'b': 'bb', 'c': 'cc'},\n",
    "    index={'A': 'AA', 'B': 'BB', 'C': 'CC'}\n",
    ")"
   ]
  },
  {
   "cell_type": "markdown",
   "metadata": {},
   "source": [
    "But, if we want to only rename a subset of the labels, we can just specify which ones we want to rename:"
   ]
  },
  {
   "cell_type": "code",
   "execution_count": 38,
   "metadata": {},
   "outputs": [
    {
     "data": {
      "text/html": [
       "<div>\n",
       "<style scoped>\n",
       "    .dataframe tbody tr th:only-of-type {\n",
       "        vertical-align: middle;\n",
       "    }\n",
       "\n",
       "    .dataframe tbody tr th {\n",
       "        vertical-align: top;\n",
       "    }\n",
       "\n",
       "    .dataframe thead th {\n",
       "        text-align: right;\n",
       "    }\n",
       "</style>\n",
       "<table border=\"1\" class=\"dataframe\">\n",
       "  <thead>\n",
       "    <tr style=\"text-align: right;\">\n",
       "      <th></th>\n",
       "      <th>aa</th>\n",
       "      <th>b</th>\n",
       "      <th>c</th>\n",
       "    </tr>\n",
       "  </thead>\n",
       "  <tbody>\n",
       "    <tr>\n",
       "      <th>AA</th>\n",
       "      <td>0</td>\n",
       "      <td>1</td>\n",
       "      <td>2</td>\n",
       "    </tr>\n",
       "    <tr>\n",
       "      <th>B</th>\n",
       "      <td>3</td>\n",
       "      <td>4</td>\n",
       "      <td>5</td>\n",
       "    </tr>\n",
       "    <tr>\n",
       "      <th>C</th>\n",
       "      <td>6</td>\n",
       "      <td>7</td>\n",
       "      <td>8</td>\n",
       "    </tr>\n",
       "  </tbody>\n",
       "</table>\n",
       "</div>"
      ],
      "text/plain": [
       "    aa  b  c\n",
       "AA   0  1  2\n",
       "B    3  4  5\n",
       "C    6  7  8"
      ]
     },
     "execution_count": 38,
     "metadata": {},
     "output_type": "execute_result"
    }
   ],
   "source": [
    "df.rename(\n",
    "    columns={'a': 'aa'},\n",
    "    index={'A': 'AA'}\n",
    ")"
   ]
  }
 ],
 "metadata": {
  "kernelspec": {
   "display_name": "Python 3",
   "language": "python",
   "name": "python3"
  },
  "language_info": {
   "codemirror_mode": {
    "name": "ipython",
    "version": 3
   },
   "file_extension": ".py",
   "mimetype": "text/x-python",
   "name": "python",
   "nbconvert_exporter": "python",
   "pygments_lexer": "ipython3",
   "version": "3.9.1"
  }
 },
 "nbformat": 4,
 "nbformat_minor": 4
}
