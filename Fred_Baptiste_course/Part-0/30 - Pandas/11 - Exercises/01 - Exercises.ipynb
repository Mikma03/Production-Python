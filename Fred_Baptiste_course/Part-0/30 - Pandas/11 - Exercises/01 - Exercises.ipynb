{
 "cells": [
  {
   "cell_type": "markdown",
   "id": "sacred-massage",
   "metadata": {},
   "source": [
    "### Exercises"
   ]
  },
  {
   "cell_type": "markdown",
   "id": "purple-invalid",
   "metadata": {},
   "source": [
    "#### Question 1"
   ]
  },
  {
   "cell_type": "markdown",
   "id": "ideal-vocabulary",
   "metadata": {},
   "source": [
    "Alongside this notebook is a data file named `daily_quotes.csv` which contains EOD OHLC/Volume data for a small number of equities over a 6 month period."
   ]
  },
  {
   "cell_type": "markdown",
   "id": "physical-orlando",
   "metadata": {},
   "source": [
    "The first step is to load up this data into a dataframe, ensuring that all data types are correct (datetime objects for dates, floats for OHLC data, and integers for Volume)."
   ]
  },
  {
   "cell_type": "markdown",
   "id": "subsequent-collection",
   "metadata": {},
   "source": [
    "Write a function that receives the file name as an argument and returns a dataframe that:\n",
    "- has the correct data type for each column (`str`, `float`, `int`)\n",
    "- has a row index based on the `symbol` column"
   ]
  },
  {
   "cell_type": "markdown",
   "id": "coral-daily",
   "metadata": {},
   "source": [
    "In addition, we would like our dataframe to contain columns named and ordered in a specific way:\n",
    "- symbol (`str`)\n",
    "- date (`datetime`)\n",
    "- open (`float`)\n",
    "- high (`float`)\n",
    "- low (`float`)\n",
    "- close (`float`)\n",
    "- volume (`int`)\n",
    "\n",
    "(with `symbol` being used as the row index)"
   ]
  },
  {
   "cell_type": "markdown",
   "id": "celtic-correspondence",
   "metadata": {},
   "source": [
    "Hint: \n",
    "\n",
    "You will want to read up the Pandas docs for `read_csv` to see how you can handle datetime data directly while loading the data (in particular you should look at the `parse_dates` option):\n",
    "\n",
    "https://pandas.pydata.org/pandas-docs/stable/reference/api/pandas.read_csv.html\n",
    "\n",
    "Alternatively, you could convert these objects into proper datetime types after loading by using the Pandas function `to_datetime`, documented here:\n",
    "\n",
    "https://pandas.pydata.org/pandas-docs/stable/reference/api/pandas.to_datetime.html\n",
    "\n",
    "and then use conatenation to build up a dataframe that replaces the \"old\" `date` column with the \"new\" (properly typed) column."
   ]
  },
  {
   "cell_type": "markdown",
   "id": "illegal-chaos",
   "metadata": {},
   "source": [
    "#### Question 2"
   ]
  },
  {
   "cell_type": "markdown",
   "id": "illegal-communication",
   "metadata": {},
   "source": [
    "Write a function that, given a dataframe sructured as the one we created in Question 1 and a symbol name as a string (e.g. `AAPL`, `MSFT`, etc), will:\n",
    "- return a similarly structured dataframe consisting of the row (or rows) containing the records with the highest volume for the given symbol\n",
    "- raises a `ValueError` if the symbol is not in the dataframe"
   ]
  },
  {
   "cell_type": "markdown",
   "id": "spoken-facing",
   "metadata": {},
   "source": [
    "#### Question 3"
   ]
  },
  {
   "cell_type": "markdown",
   "id": "centered-margin",
   "metadata": {},
   "source": [
    "Using the same dataframe as in the preceding questions, our goal now is to write a function that will return, for a specific symbol, the row that had the largest high-low spread."
   ]
  },
  {
   "cell_type": "markdown",
   "id": "appropriate-litigation",
   "metadata": {},
   "source": [
    "Write a function to do that - it should just return a dataframe with the row (or rows) with the largest high-low spread."
   ]
  },
  {
   "cell_type": "markdown",
   "id": "fundamental-magazine",
   "metadata": {},
   "source": [
    "#### Question 4"
   ]
  },
  {
   "cell_type": "markdown",
   "id": "structured-coral",
   "metadata": {},
   "source": [
    "Using the same dataframe as the preceding questions, write a function that returns a single dataframe containing the record(s) with maximum high-low spread for each symbol in the dataframe. (Do not hardcode symbol names in this function - instead you should recover the possible symbol names from the data itself)."
   ]
  },
  {
   "cell_type": "markdown",
   "id": "warming-oriental",
   "metadata": {},
   "source": [
    "The returned dataframe should have the same structure as the original dataframe, but just contain the rows of maximum high-low spread for each symbol."
   ]
  }
 ],
 "metadata": {
  "kernelspec": {
   "display_name": "Python 3",
   "language": "python",
   "name": "python3"
  },
  "language_info": {
   "codemirror_mode": {
    "name": "ipython",
    "version": 3
   },
   "file_extension": ".py",
   "mimetype": "text/x-python",
   "name": "python",
   "nbconvert_exporter": "python",
   "pygments_lexer": "ipython3",
   "version": "3.9.1"
  }
 },
 "nbformat": 4,
 "nbformat_minor": 5
}
