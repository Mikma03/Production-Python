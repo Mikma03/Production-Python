{
 "cells": [
  {
   "cell_type": "markdown",
   "id": "neural-browser",
   "metadata": {},
   "source": [
    "### Solutions"
   ]
  },
  {
   "cell_type": "markdown",
   "id": "banner-budget",
   "metadata": {},
   "source": [
    "#### Question 1"
   ]
  },
  {
   "cell_type": "markdown",
   "id": "political-elements",
   "metadata": {},
   "source": [
    "Alongside this notebook is a data file named `daily_quotes.csv` which contains EOD OHLC/Volume data for a small number of equities over a 6 month period."
   ]
  },
  {
   "cell_type": "markdown",
   "id": "understood-throat",
   "metadata": {},
   "source": [
    "The first step is to load up this data into a dataframe, ensuring that all data types are correct (datetime objects for dates, floats for OHLC data, and integers for Volume)."
   ]
  },
  {
   "cell_type": "markdown",
   "id": "democratic-defeat",
   "metadata": {},
   "source": [
    "Write a function that receives the file name as an argument and returns a dataframe that:\n",
    "- has the correct data type for each column (`str`, `float`, `int`)\n",
    "- has a row index based on the `symbol` column"
   ]
  },
  {
   "cell_type": "markdown",
   "id": "secondary-metadata",
   "metadata": {},
   "source": [
    "In addition, we would like our dataframe to contain columns named and ordered in a specific way:\n",
    "- symbol (`str`)\n",
    "- date (`datetime`)\n",
    "- open (`float`)\n",
    "- high (`float`)\n",
    "- low (`float`)\n",
    "- close (`float`)\n",
    "- volume (`int`)\n",
    "\n",
    "(with `symbol` being used as the row index)"
   ]
  },
  {
   "cell_type": "markdown",
   "id": "binary-simulation",
   "metadata": {},
   "source": [
    "Hint: \n",
    "\n",
    "You will want to read up the Pandas docs for `read_csv` to see how you can handle datetime data directly while loading the data (in particular you should look at the `parse_dates` option):\n",
    "\n",
    "https://pandas.pydata.org/pandas-docs/stable/reference/api/pandas.read_csv.html\n",
    "\n",
    "Alternatively, you could convert these objects into proper datetime types after loading by using the Pandas function `to_datetime`, documented here:\n",
    "\n",
    "https://pandas.pydata.org/pandas-docs/stable/reference/api/pandas.to_datetime.html\n",
    "\n",
    "and then use conatenation to build up a dataframe that replaces the \"old\" `date` column with the \"new\" (properly typed) column."
   ]
  },
  {
   "cell_type": "markdown",
   "id": "heated-understanding",
   "metadata": {},
   "source": [
    "##### Solution"
   ]
  },
  {
   "cell_type": "markdown",
   "id": "respiratory-alignment",
   "metadata": {},
   "source": [
    "We'll use the Pandas `read_csv` function to load the dataframe with the column names and index we want to use:"
   ]
  },
  {
   "cell_type": "code",
   "execution_count": 1,
   "id": "wired-halifax",
   "metadata": {},
   "outputs": [],
   "source": [
    "import pandas as pd"
   ]
  },
  {
   "cell_type": "markdown",
   "id": "reasonable-syndicate",
   "metadata": {},
   "source": [
    "Let's see what our data file looks like before we load it up:"
   ]
  },
  {
   "cell_type": "code",
   "execution_count": 2,
   "id": "inside-walter",
   "metadata": {},
   "outputs": [
    {
     "name": "stdout",
     "output_type": "stream",
     "text": [
      "﻿Symbol,Date, Close/Last, Volume, Open, High, Low\n",
      "AAPL,2/12/21,135.37,60145130,134.35,135.53,133.6921\n",
      "AMZN,2/12/21,3277.71,2335339,3250,3280.25,3233.31\n",
      "GOOG,2/12/21,2104.11,855865,2090.25,2108.82,2083.13\n",
      "MSFT,2/12/21,244.99,16561080,243.933,245.3,242.73\n"
     ]
    }
   ],
   "source": [
    "with open('daily_quotes.csv') as f:\n",
    "    for _ in range(5):\n",
    "        print(next(f).strip())    "
   ]
  },
  {
   "cell_type": "markdown",
   "id": "described-floor",
   "metadata": {},
   "source": [
    "We can see that our columns are ordered as: `Symbol`, `Date`, `Close/Last`, `Volume`, `Open`, `High`, `Low` - we'll use that fact to rename our columns as we import the data."
   ]
  },
  {
   "cell_type": "code",
   "execution_count": 3,
   "id": "technical-repeat",
   "metadata": {},
   "outputs": [
    {
     "data": {
      "text/html": [
       "<div>\n",
       "<style scoped>\n",
       "    .dataframe tbody tr th:only-of-type {\n",
       "        vertical-align: middle;\n",
       "    }\n",
       "\n",
       "    .dataframe tbody tr th {\n",
       "        vertical-align: top;\n",
       "    }\n",
       "\n",
       "    .dataframe thead th {\n",
       "        text-align: right;\n",
       "    }\n",
       "</style>\n",
       "<table border=\"1\" class=\"dataframe\">\n",
       "  <thead>\n",
       "    <tr style=\"text-align: right;\">\n",
       "      <th></th>\n",
       "      <th>date</th>\n",
       "      <th>close</th>\n",
       "      <th>volume</th>\n",
       "      <th>open</th>\n",
       "      <th>high</th>\n",
       "      <th>low</th>\n",
       "    </tr>\n",
       "    <tr>\n",
       "      <th>symbol</th>\n",
       "      <th></th>\n",
       "      <th></th>\n",
       "      <th></th>\n",
       "      <th></th>\n",
       "      <th></th>\n",
       "      <th></th>\n",
       "    </tr>\n",
       "  </thead>\n",
       "  <tbody>\n",
       "    <tr>\n",
       "      <th>AAPL</th>\n",
       "      <td>2/12/21</td>\n",
       "      <td>135.37</td>\n",
       "      <td>60145130</td>\n",
       "      <td>134.350</td>\n",
       "      <td>135.5300</td>\n",
       "      <td>133.6921</td>\n",
       "    </tr>\n",
       "    <tr>\n",
       "      <th>AMZN</th>\n",
       "      <td>2/12/21</td>\n",
       "      <td>3277.71</td>\n",
       "      <td>2335339</td>\n",
       "      <td>3250.000</td>\n",
       "      <td>3280.2500</td>\n",
       "      <td>3233.3100</td>\n",
       "    </tr>\n",
       "    <tr>\n",
       "      <th>GOOG</th>\n",
       "      <td>2/12/21</td>\n",
       "      <td>2104.11</td>\n",
       "      <td>855865</td>\n",
       "      <td>2090.250</td>\n",
       "      <td>2108.8200</td>\n",
       "      <td>2083.1300</td>\n",
       "    </tr>\n",
       "    <tr>\n",
       "      <th>MSFT</th>\n",
       "      <td>2/12/21</td>\n",
       "      <td>244.99</td>\n",
       "      <td>16561080</td>\n",
       "      <td>243.933</td>\n",
       "      <td>245.3000</td>\n",
       "      <td>242.7300</td>\n",
       "    </tr>\n",
       "    <tr>\n",
       "      <th>AAPL</th>\n",
       "      <td>2/11/21</td>\n",
       "      <td>135.13</td>\n",
       "      <td>64280030</td>\n",
       "      <td>135.900</td>\n",
       "      <td>136.3900</td>\n",
       "      <td>133.7700</td>\n",
       "    </tr>\n",
       "    <tr>\n",
       "      <th>...</th>\n",
       "      <td>...</td>\n",
       "      <td>...</td>\n",
       "      <td>...</td>\n",
       "      <td>...</td>\n",
       "      <td>...</td>\n",
       "      <td>...</td>\n",
       "    </tr>\n",
       "    <tr>\n",
       "      <th>MSFT</th>\n",
       "      <td>8/14/20</td>\n",
       "      <td>208.90</td>\n",
       "      <td>17958940</td>\n",
       "      <td>208.760</td>\n",
       "      <td>209.5900</td>\n",
       "      <td>207.5100</td>\n",
       "    </tr>\n",
       "    <tr>\n",
       "      <th>AAPL</th>\n",
       "      <td>8/13/20</td>\n",
       "      <td>115.01</td>\n",
       "      <td>210082080</td>\n",
       "      <td>114.430</td>\n",
       "      <td>116.0425</td>\n",
       "      <td>113.9275</td>\n",
       "    </tr>\n",
       "    <tr>\n",
       "      <th>AMZN</th>\n",
       "      <td>8/13/20</td>\n",
       "      <td>3161.02</td>\n",
       "      <td>3149043</td>\n",
       "      <td>3182.990</td>\n",
       "      <td>3217.5211</td>\n",
       "      <td>3155.0000</td>\n",
       "    </tr>\n",
       "    <tr>\n",
       "      <th>GOOG</th>\n",
       "      <td>8/13/20</td>\n",
       "      <td>1518.45</td>\n",
       "      <td>1455208</td>\n",
       "      <td>1510.340</td>\n",
       "      <td>1537.2500</td>\n",
       "      <td>1508.0050</td>\n",
       "    </tr>\n",
       "    <tr>\n",
       "      <th>MSFT</th>\n",
       "      <td>8/13/20</td>\n",
       "      <td>208.70</td>\n",
       "      <td>22588870</td>\n",
       "      <td>209.440</td>\n",
       "      <td>211.3500</td>\n",
       "      <td>208.1500</td>\n",
       "    </tr>\n",
       "  </tbody>\n",
       "</table>\n",
       "<p>508 rows × 6 columns</p>\n",
       "</div>"
      ],
      "text/plain": [
       "           date    close     volume      open       high        low\n",
       "symbol                                                             \n",
       "AAPL    2/12/21   135.37   60145130   134.350   135.5300   133.6921\n",
       "AMZN    2/12/21  3277.71    2335339  3250.000  3280.2500  3233.3100\n",
       "GOOG    2/12/21  2104.11     855865  2090.250  2108.8200  2083.1300\n",
       "MSFT    2/12/21   244.99   16561080   243.933   245.3000   242.7300\n",
       "AAPL    2/11/21   135.13   64280030   135.900   136.3900   133.7700\n",
       "...         ...      ...        ...       ...        ...        ...\n",
       "MSFT    8/14/20   208.90   17958940   208.760   209.5900   207.5100\n",
       "AAPL    8/13/20   115.01  210082080   114.430   116.0425   113.9275\n",
       "AMZN    8/13/20  3161.02    3149043  3182.990  3217.5211  3155.0000\n",
       "GOOG    8/13/20  1518.45    1455208  1510.340  1537.2500  1508.0050\n",
       "MSFT    8/13/20   208.70   22588870   209.440   211.3500   208.1500\n",
       "\n",
       "[508 rows x 6 columns]"
      ]
     },
     "execution_count": 3,
     "metadata": {},
     "output_type": "execute_result"
    }
   ],
   "source": [
    "df = pd.read_csv(\n",
    "    'daily_quotes.csv',\n",
    "    header=0,\n",
    "    names=['symbol', 'date', 'close', 'volume', 'open', 'high', 'low'],\n",
    "    index_col = 0,\n",
    ")\n",
    "df"
   ]
  },
  {
   "cell_type": "markdown",
   "id": "realistic-sailing",
   "metadata": {},
   "source": [
    "We want to generate a dataframe where the columns are ordered slightly differently, so we can use fancy indexing for that:"
   ]
  },
  {
   "cell_type": "code",
   "execution_count": 4,
   "id": "continent-remains",
   "metadata": {},
   "outputs": [
    {
     "data": {
      "text/html": [
       "<div>\n",
       "<style scoped>\n",
       "    .dataframe tbody tr th:only-of-type {\n",
       "        vertical-align: middle;\n",
       "    }\n",
       "\n",
       "    .dataframe tbody tr th {\n",
       "        vertical-align: top;\n",
       "    }\n",
       "\n",
       "    .dataframe thead th {\n",
       "        text-align: right;\n",
       "    }\n",
       "</style>\n",
       "<table border=\"1\" class=\"dataframe\">\n",
       "  <thead>\n",
       "    <tr style=\"text-align: right;\">\n",
       "      <th></th>\n",
       "      <th>date</th>\n",
       "      <th>open</th>\n",
       "      <th>high</th>\n",
       "      <th>low</th>\n",
       "      <th>close</th>\n",
       "      <th>volume</th>\n",
       "    </tr>\n",
       "    <tr>\n",
       "      <th>symbol</th>\n",
       "      <th></th>\n",
       "      <th></th>\n",
       "      <th></th>\n",
       "      <th></th>\n",
       "      <th></th>\n",
       "      <th></th>\n",
       "    </tr>\n",
       "  </thead>\n",
       "  <tbody>\n",
       "    <tr>\n",
       "      <th>AAPL</th>\n",
       "      <td>2/12/21</td>\n",
       "      <td>134.350</td>\n",
       "      <td>135.5300</td>\n",
       "      <td>133.6921</td>\n",
       "      <td>135.37</td>\n",
       "      <td>60145130</td>\n",
       "    </tr>\n",
       "    <tr>\n",
       "      <th>AMZN</th>\n",
       "      <td>2/12/21</td>\n",
       "      <td>3250.000</td>\n",
       "      <td>3280.2500</td>\n",
       "      <td>3233.3100</td>\n",
       "      <td>3277.71</td>\n",
       "      <td>2335339</td>\n",
       "    </tr>\n",
       "    <tr>\n",
       "      <th>GOOG</th>\n",
       "      <td>2/12/21</td>\n",
       "      <td>2090.250</td>\n",
       "      <td>2108.8200</td>\n",
       "      <td>2083.1300</td>\n",
       "      <td>2104.11</td>\n",
       "      <td>855865</td>\n",
       "    </tr>\n",
       "    <tr>\n",
       "      <th>MSFT</th>\n",
       "      <td>2/12/21</td>\n",
       "      <td>243.933</td>\n",
       "      <td>245.3000</td>\n",
       "      <td>242.7300</td>\n",
       "      <td>244.99</td>\n",
       "      <td>16561080</td>\n",
       "    </tr>\n",
       "    <tr>\n",
       "      <th>AAPL</th>\n",
       "      <td>2/11/21</td>\n",
       "      <td>135.900</td>\n",
       "      <td>136.3900</td>\n",
       "      <td>133.7700</td>\n",
       "      <td>135.13</td>\n",
       "      <td>64280030</td>\n",
       "    </tr>\n",
       "    <tr>\n",
       "      <th>...</th>\n",
       "      <td>...</td>\n",
       "      <td>...</td>\n",
       "      <td>...</td>\n",
       "      <td>...</td>\n",
       "      <td>...</td>\n",
       "      <td>...</td>\n",
       "    </tr>\n",
       "    <tr>\n",
       "      <th>MSFT</th>\n",
       "      <td>8/14/20</td>\n",
       "      <td>208.760</td>\n",
       "      <td>209.5900</td>\n",
       "      <td>207.5100</td>\n",
       "      <td>208.90</td>\n",
       "      <td>17958940</td>\n",
       "    </tr>\n",
       "    <tr>\n",
       "      <th>AAPL</th>\n",
       "      <td>8/13/20</td>\n",
       "      <td>114.430</td>\n",
       "      <td>116.0425</td>\n",
       "      <td>113.9275</td>\n",
       "      <td>115.01</td>\n",
       "      <td>210082080</td>\n",
       "    </tr>\n",
       "    <tr>\n",
       "      <th>AMZN</th>\n",
       "      <td>8/13/20</td>\n",
       "      <td>3182.990</td>\n",
       "      <td>3217.5211</td>\n",
       "      <td>3155.0000</td>\n",
       "      <td>3161.02</td>\n",
       "      <td>3149043</td>\n",
       "    </tr>\n",
       "    <tr>\n",
       "      <th>GOOG</th>\n",
       "      <td>8/13/20</td>\n",
       "      <td>1510.340</td>\n",
       "      <td>1537.2500</td>\n",
       "      <td>1508.0050</td>\n",
       "      <td>1518.45</td>\n",
       "      <td>1455208</td>\n",
       "    </tr>\n",
       "    <tr>\n",
       "      <th>MSFT</th>\n",
       "      <td>8/13/20</td>\n",
       "      <td>209.440</td>\n",
       "      <td>211.3500</td>\n",
       "      <td>208.1500</td>\n",
       "      <td>208.70</td>\n",
       "      <td>22588870</td>\n",
       "    </tr>\n",
       "  </tbody>\n",
       "</table>\n",
       "<p>508 rows × 6 columns</p>\n",
       "</div>"
      ],
      "text/plain": [
       "           date      open       high        low    close     volume\n",
       "symbol                                                             \n",
       "AAPL    2/12/21   134.350   135.5300   133.6921   135.37   60145130\n",
       "AMZN    2/12/21  3250.000  3280.2500  3233.3100  3277.71    2335339\n",
       "GOOG    2/12/21  2090.250  2108.8200  2083.1300  2104.11     855865\n",
       "MSFT    2/12/21   243.933   245.3000   242.7300   244.99   16561080\n",
       "AAPL    2/11/21   135.900   136.3900   133.7700   135.13   64280030\n",
       "...         ...       ...        ...        ...      ...        ...\n",
       "MSFT    8/14/20   208.760   209.5900   207.5100   208.90   17958940\n",
       "AAPL    8/13/20   114.430   116.0425   113.9275   115.01  210082080\n",
       "AMZN    8/13/20  3182.990  3217.5211  3155.0000  3161.02    3149043\n",
       "GOOG    8/13/20  1510.340  1537.2500  1508.0050  1518.45    1455208\n",
       "MSFT    8/13/20   209.440   211.3500   208.1500   208.70   22588870\n",
       "\n",
       "[508 rows x 6 columns]"
      ]
     },
     "execution_count": 4,
     "metadata": {},
     "output_type": "execute_result"
    }
   ],
   "source": [
    "df = df[['date', 'open', 'high', 'low', 'close', 'volume']]\n",
    "df"
   ]
  },
  {
   "cell_type": "markdown",
   "id": "conventional-basic",
   "metadata": {},
   "source": [
    "We also need to check the data type of each column:"
   ]
  },
  {
   "cell_type": "code",
   "execution_count": 5,
   "id": "coordinated-reserve",
   "metadata": {},
   "outputs": [
    {
     "name": "stdout",
     "output_type": "stream",
     "text": [
      "<class 'pandas.core.frame.DataFrame'>\n",
      "Index: 508 entries, AAPL to MSFT\n",
      "Data columns (total 6 columns):\n",
      " #   Column  Non-Null Count  Dtype  \n",
      "---  ------  --------------  -----  \n",
      " 0   date    508 non-null    object \n",
      " 1   open    508 non-null    float64\n",
      " 2   high    508 non-null    float64\n",
      " 3   low     508 non-null    float64\n",
      " 4   close   508 non-null    float64\n",
      " 5   volume  508 non-null    int64  \n",
      "dtypes: float64(4), int64(1), object(1)\n",
      "memory usage: 27.8+ KB\n"
     ]
    }
   ],
   "source": [
    "df.info()"
   ]
  },
  {
   "cell_type": "markdown",
   "id": "certified-disposal",
   "metadata": {},
   "source": [
    "So, all the columns except the `date` column have the correct data type."
   ]
  },
  {
   "cell_type": "markdown",
   "id": "perceived-utility",
   "metadata": {},
   "source": [
    "We could use Pandas' `to_datetime` function to cast that column to the proper type:"
   ]
  },
  {
   "cell_type": "code",
   "execution_count": 6,
   "id": "satellite-daisy",
   "metadata": {},
   "outputs": [
    {
     "data": {
      "text/plain": [
       "symbol\n",
       "AAPL   2021-02-12\n",
       "AMZN   2021-02-12\n",
       "GOOG   2021-02-12\n",
       "MSFT   2021-02-12\n",
       "AAPL   2021-02-11\n",
       "          ...    \n",
       "MSFT   2020-08-14\n",
       "AAPL   2020-08-13\n",
       "AMZN   2020-08-13\n",
       "GOOG   2020-08-13\n",
       "MSFT   2020-08-13\n",
       "Name: date, Length: 508, dtype: datetime64[ns]"
      ]
     },
     "execution_count": 6,
     "metadata": {},
     "output_type": "execute_result"
    }
   ],
   "source": [
    "pd.to_datetime(df['date'])"
   ]
  },
  {
   "cell_type": "markdown",
   "id": "artistic-particle",
   "metadata": {},
   "source": [
    "If we approach it this way, we'll need to concatenate this column with the other columns from our original dataframe to form the new dataframe."
   ]
  },
  {
   "cell_type": "markdown",
   "id": "binding-republic",
   "metadata": {},
   "source": [
    "Instead, it is quite easy to actually specify that this column should be parsed as a datetime right in the `rads_csv` function's arguments:"
   ]
  },
  {
   "cell_type": "code",
   "execution_count": 7,
   "id": "economic-shepherd",
   "metadata": {},
   "outputs": [
    {
     "data": {
      "text/html": [
       "<div>\n",
       "<style scoped>\n",
       "    .dataframe tbody tr th:only-of-type {\n",
       "        vertical-align: middle;\n",
       "    }\n",
       "\n",
       "    .dataframe tbody tr th {\n",
       "        vertical-align: top;\n",
       "    }\n",
       "\n",
       "    .dataframe thead th {\n",
       "        text-align: right;\n",
       "    }\n",
       "</style>\n",
       "<table border=\"1\" class=\"dataframe\">\n",
       "  <thead>\n",
       "    <tr style=\"text-align: right;\">\n",
       "      <th></th>\n",
       "      <th>date</th>\n",
       "      <th>close</th>\n",
       "      <th>volume</th>\n",
       "      <th>open</th>\n",
       "      <th>high</th>\n",
       "      <th>low</th>\n",
       "    </tr>\n",
       "    <tr>\n",
       "      <th>symbol</th>\n",
       "      <th></th>\n",
       "      <th></th>\n",
       "      <th></th>\n",
       "      <th></th>\n",
       "      <th></th>\n",
       "      <th></th>\n",
       "    </tr>\n",
       "  </thead>\n",
       "  <tbody>\n",
       "    <tr>\n",
       "      <th>AAPL</th>\n",
       "      <td>2021-02-12</td>\n",
       "      <td>135.37</td>\n",
       "      <td>60145130</td>\n",
       "      <td>134.350</td>\n",
       "      <td>135.5300</td>\n",
       "      <td>133.6921</td>\n",
       "    </tr>\n",
       "    <tr>\n",
       "      <th>AMZN</th>\n",
       "      <td>2021-02-12</td>\n",
       "      <td>3277.71</td>\n",
       "      <td>2335339</td>\n",
       "      <td>3250.000</td>\n",
       "      <td>3280.2500</td>\n",
       "      <td>3233.3100</td>\n",
       "    </tr>\n",
       "    <tr>\n",
       "      <th>GOOG</th>\n",
       "      <td>2021-02-12</td>\n",
       "      <td>2104.11</td>\n",
       "      <td>855865</td>\n",
       "      <td>2090.250</td>\n",
       "      <td>2108.8200</td>\n",
       "      <td>2083.1300</td>\n",
       "    </tr>\n",
       "    <tr>\n",
       "      <th>MSFT</th>\n",
       "      <td>2021-02-12</td>\n",
       "      <td>244.99</td>\n",
       "      <td>16561080</td>\n",
       "      <td>243.933</td>\n",
       "      <td>245.3000</td>\n",
       "      <td>242.7300</td>\n",
       "    </tr>\n",
       "    <tr>\n",
       "      <th>AAPL</th>\n",
       "      <td>2021-02-11</td>\n",
       "      <td>135.13</td>\n",
       "      <td>64280030</td>\n",
       "      <td>135.900</td>\n",
       "      <td>136.3900</td>\n",
       "      <td>133.7700</td>\n",
       "    </tr>\n",
       "    <tr>\n",
       "      <th>...</th>\n",
       "      <td>...</td>\n",
       "      <td>...</td>\n",
       "      <td>...</td>\n",
       "      <td>...</td>\n",
       "      <td>...</td>\n",
       "      <td>...</td>\n",
       "    </tr>\n",
       "    <tr>\n",
       "      <th>MSFT</th>\n",
       "      <td>2020-08-14</td>\n",
       "      <td>208.90</td>\n",
       "      <td>17958940</td>\n",
       "      <td>208.760</td>\n",
       "      <td>209.5900</td>\n",
       "      <td>207.5100</td>\n",
       "    </tr>\n",
       "    <tr>\n",
       "      <th>AAPL</th>\n",
       "      <td>2020-08-13</td>\n",
       "      <td>115.01</td>\n",
       "      <td>210082080</td>\n",
       "      <td>114.430</td>\n",
       "      <td>116.0425</td>\n",
       "      <td>113.9275</td>\n",
       "    </tr>\n",
       "    <tr>\n",
       "      <th>AMZN</th>\n",
       "      <td>2020-08-13</td>\n",
       "      <td>3161.02</td>\n",
       "      <td>3149043</td>\n",
       "      <td>3182.990</td>\n",
       "      <td>3217.5211</td>\n",
       "      <td>3155.0000</td>\n",
       "    </tr>\n",
       "    <tr>\n",
       "      <th>GOOG</th>\n",
       "      <td>2020-08-13</td>\n",
       "      <td>1518.45</td>\n",
       "      <td>1455208</td>\n",
       "      <td>1510.340</td>\n",
       "      <td>1537.2500</td>\n",
       "      <td>1508.0050</td>\n",
       "    </tr>\n",
       "    <tr>\n",
       "      <th>MSFT</th>\n",
       "      <td>2020-08-13</td>\n",
       "      <td>208.70</td>\n",
       "      <td>22588870</td>\n",
       "      <td>209.440</td>\n",
       "      <td>211.3500</td>\n",
       "      <td>208.1500</td>\n",
       "    </tr>\n",
       "  </tbody>\n",
       "</table>\n",
       "<p>508 rows × 6 columns</p>\n",
       "</div>"
      ],
      "text/plain": [
       "             date    close     volume      open       high        low\n",
       "symbol                                                               \n",
       "AAPL   2021-02-12   135.37   60145130   134.350   135.5300   133.6921\n",
       "AMZN   2021-02-12  3277.71    2335339  3250.000  3280.2500  3233.3100\n",
       "GOOG   2021-02-12  2104.11     855865  2090.250  2108.8200  2083.1300\n",
       "MSFT   2021-02-12   244.99   16561080   243.933   245.3000   242.7300\n",
       "AAPL   2021-02-11   135.13   64280030   135.900   136.3900   133.7700\n",
       "...           ...      ...        ...       ...        ...        ...\n",
       "MSFT   2020-08-14   208.90   17958940   208.760   209.5900   207.5100\n",
       "AAPL   2020-08-13   115.01  210082080   114.430   116.0425   113.9275\n",
       "AMZN   2020-08-13  3161.02    3149043  3182.990  3217.5211  3155.0000\n",
       "GOOG   2020-08-13  1518.45    1455208  1510.340  1537.2500  1508.0050\n",
       "MSFT   2020-08-13   208.70   22588870   209.440   211.3500   208.1500\n",
       "\n",
       "[508 rows x 6 columns]"
      ]
     },
     "execution_count": 7,
     "metadata": {},
     "output_type": "execute_result"
    }
   ],
   "source": [
    "df = pd.read_csv(\n",
    "    'daily_quotes.csv',\n",
    "    header=0,\n",
    "    names=['symbol', 'date', 'close', 'volume', 'open', 'high', 'low'],\n",
    "    parse_dates=['date'],\n",
    "    index_col = 0,\n",
    ")\n",
    "df"
   ]
  },
  {
   "cell_type": "markdown",
   "id": "variable-equity",
   "metadata": {},
   "source": [
    "And if we now look at our dataframes columns, we'll see that the `date` column is actually a datetime object:"
   ]
  },
  {
   "cell_type": "code",
   "execution_count": 8,
   "id": "headed-excess",
   "metadata": {},
   "outputs": [
    {
     "name": "stdout",
     "output_type": "stream",
     "text": [
      "<class 'pandas.core.frame.DataFrame'>\n",
      "Index: 508 entries, AAPL to MSFT\n",
      "Data columns (total 6 columns):\n",
      " #   Column  Non-Null Count  Dtype         \n",
      "---  ------  --------------  -----         \n",
      " 0   date    508 non-null    datetime64[ns]\n",
      " 1   close   508 non-null    float64       \n",
      " 2   volume  508 non-null    int64         \n",
      " 3   open    508 non-null    float64       \n",
      " 4   high    508 non-null    float64       \n",
      " 5   low     508 non-null    float64       \n",
      "dtypes: datetime64[ns](1), float64(4), int64(1)\n",
      "memory usage: 27.8+ KB\n"
     ]
    }
   ],
   "source": [
    "df.info()"
   ]
  },
  {
   "cell_type": "markdown",
   "id": "facial-employment",
   "metadata": {},
   "source": [
    "So let's put all this in a function that will return the dataframe that we want based on the data in that file:"
   ]
  },
  {
   "cell_type": "code",
   "execution_count": 9,
   "id": "complex-drilling",
   "metadata": {},
   "outputs": [],
   "source": [
    "def load_df(file_name):\n",
    "    df = pd.read_csv(\n",
    "        'daily_quotes.csv',\n",
    "        header=0,\n",
    "        names=['symbol', 'date', 'close', 'volume', 'open', 'high', 'low'],\n",
    "        index_col = 0,\n",
    "        parse_dates=['date'],\n",
    "    )\n",
    "    df = df[['date', 'open', 'high', 'low', 'close', 'volume']]\n",
    "    return df"
   ]
  },
  {
   "cell_type": "code",
   "execution_count": 10,
   "id": "palestinian-ocean",
   "metadata": {},
   "outputs": [
    {
     "name": "stdout",
     "output_type": "stream",
     "text": [
      "<class 'pandas.core.frame.DataFrame'>\n",
      "Index: 508 entries, AAPL to MSFT\n",
      "Data columns (total 6 columns):\n",
      " #   Column  Non-Null Count  Dtype         \n",
      "---  ------  --------------  -----         \n",
      " 0   date    508 non-null    datetime64[ns]\n",
      " 1   open    508 non-null    float64       \n",
      " 2   high    508 non-null    float64       \n",
      " 3   low     508 non-null    float64       \n",
      " 4   close   508 non-null    float64       \n",
      " 5   volume  508 non-null    int64         \n",
      "dtypes: datetime64[ns](1), float64(4), int64(1)\n",
      "memory usage: 27.8+ KB\n"
     ]
    }
   ],
   "source": [
    "df = load_df('daily_quotes.csv')\n",
    "df.info()"
   ]
  },
  {
   "cell_type": "markdown",
   "id": "satellite-mixture",
   "metadata": {},
   "source": [
    "#### Question 2"
   ]
  },
  {
   "cell_type": "markdown",
   "id": "artificial-limit",
   "metadata": {},
   "source": [
    "Write a function that, given a dataframe sructured as the one we created in Question 1 and a symbol name as a string (e.g. `AAPL`, `MSFT`, etc), will:\n",
    "- return a similarly structured dataframe consisting of the row (or rows) containing the records with the highest volume for the given symbol\n",
    "- raises a `ValueError` if the symbol is not in the dataframe"
   ]
  },
  {
   "cell_type": "markdown",
   "id": "innocent-investigator",
   "metadata": {},
   "source": [
    "##### Solution"
   ]
  },
  {
   "cell_type": "markdown",
   "id": "consolidated-tomato",
   "metadata": {},
   "source": [
    "We'll use the dataframe from Question 1."
   ]
  },
  {
   "cell_type": "markdown",
   "id": "satisfactory-mercy",
   "metadata": {},
   "source": [
    "We'll want to focus on a single symbol at a time, so we can do this by leveraging the `symbol` index we have on the dataframe."
   ]
  },
  {
   "cell_type": "markdown",
   "id": "ancient-border",
   "metadata": {},
   "source": [
    "For example, to extract just the rows for `GOOG`, we could do this:"
   ]
  },
  {
   "cell_type": "code",
   "execution_count": 11,
   "id": "magnetic-elimination",
   "metadata": {},
   "outputs": [
    {
     "data": {
      "text/html": [
       "<div>\n",
       "<style scoped>\n",
       "    .dataframe tbody tr th:only-of-type {\n",
       "        vertical-align: middle;\n",
       "    }\n",
       "\n",
       "    .dataframe tbody tr th {\n",
       "        vertical-align: top;\n",
       "    }\n",
       "\n",
       "    .dataframe thead th {\n",
       "        text-align: right;\n",
       "    }\n",
       "</style>\n",
       "<table border=\"1\" class=\"dataframe\">\n",
       "  <thead>\n",
       "    <tr style=\"text-align: right;\">\n",
       "      <th></th>\n",
       "      <th>date</th>\n",
       "      <th>open</th>\n",
       "      <th>high</th>\n",
       "      <th>low</th>\n",
       "      <th>close</th>\n",
       "      <th>volume</th>\n",
       "    </tr>\n",
       "    <tr>\n",
       "      <th>symbol</th>\n",
       "      <th></th>\n",
       "      <th></th>\n",
       "      <th></th>\n",
       "      <th></th>\n",
       "      <th></th>\n",
       "      <th></th>\n",
       "    </tr>\n",
       "  </thead>\n",
       "  <tbody>\n",
       "    <tr>\n",
       "      <th>GOOG</th>\n",
       "      <td>2021-02-12</td>\n",
       "      <td>2090.25</td>\n",
       "      <td>2108.8200</td>\n",
       "      <td>2083.130</td>\n",
       "      <td>2104.11</td>\n",
       "      <td>855865</td>\n",
       "    </tr>\n",
       "    <tr>\n",
       "      <th>GOOG</th>\n",
       "      <td>2021-02-11</td>\n",
       "      <td>2099.51</td>\n",
       "      <td>2102.0300</td>\n",
       "      <td>2077.320</td>\n",
       "      <td>2095.89</td>\n",
       "      <td>945650</td>\n",
       "    </tr>\n",
       "    <tr>\n",
       "      <th>GOOG</th>\n",
       "      <td>2021-02-10</td>\n",
       "      <td>2094.21</td>\n",
       "      <td>2108.3700</td>\n",
       "      <td>2063.090</td>\n",
       "      <td>2095.38</td>\n",
       "      <td>1135464</td>\n",
       "    </tr>\n",
       "    <tr>\n",
       "      <th>GOOG</th>\n",
       "      <td>2021-02-09</td>\n",
       "      <td>2078.54</td>\n",
       "      <td>2105.1300</td>\n",
       "      <td>2078.540</td>\n",
       "      <td>2083.51</td>\n",
       "      <td>889850</td>\n",
       "    </tr>\n",
       "    <tr>\n",
       "      <th>GOOG</th>\n",
       "      <td>2021-02-08</td>\n",
       "      <td>2105.91</td>\n",
       "      <td>2123.5469</td>\n",
       "      <td>2072.000</td>\n",
       "      <td>2092.91</td>\n",
       "      <td>1242411</td>\n",
       "    </tr>\n",
       "    <tr>\n",
       "      <th>...</th>\n",
       "      <td>...</td>\n",
       "      <td>...</td>\n",
       "      <td>...</td>\n",
       "      <td>...</td>\n",
       "      <td>...</td>\n",
       "      <td>...</td>\n",
       "    </tr>\n",
       "    <tr>\n",
       "      <th>GOOG</th>\n",
       "      <td>2020-08-19</td>\n",
       "      <td>1553.31</td>\n",
       "      <td>1573.6800</td>\n",
       "      <td>1543.950</td>\n",
       "      <td>1547.53</td>\n",
       "      <td>1660611</td>\n",
       "    </tr>\n",
       "    <tr>\n",
       "      <th>GOOG</th>\n",
       "      <td>2020-08-18</td>\n",
       "      <td>1526.18</td>\n",
       "      <td>1562.4700</td>\n",
       "      <td>1523.710</td>\n",
       "      <td>1558.60</td>\n",
       "      <td>2027086</td>\n",
       "    </tr>\n",
       "    <tr>\n",
       "      <th>GOOG</th>\n",
       "      <td>2020-08-17</td>\n",
       "      <td>1514.67</td>\n",
       "      <td>1525.6100</td>\n",
       "      <td>1507.970</td>\n",
       "      <td>1517.98</td>\n",
       "      <td>1378600</td>\n",
       "    </tr>\n",
       "    <tr>\n",
       "      <th>GOOG</th>\n",
       "      <td>2020-08-14</td>\n",
       "      <td>1515.66</td>\n",
       "      <td>1521.9000</td>\n",
       "      <td>1502.880</td>\n",
       "      <td>1507.73</td>\n",
       "      <td>1355200</td>\n",
       "    </tr>\n",
       "    <tr>\n",
       "      <th>GOOG</th>\n",
       "      <td>2020-08-13</td>\n",
       "      <td>1510.34</td>\n",
       "      <td>1537.2500</td>\n",
       "      <td>1508.005</td>\n",
       "      <td>1518.45</td>\n",
       "      <td>1455208</td>\n",
       "    </tr>\n",
       "  </tbody>\n",
       "</table>\n",
       "<p>127 rows × 6 columns</p>\n",
       "</div>"
      ],
      "text/plain": [
       "             date     open       high       low    close   volume\n",
       "symbol                                                           \n",
       "GOOG   2021-02-12  2090.25  2108.8200  2083.130  2104.11   855865\n",
       "GOOG   2021-02-11  2099.51  2102.0300  2077.320  2095.89   945650\n",
       "GOOG   2021-02-10  2094.21  2108.3700  2063.090  2095.38  1135464\n",
       "GOOG   2021-02-09  2078.54  2105.1300  2078.540  2083.51   889850\n",
       "GOOG   2021-02-08  2105.91  2123.5469  2072.000  2092.91  1242411\n",
       "...           ...      ...        ...       ...      ...      ...\n",
       "GOOG   2020-08-19  1553.31  1573.6800  1543.950  1547.53  1660611\n",
       "GOOG   2020-08-18  1526.18  1562.4700  1523.710  1558.60  2027086\n",
       "GOOG   2020-08-17  1514.67  1525.6100  1507.970  1517.98  1378600\n",
       "GOOG   2020-08-14  1515.66  1521.9000  1502.880  1507.73  1355200\n",
       "GOOG   2020-08-13  1510.34  1537.2500  1508.005  1518.45  1455208\n",
       "\n",
       "[127 rows x 6 columns]"
      ]
     },
     "execution_count": 11,
     "metadata": {},
     "output_type": "execute_result"
    }
   ],
   "source": [
    "df = load_df('daily_quotes.csv')\n",
    "df.loc['GOOG', :]"
   ]
  },
  {
   "cell_type": "markdown",
   "id": "continent-occurrence",
   "metadata": {},
   "source": [
    "Note that if the symbol does not exist, we get a KeyError exception (which we'll later want to raise as a `ValueError` instead - although leaving it as a `KeyError` is probably just fine, it's a good exercise reminding us how to trap and raise exceptions)."
   ]
  },
  {
   "cell_type": "code",
   "execution_count": 12,
   "id": "automatic-certificate",
   "metadata": {},
   "outputs": [
    {
     "name": "stdout",
     "output_type": "stream",
     "text": [
      "Could not find symbol ABC\n"
     ]
    }
   ],
   "source": [
    "try:\n",
    "    df.loc['ABC', :]\n",
    "except KeyError:\n",
    "    print('Could not find symbol ABC')"
   ]
  },
  {
   "cell_type": "markdown",
   "id": "verified-marina",
   "metadata": {},
   "source": [
    "Next, we'll want to identify the max of the `Volume` column for this particular subset:"
   ]
  },
  {
   "cell_type": "code",
   "execution_count": 13,
   "id": "dominican-silicon",
   "metadata": {},
   "outputs": [
    {
     "data": {
      "text/plain": [
       "symbol\n",
       "GOOG     855865\n",
       "GOOG     945650\n",
       "GOOG    1135464\n",
       "GOOG     889850\n",
       "GOOG    1242411\n",
       "         ...   \n",
       "GOOG    1660611\n",
       "GOOG    2027086\n",
       "GOOG    1378600\n",
       "GOOG    1355200\n",
       "GOOG    1455208\n",
       "Name: volume, Length: 127, dtype: int64"
      ]
     },
     "execution_count": 13,
     "metadata": {},
     "output_type": "execute_result"
    }
   ],
   "source": [
    "subset = df.loc['GOOG', :]\n",
    "subset['volume']"
   ]
  },
  {
   "cell_type": "markdown",
   "id": "herbal-parcel",
   "metadata": {},
   "source": [
    "And the max of that column can be calculated using the `max` function:"
   ]
  },
  {
   "cell_type": "code",
   "execution_count": 14,
   "id": "covered-toolbox",
   "metadata": {},
   "outputs": [
    {
     "data": {
      "text/plain": [
       "4330862"
      ]
     },
     "execution_count": 14,
     "metadata": {},
     "output_type": "execute_result"
    }
   ],
   "source": [
    "max(subset['volume'])"
   ]
  },
  {
   "cell_type": "markdown",
   "id": "faced-german",
   "metadata": {},
   "source": [
    "Or we could use the `max` method instead:"
   ]
  },
  {
   "cell_type": "code",
   "execution_count": 15,
   "id": "soviet-tender",
   "metadata": {},
   "outputs": [
    {
     "data": {
      "text/plain": [
       "4330862"
      ]
     },
     "execution_count": 15,
     "metadata": {},
     "output_type": "execute_result"
    }
   ],
   "source": [
    "subset['volume'].max()"
   ]
  },
  {
   "cell_type": "markdown",
   "id": "fiscal-joshua",
   "metadata": {},
   "source": [
    "Once we have that number, we can use boolean masking to pick up the specific row (or rows if that same max occurs multiple times) from the dataframe:"
   ]
  },
  {
   "cell_type": "code",
   "execution_count": 16,
   "id": "focal-exploration",
   "metadata": {},
   "outputs": [
    {
     "data": {
      "text/html": [
       "<div>\n",
       "<style scoped>\n",
       "    .dataframe tbody tr th:only-of-type {\n",
       "        vertical-align: middle;\n",
       "    }\n",
       "\n",
       "    .dataframe tbody tr th {\n",
       "        vertical-align: top;\n",
       "    }\n",
       "\n",
       "    .dataframe thead th {\n",
       "        text-align: right;\n",
       "    }\n",
       "</style>\n",
       "<table border=\"1\" class=\"dataframe\">\n",
       "  <thead>\n",
       "    <tr style=\"text-align: right;\">\n",
       "      <th></th>\n",
       "      <th>date</th>\n",
       "      <th>open</th>\n",
       "      <th>high</th>\n",
       "      <th>low</th>\n",
       "      <th>close</th>\n",
       "      <th>volume</th>\n",
       "    </tr>\n",
       "    <tr>\n",
       "      <th>symbol</th>\n",
       "      <th></th>\n",
       "      <th></th>\n",
       "      <th></th>\n",
       "      <th></th>\n",
       "      <th></th>\n",
       "      <th></th>\n",
       "    </tr>\n",
       "  </thead>\n",
       "  <tbody>\n",
       "    <tr>\n",
       "      <th>GOOG</th>\n",
       "      <td>2020-10-30</td>\n",
       "      <td>1672.11</td>\n",
       "      <td>1687.0</td>\n",
       "      <td>1604.46</td>\n",
       "      <td>1621.01</td>\n",
       "      <td>4330862</td>\n",
       "    </tr>\n",
       "  </tbody>\n",
       "</table>\n",
       "</div>"
      ],
      "text/plain": [
       "             date     open    high      low    close   volume\n",
       "symbol                                                       \n",
       "GOOG   2020-10-30  1672.11  1687.0  1604.46  1621.01  4330862"
      ]
     },
     "execution_count": 16,
     "metadata": {},
     "output_type": "execute_result"
    }
   ],
   "source": [
    "subset[subset['volume'] == subset['volume'].max()]"
   ]
  },
  {
   "cell_type": "markdown",
   "id": "comprehensive-deployment",
   "metadata": {},
   "source": [
    "In this case only a single row matched that maximal value."
   ]
  },
  {
   "cell_type": "markdown",
   "id": "spectacular-planet",
   "metadata": {},
   "source": [
    "So now let's write a function to encapsulate all this."
   ]
  },
  {
   "cell_type": "code",
   "execution_count": 17,
   "id": "nutritional-morrison",
   "metadata": {},
   "outputs": [],
   "source": [
    "def max_volume(df, symbol):\n",
    "    try:\n",
    "        subset = df.loc[symbol, :]\n",
    "    except KeyError:\n",
    "        raise ValueError(f'Symbol {symbol} has no data.')\n",
    "        \n",
    "    return subset[subset['volume'] == subset['volume'].max()]"
   ]
  },
  {
   "cell_type": "code",
   "execution_count": 18,
   "id": "fleet-livestock",
   "metadata": {},
   "outputs": [
    {
     "data": {
      "text/html": [
       "<div>\n",
       "<style scoped>\n",
       "    .dataframe tbody tr th:only-of-type {\n",
       "        vertical-align: middle;\n",
       "    }\n",
       "\n",
       "    .dataframe tbody tr th {\n",
       "        vertical-align: top;\n",
       "    }\n",
       "\n",
       "    .dataframe thead th {\n",
       "        text-align: right;\n",
       "    }\n",
       "</style>\n",
       "<table border=\"1\" class=\"dataframe\">\n",
       "  <thead>\n",
       "    <tr style=\"text-align: right;\">\n",
       "      <th></th>\n",
       "      <th>date</th>\n",
       "      <th>open</th>\n",
       "      <th>high</th>\n",
       "      <th>low</th>\n",
       "      <th>close</th>\n",
       "      <th>volume</th>\n",
       "    </tr>\n",
       "    <tr>\n",
       "      <th>symbol</th>\n",
       "      <th></th>\n",
       "      <th></th>\n",
       "      <th></th>\n",
       "      <th></th>\n",
       "      <th></th>\n",
       "      <th></th>\n",
       "    </tr>\n",
       "  </thead>\n",
       "  <tbody>\n",
       "    <tr>\n",
       "      <th>GOOG</th>\n",
       "      <td>2020-10-30</td>\n",
       "      <td>1672.11</td>\n",
       "      <td>1687.0</td>\n",
       "      <td>1604.46</td>\n",
       "      <td>1621.01</td>\n",
       "      <td>4330862</td>\n",
       "    </tr>\n",
       "  </tbody>\n",
       "</table>\n",
       "</div>"
      ],
      "text/plain": [
       "             date     open    high      low    close   volume\n",
       "symbol                                                       \n",
       "GOOG   2020-10-30  1672.11  1687.0  1604.46  1621.01  4330862"
      ]
     },
     "execution_count": 18,
     "metadata": {},
     "output_type": "execute_result"
    }
   ],
   "source": [
    "max_volume(df, 'GOOG')"
   ]
  },
  {
   "cell_type": "code",
   "execution_count": 19,
   "id": "connected-perception",
   "metadata": {},
   "outputs": [
    {
     "data": {
      "text/html": [
       "<div>\n",
       "<style scoped>\n",
       "    .dataframe tbody tr th:only-of-type {\n",
       "        vertical-align: middle;\n",
       "    }\n",
       "\n",
       "    .dataframe tbody tr th {\n",
       "        vertical-align: top;\n",
       "    }\n",
       "\n",
       "    .dataframe thead th {\n",
       "        text-align: right;\n",
       "    }\n",
       "</style>\n",
       "<table border=\"1\" class=\"dataframe\">\n",
       "  <thead>\n",
       "    <tr style=\"text-align: right;\">\n",
       "      <th></th>\n",
       "      <th>date</th>\n",
       "      <th>open</th>\n",
       "      <th>high</th>\n",
       "      <th>low</th>\n",
       "      <th>close</th>\n",
       "      <th>volume</th>\n",
       "    </tr>\n",
       "    <tr>\n",
       "      <th>symbol</th>\n",
       "      <th></th>\n",
       "      <th></th>\n",
       "      <th></th>\n",
       "      <th></th>\n",
       "      <th></th>\n",
       "      <th></th>\n",
       "    </tr>\n",
       "  </thead>\n",
       "  <tbody>\n",
       "    <tr>\n",
       "      <th>MSFT</th>\n",
       "      <td>2021-01-27</td>\n",
       "      <td>238.0</td>\n",
       "      <td>240.44</td>\n",
       "      <td>230.14</td>\n",
       "      <td>232.9</td>\n",
       "      <td>69870640</td>\n",
       "    </tr>\n",
       "  </tbody>\n",
       "</table>\n",
       "</div>"
      ],
      "text/plain": [
       "             date   open    high     low  close    volume\n",
       "symbol                                                   \n",
       "MSFT   2021-01-27  238.0  240.44  230.14  232.9  69870640"
      ]
     },
     "execution_count": 19,
     "metadata": {},
     "output_type": "execute_result"
    }
   ],
   "source": [
    "max_volume(df, 'MSFT')"
   ]
  },
  {
   "cell_type": "code",
   "execution_count": 20,
   "id": "local-turtle",
   "metadata": {},
   "outputs": [
    {
     "data": {
      "text/html": [
       "<div>\n",
       "<style scoped>\n",
       "    .dataframe tbody tr th:only-of-type {\n",
       "        vertical-align: middle;\n",
       "    }\n",
       "\n",
       "    .dataframe tbody tr th {\n",
       "        vertical-align: top;\n",
       "    }\n",
       "\n",
       "    .dataframe thead th {\n",
       "        text-align: right;\n",
       "    }\n",
       "</style>\n",
       "<table border=\"1\" class=\"dataframe\">\n",
       "  <thead>\n",
       "    <tr style=\"text-align: right;\">\n",
       "      <th></th>\n",
       "      <th>date</th>\n",
       "      <th>open</th>\n",
       "      <th>high</th>\n",
       "      <th>low</th>\n",
       "      <th>close</th>\n",
       "      <th>volume</th>\n",
       "    </tr>\n",
       "    <tr>\n",
       "      <th>symbol</th>\n",
       "      <th></th>\n",
       "      <th></th>\n",
       "      <th></th>\n",
       "      <th></th>\n",
       "      <th></th>\n",
       "      <th></th>\n",
       "    </tr>\n",
       "  </thead>\n",
       "  <tbody>\n",
       "    <tr>\n",
       "      <th>AAPL</th>\n",
       "      <td>2020-08-24</td>\n",
       "      <td>128.6975</td>\n",
       "      <td>128.785</td>\n",
       "      <td>123.9363</td>\n",
       "      <td>125.8575</td>\n",
       "      <td>345937760</td>\n",
       "    </tr>\n",
       "  </tbody>\n",
       "</table>\n",
       "</div>"
      ],
      "text/plain": [
       "             date      open     high       low     close     volume\n",
       "symbol                                                             \n",
       "AAPL   2020-08-24  128.6975  128.785  123.9363  125.8575  345937760"
      ]
     },
     "execution_count": 20,
     "metadata": {},
     "output_type": "execute_result"
    }
   ],
   "source": [
    "max_volume(df, 'AAPL')"
   ]
  },
  {
   "cell_type": "code",
   "execution_count": 21,
   "id": "bibliographic-hollywood",
   "metadata": {},
   "outputs": [
    {
     "data": {
      "text/html": [
       "<div>\n",
       "<style scoped>\n",
       "    .dataframe tbody tr th:only-of-type {\n",
       "        vertical-align: middle;\n",
       "    }\n",
       "\n",
       "    .dataframe tbody tr th {\n",
       "        vertical-align: top;\n",
       "    }\n",
       "\n",
       "    .dataframe thead th {\n",
       "        text-align: right;\n",
       "    }\n",
       "</style>\n",
       "<table border=\"1\" class=\"dataframe\">\n",
       "  <thead>\n",
       "    <tr style=\"text-align: right;\">\n",
       "      <th></th>\n",
       "      <th>date</th>\n",
       "      <th>open</th>\n",
       "      <th>high</th>\n",
       "      <th>low</th>\n",
       "      <th>close</th>\n",
       "      <th>volume</th>\n",
       "    </tr>\n",
       "    <tr>\n",
       "      <th>symbol</th>\n",
       "      <th></th>\n",
       "      <th></th>\n",
       "      <th></th>\n",
       "      <th></th>\n",
       "      <th></th>\n",
       "      <th></th>\n",
       "    </tr>\n",
       "  </thead>\n",
       "  <tbody>\n",
       "    <tr>\n",
       "      <th>AMZN</th>\n",
       "      <td>2020-09-18</td>\n",
       "      <td>3031.74</td>\n",
       "      <td>3037.8</td>\n",
       "      <td>2905.54</td>\n",
       "      <td>2954.91</td>\n",
       "      <td>8892580</td>\n",
       "    </tr>\n",
       "  </tbody>\n",
       "</table>\n",
       "</div>"
      ],
      "text/plain": [
       "             date     open    high      low    close   volume\n",
       "symbol                                                       \n",
       "AMZN   2020-09-18  3031.74  3037.8  2905.54  2954.91  8892580"
      ]
     },
     "execution_count": 21,
     "metadata": {},
     "output_type": "execute_result"
    }
   ],
   "source": [
    "max_volume(df, 'AMZN')"
   ]
  },
  {
   "cell_type": "markdown",
   "id": "nearby-clear",
   "metadata": {},
   "source": [
    "And we should get a `ValueError` if we speciy a symbol that is not in the data:"
   ]
  },
  {
   "cell_type": "code",
   "execution_count": 22,
   "id": "welcome-disco",
   "metadata": {},
   "outputs": [
    {
     "name": "stdout",
     "output_type": "stream",
     "text": [
      "Symbol XYZ has no data.\n"
     ]
    }
   ],
   "source": [
    "try:\n",
    "    max_volume(df, 'XYZ')\n",
    "except ValueError as ex:\n",
    "    print(ex)"
   ]
  },
  {
   "cell_type": "markdown",
   "id": "experienced-welding",
   "metadata": {},
   "source": [
    "#### Question 3"
   ]
  },
  {
   "cell_type": "markdown",
   "id": "allied-hughes",
   "metadata": {},
   "source": [
    "Using the same dataframe as in the preceding questions, our goal now is to write a function that will return, for a specific symbol, the row that had the largest high-low spread."
   ]
  },
  {
   "cell_type": "markdown",
   "id": "brilliant-fluid",
   "metadata": {},
   "source": [
    "Write a function to do that - it should just return a dataframe with the row (or rows) with the largest high-low spread."
   ]
  },
  {
   "cell_type": "markdown",
   "id": "speaking-treasure",
   "metadata": {},
   "source": [
    "##### Solution"
   ]
  },
  {
   "cell_type": "markdown",
   "id": "french-richmond",
   "metadata": {},
   "source": [
    "We'll basically follow the same approach as the last question, but we'll need to calculate the high-low spread - we'll use a Pandas series to first calculate all the high-low deltas:"
   ]
  },
  {
   "cell_type": "code",
   "execution_count": 23,
   "id": "maritime-carbon",
   "metadata": {},
   "outputs": [
    {
     "data": {
      "text/html": [
       "<div>\n",
       "<style scoped>\n",
       "    .dataframe tbody tr th:only-of-type {\n",
       "        vertical-align: middle;\n",
       "    }\n",
       "\n",
       "    .dataframe tbody tr th {\n",
       "        vertical-align: top;\n",
       "    }\n",
       "\n",
       "    .dataframe thead th {\n",
       "        text-align: right;\n",
       "    }\n",
       "</style>\n",
       "<table border=\"1\" class=\"dataframe\">\n",
       "  <thead>\n",
       "    <tr style=\"text-align: right;\">\n",
       "      <th></th>\n",
       "      <th>date</th>\n",
       "      <th>open</th>\n",
       "      <th>high</th>\n",
       "      <th>low</th>\n",
       "      <th>close</th>\n",
       "      <th>volume</th>\n",
       "    </tr>\n",
       "    <tr>\n",
       "      <th>symbol</th>\n",
       "      <th></th>\n",
       "      <th></th>\n",
       "      <th></th>\n",
       "      <th></th>\n",
       "      <th></th>\n",
       "      <th></th>\n",
       "    </tr>\n",
       "  </thead>\n",
       "  <tbody>\n",
       "    <tr>\n",
       "      <th>AAPL</th>\n",
       "      <td>2021-02-12</td>\n",
       "      <td>134.3500</td>\n",
       "      <td>135.5300</td>\n",
       "      <td>133.6921</td>\n",
       "      <td>135.3700</td>\n",
       "      <td>60145130</td>\n",
       "    </tr>\n",
       "    <tr>\n",
       "      <th>AAPL</th>\n",
       "      <td>2021-02-11</td>\n",
       "      <td>135.9000</td>\n",
       "      <td>136.3900</td>\n",
       "      <td>133.7700</td>\n",
       "      <td>135.1300</td>\n",
       "      <td>64280030</td>\n",
       "    </tr>\n",
       "    <tr>\n",
       "      <th>AAPL</th>\n",
       "      <td>2021-02-10</td>\n",
       "      <td>136.4800</td>\n",
       "      <td>136.9900</td>\n",
       "      <td>134.4000</td>\n",
       "      <td>135.3900</td>\n",
       "      <td>73046560</td>\n",
       "    </tr>\n",
       "    <tr>\n",
       "      <th>AAPL</th>\n",
       "      <td>2021-02-09</td>\n",
       "      <td>136.6200</td>\n",
       "      <td>137.8770</td>\n",
       "      <td>135.8500</td>\n",
       "      <td>136.0100</td>\n",
       "      <td>76774210</td>\n",
       "    </tr>\n",
       "    <tr>\n",
       "      <th>AAPL</th>\n",
       "      <td>2021-02-08</td>\n",
       "      <td>136.0300</td>\n",
       "      <td>136.9600</td>\n",
       "      <td>134.9200</td>\n",
       "      <td>136.9100</td>\n",
       "      <td>71297210</td>\n",
       "    </tr>\n",
       "    <tr>\n",
       "      <th>...</th>\n",
       "      <td>...</td>\n",
       "      <td>...</td>\n",
       "      <td>...</td>\n",
       "      <td>...</td>\n",
       "      <td>...</td>\n",
       "      <td>...</td>\n",
       "    </tr>\n",
       "    <tr>\n",
       "      <th>AAPL</th>\n",
       "      <td>2020-08-19</td>\n",
       "      <td>115.9833</td>\n",
       "      <td>117.1625</td>\n",
       "      <td>115.6100</td>\n",
       "      <td>115.7075</td>\n",
       "      <td>145538000</td>\n",
       "    </tr>\n",
       "    <tr>\n",
       "      <th>AAPL</th>\n",
       "      <td>2020-08-18</td>\n",
       "      <td>114.3525</td>\n",
       "      <td>116.0000</td>\n",
       "      <td>114.0075</td>\n",
       "      <td>115.5625</td>\n",
       "      <td>105633560</td>\n",
       "    </tr>\n",
       "    <tr>\n",
       "      <th>AAPL</th>\n",
       "      <td>2020-08-17</td>\n",
       "      <td>116.0625</td>\n",
       "      <td>116.0875</td>\n",
       "      <td>113.9625</td>\n",
       "      <td>114.6075</td>\n",
       "      <td>119561440</td>\n",
       "    </tr>\n",
       "    <tr>\n",
       "      <th>AAPL</th>\n",
       "      <td>2020-08-14</td>\n",
       "      <td>114.8288</td>\n",
       "      <td>115.0000</td>\n",
       "      <td>113.0450</td>\n",
       "      <td>114.9075</td>\n",
       "      <td>165565200</td>\n",
       "    </tr>\n",
       "    <tr>\n",
       "      <th>AAPL</th>\n",
       "      <td>2020-08-13</td>\n",
       "      <td>114.4300</td>\n",
       "      <td>116.0425</td>\n",
       "      <td>113.9275</td>\n",
       "      <td>115.0100</td>\n",
       "      <td>210082080</td>\n",
       "    </tr>\n",
       "  </tbody>\n",
       "</table>\n",
       "<p>127 rows × 6 columns</p>\n",
       "</div>"
      ],
      "text/plain": [
       "             date      open      high       low     close     volume\n",
       "symbol                                                              \n",
       "AAPL   2021-02-12  134.3500  135.5300  133.6921  135.3700   60145130\n",
       "AAPL   2021-02-11  135.9000  136.3900  133.7700  135.1300   64280030\n",
       "AAPL   2021-02-10  136.4800  136.9900  134.4000  135.3900   73046560\n",
       "AAPL   2021-02-09  136.6200  137.8770  135.8500  136.0100   76774210\n",
       "AAPL   2021-02-08  136.0300  136.9600  134.9200  136.9100   71297210\n",
       "...           ...       ...       ...       ...       ...        ...\n",
       "AAPL   2020-08-19  115.9833  117.1625  115.6100  115.7075  145538000\n",
       "AAPL   2020-08-18  114.3525  116.0000  114.0075  115.5625  105633560\n",
       "AAPL   2020-08-17  116.0625  116.0875  113.9625  114.6075  119561440\n",
       "AAPL   2020-08-14  114.8288  115.0000  113.0450  114.9075  165565200\n",
       "AAPL   2020-08-13  114.4300  116.0425  113.9275  115.0100  210082080\n",
       "\n",
       "[127 rows x 6 columns]"
      ]
     },
     "execution_count": 23,
     "metadata": {},
     "output_type": "execute_result"
    }
   ],
   "source": [
    "df = load_df('daily_quotes.csv')\n",
    "subset = df.loc['AAPL', :]\n",
    "subset"
   ]
  },
  {
   "cell_type": "markdown",
   "id": "foreign-private",
   "metadata": {},
   "source": [
    "Next, we can calculate the delta between `low` and `high` - since `high > low` we don't actually need to use an absolute value, but I'll do that here anyways, just to be absolutely sure:"
   ]
  },
  {
   "cell_type": "code",
   "execution_count": 24,
   "id": "gross-webcam",
   "metadata": {},
   "outputs": [
    {
     "data": {
      "text/plain": [
       "symbol\n",
       "AAPL    1.8379\n",
       "AAPL    2.6200\n",
       "AAPL    2.5900\n",
       "AAPL    2.0270\n",
       "AAPL    2.0400\n",
       "         ...  \n",
       "AAPL    1.5525\n",
       "AAPL    1.9925\n",
       "AAPL    2.1250\n",
       "AAPL    1.9550\n",
       "AAPL    2.1150\n",
       "Length: 127, dtype: float64"
      ]
     },
     "execution_count": 24,
     "metadata": {},
     "output_type": "execute_result"
    }
   ],
   "source": [
    "deltas = abs(subset['high'] - subset['low'])\n",
    "deltas"
   ]
  },
  {
   "cell_type": "markdown",
   "id": "changing-heart",
   "metadata": {},
   "source": [
    "The max spread is then given by:"
   ]
  },
  {
   "cell_type": "code",
   "execution_count": 25,
   "id": "restricted-beatles",
   "metadata": {},
   "outputs": [
    {
     "data": {
      "text/plain": [
       "12.810000000000002"
      ]
     },
     "execution_count": 25,
     "metadata": {},
     "output_type": "execute_result"
    }
   ],
   "source": [
    "deltas.max()"
   ]
  },
  {
   "cell_type": "markdown",
   "id": "leading-driving",
   "metadata": {},
   "source": [
    "We can then use boolean masking, just like before:"
   ]
  },
  {
   "cell_type": "code",
   "execution_count": 26,
   "id": "compatible-signal",
   "metadata": {},
   "outputs": [
    {
     "data": {
      "text/html": [
       "<div>\n",
       "<style scoped>\n",
       "    .dataframe tbody tr th:only-of-type {\n",
       "        vertical-align: middle;\n",
       "    }\n",
       "\n",
       "    .dataframe tbody tr th {\n",
       "        vertical-align: top;\n",
       "    }\n",
       "\n",
       "    .dataframe thead th {\n",
       "        text-align: right;\n",
       "    }\n",
       "</style>\n",
       "<table border=\"1\" class=\"dataframe\">\n",
       "  <thead>\n",
       "    <tr style=\"text-align: right;\">\n",
       "      <th></th>\n",
       "      <th>date</th>\n",
       "      <th>open</th>\n",
       "      <th>high</th>\n",
       "      <th>low</th>\n",
       "      <th>close</th>\n",
       "      <th>volume</th>\n",
       "    </tr>\n",
       "    <tr>\n",
       "      <th>symbol</th>\n",
       "      <th></th>\n",
       "      <th></th>\n",
       "      <th></th>\n",
       "      <th></th>\n",
       "      <th></th>\n",
       "      <th></th>\n",
       "    </tr>\n",
       "  </thead>\n",
       "  <tbody>\n",
       "    <tr>\n",
       "      <th>AAPL</th>\n",
       "      <td>2020-09-04</td>\n",
       "      <td>120.07</td>\n",
       "      <td>123.7</td>\n",
       "      <td>110.89</td>\n",
       "      <td>120.96</td>\n",
       "      <td>332607200</td>\n",
       "    </tr>\n",
       "  </tbody>\n",
       "</table>\n",
       "</div>"
      ],
      "text/plain": [
       "             date    open   high     low   close     volume\n",
       "symbol                                                     \n",
       "AAPL   2020-09-04  120.07  123.7  110.89  120.96  332607200"
      ]
     },
     "execution_count": 26,
     "metadata": {},
     "output_type": "execute_result"
    }
   ],
   "source": [
    "subset[deltas == deltas.max()]"
   ]
  },
  {
   "cell_type": "markdown",
   "id": "optional-intermediate",
   "metadata": {},
   "source": [
    "Let's put all this into a function:"
   ]
  },
  {
   "cell_type": "code",
   "execution_count": 27,
   "id": "protecting-interview",
   "metadata": {},
   "outputs": [],
   "source": [
    "def max_spread(df, symbol):\n",
    "    try:\n",
    "        subset = df.loc[symbol, :]\n",
    "    except KeyError:\n",
    "        raise ValueError(f'{symbol} not in data')\n",
    "        \n",
    "    deltas = abs(subset['high'] - subset['low'])\n",
    "    max_delta = deltas.max()\n",
    "    return subset[deltas == max_delta]"
   ]
  },
  {
   "cell_type": "code",
   "execution_count": 28,
   "id": "incorrect-profession",
   "metadata": {},
   "outputs": [
    {
     "data": {
      "text/html": [
       "<div>\n",
       "<style scoped>\n",
       "    .dataframe tbody tr th:only-of-type {\n",
       "        vertical-align: middle;\n",
       "    }\n",
       "\n",
       "    .dataframe tbody tr th {\n",
       "        vertical-align: top;\n",
       "    }\n",
       "\n",
       "    .dataframe thead th {\n",
       "        text-align: right;\n",
       "    }\n",
       "</style>\n",
       "<table border=\"1\" class=\"dataframe\">\n",
       "  <thead>\n",
       "    <tr style=\"text-align: right;\">\n",
       "      <th></th>\n",
       "      <th>date</th>\n",
       "      <th>open</th>\n",
       "      <th>high</th>\n",
       "      <th>low</th>\n",
       "      <th>close</th>\n",
       "      <th>volume</th>\n",
       "    </tr>\n",
       "    <tr>\n",
       "      <th>symbol</th>\n",
       "      <th></th>\n",
       "      <th></th>\n",
       "      <th></th>\n",
       "      <th></th>\n",
       "      <th></th>\n",
       "      <th></th>\n",
       "    </tr>\n",
       "  </thead>\n",
       "  <tbody>\n",
       "    <tr>\n",
       "      <th>AAPL</th>\n",
       "      <td>2020-09-04</td>\n",
       "      <td>120.07</td>\n",
       "      <td>123.7</td>\n",
       "      <td>110.89</td>\n",
       "      <td>120.96</td>\n",
       "      <td>332607200</td>\n",
       "    </tr>\n",
       "  </tbody>\n",
       "</table>\n",
       "</div>"
      ],
      "text/plain": [
       "             date    open   high     low   close     volume\n",
       "symbol                                                     \n",
       "AAPL   2020-09-04  120.07  123.7  110.89  120.96  332607200"
      ]
     },
     "execution_count": 28,
     "metadata": {},
     "output_type": "execute_result"
    }
   ],
   "source": [
    "max_spread(df, 'AAPL')"
   ]
  },
  {
   "cell_type": "code",
   "execution_count": 29,
   "id": "blank-stopping",
   "metadata": {},
   "outputs": [
    {
     "data": {
      "text/html": [
       "<div>\n",
       "<style scoped>\n",
       "    .dataframe tbody tr th:only-of-type {\n",
       "        vertical-align: middle;\n",
       "    }\n",
       "\n",
       "    .dataframe tbody tr th {\n",
       "        vertical-align: top;\n",
       "    }\n",
       "\n",
       "    .dataframe thead th {\n",
       "        text-align: right;\n",
       "    }\n",
       "</style>\n",
       "<table border=\"1\" class=\"dataframe\">\n",
       "  <thead>\n",
       "    <tr style=\"text-align: right;\">\n",
       "      <th></th>\n",
       "      <th>date</th>\n",
       "      <th>open</th>\n",
       "      <th>high</th>\n",
       "      <th>low</th>\n",
       "      <th>close</th>\n",
       "      <th>volume</th>\n",
       "    </tr>\n",
       "    <tr>\n",
       "      <th>symbol</th>\n",
       "      <th></th>\n",
       "      <th></th>\n",
       "      <th></th>\n",
       "      <th></th>\n",
       "      <th></th>\n",
       "      <th></th>\n",
       "    </tr>\n",
       "  </thead>\n",
       "  <tbody>\n",
       "    <tr>\n",
       "      <th>MSFT</th>\n",
       "      <td>2020-09-03</td>\n",
       "      <td>229.27</td>\n",
       "      <td>229.31</td>\n",
       "      <td>214.9602</td>\n",
       "      <td>217.3</td>\n",
       "      <td>58400290</td>\n",
       "    </tr>\n",
       "  </tbody>\n",
       "</table>\n",
       "</div>"
      ],
      "text/plain": [
       "             date    open    high       low  close    volume\n",
       "symbol                                                      \n",
       "MSFT   2020-09-03  229.27  229.31  214.9602  217.3  58400290"
      ]
     },
     "execution_count": 29,
     "metadata": {},
     "output_type": "execute_result"
    }
   ],
   "source": [
    "max_spread(df, 'MSFT')"
   ]
  },
  {
   "cell_type": "markdown",
   "id": "hundred-assets",
   "metadata": {},
   "source": [
    "#### Question 4"
   ]
  },
  {
   "cell_type": "markdown",
   "id": "rotary-chamber",
   "metadata": {},
   "source": [
    "Using the same dataframe as the preceding questions, write a function that returns a single dataframe containing the record(s) with maximum high-low spread for each symbol in the dataframe. (Do not hardcode symbol names in this function - instead you should recover the possible symbol names from the data itself)."
   ]
  },
  {
   "cell_type": "markdown",
   "id": "experienced-flood",
   "metadata": {},
   "source": [
    "The returned dataframe should have the same structure as the original dataframe, but just contain the rows of maximum high-low spread for each symbol."
   ]
  },
  {
   "cell_type": "markdown",
   "id": "helpful-professional",
   "metadata": {},
   "source": [
    "##### Solution"
   ]
  },
  {
   "cell_type": "markdown",
   "id": "governmental-flexibility",
   "metadata": {},
   "source": [
    "To find all the symbol values, we can simply look at the index on the dataframe:"
   ]
  },
  {
   "cell_type": "code",
   "execution_count": 30,
   "id": "internal-model",
   "metadata": {},
   "outputs": [
    {
     "data": {
      "text/plain": [
       "Index(['AAPL', 'AMZN', 'GOOG', 'MSFT', 'AAPL', 'AMZN', 'GOOG', 'MSFT', 'AAPL',\n",
       "       'AMZN',\n",
       "       ...\n",
       "       'GOOG', 'MSFT', 'AAPL', 'AMZN', 'GOOG', 'MSFT', 'AAPL', 'AMZN', 'GOOG',\n",
       "       'MSFT'],\n",
       "      dtype='object', name='symbol', length=508)"
      ]
     },
     "execution_count": 30,
     "metadata": {},
     "output_type": "execute_result"
    }
   ],
   "source": [
    "df = load_df('daily_quotes.csv')\n",
    "df.index"
   ]
  },
  {
   "cell_type": "markdown",
   "id": "chicken-billion",
   "metadata": {},
   "source": [
    "From that index we can recover the unique values by using a Python `set`:"
   ]
  },
  {
   "cell_type": "code",
   "execution_count": 31,
   "id": "insured-webcam",
   "metadata": {},
   "outputs": [
    {
     "data": {
      "text/plain": [
       "{'AAPL', 'AMZN', 'GOOG', 'MSFT'}"
      ]
     },
     "execution_count": 31,
     "metadata": {},
     "output_type": "execute_result"
    }
   ],
   "source": [
    "set(df.index)"
   ]
  },
  {
   "cell_type": "markdown",
   "id": "computational-retrieval",
   "metadata": {},
   "source": [
    "Now that we have the symbol names, we can use the `max_spread` function we wrote in the last question to generate the dataframe for each symbol:"
   ]
  },
  {
   "cell_type": "code",
   "execution_count": 32,
   "id": "minute-worst",
   "metadata": {},
   "outputs": [
    {
     "name": "stdout",
     "output_type": "stream",
     "text": [
      "             date    open    high      low    close   volume\n",
      "symbol                                                      \n",
      "AMZN   2020-09-04  3318.0  3381.5  3111.13  3294.62  8781754\n",
      "             date    open    high       low  close    volume\n",
      "symbol                                                      \n",
      "MSFT   2020-09-03  229.27  229.31  214.9602  217.3  58400290\n",
      "             date    open   high     low   close     volume\n",
      "symbol                                                     \n",
      "AAPL   2020-09-04  120.07  123.7  110.89  120.96  332607200\n",
      "             date    open    high      low    close   volume\n",
      "symbol                                                      \n",
      "GOOG   2021-02-03  2073.0  2116.5  2018.38  2070.07  4118170\n"
     ]
    }
   ],
   "source": [
    "for symbol in set(df.index):\n",
    "    subset = df.loc[symbol, :]\n",
    "    rows = max_spread(subset, symbol)\n",
    "    print(rows)"
   ]
  },
  {
   "cell_type": "markdown",
   "id": "organizational-lincoln",
   "metadata": {},
   "source": [
    "We can then concatenate all these dataframes along the vertical axis."
   ]
  },
  {
   "cell_type": "markdown",
   "id": "standing-domestic",
   "metadata": {},
   "source": [
    "What we'll do is use a list comprehension to generate a list of these dataframes, and then use the `concat` function in Pandas:"
   ]
  },
  {
   "cell_type": "code",
   "execution_count": 33,
   "id": "empirical-communications",
   "metadata": {},
   "outputs": [
    {
     "data": {
      "text/plain": [
       "[             date    open    high      low    close   volume\n",
       " symbol                                                      \n",
       " AMZN   2020-09-04  3318.0  3381.5  3111.13  3294.62  8781754,\n",
       "              date    open    high       low  close    volume\n",
       " symbol                                                      \n",
       " MSFT   2020-09-03  229.27  229.31  214.9602  217.3  58400290,\n",
       "              date    open   high     low   close     volume\n",
       " symbol                                                     \n",
       " AAPL   2020-09-04  120.07  123.7  110.89  120.96  332607200,\n",
       "              date    open    high      low    close   volume\n",
       " symbol                                                      \n",
       " GOOG   2021-02-03  2073.0  2116.5  2018.38  2070.07  4118170]"
      ]
     },
     "execution_count": 33,
     "metadata": {},
     "output_type": "execute_result"
    }
   ],
   "source": [
    "max_frames = [\n",
    "    max_spread(df.loc[symbol, :], symbol)\n",
    "    for symbol in set(df.index)\n",
    "]\n",
    "max_frames"
   ]
  },
  {
   "cell_type": "markdown",
   "id": "fancy-skating",
   "metadata": {},
   "source": [
    "And then we can concatenate them:"
   ]
  },
  {
   "cell_type": "code",
   "execution_count": 34,
   "id": "protecting-termination",
   "metadata": {},
   "outputs": [
    {
     "data": {
      "text/html": [
       "<div>\n",
       "<style scoped>\n",
       "    .dataframe tbody tr th:only-of-type {\n",
       "        vertical-align: middle;\n",
       "    }\n",
       "\n",
       "    .dataframe tbody tr th {\n",
       "        vertical-align: top;\n",
       "    }\n",
       "\n",
       "    .dataframe thead th {\n",
       "        text-align: right;\n",
       "    }\n",
       "</style>\n",
       "<table border=\"1\" class=\"dataframe\">\n",
       "  <thead>\n",
       "    <tr style=\"text-align: right;\">\n",
       "      <th></th>\n",
       "      <th>date</th>\n",
       "      <th>open</th>\n",
       "      <th>high</th>\n",
       "      <th>low</th>\n",
       "      <th>close</th>\n",
       "      <th>volume</th>\n",
       "    </tr>\n",
       "    <tr>\n",
       "      <th>symbol</th>\n",
       "      <th></th>\n",
       "      <th></th>\n",
       "      <th></th>\n",
       "      <th></th>\n",
       "      <th></th>\n",
       "      <th></th>\n",
       "    </tr>\n",
       "  </thead>\n",
       "  <tbody>\n",
       "    <tr>\n",
       "      <th>AMZN</th>\n",
       "      <td>2020-09-04</td>\n",
       "      <td>3318.00</td>\n",
       "      <td>3381.50</td>\n",
       "      <td>3111.1300</td>\n",
       "      <td>3294.62</td>\n",
       "      <td>8781754</td>\n",
       "    </tr>\n",
       "    <tr>\n",
       "      <th>MSFT</th>\n",
       "      <td>2020-09-03</td>\n",
       "      <td>229.27</td>\n",
       "      <td>229.31</td>\n",
       "      <td>214.9602</td>\n",
       "      <td>217.30</td>\n",
       "      <td>58400290</td>\n",
       "    </tr>\n",
       "    <tr>\n",
       "      <th>AAPL</th>\n",
       "      <td>2020-09-04</td>\n",
       "      <td>120.07</td>\n",
       "      <td>123.70</td>\n",
       "      <td>110.8900</td>\n",
       "      <td>120.96</td>\n",
       "      <td>332607200</td>\n",
       "    </tr>\n",
       "    <tr>\n",
       "      <th>GOOG</th>\n",
       "      <td>2021-02-03</td>\n",
       "      <td>2073.00</td>\n",
       "      <td>2116.50</td>\n",
       "      <td>2018.3800</td>\n",
       "      <td>2070.07</td>\n",
       "      <td>4118170</td>\n",
       "    </tr>\n",
       "  </tbody>\n",
       "</table>\n",
       "</div>"
      ],
      "text/plain": [
       "             date     open     high        low    close     volume\n",
       "symbol                                                            \n",
       "AMZN   2020-09-04  3318.00  3381.50  3111.1300  3294.62    8781754\n",
       "MSFT   2020-09-03   229.27   229.31   214.9602   217.30   58400290\n",
       "AAPL   2020-09-04   120.07   123.70   110.8900   120.96  332607200\n",
       "GOOG   2021-02-03  2073.00  2116.50  2018.3800  2070.07    4118170"
      ]
     },
     "execution_count": 34,
     "metadata": {},
     "output_type": "execute_result"
    }
   ],
   "source": [
    "pd.concat(max_frames, axis=0)"
   ]
  },
  {
   "cell_type": "markdown",
   "id": "requested-consultancy",
   "metadata": {},
   "source": [
    "Let's put this together in a function:"
   ]
  },
  {
   "cell_type": "code",
   "execution_count": 35,
   "id": "clinical-fundamental",
   "metadata": {},
   "outputs": [],
   "source": [
    "def max_spreads(df):\n",
    "    max_frames = [\n",
    "        max_spread(df.loc[symbol, :], symbol)\n",
    "        for symbol in set(df.index)\n",
    "    ]\n",
    "    return pd.concat(max_frames, axis=0)"
   ]
  },
  {
   "cell_type": "code",
   "execution_count": 36,
   "id": "marine-quantity",
   "metadata": {},
   "outputs": [
    {
     "data": {
      "text/html": [
       "<div>\n",
       "<style scoped>\n",
       "    .dataframe tbody tr th:only-of-type {\n",
       "        vertical-align: middle;\n",
       "    }\n",
       "\n",
       "    .dataframe tbody tr th {\n",
       "        vertical-align: top;\n",
       "    }\n",
       "\n",
       "    .dataframe thead th {\n",
       "        text-align: right;\n",
       "    }\n",
       "</style>\n",
       "<table border=\"1\" class=\"dataframe\">\n",
       "  <thead>\n",
       "    <tr style=\"text-align: right;\">\n",
       "      <th></th>\n",
       "      <th>date</th>\n",
       "      <th>open</th>\n",
       "      <th>high</th>\n",
       "      <th>low</th>\n",
       "      <th>close</th>\n",
       "      <th>volume</th>\n",
       "    </tr>\n",
       "    <tr>\n",
       "      <th>symbol</th>\n",
       "      <th></th>\n",
       "      <th></th>\n",
       "      <th></th>\n",
       "      <th></th>\n",
       "      <th></th>\n",
       "      <th></th>\n",
       "    </tr>\n",
       "  </thead>\n",
       "  <tbody>\n",
       "    <tr>\n",
       "      <th>AMZN</th>\n",
       "      <td>2020-09-04</td>\n",
       "      <td>3318.00</td>\n",
       "      <td>3381.50</td>\n",
       "      <td>3111.1300</td>\n",
       "      <td>3294.62</td>\n",
       "      <td>8781754</td>\n",
       "    </tr>\n",
       "    <tr>\n",
       "      <th>MSFT</th>\n",
       "      <td>2020-09-03</td>\n",
       "      <td>229.27</td>\n",
       "      <td>229.31</td>\n",
       "      <td>214.9602</td>\n",
       "      <td>217.30</td>\n",
       "      <td>58400290</td>\n",
       "    </tr>\n",
       "    <tr>\n",
       "      <th>AAPL</th>\n",
       "      <td>2020-09-04</td>\n",
       "      <td>120.07</td>\n",
       "      <td>123.70</td>\n",
       "      <td>110.8900</td>\n",
       "      <td>120.96</td>\n",
       "      <td>332607200</td>\n",
       "    </tr>\n",
       "    <tr>\n",
       "      <th>GOOG</th>\n",
       "      <td>2021-02-03</td>\n",
       "      <td>2073.00</td>\n",
       "      <td>2116.50</td>\n",
       "      <td>2018.3800</td>\n",
       "      <td>2070.07</td>\n",
       "      <td>4118170</td>\n",
       "    </tr>\n",
       "  </tbody>\n",
       "</table>\n",
       "</div>"
      ],
      "text/plain": [
       "             date     open     high        low    close     volume\n",
       "symbol                                                            \n",
       "AMZN   2020-09-04  3318.00  3381.50  3111.1300  3294.62    8781754\n",
       "MSFT   2020-09-03   229.27   229.31   214.9602   217.30   58400290\n",
       "AAPL   2020-09-04   120.07   123.70   110.8900   120.96  332607200\n",
       "GOOG   2021-02-03  2073.00  2116.50  2018.3800  2070.07    4118170"
      ]
     },
     "execution_count": 36,
     "metadata": {},
     "output_type": "execute_result"
    }
   ],
   "source": [
    "max_spreads(df)"
   ]
  }
 ],
 "metadata": {
  "kernelspec": {
   "display_name": "Python 3",
   "language": "python",
   "name": "python3"
  },
  "language_info": {
   "codemirror_mode": {
    "name": "ipython",
    "version": 3
   },
   "file_extension": ".py",
   "mimetype": "text/x-python",
   "name": "python",
   "nbconvert_exporter": "python",
   "pygments_lexer": "ipython3",
   "version": "3.9.1"
  }
 },
 "nbformat": 4,
 "nbformat_minor": 5
}
