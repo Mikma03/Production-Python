{
 "cells": [
  {
   "cell_type": "markdown",
   "id": "abroad-settlement",
   "metadata": {},
   "source": [
    "### Solutions"
   ]
  },
  {
   "cell_type": "markdown",
   "id": "applied-forest",
   "metadata": {},
   "source": [
    "#### Question 1"
   ]
  },
  {
   "cell_type": "markdown",
   "id": "convertible-shareware",
   "metadata": {},
   "source": [
    "You are given a list of strings from which you want to generate all the unique values."
   ]
  },
  {
   "cell_type": "markdown",
   "id": "liable-musician",
   "metadata": {},
   "source": [
    "For example, if you were given this list:\n",
    "\n",
    "```\n",
    "['a', 'A', 'b', 'B', 'B', 'A', 'a', 'c']\n",
    "```\n",
    "\n",
    "your result should contain these values:\n",
    "\n",
    "```\n",
    "['a', 'A', 'b', 'B', 'c']\n",
    "```"
   ]
  },
  {
   "cell_type": "markdown",
   "id": "false-thriller",
   "metadata": {},
   "source": [
    "Note that the order of the elements in the resulting list is not important."
   ]
  },
  {
   "cell_type": "markdown",
   "id": "steady-summary",
   "metadata": {},
   "source": [
    "You can use this list for this exercise."
   ]
  },
  {
   "cell_type": "code",
   "execution_count": 1,
   "id": "steady-passport",
   "metadata": {},
   "outputs": [],
   "source": [
    "l = ['AAPL', 'AAPL', 'Aapl', 'aapl', 'MSFT']"
   ]
  },
  {
   "cell_type": "markdown",
   "id": "silent-norfolk",
   "metadata": {},
   "source": [
    "##### Solution"
   ]
  },
  {
   "cell_type": "markdown",
   "id": "heated-opposition",
   "metadata": {},
   "source": [
    "The simplest way to get all unique values from a list is simply to make a `set` out of it:"
   ]
  },
  {
   "cell_type": "code",
   "execution_count": 2,
   "id": "hourly-motivation",
   "metadata": {},
   "outputs": [
    {
     "data": {
      "text/plain": [
       "{'AAPL', 'Aapl', 'MSFT', 'aapl'}"
      ]
     },
     "execution_count": 2,
     "metadata": {},
     "output_type": "execute_result"
    }
   ],
   "source": [
    "unique_values = set(l)\n",
    "unique_values"
   ]
  },
  {
   "cell_type": "markdown",
   "id": "regular-gnome",
   "metadata": {},
   "source": [
    "#### Question 2"
   ]
  },
  {
   "cell_type": "markdown",
   "id": "cosmetic-score",
   "metadata": {},
   "source": [
    "Using the same data we saw in Question 1, the goal is to find all the unique values in a **case-insensitive** fashion."
   ]
  },
  {
   "cell_type": "markdown",
   "id": "solid-festival",
   "metadata": {},
   "source": [
    "For example, `AAPL`, `Aapl` and `aapl` should each be considered to be the same value."
   ]
  },
  {
   "cell_type": "markdown",
   "id": "sacred-spectrum",
   "metadata": {},
   "source": [
    "##### Solution"
   ]
  },
  {
   "cell_type": "markdown",
   "id": "lightweight-medicine",
   "metadata": {},
   "source": [
    "For this we'll use `casefold()` to first casefold each string."
   ]
  },
  {
   "cell_type": "markdown",
   "id": "hungarian-waterproof",
   "metadata": {},
   "source": [
    "We could certainly first create a list with the casefolded strings, and then make a set out of it:"
   ]
  },
  {
   "cell_type": "code",
   "execution_count": 3,
   "id": "electric-database",
   "metadata": {},
   "outputs": [
    {
     "data": {
      "text/plain": [
       "['aapl', 'aapl', 'aapl', 'aapl', 'msft']"
      ]
     },
     "execution_count": 3,
     "metadata": {},
     "output_type": "execute_result"
    }
   ],
   "source": [
    "l2 = []\n",
    "for symbol in l:\n",
    "    l2.append(symbol.casefold())\n",
    "l2"
   ]
  },
  {
   "cell_type": "code",
   "execution_count": 4,
   "id": "piano-feelings",
   "metadata": {},
   "outputs": [
    {
     "data": {
      "text/plain": [
       "{'aapl', 'msft'}"
      ]
     },
     "execution_count": 4,
     "metadata": {},
     "output_type": "execute_result"
    }
   ],
   "source": [
    "unique_values = set(l2)\n",
    "unique_values"
   ]
  },
  {
   "cell_type": "markdown",
   "id": "israeli-legislation",
   "metadata": {},
   "source": [
    "This works, but we could also just add the casefolded strings to a set directly."
   ]
  },
  {
   "cell_type": "markdown",
   "id": "loose-tiffany",
   "metadata": {},
   "source": [
    "We create an empty set first:"
   ]
  },
  {
   "cell_type": "code",
   "execution_count": 5,
   "id": "israeli-republic",
   "metadata": {},
   "outputs": [],
   "source": [
    "unique_values = set()"
   ]
  },
  {
   "cell_type": "markdown",
   "id": "desperate-activity",
   "metadata": {},
   "source": [
    "Then we loop through the strings, and add the casefolded version of the string to the set:"
   ]
  },
  {
   "cell_type": "code",
   "execution_count": 6,
   "id": "internal-present",
   "metadata": {},
   "outputs": [
    {
     "data": {
      "text/plain": [
       "{'aapl', 'msft'}"
      ]
     },
     "execution_count": 6,
     "metadata": {},
     "output_type": "execute_result"
    }
   ],
   "source": [
    "for symbol in l:\n",
    "    unique_values.add(symbol.casefold())\n",
    "unique_values"
   ]
  },
  {
   "cell_type": "markdown",
   "id": "induced-shift",
   "metadata": {},
   "source": [
    "Later, we'll study comprehensions and see another way of doing this:"
   ]
  },
  {
   "cell_type": "code",
   "execution_count": 7,
   "id": "simplified-myrtle",
   "metadata": {},
   "outputs": [
    {
     "data": {
      "text/plain": [
       "{'aapl', 'msft'}"
      ]
     },
     "execution_count": 7,
     "metadata": {},
     "output_type": "execute_result"
    }
   ],
   "source": [
    "unique_values = {symbol.casefold() for symbol in l}\n",
    "unique_values"
   ]
  },
  {
   "cell_type": "markdown",
   "id": "prostate-cancer",
   "metadata": {},
   "source": [
    "Don't worry if you don't quite understand this code yet, we'll get there soon! I just wanted to show you that this alternative, using a set comprehension, is a very simple way of solving this problem."
   ]
  },
  {
   "cell_type": "markdown",
   "id": "recovered-scratch",
   "metadata": {},
   "source": [
    "#### Question 3"
   ]
  },
  {
   "cell_type": "markdown",
   "id": "aware-amazon",
   "metadata": {},
   "source": [
    "Given this data structure:"
   ]
  },
  {
   "cell_type": "code",
   "execution_count": 8,
   "id": "speaking-violin",
   "metadata": {},
   "outputs": [],
   "source": [
    "data = {\n",
    "    'd1': {'a': 1, 'b': 2, 'c': 3},\n",
    "    'd2': {'b': 20, 'c': 30, 'd': 40},\n",
    "    'd3': {'d': 100, 'x': 200}\n",
    "}"
   ]
  },
  {
   "cell_type": "markdown",
   "id": "grateful-orlando",
   "metadata": {},
   "source": [
    "Find all the unique keys in the sub-dictionaries.\n",
    "\n",
    "In this case above, your result should be:\n",
    "\n",
    "```\n",
    "{'a', 'b', 'c', 'd', 'x'}\n",
    "```\n",
    "\n",
    "Of course, the order in the result is irrelevant (there is no ordering in sets)."
   ]
  },
  {
   "cell_type": "markdown",
   "id": "suited-gravity",
   "metadata": {},
   "source": [
    "##### Solution"
   ]
  },
  {
   "cell_type": "markdown",
   "id": "intense-facing",
   "metadata": {},
   "source": [
    "We can recover the keys of a dictionary using the `keys()` method, and we know that dictionary keys also behave like sets - and we can find the union of sets."
   ]
  },
  {
   "cell_type": "code",
   "execution_count": 9,
   "id": "informal-contract",
   "metadata": {},
   "outputs": [
    {
     "data": {
      "text/plain": [
       "dict_keys(['a', 'b', 'c'])"
      ]
     },
     "execution_count": 9,
     "metadata": {},
     "output_type": "execute_result"
    }
   ],
   "source": [
    "data['d1'].keys()"
   ]
  },
  {
   "cell_type": "markdown",
   "id": "peaceful-weapon",
   "metadata": {},
   "source": [
    "And we can union these keys across all three dictionaries:"
   ]
  },
  {
   "cell_type": "code",
   "execution_count": 10,
   "id": "comic-revolution",
   "metadata": {},
   "outputs": [
    {
     "data": {
      "text/plain": [
       "{'a', 'b', 'c', 'd', 'x'}"
      ]
     },
     "execution_count": 10,
     "metadata": {},
     "output_type": "execute_result"
    }
   ],
   "source": [
    "data['d1'].keys() | data['d2'].keys() | data['d3'].keys()"
   ]
  },
  {
   "cell_type": "markdown",
   "id": "narrow-brazilian",
   "metadata": {},
   "source": [
    "This works fine, but the issue is that we assumed that there were three items in `data`, named `d1`, `d2`, and `d3`.\n",
    "\n",
    "This is not very generic code."
   ]
  },
  {
   "cell_type": "markdown",
   "id": "declared-sight",
   "metadata": {},
   "source": [
    "Instead, we could approach the problem this way."
   ]
  },
  {
   "cell_type": "markdown",
   "id": "peaceful-wages",
   "metadata": {},
   "source": [
    "First we can just loop over the values in `data` - those will be the sub-dictionaries:"
   ]
  },
  {
   "cell_type": "code",
   "execution_count": 11,
   "id": "settled-productivity",
   "metadata": {},
   "outputs": [
    {
     "name": "stdout",
     "output_type": "stream",
     "text": [
      "{'a': 1, 'b': 2, 'c': 3}\n",
      "{'b': 20, 'c': 30, 'd': 40}\n",
      "{'d': 100, 'x': 200}\n"
     ]
    }
   ],
   "source": [
    "for d in data.values():\n",
    "    print(d)"
   ]
  },
  {
   "cell_type": "markdown",
   "id": "bulgarian-quick",
   "metadata": {},
   "source": [
    "Now, we can start with an empty set and keep replacing this set with it's union with the keys of each dictionary:"
   ]
  },
  {
   "cell_type": "code",
   "execution_count": 12,
   "id": "imposed-makeup",
   "metadata": {},
   "outputs": [
    {
     "data": {
      "text/plain": [
       "{'a', 'b', 'c', 'd', 'x'}"
      ]
     },
     "execution_count": 12,
     "metadata": {},
     "output_type": "execute_result"
    }
   ],
   "source": [
    "result = set()\n",
    "for d in data.values():\n",
    "    result = result | d.keys()\n",
    "\n",
    "result"
   ]
  },
  {
   "cell_type": "markdown",
   "id": "gorgeous-monte",
   "metadata": {},
   "source": [
    "As you can see, this code makes no assumption about the number of entries in `data`."
   ]
  }
 ],
 "metadata": {
  "kernelspec": {
   "display_name": "Python 3",
   "language": "python",
   "name": "python3"
  },
  "language_info": {
   "codemirror_mode": {
    "name": "ipython",
    "version": 3
   },
   "file_extension": ".py",
   "mimetype": "text/x-python",
   "name": "python",
   "nbconvert_exporter": "python",
   "pygments_lexer": "ipython3",
   "version": "3.9.1"
  }
 },
 "nbformat": 4,
 "nbformat_minor": 5
}
