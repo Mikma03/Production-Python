{
 "cells": [
  {
   "cell_type": "markdown",
   "id": "aggregate-secretary",
   "metadata": {},
   "source": [
    "### Solutions"
   ]
  },
  {
   "cell_type": "markdown",
   "id": "dominican-shame",
   "metadata": {},
   "source": [
    "#### Question 1"
   ]
  },
  {
   "cell_type": "markdown",
   "id": "upper-monster",
   "metadata": {},
   "source": [
    "Write a custom class that will be used to model a single bank account."
   ]
  },
  {
   "cell_type": "markdown",
   "id": "embedded-armenia",
   "metadata": {},
   "source": [
    "Your class should implement functionality to:\n",
    "- allow initialization with values for `first_name`, `last_name`, `account_number`, `balance`, `is_overdraft_allowed`\n",
    "- keep track of a \"ledger\" that keeps a record all transactions (just use a list to keep track of this)\n",
    "    - at a minimum it should keep track of the transaction date (the current UTC datetime) and the amount (positive, or negative to indicate deposits/withdrawals) - later you could add tracking the running balance as well.\n",
    "- provide read-only properties for `first_name`, `last_name`, `account_number` and `balance`\n",
    "- provide a property to access the ledger in such a way that a user of this class cannot mutate the ledger directly\n",
    "- provide a read-write property for `is_overdraft_allowed` that indicates whether overdrafts are allowed on the account.\n",
    "- provide methods to debit (`def withdraw`) and credit (`def deposit`) transactions that:\n",
    "    - verify withdrawals against available balance and `is_overdraft_allowed` flag\n",
    "        - if withdrawal is larger than available balance and overdrafts are not allowed, this should raise a custom `OverdraftNotAllowed` exception.\n",
    "        - if transaction value is not positive, this should raise a `ValueError` exception (we have separate methods for deposits and withdrawals, and we expect the value to be positive in both cases - one will add to the balance, one will subtract from the balance).\n",
    "    - add an entry to the ledger with a current UTC timestamp (positive or negative to indicate credit/debit)\n",
    "    - keeps the available balance updated\n",
    "- implements a good string representation for the instance (maybe something like `first_name last_name (account_number): balance`"
   ]
  },
  {
   "cell_type": "markdown",
   "id": "present-client",
   "metadata": {},
   "source": [
    "Feel free to expand on the minimum definition I have given here and enhance your custom class."
   ]
  },
  {
   "cell_type": "markdown",
   "id": "heavy-bankruptcy",
   "metadata": {},
   "source": [
    "##### Solution"
   ]
  },
  {
   "cell_type": "markdown",
   "id": "clinical-plane",
   "metadata": {},
   "source": [
    "Let's start by writing the class and the `__init__` method. We'll want to make the attributes `first_name`, `last_name`, `account_number`, `balance` read-only properties, so we'll use \"private\" variables for them at first, and then develop properties to access those values. We'll also create a property for `is_overdraft_allowed` - but we'll do that later."
   ]
  },
  {
   "cell_type": "code",
   "execution_count": 1,
   "id": "handled-contact",
   "metadata": {},
   "outputs": [],
   "source": [
    "class Account:\n",
    "    def __init__(self, first_name, last_name, account_number, initial_balance):\n",
    "        self._first_name = first_name\n",
    "        self._last_name = last_name\n",
    "        self._account_number = account_number\n",
    "        self._balance = initial_balance"
   ]
  },
  {
   "cell_type": "markdown",
   "id": "planned-providence",
   "metadata": {},
   "source": [
    "Now we should add read-only properties to our class for these attributes:"
   ]
  },
  {
   "cell_type": "code",
   "execution_count": 2,
   "id": "original-borough",
   "metadata": {},
   "outputs": [],
   "source": [
    "class Account:\n",
    "    def __init__(self, first_name, last_name, account_number, initial_balance):\n",
    "        self._first_name = first_name\n",
    "        self._last_name = last_name\n",
    "        self._account_number = account_number\n",
    "        self._balance = initial_balance\n",
    "        \n",
    "    @property\n",
    "    def first_name(self):\n",
    "        return self._first_name\n",
    "    \n",
    "    @property\n",
    "    def last_name(self):\n",
    "        return self._last_name\n",
    "    \n",
    "    @property\n",
    "    def account_number(self):\n",
    "        return self._account_number\n",
    "    \n",
    "    @property\n",
    "    def balance(self):\n",
    "        return self._balance"
   ]
  },
  {
   "cell_type": "markdown",
   "id": "expensive-stewart",
   "metadata": {},
   "source": [
    "Before we implement methods to record debits/credits, we'll want to have something we can use as a \"ledger\"."
   ]
  },
  {
   "cell_type": "markdown",
   "id": "reserved-creation",
   "metadata": {},
   "source": [
    "A simple way to implement this is to use a list internally, and expose that list via a property.\n",
    "\n",
    "For simplicity, the values in the ledger will just be tuples containing the date and the amount (we could alternatively even construct custom classes for both the ledger and the ledger entries)."
   ]
  },
  {
   "cell_type": "markdown",
   "id": "owned-apache",
   "metadata": {},
   "source": [
    "The issue is that lists are mutable, and we return the ledger from a property we'd like to make sure it cannot be mutated (and hence mutating our internal list)."
   ]
  },
  {
   "cell_type": "markdown",
   "id": "adequate-reputation",
   "metadata": {},
   "source": [
    "There's two ways we could do this:\n",
    "- make a copy of the ledger and return that from the property\n",
    "- return a tuple of the internal ledger list"
   ]
  },
  {
   "cell_type": "markdown",
   "id": "unexpected-dodge",
   "metadata": {},
   "source": [
    "I'm just going to use the tuple approach, since whoever is using that class has no business modifying the ledger anyway, so that approach seems good enough."
   ]
  },
  {
   "cell_type": "code",
   "execution_count": 3,
   "id": "ordered-camcorder",
   "metadata": {},
   "outputs": [],
   "source": [
    "class Account:\n",
    "    def __init__(self, first_name, last_name, account_number, initial_balance):\n",
    "        self._first_name = first_name\n",
    "        self._last_name = last_name\n",
    "        self._account_number = account_number\n",
    "        self._balance = initial_balance\n",
    "        self._ledger = []\n",
    "        \n",
    "    @property\n",
    "    def first_name(self):\n",
    "        return self._first_name\n",
    "    \n",
    "    @property\n",
    "    def last_name(self):\n",
    "        return self._last_name\n",
    "    \n",
    "    @property\n",
    "    def account_number(self):\n",
    "        return self._account_number\n",
    "    \n",
    "    @property\n",
    "    def balance(self):\n",
    "        return self._balance\n",
    "    \n",
    "    @property\n",
    "    def ledger(self):\n",
    "        return tuple(self._ledger)"
   ]
  },
  {
   "cell_type": "markdown",
   "id": "nearby-independence",
   "metadata": {},
   "source": [
    "Next we need to implement `is_overdraft_allowed`."
   ]
  },
  {
   "cell_type": "markdown",
   "id": "impaired-chain",
   "metadata": {},
   "source": [
    "We could just implememt this as a bare attribute, but I want to place some checks on when that value is set to ensure it is set to `True` or `False` only."
   ]
  },
  {
   "cell_type": "markdown",
   "id": "cubic-faith",
   "metadata": {},
   "source": [
    "Let's start by writing the property getter and setter:"
   ]
  },
  {
   "cell_type": "code",
   "execution_count": 4,
   "id": "focused-concrete",
   "metadata": {},
   "outputs": [],
   "source": [
    "class Account:\n",
    "    def __init__(self, first_name, last_name, account_number, initial_balance):\n",
    "        self._first_name = first_name\n",
    "        self._last_name = last_name\n",
    "        self._account_number = account_number\n",
    "        self._balance = initial_balance\n",
    "        self._ledger = []\n",
    "        \n",
    "    @property\n",
    "    def first_name(self):\n",
    "        return self._first_name\n",
    "    \n",
    "    @property\n",
    "    def last_name(self):\n",
    "        return self._last_name\n",
    "    \n",
    "    @property\n",
    "    def account_number(self):\n",
    "        return self._account_number\n",
    "    \n",
    "    @property\n",
    "    def balance(self):\n",
    "        return self._balance\n",
    "    \n",
    "    @property\n",
    "    def ledger(self):\n",
    "        return tuple(self._ledger)\n",
    "    \n",
    "    @property\n",
    "    def is_overdraft_allowed(self):\n",
    "        return self._is_overdraft_allowed\n",
    "    \n",
    "    @is_overdraft_allowed.setter\n",
    "    def is_overdraft_allowed(self, value):\n",
    "        if not isinstance(value, bool):\n",
    "            raise ValueError('Must be a bool.')\n",
    "        self._is_overdraft_allowed = value"
   ]
  },
  {
   "cell_type": "markdown",
   "id": "quiet-polyester",
   "metadata": {},
   "source": [
    "Now we still have to initialize `self._is_overdraft_allowed` - we'll do that by allowing it in the class `__init__` - however we also need to validate that it **is** a `bool` value there too - fortunately we can leverage our property setter.\n",
    "\n",
    "While we're at it, we'll specify some suitable defaults for both the overdraft flag and the initial balance."
   ]
  },
  {
   "cell_type": "code",
   "execution_count": 5,
   "id": "dramatic-venture",
   "metadata": {},
   "outputs": [],
   "source": [
    "class Account:\n",
    "    def __init__(\n",
    "        self, \n",
    "        first_name, \n",
    "        last_name, \n",
    "        account_number, \n",
    "        initial_balance = 0, \n",
    "        is_overdraft_allowed = False\n",
    "    ):\n",
    "        self._first_name = first_name\n",
    "        self._last_name = last_name\n",
    "        self._account_number = account_number\n",
    "        self._balance = initial_balance\n",
    "        self._ledger = []\n",
    "        self.is_overdraft_allowed = is_overdraft_allowed  # this uses the setter, and its validation logic\n",
    "\n",
    "    @property\n",
    "    def first_name(self):\n",
    "        return self._first_name\n",
    "    \n",
    "    @property\n",
    "    def last_name(self):\n",
    "        return self._last_name\n",
    "    \n",
    "    @property\n",
    "    def account_number(self):\n",
    "        return self._account_number\n",
    "    \n",
    "    @property\n",
    "    def balance(self):\n",
    "        return self._balance\n",
    "    \n",
    "    @property\n",
    "    def ledger(self):\n",
    "        return tuple(self._ledger)\n",
    "    \n",
    "    @property\n",
    "    def is_overdraft_allowed(self):\n",
    "        return self._is_overdraft_allowed\n",
    "    \n",
    "    @is_overdraft_allowed.setter\n",
    "    def is_overdraft_allowed(self, value):\n",
    "        if not isinstance(value, bool):\n",
    "            raise ValueError('Must be a bool.')\n",
    "        self._is_overdraft_allowed = value"
   ]
  },
  {
   "cell_type": "markdown",
   "id": "committed-folks",
   "metadata": {},
   "source": [
    "Now we can go ahead an implement credits and debits.\n",
    "\n",
    "For debits, we'll need to make sure that the available balance is sufficient to cover the debit if overdrafts are not allowed. If not, we'll want to raise a custom exception `OverdraftNotAllowed`."
   ]
  },
  {
   "cell_type": "markdown",
   "id": "black-seven",
   "metadata": {},
   "source": [
    "Let's define that custom exception first:"
   ]
  },
  {
   "cell_type": "code",
   "execution_count": 6,
   "id": "practical-barbados",
   "metadata": {},
   "outputs": [],
   "source": [
    "class OverdraftNotAllowed(Exception):\n",
    "    '''Exception indicating a transaction would have resulted in a forbidden overdraft.'''"
   ]
  },
  {
   "cell_type": "markdown",
   "id": "inappropriate-produce",
   "metadata": {},
   "source": [
    "Since both credits and debits will write the same thing to the same ledger (assuming the transaction goes through), we'll have some common code to add the entry to the ledger - so we'll write that as a \"private\" method we can use internally.\n",
    "\n",
    "Let's implement that:"
   ]
  },
  {
   "cell_type": "code",
   "execution_count": 7,
   "id": "anticipated-regard",
   "metadata": {},
   "outputs": [],
   "source": [
    "from datetime import datetime\n",
    "\n",
    "class Account:\n",
    "    def __init__(\n",
    "        self, \n",
    "        first_name, \n",
    "        last_name, \n",
    "        account_number, \n",
    "        initial_balance = 0, \n",
    "        is_overdraft_allowed = False\n",
    "    ):\n",
    "        self._first_name = first_name\n",
    "        self._last_name = last_name\n",
    "        self._account_number = account_number\n",
    "        self._balance = initial_balance\n",
    "        self._ledger = []\n",
    "        self.is_overdraft_allowed = is_overdraft_allowed  # this uses the setter, and its validation logic\n",
    "\n",
    "    @property\n",
    "    def first_name(self):\n",
    "        return self._first_name\n",
    "    \n",
    "    @property\n",
    "    def last_name(self):\n",
    "        return self._last_name\n",
    "    \n",
    "    @property\n",
    "    def account_number(self):\n",
    "        return self._account_number\n",
    "    \n",
    "    @property\n",
    "    def balance(self):\n",
    "        return self._balance\n",
    "    \n",
    "    @property\n",
    "    def ledger(self):\n",
    "        return tuple(self._ledger)\n",
    "    \n",
    "    @property\n",
    "    def is_overdraft_allowed(self):\n",
    "        return self._is_overdraft_allowed\n",
    "    \n",
    "    @is_overdraft_allowed.setter\n",
    "    def is_overdraft_allowed(self, value):\n",
    "        if not isinstance(value, bool):\n",
    "            raise ValueError('Must be a bool.')\n",
    "        self._is_overdraft_allowed = value\n",
    "    \n",
    "    def _make_ledger_entry(self, value):\n",
    "        dt = datetime.utcnow()\n",
    "        self._ledger.append((dt, value))"
   ]
  },
  {
   "cell_type": "markdown",
   "id": "growing-external",
   "metadata": {},
   "source": [
    "Now let's go ahead and implement two methods for applying credits/debits to the account. If someone tries to create a non-positive valued transaction, we'll raise a `ValueError`."
   ]
  },
  {
   "cell_type": "code",
   "execution_count": 8,
   "id": "naughty-diving",
   "metadata": {},
   "outputs": [],
   "source": [
    "class Account:\n",
    "    def __init__(\n",
    "        self, \n",
    "        first_name, \n",
    "        last_name, \n",
    "        account_number, \n",
    "        initial_balance = 0, \n",
    "        is_overdraft_allowed = False\n",
    "    ):\n",
    "        self._first_name = first_name\n",
    "        self._last_name = last_name\n",
    "        self._account_number = account_number\n",
    "        self._balance = initial_balance\n",
    "        self._ledger = []\n",
    "        self.is_overdraft_allowed = is_overdraft_allowed  # this uses the setter, and its validation logic\n",
    "\n",
    "    @property\n",
    "    def first_name(self):\n",
    "        return self._first_name\n",
    "    \n",
    "    @property\n",
    "    def last_name(self):\n",
    "        return self._last_name\n",
    "    \n",
    "    @property\n",
    "    def account_number(self):\n",
    "        return self._account_number\n",
    "    \n",
    "    @property\n",
    "    def balance(self):\n",
    "        return self._balance\n",
    "    \n",
    "    @property\n",
    "    def ledger(self):\n",
    "        return tuple(self._ledger)\n",
    "    \n",
    "    @property\n",
    "    def is_overdraft_allowed(self):\n",
    "        return self._is_overdraft_allowed\n",
    "    \n",
    "    @is_overdraft_allowed.setter\n",
    "    def is_overdraft_allowed(self, value):\n",
    "        if not isinstance(value, bool):\n",
    "            raise ValueError('Must be a bool.')\n",
    "        self._is_overdraft_allowed = value\n",
    "    \n",
    "    def _make_ledger_entry(self, value):\n",
    "        dt = datetime.utcnow()\n",
    "        self._ledger.append((dt, value))\n",
    "        \n",
    "    def deposit(self, value):\n",
    "        # ensure value is positive\n",
    "        if value <= 0:\n",
    "            raise ValueError('Deposit value must be positive')\n",
    "        \n",
    "        # make entry in ledger\n",
    "        self._make_ledger_entry(value)\n",
    "        \n",
    "        # and update balance\n",
    "        self._balance += value\n",
    "        \n",
    "    def withdraw(self, value):\n",
    "        # ensure value is positive\n",
    "        if value <= 0:\n",
    "            raise ValueError('Withdrawal value must be positive.')\n",
    "\n",
    "        # can we make the withdrawal?\n",
    "        if value > self.balance and not self.is_overdraft_allowed:\n",
    "            # would result in overdraft, which is not allowed\n",
    "            raise OverdraftNotAllowed(f'Would result in overdraft of {self.balance - value}')\n",
    "            \n",
    "        # ok to proceed\n",
    "        # we'll just indicate withdrawals in ledger by using negative values\n",
    "        self._make_ledger_entry(-value)\n",
    "        # update balance\n",
    "        self._balance -= value"
   ]
  },
  {
   "cell_type": "markdown",
   "id": "desperate-banking",
   "metadata": {},
   "source": [
    "There is another tweak I will want to make - adding the initial balance to the ledger - as well as keeping track of a running balance in the ledger itself - so I'm going to modify the `__init__` method to add that ledger entry, as well as modify the `_make_ledger_entry` method to receive and store the current balance. Of course, I'll have to modify the `withdraw` and `deposit` methods to account for this new argument in `_make_ledger_entry`."
   ]
  },
  {
   "cell_type": "code",
   "execution_count": 9,
   "id": "damaged-sunrise",
   "metadata": {},
   "outputs": [],
   "source": [
    "class Account:\n",
    "    def __init__(\n",
    "        self, \n",
    "        first_name, \n",
    "        last_name, \n",
    "        account_number, \n",
    "        initial_balance = 0, \n",
    "        is_overdraft_allowed = False\n",
    "    ):\n",
    "        self._first_name = first_name\n",
    "        self._last_name = last_name\n",
    "        self._account_number = account_number\n",
    "        self._balance = initial_balance\n",
    "        self._ledger = []\n",
    "        self.is_overdraft_allowed = is_overdraft_allowed  # this uses the setter, and its validation logic\n",
    "        self._make_ledger_entry(0, initial_balance)\n",
    "        \n",
    "    @property\n",
    "    def first_name(self):\n",
    "        return self._first_name\n",
    "    \n",
    "    @property\n",
    "    def last_name(self):\n",
    "        return self._last_name\n",
    "    \n",
    "    @property\n",
    "    def account_number(self):\n",
    "        return self._account_number\n",
    "    \n",
    "    @property\n",
    "    def balance(self):\n",
    "        return self._balance\n",
    "    \n",
    "    @property\n",
    "    def ledger(self):\n",
    "        return tuple(self._ledger)\n",
    "    \n",
    "    @property\n",
    "    def is_overdraft_allowed(self):\n",
    "        return self._is_overdraft_allowed\n",
    "    \n",
    "    @is_overdraft_allowed.setter\n",
    "    def is_overdraft_allowed(self, value):\n",
    "        if not isinstance(value, bool):\n",
    "            raise ValueError('Must be a bool.')\n",
    "        self._is_overdraft_allowed = value\n",
    "    \n",
    "    def _make_ledger_entry(self, value, current_balance):\n",
    "        dt = datetime.utcnow()\n",
    "        self._ledger.append((dt, value, current_balance))\n",
    "        \n",
    "    def deposit(self, value):\n",
    "        if value <= 0:\n",
    "            raise ValueError('Deposit value must be positive')\n",
    "        self._balance += value\n",
    "        self._make_ledger_entry(value, self.balance)\n",
    "        \n",
    "    def withdraw(self, value):\n",
    "        if value <= 0:\n",
    "            raise ValueError('Withdrawal value must be positive.')\n",
    "        if value > self.balance and not self.is_overdraft_allowed:\n",
    "            raise OverdraftNotAllowed(f'Would result in overdraft of {self.balance - value}')\n",
    "        self._balance -= value\n",
    "        self._make_ledger_entry(-value, self.balance)"
   ]
  },
  {
   "cell_type": "markdown",
   "id": "driven-opening",
   "metadata": {},
   "source": [
    "Finally, we should add some special methods for `__str__` and `__repr__`.\n",
    "\n",
    "(I'm also going to clean up comments that do not really add to the class, since most of the comments are rather obvious from the code itself)."
   ]
  },
  {
   "cell_type": "code",
   "execution_count": 10,
   "id": "hairy-angola",
   "metadata": {},
   "outputs": [],
   "source": [
    "class Account:\n",
    "    def __init__(\n",
    "        self, \n",
    "        first_name, \n",
    "        last_name, \n",
    "        account_number, \n",
    "        initial_balance = 0, \n",
    "        is_overdraft_allowed = False\n",
    "    ):\n",
    "        self._first_name = first_name\n",
    "        self._last_name = last_name\n",
    "        self._account_number = account_number\n",
    "        self._balance = initial_balance\n",
    "        self._ledger = []\n",
    "        self.is_overdraft_allowed = is_overdraft_allowed\n",
    "        self._make_ledger_entry(0, initial_balance)\n",
    "        \n",
    "    @property\n",
    "    def first_name(self):\n",
    "        return self._first_name\n",
    "    \n",
    "    @property\n",
    "    def last_name(self):\n",
    "        return self._last_name\n",
    "    \n",
    "    @property\n",
    "    def account_number(self):\n",
    "        return self._account_number\n",
    "    \n",
    "    @property\n",
    "    def balance(self):\n",
    "        return self._balance\n",
    "    \n",
    "    @property\n",
    "    def ledger(self):\n",
    "        return tuple(self._ledger)\n",
    "    \n",
    "    @property\n",
    "    def is_overdraft_allowed(self):\n",
    "        return self._is_overdraft_allowed\n",
    "    \n",
    "    @is_overdraft_allowed.setter\n",
    "    def is_overdraft_allowed(self, value):\n",
    "        if not isinstance(value, bool):\n",
    "            raise ValueError('Must be a bool.')\n",
    "        self._is_overdraft_allowed = value\n",
    "    \n",
    "    def _make_ledger_entry(self, value, current_balance):\n",
    "        dt = datetime.utcnow()\n",
    "        self._ledger.append((dt, value, current_balance))\n",
    "        \n",
    "    def deposit(self, value):\n",
    "        if value <= 0:\n",
    "            raise ValueError('Deposit value must be positive')\n",
    "        self._balance += value\n",
    "        self._make_ledger_entry(value, self.balance)\n",
    "        \n",
    "    def withdraw(self, value):\n",
    "        if value <= 0:\n",
    "            raise ValueError('Withdrawal value must be positive.')\n",
    "        if value > self.balance and not self.is_overdraft_allowed:\n",
    "            raise OverdraftNotAllowed(f'Would result in overdraft of {self.balance - value}')\n",
    "        self._balance -= value\n",
    "        self._make_ledger_entry(-value, self.balance)\n",
    "        \n",
    "    def __repr__(self):\n",
    "        return (\n",
    "            f'({self.account_number}) {self.last_name}, '\n",
    "            f'balance: {self.balance}, '\n",
    "            f'overdraft: {self.is_overdraft_allowed}, '\n",
    "            f'# transaction: {len(self._ledger)}'\n",
    "        )\n",
    "    \n",
    "    def __str__(self):\n",
    "        return f'{self.account_number}: {self.balance}'"
   ]
  },
  {
   "cell_type": "markdown",
   "id": "continuing-columbus",
   "metadata": {},
   "source": [
    "Ok, that's pretty much my implementation at this point."
   ]
  },
  {
   "cell_type": "markdown",
   "id": "controlled-combat",
   "metadata": {},
   "source": [
    "Let's try this class out and see how it works."
   ]
  },
  {
   "cell_type": "markdown",
   "id": "united-junction",
   "metadata": {},
   "source": [
    "Note: I'm only going to test a few scenarios - this is by far not enough to fully test my code. In practice you should write a lot of tests to ensure your code works not only for the \"standard\" way things are expected to work (sometimes called \"happy path\"), but also tests that it handles \"edge\" (out of the ordinary and weird) conditions too."
   ]
  },
  {
   "cell_type": "code",
   "execution_count": 11,
   "id": "worse-responsibility",
   "metadata": {},
   "outputs": [],
   "source": [
    "acct = Account('John', 'Smith', '123456', 0)"
   ]
  },
  {
   "cell_type": "markdown",
   "id": "equal-export",
   "metadata": {},
   "source": [
    "By default, the overdraft flag should be False - we can use the `assert` statement to test this."
   ]
  },
  {
   "cell_type": "code",
   "execution_count": 12,
   "id": "exotic-morning",
   "metadata": {},
   "outputs": [
    {
     "data": {
      "text/plain": [
       "False"
      ]
     },
     "execution_count": 12,
     "metadata": {},
     "output_type": "execute_result"
    }
   ],
   "source": [
    "acct.is_overdraft_allowed"
   ]
  },
  {
   "cell_type": "markdown",
   "id": "hindu-tower",
   "metadata": {},
   "source": [
    "The ledger should be a tuple with a single entry for the initial balance at this point:"
   ]
  },
  {
   "cell_type": "code",
   "execution_count": 13,
   "id": "electoral-birthday",
   "metadata": {},
   "outputs": [
    {
     "data": {
      "text/plain": [
       "((datetime.datetime(2021, 2, 7, 17, 58, 27, 130634), 0, 0),)"
      ]
     },
     "execution_count": 13,
     "metadata": {},
     "output_type": "execute_result"
    }
   ],
   "source": [
    "acct.ledger"
   ]
  },
  {
   "cell_type": "markdown",
   "id": "authentic-spoke",
   "metadata": {},
   "source": [
    "Let's try to make a withdrawal - that shoudl raise an `OverdraftNotAllowed` exception:"
   ]
  },
  {
   "cell_type": "code",
   "execution_count": 14,
   "id": "configured-champion",
   "metadata": {},
   "outputs": [
    {
     "name": "stdout",
     "output_type": "stream",
     "text": [
      "OverdraftNotAllowed Would result in overdraft of -10\n"
     ]
    }
   ],
   "source": [
    "try:\n",
    "    acct.withdraw(10)\n",
    "except OverdraftNotAllowed as ex:\n",
    "    print('OverdraftNotAllowed', ex)"
   ]
  },
  {
   "cell_type": "markdown",
   "id": "crucial-taylor",
   "metadata": {},
   "source": [
    "Now let's change the overdraft flag and try this again:"
   ]
  },
  {
   "cell_type": "code",
   "execution_count": 15,
   "id": "everyday-adrian",
   "metadata": {},
   "outputs": [],
   "source": [
    "acct.is_overdraft_allowed = True"
   ]
  },
  {
   "cell_type": "code",
   "execution_count": 16,
   "id": "underlying-failure",
   "metadata": {},
   "outputs": [],
   "source": [
    "acct.withdraw(10)"
   ]
  },
  {
   "cell_type": "markdown",
   "id": "classical-theory",
   "metadata": {},
   "source": [
    "No exception, that's good - and let's check the ledger:"
   ]
  },
  {
   "cell_type": "code",
   "execution_count": 17,
   "id": "concerned-bridge",
   "metadata": {},
   "outputs": [
    {
     "data": {
      "text/plain": [
       "((datetime.datetime(2021, 2, 7, 17, 58, 27, 130634), 0, 0),\n",
       " (datetime.datetime(2021, 2, 7, 17, 58, 27, 151348), -10, -10))"
      ]
     },
     "execution_count": 17,
     "metadata": {},
     "output_type": "execute_result"
    }
   ],
   "source": [
    "acct.ledger"
   ]
  },
  {
   "cell_type": "markdown",
   "id": "generous-chart",
   "metadata": {},
   "source": [
    "Now let's try to make a negative transaction, we expect a ValueError on both `deposit` and `withdraw`:"
   ]
  },
  {
   "cell_type": "code",
   "execution_count": 18,
   "id": "former-fundamentals",
   "metadata": {},
   "outputs": [
    {
     "name": "stdout",
     "output_type": "stream",
     "text": [
      "Deposit value must be positive\n",
      "Deposit value must be positive\n"
     ]
    }
   ],
   "source": [
    "try:\n",
    "    acct.deposit(0)\n",
    "except ValueError as ex:\n",
    "    print(ex)\n",
    "    \n",
    "try:\n",
    "    acct.deposit(-1)\n",
    "except ValueError as ex:\n",
    "    print(ex)"
   ]
  },
  {
   "cell_type": "code",
   "execution_count": 19,
   "id": "uniform-infrared",
   "metadata": {},
   "outputs": [
    {
     "name": "stdout",
     "output_type": "stream",
     "text": [
      "Withdrawal value must be positive.\n",
      "Withdrawal value must be positive.\n"
     ]
    }
   ],
   "source": [
    "try:\n",
    "    acct.withdraw(0)\n",
    "except ValueError as ex:\n",
    "    print(ex)\n",
    "    \n",
    "try:\n",
    "    acct.withdraw(-1)\n",
    "except ValueError as ex:\n",
    "    print(ex)"
   ]
  },
  {
   "cell_type": "markdown",
   "id": "metric-investment",
   "metadata": {},
   "source": [
    "Let's also see how our `__repr__` works:"
   ]
  },
  {
   "cell_type": "code",
   "execution_count": 20,
   "id": "sealed-scanning",
   "metadata": {},
   "outputs": [
    {
     "data": {
      "text/plain": [
       "(123456) Smith, balance: -10, overdraft: True, # transaction: 2"
      ]
     },
     "execution_count": 20,
     "metadata": {},
     "output_type": "execute_result"
    }
   ],
   "source": [
    "acct"
   ]
  },
  {
   "cell_type": "markdown",
   "id": "cathedral-temple",
   "metadata": {},
   "source": [
    "And our `__str__`:"
   ]
  },
  {
   "cell_type": "code",
   "execution_count": 21,
   "id": "steady-stewart",
   "metadata": {
    "scrolled": true
   },
   "outputs": [
    {
     "name": "stdout",
     "output_type": "stream",
     "text": [
      "123456: -10\n"
     ]
    }
   ],
   "source": [
    "print(acct)"
   ]
  },
  {
   "cell_type": "markdown",
   "id": "destroyed-housing",
   "metadata": {},
   "source": [
    "#### Question 2"
   ]
  },
  {
   "cell_type": "markdown",
   "id": "hairy-emphasis",
   "metadata": {},
   "source": [
    "Expand on your class above to implement equality (`==`) comparisons between instances of your class."
   ]
  },
  {
   "cell_type": "markdown",
   "id": "several-negotiation",
   "metadata": {},
   "source": [
    "Two accounts should be considered equal if the account numbers are the same."
   ]
  },
  {
   "cell_type": "markdown",
   "id": "assured-washington",
   "metadata": {},
   "source": [
    "##### Solution"
   ]
  },
  {
   "cell_type": "markdown",
   "id": "loved-rental",
   "metadata": {},
   "source": [
    "We need to implement the `__eq__` method and just make sure that:\n",
    "- both objects being compared are `Account` instances\n",
    "- check if the `account_number` value is the same."
   ]
  },
  {
   "cell_type": "code",
   "execution_count": 22,
   "id": "boring-animal",
   "metadata": {},
   "outputs": [],
   "source": [
    "class Account:\n",
    "    def __init__(\n",
    "        self, \n",
    "        first_name, \n",
    "        last_name, \n",
    "        account_number, \n",
    "        initial_balance = 0, \n",
    "        is_overdraft_allowed = False\n",
    "    ):\n",
    "        self._first_name = first_name\n",
    "        self._last_name = last_name\n",
    "        self._account_number = account_number\n",
    "        self._balance = initial_balance\n",
    "        self._ledger = []\n",
    "        self.is_overdraft_allowed = is_overdraft_allowed\n",
    "        self._make_ledger_entry(0, initial_balance)\n",
    "        \n",
    "    @property\n",
    "    def first_name(self):\n",
    "        return self._first_name\n",
    "    \n",
    "    @property\n",
    "    def last_name(self):\n",
    "        return self._last_name\n",
    "    \n",
    "    @property\n",
    "    def account_number(self):\n",
    "        return self._account_number\n",
    "    \n",
    "    @property\n",
    "    def balance(self):\n",
    "        return self._balance\n",
    "    \n",
    "    @property\n",
    "    def ledger(self):\n",
    "        return tuple(self._ledger)\n",
    "    \n",
    "    @property\n",
    "    def is_overdraft_allowed(self):\n",
    "        return self._is_overdraft_allowed\n",
    "    \n",
    "    @is_overdraft_allowed.setter\n",
    "    def is_overdraft_allowed(self, value):\n",
    "        if not isinstance(value, bool):\n",
    "            raise ValueError('Must be a bool.')\n",
    "        self._is_overdraft_allowed = value\n",
    "    \n",
    "    def _make_ledger_entry(self, value, current_balance):\n",
    "        dt = datetime.utcnow()\n",
    "        self._ledger.append((dt, value, current_balance))\n",
    "        \n",
    "    def deposit(self, value):\n",
    "        if value <= 0:\n",
    "            raise ValueError('Deposit value must be positive')\n",
    "        self._balance += value\n",
    "        self._make_ledger_entry(value, self.balance)\n",
    "        \n",
    "    def withdraw(self, value):\n",
    "        if value <= 0:\n",
    "            raise ValueError('Withdrawal value must be positive.')\n",
    "        if value > self.balance and not self.is_overdraft_allowed:\n",
    "            raise OverdraftNotAllowed(f'Would result in overdraft of {self.balance - value}')\n",
    "        self._balance -= value\n",
    "        self._make_ledger_entry(-value, self.balance)\n",
    "        \n",
    "    def __repr__(self):\n",
    "        return (\n",
    "            f'({self.account_number}) {self.last_name}, '\n",
    "            f'balance: {self.balance}, '\n",
    "            f'overdraft: {self.is_overdraft_allowed}, '\n",
    "            f'# transaction: {len(self._ledger)}'\n",
    "        )\n",
    "    \n",
    "    def __str__(self):\n",
    "        return f'{self.account_number}: {self.balance}'\n",
    "    \n",
    "    def __eq__(self, other):\n",
    "        if isinstance(other, Account) and self.account_number == other.account_number:\n",
    "            return True\n",
    "        return False"
   ]
  },
  {
   "cell_type": "markdown",
   "id": "touched-major",
   "metadata": {},
   "source": [
    "This code works fine, but whenever you see code that `return True` or `return False` based on evaluating a conditional expression, you really ought to re-write it to just return the result of the conditional expression."
   ]
  },
  {
   "cell_type": "code",
   "execution_count": 23,
   "id": "physical-favorite",
   "metadata": {},
   "outputs": [],
   "source": [
    "class Account:\n",
    "    def __init__(\n",
    "        self, \n",
    "        first_name, \n",
    "        last_name, \n",
    "        account_number, \n",
    "        initial_balance = 0, \n",
    "        is_overdraft_allowed = False\n",
    "    ):\n",
    "        self._first_name = first_name\n",
    "        self._last_name = last_name\n",
    "        self._account_number = account_number\n",
    "        self._balance = initial_balance\n",
    "        self._ledger = []\n",
    "        self.is_overdraft_allowed = is_overdraft_allowed\n",
    "        self._make_ledger_entry(0, initial_balance)\n",
    "        \n",
    "    @property\n",
    "    def first_name(self):\n",
    "        return self._first_name\n",
    "    \n",
    "    @property\n",
    "    def last_name(self):\n",
    "        return self._last_name\n",
    "    \n",
    "    @property\n",
    "    def account_number(self):\n",
    "        return self._account_number\n",
    "    \n",
    "    @property\n",
    "    def balance(self):\n",
    "        return self._balance\n",
    "    \n",
    "    @property\n",
    "    def ledger(self):\n",
    "        return tuple(self._ledger)\n",
    "    \n",
    "    @property\n",
    "    def is_overdraft_allowed(self):\n",
    "        return self._is_overdraft_allowed\n",
    "    \n",
    "    @is_overdraft_allowed.setter\n",
    "    def is_overdraft_allowed(self, value):\n",
    "        if not isinstance(value, bool):\n",
    "            raise ValueError('Must be a bool.')\n",
    "        self._is_overdraft_allowed = value\n",
    "    \n",
    "    def _make_ledger_entry(self, value, current_balance):\n",
    "        dt = datetime.utcnow()\n",
    "        self._ledger.append((dt, value, current_balance))\n",
    "        \n",
    "    def deposit(self, value):\n",
    "        if value <= 0:\n",
    "            raise ValueError('Deposit value must be positive')\n",
    "        self._balance += value\n",
    "        self._make_ledger_entry(value, self.balance)\n",
    "        \n",
    "    def withdraw(self, value):\n",
    "        if value <= 0:\n",
    "            raise ValueError('Withdrawal value must be positive.')\n",
    "        if value > self.balance and not self.is_overdraft_allowed:\n",
    "            raise OverdraftNotAllowed(f'Would result in overdraft of {self.balance - value}')\n",
    "        self._balance -= value\n",
    "        self._make_ledger_entry(-value, self.balance)\n",
    "        \n",
    "    def __repr__(self):\n",
    "        return (\n",
    "            f'({self.account_number}) {self.last_name}, '\n",
    "            f'balance: {self.balance}, '\n",
    "            f'overdraft: {self.is_overdraft_allowed}, '\n",
    "            f'# transaction: {len(self._ledger)}'\n",
    "        )\n",
    "    \n",
    "    def __str__(self):\n",
    "        return f'{self.account_number}: {self.balance}'\n",
    "    \n",
    "    def __eq__(self, other):\n",
    "        return isinstance(other, Account) and self.account_number == other.account_number"
   ]
  },
  {
   "cell_type": "markdown",
   "id": "opponent-grocery",
   "metadata": {},
   "source": [
    "Let's test this out and see if it works as expected:"
   ]
  },
  {
   "cell_type": "code",
   "execution_count": 24,
   "id": "handmade-mixture",
   "metadata": {},
   "outputs": [
    {
     "data": {
      "text/plain": [
       "True"
      ]
     },
     "execution_count": 24,
     "metadata": {},
     "output_type": "execute_result"
    }
   ],
   "source": [
    "a1 = Account('f1', 'l1', '123')\n",
    "a2 = Account('f2', 'l2', '123')\n",
    "\n",
    "a1 == a2"
   ]
  },
  {
   "cell_type": "code",
   "execution_count": 25,
   "id": "caroline-balloon",
   "metadata": {},
   "outputs": [
    {
     "data": {
      "text/plain": [
       "False"
      ]
     },
     "execution_count": 25,
     "metadata": {},
     "output_type": "execute_result"
    }
   ],
   "source": [
    "a1 = Account('f1', 'l1', '123')\n",
    "a2 = Account('f2', 'l2', '1234')\n",
    "\n",
    "a1 == a2"
   ]
  },
  {
   "cell_type": "markdown",
   "id": "above-crash",
   "metadata": {},
   "source": [
    "As you can see equality is based solely on the account number and seems to work properly."
   ]
  }
 ],
 "metadata": {
  "kernelspec": {
   "display_name": "Python 3",
   "language": "python",
   "name": "python3"
  },
  "language_info": {
   "codemirror_mode": {
    "name": "ipython",
    "version": 3
   },
   "file_extension": ".py",
   "mimetype": "text/x-python",
   "name": "python",
   "nbconvert_exporter": "python",
   "pygments_lexer": "ipython3",
   "version": "3.9.1"
  }
 },
 "nbformat": 4,
 "nbformat_minor": 5
}
