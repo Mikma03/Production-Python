{
 "cells": [
  {
   "cell_type": "markdown",
   "id": "natural-conversion",
   "metadata": {},
   "source": [
    "### Solutions"
   ]
  },
  {
   "cell_type": "markdown",
   "id": "timely-coordinate",
   "metadata": {},
   "source": [
    "#### Question 1"
   ]
  },
  {
   "cell_type": "markdown",
   "id": "electronic-palmer",
   "metadata": {},
   "source": [
    "Write some code that generates an `m` x `n` multiplication table.\n",
    "\n",
    "For example if `m=3` and `n=4` your output should look something like:\n",
    "\n",
    "```\n",
    "1 x 1 = 1\n",
    "1 x 2 = 2\n",
    "1 x 3 = 3\n",
    "1 x 4 = 4\n",
    "---------------\n",
    "2 x 1 = 2\n",
    "2 x 2 = 4\n",
    "2 x 3 = 6\n",
    "2 x 4 = 8\n",
    "---------------\n",
    "3 x 1 = 3\n",
    "3 x 2 = 6\n",
    "3 x 3 = 9\n",
    "3 x 4 = 12\n",
    "---------------\n",
    "```"
   ]
  },
  {
   "cell_type": "markdown",
   "id": "tender-precipitation",
   "metadata": {},
   "source": [
    "Your code should be generic enough that it can handle any positive integer values of `m` and `n`."
   ]
  },
  {
   "cell_type": "markdown",
   "id": "identical-cornwall",
   "metadata": {},
   "source": [
    "##### Solution"
   ]
  },
  {
   "cell_type": "markdown",
   "id": "assisted-geneva",
   "metadata": {},
   "source": [
    "To do this we'll need to use a nested `for` loop to loop through each row, and then each column of the multiplication table:"
   ]
  },
  {
   "cell_type": "code",
   "execution_count": 1,
   "id": "saved-process",
   "metadata": {},
   "outputs": [
    {
     "name": "stdout",
     "output_type": "stream",
     "text": [
      "1 x 1 = 1\n",
      "1 x 2 = 2\n",
      "1 x 3 = 3\n",
      "1 x 4 = 4\n",
      "---------------\n",
      "2 x 1 = 2\n",
      "2 x 2 = 4\n",
      "2 x 3 = 6\n",
      "2 x 4 = 8\n",
      "---------------\n",
      "3 x 1 = 3\n",
      "3 x 2 = 6\n",
      "3 x 3 = 9\n",
      "3 x 4 = 12\n",
      "---------------\n"
     ]
    }
   ],
   "source": [
    "m = 3\n",
    "n = 4\n",
    "\n",
    "for row in range(1, m + 1):\n",
    "    for col in range(1, n+1):\n",
    "        print(f'{row} x {col} = {row * col}')\n",
    "    print('-' * 15)"
   ]
  },
  {
   "cell_type": "markdown",
   "id": "engaging-nursery",
   "metadata": {},
   "source": [
    "And this code will work for other values of `m` and `n` as well:"
   ]
  },
  {
   "cell_type": "code",
   "execution_count": 2,
   "id": "corresponding-universe",
   "metadata": {},
   "outputs": [
    {
     "name": "stdout",
     "output_type": "stream",
     "text": [
      "1 x 1 = 1\n",
      "1 x 2 = 2\n",
      "1 x 3 = 3\n",
      "1 x 4 = 4\n",
      "1 x 5 = 5\n",
      "---------------\n",
      "2 x 1 = 2\n",
      "2 x 2 = 4\n",
      "2 x 3 = 6\n",
      "2 x 4 = 8\n",
      "2 x 5 = 10\n",
      "---------------\n",
      "3 x 1 = 3\n",
      "3 x 2 = 6\n",
      "3 x 3 = 9\n",
      "3 x 4 = 12\n",
      "3 x 5 = 15\n",
      "---------------\n",
      "4 x 1 = 4\n",
      "4 x 2 = 8\n",
      "4 x 3 = 12\n",
      "4 x 4 = 16\n",
      "4 x 5 = 20\n",
      "---------------\n",
      "5 x 1 = 5\n",
      "5 x 2 = 10\n",
      "5 x 3 = 15\n",
      "5 x 4 = 20\n",
      "5 x 5 = 25\n",
      "---------------\n"
     ]
    }
   ],
   "source": [
    "m = 5\n",
    "n = 5\n",
    "\n",
    "for row in range(1, m + 1):\n",
    "    for col in range(1, n+1):\n",
    "        print(f'{row} x {col} = {row * col}')\n",
    "    print('-' * 15)"
   ]
  },
  {
   "cell_type": "markdown",
   "id": "dynamic-parcel",
   "metadata": {},
   "source": [
    "#### Question 2"
   ]
  },
  {
   "cell_type": "markdown",
   "id": "civil-mirror",
   "metadata": {},
   "source": [
    "Your are given the following tuple of lists:"
   ]
  },
  {
   "cell_type": "code",
   "execution_count": 3,
   "id": "aging-evaluation",
   "metadata": {},
   "outputs": [],
   "source": [
    "data = (\n",
    "    ['2021-01-01', 10, 20],\n",
    "    ['2021-01-02', 20, 18],\n",
    "    ['2021-01-03', -10, 10],\n",
    "    ['2021-01-04', 100, 102],\n",
    "    ['2021-01-05', 20, 45]\n",
    ")"
   ]
  },
  {
   "cell_type": "markdown",
   "id": "meaning-escape",
   "metadata": {},
   "source": [
    "Your program should:\n",
    "1. Mutate the lists in `data` to add one more element indicating the distance between the two integer numbers (i.e. the absolute value fo the difference)\n",
    "2. Determine on which date this newly calculate value was the largest.\n",
    "3. Be able to work for a `data` set containing any number of lists."
   ]
  },
  {
   "cell_type": "markdown",
   "id": "hollywood-volleyball",
   "metadata": {},
   "source": [
    "##### Solution"
   ]
  },
  {
   "cell_type": "markdown",
   "id": "decimal-jungle",
   "metadata": {},
   "source": [
    "First we'll need to add that calculated value to each list - we'll do that by appending an element to the lists as we loop through them:"
   ]
  },
  {
   "cell_type": "code",
   "execution_count": 4,
   "id": "expired-timber",
   "metadata": {},
   "outputs": [
    {
     "data": {
      "text/plain": [
       "(['2021-01-01', 10, 20, 10],\n",
       " ['2021-01-02', 20, 18, 2],\n",
       " ['2021-01-03', -10, 10, 20],\n",
       " ['2021-01-04', 100, 102, 2],\n",
       " ['2021-01-05', 20, 45, 25])"
      ]
     },
     "execution_count": 4,
     "metadata": {},
     "output_type": "execute_result"
    }
   ],
   "source": [
    "for row in data:\n",
    "    row.append(abs(row[1] - row[2]))\n",
    "data"
   ]
  },
  {
   "cell_type": "markdown",
   "id": "lonely-terrain",
   "metadata": {},
   "source": [
    "Now that we have the new data, we simply need to loop through it and find the date for the row with the largest last number."
   ]
  },
  {
   "cell_type": "markdown",
   "id": "honest-legislation",
   "metadata": {},
   "source": [
    "To do that we'll start by setting a starting maximum value (and corresponding date) based on the first row:"
   ]
  },
  {
   "cell_type": "code",
   "execution_count": 5,
   "id": "essential-hostel",
   "metadata": {},
   "outputs": [
    {
     "data": {
      "text/plain": [
       "('2021-01-01', 10)"
      ]
     },
     "execution_count": 5,
     "metadata": {},
     "output_type": "execute_result"
    }
   ],
   "source": [
    "max_spread = data[0][-1]\n",
    "max_date = data[0][0]\n",
    "\n",
    "max_date, max_spread"
   ]
  },
  {
   "cell_type": "markdown",
   "id": "cosmetic-pioneer",
   "metadata": {},
   "source": [
    "Now we'll iterate through the remaining rows and see if we find something larger. We'll also use unpacking to unpack the values of each row into separate variables:"
   ]
  },
  {
   "cell_type": "code",
   "execution_count": 6,
   "id": "chicken-wages",
   "metadata": {},
   "outputs": [
    {
     "data": {
      "text/plain": [
       "('2021-01-05', 25)"
      ]
     },
     "execution_count": 6,
     "metadata": {},
     "output_type": "execute_result"
    }
   ],
   "source": [
    "for dt, num_1, num_2, spread in data[1:]:\n",
    "    if spread > max_spread:\n",
    "        # found a new high\n",
    "        max_spread = spread\n",
    "        max_date = dt\n",
    "        \n",
    "max_date, max_spread"
   ]
  },
  {
   "cell_type": "markdown",
   "id": "living-rogers",
   "metadata": {},
   "source": [
    "Note that we did not have to use unpacking, we could also have done it this way:"
   ]
  },
  {
   "cell_type": "code",
   "execution_count": 7,
   "id": "statistical-olympus",
   "metadata": {},
   "outputs": [
    {
     "data": {
      "text/plain": [
       "('2021-01-05', 25)"
      ]
     },
     "execution_count": 7,
     "metadata": {},
     "output_type": "execute_result"
    }
   ],
   "source": [
    "max_spread = data[0][-1]\n",
    "max_date = data[0][0]\n",
    "\n",
    "for row in data[1:]:\n",
    "    if row[-1] > max_spread:\n",
    "        # found a new high\n",
    "        max_spread = row[-1]\n",
    "        max_date = row[0]\n",
    "        \n",
    "max_date, max_spread"
   ]
  },
  {
   "cell_type": "markdown",
   "id": "trying-national",
   "metadata": {},
   "source": [
    "However, as you can see, the first approach is much easier for someone to *read* and *understand* what the code is doing."
   ]
  },
  {
   "cell_type": "markdown",
   "id": "changed-kuwait",
   "metadata": {},
   "source": [
    "#### Question 3"
   ]
  },
  {
   "cell_type": "markdown",
   "id": "infectious-compilation",
   "metadata": {},
   "source": [
    "You are given a list of lists containing two numbers that will need to be color coded later based on a trend determined by the following rules:\n",
    "1. If the first number of a row is higher than the second number of the previous row, append the string `up` to the row\n",
    "2. If the first number of a row is lower than the second number of the previous row, append the string `down` to the row\n",
    "3. Otherwise, append `same` to the row.\n",
    "\n",
    "Obviously you cannot apply these rules to the first row (there is no preceding row), so append an empty string for the first row.\n",
    "\n",
    "Basically think of this as a list of Open/Close values, and we want to assign the values `same`, `up`, or `down` based on how a row's Open value compares to the Close of the *previous* row."
   ]
  },
  {
   "cell_type": "markdown",
   "id": "progressive-startup",
   "metadata": {},
   "source": [
    "For example, given the following list:"
   ]
  },
  {
   "cell_type": "code",
   "execution_count": 8,
   "id": "eleven-garage",
   "metadata": {},
   "outputs": [],
   "source": [
    "data = [\n",
    "    [10, 20],\n",
    "    [20, 30],\n",
    "    [35, 50],\n",
    "    [45, 60]\n",
    "]"
   ]
  },
  {
   "cell_type": "markdown",
   "id": "demonstrated-coordinator",
   "metadata": {},
   "source": [
    "Then after your code finishes running, your `data` should look like this:\n",
    "\n",
    "```\n",
    "[\n",
    "    [10, 20, ''],\n",
    "    [20, 30, 'same'],\n",
    "    [35, 50, 'up'],\n",
    "    [45, 60, 'down']\n",
    "]\n",
    "```"
   ]
  },
  {
   "cell_type": "markdown",
   "id": "approximate-listening",
   "metadata": {},
   "source": [
    "##### Solution"
   ]
  },
  {
   "cell_type": "markdown",
   "id": "fiscal-router",
   "metadata": {},
   "source": [
    "We'll need to iterate through data and append a string to each row in data based on the stated rules."
   ]
  },
  {
   "cell_type": "markdown",
   "id": "younger-savannah",
   "metadata": {},
   "source": [
    "We'll also need to reference the \"previous\" row. To do this we can use the `enumerate()` function - let's just loop through the `data` first and see how we could do this:"
   ]
  },
  {
   "cell_type": "code",
   "execution_count": 9,
   "id": "jewish-emperor",
   "metadata": {},
   "outputs": [
    {
     "name": "stdout",
     "output_type": "stream",
     "text": [
      "0 no previous row\n",
      "1 [20, 30]\n",
      "2 [35, 50]\n",
      "3 [45, 60]\n"
     ]
    }
   ],
   "source": [
    "for idx, row in enumerate(data):\n",
    "    if idx == 0:\n",
    "        print(idx, 'no previous row')\n",
    "    else:\n",
    "        print(idx, row)"
   ]
  },
  {
   "cell_type": "markdown",
   "id": "french-criminal",
   "metadata": {},
   "source": [
    "We can also use unpacking to unpack the two numbers in the rows:"
   ]
  },
  {
   "cell_type": "code",
   "execution_count": 10,
   "id": "parental-partnership",
   "metadata": {},
   "outputs": [
    {
     "name": "stdout",
     "output_type": "stream",
     "text": [
      "0: no previous row\n",
      "1: open=20, close=30\n",
      "2: open=35, close=50\n",
      "3: open=45, close=60\n"
     ]
    }
   ],
   "source": [
    "for idx, (op, cl) in enumerate(data):\n",
    "    if idx == 0:\n",
    "        print(f'{idx}: no previous row')\n",
    "    else:\n",
    "        print(f'{idx}: open={op}, close={cl}')"
   ]
  },
  {
   "cell_type": "markdown",
   "id": "appreciated-mortgage",
   "metadata": {},
   "source": [
    "And we can also get the Open/Close values from the previous row (when there is one):"
   ]
  },
  {
   "cell_type": "code",
   "execution_count": 11,
   "id": "devoted-level",
   "metadata": {},
   "outputs": [
    {
     "name": "stdout",
     "output_type": "stream",
     "text": [
      "0: no previous row\n",
      "-----\n",
      "1: open=20, close=30\n",
      "0: open=10, close=20\n",
      "-----\n",
      "2: open=35, close=50\n",
      "1: open=20, close=30\n",
      "-----\n",
      "3: open=45, close=60\n",
      "2: open=35, close=50\n"
     ]
    }
   ],
   "source": [
    "for idx, (op, cl) in enumerate(data):\n",
    "    if idx == 0:\n",
    "        print(f'{idx}: no previous row')\n",
    "    else:\n",
    "        print('-----')\n",
    "        prev_op, prev_cl = data[idx-1]\n",
    "        print(f'{idx}: open={op}, close={cl}')\n",
    "        print(f'{idx-1}: open={prev_op}, close={prev_cl}')\n",
    "        "
   ]
  },
  {
   "cell_type": "markdown",
   "id": "verified-sheep",
   "metadata": {},
   "source": [
    "Now we can finally apply our rules to assign that string to each row:"
   ]
  },
  {
   "cell_type": "code",
   "execution_count": 12,
   "id": "eight-application",
   "metadata": {},
   "outputs": [
    {
     "data": {
      "text/plain": [
       "[[10, 20, ''], [20, 30, 'same'], [35, 50, 'up'], [45, 60, 'down']]"
      ]
     },
     "execution_count": 12,
     "metadata": {},
     "output_type": "execute_result"
    }
   ],
   "source": [
    "for idx, (op, cl) in enumerate(data):\n",
    "    if idx == 0:\n",
    "        data[idx].append('')\n",
    "    else:\n",
    "        # we have to watch out here, since we appended an extra element to the previous\n",
    "        # row in the previous iteration, we now actually have 3 values to unpack!\n",
    "        prev_op, prev_cl, trend = data[idx-1]\n",
    "        if op > prev_cl:\n",
    "            data[idx].append('up')\n",
    "        elif op < prev_cl:\n",
    "            data[idx].append('down')\n",
    "        else:\n",
    "            data[idx].append('same')\n",
    "\n",
    "data"
   ]
  }
 ],
 "metadata": {
  "kernelspec": {
   "display_name": "Python 3",
   "language": "python",
   "name": "python3"
  },
  "language_info": {
   "codemirror_mode": {
    "name": "ipython",
    "version": 3
   },
   "file_extension": ".py",
   "mimetype": "text/x-python",
   "name": "python",
   "nbconvert_exporter": "python",
   "pygments_lexer": "ipython3",
   "version": "3.9.1"
  }
 },
 "nbformat": 4,
 "nbformat_minor": 5
}
