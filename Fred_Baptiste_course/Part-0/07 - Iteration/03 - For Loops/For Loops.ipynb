{
 "cells": [
  {
   "cell_type": "markdown",
   "metadata": {},
   "source": [
    "### For Loops"
   ]
  },
  {
   "cell_type": "markdown",
   "metadata": {},
   "source": [
    "`for` loops are one of the iteration mechanisms available in Python."
   ]
  },
  {
   "cell_type": "markdown",
   "metadata": {},
   "source": [
    "A `for` loop iterates over an **iterable**.\n",
    "\n",
    "If you have a background in other programming languages such as Java, C#, etc you may find that the Python `for` loop is very different from the standard `for` loop in those languages. There is no counter of any kind, and the Python `for` loop is more like the *for each* loops in those languages."
   ]
  },
  {
   "cell_type": "markdown",
   "metadata": {},
   "source": [
    "So a `for` loop in Python is used to repeat the same block of (indented) code for each element of an iterable. At each iteration the particular element becomes available inside the code block."
   ]
  },
  {
   "cell_type": "markdown",
   "metadata": {},
   "source": [
    "For example, we can iterate over the element of a list this way:"
   ]
  },
  {
   "cell_type": "code",
   "execution_count": 1,
   "metadata": {},
   "outputs": [],
   "source": [
    "suits = ['Spades', 'Hearts', 'Diamonds', 'Clubs']"
   ]
  },
  {
   "cell_type": "code",
   "execution_count": 2,
   "metadata": {},
   "outputs": [],
   "source": [
    "for suit in suits:\n",
    "    abbrev = suit[0].upper()\n",
    "    print(f'{abbrev} = {suit}')"
   ]
  },
  {
   "cell_type": "markdown",
   "metadata": {},
   "source": [
    "Or we can just write it this way too:"
   ]
  },
  {
   "cell_type": "code",
   "execution_count": 3,
   "metadata": {},
   "outputs": [],
   "source": [
    "for suit in suits:\n",
    "    print(f'{suit[0].upper()} = {suit}')"
   ]
  },
  {
   "cell_type": "markdown",
   "metadata": {},
   "source": [
    "As you can see the loop block was repeated for each element of the list, and that element was available in the loop variable (`suit`)."
   ]
  },
  {
   "cell_type": "markdown",
   "metadata": {},
   "source": [
    "Any iterable object can be iterated over using a `for` loop."
   ]
  },
  {
   "cell_type": "markdown",
   "metadata": {},
   "source": [
    "For example, a string is an iterable:"
   ]
  },
  {
   "cell_type": "code",
   "execution_count": 4,
   "metadata": {},
   "outputs": [],
   "source": [
    "for c in 'python':\n",
    "    print(c.upper())"
   ]
  },
  {
   "cell_type": "markdown",
   "metadata": {},
   "source": [
    "As well as others we have seen (like tuples), and many more we will see in this course."
   ]
  },
  {
   "cell_type": "markdown",
   "metadata": {},
   "source": [
    "One thing to note is that the loop variable (like `suit` in the first example and `c` in the last example) remain available after the for loop terminates - they just contain the last value \"seen\" by the variable during the iteration:"
   ]
  },
  {
   "cell_type": "code",
   "execution_count": 5,
   "metadata": {},
   "outputs": [],
   "source": [
    "suit"
   ]
  },
  {
   "cell_type": "code",
   "execution_count": 6,
   "metadata": {},
   "outputs": [
    {
     "data": {
      "text/plain": [
       "'n'"
      ]
     },
     "execution_count": 6,
     "metadata": {},
     "output_type": "execute_result"
    }
   ],
   "source": [
    "c"
   ]
  },
  {
   "cell_type": "markdown",
   "metadata": {},
   "source": [
    "## Range Objects"
   ]
  },
  {
   "cell_type": "markdown",
   "metadata": {},
   "source": [
    "We recently looked at `range` objects. They can be created using the `range()` function."
   ]
  },
  {
   "cell_type": "markdown",
   "metadata": {},
   "source": [
    "Often, we want to run a loop a certain **number** of times, or just a sequence of integers."
   ]
  },
  {
   "cell_type": "markdown",
   "metadata": {},
   "source": [
    "In this case, we can use a `range` object to do just that - we will repeat the loop block as many times as there are elements in the `range` object, as well as get the integer from that iterable."
   ]
  },
  {
   "cell_type": "code",
   "execution_count": 7,
   "metadata": {},
   "outputs": [
    {
     "name": "stdout",
     "output_type": "stream",
     "text": [
      "2\n",
      "4\n",
      "6\n",
      "8\n",
      "10\n"
     ]
    }
   ],
   "source": [
    "for i in range(2, 11, 2):\n",
    "    print(i)"
   ]
  },
  {
   "cell_type": "markdown",
   "metadata": {},
   "source": [
    "The loop body (the code block that gets repeated), can contain any valid Python code - including another loop - called nested loops."
   ]
  },
  {
   "cell_type": "code",
   "execution_count": 8,
   "metadata": {},
   "outputs": [
    {
     "name": "stdout",
     "output_type": "stream",
     "text": [
      "i=0, j=0\n",
      "i=0, j=1\n",
      "i=0, j=2\n",
      "----------\n",
      "i=1, j=0\n",
      "i=1, j=1\n",
      "i=1, j=2\n",
      "----------\n",
      "i=2, j=0\n",
      "i=2, j=1\n",
      "i=2, j=2\n",
      "----------\n"
     ]
    }
   ],
   "source": [
    "for i in range(3):\n",
    "    for j in range(3):\n",
    "        print(f'i={i}, j={j}')\n",
    "    print('-' * 10)"
   ]
  },
  {
   "cell_type": "markdown",
   "metadata": {},
   "source": [
    "We can use nested loops to iterate through every element of a matrix for example."
   ]
  },
  {
   "cell_type": "code",
   "execution_count": 9,
   "metadata": {},
   "outputs": [],
   "source": [
    "m = [\n",
    "    [1, 2, 3],\n",
    "    [4, 5, 6],\n",
    "    [7, 8, 9]\n",
    "]"
   ]
  },
  {
   "cell_type": "markdown",
   "metadata": {},
   "source": [
    "In this case we can see that the matrix is a square 3x3 matrix (e.g. a list contain 3 elements (rows), each of which is a list containing 3 elements (the columns for that row).\n",
    "\n",
    "So we can write our for loop this way:"
   ]
  },
  {
   "cell_type": "code",
   "execution_count": 10,
   "metadata": {},
   "outputs": [
    {
     "name": "stdout",
     "output_type": "stream",
     "text": [
      "[0, 0] = 1\n",
      "[0, 1] = 2\n",
      "[0, 2] = 3\n",
      "[1, 0] = 4\n",
      "[1, 1] = 5\n",
      "[1, 2] = 6\n",
      "[2, 0] = 7\n",
      "[2, 1] = 8\n",
      "[2, 2] = 9\n"
     ]
    }
   ],
   "source": [
    "for row_idx in range(3):\n",
    "    for col_idx in range(3):\n",
    "        print(f'[{row_idx}, {col_idx}] = {m[row_idx][col_idx]}')"
   ]
  },
  {
   "cell_type": "markdown",
   "metadata": {},
   "source": [
    "Often we don't know the size of the matrix ahead of time, or the matrix may not be square, or may even be ragged (different rows have different lengths)."
   ]
  },
  {
   "cell_type": "markdown",
   "metadata": {},
   "source": [
    "In that case, we should use the `len()` function to determine the number of rows in the matrix, and again for each to determine the length of each row as we iterate through the rows:"
   ]
  },
  {
   "cell_type": "markdown",
   "metadata": {},
   "source": [
    "For example, the number of rows in `m` is:"
   ]
  },
  {
   "cell_type": "code",
   "execution_count": 11,
   "metadata": {},
   "outputs": [
    {
     "data": {
      "text/plain": [
       "3"
      ]
     },
     "execution_count": 11,
     "metadata": {},
     "output_type": "execute_result"
    }
   ],
   "source": [
    "len(m)"
   ]
  },
  {
   "cell_type": "markdown",
   "metadata": {},
   "source": [
    "And the length of the first row is:"
   ]
  },
  {
   "cell_type": "code",
   "execution_count": 12,
   "metadata": {},
   "outputs": [
    {
     "data": {
      "text/plain": [
       "3"
      ]
     },
     "execution_count": 12,
     "metadata": {},
     "output_type": "execute_result"
    }
   ],
   "source": [
    "len(m[0])"
   ]
  },
  {
   "cell_type": "markdown",
   "metadata": {},
   "source": [
    "the lenght of the second row is:"
   ]
  },
  {
   "cell_type": "code",
   "execution_count": 13,
   "metadata": {},
   "outputs": [
    {
     "data": {
      "text/plain": [
       "3"
      ]
     },
     "execution_count": 13,
     "metadata": {},
     "output_type": "execute_result"
    }
   ],
   "source": [
    "len(m[1])"
   ]
  },
  {
   "cell_type": "markdown",
   "metadata": {},
   "source": [
    "and so on."
   ]
  },
  {
   "cell_type": "markdown",
   "metadata": {},
   "source": [
    "So we could re-write our previous code to iterate through the elements of `m` as follows:"
   ]
  },
  {
   "cell_type": "code",
   "execution_count": 14,
   "metadata": {},
   "outputs": [
    {
     "name": "stdout",
     "output_type": "stream",
     "text": [
      "[0, 0] = 1\n",
      "[0, 1] = 2\n",
      "[0, 2] = 3\n",
      "[1, 0] = 4\n",
      "[1, 1] = 5\n",
      "[1, 2] = 6\n",
      "[2, 0] = 7\n",
      "[2, 1] = 8\n",
      "[2, 2] = 9\n"
     ]
    }
   ],
   "source": [
    "for row_idx in range(len(m)):\n",
    "    for col_idx in range(len(m[row_idx])):\n",
    "        print(f'[{row_idx}, {col_idx}] = {m[row_idx][col_idx]}')"
   ]
  },
  {
   "cell_type": "markdown",
   "metadata": {},
   "source": [
    "The advantage of this approach is that we can deal with any type of matrix, square, rectangular, or even ragged:"
   ]
  },
  {
   "cell_type": "code",
   "execution_count": 15,
   "metadata": {},
   "outputs": [],
   "source": [
    "m = [\n",
    "    [0, 1],\n",
    "    [2, 3, 4, 5, 6],\n",
    "    [7, 8, 9],\n",
    "    [10]\n",
    "]"
   ]
  },
  {
   "cell_type": "code",
   "execution_count": 16,
   "metadata": {},
   "outputs": [
    {
     "name": "stdout",
     "output_type": "stream",
     "text": [
      "[0, 0] = 0\n",
      "[0, 1] = 1\n",
      "[1, 0] = 2\n",
      "[1, 1] = 3\n",
      "[1, 2] = 4\n",
      "[1, 3] = 5\n",
      "[1, 4] = 6\n",
      "[2, 0] = 7\n",
      "[2, 1] = 8\n",
      "[2, 2] = 9\n",
      "[3, 0] = 10\n"
     ]
    }
   ],
   "source": [
    "for row_idx in range(len(m)):\n",
    "    for col_idx in range(len(m[row_idx])):\n",
    "        print(f'[{row_idx}, {col_idx}] = {m[row_idx][col_idx]}')"
   ]
  },
  {
   "cell_type": "markdown",
   "metadata": {},
   "source": [
    "Here we used a nested loop to iterate through a matrix. We could also use it to build an `n x n` identity matrix, for any `n`:"
   ]
  },
  {
   "cell_type": "code",
   "execution_count": 17,
   "metadata": {},
   "outputs": [],
   "source": [
    "n = 5 \n",
    "\n",
    "matrix = []  # start with just an empty list\n",
    "\n",
    "for row_idx in range(n):\n",
    "    row = []  # create an empty row\n",
    "    for col_idx in range(n):\n",
    "        # build up each item\n",
    "        # diagonal elements are 1, otherwise 0\n",
    "        # on the diagonal if row_index = col_index\n",
    "        if row_idx == col_idx:\n",
    "            row.append(1)\n",
    "        else:\n",
    "            row.append(0)\n",
    "    # done buiding row, so append it to the matrix\n",
    "    matrix.append(row)"
   ]
  },
  {
   "cell_type": "code",
   "execution_count": 18,
   "metadata": {},
   "outputs": [
    {
     "data": {
      "text/plain": [
       "[[1, 0, 0, 0, 0],\n",
       " [0, 1, 0, 0, 0],\n",
       " [0, 0, 1, 0, 0],\n",
       " [0, 0, 0, 1, 0],\n",
       " [0, 0, 0, 0, 1]]"
      ]
     },
     "execution_count": 18,
     "metadata": {},
     "output_type": "execute_result"
    }
   ],
   "source": [
    "matrix"
   ]
  },
  {
   "cell_type": "markdown",
   "metadata": {},
   "source": [
    "And of course this can work for any `n`:"
   ]
  },
  {
   "cell_type": "code",
   "execution_count": 19,
   "metadata": {},
   "outputs": [],
   "source": [
    "n = 10 \n",
    "\n",
    "matrix = []  # start with just an empty list\n",
    "\n",
    "for row_idx in range(n):\n",
    "    row = []  # create an empty row\n",
    "    for col_idx in range(n):\n",
    "        # build up each item\n",
    "        # diagonal elements are 1, otherwise 0\n",
    "        # on the diagonal if row_index = col_index\n",
    "        if row_idx == col_idx:\n",
    "            row.append(1)\n",
    "        else:\n",
    "            row.append(0)\n",
    "    # done buiding row, so append it to the matrix\n",
    "    matrix.append(row)"
   ]
  },
  {
   "cell_type": "code",
   "execution_count": 20,
   "metadata": {},
   "outputs": [
    {
     "data": {
      "text/plain": [
       "[[1, 0, 0, 0, 0, 0, 0, 0, 0, 0],\n",
       " [0, 1, 0, 0, 0, 0, 0, 0, 0, 0],\n",
       " [0, 0, 1, 0, 0, 0, 0, 0, 0, 0],\n",
       " [0, 0, 0, 1, 0, 0, 0, 0, 0, 0],\n",
       " [0, 0, 0, 0, 1, 0, 0, 0, 0, 0],\n",
       " [0, 0, 0, 0, 0, 1, 0, 0, 0, 0],\n",
       " [0, 0, 0, 0, 0, 0, 1, 0, 0, 0],\n",
       " [0, 0, 0, 0, 0, 0, 0, 1, 0, 0],\n",
       " [0, 0, 0, 0, 0, 0, 0, 0, 1, 0],\n",
       " [0, 0, 0, 0, 0, 0, 0, 0, 0, 1]]"
      ]
     },
     "execution_count": 20,
     "metadata": {},
     "output_type": "execute_result"
    }
   ],
   "source": [
    "matrix"
   ]
  },
  {
   "cell_type": "markdown",
   "metadata": {},
   "source": [
    "## The enumerate Function"
   ]
  },
  {
   "cell_type": "markdown",
   "metadata": {},
   "source": [
    "The `enumerate` function is a function that takes in an iterable as an argument, and returns an iterable of tuples, where the first element of the tuple is a sequential integer number starting at `0`."
   ]
  },
  {
   "cell_type": "code",
   "execution_count": 21,
   "metadata": {},
   "outputs": [
    {
     "data": {
      "text/plain": [
       "[(0, 10), (1, 20), (2, 30)]"
      ]
     },
     "execution_count": 21,
     "metadata": {},
     "output_type": "execute_result"
    }
   ],
   "source": [
    "data = [10, 20, 30]\n",
    "\n",
    "list(enumerate(data))"
   ]
  },
  {
   "cell_type": "markdown",
   "metadata": {},
   "source": [
    "So we can loop over `data` **and** get the corresponding index numbers this way:"
   ]
  },
  {
   "cell_type": "code",
   "execution_count": 22,
   "metadata": {},
   "outputs": [
    {
     "name": "stdout",
     "output_type": "stream",
     "text": [
      "(0, 10)\n",
      "(1, 20)\n",
      "(2, 30)\n"
     ]
    }
   ],
   "source": [
    "for t in enumerate(data):\n",
    "    print(t)"
   ]
  },
  {
   "cell_type": "markdown",
   "metadata": {},
   "source": [
    "But we can unpack the tuple `t` directly in our loop:"
   ]
  },
  {
   "cell_type": "code",
   "execution_count": 23,
   "metadata": {},
   "outputs": [
    {
     "name": "stdout",
     "output_type": "stream",
     "text": [
      "0: 10\n",
      "1: 20\n",
      "2: 30\n"
     ]
    }
   ],
   "source": [
    "for index, value in enumerate(data):\n",
    "    print(f'{index}: {value}')"
   ]
  },
  {
   "cell_type": "markdown",
   "metadata": {},
   "source": [
    "Let's look at one of our previous examples:"
   ]
  },
  {
   "cell_type": "code",
   "execution_count": 24,
   "metadata": {},
   "outputs": [
    {
     "name": "stdout",
     "output_type": "stream",
     "text": [
      "[0, 0] = 0\n",
      "[0, 1] = 1\n",
      "[1, 0] = 2\n",
      "[1, 1] = 3\n",
      "[1, 2] = 4\n",
      "[1, 3] = 5\n",
      "[1, 4] = 6\n",
      "[2, 0] = 7\n",
      "[2, 1] = 8\n",
      "[2, 2] = 9\n",
      "[3, 0] = 10\n"
     ]
    }
   ],
   "source": [
    "m = [\n",
    "    [0, 1],\n",
    "    [2, 3, 4, 5, 6],\n",
    "    [7, 8, 9],\n",
    "    [10]\n",
    "]\n",
    "\n",
    "for row_idx in range(len(m)):\n",
    "    for col_idx in range(len(m[row_idx])):\n",
    "        print(f'[{row_idx}, {col_idx}] = {m[row_idx][col_idx]}')"
   ]
  },
  {
   "cell_type": "markdown",
   "metadata": {},
   "source": [
    "Instead of using a range of integers to then pull elements by index, we can just iterate over the elements themselves:"
   ]
  },
  {
   "cell_type": "code",
   "execution_count": 25,
   "metadata": {},
   "outputs": [
    {
     "name": "stdout",
     "output_type": "stream",
     "text": [
      "0\n",
      "1\n",
      "2\n",
      "3\n",
      "4\n",
      "5\n",
      "6\n",
      "7\n",
      "8\n",
      "9\n",
      "10\n"
     ]
    }
   ],
   "source": [
    "for row in m:\n",
    "    for element in row:\n",
    "        print(element)"
   ]
  },
  {
   "cell_type": "markdown",
   "metadata": {},
   "source": [
    "Now we don't have the index numbers, but if all we're looking to do is iterate through the elements of the matrix, we're done. If we really want the index numbers too, we could do it using `enumerate`:"
   ]
  },
  {
   "cell_type": "code",
   "execution_count": 26,
   "metadata": {},
   "outputs": [
    {
     "name": "stdout",
     "output_type": "stream",
     "text": [
      "[0, 0] = 0\n",
      "[0, 1] = 1\n",
      "[1, 0] = 2\n",
      "[1, 1] = 3\n",
      "[1, 2] = 4\n",
      "[1, 3] = 5\n",
      "[1, 4] = 6\n",
      "[2, 0] = 7\n",
      "[2, 1] = 8\n",
      "[2, 2] = 9\n",
      "[3, 0] = 10\n"
     ]
    }
   ],
   "source": [
    "for row_idx, row in enumerate(m):\n",
    "    for col_idx, element in enumerate(row):\n",
    "        print(f'[{row_idx}, {col_idx}] = {element}')"
   ]
  },
  {
   "cell_type": "markdown",
   "metadata": {},
   "source": [
    "Let's look at another example."
   ]
  },
  {
   "cell_type": "markdown",
   "metadata": {},
   "source": [
    "Suppose we have a list (or any mutable sequence type really), and we want to replace \"missing\" (`None`) elements as we loop through it."
   ]
  },
  {
   "cell_type": "code",
   "execution_count": 27,
   "metadata": {},
   "outputs": [],
   "source": [
    "data = [10.5, 11.2, 9.8, None, 11.5, None]"
   ]
  },
  {
   "cell_type": "markdown",
   "metadata": {},
   "source": [
    "We want to replace the `None` values with the average of the values in the sequence."
   ]
  },
  {
   "cell_type": "markdown",
   "metadata": {},
   "source": [
    "Firts we have to calculate the average, which we can do by computing the sum of the not-`None` elements and dividing by the number of not-`None` elements. \n",
    "\n",
    "Let's do this first by using index based iteration:"
   ]
  },
  {
   "cell_type": "code",
   "execution_count": 28,
   "metadata": {},
   "outputs": [
    {
     "name": "stdout",
     "output_type": "stream",
     "text": [
      "10.75\n"
     ]
    }
   ],
   "source": [
    "count = 0\n",
    "total = 0\n",
    "for i in range(len(data)):  # note how I do not \"hard-code\" the range, but base it on len(data)\n",
    "    if data[i] is not None:\n",
    "        count = count + 1\n",
    "        total = total + data[i]\n",
    "average = total / count\n",
    "print(average)"
   ]
  },
  {
   "cell_type": "markdown",
   "metadata": {},
   "source": [
    "It's actually quite a bit more *readable* doing it this way:"
   ]
  },
  {
   "cell_type": "code",
   "execution_count": 29,
   "metadata": {},
   "outputs": [
    {
     "name": "stdout",
     "output_type": "stream",
     "text": [
      "10.75\n"
     ]
    }
   ],
   "source": [
    "count = 0\n",
    "total = 0\n",
    "for val in data:\n",
    "    if val is not None:\n",
    "        count += 1\n",
    "        total += val\n",
    "average = total/count\n",
    "print(average)"
   ]
  },
  {
   "cell_type": "markdown",
   "metadata": {},
   "source": [
    "As you can see, this code is slightly easier to read than the previous one that was peperred with `range`, `len` and `[i]` bits of code."
   ]
  },
  {
   "cell_type": "markdown",
   "metadata": {},
   "source": [
    "Now, what about replacing the `None` values in `data`."
   ]
  },
  {
   "cell_type": "markdown",
   "metadata": {},
   "source": [
    "We could do it using indexing - so let's do that first:"
   ]
  },
  {
   "cell_type": "code",
   "execution_count": 30,
   "metadata": {},
   "outputs": [
    {
     "name": "stdout",
     "output_type": "stream",
     "text": [
      "[10.5, 11.2, 9.8, 10.75, 11.5, 10.75]\n"
     ]
    }
   ],
   "source": [
    "data = [10.5, 11.2, 9.8, None, 11.5, None]\n",
    "for i in range(len(data)):\n",
    "    if data[i] is None:\n",
    "        data[i] = average\n",
    "print(data)"
   ]
  },
  {
   "cell_type": "markdown",
   "metadata": {},
   "source": [
    "Again, we have code with `range` and `len` - it's not terribly difficult to understand, but we could do it this way instead:"
   ]
  },
  {
   "cell_type": "code",
   "execution_count": 31,
   "metadata": {},
   "outputs": [
    {
     "name": "stdout",
     "output_type": "stream",
     "text": [
      "[10.5, 11.2, 9.8, 10.75, 11.5, 10.75]\n"
     ]
    }
   ],
   "source": [
    "data = [10.5, 11.2, 9.8, None, 11.5, None]\n",
    "for index, val in enumerate(data):\n",
    "    if val is None:\n",
    "        data[index] = average \n",
    "print(data)"
   ]
  },
  {
   "cell_type": "markdown",
   "metadata": {},
   "source": [
    "Putting it together:"
   ]
  },
  {
   "cell_type": "code",
   "execution_count": 32,
   "metadata": {},
   "outputs": [
    {
     "name": "stdout",
     "output_type": "stream",
     "text": [
      "[10.5, 11.2, 9.8, 10.75, 11.5, 10.75]\n"
     ]
    }
   ],
   "source": [
    "data = [10.5, 11.2, 9.8, None, 11.5, None]\n",
    "\n",
    "count = 0\n",
    "total = 0\n",
    "for i in range(len(data)):  # note how I do not \"hard-code\" the range, but base it on len(data)\n",
    "    if data[i] is not None:\n",
    "        count += 1\n",
    "        total += data[i]\n",
    "average = total / count\n",
    "    \n",
    "for i in range(len(data)):\n",
    "    if data[i] is None:\n",
    "        data[i] = average\n",
    "        \n",
    "print(data)"
   ]
  },
  {
   "cell_type": "markdown",
   "metadata": {},
   "source": [
    "And, alternatively:"
   ]
  },
  {
   "cell_type": "code",
   "execution_count": 33,
   "metadata": {},
   "outputs": [
    {
     "name": "stdout",
     "output_type": "stream",
     "text": [
      "[10.5, 11.2, 9.8, 10.75, 11.5, 10.75]\n"
     ]
    }
   ],
   "source": [
    "data = [10.5, 11.2, 9.8, None, 11.5, None]\n",
    "\n",
    "count = 0\n",
    "total = 0\n",
    "for val in data:\n",
    "    if val is not None:\n",
    "        count += 1\n",
    "        total += val\n",
    "average = total/count\n",
    "\n",
    "for i, val in enumerate(data):\n",
    "    if val is None:\n",
    "        data[i] = average   \n",
    "        \n",
    "print(data)"
   ]
  },
  {
   "cell_type": "markdown",
   "metadata": {},
   "source": [
    "Which one do you think is easier to \"read\" and understand?\n",
    "\n",
    "Personally, I prefer the second method - it is much more explicit: for example\n",
    "```\n",
    "for val in data\n",
    "```\n",
    "instead of\n",
    "```\n",
    "for i in range(len(data))\n",
    "```"
   ]
  },
  {
   "cell_type": "markdown",
   "metadata": {},
   "source": [
    "### Looking ahead..."
   ]
  },
  {
   "cell_type": "markdown",
   "metadata": {},
   "source": [
    "There are actually easier ways than this!"
   ]
  },
  {
   "cell_type": "markdown",
   "metadata": {},
   "source": [
    "Just to show you (I won't explain it now, but we'll cover the topics needed to understand this later in the course), we could also have done this:"
   ]
  },
  {
   "cell_type": "code",
   "execution_count": 34,
   "metadata": {},
   "outputs": [
    {
     "name": "stdout",
     "output_type": "stream",
     "text": [
      "[10.5, 11.2, 9.8, 10.75, 11.5, 10.75]\n"
     ]
    }
   ],
   "source": [
    "data = [10.5, 11.2, 9.8, None, 11.5, None]\n",
    "count = sum(1 for val in data if val is not None)\n",
    "total = sum(val for val in data if val is not None)\n",
    "average = total/count\n",
    "data = [val if val is not None else average for val in data]\n",
    "print(data)"
   ]
  },
  {
   "cell_type": "markdown",
   "metadata": {},
   "source": [
    "Of course, for averages (or means), there's an even simpler way, by using Python's `statistics` module - again we'll cover this in detail later:"
   ]
  },
  {
   "cell_type": "code",
   "execution_count": 35,
   "metadata": {},
   "outputs": [],
   "source": [
    "from statistics import fmean"
   ]
  },
  {
   "cell_type": "code",
   "execution_count": 36,
   "metadata": {},
   "outputs": [
    {
     "name": "stdout",
     "output_type": "stream",
     "text": [
      "[10.5, 11.2, 9.8, 10.75, 11.5, 10.75]\n"
     ]
    }
   ],
   "source": [
    "data = [10.5, 11.2, 9.8, None, 11.5, None]\n",
    "average = fmean(val for val in data if val is not None)\n",
    "data = [val if val is not None else average for val in data]\n",
    "print(data)"
   ]
  },
  {
   "cell_type": "markdown",
   "metadata": {},
   "source": [
    "Later we'll cover `pandas`, a very useful library that allows us to do things like this even more readily:"
   ]
  },
  {
   "cell_type": "code",
   "execution_count": 37,
   "metadata": {},
   "outputs": [],
   "source": [
    "import pandas as pd"
   ]
  },
  {
   "cell_type": "code",
   "execution_count": 38,
   "metadata": {},
   "outputs": [
    {
     "name": "stdout",
     "output_type": "stream",
     "text": [
      "[10.5, 11.2, 9.8, 10.75, 11.5, 10.75]\n"
     ]
    }
   ],
   "source": [
    "data = [10.5, 11.2, 9.8, None, 11.5, None]\n",
    "df = pd.DataFrame(data)\n",
    "df.fillna(df.mean(), inplace=True)\n",
    "data = df[0].tolist()\n",
    "print(data)"
   ]
  },
  {
   "cell_type": "code",
   "execution_count": null,
   "metadata": {},
   "outputs": [],
   "source": []
  }
 ],
 "metadata": {
  "kernelspec": {
   "display_name": "Python 3",
   "language": "python",
   "name": "python3"
  },
  "language_info": {
   "codemirror_mode": {
    "name": "ipython",
    "version": 3
   },
   "file_extension": ".py",
   "mimetype": "text/x-python",
   "name": "python",
   "nbconvert_exporter": "python",
   "pygments_lexer": "ipython3",
   "version": "3.9.1"
  }
 },
 "nbformat": 4,
 "nbformat_minor": 4
}
