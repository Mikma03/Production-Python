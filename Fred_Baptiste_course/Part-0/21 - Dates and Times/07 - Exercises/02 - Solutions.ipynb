{
 "cells": [
  {
   "cell_type": "markdown",
   "id": "latest-favor",
   "metadata": {},
   "source": [
    "### Solutions"
   ]
  },
  {
   "cell_type": "markdown",
   "id": "appointed-personal",
   "metadata": {},
   "source": [
    "#### Question 1"
   ]
  },
  {
   "cell_type": "markdown",
   "id": "nasty-mistress",
   "metadata": {},
   "source": [
    "Write a function that, given an epoch timestamp, returns a `datetime` object set to the beginning of that month (so midnight of the first day of the month)."
   ]
  },
  {
   "cell_type": "markdown",
   "id": "varied-fabric",
   "metadata": {},
   "source": [
    "For example, given the epoch time `12345678.9`, your function should return:\n",
    "```\n",
    "datetime.datetime(1970, 5, 1, 0, 0)\n",
    "```"
   ]
  },
  {
   "cell_type": "markdown",
   "id": "employed-dictionary",
   "metadata": {},
   "source": [
    "##### Solution"
   ]
  },
  {
   "cell_type": "markdown",
   "id": "exempt-pregnancy",
   "metadata": {},
   "source": [
    "First we'll need to import the `datetime` object:"
   ]
  },
  {
   "cell_type": "code",
   "execution_count": 1,
   "id": "lesser-freight",
   "metadata": {},
   "outputs": [],
   "source": [
    "from datetime import datetime"
   ]
  },
  {
   "cell_type": "markdown",
   "id": "korean-stroke",
   "metadata": {},
   "source": [
    "We can easily convert an epoch timestamp to a `datetime` object by using the `fromtimestamp` method."
   ]
  },
  {
   "cell_type": "code",
   "execution_count": 2,
   "id": "short-center",
   "metadata": {},
   "outputs": [],
   "source": [
    "dt = datetime.fromtimestamp(12345678.9)"
   ]
  },
  {
   "cell_type": "code",
   "execution_count": 3,
   "id": "graphic-drove",
   "metadata": {},
   "outputs": [
    {
     "data": {
      "text/plain": [
       "datetime.datetime(1970, 5, 23, 14, 21, 18, 900000)"
      ]
     },
     "execution_count": 3,
     "metadata": {},
     "output_type": "execute_result"
    }
   ],
   "source": [
    "dt"
   ]
  },
  {
   "cell_type": "markdown",
   "id": "flexible-bishop",
   "metadata": {},
   "source": [
    "Next, we could replace the day, hour, minutes, and seconds with `1` or `0` as needed, or we could create a new `datetime` object just picking up the year and month from this one:"
   ]
  },
  {
   "cell_type": "code",
   "execution_count": 4,
   "id": "liberal-eclipse",
   "metadata": {},
   "outputs": [
    {
     "data": {
      "text/plain": [
       "datetime.datetime(1970, 5, 1, 0, 0)"
      ]
     },
     "execution_count": 4,
     "metadata": {},
     "output_type": "execute_result"
    }
   ],
   "source": [
    "dt.replace(day=1, hour=0, minute=0, second=0, microsecond=0)"
   ]
  },
  {
   "cell_type": "markdown",
   "id": "thirty-destiny",
   "metadata": {},
   "source": [
    "or alternatively:"
   ]
  },
  {
   "cell_type": "code",
   "execution_count": 5,
   "id": "welcome-learning",
   "metadata": {},
   "outputs": [
    {
     "data": {
      "text/plain": [
       "datetime.datetime(1970, 5, 1, 0, 0)"
      ]
     },
     "execution_count": 5,
     "metadata": {},
     "output_type": "execute_result"
    }
   ],
   "source": [
    "datetime(year=dt.year, month=dt.month, day=1)"
   ]
  },
  {
   "cell_type": "markdown",
   "id": "serious-spyware",
   "metadata": {},
   "source": [
    "Let's package this up into a function:"
   ]
  },
  {
   "cell_type": "code",
   "execution_count": 6,
   "id": "sophisticated-recruitment",
   "metadata": {},
   "outputs": [],
   "source": [
    "def month_start(epoch):\n",
    "    dt = datetime.fromtimestamp(epoch)\n",
    "    return datetime(year=dt.year, month=dt.month, day=1)"
   ]
  },
  {
   "cell_type": "markdown",
   "id": "outer-timber",
   "metadata": {},
   "source": [
    "And let's call it:"
   ]
  },
  {
   "cell_type": "code",
   "execution_count": 7,
   "id": "starting-circulation",
   "metadata": {},
   "outputs": [
    {
     "data": {
      "text/plain": [
       "datetime.datetime(1970, 5, 1, 0, 0)"
      ]
     },
     "execution_count": 7,
     "metadata": {},
     "output_type": "execute_result"
    }
   ],
   "source": [
    "month_start(12345678)"
   ]
  },
  {
   "cell_type": "markdown",
   "id": "subtle-table",
   "metadata": {},
   "source": [
    "Let's test it out with the current (UTC) date as well:"
   ]
  },
  {
   "cell_type": "code",
   "execution_count": 8,
   "id": "ahead-chamber",
   "metadata": {},
   "outputs": [],
   "source": [
    "import time"
   ]
  },
  {
   "cell_type": "code",
   "execution_count": 9,
   "id": "presidential-lithuania",
   "metadata": {},
   "outputs": [
    {
     "data": {
      "text/plain": [
       "datetime.datetime(2021, 2, 1, 0, 0)"
      ]
     },
     "execution_count": 9,
     "metadata": {},
     "output_type": "execute_result"
    }
   ],
   "source": [
    "month_start(time.time())"
   ]
  },
  {
   "cell_type": "markdown",
   "id": "after-staff",
   "metadata": {},
   "source": [
    "#### Question 2"
   ]
  },
  {
   "cell_type": "markdown",
   "id": "existing-respect",
   "metadata": {},
   "source": [
    "Write a function that returns the difference in hours between two dates provided as Python standard ISO formatted strings, rounded to the nearest hour. For simplicity, assume that these dates do not contain fractional seconds."
   ]
  },
  {
   "cell_type": "markdown",
   "id": "daily-tonight",
   "metadata": {},
   "source": [
    "For example, given these two dates:\n",
    "```\n",
    "2001-01-01T13:50:23\n",
    "```\n",
    "\n",
    "and \n",
    "```\n",
    "2001-06-12T14:23:50\n",
    "```\n",
    "\n",
    "your result should be `3889` hours."
   ]
  },
  {
   "cell_type": "markdown",
   "id": "compressed-anthony",
   "metadata": {},
   "source": [
    "##### Solution"
   ]
  },
  {
   "cell_type": "markdown",
   "id": "extraordinary-bacon",
   "metadata": {},
   "source": [
    "Let's start with two dates:"
   ]
  },
  {
   "cell_type": "code",
   "execution_count": 10,
   "id": "atmospheric-middle",
   "metadata": {},
   "outputs": [],
   "source": [
    "dt1 = datetime.fromisoformat('2001-01-01T13:50:23')\n",
    "dt2 = datetime.fromisoformat('2001-06-12T14:23:50')"
   ]
  },
  {
   "cell_type": "markdown",
   "id": "recent-norfolk",
   "metadata": {},
   "source": [
    "To find the difference between the two objects:"
   ]
  },
  {
   "cell_type": "code",
   "execution_count": 11,
   "id": "willing-locator",
   "metadata": {},
   "outputs": [],
   "source": [
    "delta = dt2 - dt1"
   ]
  },
  {
   "cell_type": "code",
   "execution_count": 12,
   "id": "handmade-creek",
   "metadata": {},
   "outputs": [
    {
     "data": {
      "text/plain": [
       "datetime.timedelta(days=162, seconds=2007)"
      ]
     },
     "execution_count": 12,
     "metadata": {},
     "output_type": "execute_result"
    }
   ],
   "source": [
    "delta"
   ]
  },
  {
   "cell_type": "markdown",
   "id": "bound-development",
   "metadata": {},
   "source": [
    "We can also get the total delta in seconds:"
   ]
  },
  {
   "cell_type": "code",
   "execution_count": 13,
   "id": "premium-russell",
   "metadata": {},
   "outputs": [
    {
     "data": {
      "text/plain": [
       "13998807.0"
      ]
     },
     "execution_count": 13,
     "metadata": {},
     "output_type": "execute_result"
    }
   ],
   "source": [
    "delta.total_seconds()"
   ]
  },
  {
   "cell_type": "markdown",
   "id": "destroyed-insured",
   "metadata": {},
   "source": [
    "We want to round this to the closest hour."
   ]
  },
  {
   "cell_type": "markdown",
   "id": "appropriate-triangle",
   "metadata": {},
   "source": [
    "An hour is `60 * 60` seconds:"
   ]
  },
  {
   "cell_type": "code",
   "execution_count": 14,
   "id": "whole-hydrogen",
   "metadata": {},
   "outputs": [],
   "source": [
    "seconds_in_hour = 60 * 60"
   ]
  },
  {
   "cell_type": "markdown",
   "id": "potential-minnesota",
   "metadata": {},
   "source": [
    "So, we want to round to the closest multiple of `seconds_in_hour`."
   ]
  },
  {
   "cell_type": "markdown",
   "id": "noticed-royalty",
   "metadata": {},
   "source": [
    "There are probably many different approaches to this, here I'll explain how I thought about the problem."
   ]
  },
  {
   "cell_type": "markdown",
   "id": "included-madonna",
   "metadata": {},
   "source": [
    "First thing is we'll want to make the total number of seconds into an integer (we are assuming no fractional seconds)."
   ]
  },
  {
   "cell_type": "code",
   "execution_count": 15,
   "id": "rotary-packaging",
   "metadata": {},
   "outputs": [],
   "source": [
    "delta_seconds = int(delta.total_seconds())"
   ]
  },
  {
   "cell_type": "markdown",
   "id": "inner-edinburgh",
   "metadata": {},
   "source": [
    "Next, we'll calculate the number of whole hours in that:"
   ]
  },
  {
   "cell_type": "code",
   "execution_count": 16,
   "id": "valuable-frame",
   "metadata": {},
   "outputs": [
    {
     "data": {
      "text/plain": [
       "3888"
      ]
     },
     "execution_count": 16,
     "metadata": {},
     "output_type": "execute_result"
    }
   ],
   "source": [
    "complete_hours = delta_seconds // seconds_in_hour\n",
    "complete_hours"
   ]
  },
  {
   "cell_type": "markdown",
   "id": "sublime-bidder",
   "metadata": {},
   "source": [
    "And the remaining number of seconds is:"
   ]
  },
  {
   "cell_type": "code",
   "execution_count": 17,
   "id": "fifth-soviet",
   "metadata": {},
   "outputs": [
    {
     "data": {
      "text/plain": [
       "2007"
      ]
     },
     "execution_count": 17,
     "metadata": {},
     "output_type": "execute_result"
    }
   ],
   "source": [
    "remaining_seconds = delta_seconds % seconds_in_hour\n",
    "remaining_seconds"
   ]
  },
  {
   "cell_type": "markdown",
   "id": "balanced-waste",
   "metadata": {},
   "source": [
    "The number of (fractional) hours in these seconds is:"
   ]
  },
  {
   "cell_type": "code",
   "execution_count": 18,
   "id": "imposed-africa",
   "metadata": {},
   "outputs": [
    {
     "data": {
      "text/plain": [
       "0.5575"
      ]
     },
     "execution_count": 18,
     "metadata": {},
     "output_type": "execute_result"
    }
   ],
   "source": [
    "remaining_seconds / seconds_in_hour"
   ]
  },
  {
   "cell_type": "markdown",
   "id": "varying-wisdom",
   "metadata": {},
   "source": [
    "We can simply `round` this number to determine whether we are closer to `0` or `1` for the farctional hour:"
   ]
  },
  {
   "cell_type": "code",
   "execution_count": 19,
   "id": "alternate-grant",
   "metadata": {},
   "outputs": [
    {
     "data": {
      "text/plain": [
       "1"
      ]
     },
     "execution_count": 19,
     "metadata": {},
     "output_type": "execute_result"
    }
   ],
   "source": [
    "round(remaining_seconds / seconds_in_hour)"
   ]
  },
  {
   "cell_type": "markdown",
   "id": "closing-divorce",
   "metadata": {},
   "source": [
    "Let's package this up into a function:"
   ]
  },
  {
   "cell_type": "code",
   "execution_count": 20,
   "id": "recorded-jordan",
   "metadata": {},
   "outputs": [],
   "source": [
    "def num_hours(dt1, dt2):\n",
    "    seconds_in_hour = 60 * 60\n",
    "    dt1 = datetime.fromisoformat(dt1)\n",
    "    dt2 = datetime.fromisoformat(dt2)\n",
    "    delta_seconds = int((dt2 - dt1).total_seconds())\n",
    "    complete_hours = delta_seconds // seconds_in_hour\n",
    "    remaining_seconds = delta_seconds % seconds_in_hour\n",
    "    return complete_hours + round(remaining_seconds / seconds_in_hour)"
   ]
  },
  {
   "cell_type": "markdown",
   "id": "received-roman",
   "metadata": {},
   "source": [
    "And we can call this function with a few values:"
   ]
  },
  {
   "cell_type": "code",
   "execution_count": 21,
   "id": "imported-subsection",
   "metadata": {},
   "outputs": [
    {
     "data": {
      "text/plain": [
       "3889"
      ]
     },
     "execution_count": 21,
     "metadata": {},
     "output_type": "execute_result"
    }
   ],
   "source": [
    "num_hours('2001-01-01T13:50:23', '2001-06-12T14:23:50')"
   ]
  },
  {
   "cell_type": "code",
   "execution_count": 22,
   "id": "special-dynamics",
   "metadata": {},
   "outputs": [
    {
     "data": {
      "text/plain": [
       "1"
      ]
     },
     "execution_count": 22,
     "metadata": {},
     "output_type": "execute_result"
    }
   ],
   "source": [
    "num_hours('2001-01-01T00:00:00', '2001-01-01T01:00:00')"
   ]
  },
  {
   "cell_type": "code",
   "execution_count": 23,
   "id": "removable-hobby",
   "metadata": {},
   "outputs": [
    {
     "data": {
      "text/plain": [
       "26"
      ]
     },
     "execution_count": 23,
     "metadata": {},
     "output_type": "execute_result"
    }
   ],
   "source": [
    "num_hours('2001-01-01T00:00:00', '2001-01-02T01:50:00')"
   ]
  },
  {
   "cell_type": "markdown",
   "id": "serious-reward",
   "metadata": {},
   "source": [
    "### Question 3"
   ]
  },
  {
   "cell_type": "markdown",
   "id": "victorian-tongue",
   "metadata": {},
   "source": [
    "Write a function that can be used to consistently format `datetime` objects into strings with some default format, but allows the caller to override the default format."
   ]
  },
  {
   "cell_type": "markdown",
   "id": "suburban-surprise",
   "metadata": {},
   "source": [
    "For example, the default format could be `mm/dd/yyyy hh:mm:ss am/pm`, but your function allows itself to be called with some argument that can override that format."
   ]
  },
  {
   "cell_type": "markdown",
   "id": "substantial-technique",
   "metadata": {},
   "source": [
    "##### Solution"
   ]
  },
  {
   "cell_type": "markdown",
   "id": "completed-combat",
   "metadata": {},
   "source": [
    "Let's write the function definition first:"
   ]
  },
  {
   "cell_type": "code",
   "execution_count": 24,
   "id": "loose-ukraine",
   "metadata": {},
   "outputs": [],
   "source": [
    "def dt_to_string(dt, fmt='%m/%d/%y %I:%M:%S%p'):\n",
    "    pass"
   ]
  },
  {
   "cell_type": "markdown",
   "id": "adapted-dubai",
   "metadata": {},
   "source": [
    "Notice how I set the default format string in the parameter definition itself - this way if the function is called without that argument, then the default will be used."
   ]
  },
  {
   "cell_type": "markdown",
   "id": "exact-rating",
   "metadata": {},
   "source": [
    "For these types of parameters though, I prefer to force the function to specify that `fmt` argument as a keyword argument, so I can force that this way:"
   ]
  },
  {
   "cell_type": "code",
   "execution_count": 25,
   "id": "vietnamese-entrance",
   "metadata": {},
   "outputs": [],
   "source": [
    "def dt_to_string(dt, *, fmt='%m/%d/%y %I:%M:%S%p'):\n",
    "    pass"
   ]
  },
  {
   "cell_type": "markdown",
   "id": "surgical-nursing",
   "metadata": {},
   "source": [
    "Let's implement the function itself:"
   ]
  },
  {
   "cell_type": "code",
   "execution_count": 26,
   "id": "foster-religion",
   "metadata": {},
   "outputs": [],
   "source": [
    "def dt_to_string(dt,  *, fmt='%m/%d/%y %I:%M:%S%p'):\n",
    "    return dt.strftime(fmt)"
   ]
  },
  {
   "cell_type": "code",
   "execution_count": 27,
   "id": "billion-trunk",
   "metadata": {},
   "outputs": [
    {
     "data": {
      "text/plain": [
       "'02/01/20 01:34:05PM'"
      ]
     },
     "execution_count": 27,
     "metadata": {},
     "output_type": "execute_result"
    }
   ],
   "source": [
    "dt_to_string(datetime(2020, 2, 1, 13, 34, 5))"
   ]
  },
  {
   "cell_type": "markdown",
   "id": "pressed-flesh",
   "metadata": {},
   "source": [
    "But, we can always specify an alternate format if we want to:"
   ]
  },
  {
   "cell_type": "code",
   "execution_count": 28,
   "id": "quarterly-findings",
   "metadata": {},
   "outputs": [
    {
     "data": {
      "text/plain": [
       "'February 01, 2020'"
      ]
     },
     "execution_count": 28,
     "metadata": {},
     "output_type": "execute_result"
    }
   ],
   "source": [
    "dt_to_string(datetime(2020, 2, 1, 13, 34, 5), fmt='%B %d, %Y')"
   ]
  }
 ],
 "metadata": {
  "kernelspec": {
   "display_name": "Python 3",
   "language": "python",
   "name": "python3"
  },
  "language_info": {
   "codemirror_mode": {
    "name": "ipython",
    "version": 3
   },
   "file_extension": ".py",
   "mimetype": "text/x-python",
   "name": "python",
   "nbconvert_exporter": "python",
   "pygments_lexer": "ipython3",
   "version": "3.9.1"
  }
 },
 "nbformat": 4,
 "nbformat_minor": 5
}
