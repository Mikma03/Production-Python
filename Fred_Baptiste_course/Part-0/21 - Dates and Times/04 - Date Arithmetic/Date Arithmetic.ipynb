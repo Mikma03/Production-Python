{
 "cells": [
  {
   "cell_type": "markdown",
   "metadata": {},
   "source": [
    "### Date Arithmetic"
   ]
  },
  {
   "cell_type": "markdown",
   "metadata": {},
   "source": [
    "The `timedelta` object is used to represent the difference (or duration) between two dates/times."
   ]
  },
  {
   "cell_type": "markdown",
   "metadata": {},
   "source": [
    "If we have two dates/times, we can actually *subtract* one from the other - this will give us a `timedelta` object:"
   ]
  },
  {
   "cell_type": "code",
   "execution_count": 1,
   "metadata": {},
   "outputs": [],
   "source": [
    "import datetime"
   ]
  },
  {
   "cell_type": "code",
   "execution_count": 2,
   "metadata": {},
   "outputs": [],
   "source": [
    "dt1 = datetime.datetime.utcnow()\n",
    "dt2 = datetime.datetime.fromisoformat('2020-01-01T00:00:00')"
   ]
  },
  {
   "cell_type": "code",
   "execution_count": 3,
   "metadata": {},
   "outputs": [],
   "source": [
    "td = dt1 - dt2"
   ]
  },
  {
   "cell_type": "code",
   "execution_count": 4,
   "metadata": {},
   "outputs": [
    {
     "data": {
      "text/plain": [
       "datetime.timedelta(days=382, seconds=59750, microseconds=763941)"
      ]
     },
     "execution_count": 4,
     "metadata": {},
     "output_type": "execute_result"
    }
   ],
   "source": [
    "td"
   ]
  },
  {
   "cell_type": "markdown",
   "metadata": {},
   "source": [
    "As you can see the `timedelta` object has the elapsed time between those two datetimes with properties `days`, `seconds`, and `microseconds`."
   ]
  },
  {
   "cell_type": "markdown",
   "metadata": {},
   "source": [
    "We can easily calculate the total number of seconds for that duration:"
   ]
  },
  {
   "cell_type": "code",
   "execution_count": 5,
   "metadata": {},
   "outputs": [
    {
     "data": {
      "text/plain": [
       "33064550.763941"
      ]
     },
     "execution_count": 5,
     "metadata": {},
     "output_type": "execute_result"
    }
   ],
   "source": [
    "td.days * 24 * 60 * 60 + td.seconds + td.microseconds / (10 ** 6)"
   ]
  },
  {
   "cell_type": "markdown",
   "metadata": {},
   "source": [
    "but we can also just use the `total_seconds()` method:"
   ]
  },
  {
   "cell_type": "code",
   "execution_count": 6,
   "metadata": {},
   "outputs": [
    {
     "data": {
      "text/plain": [
       "33064550.763941"
      ]
     },
     "execution_count": 6,
     "metadata": {},
     "output_type": "execute_result"
    }
   ],
   "source": [
    "td.total_seconds()"
   ]
  },
  {
   "cell_type": "markdown",
   "metadata": {},
   "source": [
    "We can also construct our own `timedelta` object, and although we have arguments such as `days`, `seconds`, `microseconds`, we also can specify arguments for `minutes`, `hours`, `weeks` and `milliseconds` - those values will simply be all added together and converted to `days`, `seconds` and `microseconds` - these arguments are available just to make our life easier."
   ]
  },
  {
   "cell_type": "markdown",
   "metadata": {},
   "source": [
    "Let's create a `timedelta` object representing 2.5 hours:"
   ]
  },
  {
   "cell_type": "code",
   "execution_count": 7,
   "metadata": {},
   "outputs": [],
   "source": [
    "td = datetime.timedelta(hours=2, minutes=30)"
   ]
  },
  {
   "cell_type": "code",
   "execution_count": 8,
   "metadata": {},
   "outputs": [
    {
     "data": {
      "text/plain": [
       "datetime.timedelta(seconds=9000)"
      ]
     },
     "execution_count": 8,
     "metadata": {},
     "output_type": "execute_result"
    }
   ],
   "source": [
    "td"
   ]
  },
  {
   "cell_type": "markdown",
   "metadata": {},
   "source": [
    "The nice thing now is that we can easily add or subtract `timedelta` objects from a `datetime` object for example:"
   ]
  },
  {
   "cell_type": "code",
   "execution_count": 9,
   "metadata": {},
   "outputs": [],
   "source": [
    "dt = datetime.datetime.utcnow()"
   ]
  },
  {
   "cell_type": "code",
   "execution_count": 10,
   "metadata": {},
   "outputs": [
    {
     "data": {
      "text/plain": [
       "datetime.datetime(2021, 1, 17, 16, 35, 50, 801585)"
      ]
     },
     "execution_count": 10,
     "metadata": {},
     "output_type": "execute_result"
    }
   ],
   "source": [
    "dt"
   ]
  },
  {
   "cell_type": "code",
   "execution_count": 11,
   "metadata": {},
   "outputs": [
    {
     "data": {
      "text/plain": [
       "datetime.datetime(2021, 1, 17, 19, 5, 50, 801585)"
      ]
     },
     "execution_count": 11,
     "metadata": {},
     "output_type": "execute_result"
    }
   ],
   "source": [
    "dt + td"
   ]
  },
  {
   "cell_type": "markdown",
   "metadata": {},
   "source": [
    "So `timedelta` objects can be used to perform date arithmetic, or can be the result of date arithemtic."
   ]
  },
  {
   "cell_type": "markdown",
   "metadata": {},
   "source": [
    "As an example, let's come up with a way to determine the first and last day of the month of a specified date or datetime object."
   ]
  },
  {
   "cell_type": "code",
   "execution_count": 12,
   "metadata": {},
   "outputs": [],
   "source": [
    "s = \"2020-02-15T13:35:00\""
   ]
  },
  {
   "cell_type": "markdown",
   "metadata": {},
   "source": [
    "First we'll convert this to a `datetime` object:"
   ]
  },
  {
   "cell_type": "code",
   "execution_count": 13,
   "metadata": {},
   "outputs": [],
   "source": [
    "dt = datetime.datetime.fromisoformat(s)"
   ]
  },
  {
   "cell_type": "code",
   "execution_count": 14,
   "metadata": {},
   "outputs": [
    {
     "data": {
      "text/plain": [
       "datetime.datetime(2020, 2, 15, 13, 35)"
      ]
     },
     "execution_count": 14,
     "metadata": {},
     "output_type": "execute_result"
    }
   ],
   "source": [
    "dt"
   ]
  },
  {
   "cell_type": "markdown",
   "metadata": {},
   "source": [
    "Finding the first day of the month in that datetime is easy - it is always going to be the same year and month, but with day set to 1."
   ]
  },
  {
   "cell_type": "code",
   "execution_count": 15,
   "metadata": {},
   "outputs": [],
   "source": [
    "start = datetime.datetime(year=dt.year, month=dt.month, day=1)"
   ]
  },
  {
   "cell_type": "code",
   "execution_count": 16,
   "metadata": {},
   "outputs": [
    {
     "data": {
      "text/plain": [
       "datetime.datetime(2020, 2, 1, 0, 0)"
      ]
     },
     "execution_count": 16,
     "metadata": {},
     "output_type": "execute_result"
    }
   ],
   "source": [
    "start"
   ]
  },
  {
   "cell_type": "markdown",
   "metadata": {},
   "source": [
    "Now you'll notice that we have some time information attached to this, and that's because we created a `datetime` object - but in this case we're really not interested in the time, just the date."
   ]
  },
  {
   "cell_type": "markdown",
   "metadata": {},
   "source": [
    "So we probably should have created a `date` object, not a `datetime` object:"
   ]
  },
  {
   "cell_type": "code",
   "execution_count": 17,
   "metadata": {},
   "outputs": [],
   "source": [
    "start = datetime.date(year=dt.year, month=dt.month, day=1)"
   ]
  },
  {
   "cell_type": "code",
   "execution_count": 18,
   "metadata": {},
   "outputs": [
    {
     "data": {
      "text/plain": [
       "datetime.date(2020, 2, 1)"
      ]
     },
     "execution_count": 18,
     "metadata": {},
     "output_type": "execute_result"
    }
   ],
   "source": [
    "start"
   ]
  },
  {
   "cell_type": "markdown",
   "metadata": {},
   "source": [
    "What happens if we add a `timedelta` object to a `date` object?"
   ]
  },
  {
   "cell_type": "code",
   "execution_count": 19,
   "metadata": {},
   "outputs": [],
   "source": [
    "delta = datetime.timedelta(hours=50, minutes=30)"
   ]
  },
  {
   "cell_type": "code",
   "execution_count": 20,
   "metadata": {},
   "outputs": [
    {
     "data": {
      "text/plain": [
       "datetime.date(2020, 2, 3)"
      ]
     },
     "execution_count": 20,
     "metadata": {},
     "output_type": "execute_result"
    }
   ],
   "source": [
    "start + delta"
   ]
  },
  {
   "cell_type": "markdown",
   "metadata": {},
   "source": [
    "Ah, we just keep the `date` portion, but the year/month/day is calculated correctly - it basically just \"truncates\" the time information."
   ]
  },
  {
   "cell_type": "markdown",
   "metadata": {},
   "source": [
    "So how can we find the last day of the month?"
   ]
  },
  {
   "cell_type": "markdown",
   "metadata": {},
   "source": [
    "Unlike the first day of the month, we can't speficy a hardcoded number, some months have 30 days, 31 days, and February could be 28 or 29 (depending on leap year)."
   ]
  },
  {
   "cell_type": "markdown",
   "metadata": {},
   "source": [
    "One easy way to do this, is to start with the first day of the month, and add one month to it.\n",
    "\n",
    "This will give us the first day of the next month.\n",
    "\n",
    "Then we subtract one day to get the last day of the previous month."
   ]
  },
  {
   "cell_type": "markdown",
   "metadata": {},
   "source": [
    "Now, `timedelta` does not have a month argument - and that makes sense, since months can have different numbers of days in them."
   ]
  },
  {
   "cell_type": "markdown",
   "metadata": {},
   "source": [
    "So, we're going to have to do this the hard way - we're going to create a new date, advancing the month by 1, but keeping an eye out in case the `month` is `12`, in which case we need to advance the `year` by `1`, and set the new `month` to `1`:"
   ]
  },
  {
   "cell_type": "code",
   "execution_count": 21,
   "metadata": {},
   "outputs": [],
   "source": [
    "if start.month == 12:\n",
    "    new_year = start.year + 1\n",
    "    new_month = 1\n",
    "else:\n",
    "    new_year = start.year\n",
    "    new_month = start.month + 1"
   ]
  },
  {
   "cell_type": "code",
   "execution_count": 22,
   "metadata": {},
   "outputs": [
    {
     "data": {
      "text/plain": [
       "(datetime.date(2020, 2, 1), 2020, 3)"
      ]
     },
     "execution_count": 22,
     "metadata": {},
     "output_type": "execute_result"
    }
   ],
   "source": [
    "start, new_year, new_month"
   ]
  },
  {
   "cell_type": "markdown",
   "metadata": {},
   "source": [
    "Now we can start building up our `end` date:"
   ]
  },
  {
   "cell_type": "code",
   "execution_count": 23,
   "metadata": {},
   "outputs": [],
   "source": [
    "end = datetime.date(year=new_year, month=new_month, day=1)"
   ]
  },
  {
   "cell_type": "markdown",
   "metadata": {},
   "source": [
    "This is still not quite what we want, we actually need the previous day (so the last day of the previous month):"
   ]
  },
  {
   "cell_type": "code",
   "execution_count": 24,
   "metadata": {},
   "outputs": [],
   "source": [
    "end = end - datetime.timedelta(days=1)"
   ]
  },
  {
   "cell_type": "code",
   "execution_count": 25,
   "metadata": {},
   "outputs": [
    {
     "data": {
      "text/plain": [
       "datetime.date(2020, 2, 29)"
      ]
     },
     "execution_count": 25,
     "metadata": {},
     "output_type": "execute_result"
    }
   ],
   "source": [
    "end"
   ]
  },
  {
   "cell_type": "markdown",
   "metadata": {},
   "source": [
    "And there we have it. So now, let's package that up into a function that will return a tuple of `date` objects, for first and last day of the month specified by the input date/datetime."
   ]
  },
  {
   "cell_type": "code",
   "execution_count": 26,
   "metadata": {},
   "outputs": [],
   "source": [
    "def get_first_last(dt):\n",
    "    # note that dt can be either a date or a datetime - this function works either way\n",
    "    start = datetime.date(year=dt.year, month=dt.month, day=1)\n",
    "    \n",
    "    if start.month == 12:\n",
    "        new_year = start.year + 1\n",
    "        new_month = 1\n",
    "    else:\n",
    "        new_year = start.year\n",
    "        new_month = start.month + 1\n",
    "        \n",
    "    end = datetime.date(new_year, new_month, 1) + datetime.timedelta(days=-1)\n",
    "    \n",
    "    return start, end"
   ]
  },
  {
   "cell_type": "code",
   "execution_count": 27,
   "metadata": {},
   "outputs": [
    {
     "data": {
      "text/plain": [
       "'2020-02-15T13:35:00'"
      ]
     },
     "execution_count": 27,
     "metadata": {},
     "output_type": "execute_result"
    }
   ],
   "source": [
    "s"
   ]
  },
  {
   "cell_type": "code",
   "execution_count": 28,
   "metadata": {},
   "outputs": [
    {
     "data": {
      "text/plain": [
       "(datetime.date(2020, 2, 1), datetime.date(2020, 2, 29))"
      ]
     },
     "execution_count": 28,
     "metadata": {},
     "output_type": "execute_result"
    }
   ],
   "source": [
    "get_first_last(datetime.datetime.fromisoformat(s))"
   ]
  },
  {
   "cell_type": "markdown",
   "metadata": {},
   "source": [
    "We can test this out for a range of dates:"
   ]
  },
  {
   "cell_type": "code",
   "execution_count": 29,
   "metadata": {},
   "outputs": [
    {
     "name": "stdout",
     "output_type": "stream",
     "text": [
      "2020-01-15 2020-01-01 2020-01-31\n",
      "2020-02-15 2020-02-01 2020-02-29\n",
      "2020-03-15 2020-03-01 2020-03-31\n",
      "2020-04-15 2020-04-01 2020-04-30\n",
      "2020-05-15 2020-05-01 2020-05-31\n",
      "2020-06-15 2020-06-01 2020-06-30\n",
      "2020-07-15 2020-07-01 2020-07-31\n",
      "2020-08-15 2020-08-01 2020-08-31\n",
      "2020-09-15 2020-09-01 2020-09-30\n",
      "2020-10-15 2020-10-01 2020-10-31\n",
      "2020-11-15 2020-11-01 2020-11-30\n",
      "2020-12-15 2020-12-01 2020-12-31\n",
      "2021-01-15 2021-01-01 2021-01-31\n",
      "2021-02-15 2021-02-01 2021-02-28\n",
      "2021-03-15 2021-03-01 2021-03-31\n",
      "2021-04-15 2021-04-01 2021-04-30\n",
      "2021-05-15 2021-05-01 2021-05-31\n",
      "2021-06-15 2021-06-01 2021-06-30\n",
      "2021-07-15 2021-07-01 2021-07-31\n",
      "2021-08-15 2021-08-01 2021-08-31\n",
      "2021-09-15 2021-09-01 2021-09-30\n",
      "2021-10-15 2021-10-01 2021-10-31\n",
      "2021-11-15 2021-11-01 2021-11-30\n",
      "2021-12-15 2021-12-01 2021-12-31\n"
     ]
    }
   ],
   "source": [
    "for year in (2020, 2021):\n",
    "    for month in range(12):\n",
    "        dt = datetime.date(year=year, month=month+1, day=15)\n",
    "        print(dt, *get_first_last(dt))    "
   ]
  },
  {
   "cell_type": "markdown",
   "metadata": {},
   "source": [
    "Dates, times and datetimes can also be compared to each other, using `==`, `!=`, `<`, etc."
   ]
  },
  {
   "cell_type": "code",
   "execution_count": 30,
   "metadata": {},
   "outputs": [],
   "source": [
    "t1 = datetime.time(9, 30, 0)\n",
    "t2 = datetime.time(11, 0, 0)"
   ]
  },
  {
   "cell_type": "code",
   "execution_count": 31,
   "metadata": {},
   "outputs": [
    {
     "data": {
      "text/plain": [
       "True"
      ]
     },
     "execution_count": 31,
     "metadata": {},
     "output_type": "execute_result"
    }
   ],
   "source": [
    "t1 <= t2"
   ]
  },
  {
   "cell_type": "code",
   "execution_count": 32,
   "metadata": {},
   "outputs": [],
   "source": [
    "d1 = datetime.date(2020, 3, 8)\n",
    "d2 = datetime.date(2020, 5, 1)"
   ]
  },
  {
   "cell_type": "code",
   "execution_count": 33,
   "metadata": {},
   "outputs": [
    {
     "data": {
      "text/plain": [
       "True"
      ]
     },
     "execution_count": 33,
     "metadata": {},
     "output_type": "execute_result"
    }
   ],
   "source": [
    "d2 > d1"
   ]
  },
  {
   "cell_type": "code",
   "execution_count": 34,
   "metadata": {},
   "outputs": [],
   "source": [
    "dt1 = datetime.datetime(2020, 3, 8, 13, 30, 0)\n",
    "dt2 = datetime.datetime(2020, 3, 8, 13, 45, 0)"
   ]
  },
  {
   "cell_type": "code",
   "execution_count": 35,
   "metadata": {},
   "outputs": [
    {
     "data": {
      "text/plain": [
       "True"
      ]
     },
     "execution_count": 35,
     "metadata": {},
     "output_type": "execute_result"
    }
   ],
   "source": [
    "dt1 < dt2"
   ]
  },
  {
   "cell_type": "markdown",
   "metadata": {},
   "source": [
    "We have to be careful with comparing between the different types though - as we might expect, comparing a date without a time to a time without a date, or to a date with time, does not make much sense."
   ]
  },
  {
   "cell_type": "code",
   "execution_count": 36,
   "metadata": {},
   "outputs": [
    {
     "name": "stdout",
     "output_type": "stream",
     "text": [
      "'<' not supported between instances of 'datetime.time' and 'datetime.date'\n"
     ]
    }
   ],
   "source": [
    "try:\n",
    "    print(t1 < d1)\n",
    "except TypeError as ex:\n",
    "    print(ex)"
   ]
  },
  {
   "cell_type": "code",
   "execution_count": 37,
   "metadata": {},
   "outputs": [
    {
     "name": "stdout",
     "output_type": "stream",
     "text": [
      "can't compare datetime.datetime to datetime.date\n"
     ]
    }
   ],
   "source": [
    "try:\n",
    "    print(d1 < dt1)\n",
    "except TypeError as ex:\n",
    "    print(ex)"
   ]
  },
  {
   "cell_type": "markdown",
   "metadata": {},
   "source": [
    "When you perform comparisons, make sure you are using the same data types."
   ]
  }
 ],
 "metadata": {
  "kernelspec": {
   "display_name": "Python 3",
   "language": "python",
   "name": "python3"
  },
  "language_info": {
   "codemirror_mode": {
    "name": "ipython",
    "version": 3
   },
   "file_extension": ".py",
   "mimetype": "text/x-python",
   "name": "python",
   "nbconvert_exporter": "python",
   "pygments_lexer": "ipython3",
   "version": "3.9.1"
  }
 },
 "nbformat": 4,
 "nbformat_minor": 4
}
