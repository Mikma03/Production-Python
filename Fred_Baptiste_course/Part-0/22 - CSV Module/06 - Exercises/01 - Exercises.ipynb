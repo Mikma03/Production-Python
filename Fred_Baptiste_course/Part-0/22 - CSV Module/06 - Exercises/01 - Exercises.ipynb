{
 "cells": [
  {
   "cell_type": "markdown",
   "id": "sustainable-listening",
   "metadata": {},
   "source": [
    "### Exercises"
   ]
  },
  {
   "cell_type": "markdown",
   "id": "apparent-romance",
   "metadata": {},
   "source": [
    "#### Question 1"
   ]
  },
  {
   "cell_type": "markdown",
   "id": "engaged-audience",
   "metadata": {},
   "source": [
    "Alongside this note book, four CSV files are specified (one is in fact a TSV file)."
   ]
  },
  {
   "cell_type": "markdown",
   "id": "satisfactory-greensboro",
   "metadata": {},
   "source": [
    "For each file, load it using the CSV module, and find the smallest and largest numbers in the data."
   ]
  },
  {
   "cell_type": "markdown",
   "id": "electoral-pathology",
   "metadata": {},
   "source": [
    "All these files contain just lists of numbers - with the exception of a possible header row"
   ]
  },
  {
   "cell_type": "markdown",
   "id": "annoying-anime",
   "metadata": {},
   "source": [
    "#### Question 2"
   ]
  },
  {
   "cell_type": "markdown",
   "id": "wooden-hunter",
   "metadata": {},
   "source": [
    "Given this data structure consisting of a list of dictionaries, write a function that will write this data out to a file, where the column headers (in the first row) are based on the dictionary keys, and the values are flattened out to one row per dictionary (under the corresponding column header)."
   ]
  },
  {
   "cell_type": "markdown",
   "id": "minus-flower",
   "metadata": {},
   "source": [
    "Note that not all dictionaries contain all the same keys, nor are the keys necessarily in the same order when present."
   ]
  },
  {
   "cell_type": "markdown",
   "id": "adverse-sussex",
   "metadata": {},
   "source": [
    "For \"missing\" values, your function should just write an empty string."
   ]
  },
  {
   "cell_type": "markdown",
   "id": "pursuant-cheese",
   "metadata": {},
   "source": [
    "For example, given this `data`:"
   ]
  },
  {
   "cell_type": "code",
   "execution_count": 24,
   "id": "incorporate-marijuana",
   "metadata": {},
   "outputs": [],
   "source": [
    "data = [\n",
    "    {'a': '1_a', 'b': '1_b', 'c': '1_c'},\n",
    "    {'c': '2_c', 'd': '2_d'},\n",
    "    {'a': '3_a', 'c': '3_c', 'e': '3_e'}\n",
    "]"
   ]
  },
  {
   "cell_type": "raw",
   "id": "olive-alcohol",
   "metadata": {},
   "source": [
    "Your output file should look like this:"
   ]
  },
  {
   "cell_type": "markdown",
   "id": "immune-aside",
   "metadata": {},
   "source": [
    "```\n",
    "a,b,c,d,e\n",
    "1_a,1_b,1_c,,,\n",
    ",,2_c,2_d,\n",
    "3_a,,3_c,,3_e\n",
    "```"
   ]
  },
  {
   "cell_type": "markdown",
   "id": "atmospheric-engine",
   "metadata": {},
   "source": [
    "The order of the columns and rows is not important - as long as they match up with respective column headers."
   ]
  }
 ],
 "metadata": {
  "kernelspec": {
   "display_name": "Python 3",
   "language": "python",
   "name": "python3"
  },
  "language_info": {
   "codemirror_mode": {
    "name": "ipython",
    "version": 3
   },
   "file_extension": ".py",
   "mimetype": "text/x-python",
   "name": "python",
   "nbconvert_exporter": "python",
   "pygments_lexer": "ipython3",
   "version": "3.9.1"
  }
 },
 "nbformat": 4,
 "nbformat_minor": 5
}
