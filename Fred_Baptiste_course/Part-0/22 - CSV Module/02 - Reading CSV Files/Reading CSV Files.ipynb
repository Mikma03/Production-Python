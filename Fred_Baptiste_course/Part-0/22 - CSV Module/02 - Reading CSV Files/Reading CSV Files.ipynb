{
 "cells": [
  {
   "cell_type": "markdown",
   "metadata": {},
   "source": [
    "### Reading CSV Files"
   ]
  },
  {
   "cell_type": "markdown",
   "metadata": {},
   "source": [
    "https://docs.python.org/3/library/csv.html"
   ]
  },
  {
   "cell_type": "markdown",
   "metadata": {},
   "source": [
    "We often have to ingest data from CSV files."
   ]
  },
  {
   "cell_type": "markdown",
   "metadata": {},
   "source": [
    "CSV data is essentially a representation of tabular data - rows (records) and columns (fields)."
   ]
  },
  {
   "cell_type": "markdown",
   "metadata": {},
   "source": [
    "Earlier in this course, we saw how we could open a text file for reading, and use `split`, `srip` and a few other techniques to \"parse\" data from a file."
   ]
  },
  {
   "cell_type": "markdown",
   "metadata": {},
   "source": [
    "The problem is that the CSV format can get a little more complicated than the sample data we looked at. That data file was a valid CSV format, but there are variations that we need to account for."
   ]
  },
  {
   "cell_type": "markdown",
   "metadata": {},
   "source": [
    "Basically there is not a common standard for CSV formats."
   ]
  },
  {
   "cell_type": "markdown",
   "metadata": {},
   "source": [
    "In general there are a few things common to all CSV formats:\n",
    "\n",
    "1. the data is provided as a plain text file\n",
    "2. each row in the file is a single record\n",
    "3. fields are separated by some delimiter (usually a comma, but does not have to be)\n",
    "4. every record has the same sequence of fields"
   ]
  },
  {
   "cell_type": "markdown",
   "metadata": {},
   "source": [
    "In addition the following may apply:\n",
    "\n",
    "1. text fields may be delimited with some characters (usually single or double quotes), especially if they happen to contain the same character used as a field separator.\n",
    "2. the first row of the file may contain the field names"
   ]
  },
  {
   "cell_type": "markdown",
   "metadata": {},
   "source": [
    "As you can see though, the basic premise is that:\n",
    "1. each row is a record\n",
    "2. first record may contain the field names\n",
    "3. each row (ending with a `\\n` or `\\r\\n`) represents a single record\n",
    "4. fields can be separated by an arbitrary character or set of characters (but it is consistent for the entire file)\n",
    "5. text fields may themselves be delimited by some arbitrary delimiter (usually single or double quotes)"
   ]
  },
  {
   "cell_type": "markdown",
   "metadata": {},
   "source": [
    "Note that we din't actually have to specify `delimiter=','` and `quotechar='\"'` since those are the default settings."
   ]
  },
  {
   "cell_type": "markdown",
   "metadata": {},
   "source": [
    "You may have heard of tab separated files (TSV) - these are like CSV files, except that the field separator is a tab character (`\\t`) instead of a comma (`,`)."
   ]
  },
  {
   "cell_type": "markdown",
   "metadata": {},
   "source": [
    "Here is an example of a slightly more complex CSV format:"
   ]
  },
  {
   "cell_type": "markdown",
   "metadata": {},
   "source": [
    "```\n",
    "First Name,Last Name,DOB,Sketches\n",
    "John,Cleese,10/27/39,\"The Cheese Shop, Ministry of Silly Walks, It's the Arts\"\n",
    "Eric,Idle,3/29/43,\"The Cheese Shop, Nudge Nudge, \"\"Spam\"\"\"\n",
    "Peter,O'Toole,8/2/32,Lawrence of Arabia\n",
    "```"
   ]
  },
  {
   "cell_type": "markdown",
   "metadata": {},
   "source": [
    "Notice that text fields are sometimes surrounded by quotes, and sometimes not.\n",
    "\n",
    "These delimiters are needed because the text fields happenb to contain commas (`,`) which are alsu used as field separators.\n",
    "\n",
    "Then notice that the word `\"Spam\"` in row 3, uses doubled double quotes - that's because the text field itself requires double quote delimiters because it contains commas - so the standard approach to embedding double quotes inside a string delimited by double quotes is to double them up."
   ]
  },
  {
   "cell_type": "markdown",
   "metadata": {},
   "source": [
    "The same can be done in Python (although generally we just try to use different delimiters like single quotes if our string literal is going to contain double quotes, and vice versa - but that's not always possible, and we can do this by \"escaping\" the character:"
   ]
  },
  {
   "cell_type": "code",
   "execution_count": 1,
   "metadata": {},
   "outputs": [],
   "source": [
    "s = \"Doyle's first Holmes story was \\\"A Study in Scarlet\\\" published in 1887.\""
   ]
  },
  {
   "cell_type": "code",
   "execution_count": 2,
   "metadata": {},
   "outputs": [
    {
     "data": {
      "text/plain": [
       "'Doyle\\'s first Holmes story was \"A Study in Scarlet\" published in 1887.'"
      ]
     },
     "execution_count": 2,
     "metadata": {},
     "output_type": "execute_result"
    }
   ],
   "source": [
    "s"
   ]
  },
  {
   "cell_type": "markdown",
   "metadata": {},
   "source": [
    "This means that if we were to try and process such a CSV file ourselves it would be relatively difficult:"
   ]
  },
  {
   "cell_type": "code",
   "execution_count": 3,
   "metadata": {},
   "outputs": [
    {
     "name": "stdout",
     "output_type": "stream",
     "text": [
      "First Name,Last Name,DOB,Sketches\n",
      "\n",
      "John,Cleese,10/27/39,\"The Cheese Shop, Ministry of Silly Walks, It's the Arts\"\n",
      "\n",
      "Eric,Idle,3/29/43,\"The Cheese Shop, Nudge Nudge, \"\"Spam\"\"\"\n",
      "\n",
      "Peter,O'Toole,8/2/32,Lawrence of Arabia\n"
     ]
    }
   ],
   "source": [
    "with open('actors.csv') as f:\n",
    "    for row in f:\n",
    "        print(row)"
   ]
  },
  {
   "cell_type": "markdown",
   "metadata": {},
   "source": [
    "If we try our naive approach of splitting on commas, we would get this:"
   ]
  },
  {
   "cell_type": "code",
   "execution_count": 4,
   "metadata": {},
   "outputs": [
    {
     "name": "stdout",
     "output_type": "stream",
     "text": [
      "['First Name', 'Last Name', 'DOB', 'Sketches']\n",
      "['John', 'Cleese', '10/27/39', '\"The Cheese Shop', ' Ministry of Silly Walks', ' It\\'s the Arts\"']\n",
      "['Eric', 'Idle', '3/29/43', '\"The Cheese Shop', ' Nudge Nudge', ' \"\"Spam\"\"\"']\n",
      "['Peter', \"O'Toole\", '8/2/32', 'Lawrence of Arabia']\n"
     ]
    }
   ],
   "source": [
    "with open('actors.csv') as f:\n",
    "    for row in f:\n",
    "        row = row.strip()\n",
    "        fields = row.split(',')\n",
    "        print(fields)"
   ]
  },
  {
   "cell_type": "markdown",
   "metadata": {},
   "source": [
    "Fortunately, Python's standard library include a module for handling CSV files - and it is provides for a lot of different functionality. There are also 3rd party libraries that can do this, and provide even more functionality, such as Pandas, which we'll study towards the end of this course."
   ]
  },
  {
   "cell_type": "markdown",
   "metadata": {},
   "source": [
    "Let's import the `csv` module first:"
   ]
  },
  {
   "cell_type": "code",
   "execution_count": 5,
   "metadata": {},
   "outputs": [],
   "source": [
    "import csv"
   ]
  },
  {
   "cell_type": "markdown",
   "metadata": {},
   "source": [
    "The primary function to read a CSV file, is the `reader` function, that returns an **iterator** that can be used to iterate over the rows (records) one by one."
   ]
  },
  {
   "cell_type": "markdown",
   "metadata": {},
   "source": [
    "In general, we need to give this `reader`:\n",
    "- an open file to use\n",
    "- what `delimiter` is used for field separators \n",
    "- what character (`quotechar`) is used for delimiting text fields when necessary"
   ]
  },
  {
   "cell_type": "markdown",
   "metadata": {},
   "source": [
    "So, we could use it this way:"
   ]
  },
  {
   "cell_type": "code",
   "execution_count": 6,
   "metadata": {},
   "outputs": [
    {
     "name": "stdout",
     "output_type": "stream",
     "text": [
      "['First Name', 'Last Name', 'DOB', 'Sketches']\n",
      "['John', 'Cleese', '10/27/39', \"The Cheese Shop, Ministry of Silly Walks, It's the Arts\"]\n",
      "['Eric', 'Idle', '3/29/43', 'The Cheese Shop, Nudge Nudge, \"Spam\"']\n",
      "['Peter', \"O'Toole\", '8/2/32', 'Lawrence of Arabia']\n"
     ]
    }
   ],
   "source": [
    "with open('actors.csv') as f:\n",
    "    reader = csv.reader(f, delimiter=',', quotechar='\"')\n",
    "    for row in reader:\n",
    "        print(row)"
   ]
  },
  {
   "cell_type": "markdown",
   "metadata": {},
   "source": [
    "Now, wasn't that easy!"
   ]
  },
  {
   "cell_type": "markdown",
   "metadata": {},
   "source": [
    "There are actually a lot more parameters that `reader` supports, such as:\n",
    "- `skipinitialspace` (in case a space is added after the delimiter - if `True` (the default), it just ignores it)\n",
    "- `doublequote` and `escapechar` - can control how `quotechar` characters inside a field should themselves be quoted or escaped\n",
    "    - we'll come back to those in the context of writing CSV files"
   ]
  },
  {
   "cell_type": "markdown",
   "metadata": {},
   "source": [
    "Basically different variants of CSV files will require possibly different settings."
   ]
  }
 ],
 "metadata": {
  "kernelspec": {
   "display_name": "Python 3",
   "language": "python",
   "name": "python3"
  },
  "language_info": {
   "codemirror_mode": {
    "name": "ipython",
    "version": 3
   },
   "file_extension": ".py",
   "mimetype": "text/x-python",
   "name": "python",
   "nbconvert_exporter": "python",
   "pygments_lexer": "ipython3",
   "version": "3.9.1"
  }
 },
 "nbformat": 4,
 "nbformat_minor": 4
}
