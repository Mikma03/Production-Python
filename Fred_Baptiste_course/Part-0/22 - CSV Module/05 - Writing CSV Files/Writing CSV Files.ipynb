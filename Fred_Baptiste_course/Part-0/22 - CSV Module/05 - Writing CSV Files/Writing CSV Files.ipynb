{
 "cells": [
  {
   "cell_type": "markdown",
   "metadata": {},
   "source": [
    "### Writing CSV Files"
   ]
  },
  {
   "cell_type": "markdown",
   "metadata": {},
   "source": [
    "The csv module also offers functionality to write out CSV files. We just specify the dialect we want to use, and the `csv.writer` will take care of the rest."
   ]
  },
  {
   "cell_type": "markdown",
   "metadata": {},
   "source": [
    "For example, suppose we have this data in our Python application, and we want to write it out as a CSV file."
   ]
  },
  {
   "cell_type": "code",
   "execution_count": 1,
   "metadata": {},
   "outputs": [],
   "source": [
    "data = [\n",
    "    ['First Name', 'Last Name', 'DOB', 'Sketches'],\n",
    "    ['John', 'Cleese', '10/27/39', \"The Cheese Shop, Ministry of Silly Walks, It's the Arts\"],\n",
    "    ['Eric', 'Idle', '3/29/43', 'The Cheese Shop, Nudge Nudge, \"Spam\"'],\n",
    "    ['Peter', \"O'Toole\", '8/2/32', 'Lawrence of Arabia']\n",
    "]"
   ]
  },
  {
   "cell_type": "markdown",
   "metadata": {},
   "source": [
    "The `csv.write` function, similarly to the `csv.read` function expects the file we want to write out to as its first argument, then we can specify a dialect (default is `excel`), and/or specify specific CSV settings."
   ]
  },
  {
   "cell_type": "code",
   "execution_count": 2,
   "metadata": {},
   "outputs": [],
   "source": [
    "import csv"
   ]
  },
  {
   "cell_type": "code",
   "execution_count": 3,
   "metadata": {},
   "outputs": [],
   "source": [
    "with open('test.csv', 'w') as f:\n",
    "    writer = csv.writer(f)\n",
    "    for row in data:\n",
    "        writer.writerow(row)"
   ]
  },
  {
   "cell_type": "markdown",
   "metadata": {},
   "source": [
    "And let's see what we wrote out:"
   ]
  },
  {
   "cell_type": "code",
   "execution_count": 4,
   "metadata": {},
   "outputs": [
    {
     "name": "stdout",
     "output_type": "stream",
     "text": [
      "First Name,Last Name,DOB,Sketches\n",
      "John,Cleese,10/27/39,\"The Cheese Shop, Ministry of Silly Walks, It's the Arts\"\n",
      "Eric,Idle,3/29/43,\"The Cheese Shop, Nudge Nudge, \"\"Spam\"\"\"\n",
      "Peter,O'Toole,8/2/32,Lawrence of Arabia\n"
     ]
    }
   ],
   "source": [
    "with open('test.csv') as f:\n",
    "    for row in f:\n",
    "        print(row, end='')"
   ]
  },
  {
   "cell_type": "markdown",
   "metadata": {},
   "source": [
    "Of course, we can specify a different dialect if we wanted to, like that `pdv` dialect we defined earlier:"
   ]
  },
  {
   "cell_type": "code",
   "execution_count": 5,
   "metadata": {},
   "outputs": [],
   "source": [
    "csv.register_dialect(\n",
    "    'pdv', \n",
    "    delimiter='|', \n",
    "    quotechar = \"'\", \n",
    "    escapechar=\"\\\\\",\n",
    "    doublequote=False\n",
    ")"
   ]
  },
  {
   "cell_type": "code",
   "execution_count": 6,
   "metadata": {},
   "outputs": [],
   "source": [
    "with open('test.csv', 'w') as f:\n",
    "    writer = csv.writer(f, dialect='pdv')\n",
    "    for row in data:\n",
    "        writer.writerow(row)"
   ]
  },
  {
   "cell_type": "code",
   "execution_count": 7,
   "metadata": {},
   "outputs": [
    {
     "name": "stdout",
     "output_type": "stream",
     "text": [
      "First Name|Last Name|DOB|Sketches\n",
      "John|Cleese|10/27/39|The Cheese Shop, Ministry of Silly Walks, It\\'s the Arts\n",
      "Eric|Idle|3/29/43|The Cheese Shop, Nudge Nudge, \"Spam\"\n",
      "Peter|O\\'Toole|8/2/32|Lawrence of Arabia\n"
     ]
    }
   ],
   "source": [
    "with open('test.csv') as f:\n",
    "    for row in f:\n",
    "        print(row, end='')"
   ]
  },
  {
   "cell_type": "markdown",
   "metadata": {},
   "source": [
    "Of course, if you want to be as compatible as possible, stick with the `excel` dialect!"
   ]
  }
 ],
 "metadata": {
  "kernelspec": {
   "display_name": "Python 3",
   "language": "python",
   "name": "python3"
  },
  "language_info": {
   "codemirror_mode": {
    "name": "ipython",
    "version": 3
   },
   "file_extension": ".py",
   "mimetype": "text/x-python",
   "name": "python",
   "nbconvert_exporter": "python",
   "pygments_lexer": "ipython3",
   "version": "3.9.1"
  }
 },
 "nbformat": 4,
 "nbformat_minor": 4
}
