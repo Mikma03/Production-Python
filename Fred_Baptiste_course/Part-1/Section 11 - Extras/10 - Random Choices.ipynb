{
 "cells": [
  {
   "cell_type": "markdown",
   "metadata": {},
   "source": [
    "### Random Choices"
   ]
  },
  {
   "cell_type": "markdown",
   "metadata": {},
   "source": [
    "How would you pick a random element from a list?\n",
    "\n",
    "You might be tempted to use the `random` library to pick a random index (integer) and use that random index to retrieve the element from the list (or more genrally sequence).\n",
    "\n",
    "Something like this:"
   ]
  },
  {
   "cell_type": "code",
   "execution_count": 1,
   "metadata": {},
   "outputs": [],
   "source": [
    "import random"
   ]
  },
  {
   "cell_type": "markdown",
   "metadata": {},
   "source": [
    "I'm going to set a seed so we always generate the same random sequences:"
   ]
  },
  {
   "cell_type": "code",
   "execution_count": 2,
   "metadata": {},
   "outputs": [],
   "source": [
    "random.seed(0)"
   ]
  },
  {
   "cell_type": "code",
   "execution_count": 3,
   "metadata": {},
   "outputs": [],
   "source": [
    "l = [10, 20, 30, 40, 50, 60]"
   ]
  },
  {
   "cell_type": "code",
   "execution_count": 4,
   "metadata": {},
   "outputs": [],
   "source": [
    "random_index = random.randrange(len(l))"
   ]
  },
  {
   "cell_type": "code",
   "execution_count": 5,
   "metadata": {},
   "outputs": [
    {
     "data": {
      "text/plain": [
       "40"
      ]
     },
     "execution_count": 5,
     "metadata": {},
     "output_type": "execute_result"
    }
   ],
   "source": [
    "l[random_index]"
   ]
  },
  {
   "cell_type": "markdown",
   "metadata": {},
   "source": [
    "So to do this 10 times we would write:"
   ]
  },
  {
   "cell_type": "code",
   "execution_count": 6,
   "metadata": {},
   "outputs": [
    {
     "name": "stdout",
     "output_type": "stream",
     "text": [
      "40\n",
      "40\n",
      "10\n",
      "30\n",
      "50\n",
      "40\n",
      "40\n",
      "30\n",
      "40\n",
      "30\n"
     ]
    }
   ],
   "source": [
    "random.seed(0)\n",
    "for i in range(10):\n",
    "    print(l[random.randrange(len(l))])"
   ]
  },
  {
   "cell_type": "markdown",
   "metadata": {},
   "source": [
    "Although this certainly works, it's not very Pythonic. Instead we can use the `choice` function in the `random` module that picks a random element from any given sequence. (Again I'm going to set a seed so we can generate the same random sequence)."
   ]
  },
  {
   "cell_type": "code",
   "execution_count": 7,
   "metadata": {},
   "outputs": [
    {
     "name": "stdout",
     "output_type": "stream",
     "text": [
      "40\n",
      "40\n",
      "10\n",
      "30\n",
      "50\n",
      "40\n",
      "40\n",
      "30\n",
      "40\n",
      "30\n"
     ]
    }
   ],
   "source": [
    "random.seed(0)\n",
    "for _ in range(10):\n",
    "    print(random.choice(l))"
   ]
  },
  {
   "cell_type": "markdown",
   "metadata": {},
   "source": [
    "Wasn't that much cleaner code?\n",
    "\n",
    "But still, there has to be a better way to generate 10 random choices without resorting to a \"common\" loop :-)"
   ]
  },
  {
   "cell_type": "markdown",
   "metadata": {
    "collapsed": true
   },
   "source": [
    "The `random` module also has a `choices` method which allows us to choose multiple random choices (as opposed to `choice` which only picks one)."
   ]
  },
  {
   "cell_type": "markdown",
   "metadata": {},
   "source": [
    "The thing is, `choices` has a few more advanced features built in.\n",
    "\n",
    "Let's start with the basics."
   ]
  },
  {
   "cell_type": "markdown",
   "metadata": {},
   "source": [
    "Suppose I want to choose n elements randomly from some sequence:"
   ]
  },
  {
   "cell_type": "code",
   "execution_count": 8,
   "metadata": {},
   "outputs": [],
   "source": [
    "list_1 = list(range(1000))"
   ]
  },
  {
   "cell_type": "code",
   "execution_count": 9,
   "metadata": {},
   "outputs": [
    {
     "data": {
      "text/plain": [
       "[583, 908, 504, 281, 755]"
      ]
     },
     "execution_count": 9,
     "metadata": {},
     "output_type": "execute_result"
    }
   ],
   "source": [
    "random.choices(list_1, k=5)"
   ]
  },
  {
   "cell_type": "code",
   "execution_count": 10,
   "metadata": {},
   "outputs": [
    {
     "name": "stdout",
     "output_type": "stream",
     "text": [
      "[618, 250, 909]\n",
      "[982, 810, 902]\n",
      "[310, 729, 898]\n",
      "[683, 472, 100]\n",
      "[434, 610, 913]\n"
     ]
    }
   ],
   "source": [
    "for _ in range(5):\n",
    "    print(random.choices(list_1, k=3))"
   ]
  },
  {
   "cell_type": "markdown",
   "metadata": {},
   "source": [
    "Now the thing about `choices` is that it does the selection *with replacement*. This means that the same item could show up more than once in the same call to `choices`. To see this, let's use a shorter list:"
   ]
  },
  {
   "cell_type": "code",
   "execution_count": 11,
   "metadata": {},
   "outputs": [],
   "source": [
    "list_2 = ['a', 'b', 'c']"
   ]
  },
  {
   "cell_type": "code",
   "execution_count": 12,
   "metadata": {},
   "outputs": [
    {
     "name": "stdout",
     "output_type": "stream",
     "text": [
      "['c', 'c']\n",
      "['b', 'a']\n",
      "['b', 'b']\n",
      "['c', 'a']\n",
      "['b', 'b']\n",
      "['c', 'b']\n",
      "['a', 'c']\n",
      "['b', 'a']\n",
      "['c', 'c']\n",
      "['c', 'c']\n"
     ]
    }
   ],
   "source": [
    "random.seed(0)\n",
    "for _ in range(10):\n",
    "    print(random.choices(list_2, k=2))"
   ]
  },
  {
   "cell_type": "markdown",
   "metadata": {},
   "source": [
    "As you can see we have some results that contain the same element twice.\n",
    "\n",
    "What this means, is that we can make the sample size *larger* than the population:"
   ]
  },
  {
   "cell_type": "code",
   "execution_count": 13,
   "metadata": {},
   "outputs": [
    {
     "data": {
      "text/plain": [
       "['a', 'b', 'c']"
      ]
     },
     "execution_count": 13,
     "metadata": {},
     "output_type": "execute_result"
    }
   ],
   "source": [
    "list_2"
   ]
  },
  {
   "cell_type": "code",
   "execution_count": 14,
   "metadata": {},
   "outputs": [
    {
     "name": "stdout",
     "output_type": "stream",
     "text": [
      "['a', 'c', 'c', 'c', 'b']\n",
      "['a', 'b', 'b', 'c', 'c']\n",
      "['b', 'c', 'a', 'c', 'b']\n",
      "['a', 'c', 'b', 'c', 'c']\n",
      "['a', 'b', 'c', 'a', 'a']\n",
      "['c', 'a', 'b', 'a', 'c']\n",
      "['c', 'b', 'a', 'a', 'b']\n",
      "['c', 'a', 'b', 'c', 'b']\n",
      "['c', 'b', 'c', 'b', 'b']\n",
      "['b', 'b', 'b', 'b', 'a']\n"
     ]
    }
   ],
   "source": [
    "for _ in range(10):\n",
    "    print(random.choices(list_2, k=5))"
   ]
  },
  {
   "cell_type": "markdown",
   "metadata": {},
   "source": [
    "In addition, we can also specify a weight for each item in the population. This essentially allows us to have certain items be picked more often than others. The weight list must be the same length as the population."
   ]
  },
  {
   "cell_type": "code",
   "execution_count": 15,
   "metadata": {},
   "outputs": [],
   "source": [
    "weights_2 = [10, 1, 1]"
   ]
  },
  {
   "cell_type": "code",
   "execution_count": 16,
   "metadata": {},
   "outputs": [
    {
     "name": "stdout",
     "output_type": "stream",
     "text": [
      "['a', 'a', 'a', 'a', 'a']\n",
      "['a', 'a', 'b', 'c', 'b']\n",
      "['b', 'c', 'a', 'a', 'a']\n",
      "['a', 'a', 'b', 'b', 'a']\n",
      "['c', 'a', 'a', 'a', 'c']\n",
      "['c', 'a', 'a', 'a', 'a']\n",
      "['a', 'b', 'a', 'a', 'a']\n",
      "['a', 'a', 'a', 'a', 'a']\n",
      "['a', 'a', 'a', 'a', 'b']\n",
      "['a', 'a', 'a', 'a', 'a']\n"
     ]
    }
   ],
   "source": [
    "for _ in range(10):\n",
    "    print(random.choices(list_2, k=5, weights=weights_2))"
   ]
  },
  {
   "cell_type": "markdown",
   "metadata": {},
   "source": [
    "As you can see, we see a whole lot more of `a` than the other characters."
   ]
  },
  {
   "cell_type": "markdown",
   "metadata": {},
   "source": [
    "We can skew the results even more, simply by increasing the weight for `a`:"
   ]
  },
  {
   "cell_type": "code",
   "execution_count": 17,
   "metadata": {},
   "outputs": [],
   "source": [
    "weights_2 = [100, 1, 1]"
   ]
  },
  {
   "cell_type": "code",
   "execution_count": 18,
   "metadata": {},
   "outputs": [
    {
     "name": "stdout",
     "output_type": "stream",
     "text": [
      "['a', 'a', 'a', 'b', 'a']\n",
      "['a', 'a', 'a', 'a', 'a']\n",
      "['a', 'a', 'a', 'a', 'a']\n",
      "['a', 'a', 'a', 'a', 'a']\n",
      "['a', 'a', 'a', 'b', 'a']\n",
      "['a', 'a', 'a', 'a', 'a']\n",
      "['a', 'a', 'a', 'a', 'a']\n",
      "['a', 'a', 'a', 'a', 'a']\n",
      "['a', 'a', 'a', 'a', 'a']\n",
      "['a', 'a', 'a', 'a', 'a']\n"
     ]
    }
   ],
   "source": [
    "for _ in range(10):\n",
    "    print(random.choices(list_2, k=5, weights=weights_2))"
   ]
  },
  {
   "cell_type": "markdown",
   "metadata": {},
   "source": [
    "Let's see if we can count the frequency of each element that is returned by `choices`.\n",
    "\n",
    "To do that we are going to use a comprehension. While we're at it we'll calculate also the relative frequency of each item."
   ]
  },
  {
   "cell_type": "code",
   "execution_count": 19,
   "metadata": {},
   "outputs": [],
   "source": [
    "from collections import namedtuple\n",
    "\n",
    "Freq = namedtuple('Freq', 'count freq')\n",
    "\n",
    "def freq_counts(list_):\n",
    "    total = len(list_)\n",
    "    return {k: Freq(list_.count(k), 100 * list_.count(k)/total) for k in set(list_)}"
   ]
  },
  {
   "cell_type": "code",
   "execution_count": 20,
   "metadata": {},
   "outputs": [
    {
     "data": {
      "text/plain": [
       "{'c': Freq(count=335, freq=33.5),\n",
       " 'b': Freq(count=334, freq=33.4),\n",
       " 'a': Freq(count=331, freq=33.1)}"
      ]
     },
     "execution_count": 20,
     "metadata": {},
     "output_type": "execute_result"
    }
   ],
   "source": [
    "freq_counts(random.choices(list_2, k=1000))"
   ]
  },
  {
   "cell_type": "markdown",
   "metadata": {},
   "source": [
    "As you can see, the distribution is pretty even. Now let's skew thing a little:"
   ]
  },
  {
   "cell_type": "code",
   "execution_count": 21,
   "metadata": {},
   "outputs": [
    {
     "data": {
      "text/plain": [
       "{'c': Freq(count=104, freq=10.4),\n",
       " 'b': Freq(count=86, freq=8.6),\n",
       " 'a': Freq(count=810, freq=81.0)}"
      ]
     },
     "execution_count": 21,
     "metadata": {},
     "output_type": "execute_result"
    }
   ],
   "source": [
    "random.seed(0)\n",
    "freq_counts(random.choices(list_2, k=1_000, weights=(8, 1, 1)))"
   ]
  },
  {
   "cell_type": "markdown",
   "metadata": {},
   "source": [
    "And the relative frequency of `a` is:"
   ]
  },
  {
   "cell_type": "markdown",
   "metadata": {},
   "source": [
    "Which matches what we would expect since we gave `a` a weight of `8` out of a total sum of weights of `10` - so 80%."
   ]
  },
  {
   "cell_type": "markdown",
   "metadata": {},
   "source": [
    "Of course, the more elements we pick, the closer this value should get to the theoretical:"
   ]
  },
  {
   "cell_type": "code",
   "execution_count": 22,
   "metadata": {},
   "outputs": [
    {
     "data": {
      "text/plain": [
       "{'c': Freq(count=942, freq=9.42),\n",
       " 'b': Freq(count=1062, freq=10.62),\n",
       " 'a': Freq(count=7996, freq=79.96)}"
      ]
     },
     "execution_count": 22,
     "metadata": {},
     "output_type": "execute_result"
    }
   ],
   "source": [
    "freq_counts(random.choices(list_2, k=10_000, weights=(8, 1, 1)))"
   ]
  },
  {
   "cell_type": "markdown",
   "metadata": {},
   "source": [
    "You can also specify the weights as cumulative weights:\n",
    "\n",
    "So instead of `8, 1, 1` as weights, we could provide cumulative weights as `8, 9, 10`:"
   ]
  },
  {
   "cell_type": "code",
   "execution_count": 23,
   "metadata": {},
   "outputs": [
    {
     "data": {
      "text/plain": [
       "{'c': Freq(count=104, freq=10.4),\n",
       " 'b': Freq(count=86, freq=8.6),\n",
       " 'a': Freq(count=810, freq=81.0)}"
      ]
     },
     "execution_count": 23,
     "metadata": {},
     "output_type": "execute_result"
    }
   ],
   "source": [
    "random.seed(0)\n",
    "freq_counts(random.choices(list_2, k=1_000, cum_weights = (8, 9, 10)))"
   ]
  },
  {
   "cell_type": "markdown",
   "metadata": {},
   "source": [
    "And we get the same thing."
   ]
  },
  {
   "cell_type": "markdown",
   "metadata": {},
   "source": [
    "As a bonus, how would we go about generating 50 evenly distributed random numbers between 0 and 100 (inclusive) say?"
   ]
  },
  {
   "cell_type": "markdown",
   "metadata": {},
   "source": [
    "We could certainly use the `randint` function and put that into a loop 50 times:"
   ]
  },
  {
   "cell_type": "code",
   "execution_count": 24,
   "metadata": {},
   "outputs": [
    {
     "name": "stdout",
     "output_type": "stream",
     "text": [
      "[85, 84, 99, 32, 95, 78, 24, 8, 70, 54, 35, 22, 67, 21, 8, 84, 81, 20, 74, 14, 64, 80, 69, 77, 49, 96, 55, 34, 39, 36, 1, 54, 99, 91, 35, 33, 68, 67, 70, 40, 43, 24, 90, 100, 55, 18, 0, 96, 65, 19]\n"
     ]
    }
   ],
   "source": [
    "l = []\n",
    "for _ in range(50):\n",
    "    l.append(random.randrange(101))\n",
    "print(l)"
   ]
  },
  {
   "cell_type": "markdown",
   "metadata": {},
   "source": [
    "But we could just use the `choices` method instead with a range(101):"
   ]
  },
  {
   "cell_type": "code",
   "execution_count": 25,
   "metadata": {},
   "outputs": [
    {
     "name": "stdout",
     "output_type": "stream",
     "text": [
      "[79, 70, 78, 38, 46, 3, 92, 64, 80, 76, 90, 36, 99, 16, 19, 35, 70, 1, 74, 57, 24, 18, 76, 42, 57, 23, 72, 87, 90, 81, 10, 19, 44, 6, 43, 39, 27, 44, 76, 35, 33, 31, 49, 77, 20, 40, 43, 64, 67, 70]\n"
     ]
    }
   ],
   "source": [
    "l = random.choices(range(101), k=50)\n",
    "print(l)"
   ]
  },
  {
   "cell_type": "markdown",
   "metadata": {},
   "source": [
    "Only caution here is if you are generating random things on multiple threads - in which case you don't know when what thread is going to run and in that case you very well may end up with different random results from the various threads from run to run - even if you use a specific seed."
   ]
  },
  {
   "cell_type": "markdown",
   "metadata": {},
   "source": [
    "Here's one practical application of being able to skew random selections.\n",
    "\n",
    "Let's say you want to know what's more efficient - guarding a divide by zero exception using a LBYL (look before you leap) approach, or EAFP (easier to ask for forgiveness than permission):"
   ]
  },
  {
   "cell_type": "code",
   "execution_count": 26,
   "metadata": {},
   "outputs": [],
   "source": [
    "from time import perf_counter"
   ]
  },
  {
   "cell_type": "code",
   "execution_count": 27,
   "metadata": {},
   "outputs": [],
   "source": [
    "denominators = random.choices([0, 1], k=1_000_000)"
   ]
  },
  {
   "cell_type": "code",
   "execution_count": 28,
   "metadata": {},
   "outputs": [
    {
     "name": "stdout",
     "output_type": "stream",
     "text": [
      "Avg elapsed time: 1.5108646599946952e-07\n"
     ]
    }
   ],
   "source": [
    "start = perf_counter()\n",
    "for denominator in denominators:\n",
    "    if denominator == 0:\n",
    "        continue\n",
    "    else:\n",
    "        10 / denominator\n",
    "end = perf_counter()\n",
    "print(f'Avg elapsed time: {(end-start)/len(denominators)}')   "
   ]
  },
  {
   "cell_type": "code",
   "execution_count": 29,
   "metadata": {},
   "outputs": [
    {
     "name": "stdout",
     "output_type": "stream",
     "text": [
      "Avg elapsed time: 3.9199999800075604e-07\n"
     ]
    }
   ],
   "source": [
    "start = perf_counter()\n",
    "for denominator in denominators:\n",
    "    try:\n",
    "        10 / denominator\n",
    "    except ZeroDivisionError:\n",
    "        continue\n",
    "\n",
    "end = perf_counter()\n",
    "print(f'Avg elapsed time: {(end-start)/len(denominators)}')"
   ]
  },
  {
   "cell_type": "markdown",
   "metadata": {},
   "source": [
    "As we can see it looks like the `try... except...` appeoach is slower.\n",
    "\n",
    "But in reality, we expect that a zero will only occur 10% of the time.\n",
    "\n",
    "So now we can test this using a skewed set of random denominators:"
   ]
  },
  {
   "cell_type": "code",
   "execution_count": 30,
   "metadata": {},
   "outputs": [],
   "source": [
    "denominators = random.choices([0, 1], k=1_000_000, weights=[1, 9])"
   ]
  },
  {
   "cell_type": "code",
   "execution_count": 31,
   "metadata": {},
   "outputs": [
    {
     "name": "stdout",
     "output_type": "stream",
     "text": [
      "Avg elapsed time: 1.9064371899912659e-07\n"
     ]
    }
   ],
   "source": [
    "start = perf_counter()\n",
    "for denominator in denominators:\n",
    "    if denominator == 0:\n",
    "        continue\n",
    "    else:\n",
    "        10 / denominator\n",
    "end = perf_counter()\n",
    "print(f'Avg elapsed time: {(end-start)/len(denominators)}')"
   ]
  },
  {
   "cell_type": "code",
   "execution_count": 32,
   "metadata": {},
   "outputs": [
    {
     "name": "stdout",
     "output_type": "stream",
     "text": [
      "Avg elapsed time: 1.7348390699953599e-07\n"
     ]
    }
   ],
   "source": [
    "start = perf_counter()\n",
    "for denominator in denominators:\n",
    "    try:\n",
    "        10 / denominator\n",
    "    except ZeroDivisionError:\n",
    "        continue\n",
    "        \n",
    "end = perf_counter()\n",
    "print(f'Avg elapsed time: {(end-start)/len(denominators)}')"
   ]
  },
  {
   "cell_type": "code",
   "execution_count": null,
   "metadata": {},
   "outputs": [],
   "source": []
  }
 ],
 "metadata": {
  "kernelspec": {
   "display_name": "Python 3",
   "language": "python",
   "name": "python3"
  },
  "language_info": {
   "codemirror_mode": {
    "name": "ipython",
    "version": 3
   },
   "file_extension": ".py",
   "mimetype": "text/x-python",
   "name": "python",
   "nbconvert_exporter": "python",
   "pygments_lexer": "ipython3",
   "version": "3.6.6"
  }
 },
 "nbformat": 4,
 "nbformat_minor": 2
}
