{
 "cells": [
  {
   "cell_type": "markdown",
   "metadata": {},
   "source": [
    "#### Timing code using timeit"
   ]
  },
  {
   "cell_type": "markdown",
   "metadata": {},
   "source": [
    "When we were looking at decorators we wrote a timing decorator. It could even take a number of repititions as a parameter. This can be handy to time functions directly in your code without affecting the result of the function. But it wrote the results out to the console, and sometimes we just want to access the timing data right inside our Python code.\n",
    "\n",
    "The `timeit` module in Python is an alternative that works well for some things. It is a little more complicated to use because it runs 'outside' of our local namespace, and you have to pass just small snippets of code to it (well you pass multi-line chunks of code, but it gets tedious), and you also have to make it aware of you global or local scope if that's needed by the code you want to time. One thing it does that we did not do was *temporarily disable* the garbage collector. Still, there are a lot of pitfalls to benchmarking, and this approach like ours, is good enough for most cases. YMMV.\n",
    "\n",
    "It has the advantage that it can also be run directly from the command line.\n",
    "\n",
    "Let's take a look at it."
   ]
  },
  {
   "cell_type": "code",
   "execution_count": 5,
   "metadata": {
    "collapsed": true
   },
   "outputs": [],
   "source": [
    "from timeit import timeit"
   ]
  },
  {
   "cell_type": "markdown",
   "metadata": {},
   "source": [
    "We look at the `timeit` function. There are a few others but this is the main one and the remaining are slight variations that you may find useful, so check out the Python docs for more info."
   ]
  },
  {
   "cell_type": "markdown",
   "metadata": {},
   "source": [
    "Basically the `timeit` function needs to know a few things:\n",
    "\n",
    "- the Python statement to run (the **stmt** argument)\n",
    "- how many times to run the same code (the **number** argument - watch out, the default is `1_000_000` times!)\n",
    "- any setup code (like imports) (the **setup** argument)\n",
    "- an optional scope that acts like a global scope to the statement (the **globals** argument)\n",
    "\n",
    "It will then execute the test `number` of times and return the **total** time elapsed (not an average per test)."
   ]
  },
  {
   "cell_type": "markdown",
   "metadata": {},
   "source": [
    "Let's start with a simple example, where we want to time how long it takes to run the `sqrt` function in the `math` module using two different ways of importing it:"
   ]
  },
  {
   "cell_type": "markdown",
   "metadata": {},
   "source": [
    "The first case we want to time is the following:"
   ]
  },
  {
   "cell_type": "code",
   "execution_count": 1,
   "metadata": {},
   "outputs": [
    {
     "data": {
      "text/plain": [
       "1.4142135623730951"
      ]
     },
     "execution_count": 1,
     "metadata": {},
     "output_type": "execute_result"
    }
   ],
   "source": [
    "import math\n",
    "math.sqrt(2)"
   ]
  },
  {
   "cell_type": "markdown",
   "metadata": {},
   "source": [
    "vs"
   ]
  },
  {
   "cell_type": "code",
   "execution_count": 2,
   "metadata": {},
   "outputs": [
    {
     "data": {
      "text/plain": [
       "1.4142135623730951"
      ]
     },
     "execution_count": 2,
     "metadata": {},
     "output_type": "execute_result"
    }
   ],
   "source": [
    "from math import sqrt\n",
    "sqrt(2)"
   ]
  },
  {
   "cell_type": "markdown",
   "metadata": {},
   "source": [
    "As you can see in the first example we have to specify `name.sqrt` every time we want to call the `sqrt` function. Is there a time difference between those two approaches?"
   ]
  },
  {
   "cell_type": "markdown",
   "metadata": {},
   "source": [
    "Let's timeit!"
   ]
  },
  {
   "cell_type": "code",
   "execution_count": 7,
   "metadata": {},
   "outputs": [
    {
     "ename": "NameError",
     "evalue": "name 'math' is not defined",
     "output_type": "error",
     "traceback": [
      "\u001b[1;31m---------------------------------------------------------------------------\u001b[0m",
      "\u001b[1;31mNameError\u001b[0m                                 Traceback (most recent call last)",
      "\u001b[1;32m<ipython-input-7-1d802ee02f1d>\u001b[0m in \u001b[0;36m<module>\u001b[1;34m()\u001b[0m\n\u001b[1;32m----> 1\u001b[1;33m \u001b[0mtimeit\u001b[0m\u001b[1;33m(\u001b[0m\u001b[0mstmt\u001b[0m\u001b[1;33m=\u001b[0m\u001b[1;34m'math.sqrt(2)'\u001b[0m\u001b[1;33m)\u001b[0m\u001b[1;33m\u001b[0m\u001b[0m\n\u001b[0m",
      "\u001b[1;32mD:\\Users\\fbapt\\Anaconda3\\envs\\deepdive\\lib\\timeit.py\u001b[0m in \u001b[0;36mtimeit\u001b[1;34m(stmt, setup, timer, number, globals)\u001b[0m\n\u001b[0;32m    231\u001b[0m            number=default_number, globals=None):\n\u001b[0;32m    232\u001b[0m     \u001b[1;34m\"\"\"Convenience function to create Timer object and call timeit method.\"\"\"\u001b[0m\u001b[1;33m\u001b[0m\u001b[0m\n\u001b[1;32m--> 233\u001b[1;33m     \u001b[1;32mreturn\u001b[0m \u001b[0mTimer\u001b[0m\u001b[1;33m(\u001b[0m\u001b[0mstmt\u001b[0m\u001b[1;33m,\u001b[0m \u001b[0msetup\u001b[0m\u001b[1;33m,\u001b[0m \u001b[0mtimer\u001b[0m\u001b[1;33m,\u001b[0m \u001b[0mglobals\u001b[0m\u001b[1;33m)\u001b[0m\u001b[1;33m.\u001b[0m\u001b[0mtimeit\u001b[0m\u001b[1;33m(\u001b[0m\u001b[0mnumber\u001b[0m\u001b[1;33m)\u001b[0m\u001b[1;33m\u001b[0m\u001b[0m\n\u001b[0m\u001b[0;32m    234\u001b[0m \u001b[1;33m\u001b[0m\u001b[0m\n\u001b[0;32m    235\u001b[0m def repeat(stmt=\"pass\", setup=\"pass\", timer=default_timer,\n",
      "\u001b[1;32mD:\\Users\\fbapt\\Anaconda3\\envs\\deepdive\\lib\\timeit.py\u001b[0m in \u001b[0;36mtimeit\u001b[1;34m(self, number)\u001b[0m\n\u001b[0;32m    176\u001b[0m         \u001b[0mgc\u001b[0m\u001b[1;33m.\u001b[0m\u001b[0mdisable\u001b[0m\u001b[1;33m(\u001b[0m\u001b[1;33m)\u001b[0m\u001b[1;33m\u001b[0m\u001b[0m\n\u001b[0;32m    177\u001b[0m         \u001b[1;32mtry\u001b[0m\u001b[1;33m:\u001b[0m\u001b[1;33m\u001b[0m\u001b[0m\n\u001b[1;32m--> 178\u001b[1;33m             \u001b[0mtiming\u001b[0m \u001b[1;33m=\u001b[0m \u001b[0mself\u001b[0m\u001b[1;33m.\u001b[0m\u001b[0minner\u001b[0m\u001b[1;33m(\u001b[0m\u001b[0mit\u001b[0m\u001b[1;33m,\u001b[0m \u001b[0mself\u001b[0m\u001b[1;33m.\u001b[0m\u001b[0mtimer\u001b[0m\u001b[1;33m)\u001b[0m\u001b[1;33m\u001b[0m\u001b[0m\n\u001b[0m\u001b[0;32m    179\u001b[0m         \u001b[1;32mfinally\u001b[0m\u001b[1;33m:\u001b[0m\u001b[1;33m\u001b[0m\u001b[0m\n\u001b[0;32m    180\u001b[0m             \u001b[1;32mif\u001b[0m \u001b[0mgcold\u001b[0m\u001b[1;33m:\u001b[0m\u001b[1;33m\u001b[0m\u001b[0m\n",
      "\u001b[1;32mD:\\Users\\fbapt\\Anaconda3\\envs\\deepdive\\lib\\timeit.py\u001b[0m in \u001b[0;36minner\u001b[1;34m(_it, _timer)\u001b[0m\n",
      "\u001b[1;31mNameError\u001b[0m: name 'math' is not defined"
     ]
    }
   ],
   "source": [
    "timeit(stmt='math.sqrt(2)')"
   ]
  },
  {
   "cell_type": "markdown",
   "metadata": {},
   "source": [
    "UhOh... we get an exception. Basically `timeit` has no idea what the `math` module is! Remember what I said that it runs inside its own name space?"
   ]
  },
  {
   "cell_type": "markdown",
   "metadata": {},
   "source": [
    "We can fix this in three ways:"
   ]
  },
  {
   "cell_type": "markdown",
   "metadata": {},
   "source": [
    "**First** way we can simply add the import to the statement we want to time."
   ]
  },
  {
   "cell_type": "code",
   "execution_count": 15,
   "metadata": {},
   "outputs": [
    {
     "data": {
      "text/plain": [
       "0.31814690955189917"
      ]
     },
     "execution_count": 15,
     "metadata": {},
     "output_type": "execute_result"
    }
   ],
   "source": [
    "timeit(stmt = 'import math\\nmath.sqrt(2)')"
   ]
  },
  {
   "cell_type": "markdown",
   "metadata": {},
   "source": [
    "This is bad for two reasons: readability obviously, but also the timing is now going to include timing the `import math` statement **every time** as well. That's not how our imports work in Python. We import once and then use that imported module over and over again. "
   ]
  },
  {
   "cell_type": "markdown",
   "metadata": {},
   "source": [
    "**Second** way is to use the `setup` argument - basically that allows us to setup the runtime environment of whatever code snippet we want to run. That setup code is only run once, not for every test:"
   ]
  },
  {
   "cell_type": "code",
   "execution_count": 16,
   "metadata": {},
   "outputs": [
    {
     "data": {
      "text/plain": [
       "0.15629067671147823"
      ]
     },
     "execution_count": 16,
     "metadata": {},
     "output_type": "execute_result"
    }
   ],
   "source": [
    "timeit(stmt = 'math.sqrt(2)', setup='import math')"
   ]
  },
  {
   "cell_type": "markdown",
   "metadata": {},
   "source": [
    "As you can see this ran faster than importing at every test."
   ]
  },
  {
   "cell_type": "markdown",
   "metadata": {},
   "source": [
    "**Third** way is to provide `timeit` with a global namespace that already contains the import - as we have in our case. Our `global` namespace already has the import:"
   ]
  },
  {
   "cell_type": "code",
   "execution_count": 17,
   "metadata": {},
   "outputs": [
    {
     "data": {
      "text/plain": [
       "0.16592102572019485"
      ]
     },
     "execution_count": 17,
     "metadata": {},
     "output_type": "execute_result"
    }
   ],
   "source": [
    "timeit(stmt='math.sqrt(2)', globals=globals())"
   ]
  },
  {
   "cell_type": "markdown",
   "metadata": {},
   "source": [
    "As you can see that was a little less efficient (but what's about `0.01` seconds over `1_000_000` repetitions between friends...)"
   ]
  },
  {
   "cell_type": "markdown",
   "metadata": {},
   "source": [
    "So let's go with the `setup` approach and now time the difference between using the two import styles:"
   ]
  },
  {
   "cell_type": "code",
   "execution_count": 18,
   "metadata": {},
   "outputs": [
    {
     "name": "stdout",
     "output_type": "stream",
     "text": [
      "Result 1 = 0.1496401825296516\n",
      "Result 2 = 0.10674273423342129\n"
     ]
    }
   ],
   "source": [
    "result_1 = timeit(stmt='math.sqrt(2)', setup='import math')\n",
    "result_2 = timeit(stmt='sqrt(2)', setup='from math import sqrt')\n",
    "print(f'Result 1 = {result_1}')\n",
    "print(f'Result 2 = {result_2}')"
   ]
  },
  {
   "cell_type": "markdown",
   "metadata": {},
   "source": [
    "As you can see the `from math import sqrt` was slightly more efficient. But again, what's a about `0.4` seconds over `1_000_000` iterations. \n",
    "\n",
    "If that's what you're optimizing before you even profile your application you're doing things wrong!\n",
    "\n",
    "Explicit is better than implicit.\n",
    "\n",
    "So when someone sees `math.sqrt` they know `sqrt` comes from the `math` module. If they see `sqrt` they have to look at your imports to double check which module `sqrt` came from.\n",
    "\n",
    "If the module name is long and you don't want to always type it, you can always alias it. Or use the `from` style of import. Whatever reads best since optimization is not really a concern at that point."
   ]
  },
  {
   "cell_type": "markdown",
   "metadata": {},
   "source": [
    "One last thing, what if the statement(s) you want to time require something from the scope in which it is running? How do you \"pass\" that variable to the `timeit` statement?\n",
    "\n",
    "That's where the `globals` argument comes in - we already saw it in action for the imports, but the `globals()` and `locals()` functions can reference the global and local name spaces."
   ]
  },
  {
   "cell_type": "code",
   "execution_count": 19,
   "metadata": {},
   "outputs": [
    {
     "data": {
      "text/plain": [
       "{'In': ['',\n",
       "  'import math\\nmath.sqrt(2)',\n",
       "  'from math import sqrt\\nsqrt(2)',\n",
       "  'get_ipython().magic(\"timeit (stmt=\\'math.sqrt(2)\\')\")',\n",
       "  'help(timeit)',\n",
       "  'from timeit import timeit',\n",
       "  'help(timeit)',\n",
       "  \"timeit(stmt='math.sqrt(2)')\",\n",
       "  \"timeit(stmt='math.sqrt(2)', globals=globals())\",\n",
       "  \"timeit(stmt = 'import math' 'math.sqrt(2)')\",\n",
       "  \"timeit(stmt = 'import math\\\\nmath.sqrt(2)')\",\n",
       "  \"timeit(stmt = 'math.sqrt(2)', setup='import math')\",\n",
       "  \"timeit(stmt='math.sqrt(2)', globals=globals())\",\n",
       "  \"timeit(stmt = 'math.sqrt(2)', setup='import math', number=2_000_000)\",\n",
       "  \"timeit(stmt = 'math.sqrt(2)', setup='import math')\",\n",
       "  \"timeit(stmt = 'import math\\\\nmath.sqrt(2)')\",\n",
       "  \"timeit(stmt = 'math.sqrt(2)', setup='import math')\",\n",
       "  \"timeit(stmt='math.sqrt(2)', globals=globals())\",\n",
       "  \"result_1 = timeit(stmt='math.sqrt(2)', setup='import math')\\nresult_2 = timeit(stmt='sqrt(2)', setup='from math import sqrt')\\nprint(f'Result 1 = {result_1}')\\nprint(f'Result 2 = {result_2}')\",\n",
       "  'globals()'],\n",
       " 'Out': {1: 1.4142135623730951,\n",
       "  2: 1.4142135623730951,\n",
       "  8: 0.1674586308108843,\n",
       "  10: 0.3324981612941258,\n",
       "  11: 0.15236431163322095,\n",
       "  12: 0.1631630346299744,\n",
       "  13: 0.3154899626299539,\n",
       "  14: 0.15821755920092073,\n",
       "  15: 0.31814690955189917,\n",
       "  16: 0.15629067671147823,\n",
       "  17: 0.16592102572019485},\n",
       " '_': 0.16592102572019485,\n",
       " '_1': 1.4142135623730951,\n",
       " '_10': 0.3324981612941258,\n",
       " '_11': 0.15236431163322095,\n",
       " '_12': 0.1631630346299744,\n",
       " '_13': 0.3154899626299539,\n",
       " '_14': 0.15821755920092073,\n",
       " '_15': 0.31814690955189917,\n",
       " '_16': 0.15629067671147823,\n",
       " '_17': 0.16592102572019485,\n",
       " '_2': 1.4142135623730951,\n",
       " '_8': 0.1674586308108843,\n",
       " '__': 0.15629067671147823,\n",
       " '___': 0.31814690955189917,\n",
       " '__builtin__': <module 'builtins' (built-in)>,\n",
       " '__builtins__': <module 'builtins' (built-in)>,\n",
       " '__doc__': 'Automatically created module for IPython interactive environment',\n",
       " '__loader__': None,\n",
       " '__name__': '__main__',\n",
       " '__package__': None,\n",
       " '__spec__': None,\n",
       " '_dh': ['d:\\\\fbapt\\\\Dropbox\\\\Python Deep Dive\\\\Section 09 - Extras\\\\10 - Timing things using timeit'],\n",
       " '_i': \"result_1 = timeit(stmt='math.sqrt(2)', setup='import math')\\nresult_2 = timeit(stmt='sqrt(2)', setup='from math import sqrt')\\nprint(f'Result 1 = {result_1}')\\nprint(f'Result 2 = {result_2}')\",\n",
       " '_i1': 'import math\\nmath.sqrt(2)',\n",
       " '_i10': \"timeit(stmt = 'import math\\\\nmath.sqrt(2)')\",\n",
       " '_i11': \"timeit(stmt = 'math.sqrt(2)', setup='import math')\",\n",
       " '_i12': \"timeit(stmt='math.sqrt(2)', globals=globals())\",\n",
       " '_i13': \"timeit(stmt = 'math.sqrt(2)', setup='import math', number=2_000_000)\",\n",
       " '_i14': \"timeit(stmt = 'math.sqrt(2)', setup='import math')\",\n",
       " '_i15': \"timeit(stmt = 'import math\\\\nmath.sqrt(2)')\",\n",
       " '_i16': \"timeit(stmt = 'math.sqrt(2)', setup='import math')\",\n",
       " '_i17': \"timeit(stmt='math.sqrt(2)', globals=globals())\",\n",
       " '_i18': \"result_1 = timeit(stmt='math.sqrt(2)', setup='import math')\\nresult_2 = timeit(stmt='sqrt(2)', setup='from math import sqrt')\\nprint(f'Result 1 = {result_1}')\\nprint(f'Result 2 = {result_2}')\",\n",
       " '_i19': 'globals()',\n",
       " '_i2': 'from math import sqrt\\nsqrt(2)',\n",
       " '_i3': \"timeit(stmt='math.sqrt(2)')\",\n",
       " '_i4': 'help(timeit)',\n",
       " '_i5': 'from timeit import timeit',\n",
       " '_i6': 'help(timeit)',\n",
       " '_i7': \"timeit(stmt='math.sqrt(2)')\",\n",
       " '_i8': \"timeit(stmt='math.sqrt(2)', globals=globals())\",\n",
       " '_i9': \"timeit(stmt = 'import math' 'math.sqrt(2)')\",\n",
       " '_ih': ['',\n",
       "  'import math\\nmath.sqrt(2)',\n",
       "  'from math import sqrt\\nsqrt(2)',\n",
       "  'get_ipython().magic(\"timeit (stmt=\\'math.sqrt(2)\\')\")',\n",
       "  'help(timeit)',\n",
       "  'from timeit import timeit',\n",
       "  'help(timeit)',\n",
       "  \"timeit(stmt='math.sqrt(2)')\",\n",
       "  \"timeit(stmt='math.sqrt(2)', globals=globals())\",\n",
       "  \"timeit(stmt = 'import math' 'math.sqrt(2)')\",\n",
       "  \"timeit(stmt = 'import math\\\\nmath.sqrt(2)')\",\n",
       "  \"timeit(stmt = 'math.sqrt(2)', setup='import math')\",\n",
       "  \"timeit(stmt='math.sqrt(2)', globals=globals())\",\n",
       "  \"timeit(stmt = 'math.sqrt(2)', setup='import math', number=2_000_000)\",\n",
       "  \"timeit(stmt = 'math.sqrt(2)', setup='import math')\",\n",
       "  \"timeit(stmt = 'import math\\\\nmath.sqrt(2)')\",\n",
       "  \"timeit(stmt = 'math.sqrt(2)', setup='import math')\",\n",
       "  \"timeit(stmt='math.sqrt(2)', globals=globals())\",\n",
       "  \"result_1 = timeit(stmt='math.sqrt(2)', setup='import math')\\nresult_2 = timeit(stmt='sqrt(2)', setup='from math import sqrt')\\nprint(f'Result 1 = {result_1}')\\nprint(f'Result 2 = {result_2}')\",\n",
       "  'globals()'],\n",
       " '_ii': \"timeit(stmt='math.sqrt(2)', globals=globals())\",\n",
       " '_iii': \"timeit(stmt = 'math.sqrt(2)', setup='import math')\",\n",
       " '_oh': {1: 1.4142135623730951,\n",
       "  2: 1.4142135623730951,\n",
       "  8: 0.1674586308108843,\n",
       "  10: 0.3324981612941258,\n",
       "  11: 0.15236431163322095,\n",
       "  12: 0.1631630346299744,\n",
       "  13: 0.3154899626299539,\n",
       "  14: 0.15821755920092073,\n",
       "  15: 0.31814690955189917,\n",
       "  16: 0.15629067671147823,\n",
       "  17: 0.16592102572019485},\n",
       " 'exit': <IPython.core.autocall.ZMQExitAutocall at 0x1e343645518>,\n",
       " 'get_ipython': <bound method InteractiveShell.get_ipython of <ipykernel.zmqshell.ZMQInteractiveShell object at 0x000001E3434E31D0>>,\n",
       " 'math': <module 'math' (built-in)>,\n",
       " 'quit': <IPython.core.autocall.ZMQExitAutocall at 0x1e343645518>,\n",
       " 'result_1': 0.1496401825296516,\n",
       " 'result_2': 0.10674273423342129,\n",
       " 'sqrt': <function math.sqrt>,\n",
       " 'timeit': <function timeit.timeit>}"
      ]
     },
     "execution_count": 19,
     "metadata": {},
     "output_type": "execute_result"
    }
   ],
   "source": [
    "globals()"
   ]
  },
  {
   "cell_type": "code",
   "execution_count": 20,
   "metadata": {},
   "outputs": [
    {
     "data": {
      "text/plain": [
       "{'In': ['',\n",
       "  'import math\\nmath.sqrt(2)',\n",
       "  'from math import sqrt\\nsqrt(2)',\n",
       "  'get_ipython().magic(\"timeit (stmt=\\'math.sqrt(2)\\')\")',\n",
       "  'help(timeit)',\n",
       "  'from timeit import timeit',\n",
       "  'help(timeit)',\n",
       "  \"timeit(stmt='math.sqrt(2)')\",\n",
       "  \"timeit(stmt='math.sqrt(2)', globals=globals())\",\n",
       "  \"timeit(stmt = 'import math' 'math.sqrt(2)')\",\n",
       "  \"timeit(stmt = 'import math\\\\nmath.sqrt(2)')\",\n",
       "  \"timeit(stmt = 'math.sqrt(2)', setup='import math')\",\n",
       "  \"timeit(stmt='math.sqrt(2)', globals=globals())\",\n",
       "  \"timeit(stmt = 'math.sqrt(2)', setup='import math', number=2_000_000)\",\n",
       "  \"timeit(stmt = 'math.sqrt(2)', setup='import math')\",\n",
       "  \"timeit(stmt = 'import math\\\\nmath.sqrt(2)')\",\n",
       "  \"timeit(stmt = 'math.sqrt(2)', setup='import math')\",\n",
       "  \"timeit(stmt='math.sqrt(2)', globals=globals())\",\n",
       "  \"result_1 = timeit(stmt='math.sqrt(2)', setup='import math')\\nresult_2 = timeit(stmt='sqrt(2)', setup='from math import sqrt')\\nprint(f'Result 1 = {result_1}')\\nprint(f'Result 2 = {result_2}')\",\n",
       "  'globals()',\n",
       "  'locals()'],\n",
       " 'Out': {1: 1.4142135623730951,\n",
       "  2: 1.4142135623730951,\n",
       "  8: 0.1674586308108843,\n",
       "  10: 0.3324981612941258,\n",
       "  11: 0.15236431163322095,\n",
       "  12: 0.1631630346299744,\n",
       "  13: 0.3154899626299539,\n",
       "  14: 0.15821755920092073,\n",
       "  15: 0.31814690955189917,\n",
       "  16: 0.15629067671147823,\n",
       "  17: 0.16592102572019485,\n",
       "  19: {...}},\n",
       " '_': {...},\n",
       " '_1': 1.4142135623730951,\n",
       " '_10': 0.3324981612941258,\n",
       " '_11': 0.15236431163322095,\n",
       " '_12': 0.1631630346299744,\n",
       " '_13': 0.3154899626299539,\n",
       " '_14': 0.15821755920092073,\n",
       " '_15': 0.31814690955189917,\n",
       " '_16': 0.15629067671147823,\n",
       " '_17': 0.16592102572019485,\n",
       " '_19': {...},\n",
       " '_2': 1.4142135623730951,\n",
       " '_8': 0.1674586308108843,\n",
       " '__': 0.16592102572019485,\n",
       " '___': 0.15629067671147823,\n",
       " '__builtin__': <module 'builtins' (built-in)>,\n",
       " '__builtins__': <module 'builtins' (built-in)>,\n",
       " '__doc__': 'Automatically created module for IPython interactive environment',\n",
       " '__loader__': None,\n",
       " '__name__': '__main__',\n",
       " '__package__': None,\n",
       " '__spec__': None,\n",
       " '_dh': ['d:\\\\fbapt\\\\Dropbox\\\\Python Deep Dive\\\\Section 09 - Extras\\\\10 - Timing things using timeit'],\n",
       " '_i': 'globals()',\n",
       " '_i1': 'import math\\nmath.sqrt(2)',\n",
       " '_i10': \"timeit(stmt = 'import math\\\\nmath.sqrt(2)')\",\n",
       " '_i11': \"timeit(stmt = 'math.sqrt(2)', setup='import math')\",\n",
       " '_i12': \"timeit(stmt='math.sqrt(2)', globals=globals())\",\n",
       " '_i13': \"timeit(stmt = 'math.sqrt(2)', setup='import math', number=2_000_000)\",\n",
       " '_i14': \"timeit(stmt = 'math.sqrt(2)', setup='import math')\",\n",
       " '_i15': \"timeit(stmt = 'import math\\\\nmath.sqrt(2)')\",\n",
       " '_i16': \"timeit(stmt = 'math.sqrt(2)', setup='import math')\",\n",
       " '_i17': \"timeit(stmt='math.sqrt(2)', globals=globals())\",\n",
       " '_i18': \"result_1 = timeit(stmt='math.sqrt(2)', setup='import math')\\nresult_2 = timeit(stmt='sqrt(2)', setup='from math import sqrt')\\nprint(f'Result 1 = {result_1}')\\nprint(f'Result 2 = {result_2}')\",\n",
       " '_i19': 'globals()',\n",
       " '_i2': 'from math import sqrt\\nsqrt(2)',\n",
       " '_i20': 'locals()',\n",
       " '_i3': \"timeit(stmt='math.sqrt(2)')\",\n",
       " '_i4': 'help(timeit)',\n",
       " '_i5': 'from timeit import timeit',\n",
       " '_i6': 'help(timeit)',\n",
       " '_i7': \"timeit(stmt='math.sqrt(2)')\",\n",
       " '_i8': \"timeit(stmt='math.sqrt(2)', globals=globals())\",\n",
       " '_i9': \"timeit(stmt = 'import math' 'math.sqrt(2)')\",\n",
       " '_ih': ['',\n",
       "  'import math\\nmath.sqrt(2)',\n",
       "  'from math import sqrt\\nsqrt(2)',\n",
       "  'get_ipython().magic(\"timeit (stmt=\\'math.sqrt(2)\\')\")',\n",
       "  'help(timeit)',\n",
       "  'from timeit import timeit',\n",
       "  'help(timeit)',\n",
       "  \"timeit(stmt='math.sqrt(2)')\",\n",
       "  \"timeit(stmt='math.sqrt(2)', globals=globals())\",\n",
       "  \"timeit(stmt = 'import math' 'math.sqrt(2)')\",\n",
       "  \"timeit(stmt = 'import math\\\\nmath.sqrt(2)')\",\n",
       "  \"timeit(stmt = 'math.sqrt(2)', setup='import math')\",\n",
       "  \"timeit(stmt='math.sqrt(2)', globals=globals())\",\n",
       "  \"timeit(stmt = 'math.sqrt(2)', setup='import math', number=2_000_000)\",\n",
       "  \"timeit(stmt = 'math.sqrt(2)', setup='import math')\",\n",
       "  \"timeit(stmt = 'import math\\\\nmath.sqrt(2)')\",\n",
       "  \"timeit(stmt = 'math.sqrt(2)', setup='import math')\",\n",
       "  \"timeit(stmt='math.sqrt(2)', globals=globals())\",\n",
       "  \"result_1 = timeit(stmt='math.sqrt(2)', setup='import math')\\nresult_2 = timeit(stmt='sqrt(2)', setup='from math import sqrt')\\nprint(f'Result 1 = {result_1}')\\nprint(f'Result 2 = {result_2}')\",\n",
       "  'globals()',\n",
       "  'locals()'],\n",
       " '_ii': \"result_1 = timeit(stmt='math.sqrt(2)', setup='import math')\\nresult_2 = timeit(stmt='sqrt(2)', setup='from math import sqrt')\\nprint(f'Result 1 = {result_1}')\\nprint(f'Result 2 = {result_2}')\",\n",
       " '_iii': \"timeit(stmt='math.sqrt(2)', globals=globals())\",\n",
       " '_oh': {1: 1.4142135623730951,\n",
       "  2: 1.4142135623730951,\n",
       "  8: 0.1674586308108843,\n",
       "  10: 0.3324981612941258,\n",
       "  11: 0.15236431163322095,\n",
       "  12: 0.1631630346299744,\n",
       "  13: 0.3154899626299539,\n",
       "  14: 0.15821755920092073,\n",
       "  15: 0.31814690955189917,\n",
       "  16: 0.15629067671147823,\n",
       "  17: 0.16592102572019485,\n",
       "  19: {...}},\n",
       " 'exit': <IPython.core.autocall.ZMQExitAutocall at 0x1e343645518>,\n",
       " 'get_ipython': <bound method InteractiveShell.get_ipython of <ipykernel.zmqshell.ZMQInteractiveShell object at 0x000001E3434E31D0>>,\n",
       " 'math': <module 'math' (built-in)>,\n",
       " 'quit': <IPython.core.autocall.ZMQExitAutocall at 0x1e343645518>,\n",
       " 'result_1': 0.1496401825296516,\n",
       " 'result_2': 0.10674273423342129,\n",
       " 'sqrt': <function math.sqrt>,\n",
       " 'timeit': <function timeit.timeit>}"
      ]
     },
     "execution_count": 20,
     "metadata": {},
     "output_type": "execute_result"
    }
   ],
   "source": [
    "locals()"
   ]
  },
  {
   "cell_type": "markdown",
   "metadata": {},
   "source": [
    "Let's use globals first:"
   ]
  },
  {
   "cell_type": "code",
   "execution_count": 21,
   "metadata": {
    "collapsed": true
   },
   "outputs": [],
   "source": [
    "import random"
   ]
  },
  {
   "cell_type": "code",
   "execution_count": 22,
   "metadata": {
    "collapsed": true
   },
   "outputs": [],
   "source": [
    "l = random.choices(list('python'), k=500)"
   ]
  },
  {
   "cell_type": "markdown",
   "metadata": {},
   "source": [
    "The variable `l` is now in our global name space."
   ]
  },
  {
   "cell_type": "code",
   "execution_count": 24,
   "metadata": {},
   "outputs": [
    {
     "data": {
      "text/plain": [
       "True"
      ]
     },
     "execution_count": 24,
     "metadata": {},
     "output_type": "execute_result"
    }
   ],
   "source": [
    "'l' in globals()"
   ]
  },
  {
   "cell_type": "markdown",
   "metadata": {},
   "source": [
    "And technically in our local name space too:"
   ]
  },
  {
   "cell_type": "code",
   "execution_count": 25,
   "metadata": {},
   "outputs": [
    {
     "data": {
      "text/plain": [
       "True"
      ]
     },
     "execution_count": 25,
     "metadata": {},
     "output_type": "execute_result"
    }
   ],
   "source": [
    "'l' in locals()"
   ]
  },
  {
   "cell_type": "code",
   "execution_count": 27,
   "metadata": {},
   "outputs": [
    {
     "data": {
      "text/plain": [
       "1.1323987425012092"
      ]
     },
     "execution_count": 27,
     "metadata": {},
     "output_type": "execute_result"
    }
   ],
   "source": [
    "timeit(stmt='random.choice(l)', setup='import random', globals=globals())"
   ]
  },
  {
   "cell_type": "markdown",
   "metadata": {},
   "source": [
    "As you can see the statement was able to access `l` from the `globals()` that as passed to the `global` argument."
   ]
  },
  {
   "cell_type": "markdown",
   "metadata": {},
   "source": [
    "Sometimes though you may have to use the local namespace, for exampele inside a function:"
   ]
  },
  {
   "cell_type": "code",
   "execution_count": 30,
   "metadata": {
    "collapsed": true
   },
   "outputs": [],
   "source": [
    "def random_choices():\n",
    "    randoms = random.choices(list('python'), k=500)\n",
    "    \n",
    "    return timeit(stmt='random.choice(randoms)', \n",
    "                  setup='import random', \n",
    "                  globals=locals())"
   ]
  },
  {
   "cell_type": "code",
   "execution_count": 31,
   "metadata": {},
   "outputs": [
    {
     "data": {
      "text/plain": [
       "1.0808561935605212"
      ]
     },
     "execution_count": 31,
     "metadata": {},
     "output_type": "execute_result"
    }
   ],
   "source": [
    "random_choices()"
   ]
  },
  {
   "cell_type": "markdown",
   "metadata": {},
   "source": [
    "I hope you saw that running the code using a local `randoms` ran slightly faster than using it from the global scope!\n",
    "\n",
    "We'll come back to that in a later video, but in fact running code from the global namespace (i.e. at the module level) is slightly slower in general than running it in a local namespace (i.e. inside a function)."
   ]
  },
  {
   "cell_type": "markdown",
   "metadata": {},
   "source": [
    "If we had passed it `globals()` instead it would not have worked since `randoms` is not in the global namespace:"
   ]
  },
  {
   "cell_type": "code",
   "execution_count": 32,
   "metadata": {},
   "outputs": [
    {
     "data": {
      "text/plain": [
       "False"
      ]
     },
     "execution_count": 32,
     "metadata": {},
     "output_type": "execute_result"
    }
   ],
   "source": [
    "'randoms' in globals()"
   ]
  },
  {
   "cell_type": "code",
   "execution_count": 33,
   "metadata": {
    "collapsed": true
   },
   "outputs": [],
   "source": [
    "def random_choices():\n",
    "    randoms = random.choices(list('python'), k=500)\n",
    "    \n",
    "    return timeit(stmt='random.choice(randoms)', \n",
    "                  setup='import random', \n",
    "                  globals=globals())"
   ]
  },
  {
   "cell_type": "code",
   "execution_count": 34,
   "metadata": {},
   "outputs": [
    {
     "ename": "NameError",
     "evalue": "name 'randoms' is not defined",
     "output_type": "error",
     "traceback": [
      "\u001b[1;31m---------------------------------------------------------------------------\u001b[0m",
      "\u001b[1;31mNameError\u001b[0m                                 Traceback (most recent call last)",
      "\u001b[1;32m<ipython-input-34-9e88504addca>\u001b[0m in \u001b[0;36m<module>\u001b[1;34m()\u001b[0m\n\u001b[1;32m----> 1\u001b[1;33m \u001b[0mrandom_choices\u001b[0m\u001b[1;33m(\u001b[0m\u001b[1;33m)\u001b[0m\u001b[1;33m\u001b[0m\u001b[0m\n\u001b[0m",
      "\u001b[1;32m<ipython-input-33-2aaae2461319>\u001b[0m in \u001b[0;36mrandom_choices\u001b[1;34m()\u001b[0m\n\u001b[0;32m      4\u001b[0m     return timeit(stmt='random.choice(randoms)', \n\u001b[0;32m      5\u001b[0m                   \u001b[0msetup\u001b[0m\u001b[1;33m=\u001b[0m\u001b[1;34m'import random'\u001b[0m\u001b[1;33m,\u001b[0m\u001b[1;33m\u001b[0m\u001b[0m\n\u001b[1;32m----> 6\u001b[1;33m                   globals=globals())\n\u001b[0m",
      "\u001b[1;32mD:\\Users\\fbapt\\Anaconda3\\envs\\deepdive\\lib\\timeit.py\u001b[0m in \u001b[0;36mtimeit\u001b[1;34m(stmt, setup, timer, number, globals)\u001b[0m\n\u001b[0;32m    231\u001b[0m            number=default_number, globals=None):\n\u001b[0;32m    232\u001b[0m     \u001b[1;34m\"\"\"Convenience function to create Timer object and call timeit method.\"\"\"\u001b[0m\u001b[1;33m\u001b[0m\u001b[0m\n\u001b[1;32m--> 233\u001b[1;33m     \u001b[1;32mreturn\u001b[0m \u001b[0mTimer\u001b[0m\u001b[1;33m(\u001b[0m\u001b[0mstmt\u001b[0m\u001b[1;33m,\u001b[0m \u001b[0msetup\u001b[0m\u001b[1;33m,\u001b[0m \u001b[0mtimer\u001b[0m\u001b[1;33m,\u001b[0m \u001b[0mglobals\u001b[0m\u001b[1;33m)\u001b[0m\u001b[1;33m.\u001b[0m\u001b[0mtimeit\u001b[0m\u001b[1;33m(\u001b[0m\u001b[0mnumber\u001b[0m\u001b[1;33m)\u001b[0m\u001b[1;33m\u001b[0m\u001b[0m\n\u001b[0m\u001b[0;32m    234\u001b[0m \u001b[1;33m\u001b[0m\u001b[0m\n\u001b[0;32m    235\u001b[0m def repeat(stmt=\"pass\", setup=\"pass\", timer=default_timer,\n",
      "\u001b[1;32mD:\\Users\\fbapt\\Anaconda3\\envs\\deepdive\\lib\\timeit.py\u001b[0m in \u001b[0;36mtimeit\u001b[1;34m(self, number)\u001b[0m\n\u001b[0;32m    176\u001b[0m         \u001b[0mgc\u001b[0m\u001b[1;33m.\u001b[0m\u001b[0mdisable\u001b[0m\u001b[1;33m(\u001b[0m\u001b[1;33m)\u001b[0m\u001b[1;33m\u001b[0m\u001b[0m\n\u001b[0;32m    177\u001b[0m         \u001b[1;32mtry\u001b[0m\u001b[1;33m:\u001b[0m\u001b[1;33m\u001b[0m\u001b[0m\n\u001b[1;32m--> 178\u001b[1;33m             \u001b[0mtiming\u001b[0m \u001b[1;33m=\u001b[0m \u001b[0mself\u001b[0m\u001b[1;33m.\u001b[0m\u001b[0minner\u001b[0m\u001b[1;33m(\u001b[0m\u001b[0mit\u001b[0m\u001b[1;33m,\u001b[0m \u001b[0mself\u001b[0m\u001b[1;33m.\u001b[0m\u001b[0mtimer\u001b[0m\u001b[1;33m)\u001b[0m\u001b[1;33m\u001b[0m\u001b[0m\n\u001b[0m\u001b[0;32m    179\u001b[0m         \u001b[1;32mfinally\u001b[0m\u001b[1;33m:\u001b[0m\u001b[1;33m\u001b[0m\u001b[0m\n\u001b[0;32m    180\u001b[0m             \u001b[1;32mif\u001b[0m \u001b[0mgcold\u001b[0m\u001b[1;33m:\u001b[0m\u001b[1;33m\u001b[0m\u001b[0m\n",
      "\u001b[1;32m<timeit-src>\u001b[0m in \u001b[0;36minner\u001b[1;34m(_it, _timer)\u001b[0m\n",
      "\u001b[1;31mNameError\u001b[0m: name 'randoms' is not defined"
     ]
    }
   ],
   "source": [
    "random_choices()"
   ]
  },
  {
   "cell_type": "markdown",
   "metadata": {},
   "source": [
    "One more thing to point out is that functions defined at the module level are actually in our global namespace as well:"
   ]
  },
  {
   "cell_type": "code",
   "execution_count": 35,
   "metadata": {
    "collapsed": true
   },
   "outputs": [],
   "source": [
    "def pick_random(lst):\n",
    "    return random.choice(lst)"
   ]
  },
  {
   "cell_type": "code",
   "execution_count": 36,
   "metadata": {},
   "outputs": [
    {
     "data": {
      "text/plain": [
       "True"
      ]
     },
     "execution_count": 36,
     "metadata": {},
     "output_type": "execute_result"
    }
   ],
   "source": [
    "'pick_random' in globals()"
   ]
  },
  {
   "cell_type": "markdown",
   "metadata": {},
   "source": [
    "This means that technically we can write the function we want to time in our global/local scope, and pass the scope in and then reference the function from that scope in our statement. It will be slower though since it has to find the function in the scope first - but you could do it to test relative performance differences:"
   ]
  },
  {
   "cell_type": "code",
   "execution_count": 37,
   "metadata": {},
   "outputs": [
    {
     "data": {
      "text/plain": [
       "1.216267840187811"
      ]
     },
     "execution_count": 37,
     "metadata": {},
     "output_type": "execute_result"
    }
   ],
   "source": [
    "timeit(stmt='pick_random(l)', globals=globals())"
   ]
  },
  {
   "cell_type": "markdown",
   "metadata": {},
   "source": [
    "And there you go, `timeit` was able to access both `pick_random` and the variable `l`."
   ]
  }
 ],
 "metadata": {
  "kernelspec": {
   "display_name": "Python 3",
   "language": "python",
   "name": "python3"
  },
  "language_info": {
   "codemirror_mode": {
    "name": "ipython",
    "version": 3
   },
   "file_extension": ".py",
   "mimetype": "text/x-python",
   "name": "python",
   "nbconvert_exporter": "python",
   "pygments_lexer": "ipython3",
   "version": "3.6.2"
  }
 },
 "nbformat": 4,
 "nbformat_minor": 2
}
