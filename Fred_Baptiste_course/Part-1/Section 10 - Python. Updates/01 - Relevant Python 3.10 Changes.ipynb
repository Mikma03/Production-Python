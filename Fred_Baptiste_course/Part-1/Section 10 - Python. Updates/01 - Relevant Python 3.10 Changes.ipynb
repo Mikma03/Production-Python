{
 "cells": [
  {
   "cell_type": "markdown",
   "id": "c4d4fc49",
   "metadata": {},
   "source": [
    "### Relevant Python 3.10 Changes"
   ]
  },
  {
   "cell_type": "markdown",
   "id": "cb1495a9",
   "metadata": {},
   "source": [
    "The release of Python 3.10 has brought some new features.\n",
    "\n",
    "This is a summary of the ones _I_ deemed relevant to this course, and does **not** include all the changes!\n",
    "\n",
    "For full release details, see [here](https://docs.python.org/3/whatsnew/3.10.html)"
   ]
  },
  {
   "cell_type": "markdown",
   "id": "98c3ae0d",
   "metadata": {},
   "source": [
    "Python 3.10 has improved it's error messages for syntax errors - the messages are more helpful and hopefully give you a better understanding of what may be syntactically wrong with your code."
   ]
  },
  {
   "cell_type": "markdown",
   "id": "4ae4aa37",
   "metadata": {},
   "source": [
    "#### Structural Pattern Matching"
   ]
  },
  {
   "cell_type": "markdown",
   "id": "d18177a2",
   "metadata": {},
   "source": [
    "One thing I often hear people ask, is, what's the Python equivalent of a `switch` statement."
   ]
  },
  {
   "cell_type": "markdown",
   "id": "36a77514",
   "metadata": {},
   "source": [
    "Until now, the answer has alwasy been - there isn't one. Use `if...elif` constructs."
   ]
  },
  {
   "cell_type": "markdown",
   "id": "56fdb138",
   "metadata": {},
   "source": [
    "Python 3.10 introduces a new language element (`match`) to implement something called **pattern matching**, that can be used to replicate this `switch` behavior you might be used to in other languages."
   ]
  },
  {
   "cell_type": "markdown",
   "id": "e1cf8b9d",
   "metadata": {},
   "source": [
    "I'll cover some of the basics here, but you should refer to the Python [docs](https://docs.python.org/3/reference/compound_stmts.html#the-match-statement) for more information, as well as the [pep](https://peps.python.org/pep-0634/) for this feature and a [tutorial pep](https://peps.python.org/pep-0636/)."
   ]
  },
  {
   "cell_type": "markdown",
   "id": "1417630a",
   "metadata": {},
   "source": [
    "Let's start with a simple `match` statement:"
   ]
  },
  {
   "cell_type": "code",
   "execution_count": 1,
   "id": "bbecc554",
   "metadata": {},
   "outputs": [],
   "source": [
    "def respond(language):\n",
    "    match language:\n",
    "        case \"Java\":\n",
    "            return \"Hmm, coffee!\"\n",
    "        case \"Python\":\n",
    "            return \"I'm not scared of snakes!\"\n",
    "        case \"Rust\":\n",
    "            return \"Don't drink too much water!\"\n",
    "        case \"Go\":\n",
    "            return \"Collect $200\"\n",
    "        case _:\n",
    "            return \"I'm sorry...\""
   ]
  },
  {
   "cell_type": "code",
   "execution_count": 2,
   "id": "d5669e92",
   "metadata": {},
   "outputs": [
    {
     "data": {
      "text/plain": [
       "\"I'm not scared of snakes!\""
      ]
     },
     "execution_count": 2,
     "metadata": {},
     "output_type": "execute_result"
    }
   ],
   "source": [
    "respond(\"Python\")"
   ]
  },
  {
   "cell_type": "code",
   "execution_count": 3,
   "id": "90cecc86",
   "metadata": {},
   "outputs": [
    {
     "data": {
      "text/plain": [
       "'Collect $200'"
      ]
     },
     "execution_count": 3,
     "metadata": {},
     "output_type": "execute_result"
    }
   ],
   "source": [
    "respond(\"Go\")"
   ]
  },
  {
   "cell_type": "code",
   "execution_count": 4,
   "id": "f9feb023",
   "metadata": {},
   "outputs": [
    {
     "data": {
      "text/plain": [
       "\"I'm sorry...\""
      ]
     },
     "execution_count": 4,
     "metadata": {},
     "output_type": "execute_result"
    }
   ],
   "source": [
    "respond(\"COBOL\")"
   ]
  },
  {
   "cell_type": "markdown",
   "id": "ee7c21fb",
   "metadata": {},
   "source": [
    "Here we were able to define a \"default\" match pattern by using the underscore (`_`) as our pattern - this `_` is called a **wildcard**."
   ]
  },
  {
   "cell_type": "markdown",
   "id": "b76575de",
   "metadata": {},
   "source": [
    "So this is very much like the \"plain\" switch statement found in some other languages."
   ]
  },
  {
   "cell_type": "markdown",
   "id": "6e55dd9f",
   "metadata": {},
   "source": [
    "But, this is where things get ineteresting, pattern matching can do much more than the simple example we just saw."
   ]
  },
  {
   "cell_type": "markdown",
   "id": "f8d495f2",
   "metadata": {},
   "source": [
    "For example, you can have multiple pattern matching:"
   ]
  },
  {
   "cell_type": "code",
   "execution_count": 5,
   "id": "6d5fcc0c",
   "metadata": {},
   "outputs": [],
   "source": [
    "def respond(language):\n",
    "    match language:\n",
    "        case \"Java\" | \"Javascript\":\n",
    "            return \"Love those braces!\"\n",
    "        case \"Python\":\n",
    "            return \"I'm a lumberjack and I don't need no braces\"\n",
    "        case _:\n",
    "            return \"I have no clue!\""
   ]
  },
  {
   "cell_type": "code",
   "execution_count": 6,
   "id": "02cf21af",
   "metadata": {},
   "outputs": [
    {
     "data": {
      "text/plain": [
       "'Love those braces!'"
      ]
     },
     "execution_count": 6,
     "metadata": {},
     "output_type": "execute_result"
    }
   ],
   "source": [
    "respond(\"Java\")"
   ]
  },
  {
   "cell_type": "code",
   "execution_count": 7,
   "id": "853368f3",
   "metadata": {},
   "outputs": [
    {
     "data": {
      "text/plain": [
       "'Love those braces!'"
      ]
     },
     "execution_count": 7,
     "metadata": {},
     "output_type": "execute_result"
    }
   ],
   "source": [
    "respond(\"Javascript\")"
   ]
  },
  {
   "cell_type": "code",
   "execution_count": 8,
   "id": "066f985e",
   "metadata": {},
   "outputs": [
    {
     "data": {
      "text/plain": [
       "\"I'm a lumberjack and I don't need no braces\""
      ]
     },
     "execution_count": 8,
     "metadata": {},
     "output_type": "execute_result"
    }
   ],
   "source": [
    "respond(\"Python\")"
   ]
  },
  {
   "cell_type": "markdown",
   "id": "7fc43e7f",
   "metadata": {},
   "source": [
    "We could match against one or more literals by using the OR pattern (`|`)"
   ]
  },
  {
   "cell_type": "markdown",
   "id": "36064a9c",
   "metadata": {},
   "source": [
    "Let's look at one more example, this time matching **multiple values**."
   ]
  },
  {
   "cell_type": "markdown",
   "id": "31978910",
   "metadata": {},
   "source": [
    "Suppose we have some kind of command language for driving a remote controlled robot in a maze, picking up and dropping items as it moves around. Our robot is very simple, it can move in only a few directions, and one step at a time. So to move forward three spaces, we would issue three `move forward` commands.\n",
    "\n",
    "Additional commands are `move backward`, `move left`, `move right`. We also have a few other commands our robot understands: `pick` and `drop` for picking up and dropping objects it might find."
   ]
  },
  {
   "cell_type": "markdown",
   "id": "63944ea5",
   "metadata": {},
   "source": [
    "We might write a command interpreter this way:"
   ]
  },
  {
   "cell_type": "markdown",
   "id": "f9077f13",
   "metadata": {},
   "source": [
    "Let's start by using some symbols to represent the robot's actions:"
   ]
  },
  {
   "cell_type": "code",
   "execution_count": 9,
   "id": "2dde5d86",
   "metadata": {},
   "outputs": [
    {
     "data": {
      "text/plain": [
       "{'F': '→', 'B': '←', 'L': '↑', 'R': '↓', 'pick': '⤣', 'drop': '⤥'}"
      ]
     },
     "execution_count": 9,
     "metadata": {},
     "output_type": "execute_result"
    }
   ],
   "source": [
    "symbols = {\n",
    "    \"F\": \"\\u2192\", \n",
    "    \"B\": \"\\u2190\", \n",
    "    \"L\": \"\\u2191\", \n",
    "    \"R\": \"\\u2193\", \n",
    "    \"pick\": \"\\u2923\", \n",
    "    \"drop\": \"\\u2925\"\n",
    "}\n",
    "\n",
    "symbols"
   ]
  },
  {
   "cell_type": "code",
   "execution_count": 10,
   "id": "faab4c09",
   "metadata": {},
   "outputs": [],
   "source": [
    "def op(command):\n",
    "    match command:\n",
    "        case \"move F\":\n",
    "            return symbols[\"F\"]\n",
    "        case \"move B\":\n",
    "            return symbols[\"B\"]\n",
    "        case \"move L\":\n",
    "            return symbols[\"L\"]\n",
    "        case \"move R\":\n",
    "            return symbols[\"R\"]\n",
    "        case \"pick\":\n",
    "            return symbols[\"pick\"]\n",
    "        case \"drop\":\n",
    "            return symbols[\"drop\"]\n",
    "        case _:\n",
    "            raise ValueError(f\"{command} does not compute!\")"
   ]
  },
  {
   "cell_type": "markdown",
   "id": "24555fab",
   "metadata": {},
   "source": [
    "Then we could issue commands such as:"
   ]
  },
  {
   "cell_type": "code",
   "execution_count": 11,
   "id": "b673a044",
   "metadata": {},
   "outputs": [
    {
     "data": {
      "text/plain": [
       "'↑'"
      ]
     },
     "execution_count": 11,
     "metadata": {},
     "output_type": "execute_result"
    }
   ],
   "source": [
    "op(\"move L\")"
   ]
  },
  {
   "cell_type": "markdown",
   "id": "b411438f",
   "metadata": {},
   "source": [
    "Or multiple sequences by maybe using a list of such commands, effectively creating a sequential program for our robot:"
   ]
  },
  {
   "cell_type": "code",
   "execution_count": 12,
   "id": "cf94014f",
   "metadata": {},
   "outputs": [
    {
     "data": {
      "text/plain": [
       "['→', '→', '↑', '⤣', '↓', '↑', '→', '⤥']"
      ]
     },
     "execution_count": 12,
     "metadata": {},
     "output_type": "execute_result"
    }
   ],
   "source": [
    "[\n",
    "    op(\"move F\"),\n",
    "    op(\"move F\"),\n",
    "    op(\"move L\"),\n",
    "    op(\"pick\"),\n",
    "    op(\"move R\"),\n",
    "    op(\"move L\"),\n",
    "    op(\"move F\"),\n",
    "    op(\"drop\"),\n",
    "]"
   ]
  },
  {
   "cell_type": "markdown",
   "id": "c520053b",
   "metadata": {},
   "source": [
    "We could use something called **capturing** matched sub-patterns to simply our code somewhat:"
   ]
  },
  {
   "cell_type": "code",
   "execution_count": 13,
   "id": "e7da20cf",
   "metadata": {},
   "outputs": [],
   "source": [
    "def op(command):\n",
    "    match command:\n",
    "        case [\"move\", (\"F\" | \"B\" | \"L\" |\"R\") as direction]:\n",
    "            return symbols[direction]\n",
    "        case \"pick\":\n",
    "            return symbols[\"pick\"]\n",
    "        case \"drop\":\n",
    "            return symvols[\"drop\"]\n",
    "        case _:\n",
    "            raise ValueError(f\"{command} does not compute!\")"
   ]
  },
  {
   "cell_type": "code",
   "execution_count": 14,
   "id": "c2a1c617",
   "metadata": {},
   "outputs": [
    {
     "data": {
      "text/plain": [
       "'↑'"
      ]
     },
     "execution_count": 14,
     "metadata": {},
     "output_type": "execute_result"
    }
   ],
   "source": [
    "op([\"move\", \"L\"])"
   ]
  },
  {
   "cell_type": "code",
   "execution_count": 15,
   "id": "4edeb3dc",
   "metadata": {},
   "outputs": [
    {
     "data": {
      "text/plain": [
       "'⤣'"
      ]
     },
     "execution_count": 15,
     "metadata": {},
     "output_type": "execute_result"
    }
   ],
   "source": [
    "op(\"pick\")"
   ]
  },
  {
   "cell_type": "code",
   "execution_count": 16,
   "id": "b13504aa",
   "metadata": {},
   "outputs": [
    {
     "name": "stdout",
     "output_type": "stream",
     "text": [
      "fly does not compute!\n"
     ]
    }
   ],
   "source": [
    "try:\n",
    "    op(\"fly\")\n",
    "except ValueError as ex:\n",
    "    print(ex)"
   ]
  },
  {
   "cell_type": "markdown",
   "id": "6769c228",
   "metadata": {},
   "source": [
    "This is kind of tedious, it would be nicer to write commands such as `move F F L` and `move R L F` instead."
   ]
  },
  {
   "cell_type": "markdown",
   "id": "055d2c60",
   "metadata": {},
   "source": [
    "There are many ways we could solve this, but pattern matching on multiple values can be really useful here."
   ]
  },
  {
   "cell_type": "code",
   "execution_count": 17,
   "id": "372bdb17",
   "metadata": {},
   "outputs": [],
   "source": [
    "\n",
    "def op(command):\n",
    "    match command:\n",
    "        case ['move', *directions]:\n",
    "            return tuple(symbols[direction] for direction in directions)\n",
    "        case \"pick\":\n",
    "            return symbols[\"pick\"]\n",
    "        case \"drop\":\n",
    "            return symbols[\"drop\"]\n",
    "        case _:\n",
    "            raise ValueError(f\"{command} does not compute!\")"
   ]
  },
  {
   "cell_type": "markdown",
   "id": "c77bec44",
   "metadata": {},
   "source": [
    "What happens here is that the pattern matcher will recognize the first word `move` and then interpret the remaining words collection them in the `directions` variable (so this syntax is very similar to unpacking)."
   ]
  },
  {
   "cell_type": "markdown",
   "id": "4ef78058",
   "metadata": {},
   "source": [
    "We can now rewrite our program this way:"
   ]
  },
  {
   "cell_type": "code",
   "execution_count": 18,
   "id": "88c0c024",
   "metadata": {},
   "outputs": [
    {
     "data": {
      "text/plain": [
       "[('→', '→', '↑'), '⤣', ('↓', '↑', '→'), '⤥']"
      ]
     },
     "execution_count": 18,
     "metadata": {},
     "output_type": "execute_result"
    }
   ],
   "source": [
    "[\n",
    "    op([\"move\", \"F\", \"F\", \"L\"]),\n",
    "    op(\"pick\"),\n",
    "    op([\"move\", \"R\", \"L\", \"F\"]),\n",
    "    op(\"drop\"),\n",
    "]"
   ]
  },
  {
   "cell_type": "markdown",
   "id": "1ddc0f2e",
   "metadata": {},
   "source": [
    "But now we have a slight problem:"
   ]
  },
  {
   "cell_type": "code",
   "execution_count": 19,
   "id": "ed30a762",
   "metadata": {},
   "outputs": [
    {
     "name": "stdout",
     "output_type": "stream",
     "text": [
      "<class 'KeyError'> 'up'\n"
     ]
    }
   ],
   "source": [
    "try:\n",
    "    op([\"move\", \"up\"])\n",
    "except Exception as ex:\n",
    "    print(type(ex), ex)"
   ]
  },
  {
   "cell_type": "markdown",
   "id": "f6bbbd53",
   "metadata": {},
   "source": [
    "We would rather just get our custom `ValueError`. To do this we can place a **guard** on our `case` for the `move` command, that will not only do the match but also test an additional condition:"
   ]
  },
  {
   "cell_type": "code",
   "execution_count": 20,
   "id": "8d441175",
   "metadata": {},
   "outputs": [],
   "source": [
    "def op(command):\n",
    "    match command:\n",
    "        case ['move', *directions] if set(directions) < symbols.keys():\n",
    "            return tuple(symbols[direction] for direction in directions)\n",
    "        case \"pick\":\n",
    "            return symbols[\"pick\"]\n",
    "        case \"drop\":\n",
    "            return symbols[\"drop\"]\n",
    "        case _:\n",
    "            raise ValueError(f\"{command} does not compute!\")"
   ]
  },
  {
   "cell_type": "markdown",
   "id": "441a53f6",
   "metadata": {},
   "source": [
    "That `if ` statement (the **guard**) will only let the case block execute if the match is true **and** that `if` expression evaludates to `True`:"
   ]
  },
  {
   "cell_type": "code",
   "execution_count": 21,
   "id": "708c5d16",
   "metadata": {},
   "outputs": [
    {
     "name": "stdout",
     "output_type": "stream",
     "text": [
      "<class 'ValueError'> ['move', 'up'] does not compute!\n"
     ]
    }
   ],
   "source": [
    "try:\n",
    "    op([\"move\", \"up\"])\n",
    "except Exception as ex:\n",
    "    print(type(ex), ex)"
   ]
  },
  {
   "cell_type": "markdown",
   "id": "1ecf5f83",
   "metadata": {},
   "source": [
    "There are many other ways we could have done this - probably better than this, but this was to illustrate how the multiple value matching can work!"
   ]
  },
  {
   "cell_type": "markdown",
   "id": "84bec678",
   "metadata": {},
   "source": [
    "I urge you to read at least this [tutorial (pep 636)](https://peps.python.org/pep-0636/) on pattern matching."
   ]
  },
  {
   "cell_type": "markdown",
   "id": "5b6a7b09",
   "metadata": {},
   "source": [
    "#### The `zip` Function"
   ]
  },
  {
   "cell_type": "markdown",
   "id": "1294e5f6",
   "metadata": {},
   "source": [
    "We use the built-in `zip` function all the time. As we know, the `zip` will stop iterating after the first of the iterables provided in the arguments is exhausted:"
   ]
  },
  {
   "cell_type": "code",
   "execution_count": 22,
   "id": "e33aa60d",
   "metadata": {},
   "outputs": [
    {
     "data": {
      "text/plain": [
       "[('a', 10), ('b', 20), ('c', 30)]"
      ]
     },
     "execution_count": 22,
     "metadata": {},
     "output_type": "execute_result"
    }
   ],
   "source": [
    "l1 = ['a', 'b', 'c']\n",
    "l2 = [10, 20, 30, 40]\n",
    "\n",
    "list(zip(l1, l2))"
   ]
  },
  {
   "cell_type": "markdown",
   "id": "7d310af8",
   "metadata": {},
   "source": [
    "As you can see the last element of `l2` is not included in the result since `l1` only had three elements."
   ]
  },
  {
   "cell_type": "markdown",
   "id": "a9cf9570",
   "metadata": {},
   "source": [
    "We can also use the `zip_longest` function in the `itertools` module to iterate over the longest iterable, providing some default value for any other iterable that has been exhausted:"
   ]
  },
  {
   "cell_type": "code",
   "execution_count": 23,
   "id": "aefa3055",
   "metadata": {},
   "outputs": [],
   "source": [
    "from itertools import zip_longest"
   ]
  },
  {
   "cell_type": "code",
   "execution_count": 24,
   "id": "ce4779c9",
   "metadata": {},
   "outputs": [
    {
     "data": {
      "text/plain": [
       "[('a', 10), ('b', 20), ('c', 30), ('???', 40)]"
      ]
     },
     "execution_count": 24,
     "metadata": {},
     "output_type": "execute_result"
    }
   ],
   "source": [
    "list(zip_longest(l1, l2, fillvalue='???'))"
   ]
  },
  {
   "cell_type": "markdown",
   "id": "0eb2f702",
   "metadata": {},
   "source": [
    "But what if we want to only zip iterables that have the **same** length? We would need to test the length of each iterable first - but if those were iterators instead of iterables, we will have exhausted the iterator, and `zip` would come back \"empty\":"
   ]
  },
  {
   "cell_type": "code",
   "execution_count": 25,
   "id": "3b704410",
   "metadata": {},
   "outputs": [],
   "source": [
    "l1 = (i ** 2 for i in range(4))\n",
    "l2 = (i ** 3 for i in range(3))"
   ]
  },
  {
   "cell_type": "markdown",
   "id": "da0d866f",
   "metadata": {},
   "source": [
    "We could test to see if `l1` and `l2` are the same length:"
   ]
  },
  {
   "cell_type": "code",
   "execution_count": 26,
   "id": "bc7d34c9",
   "metadata": {},
   "outputs": [
    {
     "data": {
      "text/plain": [
       "False"
      ]
     },
     "execution_count": 26,
     "metadata": {},
     "output_type": "execute_result"
    }
   ],
   "source": [
    "len(list(l1)) == len(list(l2))"
   ]
  },
  {
   "cell_type": "markdown",
   "id": "0a4a1974",
   "metadata": {},
   "source": [
    "But, if we now try to `zip` them:"
   ]
  },
  {
   "cell_type": "code",
   "execution_count": 27,
   "id": "1c3928b9",
   "metadata": {},
   "outputs": [
    {
     "data": {
      "text/plain": [
       "[]"
      ]
     },
     "execution_count": 27,
     "metadata": {},
     "output_type": "execute_result"
    }
   ],
   "source": [
    "list(zip(l1, l2))"
   ]
  },
  {
   "cell_type": "markdown",
   "id": "9ee310e9",
   "metadata": {},
   "source": [
    "In Python 3.10, the `zip` function now has a keyword-only parameter called `strict` that will just do the zip, but throw an exception if one of the arguments get exhausted before the others:"
   ]
  },
  {
   "cell_type": "code",
   "execution_count": 28,
   "id": "54722489",
   "metadata": {},
   "outputs": [
    {
     "name": "stdout",
     "output_type": "stream",
     "text": [
      "zip() argument 2 is shorter than argument 1\n"
     ]
    }
   ],
   "source": [
    "l1 = (i ** 2 for i in range(4))\n",
    "l2 = (i ** 3 for i in range(3))\n",
    "\n",
    "try:\n",
    "    list(zip(l1, l2, strict=True))\n",
    "except ValueError as ex:\n",
    "    print(ex)"
   ]
  },
  {
   "cell_type": "markdown",
   "id": "2635211a",
   "metadata": {},
   "source": [
    "And works just fine if the arguments all have the same length:"
   ]
  },
  {
   "cell_type": "code",
   "execution_count": 29,
   "id": "7fb672cb",
   "metadata": {},
   "outputs": [
    {
     "data": {
      "text/plain": [
       "[(0, 0, 0), (1, 1, 1), (4, 8, 16), (9, 27, 81)]"
      ]
     },
     "execution_count": 29,
     "metadata": {},
     "output_type": "execute_result"
    }
   ],
   "source": [
    "l1 = (i ** 2 for i in range(4))\n",
    "l2 = (i ** 3 for i in range(4))\n",
    "l3 = (i ** 4 for i in range(4))\n",
    "\n",
    "list(zip(l1, l2, l3))"
   ]
  },
  {
   "cell_type": "markdown",
   "id": "501fec3b",
   "metadata": {},
   "source": [
    "So why is this useful?"
   ]
  },
  {
   "cell_type": "markdown",
   "id": "dab4260e",
   "metadata": {},
   "source": [
    "In **many** cases, our code zips iterables that we expect to be of the same length. To avoid bugs in our program, we should check that this condition is true, otherwise zip will silently just zip based on the shortest one. But as we saw with iterators, that can be difficult to do without exhausting the very iterators we are trying to zip. (it can be done, it's just more code)."
   ]
  },
  {
   "cell_type": "markdown",
   "id": "c73e5ad1",
   "metadata": {},
   "source": [
    "So, if you are one of the lucky devs that gets to write Python 3.10 (or higher :-) ) code, you can just use `strict` whenever you zip things together and expect that they are all of the same length. Much easier to do it this way (and, as we discuss in Exception handling, falls into the category of \"ask forgiveness later\" which we saw was the preferred way (in general) to handle exceptions in our apps, as opposed to the \"look before you leap\" approach we would have to use to test the argument lengths."
   ]
  },
  {
   "cell_type": "code",
   "execution_count": null,
   "id": "400a56c1",
   "metadata": {},
   "outputs": [],
   "source": []
  }
 ],
 "metadata": {
  "kernelspec": {
   "display_name": "Python 3 (ipykernel)",
   "language": "python",
   "name": "python3"
  },
  "language_info": {
   "codemirror_mode": {
    "name": "ipython",
    "version": 3
   },
   "file_extension": ".py",
   "mimetype": "text/x-python",
   "name": "python",
   "nbconvert_exporter": "python",
   "pygments_lexer": "ipython3",
   "version": "3.10.2"
  }
 },
 "nbformat": 4,
 "nbformat_minor": 5
}
