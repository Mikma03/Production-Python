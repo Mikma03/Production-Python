{
 "cells": [
  {
   "cell_type": "markdown",
   "metadata": {},
   "source": [
    "### Random Seeds"
   ]
  },
  {
   "cell_type": "markdown",
   "metadata": {},
   "source": [
    "The `random` module provides a variety of functions related to (pseudo) random numbers.\n",
    "\n",
    "The problem when you use random numbers in your code is that it can be difficult to debug because the same random number sequence is not the same from run to run of your program. If your code fails somewhere in the middle of a run it is difficult to make the problem **repeatable**. Debugging intermittent and non-repeatable failures is one of the worst things to do!\n",
    "\n",
    "Fortunately, when using the `random` module, we can set the `seed` for the random underlying random number generator.\n",
    "\n",
    "Random numbers are not truly random - they are generated in such a way that the numbers *appear* random and evenly distributed, but in fact they are being generated using a specific algorithm.\n",
    "\n",
    "That algorithm depends on a **seed** value. That seed value will determine the exact sequence of randomly generated numbers (so as you can see, it's not truly random). Setting different seeds will result in different random sequences, but setting the seed to the same value will result in the same sequence being generated.\n",
    "\n",
    "By default, the seed uses the system time, hence every time you run your program a different seed is set. But we can easily set the seed to something specific - very useful for debugging purposes."
   ]
  },
  {
   "cell_type": "code",
   "execution_count": 4,
   "metadata": {
    "collapsed": true
   },
   "outputs": [],
   "source": [
    "import random"
   ]
  },
  {
   "cell_type": "code",
   "execution_count": 4,
   "metadata": {},
   "outputs": [
    {
     "name": "stdout",
     "output_type": "stream",
     "text": [
      "15 0.2744539473546337\n",
      "13 0.8696250242406662\n",
      "14 0.3697144258854075\n",
      "18 0.5945778682818538\n",
      "15 0.7694636962835182\n",
      "17 0.820862450549917\n",
      "10 0.6467347679589829\n",
      "20 0.8048988506681894\n",
      "12 0.5880472380199475\n",
      "20 0.8715275342775027\n"
     ]
    }
   ],
   "source": [
    "for _ in range(10):\n",
    "    print(random.randint(10, 20), random.random())"
   ]
  },
  {
   "cell_type": "code",
   "execution_count": 5,
   "metadata": {},
   "outputs": [
    {
     "name": "stdout",
     "output_type": "stream",
     "text": [
      "14 0.931305656287958\n",
      "10 0.23039405306234007\n",
      "12 0.8337388005835649\n",
      "18 0.4590462920405187\n",
      "10 0.36743475564890316\n",
      "13 0.7100875772566404\n",
      "12 0.9750441656612154\n",
      "12 0.7442020027100001\n",
      "18 0.23667309950795434\n",
      "20 0.41553858798609267\n"
     ]
    }
   ],
   "source": [
    "for _ in range(10):\n",
    "    print(random.randint(10, 20), random.random())"
   ]
  },
  {
   "cell_type": "markdown",
   "metadata": {},
   "source": [
    "As you can see the sequence of numbers is not the same (and even restarting the kernel will result in different numbers)."
   ]
  },
  {
   "cell_type": "markdown",
   "metadata": {},
   "source": [
    "We can set the **seed** as follows:"
   ]
  },
  {
   "cell_type": "code",
   "execution_count": 6,
   "metadata": {},
   "outputs": [
    {
     "name": "stdout",
     "output_type": "stream",
     "text": [
      "16 0.7579544029403025\n",
      "16 0.04048437818077755\n",
      "18 0.48592769656281265\n",
      "14 0.9677999949201714\n",
      "15 0.5833820394550312\n",
      "13 0.5046868558173903\n",
      "14 0.1397457849666789\n",
      "11 0.6183689966753316\n",
      "14 0.9872592010330129\n",
      "18 0.9827854760376531\n"
     ]
    }
   ],
   "source": [
    "random.seed(0)\n",
    "for i in range(10):\n",
    "    print(random.randint(10, 20), random.random())"
   ]
  },
  {
   "cell_type": "markdown",
   "metadata": {},
   "source": [
    "If we run this code again, the sequence will still be different:"
   ]
  },
  {
   "cell_type": "code",
   "execution_count": 7,
   "metadata": {},
   "outputs": [
    {
     "name": "stdout",
     "output_type": "stream",
     "text": [
      "19 0.9021659504395827\n",
      "14 0.09876334465914771\n",
      "11 0.8988382879679935\n",
      "20 0.33019721859799855\n",
      "18 0.1007012080683658\n",
      "16 0.31619669952159346\n",
      "20 0.9130110532378982\n",
      "18 0.47700977655271704\n",
      "18 0.2604923103919594\n",
      "18 0.9159944803568847\n"
     ]
    }
   ],
   "source": [
    "for i in range(10):\n",
    "    print(random.randint(10, 20), random.random())"
   ]
  },
  {
   "cell_type": "markdown",
   "metadata": {},
   "source": [
    "Instead what we have to do is reset the seed (which happens if you set the seed to a specific number at the start of running your program - then evey random number generated will be repeatable from run to run).\n",
    "\n",
    "Here, we just need to reset the seed before running that loop to get the same effect:"
   ]
  },
  {
   "cell_type": "code",
   "execution_count": 8,
   "metadata": {},
   "outputs": [
    {
     "name": "stdout",
     "output_type": "stream",
     "text": [
      "16 0.7579544029403025\n",
      "16 0.04048437818077755\n",
      "18 0.48592769656281265\n",
      "14 0.9677999949201714\n",
      "15 0.5833820394550312\n",
      "13 0.5046868558173903\n",
      "14 0.1397457849666789\n",
      "11 0.6183689966753316\n",
      "14 0.9872592010330129\n",
      "18 0.9827854760376531\n",
      "19 0.9021659504395827\n",
      "14 0.09876334465914771\n",
      "11 0.8988382879679935\n",
      "20 0.33019721859799855\n",
      "18 0.1007012080683658\n",
      "16 0.31619669952159346\n",
      "20 0.9130110532378982\n",
      "18 0.47700977655271704\n",
      "18 0.2604923103919594\n",
      "18 0.9159944803568847\n"
     ]
    }
   ],
   "source": [
    "random.seed(0)\n",
    "for i in range(20):\n",
    "    print(random.randint(10, 20), random.random())"
   ]
  },
  {
   "cell_type": "code",
   "execution_count": 9,
   "metadata": {},
   "outputs": [
    {
     "name": "stdout",
     "output_type": "stream",
     "text": [
      "16 0.7579544029403025\n",
      "16 0.04048437818077755\n",
      "18 0.48592769656281265\n",
      "14 0.9677999949201714\n",
      "15 0.5833820394550312\n",
      "13 0.5046868558173903\n",
      "14 0.1397457849666789\n",
      "11 0.6183689966753316\n",
      "14 0.9872592010330129\n",
      "18 0.9827854760376531\n",
      "19 0.9021659504395827\n",
      "14 0.09876334465914771\n",
      "11 0.8988382879679935\n",
      "20 0.33019721859799855\n",
      "18 0.1007012080683658\n",
      "16 0.31619669952159346\n",
      "20 0.9130110532378982\n",
      "18 0.47700977655271704\n",
      "18 0.2604923103919594\n",
      "18 0.9159944803568847\n"
     ]
    }
   ],
   "source": [
    "random.seed(0)\n",
    "for i in range(20):\n",
    "    print(random.randint(10, 20), random.random())"
   ]
  },
  {
   "cell_type": "markdown",
   "metadata": {},
   "source": [
    "As you can see, the sequence of random numbers generated is now the same every time."
   ]
  },
  {
   "cell_type": "markdown",
   "metadata": {},
   "source": [
    "What's interesting is that even functions like `shuffle` will shuffle in the same order!\n",
    "\n",
    "Let's see this:"
   ]
  },
  {
   "cell_type": "code",
   "execution_count": 10,
   "metadata": {
    "collapsed": true
   },
   "outputs": [],
   "source": [
    "def generate_random_stuff(seed=None):\n",
    "    random.seed(seed)\n",
    "    results = []\n",
    "    \n",
    "    # randint will generate the same sequence (for same seed)\n",
    "    for _ in range(5):\n",
    "        results.append(random.randint(0, 5))\n",
    "    \n",
    "    # even shuffling generates in the same way (for same seed)\n",
    "    characters = ['a', 'b', 'c']\n",
    "    random.shuffle(characters)\n",
    "    results.append(characters)\n",
    "    \n",
    "    # same with the Gaussian distribution\n",
    "    for _ in range(5):\n",
    "        results.append(random.gauss(0, 1))\n",
    "        \n",
    "    return results"
   ]
  },
  {
   "cell_type": "code",
   "execution_count": 11,
   "metadata": {},
   "outputs": [
    {
     "name": "stdout",
     "output_type": "stream",
     "text": [
      "[4, 3, 2, 0, 5, ['b', 'c', 'a'], 0.2753548343351636, -0.5989933403172317, -0.6515943978936821, 1.7412073870280294, 0.24161779723044724]\n"
     ]
    }
   ],
   "source": [
    "print(generate_random_stuff())"
   ]
  },
  {
   "cell_type": "code",
   "execution_count": 12,
   "metadata": {},
   "outputs": [
    {
     "name": "stdout",
     "output_type": "stream",
     "text": [
      "[3, 5, 1, 5, 3, ['c', 'a', 'b'], -0.6334510789171736, -0.3564859849845763, 0.46562328656890606, -2.1891281426767746, -1.1983958517185107]\n"
     ]
    }
   ],
   "source": [
    "print(generate_random_stuff())"
   ]
  },
  {
   "cell_type": "markdown",
   "metadata": {},
   "source": [
    "Now let's use a seed value:"
   ]
  },
  {
   "cell_type": "code",
   "execution_count": 13,
   "metadata": {},
   "outputs": [
    {
     "name": "stdout",
     "output_type": "stream",
     "text": [
      "[3, 3, 0, 2, 4, ['a', 'c', 'b'], 1.6391095109274887, -0.9249345372119703, 0.9223306019157185, -0.1891931090669293, 0.5456115709634167]\n"
     ]
    }
   ],
   "source": [
    "print(generate_random_stuff(0))"
   ]
  },
  {
   "cell_type": "code",
   "execution_count": 14,
   "metadata": {},
   "outputs": [
    {
     "name": "stdout",
     "output_type": "stream",
     "text": [
      "[3, 3, 0, 2, 4, ['a', 'c', 'b'], 1.6391095109274887, -0.9249345372119703, 0.9223306019157185, -0.1891931090669293, 0.5456115709634167]\n"
     ]
    }
   ],
   "source": [
    "print(generate_random_stuff(0))"
   ]
  },
  {
   "cell_type": "markdown",
   "metadata": {},
   "source": [
    "As long as we use the same seed value the results are repeatable. But if we set different seed values the sequences will be different (but still be the same for the same seed):"
   ]
  },
  {
   "cell_type": "code",
   "execution_count": 15,
   "metadata": {},
   "outputs": [
    {
     "name": "stdout",
     "output_type": "stream",
     "text": [
      "[1, 3, 3, 1, 5, ['a', 'c', 'b'], -1.639893943131093, 0.7278930291928233, -0.4000719319137612, -0.08390378703116254, -0.3013546798244102]\n"
     ]
    }
   ],
   "source": [
    "print(generate_random_stuff(100))"
   ]
  },
  {
   "cell_type": "code",
   "execution_count": 16,
   "metadata": {
    "scrolled": true
   },
   "outputs": [
    {
     "name": "stdout",
     "output_type": "stream",
     "text": [
      "[1, 3, 3, 1, 5, ['a', 'c', 'b'], -1.639893943131093, 0.7278930291928233, -0.4000719319137612, -0.08390378703116254, -0.3013546798244102]\n"
     ]
    }
   ],
   "source": [
    "print(generate_random_stuff(100))"
   ]
  },
  {
   "cell_type": "markdown",
   "metadata": {},
   "source": [
    "Lastly let's see how we would calculate the frequency of randomly generated integers, just to see how even the distribution is.\n",
    "\n",
    "Basically, given a sequence of random integers, we are going to create a dictionary that contains the integers as keys, and the values will the frequency of each:"
   ]
  },
  {
   "cell_type": "code",
   "execution_count": 5,
   "metadata": {},
   "outputs": [],
   "source": [
    "def freq_analysis(lst):\n",
    "    return {k: lst.count(k) for k in set(lst)}"
   ]
  },
  {
   "cell_type": "code",
   "execution_count": 6,
   "metadata": {},
   "outputs": [],
   "source": [
    "lst = [random.randint(0, 10) for _ in range(100)]"
   ]
  },
  {
   "cell_type": "code",
   "execution_count": 7,
   "metadata": {},
   "outputs": [
    {
     "name": "stdout",
     "output_type": "stream",
     "text": [
      "[7, 8, 6, 1, 6, 1, 2, 6, 7, 9, 1, 5, 4, 6, 1, 9, 4, 10, 5, 5, 4, 0, 8, 3, 1, 7, 7, 3, 6, 1, 8, 0, 5, 7, 3, 5, 0, 7, 6, 1, 4, 9, 3, 6, 9, 4, 3, 2, 5, 0, 1, 6, 5, 7, 9, 1, 0, 5, 6, 2, 10, 2, 4, 0, 2, 1, 8, 9, 7, 3, 5, 7, 2, 10, 4, 8, 1, 10, 4, 10, 6, 10, 0, 5, 8, 8, 10, 7, 4, 8, 10, 3, 9, 8, 3, 9, 3, 5, 8, 8]\n"
     ]
    }
   ],
   "source": [
    "print(lst)"
   ]
  },
  {
   "cell_type": "code",
   "execution_count": 11,
   "metadata": {},
   "outputs": [
    {
     "data": {
      "text/plain": [
       "{0: 7, 1: 11, 2: 6, 3: 9, 4: 9, 5: 11, 6: 10, 7: 10, 8: 11, 9: 8, 10: 8}"
      ]
     },
     "execution_count": 11,
     "metadata": {},
     "output_type": "execute_result"
    }
   ],
   "source": [
    "random.seed(0)\n",
    "freq_analysis(lst)"
   ]
  },
  {
   "cell_type": "code",
   "execution_count": 14,
   "metadata": {},
   "outputs": [
    {
     "data": {
      "text/plain": [
       "{0: 90935,\n",
       " 1: 91184,\n",
       " 2: 91002,\n",
       " 3: 91042,\n",
       " 4: 90766,\n",
       " 5: 91072,\n",
       " 6: 90678,\n",
       " 7: 90985,\n",
       " 8: 90409,\n",
       " 9: 91383,\n",
       " 10: 90544}"
      ]
     },
     "execution_count": 14,
     "metadata": {},
     "output_type": "execute_result"
    }
   ],
   "source": [
    "random.seed(0)\n",
    "freq_analysis([random.randint(0, 10) for _ in range(1_000_000)])"
   ]
  },
  {
   "cell_type": "markdown",
   "metadata": {},
   "source": [
    "Of course, it usually pays to know what's in the standard library :-)\n",
    "\n",
    "The collections library has a Counter class that can be used to do this precise thing!"
   ]
  },
  {
   "cell_type": "code",
   "execution_count": 17,
   "metadata": {},
   "outputs": [],
   "source": [
    "from collections import Counter"
   ]
  },
  {
   "cell_type": "code",
   "execution_count": 21,
   "metadata": {},
   "outputs": [
    {
     "data": {
      "text/plain": [
       "Counter({0: 90935,\n",
       "         1: 91184,\n",
       "         2: 91002,\n",
       "         3: 91042,\n",
       "         4: 90766,\n",
       "         5: 91072,\n",
       "         6: 90678,\n",
       "         7: 90985,\n",
       "         8: 90409,\n",
       "         9: 91383,\n",
       "         10: 90544})"
      ]
     },
     "execution_count": 21,
     "metadata": {},
     "output_type": "execute_result"
    }
   ],
   "source": [
    "random.seed(0)\n",
    "Counter([random.randint(0, 10) for _ in range(1_000_000)])"
   ]
  },
  {
   "cell_type": "code",
   "execution_count": null,
   "metadata": {
    "collapsed": true
   },
   "outputs": [],
   "source": []
  }
 ],
 "metadata": {
  "kernelspec": {
   "display_name": "Python 3",
   "language": "python",
   "name": "python3"
  },
  "language_info": {
   "codemirror_mode": {
    "name": "ipython",
    "version": 3
   },
   "file_extension": ".py",
   "mimetype": "text/x-python",
   "name": "python",
   "nbconvert_exporter": "python",
   "pygments_lexer": "ipython3",
   "version": "3.6.2"
  }
 },
 "nbformat": 4,
 "nbformat_minor": 2
}
