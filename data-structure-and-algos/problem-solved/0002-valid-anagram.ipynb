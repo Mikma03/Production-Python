{
 "cells": [
  {
   "attachments": {},
   "cell_type": "markdown",
   "metadata": {},
   "source": [
    "Link: https://leetcode.com/problems/valid-anagram/\n",
    "\n",
    "Given two strings s and t, return true if t is an anagram of s, and false otherwise.\n",
    "\n",
    "An Anagram is a word or phrase formed by rearranging the letters of a different word or phrase, typically using all the original letters exactly once.\n",
    "\n",
    " \n",
    "\n",
    "- Example 1:\n",
    "\n",
    "Input: s = \"anagram\", t = \"nagaram\"\n",
    "Output: true\n",
    "\n",
    "\n",
    "- Example 2:\n",
    "\n",
    "Input: s = \"rat\", t = \"car\"\n",
    "Output: false\n",
    " \n",
    "\n",
    "- Constraints:\n",
    "\n",
    "1 <= s.length, t.length <= 5 * 104\n",
    "s and t consist of lowercase English letters."
   ]
  },
  {
   "cell_type": "code",
   "execution_count": 1,
   "metadata": {},
   "outputs": [
    {
     "name": "stdout",
     "output_type": "stream",
     "text": [
      "True\n",
      "None\n"
     ]
    }
   ],
   "source": [
    "# wrong solution\n",
    "\n",
    "class Solution:\n",
    "    def isAnagram(self, s: str, t: str) -> bool:\n",
    "\n",
    "        hashset_A = set(s)\n",
    "        # print(hashset_A)\n",
    "\n",
    "        hashset_T = set(t)\n",
    "        # print(hashset_T)\n",
    "\n",
    "        if hashset_A == hashset_T:\n",
    "            return True\n",
    "        else:\n",
    "            False\n",
    "\n",
    "\n",
    "if __name__ == '__main__':\n",
    "    s = \"anagramm\"\n",
    "    t = \"nagaram\"\n",
    "    solution = Solution()\n",
    "    print(solution.isAnagram(s, t))\n",
    "\n",
    "    s = \"rat\"\n",
    "    t = \"car\"\n",
    "    print(solution.isAnagram(s, t))"
   ]
  },
  {
   "cell_type": "code",
   "execution_count": 2,
   "metadata": {},
   "outputs": [
    {
     "name": "stdout",
     "output_type": "stream",
     "text": [
      "-----first solution-----\n",
      "{'a': 3, 'n': 1, 'g': 1, 'r': 1, 'm': 1}\n",
      "{'n': 1, 'a': 3, 'g': 1, 'r': 1, 'm': 1}\n",
      "True\n",
      "-----second solution-----\n",
      "{'r': 1, 'a': 1, 't': 1}\n",
      "{'c': 1, 'a': 1, 'r': 1}\n",
      "False\n"
     ]
    }
   ],
   "source": [
    "# correct solution\n",
    "\n",
    "class Solution:\n",
    "    def isAnagram(self, s: str, t: str) -> bool:\n",
    "        if len(s) != len(t):\n",
    "            return False\n",
    "\n",
    "        countS, countT = {}, {}\n",
    "\n",
    "        for i in range(len(s)):\n",
    "            countS[s[i]] = 1 + countS.get(s[i], 0)\n",
    "            countT[t[i]] = 1 + countT.get(t[i], 0)\n",
    "\n",
    "        print(countS)\n",
    "        print(countT)\n",
    "\n",
    "        return countS == countT\n",
    "\n",
    "\n",
    "if __name__ == '__main__':\n",
    "    print(\"-----first solution-----\")\n",
    "    s = \"anagram\"\n",
    "    t = \"nagaram\"\n",
    "    solution = Solution()\n",
    "    print(solution.isAnagram(s, t))\n",
    "\n",
    "    print(\"-----second solution-----\")\n",
    "    s = \"rat\"\n",
    "    t = \"car\"\n",
    "    print(solution.isAnagram(s, t))"
   ]
  },
  {
   "cell_type": "code",
   "execution_count": 3,
   "metadata": {},
   "outputs": [
    {
     "name": "stdout",
     "output_type": "stream",
     "text": [
      "-----first solution-----\n",
      "True\n",
      "-----second solution-----\n",
      "False\n"
     ]
    }
   ],
   "source": [
    "# easy solution\n",
    "\n",
    "from collections import Counter\n",
    "\n",
    "class Solution:\n",
    "    def isAnagram(self, s: str, t: str) -> bool:\n",
    "        \n",
    "        return Counter(s) == Counter(t)\n",
    "\n",
    "if __name__ == '__main__':\n",
    "    print(\"-----first solution-----\")\n",
    "    s = \"anagram\"\n",
    "    t = \"nagaram\"\n",
    "    solution = Solution()\n",
    "    print(solution.isAnagram(s, t))\n",
    "\n",
    "    print(\"-----second solution-----\")\n",
    "    s = \"rat\"\n",
    "    t = \"car\"\n",
    "    print(solution.isAnagram(s, t))"
   ]
  }
 ],
 "metadata": {
  "kernelspec": {
   "display_name": "my-env-quant",
   "language": "python",
   "name": "python3"
  },
  "language_info": {
   "codemirror_mode": {
    "name": "ipython",
    "version": 3
   },
   "file_extension": ".py",
   "mimetype": "text/x-python",
   "name": "python",
   "nbconvert_exporter": "python",
   "pygments_lexer": "ipython3",
   "version": "3.11.0"
  },
  "orig_nbformat": 4
 },
 "nbformat": 4,
 "nbformat_minor": 2
}
