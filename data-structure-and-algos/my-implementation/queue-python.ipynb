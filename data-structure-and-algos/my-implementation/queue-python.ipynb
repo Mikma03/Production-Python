{
 "cells": [
  {
   "attachments": {},
   "cell_type": "markdown",
   "metadata": {},
   "source": [
    "A queue is a linear data structure that follows the First In, First Out (FIFO) principle, meaning that the element added earliest is the first one to be removed. Queues have two primary operations: enqueue (adding an element to the queue) and dequeue (removing the earliest added element). Queues can be implemented using built-in Python data structures like lists or collections.deque, or using custom classes."
   ]
  },
  {
   "cell_type": "code",
   "execution_count": null,
   "metadata": {},
   "outputs": [],
   "source": [
    "# Creating an empty queue using a list:\n",
    "queue = []\n",
    "\n",
    "# Enqueue an element onto the queue:\n",
    "queue.append(1)\n",
    "queue.append(2)\n",
    "queue.append(3)  # Queue: [1, 2, 3]\n",
    "\n",
    "# Dequeue an element from the queue:\n",
    "first_element = queue.pop(0)  # Output: 1; Queue: [2, 3]\n"
   ]
  },
  {
   "attachments": {},
   "cell_type": "markdown",
   "metadata": {},
   "source": [
    "Using a list for queue operations, especially dequeue, is inefficient as removing an element from the beginning of a list takes O(n) time complexity. It is better to use the collections.deque data structure for a more efficient implementation."
   ]
  },
  {
   "cell_type": "code",
   "execution_count": null,
   "metadata": {},
   "outputs": [],
   "source": [
    "# using collections.deque to implement a queue:\n",
    "\n",
    "from collections import deque\n",
    "\n",
    "queue = deque()\n",
    "\n",
    "# Enqueue elements\n",
    "queue.append(1)\n",
    "queue.append(2)\n",
    "queue.append(3)  # Queue: deque([1, 2, 3])\n",
    "\n",
    "# Dequeue elements\n",
    "first_element = queue.popleft()  # Output: 1; Queue: deque([2, 3])\n"
   ]
  },
  {
   "attachments": {},
   "cell_type": "markdown",
   "metadata": {},
   "source": [
    "collections.deque provides an efficient way to implement a queue, as the append and popleft operations have O(1) time complexity."
   ]
  },
  {
   "cell_type": "code",
   "execution_count": null,
   "metadata": {},
   "outputs": [],
   "source": [
    "# implement a queue using a custom class\n",
    "\n",
    "class Queue:\n",
    "    def __init__(self):\n",
    "        self.items = deque()\n",
    "\n",
    "    def enqueue(self, item):\n",
    "        self.items.append(item)\n",
    "\n",
    "    def dequeue(self):\n",
    "        if not self.is_empty():\n",
    "            return self.items.popleft()\n",
    "\n",
    "    def is_empty(self):\n",
    "        return len(self.items) == 0\n",
    "\n",
    "    def size(self):\n",
    "        return len(self.items)\n",
    "\n",
    "    def front(self):\n",
    "        if not self.is_empty():\n",
    "            return self.items[0]\n",
    "\n",
    "# Usage:\n",
    "queue = Queue()\n",
    "queue.enqueue(1)\n",
    "queue.enqueue(2)\n",
    "queue.enqueue(3)\n",
    "front_element = queue.dequeue()  # Output: 1\n",
    "print(queue.front())  # Output: 2\n"
   ]
  }
 ],
 "metadata": {
  "kernelspec": {
   "display_name": "my-env-quant",
   "language": "python",
   "name": "python3"
  },
  "language_info": {
   "name": "python",
   "version": "3.11.0"
  },
  "orig_nbformat": 4
 },
 "nbformat": 4,
 "nbformat_minor": 2
}
