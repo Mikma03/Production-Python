{
 "cells": [
  {
   "attachments": {},
   "cell_type": "markdown",
   "metadata": {},
   "source": [
    "A deque (double-ended queue) is a data structure that allows you to add and remove elements from both ends efficiently. It follows a more generalized principle than stacks (LIFO) or queues (FIFO). Deques can be used to implement both stacks and queues, as well as other data structures that require efficient access to both ends of a collection. In Python, you can use the collections.deque data structure to implement a deque."
   ]
  },
  {
   "cell_type": "code",
   "execution_count": null,
   "metadata": {},
   "outputs": [],
   "source": [
    "from collections import deque\n",
    "\n",
    "# Create an empty deque\n",
    "my_deque = deque()\n",
    "\n",
    "# Add elements to the front of the deque (left side) using appendleft\n",
    "my_deque.appendleft(1)\n",
    "my_deque.appendleft(2)\n",
    "my_deque.appendleft(3)  # Deque: deque([3, 2, 1])\n",
    "\n",
    "# Add elements to the back of the deque (right side) using append:\n",
    "my_deque.append(4)\n",
    "my_deque.append(5)  # Deque: deque([3, 2, 1, 4, 5])\n",
    "\n",
    "# Remove elements from the front of the deque using popleft:\n",
    "front_element = my_deque.popleft()  # Output: 3; Deque: deque([2, 1, 4, 5])\n",
    "\n",
    "# Remove elements from the back of the deque using pop:\n",
    "back_element = my_deque.pop()  # Output: 5; Deque: deque([2, 1, 4])\n",
    "\n",
    "# Get the length of the deque using len:\n",
    "length = len(my_deque)  # Output: 3\n",
    "\n",
    "# Check if the deque is empty:\n",
    "is_empty = len(my_deque) == 0  # Output: False\n",
    "\n",
    "# Get the first element of the deque without removing it using [0]:\n",
    "first_element = my_deque[0]  # Output: 2\n"
   ]
  },
  {
   "cell_type": "code",
   "execution_count": null,
   "metadata": {},
   "outputs": [],
   "source": [
    "# implement a deque using a custom class that uses collections.deque internally:\n",
    "\n",
    "class Deque:\n",
    "    def __init__(self):\n",
    "        self.items = deque()\n",
    "\n",
    "    def append_left(self, item):\n",
    "        self.items.appendleft(item)\n",
    "\n",
    "    def append_right(self, item):\n",
    "        self.items.append(item)\n",
    "\n",
    "    def pop_left(self):\n",
    "        if not self.is_empty():\n",
    "            return self.items.popleft()\n",
    "\n",
    "    def pop_right(self):\n",
    "        if not self.is_empty():\n",
    "            return self.items.pop()\n",
    "\n",
    "    def is_empty(self):\n",
    "        return len(self.items) == 0\n",
    "\n",
    "    def size(self):\n",
    "        return len(self.items)\n",
    "\n",
    "# Usage:\n",
    "my_deque = Deque()\n",
    "my_deque.append_left(1)\n",
    "my_deque.append_right(2)\n",
    "my_deque.append_left(3)\n",
    "front_element = my_deque.pop_left()  # Output: 3\n",
    "back_element = my_deque.pop_right()  # Output: 2\n"
   ]
  },
  {
   "attachments": {},
   "cell_type": "markdown",
   "metadata": {},
   "source": [
    "This custom Deque class wraps collections.deque and provides methods for append_left, append_right, pop_left, pop_right, is_empty, and size. These methods provide the same functionality as the collections.deque methods but encapsulate the deque operations within a custom class, making the code more modular and easier to understand."
   ]
  }
 ],
 "metadata": {
  "language_info": {
   "name": "python"
  },
  "orig_nbformat": 4
 },
 "nbformat": 4,
 "nbformat_minor": 2
}
