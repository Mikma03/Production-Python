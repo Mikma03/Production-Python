{
 "cells": [
  {
   "attachments": {},
   "cell_type": "markdown",
   "metadata": {},
   "source": [
    "A stack is a linear data structure that follows the Last In, First Out (LIFO) principle, meaning that the most recently added element is the first one to be removed. Stacks have two primary operations: push (adding an element to the stack) and pop (removing the most recently added element). Stacks can be implemented using built-in Python data structures like lists or using custom classes."
   ]
  },
  {
   "cell_type": "code",
   "execution_count": null,
   "metadata": {},
   "outputs": [],
   "source": [
    "stack = []\n",
    "\n",
    "# Pushing an element onto the stack\n",
    "stack.append(1)\n",
    "stack.append(2)\n",
    "stack.append(3)  # Stack: [1, 2, 3]\n",
    "\n",
    "# Popping an element off the stack\n",
    "top_element = stack.pop()  # Output: 3; Stack: [1, 2]\n",
    "\n",
    "# Checking if the stack is empty\n",
    "is_empty = len(stack) == 0  # Output: False\n",
    "\n",
    "# Getting the size of the stack\n",
    "stack_size = len(stack)  # Output: 2\n",
    "\n",
    "# Peeking at the top element without popping\n",
    "top_element = stack[-1]  # Output: 2; Stack: [1, 2]\n"
   ]
  },
  {
   "cell_type": "code",
   "execution_count": null,
   "metadata": {},
   "outputs": [],
   "source": [
    "# implement a stack using a custom class\n",
    "\n",
    "class Stack:\n",
    "    def __init__(self):\n",
    "        self.items = []\n",
    "\n",
    "    def push(self, item):\n",
    "        self.items.append(item)\n",
    "    \n",
    "    def is_empty(self) -> bool:\n",
    "        return len(self.items) == 0\n",
    "\n",
    "    def pop(self):\n",
    "        if not self.is_empty():\n",
    "            return self.items.pop()\n",
    "\n",
    "    def size(self) -> int:\n",
    "        return len(self.items)\n",
    "\n",
    "    def peek(self) -> int:\n",
    "        if not self.is_empty():\n",
    "            return self.items[-1]\n",
    "\n",
    "# Usage:\n",
    "stack = Stack()\n",
    "stack.push(1)\n",
    "stack.push(2)\n",
    "stack.push(3)\n",
    "top_element = stack.pop()  # Output: 3\n",
    "print(stack.peek())  # Output: 2\n"
   ]
  },
  {
   "attachments": {},
   "cell_type": "markdown",
   "metadata": {},
   "source": [
    "In this example, we define a Stack class with methods for push, pop, is_empty, size, and peek. These methods provide the same functionality as the list-based implementation, but the stack is now encapsulated in a custom class, which can make the code more modular and easier to understand."
   ]
  }
 ],
 "metadata": {
  "kernelspec": {
   "display_name": "my-env-quant",
   "language": "python",
   "name": "python3"
  },
  "language_info": {
   "name": "python",
   "version": "3.11.0"
  },
  "orig_nbformat": 4
 },
 "nbformat": 4,
 "nbformat_minor": 2
}
