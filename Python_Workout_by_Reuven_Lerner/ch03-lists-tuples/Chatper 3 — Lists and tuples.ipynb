{
 "cells": [
  {
   "cell_type": "markdown",
   "metadata": {},
   "source": [
    "# Exercise 9: Firstlast\n",
    "\n",
    "Write a function, firstlast, that takes a sequence (string,\n",
    "list or tuple) and returns the same type of sequence, but\n",
    "only with two elements — the first and the last from its\n",
    "input."
   ]
  },
  {
   "cell_type": "code",
   "execution_count": 6,
   "metadata": {},
   "outputs": [
    {
     "name": "stdout",
     "output_type": "stream",
     "text": [
      "ac\n",
      "[10, 50]\n",
      "(100, 400)\n"
     ]
    }
   ],
   "source": [
    "def firstlast(s):\n",
    "    return s[:1] + s[-1:]\n",
    "\n",
    "print(firstlast('abc'))  # 'ac'\n",
    "print(firstlast([10, 20, 30, 40, 50]))  # [10, 50]\n",
    "print(firstlast((100, 200, 300, 400)))  # (100, 400)"
   ]
  },
  {
   "cell_type": "markdown",
   "metadata": {},
   "source": [
    "# Exercise 10: Sum anything\n",
    "\n",
    "Sum the passed arguments, which should all be\n",
    "of the same type. The arguments should all handle\n",
    "the + operator. If passed no arguments, then return an\n",
    "empty tuple."
   ]
  },
  {
   "cell_type": "code",
   "execution_count": 9,
   "metadata": {},
   "outputs": [
    {
     "name": "stdout",
     "output_type": "stream",
     "text": [
      "60\n",
      "1500\n"
     ]
    }
   ],
   "source": [
    "def mysum(*items):\n",
    "    if not items:\n",
    "        return items\n",
    "    \n",
    "    output = items[0]\n",
    "    for one_item in items[1:]:\n",
    "        output += one_item\n",
    "    return output\n",
    "\n",
    "print(mysum(10, 20, 30))\n",
    "print(mysum(100, 200, 300, 400, 500))"
   ]
  },
  {
   "cell_type": "code",
   "execution_count": 10,
   "metadata": {},
   "outputs": [
    {
     "name": "stdout",
     "output_type": "stream",
     "text": [
      "abc\n"
     ]
    }
   ],
   "source": [
    "print(mysum('a', 'b', 'c'))"
   ]
  },
  {
   "cell_type": "code",
   "execution_count": 11,
   "metadata": {},
   "outputs": [
    {
     "name": "stdout",
     "output_type": "stream",
     "text": [
      "[10, 20, 30, 40, 50, 60, 70, 80, 90]\n"
     ]
    }
   ],
   "source": [
    "print(mysum([10, 20, 30], [40], [50, 60, 70], [80, 90]))"
   ]
  },
  {
   "cell_type": "markdown",
   "metadata": {},
   "source": [
    "# Exercise 11: Alphabetize names\n",
    "\n",
    "Takes a list of dicts describing people, each with first/last/email\n",
    "as keys. Return a new list of dicts, sorted first by last name\n",
    "and then by first name.\n",
    "\n",
    "If passed an empty list, then return an empty list."
   ]
  },
  {
   "cell_type": "code",
   "execution_count": null,
   "metadata": {},
   "outputs": [],
   "source": [
    "PEOPLE = [{'first': 'Reuven', 'last': 'Lerner',\n",
    "           'email': 'reuven@lerner.co.il'},\n",
    "          {'first': 'Donald', 'last': 'Trump',\n",
    "           'email': 'president@whitehouse.gov'},\n",
    "          {'first': 'Vladimir', 'last': 'Putin',\n",
    "           'email': 'president@kremvax.ru'}\n",
    "          ]\n",
    "\n"
   ]
  },
  {
   "cell_type": "code",
   "execution_count": 13,
   "metadata": {},
   "outputs": [
    {
     "data": {
      "text/plain": [
       "[3, 5, 7, 10, 15]"
      ]
     },
     "execution_count": 13,
     "metadata": {},
     "output_type": "execute_result"
    }
   ],
   "source": [
    "mylist = [10, 5, 7, 3, 15]\n",
    "sorted(mylist)"
   ]
  },
  {
   "cell_type": "code",
   "execution_count": 14,
   "metadata": {},
   "outputs": [
    {
     "data": {
      "text/plain": [
       "[10, 5, 7, 3, 15]"
      ]
     },
     "execution_count": 14,
     "metadata": {},
     "output_type": "execute_result"
    }
   ],
   "source": [
    "mylist"
   ]
  },
  {
   "cell_type": "code",
   "execution_count": 15,
   "metadata": {},
   "outputs": [
    {
     "ename": "TypeError",
     "evalue": "'<' not supported between instances of 'dict' and 'dict'",
     "output_type": "error",
     "traceback": [
      "\u001b[0;31m---------------------------------------------------------------------------\u001b[0m",
      "\u001b[0;31mTypeError\u001b[0m                                 Traceback (most recent call last)",
      "\u001b[0;32m<ipython-input-15-a33ab7055456>\u001b[0m in \u001b[0;36m<module>\u001b[0;34m\u001b[0m\n\u001b[0;32m----> 1\u001b[0;31m \u001b[0msorted\u001b[0m\u001b[0;34m(\u001b[0m\u001b[0mPEOPLE\u001b[0m\u001b[0;34m)\u001b[0m\u001b[0;34m\u001b[0m\u001b[0;34m\u001b[0m\u001b[0m\n\u001b[0m",
      "\u001b[0;31mTypeError\u001b[0m: '<' not supported between instances of 'dict' and 'dict'"
     ]
    }
   ],
   "source": [
    "sorted(PEOPLE)"
   ]
  },
  {
   "cell_type": "code",
   "execution_count": 16,
   "metadata": {},
   "outputs": [
    {
     "data": {
      "text/plain": [
       "['a', 'bunch', 'is', 'of', 'this', 'words']"
      ]
     },
     "execution_count": 16,
     "metadata": {},
     "output_type": "execute_result"
    }
   ],
   "source": [
    "words = 'this is a bunch of words'.split()\n",
    "sorted(words)"
   ]
  },
  {
   "cell_type": "code",
   "execution_count": 17,
   "metadata": {},
   "outputs": [
    {
     "data": {
      "text/plain": [
       "['a', 'is', 'of', 'this', 'bunch', 'words']"
      ]
     },
     "execution_count": 17,
     "metadata": {},
     "output_type": "execute_result"
    }
   ],
   "source": [
    "sorted(words, key=len)"
   ]
  },
  {
   "cell_type": "code",
   "execution_count": 18,
   "metadata": {},
   "outputs": [],
   "source": [
    "PEOPLE = [{'first': 'Reuven', 'last': 'Lerner',\n",
    "           'email': 'reuven@lerner.co.il'},\n",
    "          {'first': 'Donald', 'last': 'Trump',\n",
    "           'email': 'president@whitehouse.gov'},\n",
    "          {'first': 'Vladimir', 'last': 'Putin',\n",
    "           'email': 'president@kremvax.ru'}\n",
    "          ]"
   ]
  },
  {
   "cell_type": "code",
   "execution_count": 19,
   "metadata": {},
   "outputs": [
    {
     "name": "stdout",
     "output_type": "stream",
     "text": [
      "('Lerner', 'Reuven')\n",
      "('Trump', 'Donald')\n",
      "('Putin', 'Vladimir')\n"
     ]
    }
   ],
   "source": [
    "def person_to_tuple(person_dict):\n",
    "    return person_dict['last'], person_dict['first']\n",
    "\n",
    "for one_person in PEOPLE:\n",
    "    print(person_to_tuple(one_person))"
   ]
  },
  {
   "cell_type": "code",
   "execution_count": 20,
   "metadata": {},
   "outputs": [
    {
     "data": {
      "text/plain": [
       "[{'first': 'Reuven', 'last': 'Lerner', 'email': 'reuven@lerner.co.il'},\n",
       " {'first': 'Vladimir', 'last': 'Putin', 'email': 'president@kremvax.ru'},\n",
       " {'first': 'Donald', 'last': 'Trump', 'email': 'president@whitehouse.gov'}]"
      ]
     },
     "execution_count": 20,
     "metadata": {},
     "output_type": "execute_result"
    }
   ],
   "source": [
    "sorted(PEOPLE, key=person_to_tuple)"
   ]
  },
  {
   "cell_type": "code",
   "execution_count": 21,
   "metadata": {},
   "outputs": [
    {
     "name": "stdout",
     "output_type": "stream",
     "text": [
      "('Lerner', 'Reuven')\n",
      "('Trump', 'Donald')\n",
      "('Putin', 'Vladimir')\n"
     ]
    }
   ],
   "source": [
    "from operator import itemgetter\n",
    "\n",
    "person_to_tuple = itemgetter('last', 'first')\n",
    "\n",
    "for one_person in PEOPLE:\n",
    "    print(person_to_tuple(one_person))"
   ]
  },
  {
   "cell_type": "code",
   "execution_count": 27,
   "metadata": {},
   "outputs": [],
   "source": [
    "def alphabetize_names(list_of_dicts):\n",
    "    return sorted(PEOPLE, key=itemgetter('first', 'last'))"
   ]
  },
  {
   "cell_type": "code",
   "execution_count": 28,
   "metadata": {},
   "outputs": [
    {
     "data": {
      "text/plain": [
       "[{'first': 'Donald', 'last': 'Trump', 'email': 'president@whitehouse.gov'},\n",
       " {'first': 'Reuven', 'last': 'Lerner', 'email': 'reuven@lerner.co.il'},\n",
       " {'first': 'Vladimir', 'last': 'Putin', 'email': 'president@kremvax.ru'}]"
      ]
     },
     "execution_count": 28,
     "metadata": {},
     "output_type": "execute_result"
    }
   ],
   "source": [
    "alphabetize_names(PEOPLE)"
   ]
  },
  {
   "cell_type": "markdown",
   "metadata": {},
   "source": [
    "# Exercise 12: Most repeating letters\n",
    "\n",
    "Write a function, most_repeating_word, which takes a list of strings.\n",
    "It should return the word that has the greatest number of repeated \n",
    "letters."
   ]
  },
  {
   "cell_type": "code",
   "execution_count": 9,
   "metadata": {},
   "outputs": [
    {
     "data": {
      "text/plain": [
       "'elementary'"
      ]
     },
     "execution_count": 9,
     "metadata": {},
     "output_type": "execute_result"
    }
   ],
   "source": [
    "WORDS = ['this', 'is', 'an', 'elementary', 'test', 'example']\n",
    "    \n",
    "# this - 0\n",
    "# is - 0\n",
    "# an - 0\n",
    "# elementary - e 3\n",
    "# test - 2\n",
    "# example - 2\n",
    "\n",
    "from collections import Counter\n",
    "\n",
    "def most_repeating_letter_count(word):\n",
    "    return Counter(word).most_common(1)[0][1]\n",
    "\n",
    "# most_repeating_letter_count('elementary')\n",
    "\n",
    "def most_repeating_word(words):\n",
    "    return max(words, key=most_repeating_letter_count)\n",
    "    \n",
    "most_repeating_word(WORDS)"
   ]
  },
  {
   "cell_type": "markdown",
   "metadata": {},
   "source": [
    "# Exercise 13: Format tuple records\n",
    "\n",
    "Write a function, format_sort_records, that takes\n",
    "a list of tuples. It returns a string in which the \n",
    "tuples are displayed in order of last name and\n",
    "first name, with the distance displayed, as well."
   ]
  },
  {
   "cell_type": "code",
   "execution_count": 47,
   "metadata": {},
   "outputs": [
    {
     "data": {
      "text/plain": [
       "'Putin      Vladimir    3.63\\nTrump      Donald      7.85\\nXi         Jinping    10.60'"
      ]
     },
     "execution_count": 47,
     "metadata": {},
     "output_type": "execute_result"
    }
   ],
   "source": [
    "from operator import itemgetter\n",
    "\n",
    "PEOPLE = [('Donald', 'Trump', 7.85),\n",
    "          ('Vladimir', 'Putin', 3.626),\n",
    "          ('Jinping', 'Xi', 10.603)]\n",
    "\n",
    "def format_sort_records(list_of_tuples):\n",
    "    output = []\n",
    "    template = '{1:10} {0:10} {2:5.2f}'\n",
    "    \n",
    "    for one_person in sorted(list_of_tuples, key=itemgetter(1, 0)):\n",
    "        output.append(template.format(*one_person))\n",
    "    \n",
    "    return output\n",
    "\n",
    "'\\n'.join(format_sort_records(PEOPLE))"
   ]
  },
  {
   "cell_type": "code",
   "execution_count": 48,
   "metadata": {},
   "outputs": [
    {
     "name": "stdout",
     "output_type": "stream",
     "text": [
      "Putin      Vladimir    3.63\n",
      "Trump      Donald      7.85\n",
      "Xi         Jinping    10.60\n"
     ]
    }
   ],
   "source": [
    "print('\\n'.join(format_sort_records(PEOPLE)))"
   ]
  },
  {
   "cell_type": "code",
   "execution_count": 50,
   "metadata": {},
   "outputs": [
    {
     "name": "stdout",
     "output_type": "stream",
     "text": [
      "Putin      Vladimir    3.63\n",
      "Trump      Donald      7.85\n",
      "Xi         Jinping    10.60\n"
     ]
    }
   ],
   "source": [
    "from operator import itemgetter\n",
    "\n",
    "PEOPLE = [('Donald', 'Trump', 7.85),\n",
    "          ('Vladimir', 'Putin', 3.626),\n",
    "          ('Jinping', 'Xi', 10.603)]\n",
    "\n",
    "def format_sort_records(list_of_tuples):\n",
    "    output = []\n",
    "    template = '{1:10} {0:10} {2:5.2f}'\n",
    "    \n",
    "    for one_person in sorted(list_of_tuples, key=itemgetter(2)):\n",
    "        output.append(template.format(*one_person))\n",
    "    \n",
    "    return output\n",
    "\n",
    "print('\\n'.join(format_sort_records(PEOPLE)))"
   ]
  },
  {
   "cell_type": "code",
   "execution_count": null,
   "metadata": {},
   "outputs": [],
   "source": []
  }
 ],
 "metadata": {
  "kernelspec": {
   "display_name": "Python 3",
   "language": "python",
   "name": "python3"
  },
  "language_info": {
   "codemirror_mode": {
    "name": "ipython",
    "version": 3
   },
   "file_extension": ".py",
   "mimetype": "text/x-python",
   "name": "python",
   "nbconvert_exporter": "python",
   "pygments_lexer": "ipython3",
   "version": "3.8.3"
  }
 },
 "nbformat": 4,
 "nbformat_minor": 2
}
