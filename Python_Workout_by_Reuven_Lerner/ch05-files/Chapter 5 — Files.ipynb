{
 "cells": [
  {
   "cell_type": "markdown",
   "metadata": {},
   "source": [
    "# Exercise 18: Final line\n",
    "\n",
    "Given a filename, return the final line in that file."
   ]
  },
  {
   "cell_type": "code",
   "execution_count": 1,
   "metadata": {},
   "outputs": [
    {
     "data": {
      "text/plain": [
       "'_driverkit:*:270:270:DriverKit:/var/empty:/usr/bin/false\\n'"
      ]
     },
     "execution_count": 1,
     "metadata": {},
     "output_type": "execute_result"
    }
   ],
   "source": [
    "def get_final_line(filename):\n",
    "    final_line = ''\n",
    "    for one_line in open(filename):\n",
    "        final_line = one_line\n",
    "    return final_line\n",
    "\n",
    "get_final_line('/etc/passwd')\n",
    "        "
   ]
  },
  {
   "cell_type": "code",
   "execution_count": 2,
   "metadata": {},
   "outputs": [
    {
     "name": "stdout",
     "output_type": "stream",
     "text": [
      "_driverkit:*:270:270:DriverKit:/var/empty:/usr/bin/false\r\n"
     ]
    }
   ],
   "source": [
    "!tail -1 /etc/passwd"
   ]
  },
  {
   "cell_type": "markdown",
   "metadata": {},
   "source": [
    "# Exercise 19: /etc/passwd to dict\n",
    "\n",
    "Write a function, `passwd_to_dict`, that takes a filename as an argument. The file is assumed to be in Unix-style \"passwd\" format. The function should return a dict in which the keys are usernames and the values are user IDs."
   ]
  },
  {
   "cell_type": "code",
   "execution_count": 4,
   "metadata": {},
   "outputs": [
    {
     "name": "stdout",
     "output_type": "stream",
     "text": [
      "# This is a comment\r\n",
      "# You should ignore me\r\n",
      "root:x:0:0:root:/root:/bin/bash\r\n",
      "daemon:x:1:1:daemon:/usr/sbin:/usr/sbin/nologin\r\n",
      "bin:x:2:2:bin:/bin:/usr/sbin/nologin\r\n",
      "sys:x:3:3:sys:/dev:/usr/sbin/nologin\r\n",
      "sync:x:4:65534:sync:/bin:/bin/sync\r\n",
      "games:x:5:60:games:/usr/games:/usr/sbin/nologin\r\n",
      "man:x:6:12:man:/var/cache/man:/usr/sbin/nologin\r\n",
      "lp:x:7:7:lp:/var/spool/lpd:/usr/sbin/nologin\r\n"
     ]
    }
   ],
   "source": [
    "!head -10 linux-etc-passwd.txt"
   ]
  },
  {
   "cell_type": "code",
   "execution_count": 9,
   "metadata": {},
   "outputs": [
    {
     "data": {
      "text/plain": [
       "{'root': 0,\n",
       " 'daemon': 1,\n",
       " 'bin': 2,\n",
       " 'sys': 3,\n",
       " 'sync': 4,\n",
       " 'games': 5,\n",
       " 'man': 6,\n",
       " 'lp': 7,\n",
       " 'mail': 8,\n",
       " 'news': 9,\n",
       " 'uucp': 10,\n",
       " 'proxy': 13,\n",
       " 'www-data': 33,\n",
       " 'backup': 34,\n",
       " 'list': 38,\n",
       " 'irc': 39,\n",
       " 'gnats': 41,\n",
       " 'nobody': 65534,\n",
       " 'syslog': 101,\n",
       " 'messagebus': 102,\n",
       " 'landscape': 103,\n",
       " 'jci': 955,\n",
       " 'sshd': 104,\n",
       " 'user': 1000,\n",
       " 'reuven': 1001,\n",
       " 'postfix': 105,\n",
       " 'colord': 106,\n",
       " 'postgres': 107,\n",
       " 'dovecot': 108,\n",
       " 'dovenull': 109,\n",
       " 'postgrey': 110,\n",
       " 'debian-spamd': 111,\n",
       " 'memcache': 113,\n",
       " 'genadi': 1002,\n",
       " 'shira': 1003,\n",
       " 'atara': 1004,\n",
       " 'shikma': 1005,\n",
       " 'amotz': 1006,\n",
       " 'mysql': 114,\n",
       " 'clamav': 115,\n",
       " 'amavis': 116,\n",
       " 'opendkim': 117,\n",
       " 'gitlab-redis': 999,\n",
       " 'gitlab-psql': 998,\n",
       " 'git': 1007,\n",
       " 'opendmarc': 118,\n",
       " 'dkim-milter-python': 119,\n",
       " 'deploy': 1008,\n",
       " 'redis': 112}"
      ]
     },
     "execution_count": 9,
     "metadata": {},
     "output_type": "execute_result"
    }
   ],
   "source": [
    "def passwd_to_dict(filename):\n",
    "    users = {}\n",
    "    with open(filename) as passwd:\n",
    "        for one_line in passwd:\n",
    "            if one_line.startswith(('#', '\\n')):\n",
    "                continue\n",
    "            user_info = one_line.split(':')\n",
    "            users[user_info[0]] = int(user_info[2])\n",
    "    return users\n",
    "\n",
    "passwd_to_dict('linux-etc-passwd.txt')"
   ]
  },
  {
   "cell_type": "code",
   "execution_count": 10,
   "metadata": {},
   "outputs": [
    {
     "data": {
      "text/plain": [
       "{'root': 0,\n",
       " 'daemon': 1,\n",
       " 'bin': 2,\n",
       " 'sys': 3,\n",
       " 'sync': 4,\n",
       " 'games': 5,\n",
       " 'man': 6,\n",
       " 'lp': 7,\n",
       " 'mail': 8,\n",
       " 'news': 9,\n",
       " 'uucp': 10,\n",
       " 'proxy': 13,\n",
       " 'www-data': 33,\n",
       " 'backup': 34,\n",
       " 'list': 38,\n",
       " 'irc': 39,\n",
       " 'gnats': 41,\n",
       " 'nobody': 65534,\n",
       " 'syslog': 101,\n",
       " 'messagebus': 102,\n",
       " 'landscape': 103,\n",
       " 'jci': 955,\n",
       " 'sshd': 104,\n",
       " 'user': 1000,\n",
       " 'reuven': 1001,\n",
       " 'postfix': 105,\n",
       " 'colord': 106,\n",
       " 'postgres': 107,\n",
       " 'dovecot': 108,\n",
       " 'dovenull': 109,\n",
       " 'postgrey': 110,\n",
       " 'debian-spamd': 111,\n",
       " 'memcache': 113,\n",
       " 'genadi': 1002,\n",
       " 'shira': 1003,\n",
       " 'atara': 1004,\n",
       " 'shikma': 1005,\n",
       " 'amotz': 1006,\n",
       " 'mysql': 114,\n",
       " 'clamav': 115,\n",
       " 'amavis': 116,\n",
       " 'opendkim': 117,\n",
       " 'gitlab-redis': 999,\n",
       " 'gitlab-psql': 998,\n",
       " 'git': 1007,\n",
       " 'opendmarc': 118,\n",
       " 'dkim-milter-python': 119,\n",
       " 'deploy': 1008,\n",
       " 'redis': 112}"
      ]
     },
     "execution_count": 10,
     "metadata": {},
     "output_type": "execute_result"
    }
   ],
   "source": [
    "def passwd_to_dict(filename):\n",
    "    return { \n",
    "        one_line.split(':')[0]  :   int(one_line.split(':')[2])\n",
    "        for one_line in open(filename)\n",
    "        if not onem_line.startswith(('#', '\\n'))\n",
    "    }\n",
    "\n",
    "passwd_to_dict('linux-etc-passwd.txt')"
   ]
  },
  {
   "cell_type": "markdown",
   "metadata": {},
   "source": [
    "# Exercise 20: Word count\n",
    "\n",
    "Write a function, `wc`, that takes a filename.  The function should analyze the file and print four pieces of information about it:\n",
    "\n",
    "- Number of characters (including whitespace)\n",
    "- Number of words (separated by whitespace)\n",
    "- Number of lines\n",
    "- Number of unique words (case sensitive, so `NO` is different from `no`"
   ]
  },
  {
   "cell_type": "code",
   "execution_count": 11,
   "metadata": {},
   "outputs": [
    {
     "name": "stdout",
     "output_type": "stream",
     "text": [
      "This is a test file.\r\n",
      "\r\n",
      "It contains 28 words and 20 different words.\r\n",
      "\r\n",
      "It also contains 165 characters.\r\n",
      "\r\n",
      "It also contains 11 lines.\r\n",
      "\r\n",
      "It is also self-referential.\r\n",
      "\r\n",
      "Wow!\r\n"
     ]
    }
   ],
   "source": [
    "!cat wcfile.txt"
   ]
  },
  {
   "cell_type": "code",
   "execution_count": 12,
   "metadata": {},
   "outputs": [
    {
     "name": "stdout",
     "output_type": "stream",
     "text": [
      " 11  28 165 wcfile.txt\r\n"
     ]
    }
   ],
   "source": [
    "!wc wcfile.txt"
   ]
  },
  {
   "cell_type": "code",
   "execution_count": 13,
   "metadata": {},
   "outputs": [],
   "source": [
    "def wc(filename):\n",
    "    counts = {'characters':0,\n",
    "             'words':0,\n",
    "             'lines':0}\n",
    "    unique_words = set()\n",
    "    \n",
    "    for one_line in open(filename):\n",
    "        counts['lines'] += 1\n",
    "        counts['characters'] += len(one_line)\n",
    "        counts['words'] += len(one_line.split())\n",
    "        \n",
    "        unique_words.update(one_line.split())\n",
    "        \n",
    "    counts['unique words'] = len(unique_words)\n",
    "    \n",
    "    for key, value in counts.items():\n",
    "        print(f'{key}: {value}')\n",
    "    "
   ]
  },
  {
   "cell_type": "code",
   "execution_count": 14,
   "metadata": {},
   "outputs": [
    {
     "name": "stdout",
     "output_type": "stream",
     "text": [
      "characters: 165\n",
      "words: 28\n",
      "lines: 11\n",
      "unique words: 20\n"
     ]
    }
   ],
   "source": [
    "wc('wcfile.txt')"
   ]
  },
  {
   "cell_type": "markdown",
   "metadata": {},
   "source": [
    "# Exercise 21: Longest word per file\n",
    "\n",
    "Write two functions. `find_longest_word` takes a filename as an argument, and returns the longest word found in the file. `find_all_longest_words` takes a directory name and returns a dict in which the keys are filenames and the values are the longest words from each file."
   ]
  },
  {
   "cell_type": "code",
   "execution_count": 18,
   "metadata": {},
   "outputs": [],
   "source": [
    "def find_longest_word(filename):\n",
    "    longest_word = ''\n",
    "    try:\n",
    "        for one_line in open(filename):\n",
    "            for one_word in one_line.split():\n",
    "                if len(one_word) > len(longest_word):\n",
    "                    longest_word = one_word\n",
    "    except (OSError, UnicodeDecodeError) as e:\n",
    "        print(f'Ignoring {filename}: {e}')\n",
    "    return longest_word"
   ]
  },
  {
   "cell_type": "code",
   "execution_count": 16,
   "metadata": {},
   "outputs": [
    {
     "data": {
      "text/plain": [
       "'self-referential.'"
      ]
     },
     "execution_count": 16,
     "metadata": {},
     "output_type": "execute_result"
    }
   ],
   "source": [
    "find_longest_word('wcfile.txt')"
   ]
  },
  {
   "cell_type": "code",
   "execution_count": 19,
   "metadata": {},
   "outputs": [
    {
     "name": "stdout",
     "output_type": "stream",
     "text": [
      "Ignoring ./.coverage: 'utf-8' codec can't decode byte 0xd9 in position 99: invalid continuation byte\n"
     ]
    },
    {
     "data": {
      "text/plain": [
       "{'test_e22_passwd_to_csv.py': 'daemon:x:1:1:daemon:/usr/sbin:/usr/sbin/nologin',\n",
       " 'test_e24_reverse_lines.py~': 'e24_reverse_lines',\n",
       " 'test_e21_longest_word.py': 'find_all_longest_words(tmp_path)',\n",
       " 'e23_test_scores.py': 'scores[filename][subject].append(score)',\n",
       " 'mini-access-log.txt': '\"http://www.google.co.uk/search?hl=en&q=%22netlogo%22+sokoban&btnG=Search&meta=&aq=f&oq=\"',\n",
       " 'e19_passwd_to_dict.py': 'passwd_to_dict(filename):',\n",
       " '23_test_scores.py~': 'scores[filename][subject].append(score)',\n",
       " 'e24_reverse_lines.py': \"outfile.write(f'{one_line.rstrip()[::-1]}\\\\n')\",\n",
       " 'nums.txt': '10',\n",
       " 'test_e23_test_scores.py~': '',\n",
       " 'e18_final_line.py': 'get_final_line(filename):',\n",
       " 'e20_wc.py': 'unique_words.update(one_line.split())',\n",
       " '.coverage': '',\n",
       " 'shoe-data.txt': 'Balance',\n",
       " 'linux-etc-passwd.txt': 'dkim-milter-python:x:119:130::/var/run/dkim-milter-python:/bin/false',\n",
       " 'output.csv': 'daemon',\n",
       " 'test_e22_passwd_to_csv.py~': '',\n",
       " 'e22_passwd_to_csv.py': 'passwd_to_csv(passwd_filename,',\n",
       " 'test_e20_wc.py~': \"f.write_text('''root:x:0:0:root:/root:/bin/bash\",\n",
       " 'wcfile.txt': 'self-referential.',\n",
       " 'test_e24_reverse_lines.py': 'test_reversing_lines(big_file):',\n",
       " 'test_e18_final_line.py~': 'how_many_different_numbers([10,',\n",
       " 'test_e23_test_scores.py': 'score_file_1(tmp_path):',\n",
       " 'test_e21_longest_word.py~': 'test_simple(simple_file,',\n",
       " 'test_e19_passwd_to_dict.py~': \"f.write_text('abcd\\\\nefgh\\\\nijkl\\\\n')\",\n",
       " 'test_e20_wc.py': 'test_simple(simple_file,',\n",
       " 'e21_longest_word.py': 'find_longest_word(os.path.join(dirname,',\n",
       " 'test_e18_final_line.py': \"f.write_text('abcd\\\\nefgh\\\\nijkl\\\\n')\",\n",
       " '20_wc.py~': 'unique_words.update(one_line.split())',\n",
       " 'output.txt': 'aidepolcycne',\n",
       " 'Chapter 5 — Files.ipynb': '\"\\'_driverkit:*:270:270:DriverKit:/var/empty:/usr/bin/false\\\\\\\\n\\'\"',\n",
       " 'test_e19_passwd_to_dict.py': \"f.write_text('''root:x:0:0:root:/root:/bin/bash\"}"
      ]
     },
     "execution_count": 19,
     "metadata": {},
     "output_type": "execute_result"
    }
   ],
   "source": [
    "import os\n",
    "\n",
    "def find_all_longest_words(dirname):\n",
    "    return {filename : find_longest_word(os.path.join(dirname, filename))\n",
    "            for filename in os.listdir(dirname)\n",
    "            if os.path.isfile(os.path.join(dirname, filename))\n",
    "           }\n",
    "\n",
    "find_all_longest_words('.')"
   ]
  },
  {
   "cell_type": "markdown",
   "metadata": {},
   "source": [
    "# Exercise 22: passwd to CSV\n",
    "\n",
    "Write a function, `passwd_to_csv`, that takes two arguments — a passwd-style file from which to read, and the name of a CSV file to which we'll write.  The output file should contain the username and user ID (indexes 0 and 2) from each legitimate line in the passwd file."
   ]
  },
  {
   "cell_type": "code",
   "execution_count": 20,
   "metadata": {},
   "outputs": [
    {
     "name": "stdout",
     "output_type": "stream",
     "text": [
      "# This is a comment\r\n",
      "# You should ignore me\r\n",
      "root:x:0:0:root:/root:/bin/bash\r\n",
      "daemon:x:1:1:daemon:/usr/sbin:/usr/sbin/nologin\r\n",
      "bin:x:2:2:bin:/bin:/usr/sbin/nologin\r\n",
      "sys:x:3:3:sys:/dev:/usr/sbin/nologin\r\n",
      "sync:x:4:65534:sync:/bin:/bin/sync\r\n",
      "games:x:5:60:games:/usr/games:/usr/sbin/nologin\r\n",
      "man:x:6:12:man:/var/cache/man:/usr/sbin/nologin\r\n",
      "lp:x:7:7:lp:/var/spool/lpd:/usr/sbin/nologin\r\n"
     ]
    }
   ],
   "source": [
    "!head linux-etc-passwd.txt"
   ]
  },
  {
   "cell_type": "code",
   "execution_count": 22,
   "metadata": {},
   "outputs": [],
   "source": [
    "import csv\n",
    "\n",
    "def passwd_to_csv(passwd_filename, csv_filename):\n",
    "    with open(passwd_filename) as passwd, open(csv_filename, 'w') as output:\n",
    "        infile = csv.reader(passwd, delimiter=':')\n",
    "        outfile = csv.writer(output, delimiter='\\t')\n",
    "        \n",
    "        for one_record in infile:\n",
    "            if len(one_record) > 1:\n",
    "                outfile.writerow((one_record[0], one_record[2]))\n",
    "            \n",
    "passwd_to_csv('linux-etc-passwd.txt', 'passwd.csv')"
   ]
  },
  {
   "cell_type": "code",
   "execution_count": 23,
   "metadata": {},
   "outputs": [
    {
     "name": "stdout",
     "output_type": "stream",
     "text": [
      "root\t0\r",
      "\r\n",
      "daemon\t1\r",
      "\r\n",
      "bin\t2\r",
      "\r\n",
      "sys\t3\r",
      "\r\n",
      "sync\t4\r",
      "\r\n",
      "games\t5\r",
      "\r\n",
      "man\t6\r",
      "\r\n",
      "lp\t7\r",
      "\r\n",
      "mail\t8\r",
      "\r\n",
      "news\t9\r",
      "\r\n",
      "uucp\t10\r",
      "\r\n",
      "proxy\t13\r",
      "\r\n",
      "www-data\t33\r",
      "\r\n",
      "backup\t34\r",
      "\r\n",
      "list\t38\r",
      "\r\n",
      "irc\t39\r",
      "\r\n",
      "gnats\t41\r",
      "\r\n",
      "nobody\t65534\r",
      "\r\n",
      "syslog\t101\r",
      "\r\n",
      "messagebus\t102\r",
      "\r\n",
      "landscape\t103\r",
      "\r\n",
      "jci\t955\r",
      "\r\n",
      "sshd\t104\r",
      "\r\n",
      "user\t1000\r",
      "\r\n",
      "reuven\t1001\r",
      "\r\n",
      "postfix\t105\r",
      "\r\n",
      "colord\t106\r",
      "\r\n",
      "postgres\t107\r",
      "\r\n",
      "dovecot\t108\r",
      "\r\n",
      "dovenull\t109\r",
      "\r\n",
      "postgrey\t110\r",
      "\r\n",
      "debian-spamd\t111\r",
      "\r\n",
      "memcache\t113\r",
      "\r\n",
      "genadi\t1002\r",
      "\r\n",
      "shira\t1003\r",
      "\r\n",
      "atara\t1004\r",
      "\r\n",
      "shikma\t1005\r",
      "\r\n",
      "amotz\t1006\r",
      "\r\n",
      "mysql\t114\r",
      "\r\n",
      "clamav\t115\r",
      "\r\n",
      "amavis\t116\r",
      "\r\n",
      "opendkim\t117\r",
      "\r\n",
      "gitlab-redis\t999\r",
      "\r\n",
      "gitlab-psql\t998\r",
      "\r\n",
      "git\t1007\r",
      "\r\n",
      "opendmarc\t118\r",
      "\r\n",
      "dkim-milter-python\t119\r",
      "\r\n",
      "deploy\t1008\r",
      "\r\n",
      "redis\t112\r",
      "\r\n"
     ]
    }
   ],
   "source": [
    "!cat passwd.csv"
   ]
  },
  {
   "cell_type": "markdown",
   "metadata": {},
   "source": [
    "# Exercise 23: JSON\n",
    "\n",
    "Assume that a directory contains a number of JSON files. Each file contains\n",
    "test scores for a different class, as a JSON array of objects.  \n",
    "\n",
    "Write a function, `print_scores`, that takes a directory name, and for each\n",
    "JSON file in that directory, prints the min, max, and average score for each subject."
   ]
  },
  {
   "cell_type": "code",
   "execution_count": 29,
   "metadata": {},
   "outputs": [
    {
     "name": "stdout",
     "output_type": "stream",
     "text": [
      "9a.json  9b.json  json-files.zip\r\n"
     ]
    }
   ],
   "source": [
    "!ls scores"
   ]
  },
  {
   "cell_type": "code",
   "execution_count": 30,
   "metadata": {},
   "outputs": [
    {
     "name": "stdout",
     "output_type": "stream",
     "text": [
      "[{\"math\" : 90, \"literature\" : 98, \"science\" : 97},\r\n",
      " {\"math\" : 65, \"literature\" : 79, \"science\" : 85},\r\n",
      " {\"math\" : 78, \"literature\" : 83, \"science\" : 75},\r\n",
      " {\"math\" : 92, \"literature\" : 78, \"science\" : 85},\r\n",
      " {\"math\" : 100, \"literature\" : 80, \"science\" : 90}\r\n",
      "]\r\n"
     ]
    }
   ],
   "source": [
    "!cat scores/9a.json"
   ]
  },
  {
   "cell_type": "code",
   "execution_count": 35,
   "metadata": {},
   "outputs": [
    {
     "name": "stdout",
     "output_type": "stream",
     "text": [
      "scores/9b.json\n",
      "math\n",
      "\tmin 68\n",
      "\tmax 100\n",
      "\taverage 85.6\n",
      "literature\n",
      "\tmin 75\n",
      "\tmax 92\n",
      "\taverage 84.0\n",
      "science\n",
      "\tmin 79\n",
      "\tmax 100\n",
      "\taverage 90.4\n",
      "scores/9a.json\n",
      "math\n",
      "\tmin 65\n",
      "\tmax 100\n",
      "\taverage 85.0\n",
      "literature\n",
      "\tmin 78\n",
      "\tmax 98\n",
      "\taverage 83.6\n",
      "science\n",
      "\tmin 75\n",
      "\tmax 97\n",
      "\taverage 86.4\n"
     ]
    }
   ],
   "source": [
    "import json\n",
    "import glob\n",
    "\n",
    "def print_scores(dirname):\n",
    "    scores = {}\n",
    "    for filename in glob.glob(f'{dirname}/*.json'):\n",
    "        scores[filename] = {}\n",
    "        \n",
    "        with open(filename) as infile:\n",
    "            for result in json.load(infile):\n",
    "                for subject, score in result.items():\n",
    "                    scores[filename].setdefault(subject, [])\n",
    "                    scores[filename][subject].append(score)\n",
    "\n",
    "    for one_class in scores:\n",
    "        print(one_class)\n",
    "        for subject, subject_scores in scores[one_class].items():\n",
    "            min_score = min(subject_scores)\n",
    "            max_score = max(subject_scores)\n",
    "            average_score = sum(subject_scores) / len(subject_scores)\n",
    "        \n",
    "            print(subject)\n",
    "            print(f'\\tmin {min_score}')\n",
    "            print(f'\\tmax {max_score}')\n",
    "            print(f'\\taverage {average_score}')\n",
    "                \n",
    "        \n",
    "print_scores('scores')"
   ]
  },
  {
   "cell_type": "markdown",
   "metadata": {},
   "source": [
    "# Exercise 24: Reverse lines\n",
    "\n",
    "Write a function, `reverse_lines`, that takes two filenames (one for input\n",
    "and one for output). The output file will be identical to the input file,\n",
    "except that each line will be reversed."
   ]
  },
  {
   "cell_type": "code",
   "execution_count": 36,
   "metadata": {},
   "outputs": [],
   "source": [
    "def reverse_lines(infilename, outfilename):\n",
    "    with open(infilename) as infile, open(outfilename, 'w') as outfile:\n",
    "        for one_line in infile:\n",
    "            outfile.write(f'{one_line.rstrip()[::-1]}\\n')\n",
    "            \n",
    "            "
   ]
  },
  {
   "cell_type": "code",
   "execution_count": 37,
   "metadata": {},
   "outputs": [],
   "source": [
    "reverse_lines('/etc/passwd', 'reverse_passwd.txt')"
   ]
  },
  {
   "cell_type": "code",
   "execution_count": 38,
   "metadata": {},
   "outputs": [
    {
     "name": "stdout",
     "output_type": "stream",
     "text": [
      "##\r\n",
      "esabataD resU #\r\n",
      "#\r\n",
      "gninnur si metsys eht nehw ylno yltcerid detlusnoc si elif siht taht etoN #\r\n",
      "yb dedivorp si noitamrofni siht semit rehto tA  .edom resu-elgnis ni #\r\n",
      ".yrotceriD nepO #\r\n",
      "#\r\n",
      "tuoba noitamrofni lanoitidda rof egap nam )8(dyrotceridnepo eht eeS #\r\n",
      ".yrotceriD nepO #\r\n",
      "##\r\n"
     ]
    }
   ],
   "source": [
    "!head reverse_passwd.txt"
   ]
  },
  {
   "cell_type": "code",
   "execution_count": null,
   "metadata": {},
   "outputs": [],
   "source": []
  }
 ],
 "metadata": {
  "kernelspec": {
   "display_name": "Python 3",
   "language": "python",
   "name": "python3"
  },
  "language_info": {
   "codemirror_mode": {
    "name": "ipython",
    "version": 3
   },
   "file_extension": ".py",
   "mimetype": "text/x-python",
   "name": "python",
   "nbconvert_exporter": "python",
   "pygments_lexer": "ipython3",
   "version": "3.8.3"
  }
 },
 "nbformat": 4,
 "nbformat_minor": 2
}
