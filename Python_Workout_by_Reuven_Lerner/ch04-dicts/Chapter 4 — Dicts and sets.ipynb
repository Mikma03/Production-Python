{
 "cells": [
  {
   "cell_type": "markdown",
   "metadata": {},
   "source": [
    "# Exercise 14: Restaurant\n",
    "\n",
    "Ask the user to enter their dining preferences, one by one, based on the global MENU dict. \n",
    "\n",
    "- If the user enters an empty string, stop asking and print the total bill.\n",
    "- If the user enters something on the menu (i.e., a key in `MENU`), then print the price and the total.\n",
    "- If the user enters something not on the menu, the tell them the item isn't available."
   ]
  },
  {
   "cell_type": "code",
   "execution_count": 1,
   "metadata": {},
   "outputs": [],
   "source": [
    "MENU = {'sandwich':10, 'tea':7, 'salad':9}\n",
    "\n",
    "def restaurant():\n",
    "    total = 0\n",
    "    \n",
    "    while True:\n",
    "        order = input(\"Enter your order: \").strip()\n",
    "        \n",
    "        if not order:\n",
    "            break\n",
    "            \n",
    "        if order in MENU:\n",
    "            price = MENU[order]\n",
    "            total += price\n",
    "            print(f'{order} costs {price}, total is now {total}')\n",
    "            \n",
    "        else:\n",
    "            print(f'We are fresh out of {order} today.')\n",
    "            \n",
    "    print(f'Your total is {total}')"
   ]
  },
  {
   "cell_type": "code",
   "execution_count": 2,
   "metadata": {},
   "outputs": [
    {
     "name": "stdout",
     "output_type": "stream",
     "text": [
      "Enter your order: sandwich\n",
      "sandwich costs 10, total is now 10\n",
      "Enter your order: tea\n",
      "tea costs 7, total is now 17\n",
      "Enter your order: salad\n",
      "salad costs 9, total is now 26\n",
      "Enter your order: sandwich\n",
      "sandwich costs 10, total is now 36\n",
      "Enter your order: elephant\n",
      "We are fresh out of elephant today.\n",
      "Enter your order: \n",
      "Your total is 36\n"
     ]
    }
   ],
   "source": [
    "restaurant()"
   ]
  },
  {
   "cell_type": "markdown",
   "metadata": {},
   "source": [
    "# Exercise 15: Rain\n",
    "\n",
    "Ask the user repeatedly for a city name and rainfall. \n",
    "\n",
    "If the city name is blank, then stop asking, and print\n",
    "all cities and rainfall.\n",
    "\n",
    "Otherwise, ask for rainfall and add the new amount \n",
    "to any previous amount (if any) for that city."
   ]
  },
  {
   "cell_type": "code",
   "execution_count": 5,
   "metadata": {},
   "outputs": [],
   "source": [
    "def get_rainfall():\n",
    "    rainfall = {}\n",
    "    \n",
    "    while True:\n",
    "        city_name = input(\"Enter city name: \").strip()\n",
    "        \n",
    "        if not city_name:\n",
    "            break\n",
    "            \n",
    "        mm_rain = input(\"Enter mm rain: \")\n",
    "        rainfall[city_name] = rainfall.get(city_name, 0) + int(mm_rain)\n",
    "\n",
    "    for key, value in rainfall.items():\n",
    "        print(f'{key}: {value}')"
   ]
  },
  {
   "cell_type": "code",
   "execution_count": 6,
   "metadata": {},
   "outputs": [
    {
     "name": "stdout",
     "output_type": "stream",
     "text": [
      "Enter city name: New York\n",
      "Enter mm rain: 5\n",
      "Enter city name: Chicago\n",
      "Enter mm rain: 6\n",
      "Enter city name: New York\n",
      "Enter mm rain: 7\n",
      "Enter city name: \n",
      "New York: 12\n",
      "Chicago: 6\n"
     ]
    }
   ],
   "source": [
    "get_rainfall()"
   ]
  },
  {
   "cell_type": "markdown",
   "metadata": {},
   "source": [
    "# Exercise 16: Dictdiff\n",
    "\n",
    "Write a function, `dictdiff`, that accepts two dicts as arguments.\n",
    "\n",
    "It returns a dict describing the differences between the two arguments.\n",
    "\n",
    "Each key-value pair in the returned dict represents a difference. Each\n",
    "difference consists of a key and a two-element list, indicating the\n",
    "values from the two input dicts.  If a key exists in one dict but not\n",
    "another, then the corresponding value will be `None`.\n"
   ]
  },
  {
   "cell_type": "code",
   "execution_count": 8,
   "metadata": {},
   "outputs": [
    {
     "name": "stdout",
     "output_type": "stream",
     "text": [
      "{'c': [3, None], 'd': [None, 4]}\n",
      "{'b': [2, 3], 'd': [4, 5]}\n"
     ]
    }
   ],
   "source": [
    "d1 = {'a':1, 'b':2, 'c':3}\n",
    "d2 = {'a':1, 'b':2, 'd':4}\n",
    "d3 = {'a':1, 'b':3, 'd':5}\n",
    "\n",
    "def dictdiff(first, second):\n",
    "    output = {}\n",
    "    all_keys = first.keys() | second.keys()\n",
    "    \n",
    "    for key in all_keys:\n",
    "        if first.get(key) != second.get(key):\n",
    "            output[key] = [first.get(key), second.get(key)]\n",
    "    \n",
    "    return output\n",
    "\n",
    "\n",
    "print(dictdiff(d1, d2))\n",
    "# {'c':[3, None], 'd':[None, 4]}\n",
    "\n",
    "print(dictdiff(d2, d3))\n",
    "# {'b':[2,3], 'd':[4,5]}"
   ]
  },
  {
   "cell_type": "markdown",
   "metadata": {},
   "source": [
    "# Exercise 17: Different numbers\n",
    "\n",
    "Write a function that takes a list of numbers as input. Return\n",
    "an integer, the count of different numbers in that input list."
   ]
  },
  {
   "cell_type": "code",
   "execution_count": 11,
   "metadata": {},
   "outputs": [
    {
     "name": "stdout",
     "output_type": "stream",
     "text": [
      "3\n",
      "3\n"
     ]
    }
   ],
   "source": [
    "def how_many_different_numbers(numbers):\n",
    "    return len(set(numbers))\n",
    "\n",
    "print(how_many_different_numbers([10, 20, 30]))\n",
    "print(how_many_different_numbers([10, 20, 30, 10, 20, 30]))"
   ]
  },
  {
   "cell_type": "code",
   "execution_count": null,
   "metadata": {},
   "outputs": [],
   "source": []
  }
 ],
 "metadata": {
  "kernelspec": {
   "display_name": "Python 3",
   "language": "python",
   "name": "python3"
  },
  "language_info": {
   "codemirror_mode": {
    "name": "ipython",
    "version": 3
   },
   "file_extension": ".py",
   "mimetype": "text/x-python",
   "name": "python",
   "nbconvert_exporter": "python",
   "pygments_lexer": "ipython3",
   "version": "3.8.3"
  }
 },
 "nbformat": 4,
 "nbformat_minor": 2
}
