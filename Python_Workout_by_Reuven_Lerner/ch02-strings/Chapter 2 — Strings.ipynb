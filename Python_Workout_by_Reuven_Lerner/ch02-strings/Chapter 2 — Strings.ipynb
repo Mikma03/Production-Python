{
 "cells": [
  {
   "cell_type": "markdown",
   "metadata": {},
   "source": [
    "# Exercise 5: Pig Latin\n",
    "\n",
    "Write a function, pig_latin, that takes a string argument.\n",
    "\n",
    "It returns the word, translated into Pig Latin."
   ]
  },
  {
   "cell_type": "code",
   "execution_count": 8,
   "metadata": {},
   "outputs": [
    {
     "name": "stdout",
     "output_type": "stream",
     "text": [
      "octopusway\n",
      "omputercay\n"
     ]
    }
   ],
   "source": [
    "def pig_latin(word):\n",
    "    if word[0] in 'aeiou':\n",
    "        return word + 'way'\n",
    "    else:\n",
    "        return word[1:] + word[0] + 'ay'\n",
    "    \n",
    "print(pig_latin('octopus'))\n",
    "print(pig_latin('computer'))\n",
    "    "
   ]
  },
  {
   "cell_type": "code",
   "execution_count": null,
   "metadata": {},
   "outputs": [],
   "source": [
    "# word \n",
    "\n",
    "# if the word starts with a vowel (a, e, i, o, or u)\n",
    "# then we add \"way\" to the word\n",
    "\n",
    "# octopus -> octopusway\n",
    "# elephant -> elephantway\n",
    "# umbrella -> umbrellaway\n",
    "\n",
    "# in other cases, we take the first letter and push\n",
    "# it to the end of the word, and then add \"ay\"\n",
    "\n",
    "# computer -> omputercay\n",
    "# table -> abletay\n",
    "# tree -> reetay\n",
    "# papaya -> apayapay\n",
    "\n"
   ]
  },
  {
   "cell_type": "markdown",
   "metadata": {},
   "source": [
    "# Exercise 6: Pig Latin sentence\n",
    "\n",
    "Write a function, pl_sentence, that takes a string\n",
    "argument. This string should be treated as a sentence\n",
    "(without capitals, and without punctuation).\n",
    "\n",
    "The function should return a string in which each word\n",
    "has been translated into Pig Latin."
   ]
  },
  {
   "cell_type": "code",
   "execution_count": 14,
   "metadata": {},
   "outputs": [
    {
     "name": "stdout",
     "output_type": "stream",
     "text": [
      "histay isway away esttay\n"
     ]
    }
   ],
   "source": [
    "def pl_sentence(sentence):\n",
    "    output = []\n",
    "    for word in sentence.split():\n",
    "        if word[0] in 'aeiou':\n",
    "            output.append(word + 'way')\n",
    "        else:\n",
    "            output.append(word[1:] + word[0] + 'ay')\n",
    "    return ' '.join(output)\n",
    "    \n",
    "print(pl_sentence('this is a test'))\n",
    "    "
   ]
  },
  {
   "cell_type": "code",
   "execution_count": 10,
   "metadata": {},
   "outputs": [
    {
     "data": {
      "text/plain": [
       "['this', 'is', 'a', 'test']"
      ]
     },
     "execution_count": 10,
     "metadata": {},
     "output_type": "execute_result"
    }
   ],
   "source": [
    "sentence = 'this is a test'\n",
    "\n",
    "sentence.split(' ')"
   ]
  },
  {
   "cell_type": "code",
   "execution_count": 11,
   "metadata": {},
   "outputs": [
    {
     "data": {
      "text/plain": [
       "['this', 'is', 'a', 'test']"
      ]
     },
     "execution_count": 11,
     "metadata": {},
     "output_type": "execute_result"
    }
   ],
   "source": [
    "sentence.split()"
   ]
  },
  {
   "cell_type": "code",
   "execution_count": null,
   "metadata": {},
   "outputs": [],
   "source": []
  },
  {
   "cell_type": "markdown",
   "metadata": {},
   "source": [
    "# Exercise 7: Ubbi dubbi\n",
    "\n",
    "Ask the user to enter a word,\n",
    "and return the word's translation into Ubbi Dubbi."
   ]
  },
  {
   "cell_type": "code",
   "execution_count": 19,
   "metadata": {},
   "outputs": [],
   "source": [
    "# 'hello' -> 'hubellubo'\n",
    "\n",
    "def ubbi_dubbi(word):\n",
    "    output = ''\n",
    "    for one_letter in word:\n",
    "        if one_letter in 'aeiou':\n",
    "            output += f'ub{one_letter}'\n",
    "        else:\n",
    "            output += one_letter\n",
    "    return output"
   ]
  },
  {
   "cell_type": "code",
   "execution_count": 20,
   "metadata": {},
   "outputs": [
    {
     "data": {
      "text/plain": [
       "'hubellubo'"
      ]
     },
     "execution_count": 20,
     "metadata": {},
     "output_type": "execute_result"
    }
   ],
   "source": [
    "ubbi_dubbi('hello')"
   ]
  },
  {
   "cell_type": "code",
   "execution_count": null,
   "metadata": {},
   "outputs": [],
   "source": []
  },
  {
   "cell_type": "markdown",
   "metadata": {},
   "source": [
    "# Exercise 8: Sort string\n",
    "\n",
    "Write a function, strsort.\n",
    "The function takes a string as input,\n",
    "and returns a string with its characters sorted."
   ]
  },
  {
   "cell_type": "code",
   "execution_count": 23,
   "metadata": {},
   "outputs": [
    {
     "name": "stdout",
     "output_type": "stream",
     "text": [
      "abc\n"
     ]
    }
   ],
   "source": [
    "def strsort(s):\n",
    "    return ''.join(sorted(s))\n",
    "\n",
    "print(strsort('cba'))\n"
   ]
  },
  {
   "cell_type": "code",
   "execution_count": 24,
   "metadata": {},
   "outputs": [
    {
     "name": "stdout",
     "output_type": "stream",
     "text": [
      "ACEbdf\n"
     ]
    }
   ],
   "source": [
    "print(strsort('AbCdEf'))"
   ]
  },
  {
   "cell_type": "code",
   "execution_count": null,
   "metadata": {},
   "outputs": [],
   "source": []
  }
 ],
 "metadata": {
  "kernelspec": {
   "display_name": "Python 3",
   "language": "python",
   "name": "python3"
  },
  "language_info": {
   "codemirror_mode": {
    "name": "ipython",
    "version": 3
   },
   "file_extension": ".py",
   "mimetype": "text/x-python",
   "name": "python",
   "nbconvert_exporter": "python",
   "pygments_lexer": "ipython3",
   "version": "3.7.7"
  }
 },
 "nbformat": 4,
 "nbformat_minor": 2
}
