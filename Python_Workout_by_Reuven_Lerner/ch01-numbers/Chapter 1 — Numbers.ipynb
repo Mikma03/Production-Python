{
 "cells": [
  {
   "cell_type": "markdown",
   "metadata": {},
   "source": [
    "# Exercise 1\n",
    "\n",
    "Generate a random integer from 1 to 100.\n",
    "\n",
    "Ask the user repeatedly to guess the number.\n",
    "Until they guess correctly, tell them to guess higher or lower."
   ]
  },
  {
   "cell_type": "code",
   "execution_count": 2,
   "metadata": {},
   "outputs": [
    {
     "name": "stdout",
     "output_type": "stream",
     "text": [
      "Shhh, the number to be guessed is 72\n",
      "Enter a guess: 100\n",
      "100 is too high; try again\n",
      "Enter a guess: 5\n",
      "5 is too low; try again\n",
      "Enter a guess: 72\n",
      "You got it right!\n"
     ]
    }
   ],
   "source": [
    "import random\n",
    "\n",
    "number = random.randint(1, 100)\n",
    "print(f'Shhh, the number to be guessed is {number}')\n",
    "\n",
    "while True:\n",
    "    guess = int(input(\"Enter a guess: \"))   \n",
    "    \n",
    "    if guess == number:\n",
    "        print(f'You got it right!')\n",
    "        break\n",
    "        \n",
    "    elif guess < number:\n",
    "        print(f'{guess} is too low; try again')\n",
    "        \n",
    "    else:\n",
    "        print(f'{guess} is too high; try again')\n",
    "        \n",
    "        "
   ]
  },
  {
   "cell_type": "code",
   "execution_count": null,
   "metadata": {},
   "outputs": [],
   "source": []
  },
  {
   "cell_type": "markdown",
   "metadata": {},
   "source": [
    "# Exercise 2: Summing numbers\n",
    "\n",
    "Define \"mysum\".\n",
    "Accepts any number of numeric arguments as inputs.\n",
    "Returns the sum of those numbers.\n",
    "If invoked without any arguments, returns 0."
   ]
  },
  {
   "cell_type": "code",
   "execution_count": 3,
   "metadata": {},
   "outputs": [
    {
     "name": "stdout",
     "output_type": "stream",
     "text": [
      "6\n",
      "150\n"
     ]
    }
   ],
   "source": [
    "def mysum(*args):\n",
    "    total = 0\n",
    "    for one_number in args:\n",
    "        total += one_number\n",
    "    return total\n",
    "\n",
    "print(mysum(1,2,3))  # 6\n",
    "\n",
    "print(mysum(10, 20, 30, 40, 50))  # 150"
   ]
  },
  {
   "cell_type": "code",
   "execution_count": 4,
   "metadata": {},
   "outputs": [
    {
     "name": "stdout",
     "output_type": "stream",
     "text": [
      "8.2\n"
     ]
    }
   ],
   "source": [
    "print(mysum(1.5, 2.8, 3.9))"
   ]
  },
  {
   "cell_type": "markdown",
   "metadata": {},
   "source": [
    "# Exercise 3: Run timing\n",
    "\n",
    "Define run_timing.\n",
    "Asks the user repeatedly for numeric input.\n",
    "Prints the average time and number of runs."
   ]
  },
  {
   "cell_type": "code",
   "execution_count": 5,
   "metadata": {},
   "outputs": [],
   "source": [
    "def run_timing():\n",
    "    number_of_runs = 0\n",
    "    total_time = 0\n",
    "    \n",
    "    while True:\n",
    "        timing = input(\"Enter 10k run time: \").strip()\n",
    "        \n",
    "        if not timing:\n",
    "            break\n",
    "            \n",
    "        number_of_runs += 1\n",
    "        total_time += float(timing)\n",
    "        \n",
    "    print(f'Average time per 10k run is {total_time/number_of_runs}')\n",
    "            \n",
    "            "
   ]
  },
  {
   "cell_type": "code",
   "execution_count": 6,
   "metadata": {},
   "outputs": [
    {
     "name": "stdout",
     "output_type": "stream",
     "text": [
      "Enter 10k run time: 30\n",
      "Enter 10k run time: 45\n",
      "Enter 10k run time: 60\n",
      "Enter 10k run time: 90\n",
      "Enter 10k run time: 45\n",
      "Enter 10k run time: \n",
      "Average time per 10k run is 54.0\n"
     ]
    }
   ],
   "source": [
    "run_timing()"
   ]
  },
  {
   "cell_type": "markdown",
   "metadata": {},
   "source": [
    "# Exercise 4: Hex output\n",
    "\n",
    "Define hex_output.\n",
    "Ask the user to enter a valid hexadecimal\n",
    "number (as a string), and print the decimal equivalent."
   ]
  },
  {
   "cell_type": "code",
   "execution_count": 36,
   "metadata": {},
   "outputs": [
    {
     "name": "stdout",
     "output_type": "stream",
     "text": [
      "255\n"
     ]
    }
   ],
   "source": [
    "def hex_output(hexnum):\n",
    "    total = 0\n",
    "    for index, one_digit in enumerate(reversed(hexnum)):\n",
    "#         print(f'{one_digit} * 16 ** {index}')\n",
    "        total += int(one_digit, 16) * 16 ** index\n",
    "    print(total)\n",
    "        \n",
    "        \n",
    "hex_output('ff')\n",
    "    \n"
   ]
  },
  {
   "cell_type": "code",
   "execution_count": 25,
   "metadata": {},
   "outputs": [
    {
     "data": {
      "text/plain": [
       "4951"
      ]
     },
     "execution_count": 25,
     "metadata": {},
     "output_type": "execute_result"
    }
   ],
   "source": [
    "0x1357"
   ]
  },
  {
   "cell_type": "code",
   "execution_count": 26,
   "metadata": {},
   "outputs": [
    {
     "data": {
      "text/plain": [
       "4951"
      ]
     },
     "execution_count": 26,
     "metadata": {},
     "output_type": "execute_result"
    }
   ],
   "source": [
    "# 4951  -- base 10\n",
    "\n",
    "1 * 10**0   + 5 * 10**1  + 9 * 10**2  + 4 * 10**3"
   ]
  },
  {
   "cell_type": "code",
   "execution_count": 27,
   "metadata": {},
   "outputs": [
    {
     "data": {
      "text/plain": [
       "4951"
      ]
     },
     "execution_count": 27,
     "metadata": {},
     "output_type": "execute_result"
    }
   ],
   "source": [
    "# 0x1357  -- base 16\n",
    "\n",
    "7 * 16**0  + 5 * 16**1  + 3 * 16**2  + 1 * 16**3"
   ]
  },
  {
   "cell_type": "code",
   "execution_count": 28,
   "metadata": {},
   "outputs": [
    {
     "data": {
      "text/plain": [
       "4951"
      ]
     },
     "execution_count": 28,
     "metadata": {},
     "output_type": "execute_result"
    }
   ],
   "source": [
    "0x1357"
   ]
  },
  {
   "cell_type": "code",
   "execution_count": null,
   "metadata": {},
   "outputs": [],
   "source": []
  }
 ],
 "metadata": {
  "kernelspec": {
   "display_name": "Python 3",
   "language": "python",
   "name": "python3"
  },
  "language_info": {
   "codemirror_mode": {
    "name": "ipython",
    "version": 3
   },
   "file_extension": ".py",
   "mimetype": "text/x-python",
   "name": "python",
   "nbconvert_exporter": "python",
   "pygments_lexer": "ipython3",
   "version": "3.7.7"
  }
 },
 "nbformat": 4,
 "nbformat_minor": 2
}
