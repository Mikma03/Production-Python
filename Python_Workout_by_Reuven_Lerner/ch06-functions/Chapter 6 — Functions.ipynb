{
 "cells": [
  {
   "cell_type": "markdown",
   "metadata": {},
   "source": [
    "# Exercise 25: xml\n",
    "\n",
    "Write a function, `myxml`, that takes one mandatory argument (the name of a tag), one optional argument (the text inside of that tag) and any number of keyword arguments that'll be turned into attributes in the opening tag.\n",
    "\n",
    "Examples:\n",
    "\n",
    "    myxml('foo') # <foo></foo>`\n",
    "\n",
    "    myxml('foo', 'bar') # <foo>bar</foo>`\n",
    "\n",
    "    myxml('foo', 'bar', a=1, b=2, c=3) # <foo a=\"1\" b=\"2\" c=\"3\">bar</foo>\n"
   ]
  },
  {
   "cell_type": "code",
   "execution_count": 8,
   "metadata": {},
   "outputs": [
    {
     "name": "stdout",
     "output_type": "stream",
     "text": [
      "<foo></foo>\n",
      "<foo>text</foo>\n",
      "<foo a=\"1\" b=\"2\" c=\"3\">bar</foo>\n"
     ]
    }
   ],
   "source": [
    "def myxml(tagname, content='', **kwargs):\n",
    "    attributes = ''.join(f' {key}=\"{value}\"'\n",
    "                          for key, value in kwargs.items())\n",
    "    return f'<{tagname}{attributes}>{content}</{tagname}>'\n",
    "\n",
    "print(myxml('foo'))\n",
    "print(myxml('foo', 'text'))\n",
    "print(myxml('foo', 'bar', a=1, b=2, c=3) )"
   ]
  },
  {
   "cell_type": "markdown",
   "metadata": {},
   "source": [
    "# Exercise 26: Prefix notation calculator\n",
    "\n",
    "Write a function, `calc`, that takes a string with a two-argument\n",
    "math expression in prefix notation, and with whitespace separating the operator\n",
    "and numbers. The return value is the result from invoking this operation.\n"
   ]
  },
  {
   "cell_type": "code",
   "execution_count": 6,
   "metadata": {},
   "outputs": [],
   "source": [
    "import operator\n",
    "\n",
    "def calc(to_solve):\n",
    "    op, first_s, second_s = to_solve.split()\n",
    "    first = int(first_s)\n",
    "    second = int(second_s)\n",
    "    \n",
    "    operations = {'+': operator.add,\n",
    "                 '-': operator.sub,\n",
    "                 '*': operator.mul,\n",
    "                 '/': operator.truediv,\n",
    "                 '**': operator.pow,\n",
    "                 '%':operator.mod}\n",
    "    \n",
    "    return operations[op](first, second)\n",
    "    "
   ]
  },
  {
   "cell_type": "code",
   "execution_count": 7,
   "metadata": {},
   "outputs": [
    {
     "data": {
      "text/plain": [
       "13"
      ]
     },
     "execution_count": 7,
     "metadata": {},
     "output_type": "execute_result"
    }
   ],
   "source": [
    "calc('+ 10 3')"
   ]
  },
  {
   "cell_type": "code",
   "execution_count": 8,
   "metadata": {},
   "outputs": [
    {
     "data": {
      "text/plain": [
       "16"
      ]
     },
     "execution_count": 8,
     "metadata": {},
     "output_type": "execute_result"
    }
   ],
   "source": [
    "calc('- 20 4')"
   ]
  },
  {
   "cell_type": "code",
   "execution_count": 9,
   "metadata": {},
   "outputs": [
    {
     "data": {
      "text/plain": [
       "3.3333333333333335"
      ]
     },
     "execution_count": 9,
     "metadata": {},
     "output_type": "execute_result"
    }
   ],
   "source": [
    "calc('/ 10 3')"
   ]
  },
  {
   "cell_type": "markdown",
   "metadata": {},
   "source": [
    "# Exercise 27: Make password generator\n",
    "\n",
    "This function takes a string as input.\n",
    "\n",
    "It returns a function that, when invoked with an\n",
    "integer argument, returns a string containing\n",
    "a random selection from \"characters\", of length\n",
    "\"length\".\n"
   ]
  },
  {
   "cell_type": "code",
   "execution_count": 10,
   "metadata": {},
   "outputs": [],
   "source": [
    "import random\n",
    "\n",
    "def create_password_generator(characters):\n",
    "    def create_password(length):\n",
    "        output = []\n",
    "\n",
    "        for i in range(length):\n",
    "            output.append(random.choice(characters))\n",
    "\n",
    "        return ''.join(output)\n",
    "\n",
    "    return create_password\n",
    "    \n",
    "        "
   ]
  },
  {
   "cell_type": "code",
   "execution_count": 11,
   "metadata": {},
   "outputs": [],
   "source": [
    "f = create_password_generator('abcdefghij!@#$%')"
   ]
  },
  {
   "cell_type": "code",
   "execution_count": 12,
   "metadata": {},
   "outputs": [
    {
     "ename": "NameError",
     "evalue": "name 'create_password' is not defined",
     "output_type": "error",
     "traceback": [
      "\u001b[0;31m---------------------------------------------------------------------------\u001b[0m",
      "\u001b[0;31mNameError\u001b[0m                                 Traceback (most recent call last)",
      "\u001b[0;32m<ipython-input-12-100913cf0b24>\u001b[0m in \u001b[0;36m<module>\u001b[0;34m\u001b[0m\n\u001b[0;32m----> 1\u001b[0;31m \u001b[0mcreate_password\u001b[0m\u001b[0;34m\u001b[0m\u001b[0;34m\u001b[0m\u001b[0m\n\u001b[0m",
      "\u001b[0;31mNameError\u001b[0m: name 'create_password' is not defined"
     ]
    }
   ],
   "source": [
    "create_password"
   ]
  },
  {
   "cell_type": "code",
   "execution_count": 13,
   "metadata": {},
   "outputs": [
    {
     "data": {
      "text/plain": [
       "'$h#bbcj%gf'"
      ]
     },
     "execution_count": 13,
     "metadata": {},
     "output_type": "execute_result"
    }
   ],
   "source": [
    "f(10)"
   ]
  },
  {
   "cell_type": "code",
   "execution_count": 14,
   "metadata": {},
   "outputs": [
    {
     "data": {
      "text/plain": [
       "'%d#%di$#da'"
      ]
     },
     "execution_count": 14,
     "metadata": {},
     "output_type": "execute_result"
    }
   ],
   "source": [
    "f(10)"
   ]
  },
  {
   "cell_type": "markdown",
   "metadata": {},
   "source": []
  }
 ],
 "metadata": {
  "kernelspec": {
   "display_name": "Python 3",
   "language": "python",
   "name": "python3"
  },
  "language_info": {
   "codemirror_mode": {
    "name": "ipython",
    "version": 3
   },
   "file_extension": ".py",
   "mimetype": "text/x-python",
   "name": "python",
   "nbconvert_exporter": "python",
   "pygments_lexer": "ipython3",
   "version": "3.8.3"
  }
 },
 "nbformat": 4,
 "nbformat_minor": 4
}
