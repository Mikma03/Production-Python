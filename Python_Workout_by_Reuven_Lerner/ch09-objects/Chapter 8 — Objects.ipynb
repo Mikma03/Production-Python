{
 "cells": [
  {
   "cell_type": "markdown",
   "metadata": {},
   "source": [
    "# Exercise 38: Ice cream scoop\n",
    "\n",
    "Class representing a single scoop of ice cream.\n",
    "The sole attribute is \"flavor\", a string."
   ]
  },
  {
   "cell_type": "code",
   "execution_count": 1,
   "metadata": {},
   "outputs": [
    {
     "name": "stdout",
     "output_type": "stream",
     "text": [
      "chocolate\n",
      "vanilla\n",
      "persimmon\n"
     ]
    }
   ],
   "source": [
    "class Scoop:\n",
    "    def __init__(self, flavor):\n",
    "        self.flavor = flavor\n",
    "        \n",
    "s1 = Scoop('chocolate')\n",
    "s2 = Scoop('vanilla')\n",
    "s3 = Scoop('persimmon')\n",
    "\n",
    "for one_scoop in [s1, s2, s3]:\n",
    "    print(one_scoop.flavorc)"
   ]
  },
  {
   "cell_type": "markdown",
   "metadata": {},
   "source": [
    "# Exercise 39: Ice cream bowl\n",
    "\n",
    "Class representing a bowl of ice cream.\n",
    "\n",
    "The \"scoops\" attribute is a list, containing scoops.\n",
    "You can add one or more scoops with the \"add_scoops\" method."
   ]
  },
  {
   "cell_type": "code",
   "execution_count": 5,
   "metadata": {
    "scrolled": false
   },
   "outputs": [
    {
     "name": "stdout",
     "output_type": "stream",
     "text": [
      "chocolate\n",
      "vanilla\n",
      "persimmon\n"
     ]
    }
   ],
   "source": [
    "class Bowl:\n",
    "    def __init__(self):\n",
    "        self.scoops = []\n",
    "    def add_scoops(self, *new_scoops):\n",
    "        for one_scoop in new_scoops:\n",
    "            self.scoops.append(one_scoop)\n",
    "    def __repr__(self):\n",
    "        return '\\n'.join(one_scoop.flavor\n",
    "                          for one_scoop in self.scoops)\n",
    "            \n",
    "\n",
    "\n",
    "b = Bowl()\n",
    "b.add_scoops(s1, s2)\n",
    "b.add_scoops(s3)\n",
    "print(b)\n"
   ]
  },
  {
   "cell_type": "markdown",
   "metadata": {},
   "source": [
    "# Exercise 40: Bowl with limits\n",
    "\n",
    "Class representing a bowl of ice cream.\n",
    "\n",
    "The class attribute max_scoops indicates the\n",
    "maximum number of scoops that the bowl can contain,\n",
    "assuming that the \"add_scoops\" method is used\n",
    "to add them.\n",
    "\n",
    "The \"scoops\" attribute is a list, containing scoops.\n",
    "You can add one or more scoops with the \"add_scoops\" method."
   ]
  },
  {
   "cell_type": "code",
   "execution_count": 8,
   "metadata": {},
   "outputs": [
    {
     "name": "stdout",
     "output_type": "stream",
     "text": [
      "chocolate\n",
      "vanilla\n",
      "persimmon\n"
     ]
    }
   ],
   "source": [
    "class Bowl:\n",
    "    max_scoops = 3\n",
    "    \n",
    "    def __init__(self):\n",
    "        self.scoops = []\n",
    "    def add_scoops(self, *new_scoops):\n",
    "        for one_scoop in new_scoops:\n",
    "            if len(self.scoops) >= Bowl.max_scoops:\n",
    "                break\n",
    "            self.scoops.append(one_scoop)\n",
    "    def __repr__(self):\n",
    "        return '\\n'.join(one_scoop.flavor\n",
    "                          for one_scoop in self.scoops)\n",
    "            \n",
    "\n",
    "s4 = Scoop('flavor 4')\n",
    "s5 = Scoop('flavor 5')\n",
    "\n",
    "b = Bowl()\n",
    "b.add_scoops(s1, s2)\n",
    "b.add_scoops(s3, s4)\n",
    "b.add_scoops(s5)\n",
    "print(b)\n"
   ]
  },
  {
   "cell_type": "markdown",
   "metadata": {},
   "source": [
    "# Exercise 41: Big bowl\n",
    "\n",
    "Class representing a bowl of ice cream, which can take up to 5 scoops."
   ]
  },
  {
   "cell_type": "code",
   "execution_count": 15,
   "metadata": {},
   "outputs": [
    {
     "name": "stdout",
     "output_type": "stream",
     "text": [
      "**** Bowl\n",
      "chocolate\n",
      "vanilla\n",
      "persimmon\n",
      "**** BigBowl\n",
      "chocolate\n",
      "vanilla\n",
      "persimmon\n",
      "flavor 4\n",
      "flavor 5\n"
     ]
    }
   ],
   "source": [
    "class Bowl:\n",
    "    max_scoops = 3\n",
    "    \n",
    "    def __init__(self):\n",
    "        self.scoops = []\n",
    "    def add_scoops(self, *new_scoops):\n",
    "        for one_scoop in new_scoops:\n",
    "            if len(self.scoops) >= self.max_scoops:\n",
    "                break\n",
    "            self.scoops.append(one_scoop)\n",
    "    def __repr__(self):\n",
    "        return '\\n'.join(one_scoop.flavor\n",
    "                          for one_scoop in self.scoops)\n",
    "            \n",
    "\n",
    "s4 = Scoop('flavor 4')\n",
    "s5 = Scoop('flavor 5')\n",
    "s6 = Scoop('flavor 6')\n",
    "\n",
    "print(\"**** Bowl\")\n",
    "b = Bowl()\n",
    "b.add_scoops(s1, s2)\n",
    "b.add_scoops(s3, s4)\n",
    "b.add_scoops(s5)\n",
    "print(b)\n",
    "\n",
    "\n",
    "class BigBowl(Bowl):\n",
    "    max_scoops = 5\n",
    "\n",
    "\n",
    "print(\"**** BigBowl\")\n",
    "bb = BigBowl()\n",
    "bb.add_scoops(s1, s2)\n",
    "bb.add_scoops(s3, s4)\n",
    "bb.add_scoops(s5)\n",
    "bb.add_scoops(s6)\n",
    "print(bb)\n",
    "\n"
   ]
  },
  {
   "cell_type": "markdown",
   "metadata": {},
   "source": [
    "# Exercise 42: Flexible Dict\n",
    "\n",
    "Dict that lets you use a string or int somewhat interchangeably.\n"
   ]
  },
  {
   "cell_type": "code",
   "execution_count": 18,
   "metadata": {},
   "outputs": [
    {
     "name": "stdout",
     "output_type": "stream",
     "text": [
      "100\n",
      "500\n",
      "500\n",
      "100\n"
     ]
    }
   ],
   "source": [
    "class FlexibleDict(dict):\n",
    "    def __getitem__(self, key):\n",
    "        try:\n",
    "            if key in self:\n",
    "                pass\n",
    "\n",
    "            elif str(key) in self:\n",
    "                key = str(key)\n",
    "\n",
    "            elif int(key) in self:\n",
    "                key = int(key)\n",
    "        except ValueError:\n",
    "            pass\n",
    "            \n",
    "        return dict.__getitem__(self, key)\n",
    "\n",
    "        \n",
    "\n",
    "fd = FlexibleDict()\n",
    "\n",
    "fd['a'] = 100\n",
    "print(fd['a'])  # get 100\n",
    "\n",
    "fd[5] = 500\n",
    "print(fd[5])  # get 500\n",
    "\n",
    "print(fd['5'])  # get 500\n",
    "\n",
    "fd['1'] = 100\n",
    "print(fd[1])  # get 100"
   ]
  },
  {
   "cell_type": "markdown",
   "metadata": {},
   "source": [
    "# Exercise 43: Animals\n",
    "\n",
    "Create 4 classes (Wolf, Sheep, Snake, and Parrot) such that each has three attributes (species, color, and number_of_legs) and with a printed representation that shows these."
   ]
  },
  {
   "cell_type": "code",
   "execution_count": 4,
   "metadata": {},
   "outputs": [
    {
     "name": "stdout",
     "output_type": "stream",
     "text": [
      "black wolf, 4 legs\n",
      "black sheep, 4 legs\n",
      "white sheep, 4 legs\n",
      "brown snake, 0 legs\n",
      "green parrot, 2 legs\n"
     ]
    }
   ],
   "source": [
    "class Animal:\n",
    "    def __init__(self, color, number_of_legs):\n",
    "        self.color = color\n",
    "        self.number_of_legs = number_of_legs\n",
    "        self.species = self.__class__.__name__.lower()\n",
    "\n",
    "    def __repr__(self):\n",
    "        return f'{self.color} {self.species}, {self.number_of_legs} legs'\n",
    "\n",
    "class Wolf(Animal):\n",
    "    def __init__(self, color):\n",
    "        super().__init__(color, 4)\n",
    "        \n",
    "class Sheep(Animal):\n",
    "    def __init__(self, color):\n",
    "        super().__init__(color, 4)\n",
    "        \n",
    "class Snake(Animal):\n",
    "    def __init__(self, color):\n",
    "        super().__init__(color, 0)\n",
    "        \n",
    "class Parrot(Animal):\n",
    "    def __init__(self, color):\n",
    "        super().__init__(color, 2)\n",
    "        \n",
    "\n",
    "wolf = Wolf('black')\n",
    "sheep1 = Sheep('black')\n",
    "sheep2 = Sheep('white')\n",
    "snake = Snake('brown')\n",
    "parrot = Parrot('green')\n",
    "\n",
    "print(wolf)\n",
    "print(sheep1)\n",
    "print(sheep2)\n",
    "print(snake)\n",
    "print(parrot)"
   ]
  },
  {
   "cell_type": "markdown",
   "metadata": {},
   "source": [
    "# Exercise 44: Cages\n",
    "\n",
    "Create a Cage class with an ID number, into which we can put our animals."
   ]
  },
  {
   "cell_type": "code",
   "execution_count": 7,
   "metadata": {
    "scrolled": true
   },
   "outputs": [
    {
     "name": "stdout",
     "output_type": "stream",
     "text": [
      "Cage 1\n",
      "\tblack wolf, 4 legs\n",
      "\tblack sheep, 4 legs\n",
      "\twhite sheep, 4 legs\n",
      "Cage 2\n",
      "\tbrown snake, 0 legs\n",
      "\tgreen parrot, 2 legs\n"
     ]
    }
   ],
   "source": [
    "class Cage:\n",
    "    def __init__(self, id_number):\n",
    "        self.id_number = id_number\n",
    "        self.animals = []\n",
    "        \n",
    "    def add_animals(self, *args):\n",
    "        for one_animal in args:\n",
    "            self.animals.append(one_animal)\n",
    "            \n",
    "    def __repr__(self):\n",
    "        output = f'Cage {self.id_number}\\n'\n",
    "        output += '\\n'.join(f'\\t{one_animal}'\n",
    "                            for one_animal in self.animals)\n",
    "        return output\n",
    "\n",
    "\n",
    "c1 = Cage(1)\n",
    "c1.add_animals(wolf, sheep1, sheep2)\n",
    "print(c1)\n",
    "\n",
    "c2 = Cage(2)\n",
    "c2.add_animals(snake, parrot)\n",
    "print(c2)"
   ]
  },
  {
   "cell_type": "markdown",
   "metadata": {},
   "source": [
    "# Exercise 44: Zoo\n",
    "\n",
    "Add cages to the zoo, print them out, and query our zoo for (1) animals by color and (2) number of legs."
   ]
  },
  {
   "cell_type": "code",
   "execution_count": 15,
   "metadata": {},
   "outputs": [
    {
     "name": "stdout",
     "output_type": "stream",
     "text": [
      "Cage 1\n",
      "\tblack wolf, 4 legs\n",
      "\tblack sheep, 4 legs\n",
      "\twhite sheep, 4 legs\n",
      "Cage 2\n",
      "\tbrown snake, 0 legs\n",
      "\tgreen parrot, 2 legs\n",
      "[green parrot, 2 legs]\n",
      "14\n"
     ]
    }
   ],
   "source": [
    "class Zoo:\n",
    "    def __init__(self):\n",
    "        self.cages = []\n",
    "        \n",
    "    def add_cages(self, *args):\n",
    "        for one_cage in args:\n",
    "            self.cages.append(one_cage)\n",
    "            \n",
    "    def __repr__(self):\n",
    "        return '\\n'.join(str(one_cage)\n",
    "                         for one_cage in self.cages)\n",
    "    \n",
    "    def animals_by_color(self, color):\n",
    "        return [one_animal\n",
    "               for one_cage in self.cages\n",
    "               for one_animal in one_cage.animals\n",
    "               if one_animal.color == color]\n",
    "    \n",
    "    def number_of_legs(self):\n",
    "        return sum([one_animal.number_of_legs\n",
    "               for one_cage in self.cages\n",
    "               for one_animal in one_cage.animals])\n",
    "\n",
    "z = Zoo()\n",
    "z.add_cages(c1, c2)\n",
    "print(z)\n",
    "\n",
    "print(z.animals_by_color('green'))\n",
    "print(z.number_of_legs())"
   ]
  },
  {
   "cell_type": "code",
   "execution_count": null,
   "metadata": {},
   "outputs": [],
   "source": []
  }
 ],
 "metadata": {
  "kernelspec": {
   "display_name": "Python 3",
   "language": "python",
   "name": "python3"
  },
  "language_info": {
   "codemirror_mode": {
    "name": "ipython",
    "version": 3
   },
   "file_extension": ".py",
   "mimetype": "text/x-python",
   "name": "python",
   "nbconvert_exporter": "python",
   "pygments_lexer": "ipython3",
   "version": "3.8.3"
  }
 },
 "nbformat": 4,
 "nbformat_minor": 4
}
